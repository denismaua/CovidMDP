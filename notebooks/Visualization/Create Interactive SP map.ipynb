{
 "cells": [
  {
   "cell_type": "code",
   "execution_count": 1,
   "metadata": {},
   "outputs": [],
   "source": [
    "import os\n",
    "os.chdir('..\\\\..\\\\src\\\\models')"
   ]
  },
  {
   "cell_type": "code",
   "execution_count": 2,
   "metadata": {},
   "outputs": [
    {
     "name": "stdout",
     "output_type": "stream",
     "text": [
      "Loading Graph... Done!\n"
     ]
    }
   ],
   "source": [
    "import simulate_pandemic \n",
    "import numpy as np\n",
    "import pandas as pd\n",
    "import plotly.express as px\n",
    "from tqdm import tqdm\n",
    "from disease_states import state_to_color\n",
    "from pyproj import Transformer\n",
    "\n",
    "\n",
    "import plotly.graph_objects as go\n",
    "import plotly.io as pio\n",
    "pio.renderers.default = \"browser\"  ##offline plot\n",
    "mapbox_access_token = 'pk.eyJ1IjoieWFtYmFuaXMiLCJhIjoiY2thbzFza2t6MXdkNTJ6cWg3emQxMjhmeCJ9.FJqkTcY28Pvhjbu-1XquMg'"
   ]
  },
  {
   "cell_type": "code",
   "execution_count": 3,
   "metadata": {},
   "outputs": [],
   "source": [
    "from policies import policies_restrictions\n",
    "\n",
    "policy_names = list(policies_restrictions.keys())"
   ]
  },
  {
   "cell_type": "code",
   "execution_count": 4,
   "metadata": {},
   "outputs": [
    {
     "data": {
      "text/plain": [
       "['Lockdown',\n",
       " 'Hard Quarantine',\n",
       " 'Medium Quarantine',\n",
       " 'Light Quarantine',\n",
       " 'Social Distancing',\n",
       " 'Unrestricted',\n",
       " 'No_Policy']"
      ]
     },
     "execution_count": 4,
     "metadata": {},
     "output_type": "execute_result"
    }
   ],
   "source": [
    "list(policy_names)"
   ]
  },
  {
   "cell_type": "code",
   "execution_count": 5,
   "metadata": {},
   "outputs": [
    {
     "name": "stderr",
     "output_type": "stream",
     "text": [
      "  1%|▍                                                                                 | 3/499 [00:00<00:23, 21.03it/s]"
     ]
    },
    {
     "name": "stdout",
     "output_type": "stream",
     "text": [
      "{'work': 1, 'school': 1, 'home': 0, 'neighbor': 1}\n"
     ]
    },
    {
     "name": "stderr",
     "output_type": "stream",
     "text": [
      "100%|████████████████████████████████████████████████████████████████████████████████| 499/499 [00:24<00:00, 20.50it/s]\n",
      "  0%|▎                                                                                 | 2/499 [00:00<00:25, 19.28it/s]"
     ]
    },
    {
     "name": "stdout",
     "output_type": "stream",
     "text": [
      "{'work': 0.8, 'school': 1, 'home': 0, 'neighbor': 0.6}\n"
     ]
    },
    {
     "name": "stderr",
     "output_type": "stream",
     "text": [
      "100%|████████████████████████████████████████████████████████████████████████████████| 499/499 [00:25<00:00, 19.37it/s]\n",
      "  0%|▎                                                                                 | 2/499 [00:00<00:25, 19.85it/s]"
     ]
    },
    {
     "name": "stdout",
     "output_type": "stream",
     "text": [
      "{'work': 0.6, 'school': 1, 'home': 0, 'neighbor': 0.4}\n"
     ]
    },
    {
     "name": "stderr",
     "output_type": "stream",
     "text": [
      "100%|████████████████████████████████████████████████████████████████████████████████| 499/499 [00:40<00:00, 12.33it/s]\n",
      "  0%|▎                                                                                 | 2/499 [00:00<00:28, 17.75it/s]"
     ]
    },
    {
     "name": "stdout",
     "output_type": "stream",
     "text": [
      "{'work': 0.4, 'school': 1, 'home': 0, 'neighbor': 0.2}\n"
     ]
    },
    {
     "name": "stderr",
     "output_type": "stream",
     "text": [
      "100%|████████████████████████████████████████████████████████████████████████████████| 499/499 [00:52<00:00,  9.45it/s]\n",
      "  0%|▎                                                                                 | 2/499 [00:00<00:26, 18.91it/s]"
     ]
    },
    {
     "name": "stdout",
     "output_type": "stream",
     "text": [
      "{'work': 0.2, 'school': 0.2, 'home': 0, 'neighbor': 0.2}\n"
     ]
    },
    {
     "name": "stderr",
     "output_type": "stream",
     "text": [
      "100%|████████████████████████████████████████████████████████████████████████████████| 499/499 [01:19<00:00,  6.27it/s]\n",
      "  0%|▎                                                                                 | 2/499 [00:00<00:34, 14.42it/s]"
     ]
    },
    {
     "name": "stdout",
     "output_type": "stream",
     "text": [
      "{'work': 0, 'school': 0, 'home': 0, 'neighbor': 0}\n"
     ]
    },
    {
     "name": "stderr",
     "output_type": "stream",
     "text": [
      "100%|████████████████████████████████████████████████████████████████████████████████| 499/499 [01:12<00:00,  6.88it/s]\n",
      "  0%|▎                                                                                 | 2/499 [00:00<00:30, 16.30it/s]"
     ]
    },
    {
     "name": "stdout",
     "output_type": "stream",
     "text": [
      "{'work': 0, 'school': 0, 'home': 0, 'neighbor': 0}\n"
     ]
    },
    {
     "name": "stderr",
     "output_type": "stream",
     "text": [
      "100%|████████████████████████████████████████████████████████████████████████████████| 499/499 [01:10<00:00,  7.04it/s]\n"
     ]
    }
   ],
   "source": [
    "simulations = {}\n",
    "for p in policy_names:\n",
    "    simulations[p] = simulate_pandemic.main(p)"
   ]
  },
  {
   "cell_type": "code",
   "execution_count": 6,
   "metadata": {},
   "outputs": [],
   "source": [
    "transformer = Transformer.from_crs('epsg:22523', 'epsg:4289')\n",
    "\n",
    "def re_project(x,y):\n",
    "    return transformer.transform(x,y)\n",
    "\n",
    "def simulation_data_to_dataframe(data):\n",
    "    df = pd.DataFrame(np.array(data))\n",
    "\n",
    "    dfs = []\n",
    "    for col in df.columns:\n",
    "        size = len(df)\n",
    "        p_id = size*[col+1]\n",
    "\n",
    "        home_x, home_y = simulate_pandemic.G.nodes[col+1]['home_x'], simulate_pandemic.G.nodes[col+1]['home_y']\n",
    "        home_x, home_y = re_project(home_x, home_y)\n",
    "        home_x, home_y = home_x + np.random.normal(loc=0,scale=.001), home_y + np.random.normal(loc=0,scale=.001)\n",
    "        home_x, home_y = size*[home_x] , size*[home_y]\n",
    "        tmp = np.transpose([df[col], p_id, list(range(0, len(df[col]))), home_x, home_y])\n",
    "\n",
    "        dfs.append(tmp)\n",
    "        \n",
    "    df_ts = pd.DataFrame(np.concatenate(dfs), columns = ['status', 'id', 'day', 'home_x', 'home_y'])\n",
    "    fill = pd.DataFrame([['red', -1, 0, None, None], ['purple', -1, 0, None, None], \n",
    "                         ['orange', -1, 0, None, None], ['gray', -1, 0, None, None]],\n",
    "                        columns = ['status', 'id', 'day', 'home_x', 'home_y'])\n",
    "\n",
    "    df_ts.status = df_ts.status.apply(lambda x: state_to_color[x])\n",
    "    df_ts = pd.concat([df_ts, fill]).reset_index(drop=True)\n",
    "    \n",
    "    return df_ts"
   ]
  },
  {
   "cell_type": "code",
   "execution_count": 7,
   "metadata": {},
   "outputs": [
    {
     "name": "stderr",
     "output_type": "stream",
     "text": [
      "100%|██████████████████████████████████████████████████████████████████████████| 55492/55492 [00:24<00:00, 2276.36it/s]\n",
      "100%|██████████████████████████████████████████████████████████████████████████| 55492/55492 [00:24<00:00, 2268.58it/s]\n",
      "100%|██████████████████████████████████████████████████████████████████████████| 55492/55492 [00:22<00:00, 2471.49it/s]\n",
      "100%|██████████████████████████████████████████████████████████████████████████| 55492/55492 [00:20<00:00, 2687.76it/s]\n",
      "100%|██████████████████████████████████████████████████████████████████████████| 55492/55492 [00:21<00:00, 2538.74it/s]\n",
      "100%|██████████████████████████████████████████████████████████████████████████| 55492/55492 [00:19<00:00, 2815.15it/s]\n",
      "100%|██████████████████████████████████████████████████████████████████████████| 55492/55492 [00:20<00:00, 2732.14it/s]\n"
     ]
    }
   ],
   "source": [
    "dataframes = {}\n",
    "\n",
    "for k,v in tqdm(simulations.items()):\n",
    "    dataframes[k] = simulation_data_to_dataframe(v)\n"
   ]
  },
  {
   "cell_type": "code",
   "execution_count": 8,
   "metadata": {},
   "outputs": [],
   "source": [
    "def plot_map_animation(dfs_dict, sim_name, max_day=300, pop_size = 1000, save=True, plot=False):\n",
    "    df_full = dfs_dict[sim_name]\n",
    "    \n",
    "    sample_ids = np.random.choice(df_full.id, replace=False, size = pop_size)\n",
    "    sample_ids = np.concatenate([sample_ids, [-1]])\n",
    "\n",
    "\n",
    "    df_plot = df_full[(df_full.id.isin(sample_ids)) & (df_full.day <= max_day)]\n",
    "\n",
    "    max_day = int(df_plot.day.max())\n",
    "\n",
    "    data = [go.Scattermapbox(\n",
    "                   lat=df_plot[df_plot.day == 0]['home_x'],\n",
    "                   lon=df_plot[df_plot.day == 0]['home_y'],\n",
    "                   mode='markers',\n",
    "                   marker=dict(size=5, color=df_plot[df_plot.day == 0]['status'])\n",
    "                )\n",
    "            ]\n",
    "\n",
    "    layout = go.Layout(width=800,\n",
    "        autosize=True,\n",
    "        hovermode='closest',\n",
    "        mapbox=dict(accesstoken=mapbox_access_token,\n",
    "                    bearing=0,\n",
    "                    center=dict(lat=-23.5505,\n",
    "                                lon=-46.6333),\n",
    "                    pitch=0,\n",
    "                    zoom=10,\n",
    "                    style='light'\n",
    "                    )\n",
    "                )\n",
    "\n",
    "    frames = [dict(data= [dict(type='scattermapbox',\n",
    "                               lat=df_plot[df_plot.day == day]['home_x'],\n",
    "                               lon=df_plot[df_plot.day == day]['home_y'], mode='markers',\n",
    "                               marker=dict(size=5, color=df_plot[df_plot.day == day]['status']))],\n",
    "                   traces= [0], \n",
    "                   name='day {}'.format(day)       \n",
    "                  )for day  in  range(1, max_day)] \n",
    "\n",
    "    sliders = [dict(steps= [dict(method= 'animate',\n",
    "                               args= [[ 'day {}'.format(day) ],\n",
    "                                      dict(mode= 'immediate',\n",
    "                                      frame= dict( duration=100, redraw= True ),\n",
    "                                               transition=dict( duration= 0)\n",
    "                                              )\n",
    "                                        ],\n",
    "                                label='{:d}'.format(day)\n",
    "                                 ) for day in range(1, max_day)], \n",
    "                    transition= dict(duration= 0 ),\n",
    "                    x=0,#slider starting position  \n",
    "                    y=0, \n",
    "                    currentvalue=dict(font=dict(size=12), \n",
    "                                      prefix='Point: ', \n",
    "                                      visible=True, \n",
    "                                      xanchor= 'center'),  \n",
    "                    len=1.0)\n",
    "               ]\n",
    "    layout.update(updatemenus=[dict(type='buttons', showactive=False,\n",
    "                                    y=0,\n",
    "                                    x=1.05,\n",
    "                                    xanchor='right',\n",
    "                                    yanchor='top',\n",
    "                                    pad=dict(t=0, r=10),\n",
    "                                    buttons=[dict(label='Play',\n",
    "                                                  method='animate',\n",
    "                                                  args=[None, \n",
    "                                                        dict(frame=dict(duration=100, \n",
    "                                                                        redraw=True),\n",
    "                                                             transition=dict(duration=0),\n",
    "                                                             fromcurrent=True,\n",
    "                                                             mode='immediate'\n",
    "                                                            )\n",
    "                                                       ]\n",
    "                                                 )\n",
    "                                            ]\n",
    "                                   )\n",
    "                              ],\n",
    "                 #sliders=sliders,\n",
    "                 title = sim_name);\n",
    "\n",
    "    fig=go.Figure(data=data, layout=layout, frames=frames)\n",
    "    if plot: fig.show()\n",
    "    \n",
    "    if save: fig.write_html(f\"{sim_name}.html\")\n"
   ]
  },
  {
   "cell_type": "code",
   "execution_count": 9,
   "metadata": {},
   "outputs": [
    {
     "name": "stdout",
     "output_type": "stream",
     "text": [
      "Lockdown\n",
      "Hard Quarantine\n",
      "Medium Quarantine\n",
      "Light Quarantine\n",
      "Social Distancing\n",
      "Unrestricted\n",
      "No_Policy\n"
     ]
    }
   ],
   "source": [
    "for k in dataframes.keys():\n",
    "    print(k)\n",
    "    plot_map_animation(dataframes, k, max_day=300, pop_size = 1000)"
   ]
  },
  {
   "cell_type": "code",
   "execution_count": 135,
   "metadata": {
    "scrolled": true
   },
   "outputs": [],
   "source": [
    "name = 'Medium Quarantine'\n",
    "tmp = dataframes[name][['status', 'day']].groupby(by=['day', 'status']).size().reset_index()\n",
    "tmp = tmp.rename(columns={0: 'total'})\n",
    "hospitalized = tmp[tmp['status'] == 'purple'][['day', 'total']].copy()\n",
    "\n",
    "hospitalized = hospitalized.astype(int)\n",
    "end_date = hospitalized.day.max()\n",
    "total_beds = 0.0025\n",
    "range_days = range(0, end_date+1)\n",
    "missing_days = [x for x in range_days if x not in  hospitalized.day.to_list()]\n",
    "missing_data = pd.DataFrame([[x, 0] for x in missing_days], columns=['day', 'total'])\n",
    "\n",
    "hospitalized = pd.concat([hospitalized, missing_data])\n",
    "hospitalized = hospitalized.sort_values(by='day')\n",
    "hospitalized['total'] = (hospitalized['total'] / 55492)\n",
    "\n",
    "max_range_value_y = max(total_beds, hospitalized.total.max())*1.1"
   ]
  },
  {
   "cell_type": "code",
   "execution_count": 156,
   "metadata": {},
   "outputs": [],
   "source": [
    "def hospital_capacity_animation(hospitalized, name, range_days, end_date,\n",
    "                                max_range_value_y, \n",
    "                                total_beds= 0.0025, save=True):\n",
    "                                \n",
    "    fig = go.Figure(\n",
    "        data=[go.Scatter(x=list(range_days), \n",
    "                         y=len(range_days)*[total_beds],\n",
    "                         mode='lines',\n",
    "                         name='frame',\n",
    "                         line=dict(color=\"red\", width=2)),       \n",
    "             go.Scatter(x=list(range_days), \n",
    "                         y=len(range_days)*[total_beds],\n",
    "                         mode='lines',\n",
    "                         name='Total Hospital Beds',\n",
    "                         line=dict(color=\"red\", width=2)),\n",
    "             ],\n",
    "        layout=go.Layout(\n",
    "            xaxis=dict(range=[0,end_date], autorange=False),\n",
    "            yaxis=dict(range=[0,max_range_value_y], autorange=False),\n",
    "            title=f\"{name}\",\n",
    "            updatemenus=[dict(\n",
    "                type=\"buttons\",\n",
    "                buttons=[dict(label=\"Play\",\n",
    "                              method=\"animate\",\n",
    "                              args=[None, {\"frame\": {\"redraw\": False},}])])]\n",
    "        ),\n",
    "        frames=[go.Frame(\n",
    "            data=[go.Scatter(\n",
    "                x=hospitalized[hospitalized.day <= day]['day'],\n",
    "                y=hospitalized[hospitalized.day <= day]['total'],\n",
    "                mode=\"lines\",\n",
    "                name = 'Hospitalized',\n",
    "                line=dict(color=\"purple\", width=2))],\n",
    "            layout=go.Layout(title=f'Hospitalized at Day: {day}')\n",
    "        ) for day  in  range(1, int(end_date))]\n",
    "    )\n",
    "\n",
    "    fig.show()\n",
    "    if save: fig.write_html(f\"{name}.html\")\n",
    "\n",
    "        \n",
    "def make_hospital_animation(name, dataframes):\n",
    "    print(1)\n",
    "    tmp = dataframes[name][['status', 'day']].groupby(by=['day', 'status']).size().reset_index()\n",
    "    tmp = tmp.rename(columns={0: 'total'})\n",
    "    hospitalized = tmp[tmp['status'] == 'purple'][['day', 'total']].copy()\n",
    "    print(2)\n",
    "    hospitalized = hospitalized.astype(int)\n",
    "    end_date = hospitalized.day.max()\n",
    "    total_beds = 0.0025\n",
    "    range_days = range(0, end_date+1)\n",
    "    missing_days = [x for x in range_days if x not in  hospitalized.day.to_list()]\n",
    "    missing_data = pd.DataFrame([[x, 0] for x in missing_days], columns=['day', 'total'])\n",
    "    print(3)\n",
    "    hospitalized = pd.concat([hospitalized, missing_data])\n",
    "    hospitalized = hospitalized.sort_values(by='day')\n",
    "    hospitalized['total'] = (hospitalized['total'] / 55492)\n",
    "    plt.plot(range_days, hospitalized['total'])\n",
    "    max_range_value_y = max(total_beds, hospitalized.total.max())*1.1\n",
    "\n",
    "    print(4)\n",
    "    hospital_capacity_animation(hospitalized, name, range_days, \n",
    "                                max_range_value_y, \n",
    "                                total_beds, save=True)"
   ]
  },
  {
   "cell_type": "code",
   "execution_count": 157,
   "metadata": {},
   "outputs": [
    {
     "name": "stdout",
     "output_type": "stream",
     "text": [
      "1\n",
      "2\n",
      "3\n",
      "4\n"
     ]
    },
    {
     "data": {
      "image/png": "[encoded data removed]",
      "text/plain": [
       "<Figure size 432x288 with 1 Axes>"
      ]
     },
     "metadata": {
      "needs_background": "light"
     },
     "output_type": "display_data"
    }
   ],
   "source": [
    "make_hospital_animation('Unrestricted',  dataframes)"
   ]
  },
  {
   "cell_type": "code",
   "execution_count": 154,
   "metadata": {},
   "outputs": [],
   "source": [
    "import matplotlib.pyplot as plt"
   ]
  }
 ],
 "metadata": {
  "kernelspec": {
   "display_name": "Python 3",
   "language": "python",
   "name": "python3"
  },
  "language_info": {
   "codemirror_mode": {
    "name": "ipython",
    "version": 3
   },
   "file_extension": ".py",
   "mimetype": "text/x-python",
   "name": "python",
   "nbconvert_exporter": "python",
   "pygments_lexer": "ipython3",
   "version": "3.7.7"
  }
 },
 "nbformat": 4,
 "nbformat_minor": 4
}
