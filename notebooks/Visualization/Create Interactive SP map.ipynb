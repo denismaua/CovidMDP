{
 "cells": [
  {
   "cell_type": "code",
   "execution_count": 1,
   "metadata": {},
   "outputs": [],
   "source": [
    "import os\n",
    "os.chdir('..\\\\..\\\\src\\\\models')"
   ]
  },
  {
   "cell_type": "code",
   "execution_count": 2,
   "metadata": {},
   "outputs": [
    {
     "name": "stdout",
     "output_type": "stream",
     "text": [
      "Loading Graph... Done!\n"
     ]
    }
   ],
   "source": [
    "import simulate_pandemic \n",
    "import numpy as np\n",
    "import pandas as pd\n",
    "import plotly.express as px\n",
    "from tqdm import tqdm\n",
    "from disease_states import state_to_color"
   ]
  },
  {
   "cell_type": "code",
   "execution_count": 3,
   "metadata": {},
   "outputs": [
    {
     "name": "stderr",
     "output_type": "stream",
     "text": [
      "  7%|█████▊                                                                           | 36/499 [00:27<05:58,  1.29it/s]\n"
     ]
    }
   ],
   "source": [
    "data = simulate_pandemic.main()"
   ]
  },
  {
   "cell_type": "code",
   "execution_count": 4,
   "metadata": {},
   "outputs": [
    {
     "name": "stderr",
     "output_type": "stream",
     "text": [
      "100%|██████████████████████████████████████████████████████████████████████████| 55492/55492 [00:05<00:00, 9753.31it/s]\n"
     ]
    }
   ],
   "source": [
    "from pyproj import Transformer\n",
    "\n",
    "df = pd.DataFrame(np.array(data))\n",
    "\n",
    "transformer = Transformer.from_crs('epsg:22523', 'epsg:4289')\n",
    "\n",
    "def re_project(x,y):\n",
    "    return transformer.transform(x,y)\n",
    "\n",
    "dfs = []\n",
    "for col in tqdm(df.columns):\n",
    "    size = len(df)\n",
    "    p_id = size*[col+1]\n",
    "    \n",
    "    home_x, home_y = simulate_pandemic.G.nodes[col+1]['home_x'], simulate_pandemic.G.nodes[col+1]['home_y']\n",
    "    home_x, home_y = re_project(home_x, home_y)\n",
    "    home_x, home_y = home_x + np.random.normal(loc=0,scale=.001), home_y + np.random.normal(loc=0,scale=.001)\n",
    "    home_x, home_y = size*[home_x] , size*[home_y]\n",
    "    tmp = np.transpose([df[col], p_id, list(range(0, len(df[col]))), home_x, home_y])\n",
    "   \n",
    "    dfs.append(tmp)"
   ]
  },
  {
   "cell_type": "code",
   "execution_count": 5,
   "metadata": {},
   "outputs": [],
   "source": [
    "df_ts = pd.DataFrame(np.concatenate(dfs), columns = ['status', 'id', 'day', 'home_x', 'home_y'])\n",
    "fill = pd.DataFrame([['red', -1, 0, None, None], ['purple', -1, 0, None, None], \n",
    "                     ['orange', -1, 0, None, None], ['gray', -1, 0, None, None]],\n",
    "                    columns = ['status', 'id', 'day', 'home_x', 'home_y'])\n",
    "\n",
    "df_ts.status = df_ts.status.apply(lambda x: state_to_color[x])\n",
    "df_ts = pd.concat([df_ts, fill]).reset_index(drop=True)\n",
    "\n",
    "df_full = df_ts.copy()"
   ]
  },
  {
   "cell_type": "code",
   "execution_count": 9,
   "metadata": {},
   "outputs": [],
   "source": [
    "import pandas as pd\n",
    "import plotly.graph_objects as go\n",
    "mapbox_access_token = 'pk.eyJ1IjoieWFtYmFuaXMiLCJhIjoiY2thbzFza2t6MXdkNTJ6cWg3emQxMjhmeCJ9.FJqkTcY28Pvhjbu-1XquMg'\n",
    "\n",
    "\n",
    "max_day = 300\n",
    "\n",
    "sample_ids = np.random.choice(df_full.id, replace=False, size = 2500)\n",
    "sample_ids = np.concatenate([sample_ids, [-1]])\n",
    "\n",
    "\n",
    "df_plot = df_full[(df_full.id.isin(sample_ids)) & (df_ts.day <= max_day)]\n",
    "\n",
    "max_day = int(df_ts.day.max())\n",
    "\n",
    "data = [go.Scattermapbox(\n",
    "               lat=df_plot[df_plot.day == 0]['home_x'],\n",
    "               lon=df_plot[df_plot.day == 0]['home_y'],\n",
    "               mode='markers',\n",
    "               marker=dict(size=5, color=df_plot[df_plot.day == 0]['status'])\n",
    "            )\n",
    "        ]\n",
    "\n",
    "layout = go.Layout(width=800,\n",
    "    autosize=True,\n",
    "    hovermode='closest',\n",
    "    mapbox=dict(accesstoken=mapbox_access_token,\n",
    "                bearing=0,\n",
    "                center=dict(lat=-23.5505,\n",
    "                            lon=-46.6333),\n",
    "                pitch=0,\n",
    "                zoom=9,\n",
    "                style='light'\n",
    "                )\n",
    "            )\n",
    "\n",
    "frames = [dict(data= [dict(type='scattermapbox',\n",
    "                           lat=df_plot[df_plot.day == day]['home_x'],\n",
    "                           lon=df_plot[df_plot.day == day]['home_y'], mode='markers',\n",
    "                           marker=dict(size=5, color=df_plot[df_plot.day == day]['status']))],\n",
    "               traces= [0], \n",
    "               name='day {}'.format(day)       \n",
    "              )for day  in  range(1, max_day)] \n",
    "\n",
    "sliders = [dict(steps= [dict(method= 'animate',\n",
    "                           args= [[ 'day {}'.format(day) ],\n",
    "                                  dict(mode= 'immediate',\n",
    "                                  frame= dict( duration=100, redraw= True ),\n",
    "                                           transition=dict( duration= 0)\n",
    "                                          )\n",
    "                                    ],\n",
    "                            label='{:d}'.format(day)\n",
    "                             ) for day in range(1, max_day)], \n",
    "                transition= dict(duration= 0 ),\n",
    "                x=0,#slider starting position  \n",
    "                y=0, \n",
    "                currentvalue=dict(font=dict(size=12), \n",
    "                                  prefix='Point: ', \n",
    "                                  visible=True, \n",
    "                                  xanchor= 'center'),  \n",
    "                len=1.0)\n",
    "           ]\n",
    "layout.update(updatemenus=[dict(type='buttons', showactive=False,\n",
    "                                y=0,\n",
    "                                x=1.05,\n",
    "                                xanchor='right',\n",
    "                                yanchor='top',\n",
    "                                pad=dict(t=0, r=10),\n",
    "                                buttons=[dict(label='Play',\n",
    "                                              method='animate',\n",
    "                                              args=[None, \n",
    "                                                    dict(frame=dict(duration=100, \n",
    "                                                                    redraw=True),\n",
    "                                                         transition=dict(duration=0),\n",
    "                                                         fromcurrent=True,\n",
    "                                                         mode='immediate'\n",
    "                                                        )\n",
    "                                                   ]\n",
    "                                             )\n",
    "                                        ]\n",
    "                               )\n",
    "                          ],\n",
    "              sliders=sliders);\n",
    "\n",
    "fig=go.Figure(data=data, layout=layout, frames=frames)\n",
    "import plotly.io as pio\n",
    "pio.renderers.default = \"browser\"  ##offline plot\n",
    "fig.show()\n"
   ]
  },
  {
   "cell_type": "code",
   "execution_count": 10,
   "metadata": {},
   "outputs": [],
   "source": [
    "fig.write_html(\"SP_spread_animation_2.5k.html\")\n"
   ]
  }
 ],
 "metadata": {
  "kernelspec": {
   "display_name": "Python 3",
   "language": "python",
   "name": "python3"
  },
  "language_info": {
   "codemirror_mode": {
    "name": "ipython",
    "version": 3
   },
   "file_extension": ".py",
   "mimetype": "text/x-python",
   "name": "python",
   "nbconvert_exporter": "python",
   "pygments_lexer": "ipython3",
   "version": "3.7.7"
  }
 },
 "nbformat": 4,
 "nbformat_minor": 4
}
