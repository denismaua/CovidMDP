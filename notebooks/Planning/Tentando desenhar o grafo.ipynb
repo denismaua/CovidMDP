{
 "cells": [
  {
   "cell_type": "code",
   "execution_count": 1,
   "metadata": {},
   "outputs": [],
   "source": [
    "import networkx as nx\n",
    "G = nx.read_gpickle('..\\\\..\\\\data\\\\processed\\\\sp_graphs\\\\Grafo_Zonas_SP_Com_Idade.gpickle')\n"
   ]
  },
  {
   "cell_type": "code",
   "execution_count": 3,
   "metadata": {},
   "outputs": [],
   "source": [
    "def subgraph_of_zone(G, zone, relation):\n",
    "    zone_nodes = [x for x,y in G.nodes(data=True) if y[relation]==zone]\n",
    "    G = G.subgraph(zone_nodes)\n",
    "    return \n",
    "sub_G = subgraph_of_zone(G, 20, 'home')"
   ]
  },
  {
   "cell_type": "code",
   "execution_count": 7,
   "metadata": {},
   "outputs": [
    {
     "data": {
      "image/png": "[encoded data removed]",
      "text/plain": [
       "<Figure size 432x288 with 1 Axes>"
      ]
     },
     "metadata": {},
     "output_type": "display_data"
    }
   ],
   "source": [
    "nx.draw(sub_G, node_size=50)"
   ]
  },
  {
   "cell_type": "code",
   "execution_count": 19,
   "metadata": {},
   "outputs": [],
   "source": [
    "import networkx as nx\n",
    "import plotly.graph_objects as go\n",
    "\n",
    "def plot_graph(G):\n",
    "\n",
    "    #pos = nx.spectral_layout(G)\n",
    "    pos = nx.spring_layout(G)\n",
    "\n",
    "    edge_x = []\n",
    "    edge_y = []\n",
    "    for edge in G.edges():\n",
    "        x0, y0 = pos[edge[0]]\n",
    "        x1, y1 = pos[edge[1]]\n",
    "        edge_x.append(x0)\n",
    "        edge_x.append(x1)\n",
    "        edge_x.append(None)\n",
    "        edge_y.append(y0)\n",
    "        edge_y.append(y1)\n",
    "        edge_y.append(None)\n",
    "\n",
    "    edge_trace = go.Scatter(\n",
    "        x=edge_x, y=edge_y,\n",
    "        line=dict(width=0.5, color='#888'),\n",
    "        hoverinfo='none',\n",
    "        mode='lines')\n",
    "\n",
    "    node_x = []\n",
    "    node_y = []\n",
    "    for node in G.nodes():\n",
    "        x, y = pos[node]\n",
    "        node_x.append(x)\n",
    "        node_y.append(y)\n",
    "\n",
    "    node_trace = go.Scatter(\n",
    "        x=node_x, y=node_y,\n",
    "        mode='markers',\n",
    "        hoverinfo='text',\n",
    "        marker=dict(\n",
    "            showscale=True,\n",
    "            # colorscale options\n",
    "            #'Greys' | 'YlGnBu' | 'Greens' | 'YlOrRd' | 'Bluered' | 'RdBu' |\n",
    "            #'Reds' | 'Blues' | 'Picnic' | 'Rainbow' | 'Portland' | 'Jet' |\n",
    "            #'Hot' | 'Blackbody' | 'Earth' | 'Electric' | 'Viridis' |\n",
    "            colorscale='YlGnBu',\n",
    "            reversescale=True,\n",
    "            color=[],\n",
    "            size=10,\n",
    "            colorbar=dict(\n",
    "                thickness=15,\n",
    "                title='Node Connections',\n",
    "                xanchor='left',\n",
    "                titleside='right'\n",
    "            ),\n",
    "            line_width=2))\n",
    "\n",
    "\n",
    "    node_trace.text = [y for x,y in G.nodes(data=True)]\n",
    "\n",
    "    fig = go.Figure(data=[edge_trace, node_trace],\n",
    "             layout=go.Layout(\n",
    "                showlegend=False,\n",
    "                hovermode='closest',\n",
    "                margin=dict(b=20,l=5,r=5,t=40),))\n",
    "    fig.show()\n"
   ]
  },
  {
   "cell_type": "code",
   "execution_count": 20,
   "metadata": {},
   "outputs": [
    {
     "data": {
      "application/vnd.plotly.v1+json": {
       "config": {
        "plotlyServerURL": "https://plot.ly"
       },
       "data": [
        {
         "hoverinfo": "none",
         "line": {
          "color": "#888",
          "width": 0.5
         },
         "mode": "lines",
         "type": "scatter",
         "x": [
          -0.5861087880288374,
          -0.6003148826157984,
          null,
          -0.5861087880288374,
          -0.5976283823369031,
          null,
          -0.5861087880288374,
          -0.5659278331525995,
          null,
          -0.5861087880288374,
          -0.5710122261830216,
          null,
          -0.4602039995614094,
          -0.4463468294383129,
          null,
          -0.4602039995614094,
          -0.4175833273446847,
          null,
          -0.5710122261830216,
          -0.6003148826157984,
          null,
          -0.5710122261830216,
          -0.5976283823369031,
          null,
          -0.5710122261830216,
          -0.5659278331525995,
          null,
          -0.4262707080545434,
          -0.40608644100685687,
          null,
          0.9728787744862336,
          0.9659178841948757,
          null,
          -0.6313552274371544,
          -0.6639469126258822,
          null,
          -0.6313552274371544,
          -0.6057634344868112,
          null,
          -0.2817450999565183,
          -0.29864521498202923,
          null,
          -0.959727741558792,
          -0.9172552037764282,
          null,
          -0.5574498183209627,
          -0.588251029178618,
          null,
          0.6125182827764488,
          0.5814268195105802,
          null,
          0.6125182827764488,
          0.6045680787060318,
          null,
          0.6045680787060318,
          0.5814268195105802,
          null,
          0.21553974440757684,
          0.20621285452753785,
          null,
          0.21553974440757684,
          0.22562126906554228,
          null,
          0.21553974440757684,
          0.1952027921955381,
          null,
          0.14709251867001819,
          0.12948944764689518,
          null,
          0.14709251867001819,
          0.1260449146391506,
          null,
          0.14709251867001819,
          0.15608456417544744,
          null,
          -0.38204838855828854,
          -0.36713711313013236,
          null,
          -0.021000280127821545,
          -0.03148851434311242,
          null,
          -0.021000280127821545,
          -0.020588243179050943,
          null,
          -0.021000280127821545,
          -0.009910633944528492,
          null,
          -0.021000280127821545,
          -0.007169992458049202,
          null,
          -0.021000280127821545,
          -0.05017331863165598,
          null,
          -0.021000280127821545,
          0.011945446622771977,
          null,
          -0.021000280127821545,
          -0.02634807948152818,
          null,
          -0.021000280127821545,
          -0.03768408631537221,
          null,
          -0.021000280127821545,
          -0.0328997189284727,
          null,
          -0.021000280127821545,
          -0.014413817925040127,
          null,
          -0.10520872381271346,
          -0.12237412843936085,
          null,
          -0.10520872381271346,
          -0.08774944712626652,
          null,
          -0.10520872381271346,
          -0.10268563335325546,
          null,
          -0.10520872381271346,
          -0.10586006335092683,
          null,
          -0.7170841805373496,
          -0.7584434714148275,
          null,
          0.2934953573996242,
          0.3264348504601254,
          null,
          0.2934953573996242,
          0.3116076553609407,
          null,
          0.2934953573996242,
          0.3077396466033198,
          null,
          0.2934953573996242,
          0.28063263147780987,
          null,
          -0.007169992458049202,
          -0.03148851434311242,
          null,
          -0.007169992458049202,
          -0.020588243179050943,
          null,
          -0.007169992458049202,
          -0.009910633944528492,
          null,
          -0.007169992458049202,
          -0.05017331863165598,
          null,
          -0.007169992458049202,
          0.011945446622771977,
          null,
          -0.007169992458049202,
          -0.02634807948152818,
          null,
          -0.007169992458049202,
          -0.03768408631537221,
          null,
          -0.007169992458049202,
          -0.0328997189284727,
          null,
          -0.007169992458049202,
          -0.014413817925040127,
          null,
          -0.02634807948152818,
          -0.03148851434311242,
          null,
          -0.02634807948152818,
          -0.020588243179050943,
          null,
          -0.02634807948152818,
          -0.009910633944528492,
          null,
          -0.02634807948152818,
          -0.05017331863165598,
          null,
          -0.02634807948152818,
          0.011945446622771977,
          null,
          -0.02634807948152818,
          -0.03768408631537221,
          null,
          -0.02634807948152818,
          -0.0328997189284727,
          null,
          -0.02634807948152818,
          -0.014413817925040127,
          null,
          -0.0328997189284727,
          -0.03148851434311242,
          null,
          -0.0328997189284727,
          -0.020588243179050943,
          null,
          -0.0328997189284727,
          -0.009910633944528492,
          null,
          -0.0328997189284727,
          -0.05017331863165598,
          null,
          -0.0328997189284727,
          0.011945446622771977,
          null,
          -0.0328997189284727,
          -0.03768408631537221,
          null,
          -0.0328997189284727,
          -0.014413817925040127,
          null,
          0.7860531644074291,
          0.8227396390620801,
          null,
          0.7860531644074291,
          0.8102720532706125,
          null,
          0.7860531644074291,
          0.7940012925900595,
          null,
          -0.5869455815342727,
          -0.6197517519654592,
          null,
          -0.4175833273446847,
          -0.4463468294383129,
          null,
          -0.4175833273446847,
          -0.383947181790012,
          null,
          -0.16073255422984983,
          -0.16260885763077487,
          null,
          0.778319292949727,
          0.7522657802782161,
          null,
          0.218089326694726,
          0.19972916618717676,
          null,
          0.218089326694726,
          0.2302669743601675,
          null,
          0.218089326694726,
          0.2012915059126771,
          null,
          0.218089326694726,
          0.21889785663211972,
          null,
          0.218089326694726,
          0.19550721498343157,
          null,
          0.08146608172389946,
          0.10051320907573609,
          null,
          0.22562126906554228,
          0.20621285452753785,
          null,
          0.22562126906554228,
          0.1952027921955381,
          null,
          -0.014413817925040127,
          -0.03148851434311242,
          null,
          -0.014413817925040127,
          -0.020588243179050943,
          null,
          -0.014413817925040127,
          -0.009910633944528492,
          null,
          -0.014413817925040127,
          -0.05017331863165598,
          null,
          -0.014413817925040127,
          0.011945446622771977,
          null,
          -0.014413817925040127,
          -0.03768408631537221,
          null,
          0.21889785663211972,
          0.19972916618717676,
          null,
          0.21889785663211972,
          0.2302669743601675,
          null,
          0.21889785663211972,
          0.2012915059126771,
          null,
          0.21889785663211972,
          0.19550721498343157,
          null,
          0.27510194452447806,
          0.2843848364409829,
          null,
          0.27510194452447806,
          0.3088414167057542,
          null,
          0.27510194452447806,
          0.23113918157679855,
          null,
          0.6610741724742668,
          0.6921136370353542,
          null,
          -0.009910633944528492,
          -0.03148851434311242,
          null,
          -0.009910633944528492,
          -0.020588243179050943,
          null,
          -0.009910633944528492,
          -0.05017331863165598,
          null,
          -0.009910633944528492,
          0.011945446622771977,
          null,
          -0.009910633944528492,
          -0.03768408631537221,
          null,
          -0.0030362290339229275,
          0.0009814007109808587,
          null,
          -0.0030362290339229275,
          0.018762117769468508,
          null,
          -0.0030362290339229275,
          0.023392689807232414,
          null,
          0.4290545486144024,
          0.40566553401862204,
          null,
          0.19550721498343157,
          0.19972916618717676,
          null,
          0.19550721498343157,
          0.2302669743601675,
          null,
          0.19550721498343157,
          0.2012915059126771,
          null,
          0.19550721498343157,
          0.15608456417544744,
          null,
          -0.8919490234019889,
          -0.8710143841169694,
          null,
          0.018762117769468508,
          0.0009814007109808587,
          null,
          0.018762117769468508,
          0.023392689807232414,
          null,
          0.38768137277254794,
          0.4325259101041907,
          null,
          0.38768137277254794,
          0.4388038020450478,
          null,
          0.38768137277254794,
          0.3088414167057542,
          null,
          0.38768137277254794,
          0.41605042764780575,
          null,
          -0.05017331863165598,
          -0.03148851434311242,
          null,
          -0.05017331863165598,
          -0.020588243179050943,
          null,
          -0.05017331863165598,
          0.011945446622771977,
          null,
          -0.05017331863165598,
          -0.03768408631537221,
          null,
          -0.05017331863165598,
          -0.1297282567101925,
          null,
          0.7940012925900595,
          0.8227396390620801,
          null,
          0.7940012925900595,
          0.8102720532706125,
          null,
          -0.18048203352738698,
          -0.17212959702393807,
          null,
          -0.18048203352738698,
          -0.1297282567101925,
          null,
          -0.5976283823369031,
          -0.6003148826157984,
          null,
          -0.5976283823369031,
          -0.5659278331525995,
          null,
          0.26756310876559714,
          0.3033884333569048,
          null,
          0.26756310876559714,
          0.2666218641098893,
          null,
          0.26756310876559714,
          0.28063263147780987,
          null,
          -0.10268563335325546,
          -0.12237412843936085,
          null,
          -0.10268563335325546,
          -0.08774944712626652,
          null,
          -0.10268563335325546,
          -0.10586006335092683,
          null,
          0.8102720532706125,
          0.8227396390620801,
          null,
          -0.39626020114870725,
          -0.383947181790012,
          null,
          -0.39626020114870725,
          -0.37118779616594716,
          null,
          -0.17212959702393807,
          -0.1297282567101925,
          null,
          0.8726494150308434,
          0.8224461695981821,
          null,
          0.3330861025409644,
          0.36904510101945404,
          null,
          0.3330861025409644,
          0.3744585272792398,
          null,
          0.3330861025409644,
          0.3116076553609407,
          null,
          0.3330861025409644,
          0.28063263147780987,
          null,
          0.3088414167057542,
          0.2843848364409829,
          null,
          0.3088414167057542,
          0.23113918157679855,
          null,
          -0.5659278331525995,
          -0.6003148826157984,
          null,
          -0.03768408631537221,
          -0.03148851434311242,
          null,
          -0.03768408631537221,
          -0.020588243179050943,
          null,
          -0.03768408631537221,
          0.011945446622771977,
          null,
          -0.6573674394705226,
          -0.682274522009809,
          null,
          -0.6573674394705226,
          -0.6982109923543871,
          null,
          -0.6573674394705226,
          -0.6003148826157984,
          null,
          0.4388038020450478,
          0.4325259101041907,
          null,
          -0.369405676637532,
          -0.3452575487948474,
          null,
          0.12948944764689518,
          0.1260449146391506,
          null,
          0.12948944764689518,
          0.15608456417544744,
          null,
          0.011945446622771977,
          -0.03148851434311242,
          null,
          0.011945446622771977,
          -0.020588243179050943,
          null,
          0.011945446622771977,
          0.1260449146391506,
          null,
          -0.6982109923543871,
          -0.682274522009809,
          null,
          0.15608456417544744,
          0.1260449146391506,
          null,
          0.19972916618717676,
          0.2302669743601675,
          null,
          0.19972916618717676,
          0.2012915059126771,
          null,
          -0.383947181790012,
          -0.37118779616594716,
          null,
          0.3033884333569048,
          0.2666218641098893,
          null,
          0.3033884333569048,
          0.28063263147780987,
          null,
          0.3033884333569048,
          0.3633770629134048,
          null,
          0.28063263147780987,
          0.2666218641098893,
          null,
          0.28063263147780987,
          0.22988377496046775,
          null,
          0.28063263147780987,
          0.3116076553609407,
          null,
          0.9026291996374427,
          0.8606910811699633,
          null,
          0.3116076553609407,
          0.3264348504601254,
          null,
          0.3116076553609407,
          0.3077396466033198,
          null,
          0.3264348504601254,
          0.3077396466033198,
          null,
          0.23113918157679855,
          0.2843848364409829,
          null,
          0.23113918157679855,
          0.1260449146391506,
          null,
          -0.10586006335092683,
          -0.12237412843936085,
          null,
          -0.10586006335092683,
          -0.08774944712626652,
          null,
          0.36904510101945404,
          0.3744585272792398,
          null,
          0.22988377496046775,
          0.2028784752579007,
          null,
          0.0009814007109808587,
          0.023392689807232414,
          null,
          -0.6057634344868112,
          -0.6639469126258822,
          null,
          0.1952027921955381,
          0.20621285452753785,
          null,
          0.41605042764780575,
          0.40855696815869674,
          null,
          0.41605042764780575,
          0.4454732807181551,
          null,
          0.41605042764780575,
          0.43411367959140407,
          null,
          -0.020588243179050943,
          -0.03148851434311242,
          null,
          0.2302669743601675,
          0.2012915059126771,
          null,
          -0.08774944712626652,
          -0.12237412843936085,
          null,
          0.3633770629134048,
          0.40855696815869674,
          null,
          0.43411367959140407,
          0.40855696815869674,
          null,
          0.43411367959140407,
          0.4454732807181551,
          null,
          -0.6639469126258822,
          -0.7237449426444913,
          null,
          -0.7237449426444913,
          -0.7731868305438118,
          null,
          0.4454732807181551,
          0.40855696815869674,
          null,
          -0.6123086022124811,
          -0.5899632408885102,
          null,
          -0.6123086022124811,
          -0.5754411835764801,
          null,
          -0.5754411835764801,
          -0.5899632408885102,
          null
         ],
         "y": [
          0.3021556731990624,
          0.33729422577544943,
          null,
          0.3021556731990624,
          0.3158454612896766,
          null,
          0.3021556731990624,
          0.30987266323867163,
          null,
          0.3021556731990624,
          0.32908034140638776,
          null,
          0.17352262708860797,
          0.15286699079542032,
          null,
          0.17352262708860797,
          0.17946060911469613,
          null,
          0.32908034140638776,
          0.33729422577544943,
          null,
          0.32908034140638776,
          0.3158454612896766,
          null,
          0.32908034140638776,
          0.30987266323867163,
          null,
          0.6910345511863933,
          0.6506775035802762,
          null,
          0.17781437457219137,
          0.21537235670957872,
          null,
          -0.2859836303227917,
          -0.2924044099631664,
          null,
          -0.2859836303227917,
          -0.2756023877057267,
          null,
          0.6958100142045347,
          0.743162500231782,
          null,
          0.004221700038296244,
          0.005426433253598506,
          null,
          -0.7987432264019442,
          -0.8411110197948705,
          null,
          0.5469777952502038,
          0.5226108523945248,
          null,
          0.5469777952502038,
          0.5143879158476873,
          null,
          0.5143879158476873,
          0.5226108523945248,
          null,
          0.738102471681938,
          0.772750748496327,
          null,
          0.738102471681938,
          0.7603183391963197,
          null,
          0.738102471681938,
          0.7483796320573762,
          null,
          -0.24434646290449366,
          -0.2515105582691613,
          null,
          -0.24434646290449366,
          -0.19684628534923213,
          null,
          -0.24434646290449366,
          -0.28410904279399274,
          null,
          -0.6083697553030637,
          -0.631492158426999,
          null,
          -0.10869775829824506,
          -0.09290192659658522,
          null,
          -0.10869775829824506,
          -0.09149872212280849,
          null,
          -0.10869775829824506,
          -0.09468673504976378,
          null,
          -0.10869775829824506,
          -0.10695907706925228,
          null,
          -0.10869775829824506,
          -0.11821640400291142,
          null,
          -0.10869775829824506,
          -0.12999774769257538,
          null,
          -0.10869775829824506,
          -0.12736060298922874,
          null,
          -0.10869775829824506,
          -0.10220293693011534,
          null,
          -0.10869775829824506,
          -0.11501478887612182,
          null,
          -0.10869775829824506,
          -0.12105293240220547,
          null,
          0.7696898808447675,
          0.7500670312536086,
          null,
          0.7696898808447675,
          0.7479090808735646,
          null,
          0.7696898808447675,
          0.7221574851630715,
          null,
          0.7696898808447675,
          0.7454474917270536,
          null,
          -0.5162460008829606,
          -0.5399000494453225,
          null,
          0.1128670214387179,
          0.09668740239321233,
          null,
          0.1128670214387179,
          0.12744021230673316,
          null,
          0.1128670214387179,
          0.08630656730080538,
          null,
          0.1128670214387179,
          0.1618444897808135,
          null,
          -0.10695907706925228,
          -0.09290192659658522,
          null,
          -0.10695907706925228,
          -0.09149872212280849,
          null,
          -0.10695907706925228,
          -0.09468673504976378,
          null,
          -0.10695907706925228,
          -0.11821640400291142,
          null,
          -0.10695907706925228,
          -0.12999774769257538,
          null,
          -0.10695907706925228,
          -0.12736060298922874,
          null,
          -0.10695907706925228,
          -0.10220293693011534,
          null,
          -0.10695907706925228,
          -0.11501478887612182,
          null,
          -0.10695907706925228,
          -0.12105293240220547,
          null,
          -0.12736060298922874,
          -0.09290192659658522,
          null,
          -0.12736060298922874,
          -0.09149872212280849,
          null,
          -0.12736060298922874,
          -0.09468673504976378,
          null,
          -0.12736060298922874,
          -0.11821640400291142,
          null,
          -0.12736060298922874,
          -0.12999774769257538,
          null,
          -0.12736060298922874,
          -0.10220293693011534,
          null,
          -0.12736060298922874,
          -0.11501478887612182,
          null,
          -0.12736060298922874,
          -0.12105293240220547,
          null,
          -0.11501478887612182,
          -0.09290192659658522,
          null,
          -0.11501478887612182,
          -0.09149872212280849,
          null,
          -0.11501478887612182,
          -0.09468673504976378,
          null,
          -0.11501478887612182,
          -0.11821640400291142,
          null,
          -0.11501478887612182,
          -0.12999774769257538,
          null,
          -0.11501478887612182,
          -0.10220293693011534,
          null,
          -0.11501478887612182,
          -0.12105293240220547,
          null,
          -0.09242843604567418,
          -0.10049929281137551,
          null,
          -0.09242843604567418,
          -0.12024145485377273,
          null,
          -0.09242843604567418,
          -0.11355940114739896,
          null,
          -0.5194491056912057,
          -0.5502099146751317,
          null,
          0.17946060911469613,
          0.15286699079542032,
          null,
          0.17946060911469613,
          0.21878611143161117,
          null,
          -0.8920244777546801,
          -0.8643914708390465,
          null,
          0.4401521350404339,
          0.4459720926041146,
          null,
          -0.42579010372574394,
          -0.41204522573009855,
          null,
          -0.42579010372574394,
          -0.4152688013202748,
          null,
          -0.42579010372574394,
          -0.42624067685954425,
          null,
          -0.42579010372574394,
          -0.4020174438701165,
          null,
          -0.42579010372574394,
          -0.37563542864989197,
          null,
          0.7069756951260613,
          0.687776662743538,
          null,
          0.7603183391963197,
          0.772750748496327,
          null,
          0.7603183391963197,
          0.7483796320573762,
          null,
          -0.12105293240220547,
          -0.09290192659658522,
          null,
          -0.12105293240220547,
          -0.09149872212280849,
          null,
          -0.12105293240220547,
          -0.09468673504976378,
          null,
          -0.12105293240220547,
          -0.11821640400291142,
          null,
          -0.12105293240220547,
          -0.12999774769257538,
          null,
          -0.12105293240220547,
          -0.10220293693011534,
          null,
          -0.4020174438701165,
          -0.41204522573009855,
          null,
          -0.4020174438701165,
          -0.4152688013202748,
          null,
          -0.4020174438701165,
          -0.42624067685954425,
          null,
          -0.4020174438701165,
          -0.37563542864989197,
          null,
          -0.14017339521087943,
          -0.15539147532103853,
          null,
          -0.14017339521087943,
          -0.11084687056623023,
          null,
          -0.14017339521087943,
          -0.15786888752006092,
          null,
          -0.5385467403445207,
          -0.5656610285051271,
          null,
          -0.09468673504976378,
          -0.09290192659658522,
          null,
          -0.09468673504976378,
          -0.09149872212280849,
          null,
          -0.09468673504976378,
          -0.11821640400291142,
          null,
          -0.09468673504976378,
          -0.12999774769257538,
          null,
          -0.09468673504976378,
          -0.10220293693011534,
          null,
          -0.7751169202076241,
          -0.798994955032401,
          null,
          -0.7751169202076241,
          -0.7692481678182415,
          null,
          -0.7751169202076241,
          -0.797980293313577,
          null,
          -0.9014675053084665,
          -0.8575547621086014,
          null,
          -0.37563542864989197,
          -0.41204522573009855,
          null,
          -0.37563542864989197,
          -0.4152688013202748,
          null,
          -0.37563542864989197,
          -0.42624067685954425,
          null,
          -0.37563542864989197,
          -0.28410904279399274,
          null,
          0.3685918231690651,
          0.34984835661749286,
          null,
          -0.7692481678182415,
          -0.798994955032401,
          null,
          -0.7692481678182415,
          -0.797980293313577,
          null,
          -0.03531988854801076,
          -0.06603078504058701,
          null,
          -0.03531988854801076,
          -0.04544908001906471,
          null,
          -0.03531988854801076,
          -0.11084687056623023,
          null,
          -0.03531988854801076,
          0.06662157474469682,
          null,
          -0.11821640400291142,
          -0.09290192659658522,
          null,
          -0.11821640400291142,
          -0.09149872212280849,
          null,
          -0.11821640400291142,
          -0.12999774769257538,
          null,
          -0.11821640400291142,
          -0.10220293693011534,
          null,
          -0.11821640400291142,
          -0.1462737801502049,
          null,
          -0.11355940114739896,
          -0.10049929281137551,
          null,
          -0.11355940114739896,
          -0.12024145485377273,
          null,
          -0.1545411841940713,
          -0.17535133496055388,
          null,
          -0.1545411841940713,
          -0.1462737801502049,
          null,
          0.3158454612896766,
          0.33729422577544943,
          null,
          0.3158454612896766,
          0.30987266323867163,
          null,
          0.19753793874980738,
          0.20804354522768184,
          null,
          0.19753793874980738,
          0.21287477819185255,
          null,
          0.19753793874980738,
          0.1618444897808135,
          null,
          0.7221574851630715,
          0.7500670312536086,
          null,
          0.7221574851630715,
          0.7479090808735646,
          null,
          0.7221574851630715,
          0.7454474917270536,
          null,
          -0.12024145485377273,
          -0.10049929281137551,
          null,
          0.25600315430158765,
          0.21878611143161117,
          null,
          0.25600315430158765,
          0.253914192886417,
          null,
          -0.17535133496055388,
          -0.1462737801502049,
          null,
          0.09365308108764439,
          0.09463083381149982,
          null,
          0.16376735747412802,
          0.18664672388814357,
          null,
          0.16376735747412802,
          0.16664537313136168,
          null,
          0.16376735747412802,
          0.12744021230673316,
          null,
          0.16376735747412802,
          0.1618444897808135,
          null,
          -0.11084687056623023,
          -0.15539147532103853,
          null,
          -0.11084687056623023,
          -0.15786888752006092,
          null,
          0.30987266323867163,
          0.33729422577544943,
          null,
          -0.10220293693011534,
          -0.09290192659658522,
          null,
          -0.10220293693011534,
          -0.09149872212280849,
          null,
          -0.10220293693011534,
          -0.12999774769257538,
          null,
          0.37485354877782107,
          0.40713426940055947,
          null,
          0.37485354877782107,
          0.3889802029042537,
          null,
          0.37485354877782107,
          0.33729422577544943,
          null,
          -0.04544908001906471,
          -0.06603078504058701,
          null,
          -0.8360768827847836,
          -0.8232697778613248,
          null,
          -0.2515105582691613,
          -0.19684628534923213,
          null,
          -0.2515105582691613,
          -0.28410904279399274,
          null,
          -0.12999774769257538,
          -0.09290192659658522,
          null,
          -0.12999774769257538,
          -0.09149872212280849,
          null,
          -0.12999774769257538,
          -0.19684628534923213,
          null,
          0.3889802029042537,
          0.40713426940055947,
          null,
          -0.28410904279399274,
          -0.19684628534923213,
          null,
          -0.41204522573009855,
          -0.4152688013202748,
          null,
          -0.41204522573009855,
          -0.42624067685954425,
          null,
          0.21878611143161117,
          0.253914192886417,
          null,
          0.20804354522768184,
          0.21287477819185255,
          null,
          0.20804354522768184,
          0.1618444897808135,
          null,
          0.20804354522768184,
          0.20195837525021784,
          null,
          0.1618444897808135,
          0.21287477819185255,
          null,
          0.1618444897808135,
          0.13238863200559597,
          null,
          0.1618444897808135,
          0.12744021230673316,
          null,
          0.37587182480093445,
          0.35541413555882634,
          null,
          0.12744021230673316,
          0.09668740239321233,
          null,
          0.12744021230673316,
          0.08630656730080538,
          null,
          0.09668740239321233,
          0.08630656730080538,
          null,
          -0.15786888752006092,
          -0.15539147532103853,
          null,
          -0.15786888752006092,
          -0.19684628534923213,
          null,
          0.7454474917270536,
          0.7500670312536086,
          null,
          0.7454474917270536,
          0.7479090808735646,
          null,
          0.18664672388814357,
          0.16664537313136168,
          null,
          0.13238863200559597,
          0.09182068400717056,
          null,
          -0.798994955032401,
          -0.797980293313577,
          null,
          -0.2756023877057267,
          -0.2924044099631664,
          null,
          0.7483796320573762,
          0.772750748496327,
          null,
          0.06662157474469682,
          0.1401540576995477,
          null,
          0.06662157474469682,
          0.1078180334218916,
          null,
          0.06662157474469682,
          0.120119740987,
          null,
          -0.09149872212280849,
          -0.09290192659658522,
          null,
          -0.4152688013202748,
          -0.42624067685954425,
          null,
          0.7479090808735646,
          0.7500670312536086,
          null,
          0.20195837525021784,
          0.1401540576995477,
          null,
          0.120119740987,
          0.1401540576995477,
          null,
          0.120119740987,
          0.1078180334218916,
          null,
          -0.2924044099631664,
          -0.3089199075770581,
          null,
          -0.3089199075770581,
          -0.323159564268351,
          null,
          0.1078180334218916,
          0.1401540576995477,
          null,
          0.7100586847498043,
          0.7091606928909054,
          null,
          0.7100586847498043,
          0.6699073708257745,
          null,
          0.6699073708257745,
          0.7091606928909054,
          null
         ]
        },
        {
         "hoverinfo": "text",
         "marker": {
          "color": [],
          "colorbar": {
           "thickness": 15,
           "title": {
            "side": "right",
            "text": "Node Connections"
           },
           "xanchor": "left"
          },
          "colorscale": [
           [
            0,
            "rgb(255,255,217)"
           ],
           [
            0.125,
            "rgb(237,248,177)"
           ],
           [
            0.25,
            "rgb(199,233,180)"
           ],
           [
            0.375,
            "rgb(127,205,187)"
           ],
           [
            0.5,
            "rgb(65,182,196)"
           ],
           [
            0.625,
            "rgb(29,145,192)"
           ],
           [
            0.75,
            "rgb(34,94,168)"
           ],
           [
            0.875,
            "rgb(37,52,148)"
           ],
           [
            1,
            "rgb(8,29,88)"
           ]
          ],
          "line": {
           "width": 2
          },
          "reversescale": true,
          "showscale": true,
          "size": 10
         },
         "mode": "markers",
         "text": [
          "{'work': 74.0, 'school': 5.0, 'home': 20.0, 'age': 19.0, 'private_healthcare': False}",
          "{'work': 20.0, 'school': nan, 'home': 20.0, 'age': 43.0, 'private_healthcare': True}",
          "{'work': nan, 'school': nan, 'home': 20.0, 'age': 2.0, 'private_healthcare': False}",
          "{'work': 74.0, 'school': nan, 'home': 20.0, 'age': 32.0, 'private_healthcare': True}",
          "{'work': 7.0, 'school': nan, 'home': 20.0, 'age': 63.0, 'private_healthcare': True}",
          "{'work': 81.0, 'school': nan, 'home': 20.0, 'age': 48.0, 'private_healthcare': True}",
          "{'work': nan, 'school': 21.0, 'home': 20.0, 'age': 3.0, 'private_healthcare': True}",
          "{'work': nan, 'school': 30.0, 'home': 20.0, 'age': 37.0, 'private_healthcare': False}",
          "{'work': 20.0, 'school': nan, 'home': 20.0, 'age': 36.0, 'private_healthcare': True}",
          "{'work': nan, 'school': nan, 'home': 20.0, 'age': 66.0, 'private_healthcare': True}",
          "{'work': 275.0, 'school': nan, 'home': 20.0, 'age': 28.0, 'private_healthcare': True}",
          "{'work': 59.0, 'school': nan, 'home': 20.0, 'age': 33.0, 'private_healthcare': False}",
          "{'work': nan, 'school': 27.0, 'home': 20.0, 'age': 1.0, 'private_healthcare': False}",
          "{'work': 24.0, 'school': nan, 'home': 20.0, 'age': 59.0, 'private_healthcare': True}",
          "{'work': nan, 'school': nan, 'home': 20.0, 'age': 29.0, 'private_healthcare': False}",
          "{'work': nan, 'school': nan, 'home': 20.0, 'age': 1.0, 'private_healthcare': True}",
          "{'work': 223.0, 'school': 169.0, 'home': 20.0, 'age': 43.0, 'private_healthcare': False}",
          "{'work': nan, 'school': nan, 'home': 20.0, 'age': 44.0, 'private_healthcare': False}",
          "{'work': nan, 'school': nan, 'home': 20.0, 'age': 71.0, 'private_healthcare': True}",
          "{'work': 20.0, 'school': nan, 'home': 20.0, 'age': 41.0, 'private_healthcare': False}",
          "{'work': nan, 'school': nan, 'home': 20.0, 'age': 25.0, 'private_healthcare': False}",
          "{'work': 130.0, 'school': nan, 'home': 20.0, 'age': 25.0, 'private_healthcare': True}",
          "{'work': 6.0, 'school': 18.0, 'home': 20.0, 'age': 59.0, 'private_healthcare': False}",
          "{'work': nan, 'school': nan, 'home': 20.0, 'age': 50.0, 'private_healthcare': False}",
          "{'work': nan, 'school': 23.0, 'home': 20.0, 'age': 7.0, 'private_healthcare': True}",
          "{'work': 2.0, 'school': nan, 'home': 20.0, 'age': 24.0, 'private_healthcare': True}",
          "{'work': nan, 'school': 341.0, 'home': 20.0, 'age': 18.0, 'private_healthcare': True}",
          "{'work': nan, 'school': 24.0, 'home': 20.0, 'age': 9.0, 'private_healthcare': True}",
          "{'work': nan, 'school': 301.0, 'home': 20.0, 'age': 11.0, 'private_healthcare': True}",
          "{'work': nan, 'school': nan, 'home': 20.0, 'age': 33.0, 'private_healthcare': True}",
          "{'work': nan, 'school': 49.0, 'home': 20.0, 'age': 18.0, 'private_healthcare': True}",
          "{'work': nan, 'school': nan, 'home': 20.0, 'age': 66.0, 'private_healthcare': False}",
          "{'work': nan, 'school': nan, 'home': 20.0, 'age': 90.0, 'private_healthcare': True}",
          "{'work': nan, 'school': nan, 'home': 20.0, 'age': 55.0, 'private_healthcare': True}",
          "{'work': 21.0, 'school': nan, 'home': 20.0, 'age': 23.0, 'private_healthcare': True}",
          "{'work': 20.0, 'school': nan, 'home': 20.0, 'age': 53.0, 'private_healthcare': False}",
          "{'work': 5.0, 'school': nan, 'home': 20.0, 'age': 36.0, 'private_healthcare': True}",
          "{'work': 5.0, 'school': nan, 'home': 20.0, 'age': 64.0, 'private_healthcare': False}",
          "{'work': 74.0, 'school': nan, 'home': 20.0, 'age': 25.0, 'private_healthcare': True}",
          "{'work': nan, 'school': nan, 'home': 20.0, 'age': 37.0, 'private_healthcare': True}",
          "{'work': 52.0, 'school': nan, 'home': 20.0, 'age': 53.0, 'private_healthcare': False}",
          "{'work': 8.0, 'school': nan, 'home': 20.0, 'age': 21.0, 'private_healthcare': True}",
          "{'work': 3.0, 'school': nan, 'home': 20.0, 'age': 39.0, 'private_healthcare': True}",
          "{'work': 57.0, 'school': nan, 'home': 20.0, 'age': 47.0, 'private_healthcare': True}",
          "{'work': 9.0, 'school': nan, 'home': 20.0, 'age': 67.0, 'private_healthcare': True}",
          "{'work': nan, 'school': 22.0, 'home': 20.0, 'age': 4.0, 'private_healthcare': True}",
          "{'work': 60.0, 'school': nan, 'home': 20.0, 'age': 32.0, 'private_healthcare': True}",
          "{'work': 20.0, 'school': nan, 'home': 20.0, 'age': 42.0, 'private_healthcare': False}",
          "{'work': 20.0, 'school': nan, 'home': 20.0, 'age': 75.0, 'private_healthcare': True}",
          "{'work': nan, 'school': 20.0, 'home': 20.0, 'age': 3.0, 'private_healthcare': True}",
          "{'work': nan, 'school': nan, 'home': 20.0, 'age': 76.0, 'private_healthcare': True}",
          "{'work': nan, 'school': 24.0, 'home': 20.0, 'age': 14.0, 'private_healthcare': True}",
          "{'work': nan, 'school': nan, 'home': 20.0, 'age': 45.0, 'private_healthcare': False}",
          "{'work': nan, 'school': 18.0, 'home': 20.0, 'age': 16.0, 'private_healthcare': False}",
          "{'work': nan, 'school': 19.0, 'home': 20.0, 'age': 5.0, 'private_healthcare': True}",
          "{'work': nan, 'school': 301.0, 'home': 20.0, 'age': 11.0, 'private_healthcare': True}",
          "{'work': 83.0, 'school': nan, 'home': 20.0, 'age': 57.0, 'private_healthcare': False}",
          "{'work': nan, 'school': nan, 'home': 20.0, 'age': 77.0, 'private_healthcare': False}",
          "{'work': nan, 'school': nan, 'home': 20.0, 'age': 37.0, 'private_healthcare': False}",
          "{'work': 49.0, 'school': nan, 'home': 20.0, 'age': 41.0, 'private_healthcare': True}",
          "{'work': nan, 'school': 73.0, 'home': 20.0, 'age': 46.0, 'private_healthcare': False}",
          "{'work': nan, 'school': nan, 'home': 20.0, 'age': 16.0, 'private_healthcare': False}",
          "{'work': 301.0, 'school': 301.0, 'home': 20.0, 'age': 47.0, 'private_healthcare': True}",
          "{'work': nan, 'school': 19.0, 'home': 20.0, 'age': 1.0, 'private_healthcare': True}",
          "{'work': nan, 'school': 247.0, 'home': 20.0, 'age': 13.0, 'private_healthcare': False}",
          "{'work': 1.0, 'school': nan, 'home': 20.0, 'age': 46.0, 'private_healthcare': True}",
          "{'work': 69.0, 'school': 23.0, 'home': 20.0, 'age': 27.0, 'private_healthcare': True}",
          "{'work': nan, 'school': nan, 'home': 20.0, 'age': 69.0, 'private_healthcare': False}",
          "{'work': nan, 'school': 18.0, 'home': 20.0, 'age': 5.0, 'private_healthcare': True}",
          "{'work': 12.0, 'school': nan, 'home': 20.0, 'age': 65.0, 'private_healthcare': True}",
          "{'work': nan, 'school': nan, 'home': 20.0, 'age': 68.0, 'private_healthcare': False}",
          "{'work': 20.0, 'school': nan, 'home': 20.0, 'age': 55.0, 'private_healthcare': False}",
          "{'work': nan, 'school': nan, 'home': 20.0, 'age': 18.0, 'private_healthcare': True}",
          "{'work': 20.0, 'school': nan, 'home': 20.0, 'age': 48.0, 'private_healthcare': False}",
          "{'work': nan, 'school': nan, 'home': 20.0, 'age': 44.0, 'private_healthcare': False}",
          "{'work': 20.0, 'school': nan, 'home': 20.0, 'age': 48.0, 'private_healthcare': False}",
          "{'work': nan, 'school': nan, 'home': 20.0, 'age': 80.0, 'private_healthcare': False}",
          "{'work': nan, 'school': nan, 'home': 20.0, 'age': 74.0, 'private_healthcare': True}",
          "{'work': nan, 'school': nan, 'home': 20.0, 'age': 81.0, 'private_healthcare': True}",
          "{'work': nan, 'school': nan, 'home': 20.0, 'age': 42.0, 'private_healthcare': False}",
          "{'work': 20.0, 'school': nan, 'home': 20.0, 'age': 43.0, 'private_healthcare': False}",
          "{'work': nan, 'school': 20.0, 'home': 20.0, 'age': 13.0, 'private_healthcare': True}",
          "{'work': 4.0, 'school': nan, 'home': 20.0, 'age': 73.0, 'private_healthcare': True}",
          "{'work': 49.0, 'school': nan, 'home': 20.0, 'age': 54.0, 'private_healthcare': True}",
          "{'work': nan, 'school': 49.0, 'home': 20.0, 'age': 3.0, 'private_healthcare': False}",
          "{'work': nan, 'school': 20.0, 'home': 20.0, 'age': 12.0, 'private_healthcare': False}",
          "{'work': nan, 'school': nan, 'home': 20.0, 'age': 47.0, 'private_healthcare': True}",
          "{'work': 167.0, 'school': 49.0, 'home': 20.0, 'age': 41.0, 'private_healthcare': True}",
          "{'work': 20.0, 'school': nan, 'home': 20.0, 'age': 65.0, 'private_healthcare': True}",
          "{'work': 286.0, 'school': nan, 'home': 20.0, 'age': 67.0, 'private_healthcare': True}",
          "{'work': 20.0, 'school': 23.0, 'home': 20.0, 'age': 35.0, 'private_healthcare': True}",
          "{'work': 275.0, 'school': nan, 'home': 20.0, 'age': 28.0, 'private_healthcare': True}",
          "{'work': nan, 'school': 31.0, 'home': 20.0, 'age': 61.0, 'private_healthcare': True}",
          "{'work': nan, 'school': 23.0, 'home': 20.0, 'age': 12.0, 'private_healthcare': True}",
          "{'work': 23.0, 'school': nan, 'home': 20.0, 'age': 49.0, 'private_healthcare': True}",
          "{'work': nan, 'school': 20.0, 'home': 20.0, 'age': 3.0, 'private_healthcare': True}",
          "{'work': nan, 'school': 21.0, 'home': 20.0, 'age': 7.0, 'private_healthcare': False}",
          "{'work': nan, 'school': nan, 'home': 20.0, 'age': 85.0, 'private_healthcare': False}",
          "{'work': 1.0, 'school': nan, 'home': 20.0, 'age': 57.0, 'private_healthcare': True}",
          "{'work': 20.0, 'school': nan, 'home': 20.0, 'age': 31.0, 'private_healthcare': False}",
          "{'work': nan, 'school': nan, 'home': 20.0, 'age': 45.0, 'private_healthcare': True}",
          "{'work': 78.0, 'school': nan, 'home': 20.0, 'age': 40.0, 'private_healthcare': True}",
          "{'work': 32.0, 'school': nan, 'home': 20.0, 'age': 37.0, 'private_healthcare': True}",
          "{'work': 52.0, 'school': nan, 'home': 20.0, 'age': 58.0, 'private_healthcare': True}",
          "{'work': nan, 'school': nan, 'home': 20.0, 'age': 60.0, 'private_healthcare': True}",
          "{'work': nan, 'school': nan, 'home': 20.0, 'age': 78.0, 'private_healthcare': True}",
          "{'work': 57.0, 'school': nan, 'home': 20.0, 'age': 61.0, 'private_healthcare': True}",
          "{'work': 49.0, 'school': nan, 'home': 20.0, 'age': 62.0, 'private_healthcare': True}",
          "{'work': 27.0, 'school': nan, 'home': 20.0, 'age': 27.0, 'private_healthcare': False}",
          "{'work': 167.0, 'school': nan, 'home': 20.0, 'age': 38.0, 'private_healthcare': True}",
          "{'work': nan, 'school': 18.0, 'home': 20.0, 'age': 5.0, 'private_healthcare': True}",
          "{'work': nan, 'school': 22.0, 'home': 20.0, 'age': 3.0, 'private_healthcare': True}",
          "{'work': 20.0, 'school': nan, 'home': 20.0, 'age': 29.0, 'private_healthcare': True}",
          "{'work': 242.0, 'school': nan, 'home': 20.0, 'age': 56.0, 'private_healthcare': True}",
          "{'work': 167.0, 'school': nan, 'home': 20.0, 'age': 46.0, 'private_healthcare': True}",
          "{'work': nan, 'school': 7.0, 'home': 20.0, 'age': 21.0, 'private_healthcare': False}",
          "{'work': 78.0, 'school': nan, 'home': 20.0, 'age': 31.0, 'private_healthcare': True}",
          "{'work': 20.0, 'school': nan, 'home': 20.0, 'age': 39.0, 'private_healthcare': False}",
          "{'work': nan, 'school': 18.0, 'home': 20.0, 'age': 7.0, 'private_healthcare': True}",
          "{'work': 94.0, 'school': nan, 'home': 20.0, 'age': 29.0, 'private_healthcare': False}",
          "{'work': nan, 'school': 19.0, 'home': 20.0, 'age': 11.0, 'private_healthcare': False}",
          "{'work': nan, 'school': nan, 'home': 20.0, 'age': 71.0, 'private_healthcare': False}",
          "{'work': 74.0, 'school': nan, 'home': 20.0, 'age': 30.0, 'private_healthcare': True}",
          "{'work': nan, 'school': 20.0, 'home': 20.0, 'age': 5.0, 'private_healthcare': False}",
          "{'work': 20.0, 'school': nan, 'home': 20.0, 'age': 38.0, 'private_healthcare': True}",
          "{'work': nan, 'school': nan, 'home': 20.0, 'age': 42.0, 'private_healthcare': True}",
          "{'work': 20.0, 'school': nan, 'home': 20.0, 'age': 65.0, 'private_healthcare': True}",
          "{'work': 2.0, 'school': nan, 'home': 20.0, 'age': 36.0, 'private_healthcare': True}",
          "{'work': 19.0, 'school': nan, 'home': 20.0, 'age': 25.0, 'private_healthcare': True}",
          "{'work': 72.0, 'school': nan, 'home': 20.0, 'age': 54.0, 'private_healthcare': True}",
          "{'work': 32.0, 'school': 28.0, 'home': 20.0, 'age': 41.0, 'private_healthcare': True}",
          "{'work': nan, 'school': 56.0, 'home': 20.0, 'age': 6.0, 'private_healthcare': True}",
          "{'work': nan, 'school': nan, 'home': 20.0, 'age': 26.0, 'private_healthcare': True}",
          "{'work': 1.0, 'school': nan, 'home': 20.0, 'age': 42.0, 'private_healthcare': True}",
          "{'work': 20.0, 'school': nan, 'home': 20.0, 'age': 39.0, 'private_healthcare': True}",
          "{'work': nan, 'school': nan, 'home': 20.0, 'age': 73.0, 'private_healthcare': False}",
          "{'work': 14.0, 'school': nan, 'home': 20.0, 'age': 40.0, 'private_healthcare': False}",
          "{'work': nan, 'school': nan, 'home': 20.0, 'age': 87.0, 'private_healthcare': True}",
          "{'work': 1.0, 'school': nan, 'home': 20.0, 'age': 44.0, 'private_healthcare': True}",
          "{'work': 1.0, 'school': nan, 'home': 20.0, 'age': 30.0, 'private_healthcare': True}"
         ],
         "type": "scatter",
         "x": [
          -0.5861087880288374,
          -0.4602039995614094,
          -0.5710122261830216,
          -0.7990806300867772,
          -0.4262707080545434,
          0.9728787744862336,
          -0.6313552274371544,
          -0.9589190646724558,
          0.9659178841948757,
          -0.2817450999565183,
          -0.959727741558792,
          -0.5574498183209627,
          0.6125182827764488,
          -0.7457718620888074,
          0.6045680787060318,
          0.21553974440757684,
          0.14709251867001819,
          -0.38204838855828854,
          -0.021000280127821545,
          -0.10520872381271346,
          0.5814268195105802,
          -0.9172552037764282,
          -0.7170841805373496,
          0.22204255427857128,
          0.2934953573996242,
          -0.007169992458049202,
          -0.02634807948152818,
          -0.0328997189284727,
          0.7860531644074291,
          -0.5869455815342727,
          -0.4175833273446847,
          -0.16073255422984983,
          0.778319292949727,
          -0.4463468294383129,
          0.218089326694726,
          0.34507627390149137,
          0.08146608172389946,
          0.8715843651400735,
          0.22562126906554228,
          -0.014413817925040127,
          -0.526854016682625,
          0.21889785663211972,
          0.27510194452447806,
          0.6610741724742668,
          -0.40608644100685687,
          -0.009910633944528492,
          -0.0030362290339229275,
          -0.20490320187573746,
          0.4290545486144024,
          0.19550721498343157,
          -0.8919490234019889,
          0.018762117769468508,
          -0.588251029178618,
          0.38768137277254794,
          -0.05017331863165598,
          0.7940012925900595,
          -0.18048203352738698,
          -0.8276307701911203,
          -0.5976283823369031,
          0.26756310876559714,
          -0.7463083112543571,
          -0.10268563335325546,
          0.8102720532706125,
          -0.39626020114870725,
          -0.17212959702393807,
          0.8726494150308434,
          0.3330861025409644,
          -0.7584434714148275,
          0.3088414167057542,
          -0.6197517519654592,
          -0.5659278331525995,
          0.7333837606970184,
          -0.03768408631537221,
          -0.6573674394705226,
          0.4388038020450478,
          -0.6003148826157984,
          0.5822371419991551,
          0.40566553401862204,
          -0.369405676637532,
          0.12948944764689518,
          -0.36713711313013236,
          0.011945446622771977,
          0.8224461695981821,
          -0.29864521498202923,
          -0.6982109923543871,
          0.15608456417544744,
          0.19972916618717676,
          -0.383947181790012,
          0.3033884333569048,
          0.8227396390620801,
          0.28063263147780987,
          0.10051320907573609,
          0.9026291996374427,
          0.3116076553609407,
          0.3264348504601254,
          0.23113918157679855,
          -0.10586006335092683,
          -0.16260885763077487,
          0.36904510101945404,
          0.22988377496046775,
          0.9611535856867471,
          0.0009814007109808587,
          -0.6057634344868112,
          0.1952027921955381,
          -0.3452575487948474,
          -0.8710143841169694,
          0.6921136370353542,
          -0.4173071661023243,
          0.2028784752579007,
          -0.37118779616594716,
          0.41605042764780575,
          -0.020588243179050943,
          0.2302669743601675,
          0.2666218641098893,
          0.3077396466033198,
          -0.08774944712626652,
          0.023392689807232414,
          0.3633770629134048,
          0.43411367959140407,
          -0.682274522009809,
          -0.1297282567101925,
          0.4325259101041907,
          0.20621285452753785,
          0.1260449146391506,
          -0.6639469126258822,
          -0.03148851434311242,
          -0.7237449426444913,
          0.4454732807181551,
          0.2012915059126771,
          0.8606910811699633,
          -0.6123086022124811,
          -0.5754411835764801,
          0.3744585272792398,
          0.2843848364409829,
          0.40855696815869674,
          -0.12237412843936085,
          0.7278213763563869,
          0.7522657802782161,
          -0.5899632408885102,
          -0.7731868305438118
         ],
         "y": [
          0.3021556731990624,
          0.17352262708860797,
          0.32908034140638776,
          0.49659611388398067,
          0.6910345511863933,
          0.17781437457219137,
          -0.2859836303227917,
          -0.20195555013978697,
          0.21537235670957872,
          0.6958100142045347,
          0.004221700038296244,
          -0.7987432264019442,
          0.5469777952502038,
          -0.7224626105732077,
          0.5143879158476873,
          0.738102471681938,
          -0.24434646290449366,
          -0.6083697553030637,
          -0.10869775829824506,
          0.7696898808447675,
          0.5226108523945248,
          0.005426433253598506,
          -0.5162460008829606,
          -0.9811608335410974,
          0.1128670214387179,
          -0.10695907706925228,
          -0.12736060298922874,
          -0.11501478887612182,
          -0.09242843604567418,
          -0.5194491056912057,
          0.17946060911469613,
          -0.8920244777546801,
          0.4401521350404339,
          0.15286699079542032,
          -0.42579010372574394,
          0.8318926871771141,
          0.7069756951260613,
          -0.5015237806576539,
          0.7603183391963197,
          -0.12105293240220547,
          -0.6891246155639432,
          -0.4020174438701165,
          -0.14017339521087943,
          -0.5385467403445207,
          0.6506775035802762,
          -0.09468673504976378,
          -0.7751169202076241,
          -1,
          -0.9014675053084665,
          -0.37563542864989197,
          0.3685918231690651,
          -0.7692481678182415,
          -0.8411110197948705,
          -0.03531988854801076,
          -0.11821640400291142,
          -0.11355940114739896,
          -0.1545411841940713,
          0.19869647570462443,
          0.3158454612896766,
          0.19753793874980738,
          0.6202610628413311,
          0.7221574851630715,
          -0.12024145485377273,
          0.25600315430158765,
          -0.17535133496055388,
          0.09365308108764439,
          0.16376735747412802,
          -0.5399000494453225,
          -0.11084687056623023,
          -0.5502099146751317,
          0.30987266323867163,
          0.706206089933694,
          -0.10220293693011534,
          0.37485354877782107,
          -0.04544908001906471,
          0.33729422577544943,
          0.7158930005688899,
          -0.8575547621086014,
          -0.8360768827847836,
          -0.2515105582691613,
          -0.631492158426999,
          -0.12999774769257538,
          0.09463083381149982,
          0.743162500231782,
          0.3889802029042537,
          -0.28410904279399274,
          -0.41204522573009855,
          0.21878611143161117,
          0.20804354522768184,
          -0.10049929281137551,
          0.1618444897808135,
          0.687776662743538,
          0.37587182480093445,
          0.12744021230673316,
          0.09668740239321233,
          -0.15786888752006092,
          0.7454474917270536,
          -0.8643914708390465,
          0.18664672388814357,
          0.13238863200559597,
          0.19485896378769246,
          -0.798994955032401,
          -0.2756023877057267,
          0.7483796320573762,
          -0.8232697778613248,
          0.34984835661749286,
          -0.5656610285051271,
          -0.936351981417894,
          0.09182068400717056,
          0.253914192886417,
          0.06662157474469682,
          -0.09149872212280849,
          -0.4152688013202748,
          0.21287477819185255,
          0.08630656730080538,
          0.7479090808735646,
          -0.797980293313577,
          0.20195837525021784,
          0.120119740987,
          0.40713426940055947,
          -0.1462737801502049,
          -0.06603078504058701,
          0.772750748496327,
          -0.19684628534923213,
          -0.2924044099631664,
          -0.09290192659658522,
          -0.3089199075770581,
          0.1078180334218916,
          -0.42624067685954425,
          0.35541413555882634,
          0.7100586847498043,
          0.6699073708257745,
          0.16664537313136168,
          -0.15539147532103853,
          0.1401540576995477,
          0.7500670312536086,
          -0.6751701089742563,
          0.4459720926041146,
          0.7091606928909054,
          -0.323159564268351
         ]
        }
       ],
       "layout": {
        "hovermode": "closest",
        "margin": {
         "b": 20,
         "l": 5,
         "r": 5,
         "t": 40
        },
        "showlegend": false,
        "template": {
         "data": {
          "bar": [
           {
            "error_x": {
             "color": "#2a3f5f"
            },
            "error_y": {
             "color": "#2a3f5f"
            },
            "marker": {
             "line": {
              "color": "#E5ECF6",
              "width": 0.5
             }
            },
            "type": "bar"
           }
          ],
          "barpolar": [
           {
            "marker": {
             "line": {
              "color": "#E5ECF6",
              "width": 0.5
             }
            },
            "type": "barpolar"
           }
          ],
          "carpet": [
           {
            "aaxis": {
             "endlinecolor": "#2a3f5f",
             "gridcolor": "white",
             "linecolor": "white",
             "minorgridcolor": "white",
             "startlinecolor": "#2a3f5f"
            },
            "baxis": {
             "endlinecolor": "#2a3f5f",
             "gridcolor": "white",
             "linecolor": "white",
             "minorgridcolor": "white",
             "startlinecolor": "#2a3f5f"
            },
            "type": "carpet"
           }
          ],
          "choropleth": [
           {
            "colorbar": {
             "outlinewidth": 0,
             "ticks": ""
            },
            "type": "choropleth"
           }
          ],
          "contour": [
           {
            "colorbar": {
             "outlinewidth": 0,
             "ticks": ""
            },
            "colorscale": [
             [
              0,
              "#0d0887"
             ],
             [
              0.1111111111111111,
              "#46039f"
             ],
             [
              0.2222222222222222,
              "#7201a8"
             ],
             [
              0.3333333333333333,
              "#9c179e"
             ],
             [
              0.4444444444444444,
              "#bd3786"
             ],
             [
              0.5555555555555556,
              "#d8576b"
             ],
             [
              0.6666666666666666,
              "#ed7953"
             ],
             [
              0.7777777777777778,
              "#fb9f3a"
             ],
             [
              0.8888888888888888,
              "#fdca26"
             ],
             [
              1,
              "#f0f921"
             ]
            ],
            "type": "contour"
           }
          ],
          "contourcarpet": [
           {
            "colorbar": {
             "outlinewidth": 0,
             "ticks": ""
            },
            "type": "contourcarpet"
           }
          ],
          "heatmap": [
           {
            "colorbar": {
             "outlinewidth": 0,
             "ticks": ""
            },
            "colorscale": [
             [
              0,
              "#0d0887"
             ],
             [
              0.1111111111111111,
              "#46039f"
             ],
             [
              0.2222222222222222,
              "#7201a8"
             ],
             [
              0.3333333333333333,
              "#9c179e"
             ],
             [
              0.4444444444444444,
              "#bd3786"
             ],
             [
              0.5555555555555556,
              "#d8576b"
             ],
             [
              0.6666666666666666,
              "#ed7953"
             ],
             [
              0.7777777777777778,
              "#fb9f3a"
             ],
             [
              0.8888888888888888,
              "#fdca26"
             ],
             [
              1,
              "#f0f921"
             ]
            ],
            "type": "heatmap"
           }
          ],
          "heatmapgl": [
           {
            "colorbar": {
             "outlinewidth": 0,
             "ticks": ""
            },
            "colorscale": [
             [
              0,
              "#0d0887"
             ],
             [
              0.1111111111111111,
              "#46039f"
             ],
             [
              0.2222222222222222,
              "#7201a8"
             ],
             [
              0.3333333333333333,
              "#9c179e"
             ],
             [
              0.4444444444444444,
              "#bd3786"
             ],
             [
              0.5555555555555556,
              "#d8576b"
             ],
             [
              0.6666666666666666,
              "#ed7953"
             ],
             [
              0.7777777777777778,
              "#fb9f3a"
             ],
             [
              0.8888888888888888,
              "#fdca26"
             ],
             [
              1,
              "#f0f921"
             ]
            ],
            "type": "heatmapgl"
           }
          ],
          "histogram": [
           {
            "marker": {
             "colorbar": {
              "outlinewidth": 0,
              "ticks": ""
             }
            },
            "type": "histogram"
           }
          ],
          "histogram2d": [
           {
            "colorbar": {
             "outlinewidth": 0,
             "ticks": ""
            },
            "colorscale": [
             [
              0,
              "#0d0887"
             ],
             [
              0.1111111111111111,
              "#46039f"
             ],
             [
              0.2222222222222222,
              "#7201a8"
             ],
             [
              0.3333333333333333,
              "#9c179e"
             ],
             [
              0.4444444444444444,
              "#bd3786"
             ],
             [
              0.5555555555555556,
              "#d8576b"
             ],
             [
              0.6666666666666666,
              "#ed7953"
             ],
             [
              0.7777777777777778,
              "#fb9f3a"
             ],
             [
              0.8888888888888888,
              "#fdca26"
             ],
             [
              1,
              "#f0f921"
             ]
            ],
            "type": "histogram2d"
           }
          ],
          "histogram2dcontour": [
           {
            "colorbar": {
             "outlinewidth": 0,
             "ticks": ""
            },
            "colorscale": [
             [
              0,
              "#0d0887"
             ],
             [
              0.1111111111111111,
              "#46039f"
             ],
             [
              0.2222222222222222,
              "#7201a8"
             ],
             [
              0.3333333333333333,
              "#9c179e"
             ],
             [
              0.4444444444444444,
              "#bd3786"
             ],
             [
              0.5555555555555556,
              "#d8576b"
             ],
             [
              0.6666666666666666,
              "#ed7953"
             ],
             [
              0.7777777777777778,
              "#fb9f3a"
             ],
             [
              0.8888888888888888,
              "#fdca26"
             ],
             [
              1,
              "#f0f921"
             ]
            ],
            "type": "histogram2dcontour"
           }
          ],
          "mesh3d": [
           {
            "colorbar": {
             "outlinewidth": 0,
             "ticks": ""
            },
            "type": "mesh3d"
           }
          ],
          "parcoords": [
           {
            "line": {
             "colorbar": {
              "outlinewidth": 0,
              "ticks": ""
             }
            },
            "type": "parcoords"
           }
          ],
          "pie": [
           {
            "automargin": true,
            "type": "pie"
           }
          ],
          "scatter": [
           {
            "marker": {
             "colorbar": {
              "outlinewidth": 0,
              "ticks": ""
             }
            },
            "type": "scatter"
           }
          ],
          "scatter3d": [
           {
            "line": {
             "colorbar": {
              "outlinewidth": 0,
              "ticks": ""
             }
            },
            "marker": {
             "colorbar": {
              "outlinewidth": 0,
              "ticks": ""
             }
            },
            "type": "scatter3d"
           }
          ],
          "scattercarpet": [
           {
            "marker": {
             "colorbar": {
              "outlinewidth": 0,
              "ticks": ""
             }
            },
            "type": "scattercarpet"
           }
          ],
          "scattergeo": [
           {
            "marker": {
             "colorbar": {
              "outlinewidth": 0,
              "ticks": ""
             }
            },
            "type": "scattergeo"
           }
          ],
          "scattergl": [
           {
            "marker": {
             "colorbar": {
              "outlinewidth": 0,
              "ticks": ""
             }
            },
            "type": "scattergl"
           }
          ],
          "scattermapbox": [
           {
            "marker": {
             "colorbar": {
              "outlinewidth": 0,
              "ticks": ""
             }
            },
            "type": "scattermapbox"
           }
          ],
          "scatterpolar": [
           {
            "marker": {
             "colorbar": {
              "outlinewidth": 0,
              "ticks": ""
             }
            },
            "type": "scatterpolar"
           }
          ],
          "scatterpolargl": [
           {
            "marker": {
             "colorbar": {
              "outlinewidth": 0,
              "ticks": ""
             }
            },
            "type": "scatterpolargl"
           }
          ],
          "scatterternary": [
           {
            "marker": {
             "colorbar": {
              "outlinewidth": 0,
              "ticks": ""
             }
            },
            "type": "scatterternary"
           }
          ],
          "surface": [
           {
            "colorbar": {
             "outlinewidth": 0,
             "ticks": ""
            },
            "colorscale": [
             [
              0,
              "#0d0887"
             ],
             [
              0.1111111111111111,
              "#46039f"
             ],
             [
              0.2222222222222222,
              "#7201a8"
             ],
             [
              0.3333333333333333,
              "#9c179e"
             ],
             [
              0.4444444444444444,
              "#bd3786"
             ],
             [
              0.5555555555555556,
              "#d8576b"
             ],
             [
              0.6666666666666666,
              "#ed7953"
             ],
             [
              0.7777777777777778,
              "#fb9f3a"
             ],
             [
              0.8888888888888888,
              "#fdca26"
             ],
             [
              1,
              "#f0f921"
             ]
            ],
            "type": "surface"
           }
          ],
          "table": [
           {
            "cells": {
             "fill": {
              "color": "#EBF0F8"
             },
             "line": {
              "color": "white"
             }
            },
            "header": {
             "fill": {
              "color": "#C8D4E3"
             },
             "line": {
              "color": "white"
             }
            },
            "type": "table"
           }
          ]
         },
         "layout": {
          "annotationdefaults": {
           "arrowcolor": "#2a3f5f",
           "arrowhead": 0,
           "arrowwidth": 1
          },
          "coloraxis": {
           "colorbar": {
            "outlinewidth": 0,
            "ticks": ""
           }
          },
          "colorscale": {
           "diverging": [
            [
             0,
             "#8e0152"
            ],
            [
             0.1,
             "#c51b7d"
            ],
            [
             0.2,
             "#de77ae"
            ],
            [
             0.3,
             "#f1b6da"
            ],
            [
             0.4,
             "#fde0ef"
            ],
            [
             0.5,
             "#f7f7f7"
            ],
            [
             0.6,
             "#e6f5d0"
            ],
            [
             0.7,
             "#b8e186"
            ],
            [
             0.8,
             "#7fbc41"
            ],
            [
             0.9,
             "#4d9221"
            ],
            [
             1,
             "#276419"
            ]
           ],
           "sequential": [
            [
             0,
             "#0d0887"
            ],
            [
             0.1111111111111111,
             "#46039f"
            ],
            [
             0.2222222222222222,
             "#7201a8"
            ],
            [
             0.3333333333333333,
             "#9c179e"
            ],
            [
             0.4444444444444444,
             "#bd3786"
            ],
            [
             0.5555555555555556,
             "#d8576b"
            ],
            [
             0.6666666666666666,
             "#ed7953"
            ],
            [
             0.7777777777777778,
             "#fb9f3a"
            ],
            [
             0.8888888888888888,
             "#fdca26"
            ],
            [
             1,
             "#f0f921"
            ]
           ],
           "sequentialminus": [
            [
             0,
             "#0d0887"
            ],
            [
             0.1111111111111111,
             "#46039f"
            ],
            [
             0.2222222222222222,
             "#7201a8"
            ],
            [
             0.3333333333333333,
             "#9c179e"
            ],
            [
             0.4444444444444444,
             "#bd3786"
            ],
            [
             0.5555555555555556,
             "#d8576b"
            ],
            [
             0.6666666666666666,
             "#ed7953"
            ],
            [
             0.7777777777777778,
             "#fb9f3a"
            ],
            [
             0.8888888888888888,
             "#fdca26"
            ],
            [
             1,
             "#f0f921"
            ]
           ]
          },
          "colorway": [
           "#636efa",
           "#EF553B",
           "#00cc96",
           "#ab63fa",
           "#FFA15A",
           "#19d3f3",
           "#FF6692",
           "#B6E880",
           "#FF97FF",
           "#FECB52"
          ],
          "font": {
           "color": "#2a3f5f"
          },
          "geo": {
           "bgcolor": "white",
           "lakecolor": "white",
           "landcolor": "#E5ECF6",
           "showlakes": true,
           "showland": true,
           "subunitcolor": "white"
          },
          "hoverlabel": {
           "align": "left"
          },
          "hovermode": "closest",
          "mapbox": {
           "style": "light"
          },
          "paper_bgcolor": "white",
          "plot_bgcolor": "#E5ECF6",
          "polar": {
           "angularaxis": {
            "gridcolor": "white",
            "linecolor": "white",
            "ticks": ""
           },
           "bgcolor": "#E5ECF6",
           "radialaxis": {
            "gridcolor": "white",
            "linecolor": "white",
            "ticks": ""
           }
          },
          "scene": {
           "xaxis": {
            "backgroundcolor": "#E5ECF6",
            "gridcolor": "white",
            "gridwidth": 2,
            "linecolor": "white",
            "showbackground": true,
            "ticks": "",
            "zerolinecolor": "white"
           },
           "yaxis": {
            "backgroundcolor": "#E5ECF6",
            "gridcolor": "white",
            "gridwidth": 2,
            "linecolor": "white",
            "showbackground": true,
            "ticks": "",
            "zerolinecolor": "white"
           },
           "zaxis": {
            "backgroundcolor": "#E5ECF6",
            "gridcolor": "white",
            "gridwidth": 2,
            "linecolor": "white",
            "showbackground": true,
            "ticks": "",
            "zerolinecolor": "white"
           }
          },
          "shapedefaults": {
           "line": {
            "color": "#2a3f5f"
           }
          },
          "ternary": {
           "aaxis": {
            "gridcolor": "white",
            "linecolor": "white",
            "ticks": ""
           },
           "baxis": {
            "gridcolor": "white",
            "linecolor": "white",
            "ticks": ""
           },
           "bgcolor": "#E5ECF6",
           "caxis": {
            "gridcolor": "white",
            "linecolor": "white",
            "ticks": ""
           }
          },
          "title": {
           "x": 0.05
          },
          "xaxis": {
           "automargin": true,
           "gridcolor": "white",
           "linecolor": "white",
           "ticks": "",
           "title": {
            "standoff": 15
           },
           "zerolinecolor": "white",
           "zerolinewidth": 2
          },
          "yaxis": {
           "automargin": true,
           "gridcolor": "white",
           "linecolor": "white",
           "ticks": "",
           "title": {
            "standoff": 15
           },
           "zerolinecolor": "white",
           "zerolinewidth": 2
          }
         }
        }
       }
      },
      "text/html": [
       "<div>\n",
       "        \n",
       "        \n",
       "            <div id=\"27dce84b-bdb6-4671-a95e-eed0d5b8b562\" class=\"plotly-graph-div\" style=\"height:525px; width:100%;\"></div>\n",
       "            <script type=\"text/javascript\">\n",
       "                require([\"plotly\"], function(Plotly) {\n",
       "                    window.PLOTLYENV=window.PLOTLYENV || {};\n",
       "                    \n",
       "                if (document.getElementById(\"27dce84b-bdb6-4671-a95e-eed0d5b8b562\")) {\n",
       "                    Plotly.newPlot(\n",
       "                        '27dce84b-bdb6-4671-a95e-eed0d5b8b562',\n",
       "                        [{\"hoverinfo\": \"none\", \"line\": {\"color\": \"#888\", \"width\": 0.5}, \"mode\": \"lines\", \"type\": \"scatter\", \"x\": [-0.5861087880288374, -0.6003148826157984, null, -0.5861087880288374, -0.5976283823369031, null, -0.5861087880288374, -0.5659278331525995, null, -0.5861087880288374, -0.5710122261830216, null, -0.4602039995614094, -0.4463468294383129, null, -0.4602039995614094, -0.4175833273446847, null, -0.5710122261830216, -0.6003148826157984, null, -0.5710122261830216, -0.5976283823369031, null, -0.5710122261830216, -0.5659278331525995, null, -0.4262707080545434, -0.40608644100685687, null, 0.9728787744862336, 0.9659178841948757, null, -0.6313552274371544, -0.6639469126258822, null, -0.6313552274371544, -0.6057634344868112, null, -0.2817450999565183, -0.29864521498202923, null, -0.959727741558792, -0.9172552037764282, null, -0.5574498183209627, -0.588251029178618, null, 0.6125182827764488, 0.5814268195105802, null, 0.6125182827764488, 0.6045680787060318, null, 0.6045680787060318, 0.5814268195105802, null, 0.21553974440757684, 0.20621285452753785, null, 0.21553974440757684, 0.22562126906554228, null, 0.21553974440757684, 0.1952027921955381, null, 0.14709251867001819, 0.12948944764689518, null, 0.14709251867001819, 0.1260449146391506, null, 0.14709251867001819, 0.15608456417544744, null, -0.38204838855828854, -0.36713711313013236, null, -0.021000280127821545, -0.03148851434311242, null, -0.021000280127821545, -0.020588243179050943, null, -0.021000280127821545, -0.009910633944528492, null, -0.021000280127821545, -0.007169992458049202, null, -0.021000280127821545, -0.05017331863165598, null, -0.021000280127821545, 0.011945446622771977, null, -0.021000280127821545, -0.02634807948152818, null, -0.021000280127821545, -0.03768408631537221, null, -0.021000280127821545, -0.0328997189284727, null, -0.021000280127821545, -0.014413817925040127, null, -0.10520872381271346, -0.12237412843936085, null, -0.10520872381271346, -0.08774944712626652, null, -0.10520872381271346, -0.10268563335325546, null, -0.10520872381271346, -0.10586006335092683, null, -0.7170841805373496, -0.7584434714148275, null, 0.2934953573996242, 0.3264348504601254, null, 0.2934953573996242, 0.3116076553609407, null, 0.2934953573996242, 0.3077396466033198, null, 0.2934953573996242, 0.28063263147780987, null, -0.007169992458049202, -0.03148851434311242, null, -0.007169992458049202, -0.020588243179050943, null, -0.007169992458049202, -0.009910633944528492, null, -0.007169992458049202, -0.05017331863165598, null, -0.007169992458049202, 0.011945446622771977, null, -0.007169992458049202, -0.02634807948152818, null, -0.007169992458049202, -0.03768408631537221, null, -0.007169992458049202, -0.0328997189284727, null, -0.007169992458049202, -0.014413817925040127, null, -0.02634807948152818, -0.03148851434311242, null, -0.02634807948152818, -0.020588243179050943, null, -0.02634807948152818, -0.009910633944528492, null, -0.02634807948152818, -0.05017331863165598, null, -0.02634807948152818, 0.011945446622771977, null, -0.02634807948152818, -0.03768408631537221, null, -0.02634807948152818, -0.0328997189284727, null, -0.02634807948152818, -0.014413817925040127, null, -0.0328997189284727, -0.03148851434311242, null, -0.0328997189284727, -0.020588243179050943, null, -0.0328997189284727, -0.009910633944528492, null, -0.0328997189284727, -0.05017331863165598, null, -0.0328997189284727, 0.011945446622771977, null, -0.0328997189284727, -0.03768408631537221, null, -0.0328997189284727, -0.014413817925040127, null, 0.7860531644074291, 0.8227396390620801, null, 0.7860531644074291, 0.8102720532706125, null, 0.7860531644074291, 0.7940012925900595, null, -0.5869455815342727, -0.6197517519654592, null, -0.4175833273446847, -0.4463468294383129, null, -0.4175833273446847, -0.383947181790012, null, -0.16073255422984983, -0.16260885763077487, null, 0.778319292949727, 0.7522657802782161, null, 0.218089326694726, 0.19972916618717676, null, 0.218089326694726, 0.2302669743601675, null, 0.218089326694726, 0.2012915059126771, null, 0.218089326694726, 0.21889785663211972, null, 0.218089326694726, 0.19550721498343157, null, 0.08146608172389946, 0.10051320907573609, null, 0.22562126906554228, 0.20621285452753785, null, 0.22562126906554228, 0.1952027921955381, null, -0.014413817925040127, -0.03148851434311242, null, -0.014413817925040127, -0.020588243179050943, null, -0.014413817925040127, -0.009910633944528492, null, -0.014413817925040127, -0.05017331863165598, null, -0.014413817925040127, 0.011945446622771977, null, -0.014413817925040127, -0.03768408631537221, null, 0.21889785663211972, 0.19972916618717676, null, 0.21889785663211972, 0.2302669743601675, null, 0.21889785663211972, 0.2012915059126771, null, 0.21889785663211972, 0.19550721498343157, null, 0.27510194452447806, 0.2843848364409829, null, 0.27510194452447806, 0.3088414167057542, null, 0.27510194452447806, 0.23113918157679855, null, 0.6610741724742668, 0.6921136370353542, null, -0.009910633944528492, -0.03148851434311242, null, -0.009910633944528492, -0.020588243179050943, null, -0.009910633944528492, -0.05017331863165598, null, -0.009910633944528492, 0.011945446622771977, null, -0.009910633944528492, -0.03768408631537221, null, -0.0030362290339229275, 0.0009814007109808587, null, -0.0030362290339229275, 0.018762117769468508, null, -0.0030362290339229275, 0.023392689807232414, null, 0.4290545486144024, 0.40566553401862204, null, 0.19550721498343157, 0.19972916618717676, null, 0.19550721498343157, 0.2302669743601675, null, 0.19550721498343157, 0.2012915059126771, null, 0.19550721498343157, 0.15608456417544744, null, -0.8919490234019889, -0.8710143841169694, null, 0.018762117769468508, 0.0009814007109808587, null, 0.018762117769468508, 0.023392689807232414, null, 0.38768137277254794, 0.4325259101041907, null, 0.38768137277254794, 0.4388038020450478, null, 0.38768137277254794, 0.3088414167057542, null, 0.38768137277254794, 0.41605042764780575, null, -0.05017331863165598, -0.03148851434311242, null, -0.05017331863165598, -0.020588243179050943, null, -0.05017331863165598, 0.011945446622771977, null, -0.05017331863165598, -0.03768408631537221, null, -0.05017331863165598, -0.1297282567101925, null, 0.7940012925900595, 0.8227396390620801, null, 0.7940012925900595, 0.8102720532706125, null, -0.18048203352738698, -0.17212959702393807, null, -0.18048203352738698, -0.1297282567101925, null, -0.5976283823369031, -0.6003148826157984, null, -0.5976283823369031, -0.5659278331525995, null, 0.26756310876559714, 0.3033884333569048, null, 0.26756310876559714, 0.2666218641098893, null, 0.26756310876559714, 0.28063263147780987, null, -0.10268563335325546, -0.12237412843936085, null, -0.10268563335325546, -0.08774944712626652, null, -0.10268563335325546, -0.10586006335092683, null, 0.8102720532706125, 0.8227396390620801, null, -0.39626020114870725, -0.383947181790012, null, -0.39626020114870725, -0.37118779616594716, null, -0.17212959702393807, -0.1297282567101925, null, 0.8726494150308434, 0.8224461695981821, null, 0.3330861025409644, 0.36904510101945404, null, 0.3330861025409644, 0.3744585272792398, null, 0.3330861025409644, 0.3116076553609407, null, 0.3330861025409644, 0.28063263147780987, null, 0.3088414167057542, 0.2843848364409829, null, 0.3088414167057542, 0.23113918157679855, null, -0.5659278331525995, -0.6003148826157984, null, -0.03768408631537221, -0.03148851434311242, null, -0.03768408631537221, -0.020588243179050943, null, -0.03768408631537221, 0.011945446622771977, null, -0.6573674394705226, -0.682274522009809, null, -0.6573674394705226, -0.6982109923543871, null, -0.6573674394705226, -0.6003148826157984, null, 0.4388038020450478, 0.4325259101041907, null, -0.369405676637532, -0.3452575487948474, null, 0.12948944764689518, 0.1260449146391506, null, 0.12948944764689518, 0.15608456417544744, null, 0.011945446622771977, -0.03148851434311242, null, 0.011945446622771977, -0.020588243179050943, null, 0.011945446622771977, 0.1260449146391506, null, -0.6982109923543871, -0.682274522009809, null, 0.15608456417544744, 0.1260449146391506, null, 0.19972916618717676, 0.2302669743601675, null, 0.19972916618717676, 0.2012915059126771, null, -0.383947181790012, -0.37118779616594716, null, 0.3033884333569048, 0.2666218641098893, null, 0.3033884333569048, 0.28063263147780987, null, 0.3033884333569048, 0.3633770629134048, null, 0.28063263147780987, 0.2666218641098893, null, 0.28063263147780987, 0.22988377496046775, null, 0.28063263147780987, 0.3116076553609407, null, 0.9026291996374427, 0.8606910811699633, null, 0.3116076553609407, 0.3264348504601254, null, 0.3116076553609407, 0.3077396466033198, null, 0.3264348504601254, 0.3077396466033198, null, 0.23113918157679855, 0.2843848364409829, null, 0.23113918157679855, 0.1260449146391506, null, -0.10586006335092683, -0.12237412843936085, null, -0.10586006335092683, -0.08774944712626652, null, 0.36904510101945404, 0.3744585272792398, null, 0.22988377496046775, 0.2028784752579007, null, 0.0009814007109808587, 0.023392689807232414, null, -0.6057634344868112, -0.6639469126258822, null, 0.1952027921955381, 0.20621285452753785, null, 0.41605042764780575, 0.40855696815869674, null, 0.41605042764780575, 0.4454732807181551, null, 0.41605042764780575, 0.43411367959140407, null, -0.020588243179050943, -0.03148851434311242, null, 0.2302669743601675, 0.2012915059126771, null, -0.08774944712626652, -0.12237412843936085, null, 0.3633770629134048, 0.40855696815869674, null, 0.43411367959140407, 0.40855696815869674, null, 0.43411367959140407, 0.4454732807181551, null, -0.6639469126258822, -0.7237449426444913, null, -0.7237449426444913, -0.7731868305438118, null, 0.4454732807181551, 0.40855696815869674, null, -0.6123086022124811, -0.5899632408885102, null, -0.6123086022124811, -0.5754411835764801, null, -0.5754411835764801, -0.5899632408885102, null], \"y\": [0.3021556731990624, 0.33729422577544943, null, 0.3021556731990624, 0.3158454612896766, null, 0.3021556731990624, 0.30987266323867163, null, 0.3021556731990624, 0.32908034140638776, null, 0.17352262708860797, 0.15286699079542032, null, 0.17352262708860797, 0.17946060911469613, null, 0.32908034140638776, 0.33729422577544943, null, 0.32908034140638776, 0.3158454612896766, null, 0.32908034140638776, 0.30987266323867163, null, 0.6910345511863933, 0.6506775035802762, null, 0.17781437457219137, 0.21537235670957872, null, -0.2859836303227917, -0.2924044099631664, null, -0.2859836303227917, -0.2756023877057267, null, 0.6958100142045347, 0.743162500231782, null, 0.004221700038296244, 0.005426433253598506, null, -0.7987432264019442, -0.8411110197948705, null, 0.5469777952502038, 0.5226108523945248, null, 0.5469777952502038, 0.5143879158476873, null, 0.5143879158476873, 0.5226108523945248, null, 0.738102471681938, 0.772750748496327, null, 0.738102471681938, 0.7603183391963197, null, 0.738102471681938, 0.7483796320573762, null, -0.24434646290449366, -0.2515105582691613, null, -0.24434646290449366, -0.19684628534923213, null, -0.24434646290449366, -0.28410904279399274, null, -0.6083697553030637, -0.631492158426999, null, -0.10869775829824506, -0.09290192659658522, null, -0.10869775829824506, -0.09149872212280849, null, -0.10869775829824506, -0.09468673504976378, null, -0.10869775829824506, -0.10695907706925228, null, -0.10869775829824506, -0.11821640400291142, null, -0.10869775829824506, -0.12999774769257538, null, -0.10869775829824506, -0.12736060298922874, null, -0.10869775829824506, -0.10220293693011534, null, -0.10869775829824506, -0.11501478887612182, null, -0.10869775829824506, -0.12105293240220547, null, 0.7696898808447675, 0.7500670312536086, null, 0.7696898808447675, 0.7479090808735646, null, 0.7696898808447675, 0.7221574851630715, null, 0.7696898808447675, 0.7454474917270536, null, -0.5162460008829606, -0.5399000494453225, null, 0.1128670214387179, 0.09668740239321233, null, 0.1128670214387179, 0.12744021230673316, null, 0.1128670214387179, 0.08630656730080538, null, 0.1128670214387179, 0.1618444897808135, null, -0.10695907706925228, -0.09290192659658522, null, -0.10695907706925228, -0.09149872212280849, null, -0.10695907706925228, -0.09468673504976378, null, -0.10695907706925228, -0.11821640400291142, null, -0.10695907706925228, -0.12999774769257538, null, -0.10695907706925228, -0.12736060298922874, null, -0.10695907706925228, -0.10220293693011534, null, -0.10695907706925228, -0.11501478887612182, null, -0.10695907706925228, -0.12105293240220547, null, -0.12736060298922874, -0.09290192659658522, null, -0.12736060298922874, -0.09149872212280849, null, -0.12736060298922874, -0.09468673504976378, null, -0.12736060298922874, -0.11821640400291142, null, -0.12736060298922874, -0.12999774769257538, null, -0.12736060298922874, -0.10220293693011534, null, -0.12736060298922874, -0.11501478887612182, null, -0.12736060298922874, -0.12105293240220547, null, -0.11501478887612182, -0.09290192659658522, null, -0.11501478887612182, -0.09149872212280849, null, -0.11501478887612182, -0.09468673504976378, null, -0.11501478887612182, -0.11821640400291142, null, -0.11501478887612182, -0.12999774769257538, null, -0.11501478887612182, -0.10220293693011534, null, -0.11501478887612182, -0.12105293240220547, null, -0.09242843604567418, -0.10049929281137551, null, -0.09242843604567418, -0.12024145485377273, null, -0.09242843604567418, -0.11355940114739896, null, -0.5194491056912057, -0.5502099146751317, null, 0.17946060911469613, 0.15286699079542032, null, 0.17946060911469613, 0.21878611143161117, null, -0.8920244777546801, -0.8643914708390465, null, 0.4401521350404339, 0.4459720926041146, null, -0.42579010372574394, -0.41204522573009855, null, -0.42579010372574394, -0.4152688013202748, null, -0.42579010372574394, -0.42624067685954425, null, -0.42579010372574394, -0.4020174438701165, null, -0.42579010372574394, -0.37563542864989197, null, 0.7069756951260613, 0.687776662743538, null, 0.7603183391963197, 0.772750748496327, null, 0.7603183391963197, 0.7483796320573762, null, -0.12105293240220547, -0.09290192659658522, null, -0.12105293240220547, -0.09149872212280849, null, -0.12105293240220547, -0.09468673504976378, null, -0.12105293240220547, -0.11821640400291142, null, -0.12105293240220547, -0.12999774769257538, null, -0.12105293240220547, -0.10220293693011534, null, -0.4020174438701165, -0.41204522573009855, null, -0.4020174438701165, -0.4152688013202748, null, -0.4020174438701165, -0.42624067685954425, null, -0.4020174438701165, -0.37563542864989197, null, -0.14017339521087943, -0.15539147532103853, null, -0.14017339521087943, -0.11084687056623023, null, -0.14017339521087943, -0.15786888752006092, null, -0.5385467403445207, -0.5656610285051271, null, -0.09468673504976378, -0.09290192659658522, null, -0.09468673504976378, -0.09149872212280849, null, -0.09468673504976378, -0.11821640400291142, null, -0.09468673504976378, -0.12999774769257538, null, -0.09468673504976378, -0.10220293693011534, null, -0.7751169202076241, -0.798994955032401, null, -0.7751169202076241, -0.7692481678182415, null, -0.7751169202076241, -0.797980293313577, null, -0.9014675053084665, -0.8575547621086014, null, -0.37563542864989197, -0.41204522573009855, null, -0.37563542864989197, -0.4152688013202748, null, -0.37563542864989197, -0.42624067685954425, null, -0.37563542864989197, -0.28410904279399274, null, 0.3685918231690651, 0.34984835661749286, null, -0.7692481678182415, -0.798994955032401, null, -0.7692481678182415, -0.797980293313577, null, -0.03531988854801076, -0.06603078504058701, null, -0.03531988854801076, -0.04544908001906471, null, -0.03531988854801076, -0.11084687056623023, null, -0.03531988854801076, 0.06662157474469682, null, -0.11821640400291142, -0.09290192659658522, null, -0.11821640400291142, -0.09149872212280849, null, -0.11821640400291142, -0.12999774769257538, null, -0.11821640400291142, -0.10220293693011534, null, -0.11821640400291142, -0.1462737801502049, null, -0.11355940114739896, -0.10049929281137551, null, -0.11355940114739896, -0.12024145485377273, null, -0.1545411841940713, -0.17535133496055388, null, -0.1545411841940713, -0.1462737801502049, null, 0.3158454612896766, 0.33729422577544943, null, 0.3158454612896766, 0.30987266323867163, null, 0.19753793874980738, 0.20804354522768184, null, 0.19753793874980738, 0.21287477819185255, null, 0.19753793874980738, 0.1618444897808135, null, 0.7221574851630715, 0.7500670312536086, null, 0.7221574851630715, 0.7479090808735646, null, 0.7221574851630715, 0.7454474917270536, null, -0.12024145485377273, -0.10049929281137551, null, 0.25600315430158765, 0.21878611143161117, null, 0.25600315430158765, 0.253914192886417, null, -0.17535133496055388, -0.1462737801502049, null, 0.09365308108764439, 0.09463083381149982, null, 0.16376735747412802, 0.18664672388814357, null, 0.16376735747412802, 0.16664537313136168, null, 0.16376735747412802, 0.12744021230673316, null, 0.16376735747412802, 0.1618444897808135, null, -0.11084687056623023, -0.15539147532103853, null, -0.11084687056623023, -0.15786888752006092, null, 0.30987266323867163, 0.33729422577544943, null, -0.10220293693011534, -0.09290192659658522, null, -0.10220293693011534, -0.09149872212280849, null, -0.10220293693011534, -0.12999774769257538, null, 0.37485354877782107, 0.40713426940055947, null, 0.37485354877782107, 0.3889802029042537, null, 0.37485354877782107, 0.33729422577544943, null, -0.04544908001906471, -0.06603078504058701, null, -0.8360768827847836, -0.8232697778613248, null, -0.2515105582691613, -0.19684628534923213, null, -0.2515105582691613, -0.28410904279399274, null, -0.12999774769257538, -0.09290192659658522, null, -0.12999774769257538, -0.09149872212280849, null, -0.12999774769257538, -0.19684628534923213, null, 0.3889802029042537, 0.40713426940055947, null, -0.28410904279399274, -0.19684628534923213, null, -0.41204522573009855, -0.4152688013202748, null, -0.41204522573009855, -0.42624067685954425, null, 0.21878611143161117, 0.253914192886417, null, 0.20804354522768184, 0.21287477819185255, null, 0.20804354522768184, 0.1618444897808135, null, 0.20804354522768184, 0.20195837525021784, null, 0.1618444897808135, 0.21287477819185255, null, 0.1618444897808135, 0.13238863200559597, null, 0.1618444897808135, 0.12744021230673316, null, 0.37587182480093445, 0.35541413555882634, null, 0.12744021230673316, 0.09668740239321233, null, 0.12744021230673316, 0.08630656730080538, null, 0.09668740239321233, 0.08630656730080538, null, -0.15786888752006092, -0.15539147532103853, null, -0.15786888752006092, -0.19684628534923213, null, 0.7454474917270536, 0.7500670312536086, null, 0.7454474917270536, 0.7479090808735646, null, 0.18664672388814357, 0.16664537313136168, null, 0.13238863200559597, 0.09182068400717056, null, -0.798994955032401, -0.797980293313577, null, -0.2756023877057267, -0.2924044099631664, null, 0.7483796320573762, 0.772750748496327, null, 0.06662157474469682, 0.1401540576995477, null, 0.06662157474469682, 0.1078180334218916, null, 0.06662157474469682, 0.120119740987, null, -0.09149872212280849, -0.09290192659658522, null, -0.4152688013202748, -0.42624067685954425, null, 0.7479090808735646, 0.7500670312536086, null, 0.20195837525021784, 0.1401540576995477, null, 0.120119740987, 0.1401540576995477, null, 0.120119740987, 0.1078180334218916, null, -0.2924044099631664, -0.3089199075770581, null, -0.3089199075770581, -0.323159564268351, null, 0.1078180334218916, 0.1401540576995477, null, 0.7100586847498043, 0.7091606928909054, null, 0.7100586847498043, 0.6699073708257745, null, 0.6699073708257745, 0.7091606928909054, null]}, {\"hoverinfo\": \"text\", \"marker\": {\"color\": [], \"colorbar\": {\"thickness\": 15, \"title\": {\"side\": \"right\", \"text\": \"Node Connections\"}, \"xanchor\": \"left\"}, \"colorscale\": [[0.0, \"rgb(255,255,217)\"], [0.125, \"rgb(237,248,177)\"], [0.25, \"rgb(199,233,180)\"], [0.375, \"rgb(127,205,187)\"], [0.5, \"rgb(65,182,196)\"], [0.625, \"rgb(29,145,192)\"], [0.75, \"rgb(34,94,168)\"], [0.875, \"rgb(37,52,148)\"], [1.0, \"rgb(8,29,88)\"]], \"line\": {\"width\": 2}, \"reversescale\": true, \"showscale\": true, \"size\": 10}, \"mode\": \"markers\", \"text\": [\"{'work': 74.0, 'school': 5.0, 'home': 20.0, 'age': 19.0, 'private_healthcare': False}\", \"{'work': 20.0, 'school': nan, 'home': 20.0, 'age': 43.0, 'private_healthcare': True}\", \"{'work': nan, 'school': nan, 'home': 20.0, 'age': 2.0, 'private_healthcare': False}\", \"{'work': 74.0, 'school': nan, 'home': 20.0, 'age': 32.0, 'private_healthcare': True}\", \"{'work': 7.0, 'school': nan, 'home': 20.0, 'age': 63.0, 'private_healthcare': True}\", \"{'work': 81.0, 'school': nan, 'home': 20.0, 'age': 48.0, 'private_healthcare': True}\", \"{'work': nan, 'school': 21.0, 'home': 20.0, 'age': 3.0, 'private_healthcare': True}\", \"{'work': nan, 'school': 30.0, 'home': 20.0, 'age': 37.0, 'private_healthcare': False}\", \"{'work': 20.0, 'school': nan, 'home': 20.0, 'age': 36.0, 'private_healthcare': True}\", \"{'work': nan, 'school': nan, 'home': 20.0, 'age': 66.0, 'private_healthcare': True}\", \"{'work': 275.0, 'school': nan, 'home': 20.0, 'age': 28.0, 'private_healthcare': True}\", \"{'work': 59.0, 'school': nan, 'home': 20.0, 'age': 33.0, 'private_healthcare': False}\", \"{'work': nan, 'school': 27.0, 'home': 20.0, 'age': 1.0, 'private_healthcare': False}\", \"{'work': 24.0, 'school': nan, 'home': 20.0, 'age': 59.0, 'private_healthcare': True}\", \"{'work': nan, 'school': nan, 'home': 20.0, 'age': 29.0, 'private_healthcare': False}\", \"{'work': nan, 'school': nan, 'home': 20.0, 'age': 1.0, 'private_healthcare': True}\", \"{'work': 223.0, 'school': 169.0, 'home': 20.0, 'age': 43.0, 'private_healthcare': False}\", \"{'work': nan, 'school': nan, 'home': 20.0, 'age': 44.0, 'private_healthcare': False}\", \"{'work': nan, 'school': nan, 'home': 20.0, 'age': 71.0, 'private_healthcare': True}\", \"{'work': 20.0, 'school': nan, 'home': 20.0, 'age': 41.0, 'private_healthcare': False}\", \"{'work': nan, 'school': nan, 'home': 20.0, 'age': 25.0, 'private_healthcare': False}\", \"{'work': 130.0, 'school': nan, 'home': 20.0, 'age': 25.0, 'private_healthcare': True}\", \"{'work': 6.0, 'school': 18.0, 'home': 20.0, 'age': 59.0, 'private_healthcare': False}\", \"{'work': nan, 'school': nan, 'home': 20.0, 'age': 50.0, 'private_healthcare': False}\", \"{'work': nan, 'school': 23.0, 'home': 20.0, 'age': 7.0, 'private_healthcare': True}\", \"{'work': 2.0, 'school': nan, 'home': 20.0, 'age': 24.0, 'private_healthcare': True}\", \"{'work': nan, 'school': 341.0, 'home': 20.0, 'age': 18.0, 'private_healthcare': True}\", \"{'work': nan, 'school': 24.0, 'home': 20.0, 'age': 9.0, 'private_healthcare': True}\", \"{'work': nan, 'school': 301.0, 'home': 20.0, 'age': 11.0, 'private_healthcare': True}\", \"{'work': nan, 'school': nan, 'home': 20.0, 'age': 33.0, 'private_healthcare': True}\", \"{'work': nan, 'school': 49.0, 'home': 20.0, 'age': 18.0, 'private_healthcare': True}\", \"{'work': nan, 'school': nan, 'home': 20.0, 'age': 66.0, 'private_healthcare': False}\", \"{'work': nan, 'school': nan, 'home': 20.0, 'age': 90.0, 'private_healthcare': True}\", \"{'work': nan, 'school': nan, 'home': 20.0, 'age': 55.0, 'private_healthcare': True}\", \"{'work': 21.0, 'school': nan, 'home': 20.0, 'age': 23.0, 'private_healthcare': True}\", \"{'work': 20.0, 'school': nan, 'home': 20.0, 'age': 53.0, 'private_healthcare': False}\", \"{'work': 5.0, 'school': nan, 'home': 20.0, 'age': 36.0, 'private_healthcare': True}\", \"{'work': 5.0, 'school': nan, 'home': 20.0, 'age': 64.0, 'private_healthcare': False}\", \"{'work': 74.0, 'school': nan, 'home': 20.0, 'age': 25.0, 'private_healthcare': True}\", \"{'work': nan, 'school': nan, 'home': 20.0, 'age': 37.0, 'private_healthcare': True}\", \"{'work': 52.0, 'school': nan, 'home': 20.0, 'age': 53.0, 'private_healthcare': False}\", \"{'work': 8.0, 'school': nan, 'home': 20.0, 'age': 21.0, 'private_healthcare': True}\", \"{'work': 3.0, 'school': nan, 'home': 20.0, 'age': 39.0, 'private_healthcare': True}\", \"{'work': 57.0, 'school': nan, 'home': 20.0, 'age': 47.0, 'private_healthcare': True}\", \"{'work': 9.0, 'school': nan, 'home': 20.0, 'age': 67.0, 'private_healthcare': True}\", \"{'work': nan, 'school': 22.0, 'home': 20.0, 'age': 4.0, 'private_healthcare': True}\", \"{'work': 60.0, 'school': nan, 'home': 20.0, 'age': 32.0, 'private_healthcare': True}\", \"{'work': 20.0, 'school': nan, 'home': 20.0, 'age': 42.0, 'private_healthcare': False}\", \"{'work': 20.0, 'school': nan, 'home': 20.0, 'age': 75.0, 'private_healthcare': True}\", \"{'work': nan, 'school': 20.0, 'home': 20.0, 'age': 3.0, 'private_healthcare': True}\", \"{'work': nan, 'school': nan, 'home': 20.0, 'age': 76.0, 'private_healthcare': True}\", \"{'work': nan, 'school': 24.0, 'home': 20.0, 'age': 14.0, 'private_healthcare': True}\", \"{'work': nan, 'school': nan, 'home': 20.0, 'age': 45.0, 'private_healthcare': False}\", \"{'work': nan, 'school': 18.0, 'home': 20.0, 'age': 16.0, 'private_healthcare': False}\", \"{'work': nan, 'school': 19.0, 'home': 20.0, 'age': 5.0, 'private_healthcare': True}\", \"{'work': nan, 'school': 301.0, 'home': 20.0, 'age': 11.0, 'private_healthcare': True}\", \"{'work': 83.0, 'school': nan, 'home': 20.0, 'age': 57.0, 'private_healthcare': False}\", \"{'work': nan, 'school': nan, 'home': 20.0, 'age': 77.0, 'private_healthcare': False}\", \"{'work': nan, 'school': nan, 'home': 20.0, 'age': 37.0, 'private_healthcare': False}\", \"{'work': 49.0, 'school': nan, 'home': 20.0, 'age': 41.0, 'private_healthcare': True}\", \"{'work': nan, 'school': 73.0, 'home': 20.0, 'age': 46.0, 'private_healthcare': False}\", \"{'work': nan, 'school': nan, 'home': 20.0, 'age': 16.0, 'private_healthcare': False}\", \"{'work': 301.0, 'school': 301.0, 'home': 20.0, 'age': 47.0, 'private_healthcare': True}\", \"{'work': nan, 'school': 19.0, 'home': 20.0, 'age': 1.0, 'private_healthcare': True}\", \"{'work': nan, 'school': 247.0, 'home': 20.0, 'age': 13.0, 'private_healthcare': False}\", \"{'work': 1.0, 'school': nan, 'home': 20.0, 'age': 46.0, 'private_healthcare': True}\", \"{'work': 69.0, 'school': 23.0, 'home': 20.0, 'age': 27.0, 'private_healthcare': True}\", \"{'work': nan, 'school': nan, 'home': 20.0, 'age': 69.0, 'private_healthcare': False}\", \"{'work': nan, 'school': 18.0, 'home': 20.0, 'age': 5.0, 'private_healthcare': True}\", \"{'work': 12.0, 'school': nan, 'home': 20.0, 'age': 65.0, 'private_healthcare': True}\", \"{'work': nan, 'school': nan, 'home': 20.0, 'age': 68.0, 'private_healthcare': False}\", \"{'work': 20.0, 'school': nan, 'home': 20.0, 'age': 55.0, 'private_healthcare': False}\", \"{'work': nan, 'school': nan, 'home': 20.0, 'age': 18.0, 'private_healthcare': True}\", \"{'work': 20.0, 'school': nan, 'home': 20.0, 'age': 48.0, 'private_healthcare': False}\", \"{'work': nan, 'school': nan, 'home': 20.0, 'age': 44.0, 'private_healthcare': False}\", \"{'work': 20.0, 'school': nan, 'home': 20.0, 'age': 48.0, 'private_healthcare': False}\", \"{'work': nan, 'school': nan, 'home': 20.0, 'age': 80.0, 'private_healthcare': False}\", \"{'work': nan, 'school': nan, 'home': 20.0, 'age': 74.0, 'private_healthcare': True}\", \"{'work': nan, 'school': nan, 'home': 20.0, 'age': 81.0, 'private_healthcare': True}\", \"{'work': nan, 'school': nan, 'home': 20.0, 'age': 42.0, 'private_healthcare': False}\", \"{'work': 20.0, 'school': nan, 'home': 20.0, 'age': 43.0, 'private_healthcare': False}\", \"{'work': nan, 'school': 20.0, 'home': 20.0, 'age': 13.0, 'private_healthcare': True}\", \"{'work': 4.0, 'school': nan, 'home': 20.0, 'age': 73.0, 'private_healthcare': True}\", \"{'work': 49.0, 'school': nan, 'home': 20.0, 'age': 54.0, 'private_healthcare': True}\", \"{'work': nan, 'school': 49.0, 'home': 20.0, 'age': 3.0, 'private_healthcare': False}\", \"{'work': nan, 'school': 20.0, 'home': 20.0, 'age': 12.0, 'private_healthcare': False}\", \"{'work': nan, 'school': nan, 'home': 20.0, 'age': 47.0, 'private_healthcare': True}\", \"{'work': 167.0, 'school': 49.0, 'home': 20.0, 'age': 41.0, 'private_healthcare': True}\", \"{'work': 20.0, 'school': nan, 'home': 20.0, 'age': 65.0, 'private_healthcare': True}\", \"{'work': 286.0, 'school': nan, 'home': 20.0, 'age': 67.0, 'private_healthcare': True}\", \"{'work': 20.0, 'school': 23.0, 'home': 20.0, 'age': 35.0, 'private_healthcare': True}\", \"{'work': 275.0, 'school': nan, 'home': 20.0, 'age': 28.0, 'private_healthcare': True}\", \"{'work': nan, 'school': 31.0, 'home': 20.0, 'age': 61.0, 'private_healthcare': True}\", \"{'work': nan, 'school': 23.0, 'home': 20.0, 'age': 12.0, 'private_healthcare': True}\", \"{'work': 23.0, 'school': nan, 'home': 20.0, 'age': 49.0, 'private_healthcare': True}\", \"{'work': nan, 'school': 20.0, 'home': 20.0, 'age': 3.0, 'private_healthcare': True}\", \"{'work': nan, 'school': 21.0, 'home': 20.0, 'age': 7.0, 'private_healthcare': False}\", \"{'work': nan, 'school': nan, 'home': 20.0, 'age': 85.0, 'private_healthcare': False}\", \"{'work': 1.0, 'school': nan, 'home': 20.0, 'age': 57.0, 'private_healthcare': True}\", \"{'work': 20.0, 'school': nan, 'home': 20.0, 'age': 31.0, 'private_healthcare': False}\", \"{'work': nan, 'school': nan, 'home': 20.0, 'age': 45.0, 'private_healthcare': True}\", \"{'work': 78.0, 'school': nan, 'home': 20.0, 'age': 40.0, 'private_healthcare': True}\", \"{'work': 32.0, 'school': nan, 'home': 20.0, 'age': 37.0, 'private_healthcare': True}\", \"{'work': 52.0, 'school': nan, 'home': 20.0, 'age': 58.0, 'private_healthcare': True}\", \"{'work': nan, 'school': nan, 'home': 20.0, 'age': 60.0, 'private_healthcare': True}\", \"{'work': nan, 'school': nan, 'home': 20.0, 'age': 78.0, 'private_healthcare': True}\", \"{'work': 57.0, 'school': nan, 'home': 20.0, 'age': 61.0, 'private_healthcare': True}\", \"{'work': 49.0, 'school': nan, 'home': 20.0, 'age': 62.0, 'private_healthcare': True}\", \"{'work': 27.0, 'school': nan, 'home': 20.0, 'age': 27.0, 'private_healthcare': False}\", \"{'work': 167.0, 'school': nan, 'home': 20.0, 'age': 38.0, 'private_healthcare': True}\", \"{'work': nan, 'school': 18.0, 'home': 20.0, 'age': 5.0, 'private_healthcare': True}\", \"{'work': nan, 'school': 22.0, 'home': 20.0, 'age': 3.0, 'private_healthcare': True}\", \"{'work': 20.0, 'school': nan, 'home': 20.0, 'age': 29.0, 'private_healthcare': True}\", \"{'work': 242.0, 'school': nan, 'home': 20.0, 'age': 56.0, 'private_healthcare': True}\", \"{'work': 167.0, 'school': nan, 'home': 20.0, 'age': 46.0, 'private_healthcare': True}\", \"{'work': nan, 'school': 7.0, 'home': 20.0, 'age': 21.0, 'private_healthcare': False}\", \"{'work': 78.0, 'school': nan, 'home': 20.0, 'age': 31.0, 'private_healthcare': True}\", \"{'work': 20.0, 'school': nan, 'home': 20.0, 'age': 39.0, 'private_healthcare': False}\", \"{'work': nan, 'school': 18.0, 'home': 20.0, 'age': 7.0, 'private_healthcare': True}\", \"{'work': 94.0, 'school': nan, 'home': 20.0, 'age': 29.0, 'private_healthcare': False}\", \"{'work': nan, 'school': 19.0, 'home': 20.0, 'age': 11.0, 'private_healthcare': False}\", \"{'work': nan, 'school': nan, 'home': 20.0, 'age': 71.0, 'private_healthcare': False}\", \"{'work': 74.0, 'school': nan, 'home': 20.0, 'age': 30.0, 'private_healthcare': True}\", \"{'work': nan, 'school': 20.0, 'home': 20.0, 'age': 5.0, 'private_healthcare': False}\", \"{'work': 20.0, 'school': nan, 'home': 20.0, 'age': 38.0, 'private_healthcare': True}\", \"{'work': nan, 'school': nan, 'home': 20.0, 'age': 42.0, 'private_healthcare': True}\", \"{'work': 20.0, 'school': nan, 'home': 20.0, 'age': 65.0, 'private_healthcare': True}\", \"{'work': 2.0, 'school': nan, 'home': 20.0, 'age': 36.0, 'private_healthcare': True}\", \"{'work': 19.0, 'school': nan, 'home': 20.0, 'age': 25.0, 'private_healthcare': True}\", \"{'work': 72.0, 'school': nan, 'home': 20.0, 'age': 54.0, 'private_healthcare': True}\", \"{'work': 32.0, 'school': 28.0, 'home': 20.0, 'age': 41.0, 'private_healthcare': True}\", \"{'work': nan, 'school': 56.0, 'home': 20.0, 'age': 6.0, 'private_healthcare': True}\", \"{'work': nan, 'school': nan, 'home': 20.0, 'age': 26.0, 'private_healthcare': True}\", \"{'work': 1.0, 'school': nan, 'home': 20.0, 'age': 42.0, 'private_healthcare': True}\", \"{'work': 20.0, 'school': nan, 'home': 20.0, 'age': 39.0, 'private_healthcare': True}\", \"{'work': nan, 'school': nan, 'home': 20.0, 'age': 73.0, 'private_healthcare': False}\", \"{'work': 14.0, 'school': nan, 'home': 20.0, 'age': 40.0, 'private_healthcare': False}\", \"{'work': nan, 'school': nan, 'home': 20.0, 'age': 87.0, 'private_healthcare': True}\", \"{'work': 1.0, 'school': nan, 'home': 20.0, 'age': 44.0, 'private_healthcare': True}\", \"{'work': 1.0, 'school': nan, 'home': 20.0, 'age': 30.0, 'private_healthcare': True}\"], \"type\": \"scatter\", \"x\": [-0.5861087880288374, -0.4602039995614094, -0.5710122261830216, -0.7990806300867772, -0.4262707080545434, 0.9728787744862336, -0.6313552274371544, -0.9589190646724558, 0.9659178841948757, -0.2817450999565183, -0.959727741558792, -0.5574498183209627, 0.6125182827764488, -0.7457718620888074, 0.6045680787060318, 0.21553974440757684, 0.14709251867001819, -0.38204838855828854, -0.021000280127821545, -0.10520872381271346, 0.5814268195105802, -0.9172552037764282, -0.7170841805373496, 0.22204255427857128, 0.2934953573996242, -0.007169992458049202, -0.02634807948152818, -0.0328997189284727, 0.7860531644074291, -0.5869455815342727, -0.4175833273446847, -0.16073255422984983, 0.778319292949727, -0.4463468294383129, 0.218089326694726, 0.34507627390149137, 0.08146608172389946, 0.8715843651400735, 0.22562126906554228, -0.014413817925040127, -0.526854016682625, 0.21889785663211972, 0.27510194452447806, 0.6610741724742668, -0.40608644100685687, -0.009910633944528492, -0.0030362290339229275, -0.20490320187573746, 0.4290545486144024, 0.19550721498343157, -0.8919490234019889, 0.018762117769468508, -0.588251029178618, 0.38768137277254794, -0.05017331863165598, 0.7940012925900595, -0.18048203352738698, -0.8276307701911203, -0.5976283823369031, 0.26756310876559714, -0.7463083112543571, -0.10268563335325546, 0.8102720532706125, -0.39626020114870725, -0.17212959702393807, 0.8726494150308434, 0.3330861025409644, -0.7584434714148275, 0.3088414167057542, -0.6197517519654592, -0.5659278331525995, 0.7333837606970184, -0.03768408631537221, -0.6573674394705226, 0.4388038020450478, -0.6003148826157984, 0.5822371419991551, 0.40566553401862204, -0.369405676637532, 0.12948944764689518, -0.36713711313013236, 0.011945446622771977, 0.8224461695981821, -0.29864521498202923, -0.6982109923543871, 0.15608456417544744, 0.19972916618717676, -0.383947181790012, 0.3033884333569048, 0.8227396390620801, 0.28063263147780987, 0.10051320907573609, 0.9026291996374427, 0.3116076553609407, 0.3264348504601254, 0.23113918157679855, -0.10586006335092683, -0.16260885763077487, 0.36904510101945404, 0.22988377496046775, 0.9611535856867471, 0.0009814007109808587, -0.6057634344868112, 0.1952027921955381, -0.3452575487948474, -0.8710143841169694, 0.6921136370353542, -0.4173071661023243, 0.2028784752579007, -0.37118779616594716, 0.41605042764780575, -0.020588243179050943, 0.2302669743601675, 0.2666218641098893, 0.3077396466033198, -0.08774944712626652, 0.023392689807232414, 0.3633770629134048, 0.43411367959140407, -0.682274522009809, -0.1297282567101925, 0.4325259101041907, 0.20621285452753785, 0.1260449146391506, -0.6639469126258822, -0.03148851434311242, -0.7237449426444913, 0.4454732807181551, 0.2012915059126771, 0.8606910811699633, -0.6123086022124811, -0.5754411835764801, 0.3744585272792398, 0.2843848364409829, 0.40855696815869674, -0.12237412843936085, 0.7278213763563869, 0.7522657802782161, -0.5899632408885102, -0.7731868305438118], \"y\": [0.3021556731990624, 0.17352262708860797, 0.32908034140638776, 0.49659611388398067, 0.6910345511863933, 0.17781437457219137, -0.2859836303227917, -0.20195555013978697, 0.21537235670957872, 0.6958100142045347, 0.004221700038296244, -0.7987432264019442, 0.5469777952502038, -0.7224626105732077, 0.5143879158476873, 0.738102471681938, -0.24434646290449366, -0.6083697553030637, -0.10869775829824506, 0.7696898808447675, 0.5226108523945248, 0.005426433253598506, -0.5162460008829606, -0.9811608335410974, 0.1128670214387179, -0.10695907706925228, -0.12736060298922874, -0.11501478887612182, -0.09242843604567418, -0.5194491056912057, 0.17946060911469613, -0.8920244777546801, 0.4401521350404339, 0.15286699079542032, -0.42579010372574394, 0.8318926871771141, 0.7069756951260613, -0.5015237806576539, 0.7603183391963197, -0.12105293240220547, -0.6891246155639432, -0.4020174438701165, -0.14017339521087943, -0.5385467403445207, 0.6506775035802762, -0.09468673504976378, -0.7751169202076241, -1.0, -0.9014675053084665, -0.37563542864989197, 0.3685918231690651, -0.7692481678182415, -0.8411110197948705, -0.03531988854801076, -0.11821640400291142, -0.11355940114739896, -0.1545411841940713, 0.19869647570462443, 0.3158454612896766, 0.19753793874980738, 0.6202610628413311, 0.7221574851630715, -0.12024145485377273, 0.25600315430158765, -0.17535133496055388, 0.09365308108764439, 0.16376735747412802, -0.5399000494453225, -0.11084687056623023, -0.5502099146751317, 0.30987266323867163, 0.706206089933694, -0.10220293693011534, 0.37485354877782107, -0.04544908001906471, 0.33729422577544943, 0.7158930005688899, -0.8575547621086014, -0.8360768827847836, -0.2515105582691613, -0.631492158426999, -0.12999774769257538, 0.09463083381149982, 0.743162500231782, 0.3889802029042537, -0.28410904279399274, -0.41204522573009855, 0.21878611143161117, 0.20804354522768184, -0.10049929281137551, 0.1618444897808135, 0.687776662743538, 0.37587182480093445, 0.12744021230673316, 0.09668740239321233, -0.15786888752006092, 0.7454474917270536, -0.8643914708390465, 0.18664672388814357, 0.13238863200559597, 0.19485896378769246, -0.798994955032401, -0.2756023877057267, 0.7483796320573762, -0.8232697778613248, 0.34984835661749286, -0.5656610285051271, -0.936351981417894, 0.09182068400717056, 0.253914192886417, 0.06662157474469682, -0.09149872212280849, -0.4152688013202748, 0.21287477819185255, 0.08630656730080538, 0.7479090808735646, -0.797980293313577, 0.20195837525021784, 0.120119740987, 0.40713426940055947, -0.1462737801502049, -0.06603078504058701, 0.772750748496327, -0.19684628534923213, -0.2924044099631664, -0.09290192659658522, -0.3089199075770581, 0.1078180334218916, -0.42624067685954425, 0.35541413555882634, 0.7100586847498043, 0.6699073708257745, 0.16664537313136168, -0.15539147532103853, 0.1401540576995477, 0.7500670312536086, -0.6751701089742563, 0.4459720926041146, 0.7091606928909054, -0.323159564268351]}],\n",
       "                        {\"hovermode\": \"closest\", \"margin\": {\"b\": 20, \"l\": 5, \"r\": 5, \"t\": 40}, \"showlegend\": false, \"template\": {\"data\": {\"bar\": [{\"error_x\": {\"color\": \"#2a3f5f\"}, \"error_y\": {\"color\": \"#2a3f5f\"}, \"marker\": {\"line\": {\"color\": \"#E5ECF6\", \"width\": 0.5}}, \"type\": \"bar\"}], \"barpolar\": [{\"marker\": {\"line\": {\"color\": \"#E5ECF6\", \"width\": 0.5}}, \"type\": \"barpolar\"}], \"carpet\": [{\"aaxis\": {\"endlinecolor\": \"#2a3f5f\", \"gridcolor\": \"white\", \"linecolor\": \"white\", \"minorgridcolor\": \"white\", \"startlinecolor\": \"#2a3f5f\"}, \"baxis\": {\"endlinecolor\": \"#2a3f5f\", \"gridcolor\": \"white\", \"linecolor\": \"white\", \"minorgridcolor\": \"white\", \"startlinecolor\": \"#2a3f5f\"}, \"type\": \"carpet\"}], \"choropleth\": [{\"colorbar\": {\"outlinewidth\": 0, \"ticks\": \"\"}, \"type\": \"choropleth\"}], \"contour\": [{\"colorbar\": {\"outlinewidth\": 0, \"ticks\": \"\"}, \"colorscale\": [[0.0, \"#0d0887\"], [0.1111111111111111, \"#46039f\"], [0.2222222222222222, \"#7201a8\"], [0.3333333333333333, \"#9c179e\"], [0.4444444444444444, \"#bd3786\"], [0.5555555555555556, \"#d8576b\"], [0.6666666666666666, \"#ed7953\"], [0.7777777777777778, \"#fb9f3a\"], [0.8888888888888888, \"#fdca26\"], [1.0, \"#f0f921\"]], \"type\": \"contour\"}], \"contourcarpet\": [{\"colorbar\": {\"outlinewidth\": 0, \"ticks\": \"\"}, \"type\": \"contourcarpet\"}], \"heatmap\": [{\"colorbar\": {\"outlinewidth\": 0, \"ticks\": \"\"}, \"colorscale\": [[0.0, \"#0d0887\"], [0.1111111111111111, \"#46039f\"], [0.2222222222222222, \"#7201a8\"], [0.3333333333333333, \"#9c179e\"], [0.4444444444444444, \"#bd3786\"], [0.5555555555555556, \"#d8576b\"], [0.6666666666666666, \"#ed7953\"], [0.7777777777777778, \"#fb9f3a\"], [0.8888888888888888, \"#fdca26\"], [1.0, \"#f0f921\"]], \"type\": \"heatmap\"}], \"heatmapgl\": [{\"colorbar\": {\"outlinewidth\": 0, \"ticks\": \"\"}, \"colorscale\": [[0.0, \"#0d0887\"], [0.1111111111111111, \"#46039f\"], [0.2222222222222222, \"#7201a8\"], [0.3333333333333333, \"#9c179e\"], [0.4444444444444444, \"#bd3786\"], [0.5555555555555556, \"#d8576b\"], [0.6666666666666666, \"#ed7953\"], [0.7777777777777778, \"#fb9f3a\"], [0.8888888888888888, \"#fdca26\"], [1.0, \"#f0f921\"]], \"type\": \"heatmapgl\"}], \"histogram\": [{\"marker\": {\"colorbar\": {\"outlinewidth\": 0, \"ticks\": \"\"}}, \"type\": \"histogram\"}], \"histogram2d\": [{\"colorbar\": {\"outlinewidth\": 0, \"ticks\": \"\"}, \"colorscale\": [[0.0, \"#0d0887\"], [0.1111111111111111, \"#46039f\"], [0.2222222222222222, \"#7201a8\"], [0.3333333333333333, \"#9c179e\"], [0.4444444444444444, \"#bd3786\"], [0.5555555555555556, \"#d8576b\"], [0.6666666666666666, \"#ed7953\"], [0.7777777777777778, \"#fb9f3a\"], [0.8888888888888888, \"#fdca26\"], [1.0, \"#f0f921\"]], \"type\": \"histogram2d\"}], \"histogram2dcontour\": [{\"colorbar\": {\"outlinewidth\": 0, \"ticks\": \"\"}, \"colorscale\": [[0.0, \"#0d0887\"], [0.1111111111111111, \"#46039f\"], [0.2222222222222222, \"#7201a8\"], [0.3333333333333333, \"#9c179e\"], [0.4444444444444444, \"#bd3786\"], [0.5555555555555556, \"#d8576b\"], [0.6666666666666666, \"#ed7953\"], [0.7777777777777778, \"#fb9f3a\"], [0.8888888888888888, \"#fdca26\"], [1.0, \"#f0f921\"]], \"type\": \"histogram2dcontour\"}], \"mesh3d\": [{\"colorbar\": {\"outlinewidth\": 0, \"ticks\": \"\"}, \"type\": \"mesh3d\"}], \"parcoords\": [{\"line\": {\"colorbar\": {\"outlinewidth\": 0, \"ticks\": \"\"}}, \"type\": \"parcoords\"}], \"pie\": [{\"automargin\": true, \"type\": \"pie\"}], \"scatter\": [{\"marker\": {\"colorbar\": {\"outlinewidth\": 0, \"ticks\": \"\"}}, \"type\": \"scatter\"}], \"scatter3d\": [{\"line\": {\"colorbar\": {\"outlinewidth\": 0, \"ticks\": \"\"}}, \"marker\": {\"colorbar\": {\"outlinewidth\": 0, \"ticks\": \"\"}}, \"type\": \"scatter3d\"}], \"scattercarpet\": [{\"marker\": {\"colorbar\": {\"outlinewidth\": 0, \"ticks\": \"\"}}, \"type\": \"scattercarpet\"}], \"scattergeo\": [{\"marker\": {\"colorbar\": {\"outlinewidth\": 0, \"ticks\": \"\"}}, \"type\": \"scattergeo\"}], \"scattergl\": [{\"marker\": {\"colorbar\": {\"outlinewidth\": 0, \"ticks\": \"\"}}, \"type\": \"scattergl\"}], \"scattermapbox\": [{\"marker\": {\"colorbar\": {\"outlinewidth\": 0, \"ticks\": \"\"}}, \"type\": \"scattermapbox\"}], \"scatterpolar\": [{\"marker\": {\"colorbar\": {\"outlinewidth\": 0, \"ticks\": \"\"}}, \"type\": \"scatterpolar\"}], \"scatterpolargl\": [{\"marker\": {\"colorbar\": {\"outlinewidth\": 0, \"ticks\": \"\"}}, \"type\": \"scatterpolargl\"}], \"scatterternary\": [{\"marker\": {\"colorbar\": {\"outlinewidth\": 0, \"ticks\": \"\"}}, \"type\": \"scatterternary\"}], \"surface\": [{\"colorbar\": {\"outlinewidth\": 0, \"ticks\": \"\"}, \"colorscale\": [[0.0, \"#0d0887\"], [0.1111111111111111, \"#46039f\"], [0.2222222222222222, \"#7201a8\"], [0.3333333333333333, \"#9c179e\"], [0.4444444444444444, \"#bd3786\"], [0.5555555555555556, \"#d8576b\"], [0.6666666666666666, \"#ed7953\"], [0.7777777777777778, \"#fb9f3a\"], [0.8888888888888888, \"#fdca26\"], [1.0, \"#f0f921\"]], \"type\": \"surface\"}], \"table\": [{\"cells\": {\"fill\": {\"color\": \"#EBF0F8\"}, \"line\": {\"color\": \"white\"}}, \"header\": {\"fill\": {\"color\": \"#C8D4E3\"}, \"line\": {\"color\": \"white\"}}, \"type\": \"table\"}]}, \"layout\": {\"annotationdefaults\": {\"arrowcolor\": \"#2a3f5f\", \"arrowhead\": 0, \"arrowwidth\": 1}, \"coloraxis\": {\"colorbar\": {\"outlinewidth\": 0, \"ticks\": \"\"}}, \"colorscale\": {\"diverging\": [[0, \"#8e0152\"], [0.1, \"#c51b7d\"], [0.2, \"#de77ae\"], [0.3, \"#f1b6da\"], [0.4, \"#fde0ef\"], [0.5, \"#f7f7f7\"], [0.6, \"#e6f5d0\"], [0.7, \"#b8e186\"], [0.8, \"#7fbc41\"], [0.9, \"#4d9221\"], [1, \"#276419\"]], \"sequential\": [[0.0, \"#0d0887\"], [0.1111111111111111, \"#46039f\"], [0.2222222222222222, \"#7201a8\"], [0.3333333333333333, \"#9c179e\"], [0.4444444444444444, \"#bd3786\"], [0.5555555555555556, \"#d8576b\"], [0.6666666666666666, \"#ed7953\"], [0.7777777777777778, \"#fb9f3a\"], [0.8888888888888888, \"#fdca26\"], [1.0, \"#f0f921\"]], \"sequentialminus\": [[0.0, \"#0d0887\"], [0.1111111111111111, \"#46039f\"], [0.2222222222222222, \"#7201a8\"], [0.3333333333333333, \"#9c179e\"], [0.4444444444444444, \"#bd3786\"], [0.5555555555555556, \"#d8576b\"], [0.6666666666666666, \"#ed7953\"], [0.7777777777777778, \"#fb9f3a\"], [0.8888888888888888, \"#fdca26\"], [1.0, \"#f0f921\"]]}, \"colorway\": [\"#636efa\", \"#EF553B\", \"#00cc96\", \"#ab63fa\", \"#FFA15A\", \"#19d3f3\", \"#FF6692\", \"#B6E880\", \"#FF97FF\", \"#FECB52\"], \"font\": {\"color\": \"#2a3f5f\"}, \"geo\": {\"bgcolor\": \"white\", \"lakecolor\": \"white\", \"landcolor\": \"#E5ECF6\", \"showlakes\": true, \"showland\": true, \"subunitcolor\": \"white\"}, \"hoverlabel\": {\"align\": \"left\"}, \"hovermode\": \"closest\", \"mapbox\": {\"style\": \"light\"}, \"paper_bgcolor\": \"white\", \"plot_bgcolor\": \"#E5ECF6\", \"polar\": {\"angularaxis\": {\"gridcolor\": \"white\", \"linecolor\": \"white\", \"ticks\": \"\"}, \"bgcolor\": \"#E5ECF6\", \"radialaxis\": {\"gridcolor\": \"white\", \"linecolor\": \"white\", \"ticks\": \"\"}}, \"scene\": {\"xaxis\": {\"backgroundcolor\": \"#E5ECF6\", \"gridcolor\": \"white\", \"gridwidth\": 2, \"linecolor\": \"white\", \"showbackground\": true, \"ticks\": \"\", \"zerolinecolor\": \"white\"}, \"yaxis\": {\"backgroundcolor\": \"#E5ECF6\", \"gridcolor\": \"white\", \"gridwidth\": 2, \"linecolor\": \"white\", \"showbackground\": true, \"ticks\": \"\", \"zerolinecolor\": \"white\"}, \"zaxis\": {\"backgroundcolor\": \"#E5ECF6\", \"gridcolor\": \"white\", \"gridwidth\": 2, \"linecolor\": \"white\", \"showbackground\": true, \"ticks\": \"\", \"zerolinecolor\": \"white\"}}, \"shapedefaults\": {\"line\": {\"color\": \"#2a3f5f\"}}, \"ternary\": {\"aaxis\": {\"gridcolor\": \"white\", \"linecolor\": \"white\", \"ticks\": \"\"}, \"baxis\": {\"gridcolor\": \"white\", \"linecolor\": \"white\", \"ticks\": \"\"}, \"bgcolor\": \"#E5ECF6\", \"caxis\": {\"gridcolor\": \"white\", \"linecolor\": \"white\", \"ticks\": \"\"}}, \"title\": {\"x\": 0.05}, \"xaxis\": {\"automargin\": true, \"gridcolor\": \"white\", \"linecolor\": \"white\", \"ticks\": \"\", \"title\": {\"standoff\": 15}, \"zerolinecolor\": \"white\", \"zerolinewidth\": 2}, \"yaxis\": {\"automargin\": true, \"gridcolor\": \"white\", \"linecolor\": \"white\", \"ticks\": \"\", \"title\": {\"standoff\": 15}, \"zerolinecolor\": \"white\", \"zerolinewidth\": 2}}}},\n",
       "                        {\"responsive\": true}\n",
       "                    ).then(function(){\n",
       "                            \n",
       "var gd = document.getElementById('27dce84b-bdb6-4671-a95e-eed0d5b8b562');\n",
       "var x = new MutationObserver(function (mutations, observer) {{\n",
       "        var display = window.getComputedStyle(gd).display;\n",
       "        if (!display || display === 'none') {{\n",
       "            console.log([gd, 'removed!']);\n",
       "            Plotly.purge(gd);\n",
       "            observer.disconnect();\n",
       "        }}\n",
       "}});\n",
       "\n",
       "// Listen for the removal of the full notebook cells\n",
       "var notebookContainer = gd.closest('#notebook-container');\n",
       "if (notebookContainer) {{\n",
       "    x.observe(notebookContainer, {childList: true});\n",
       "}}\n",
       "\n",
       "// Listen for the clearing of the current output cell\n",
       "var outputEl = gd.closest('.output');\n",
       "if (outputEl) {{\n",
       "    x.observe(outputEl, {childList: true});\n",
       "}}\n",
       "\n",
       "                        })\n",
       "                };\n",
       "                });\n",
       "            </script>\n",
       "        </div>"
      ]
     },
     "metadata": {},
     "output_type": "display_data"
    }
   ],
   "source": [
    "plot_graph(sub_G)"
   ]
  },
  {
   "cell_type": "code",
   "execution_count": 27,
   "metadata": {
    "scrolled": true
   },
   "outputs": [
    {
     "data": {
      "application/vnd.plotly.v1+json": {
       "config": {
        "plotlyServerURL": "https://plot.ly"
       },
       "data": [
        {
         "hoverinfo": "none",
         "line": {
          "color": "#888",
          "width": 0.5
         },
         "mode": "lines",
         "type": "scatter",
         "x": [
          0.03970393477676441,
          -0.07017572638560163,
          null,
          0.03970393477676441,
          -0.05755534206523859,
          null,
          0.03970393477676441,
          0.15685004777978037,
          null,
          0.03970393477676441,
          0.10658306501399341,
          null,
          0.461830252406296,
          0.3081581187124272,
          null,
          -0.4588101745532051,
          -0.38730157092188183,
          null,
          -0.4588101745532051,
          -0.4113652316265896,
          null,
          -0.4588101745532051,
          -0.2816729860607197,
          null,
          -0.4588101745532051,
          -0.6103414377580062,
          null,
          -0.5872946644274041,
          -0.4897464704025812,
          null,
          -0.5872946644274041,
          -0.619689244665705,
          null,
          -0.5872946644274041,
          -0.5781865180158555,
          null,
          -0.5872946644274041,
          -0.6103414377580062,
          null,
          0.32794842072479835,
          0.32029652451266827,
          null,
          0.32794842072479835,
          0.2641541588777771,
          null,
          0.32794842072479835,
          0.2568257213580419,
          null,
          0.32794842072479835,
          0.3100449339570695,
          null,
          0.32794842072479835,
          0.29157212809469263,
          null,
          0.32794842072479835,
          0.3182715878082984,
          null,
          0.32794842072479835,
          0.2148551030956815,
          null,
          0.32794842072479835,
          0.29084926515696374,
          null,
          0.32794842072479835,
          0.2451781973858942,
          null,
          0.32794842072479835,
          0.3388539216662281,
          null,
          -0.724604166105126,
          -0.7507701429535424,
          null,
          -0.724604166105126,
          -0.6103414377580062,
          null,
          0.3388539216662281,
          0.32029652451266827,
          null,
          0.3388539216662281,
          0.2641541588777771,
          null,
          0.3388539216662281,
          0.2568257213580419,
          null,
          0.3388539216662281,
          0.3100449339570695,
          null,
          0.3388539216662281,
          0.29157212809469263,
          null,
          0.3388539216662281,
          0.3182715878082984,
          null,
          0.3388539216662281,
          0.2148551030956815,
          null,
          0.3388539216662281,
          0.29084926515696374,
          null,
          0.3388539216662281,
          0.2451781973858942,
          null,
          0.2568257213580419,
          0.32029652451266827,
          null,
          0.2568257213580419,
          0.2641541588777771,
          null,
          0.2568257213580419,
          0.3100449339570695,
          null,
          0.2568257213580419,
          0.29157212809469263,
          null,
          0.2568257213580419,
          0.3182715878082984,
          null,
          0.2568257213580419,
          0.2148551030956815,
          null,
          0.2568257213580419,
          0.29084926515696374,
          null,
          0.2568257213580419,
          0.2451781973858942,
          null,
          0.07588946707203738,
          0.04371854395218038,
          null,
          0.07588946707203738,
          0.03815956838786409,
          null,
          0.07588946707203738,
          -0.010416995467059318,
          null,
          0.07588946707203738,
          -0.010107758223643817,
          null,
          0.07588946707203738,
          0.017952736132688954,
          null,
          -0.38730157092188183,
          -0.4113652316265896,
          null,
          -0.38730157092188183,
          -0.2816729860607197,
          null,
          0.03815956838786409,
          0.04371854395218038,
          null,
          0.03815956838786409,
          -0.010416995467059318,
          null,
          0.03815956838786409,
          -0.010107758223643817,
          null,
          0.03815956838786409,
          0.017952736132688954,
          null,
          0.2148551030956815,
          0.32029652451266827,
          null,
          0.2148551030956815,
          0.2641541588777771,
          null,
          0.2148551030956815,
          0.3100449339570695,
          null,
          0.2148551030956815,
          0.29157212809469263,
          null,
          0.2148551030956815,
          0.3182715878082984,
          null,
          0.2148551030956815,
          0.29084926515696374,
          null,
          0.2148551030956815,
          0.2451781973858942,
          null,
          0.2148551030956815,
          -0.03762896784721526,
          null,
          0.008726601429290376,
          0.05685955965222203,
          null,
          0.008726601429290376,
          -0.03762896784721526,
          null,
          0.008726601429290376,
          0.0007350025900287895,
          null,
          0.3100449339570695,
          0.32029652451266827,
          null,
          0.3100449339570695,
          0.2641541588777771,
          null,
          0.3100449339570695,
          0.29157212809469263,
          null,
          0.3100449339570695,
          0.3182715878082984,
          null,
          0.3100449339570695,
          0.29084926515696374,
          null,
          0.3100449339570695,
          0.2451781973858942,
          null,
          -0.014813992104382017,
          -0.07953397666104847,
          null,
          -0.014813992104382017,
          0.023248035038065308,
          null,
          -0.014813992104382017,
          0.10658306501399341,
          null,
          0.21019208991310448,
          0.2588155302386696,
          null,
          0.21019208991310448,
          0.21044022679955715,
          null,
          0.21019208991310448,
          0.15685004777978037,
          null,
          0.017952736132688954,
          0.04371854395218038,
          null,
          0.017952736132688954,
          -0.010416995467059318,
          null,
          0.017952736132688954,
          -0.010107758223643817,
          null,
          0.017952736132688954,
          0.0007350025900287895,
          null,
          0.0007350025900287895,
          0.05685955965222203,
          null,
          0.0007350025900287895,
          -0.03762896784721526,
          null,
          0.04371854395218038,
          -0.010416995467059318,
          null,
          0.04371854395218038,
          -0.010107758223643817,
          null,
          -0.2958567323658599,
          -0.4897464704025812,
          null,
          -0.2958567323658599,
          -0.07953397666104847,
          null,
          -0.07953397666104847,
          0.023248035038065308,
          null,
          -0.07953397666104847,
          0.10658306501399341,
          null,
          -0.5781865180158555,
          -0.4897464704025812,
          null,
          -0.5781865180158555,
          -0.619689244665705,
          null,
          0.3947396723890611,
          0.4125173314519993,
          null,
          0.3947396723890611,
          0.47190235223652377,
          null,
          0.3947396723890611,
          0.3182715878082984,
          null,
          -0.7507701429535424,
          -0.6103414377580062,
          null,
          0.10658306501399341,
          0.023248035038065308,
          null,
          0.10658306501399341,
          0.3081581187124272,
          null,
          0.10658306501399341,
          0.21044022679955715,
          null,
          0.10658306501399341,
          0.15685004777978037,
          null,
          -0.03762896784721526,
          0.05685955965222203,
          null,
          -0.03762896784721526,
          -0.2816729860607197,
          null,
          0.32029652451266827,
          0.2641541588777771,
          null,
          0.32029652451266827,
          0.29157212809469263,
          null,
          0.32029652451266827,
          0.3182715878082984,
          null,
          0.32029652451266827,
          0.29084926515696374,
          null,
          0.32029652451266827,
          0.2451781973858942,
          null,
          0.15685004777978037,
          0.2588155302386696,
          null,
          0.15685004777978037,
          0.21044022679955715,
          null,
          0.2588155302386696,
          0.21044022679955715,
          null,
          0.3182715878082984,
          0.2641541588777771,
          null,
          0.3182715878082984,
          0.29157212809469263,
          null,
          0.3182715878082984,
          0.29084926515696374,
          null,
          0.3182715878082984,
          0.2451781973858942,
          null,
          0.4125173314519993,
          0.47190235223652377,
          null,
          0.2641541588777771,
          0.29157212809469263,
          null,
          0.2641541588777771,
          0.29084926515696374,
          null,
          0.2641541588777771,
          0.2451781973858942,
          null,
          -0.2816729860607197,
          -0.4113652316265896,
          null,
          -0.010416995467059318,
          -0.010107758223643817,
          null,
          -0.619689244665705,
          -0.4897464704025812,
          null,
          0.29157212809469263,
          0.29084926515696374,
          null,
          0.29157212809469263,
          0.2451781973858942,
          null,
          -0.05755534206523859,
          -0.07017572638560163,
          null,
          0.29084926515696374,
          0.2451781973858942,
          null
         ],
         "y": [
          -0.8602654822507524,
          -0.8426236919960295,
          null,
          -0.8602654822507524,
          -0.9182536150494791,
          null,
          -0.8602654822507524,
          -0.8955623912044216,
          null,
          -0.8602654822507524,
          -0.7316929174115477,
          null,
          -0.592994777867211,
          -0.6733551692895308,
          null,
          0.49269050409050646,
          0.6135737887397122,
          null,
          0.49269050409050646,
          0.5772157360436955,
          null,
          0.49269050409050646,
          0.5376692684869693,
          null,
          0.49269050409050646,
          0.31325073552815524,
          null,
          0.05195572368174611,
          -0.14856128103621694,
          null,
          0.05195572368174611,
          -0.0804571923682617,
          null,
          0.05195572368174611,
          -0.06055290254672955,
          null,
          0.05195572368174611,
          0.31325073552815524,
          null,
          0.32214441299038876,
          0.2935893149042198,
          null,
          0.32214441299038876,
          0.3022844336789918,
          null,
          0.32214441299038876,
          0.35487607279678735,
          null,
          0.32214441299038876,
          0.37953693758805634,
          null,
          0.32214441299038876,
          0.3487704109980528,
          null,
          0.32214441299038876,
          0.4194392857985345,
          null,
          0.32214441299038876,
          0.38106458302926993,
          null,
          0.32214441299038876,
          0.29500279718331895,
          null,
          0.32214441299038876,
          0.32559521116674195,
          null,
          0.32214441299038876,
          0.3517870005737115,
          null,
          0.4001373762800309,
          0.34542220552939984,
          null,
          0.4001373762800309,
          0.31325073552815524,
          null,
          0.3517870005737115,
          0.2935893149042198,
          null,
          0.3517870005737115,
          0.3022844336789918,
          null,
          0.3517870005737115,
          0.35487607279678735,
          null,
          0.3517870005737115,
          0.37953693758805634,
          null,
          0.3517870005737115,
          0.3487704109980528,
          null,
          0.3517870005737115,
          0.4194392857985345,
          null,
          0.3517870005737115,
          0.38106458302926993,
          null,
          0.3517870005737115,
          0.29500279718331895,
          null,
          0.3517870005737115,
          0.32559521116674195,
          null,
          0.35487607279678735,
          0.2935893149042198,
          null,
          0.35487607279678735,
          0.3022844336789918,
          null,
          0.35487607279678735,
          0.37953693758805634,
          null,
          0.35487607279678735,
          0.3487704109980528,
          null,
          0.35487607279678735,
          0.4194392857985345,
          null,
          0.35487607279678735,
          0.38106458302926993,
          null,
          0.35487607279678735,
          0.29500279718331895,
          null,
          0.35487607279678735,
          0.32559521116674195,
          null,
          -0.03536198422588476,
          -0.007838296524700944,
          null,
          -0.03536198422588476,
          -0.06748077001540177,
          null,
          -0.03536198422588476,
          -0.010496536722097915,
          null,
          -0.03536198422588476,
          -0.05345205128049029,
          null,
          -0.03536198422588476,
          0.07674659061554044,
          null,
          0.6135737887397122,
          0.5772157360436955,
          null,
          0.6135737887397122,
          0.5376692684869693,
          null,
          -0.06748077001540177,
          -0.007838296524700944,
          null,
          -0.06748077001540177,
          -0.010496536722097915,
          null,
          -0.06748077001540177,
          -0.05345205128049029,
          null,
          -0.06748077001540177,
          0.07674659061554044,
          null,
          0.38106458302926993,
          0.2935893149042198,
          null,
          0.38106458302926993,
          0.3022844336789918,
          null,
          0.38106458302926993,
          0.37953693758805634,
          null,
          0.38106458302926993,
          0.3487704109980528,
          null,
          0.38106458302926993,
          0.4194392857985345,
          null,
          0.38106458302926993,
          0.29500279718331895,
          null,
          0.38106458302926993,
          0.32559521116674195,
          null,
          0.38106458302926993,
          0.4535049290736528,
          null,
          0.48140604418425104,
          0.4686078118556119,
          null,
          0.48140604418425104,
          0.4535049290736528,
          null,
          0.48140604418425104,
          0.3274372850944795,
          null,
          0.37953693758805634,
          0.2935893149042198,
          null,
          0.37953693758805634,
          0.3022844336789918,
          null,
          0.37953693758805634,
          0.3487704109980528,
          null,
          0.37953693758805634,
          0.4194392857985345,
          null,
          0.37953693758805634,
          0.29500279718331895,
          null,
          0.37953693758805634,
          0.32559521116674195,
          null,
          -0.6789145361949942,
          -0.5662922565302089,
          null,
          -0.6789145361949942,
          -0.6436732270618265,
          null,
          -0.6789145361949942,
          -0.7316929174115477,
          null,
          -1,
          -0.9710112109380339,
          null,
          -1,
          -0.884669478115824,
          null,
          -1,
          -0.8955623912044216,
          null,
          0.07674659061554044,
          -0.007838296524700944,
          null,
          0.07674659061554044,
          -0.010496536722097915,
          null,
          0.07674659061554044,
          -0.05345205128049029,
          null,
          0.07674659061554044,
          0.3274372850944795,
          null,
          0.3274372850944795,
          0.4686078118556119,
          null,
          0.3274372850944795,
          0.4535049290736528,
          null,
          -0.007838296524700944,
          -0.010496536722097915,
          null,
          -0.007838296524700944,
          -0.05345205128049029,
          null,
          -0.3655892713422555,
          -0.14856128103621694,
          null,
          -0.3655892713422555,
          -0.5662922565302089,
          null,
          -0.5662922565302089,
          -0.6436732270618265,
          null,
          -0.5662922565302089,
          -0.7316929174115477,
          null,
          -0.06055290254672955,
          -0.14856128103621694,
          null,
          -0.06055290254672955,
          -0.0804571923682617,
          null,
          0.6373994050364913,
          0.7791027383622806,
          null,
          0.6373994050364913,
          0.7588884366613022,
          null,
          0.6373994050364913,
          0.4194392857985345,
          null,
          0.34542220552939984,
          0.31325073552815524,
          null,
          -0.7316929174115477,
          -0.6436732270618265,
          null,
          -0.7316929174115477,
          -0.6733551692895308,
          null,
          -0.7316929174115477,
          -0.884669478115824,
          null,
          -0.7316929174115477,
          -0.8955623912044216,
          null,
          0.4535049290736528,
          0.4686078118556119,
          null,
          0.4535049290736528,
          0.5376692684869693,
          null,
          0.2935893149042198,
          0.3022844336789918,
          null,
          0.2935893149042198,
          0.3487704109980528,
          null,
          0.2935893149042198,
          0.4194392857985345,
          null,
          0.2935893149042198,
          0.29500279718331895,
          null,
          0.2935893149042198,
          0.32559521116674195,
          null,
          -0.8955623912044216,
          -0.9710112109380339,
          null,
          -0.8955623912044216,
          -0.884669478115824,
          null,
          -0.9710112109380339,
          -0.884669478115824,
          null,
          0.4194392857985345,
          0.3022844336789918,
          null,
          0.4194392857985345,
          0.3487704109980528,
          null,
          0.4194392857985345,
          0.29500279718331895,
          null,
          0.4194392857985345,
          0.32559521116674195,
          null,
          0.7791027383622806,
          0.7588884366613022,
          null,
          0.3022844336789918,
          0.3487704109980528,
          null,
          0.3022844336789918,
          0.29500279718331895,
          null,
          0.3022844336789918,
          0.32559521116674195,
          null,
          0.5376692684869693,
          0.5772157360436955,
          null,
          -0.010496536722097915,
          -0.05345205128049029,
          null,
          -0.0804571923682617,
          -0.14856128103621694,
          null,
          0.3487704109980528,
          0.29500279718331895,
          null,
          0.3487704109980528,
          0.32559521116674195,
          null,
          -0.9182536150494791,
          -0.8426236919960295,
          null,
          0.29500279718331895,
          0.32559521116674195,
          null
         ]
        },
        {
         "hoverinfo": "text",
         "marker": {
          "color": [],
          "colorbar": {
           "thickness": 15,
           "title": {
            "side": "right",
            "text": "Node Connections"
           },
           "xanchor": "left"
          },
          "colorscale": [
           [
            0,
            "rgb(255,255,217)"
           ],
           [
            0.125,
            "rgb(237,248,177)"
           ],
           [
            0.25,
            "rgb(199,233,180)"
           ],
           [
            0.375,
            "rgb(127,205,187)"
           ],
           [
            0.5,
            "rgb(65,182,196)"
           ],
           [
            0.625,
            "rgb(29,145,192)"
           ],
           [
            0.75,
            "rgb(34,94,168)"
           ],
           [
            0.875,
            "rgb(37,52,148)"
           ],
           [
            1,
            "rgb(8,29,88)"
           ]
          ],
          "line": {
           "width": 2
          },
          "reversescale": true,
          "showscale": true,
          "size": 10
         },
         "mode": "markers",
         "text": [
          "{'work': 69.0, 'school': 23.0, 'home': 20.0, 'age': 27.0, 'private_healthcare': True}",
          "{'work': 27.0, 'school': nan, 'home': 20.0, 'age': 27.0, 'private_healthcare': False}",
          "{'work': nan, 'school': 18.0, 'home': 20.0, 'age': 5.0, 'private_healthcare': True}",
          "{'work': nan, 'school': 18.0, 'home': 20.0, 'age': 5.0, 'private_healthcare': True}",
          "{'work': nan, 'school': nan, 'home': 20.0, 'age': 18.0, 'private_healthcare': True}",
          "{'work': nan, 'school': nan, 'home': 20.0, 'age': 44.0, 'private_healthcare': False}",
          "{'work': nan, 'school': nan, 'home': 20.0, 'age': 37.0, 'private_healthcare': True}",
          "{'work': nan, 'school': 22.0, 'home': 20.0, 'age': 3.0, 'private_healthcare': True}",
          "{'work': 8.0, 'school': nan, 'home': 20.0, 'age': 21.0, 'private_healthcare': True}",
          "{'work': 3.0, 'school': nan, 'home': 20.0, 'age': 39.0, 'private_healthcare': True}",
          "{'work': 20.0, 'school': nan, 'home': 20.0, 'age': 29.0, 'private_healthcare': True}",
          "{'work': nan, 'school': 20.0, 'home': 20.0, 'age': 13.0, 'private_healthcare': True}",
          "{'work': nan, 'school': nan, 'home': 20.0, 'age': 42.0, 'private_healthcare': False}",
          "{'work': nan, 'school': 22.0, 'home': 20.0, 'age': 4.0, 'private_healthcare': True}",
          "{'work': 242.0, 'school': nan, 'home': 20.0, 'age': 56.0, 'private_healthcare': True}",
          "{'work': 167.0, 'school': nan, 'home': 20.0, 'age': 46.0, 'private_healthcare': True}",
          "{'work': nan, 'school': 20.0, 'home': 20.0, 'age': 3.0, 'private_healthcare': True}",
          "{'work': nan, 'school': 20.0, 'home': 20.0, 'age': 12.0, 'private_healthcare': False}",
          "{'work': nan, 'school': nan, 'home': 20.0, 'age': 47.0, 'private_healthcare': True}",
          "{'work': 20.0, 'school': nan, 'home': 20.0, 'age': 39.0, 'private_healthcare': False}",
          "{'work': 20.0, 'school': nan, 'home': 20.0, 'age': 65.0, 'private_healthcare': True}",
          "{'work': nan, 'school': 18.0, 'home': 20.0, 'age': 7.0, 'private_healthcare': True}",
          "{'work': nan, 'school': 19.0, 'home': 20.0, 'age': 11.0, 'private_healthcare': False}",
          "{'work': nan, 'school': nan, 'home': 20.0, 'age': 71.0, 'private_healthcare': False}",
          "{'work': 20.0, 'school': 23.0, 'home': 20.0, 'age': 35.0, 'private_healthcare': True}",
          "{'work': nan, 'school': 20.0, 'home': 20.0, 'age': 5.0, 'private_healthcare': False}",
          "{'work': 223.0, 'school': 169.0, 'home': 20.0, 'age': 43.0, 'private_healthcare': False}",
          "{'work': nan, 'school': nan, 'home': 20.0, 'age': 71.0, 'private_healthcare': True}",
          "{'work': nan, 'school': 23.0, 'home': 20.0, 'age': 12.0, 'private_healthcare': True}",
          "{'work': nan, 'school': 18.0, 'home': 20.0, 'age': 16.0, 'private_healthcare': False}",
          "{'work': 23.0, 'school': nan, 'home': 20.0, 'age': 49.0, 'private_healthcare': True}",
          "{'work': nan, 'school': 19.0, 'home': 20.0, 'age': 5.0, 'private_healthcare': True}",
          "{'work': 83.0, 'school': nan, 'home': 20.0, 'age': 57.0, 'private_healthcare': False}",
          "{'work': nan, 'school': nan, 'home': 20.0, 'age': 42.0, 'private_healthcare': True}",
          "{'work': nan, 'school': 20.0, 'home': 20.0, 'age': 3.0, 'private_healthcare': True}",
          "{'work': 19.0, 'school': nan, 'home': 20.0, 'age': 25.0, 'private_healthcare': True}",
          "{'work': 2.0, 'school': nan, 'home': 20.0, 'age': 36.0, 'private_healthcare': True}",
          "{'work': 2.0, 'school': nan, 'home': 20.0, 'age': 24.0, 'private_healthcare': True}",
          "{'work': nan, 'school': 23.0, 'home': 20.0, 'age': 7.0, 'private_healthcare': True}",
          "{'work': 49.0, 'school': nan, 'home': 20.0, 'age': 41.0, 'private_healthcare': True}",
          "{'work': nan, 'school': nan, 'home': 20.0, 'age': 26.0, 'private_healthcare': True}",
          "{'work': 1.0, 'school': nan, 'home': 20.0, 'age': 42.0, 'private_healthcare': True}",
          "{'work': 1.0, 'school': nan, 'home': 20.0, 'age': 57.0, 'private_healthcare': True}",
          "{'work': 20.0, 'school': nan, 'home': 20.0, 'age': 39.0, 'private_healthcare': True}",
          "{'work': nan, 'school': 341.0, 'home': 20.0, 'age': 18.0, 'private_healthcare': True}",
          "{'work': nan, 'school': 24.0, 'home': 20.0, 'age': 9.0, 'private_healthcare': True}",
          "{'work': nan, 'school': 247.0, 'home': 20.0, 'age': 13.0, 'private_healthcare': False}",
          "{'work': 20.0, 'school': nan, 'home': 20.0, 'age': 31.0, 'private_healthcare': False}",
          "{'work': 21.0, 'school': nan, 'home': 20.0, 'age': 23.0, 'private_healthcare': True}"
         ],
         "type": "scatter",
         "x": [
          0.03970393477676441,
          0.461830252406296,
          -0.4588101745532051,
          -0.5872946644274041,
          0.32794842072479835,
          -0.724604166105126,
          0.3388539216662281,
          0.2568257213580419,
          0.07588946707203738,
          -0.38730157092188183,
          0.03815956838786409,
          0.2148551030956815,
          0.008726601429290376,
          0.3100449339570695,
          -0.014813992104382017,
          0.21019208991310448,
          0.017952736132688954,
          0.0007350025900287895,
          0.04371854395218038,
          -0.2958567323658599,
          -0.07953397666104847,
          -0.5781865180158555,
          0.3947396723890611,
          -0.7507701429535424,
          0.10658306501399341,
          -0.03762896784721526,
          0.05685955965222203,
          0.32029652451266827,
          0.15685004777978037,
          -0.6103414377580062,
          0.2588155302386696,
          0.3182715878082984,
          0.4125173314519993,
          0.2641541588777771,
          -0.2816729860607197,
          -0.010416995467059318,
          -0.619689244665705,
          0.29157212809469263,
          0.21044022679955715,
          0.023248035038065308,
          -0.05755534206523859,
          -0.4113652316265896,
          -0.07017572638560163,
          -0.4897464704025812,
          0.29084926515696374,
          0.2451781973858942,
          0.47190235223652377,
          0.3081581187124272,
          -0.010107758223643817
         ],
         "y": [
          -0.8602654822507524,
          -0.592994777867211,
          0.49269050409050646,
          0.05195572368174611,
          0.32214441299038876,
          0.4001373762800309,
          0.3517870005737115,
          0.35487607279678735,
          -0.03536198422588476,
          0.6135737887397122,
          -0.06748077001540177,
          0.38106458302926993,
          0.48140604418425104,
          0.37953693758805634,
          -0.6789145361949942,
          -1,
          0.07674659061554044,
          0.3274372850944795,
          -0.007838296524700944,
          -0.3655892713422555,
          -0.5662922565302089,
          -0.06055290254672955,
          0.6373994050364913,
          0.34542220552939984,
          -0.7316929174115477,
          0.4535049290736528,
          0.4686078118556119,
          0.2935893149042198,
          -0.8955623912044216,
          0.31325073552815524,
          -0.9710112109380339,
          0.4194392857985345,
          0.7791027383622806,
          0.3022844336789918,
          0.5376692684869693,
          -0.010496536722097915,
          -0.0804571923682617,
          0.3487704109980528,
          -0.884669478115824,
          -0.6436732270618265,
          -0.9182536150494791,
          0.5772157360436955,
          -0.8426236919960295,
          -0.14856128103621694,
          0.29500279718331895,
          0.32559521116674195,
          0.7588884366613022,
          -0.6733551692895308,
          -0.05345205128049029
         ]
        }
       ],
       "layout": {
        "hovermode": "closest",
        "margin": {
         "b": 20,
         "l": 5,
         "r": 5,
         "t": 40
        },
        "showlegend": false,
        "template": {
         "data": {
          "bar": [
           {
            "error_x": {
             "color": "#2a3f5f"
            },
            "error_y": {
             "color": "#2a3f5f"
            },
            "marker": {
             "line": {
              "color": "#E5ECF6",
              "width": 0.5
             }
            },
            "type": "bar"
           }
          ],
          "barpolar": [
           {
            "marker": {
             "line": {
              "color": "#E5ECF6",
              "width": 0.5
             }
            },
            "type": "barpolar"
           }
          ],
          "carpet": [
           {
            "aaxis": {
             "endlinecolor": "#2a3f5f",
             "gridcolor": "white",
             "linecolor": "white",
             "minorgridcolor": "white",
             "startlinecolor": "#2a3f5f"
            },
            "baxis": {
             "endlinecolor": "#2a3f5f",
             "gridcolor": "white",
             "linecolor": "white",
             "minorgridcolor": "white",
             "startlinecolor": "#2a3f5f"
            },
            "type": "carpet"
           }
          ],
          "choropleth": [
           {
            "colorbar": {
             "outlinewidth": 0,
             "ticks": ""
            },
            "type": "choropleth"
           }
          ],
          "contour": [
           {
            "colorbar": {
             "outlinewidth": 0,
             "ticks": ""
            },
            "colorscale": [
             [
              0,
              "#0d0887"
             ],
             [
              0.1111111111111111,
              "#46039f"
             ],
             [
              0.2222222222222222,
              "#7201a8"
             ],
             [
              0.3333333333333333,
              "#9c179e"
             ],
             [
              0.4444444444444444,
              "#bd3786"
             ],
             [
              0.5555555555555556,
              "#d8576b"
             ],
             [
              0.6666666666666666,
              "#ed7953"
             ],
             [
              0.7777777777777778,
              "#fb9f3a"
             ],
             [
              0.8888888888888888,
              "#fdca26"
             ],
             [
              1,
              "#f0f921"
             ]
            ],
            "type": "contour"
           }
          ],
          "contourcarpet": [
           {
            "colorbar": {
             "outlinewidth": 0,
             "ticks": ""
            },
            "type": "contourcarpet"
           }
          ],
          "heatmap": [
           {
            "colorbar": {
             "outlinewidth": 0,
             "ticks": ""
            },
            "colorscale": [
             [
              0,
              "#0d0887"
             ],
             [
              0.1111111111111111,
              "#46039f"
             ],
             [
              0.2222222222222222,
              "#7201a8"
             ],
             [
              0.3333333333333333,
              "#9c179e"
             ],
             [
              0.4444444444444444,
              "#bd3786"
             ],
             [
              0.5555555555555556,
              "#d8576b"
             ],
             [
              0.6666666666666666,
              "#ed7953"
             ],
             [
              0.7777777777777778,
              "#fb9f3a"
             ],
             [
              0.8888888888888888,
              "#fdca26"
             ],
             [
              1,
              "#f0f921"
             ]
            ],
            "type": "heatmap"
           }
          ],
          "heatmapgl": [
           {
            "colorbar": {
             "outlinewidth": 0,
             "ticks": ""
            },
            "colorscale": [
             [
              0,
              "#0d0887"
             ],
             [
              0.1111111111111111,
              "#46039f"
             ],
             [
              0.2222222222222222,
              "#7201a8"
             ],
             [
              0.3333333333333333,
              "#9c179e"
             ],
             [
              0.4444444444444444,
              "#bd3786"
             ],
             [
              0.5555555555555556,
              "#d8576b"
             ],
             [
              0.6666666666666666,
              "#ed7953"
             ],
             [
              0.7777777777777778,
              "#fb9f3a"
             ],
             [
              0.8888888888888888,
              "#fdca26"
             ],
             [
              1,
              "#f0f921"
             ]
            ],
            "type": "heatmapgl"
           }
          ],
          "histogram": [
           {
            "marker": {
             "colorbar": {
              "outlinewidth": 0,
              "ticks": ""
             }
            },
            "type": "histogram"
           }
          ],
          "histogram2d": [
           {
            "colorbar": {
             "outlinewidth": 0,
             "ticks": ""
            },
            "colorscale": [
             [
              0,
              "#0d0887"
             ],
             [
              0.1111111111111111,
              "#46039f"
             ],
             [
              0.2222222222222222,
              "#7201a8"
             ],
             [
              0.3333333333333333,
              "#9c179e"
             ],
             [
              0.4444444444444444,
              "#bd3786"
             ],
             [
              0.5555555555555556,
              "#d8576b"
             ],
             [
              0.6666666666666666,
              "#ed7953"
             ],
             [
              0.7777777777777778,
              "#fb9f3a"
             ],
             [
              0.8888888888888888,
              "#fdca26"
             ],
             [
              1,
              "#f0f921"
             ]
            ],
            "type": "histogram2d"
           }
          ],
          "histogram2dcontour": [
           {
            "colorbar": {
             "outlinewidth": 0,
             "ticks": ""
            },
            "colorscale": [
             [
              0,
              "#0d0887"
             ],
             [
              0.1111111111111111,
              "#46039f"
             ],
             [
              0.2222222222222222,
              "#7201a8"
             ],
             [
              0.3333333333333333,
              "#9c179e"
             ],
             [
              0.4444444444444444,
              "#bd3786"
             ],
             [
              0.5555555555555556,
              "#d8576b"
             ],
             [
              0.6666666666666666,
              "#ed7953"
             ],
             [
              0.7777777777777778,
              "#fb9f3a"
             ],
             [
              0.8888888888888888,
              "#fdca26"
             ],
             [
              1,
              "#f0f921"
             ]
            ],
            "type": "histogram2dcontour"
           }
          ],
          "mesh3d": [
           {
            "colorbar": {
             "outlinewidth": 0,
             "ticks": ""
            },
            "type": "mesh3d"
           }
          ],
          "parcoords": [
           {
            "line": {
             "colorbar": {
              "outlinewidth": 0,
              "ticks": ""
             }
            },
            "type": "parcoords"
           }
          ],
          "pie": [
           {
            "automargin": true,
            "type": "pie"
           }
          ],
          "scatter": [
           {
            "marker": {
             "colorbar": {
              "outlinewidth": 0,
              "ticks": ""
             }
            },
            "type": "scatter"
           }
          ],
          "scatter3d": [
           {
            "line": {
             "colorbar": {
              "outlinewidth": 0,
              "ticks": ""
             }
            },
            "marker": {
             "colorbar": {
              "outlinewidth": 0,
              "ticks": ""
             }
            },
            "type": "scatter3d"
           }
          ],
          "scattercarpet": [
           {
            "marker": {
             "colorbar": {
              "outlinewidth": 0,
              "ticks": ""
             }
            },
            "type": "scattercarpet"
           }
          ],
          "scattergeo": [
           {
            "marker": {
             "colorbar": {
              "outlinewidth": 0,
              "ticks": ""
             }
            },
            "type": "scattergeo"
           }
          ],
          "scattergl": [
           {
            "marker": {
             "colorbar": {
              "outlinewidth": 0,
              "ticks": ""
             }
            },
            "type": "scattergl"
           }
          ],
          "scattermapbox": [
           {
            "marker": {
             "colorbar": {
              "outlinewidth": 0,
              "ticks": ""
             }
            },
            "type": "scattermapbox"
           }
          ],
          "scatterpolar": [
           {
            "marker": {
             "colorbar": {
              "outlinewidth": 0,
              "ticks": ""
             }
            },
            "type": "scatterpolar"
           }
          ],
          "scatterpolargl": [
           {
            "marker": {
             "colorbar": {
              "outlinewidth": 0,
              "ticks": ""
             }
            },
            "type": "scatterpolargl"
           }
          ],
          "scatterternary": [
           {
            "marker": {
             "colorbar": {
              "outlinewidth": 0,
              "ticks": ""
             }
            },
            "type": "scatterternary"
           }
          ],
          "surface": [
           {
            "colorbar": {
             "outlinewidth": 0,
             "ticks": ""
            },
            "colorscale": [
             [
              0,
              "#0d0887"
             ],
             [
              0.1111111111111111,
              "#46039f"
             ],
             [
              0.2222222222222222,
              "#7201a8"
             ],
             [
              0.3333333333333333,
              "#9c179e"
             ],
             [
              0.4444444444444444,
              "#bd3786"
             ],
             [
              0.5555555555555556,
              "#d8576b"
             ],
             [
              0.6666666666666666,
              "#ed7953"
             ],
             [
              0.7777777777777778,
              "#fb9f3a"
             ],
             [
              0.8888888888888888,
              "#fdca26"
             ],
             [
              1,
              "#f0f921"
             ]
            ],
            "type": "surface"
           }
          ],
          "table": [
           {
            "cells": {
             "fill": {
              "color": "#EBF0F8"
             },
             "line": {
              "color": "white"
             }
            },
            "header": {
             "fill": {
              "color": "#C8D4E3"
             },
             "line": {
              "color": "white"
             }
            },
            "type": "table"
           }
          ]
         },
         "layout": {
          "annotationdefaults": {
           "arrowcolor": "#2a3f5f",
           "arrowhead": 0,
           "arrowwidth": 1
          },
          "coloraxis": {
           "colorbar": {
            "outlinewidth": 0,
            "ticks": ""
           }
          },
          "colorscale": {
           "diverging": [
            [
             0,
             "#8e0152"
            ],
            [
             0.1,
             "#c51b7d"
            ],
            [
             0.2,
             "#de77ae"
            ],
            [
             0.3,
             "#f1b6da"
            ],
            [
             0.4,
             "#fde0ef"
            ],
            [
             0.5,
             "#f7f7f7"
            ],
            [
             0.6,
             "#e6f5d0"
            ],
            [
             0.7,
             "#b8e186"
            ],
            [
             0.8,
             "#7fbc41"
            ],
            [
             0.9,
             "#4d9221"
            ],
            [
             1,
             "#276419"
            ]
           ],
           "sequential": [
            [
             0,
             "#0d0887"
            ],
            [
             0.1111111111111111,
             "#46039f"
            ],
            [
             0.2222222222222222,
             "#7201a8"
            ],
            [
             0.3333333333333333,
             "#9c179e"
            ],
            [
             0.4444444444444444,
             "#bd3786"
            ],
            [
             0.5555555555555556,
             "#d8576b"
            ],
            [
             0.6666666666666666,
             "#ed7953"
            ],
            [
             0.7777777777777778,
             "#fb9f3a"
            ],
            [
             0.8888888888888888,
             "#fdca26"
            ],
            [
             1,
             "#f0f921"
            ]
           ],
           "sequentialminus": [
            [
             0,
             "#0d0887"
            ],
            [
             0.1111111111111111,
             "#46039f"
            ],
            [
             0.2222222222222222,
             "#7201a8"
            ],
            [
             0.3333333333333333,
             "#9c179e"
            ],
            [
             0.4444444444444444,
             "#bd3786"
            ],
            [
             0.5555555555555556,
             "#d8576b"
            ],
            [
             0.6666666666666666,
             "#ed7953"
            ],
            [
             0.7777777777777778,
             "#fb9f3a"
            ],
            [
             0.8888888888888888,
             "#fdca26"
            ],
            [
             1,
             "#f0f921"
            ]
           ]
          },
          "colorway": [
           "#636efa",
           "#EF553B",
           "#00cc96",
           "#ab63fa",
           "#FFA15A",
           "#19d3f3",
           "#FF6692",
           "#B6E880",
           "#FF97FF",
           "#FECB52"
          ],
          "font": {
           "color": "#2a3f5f"
          },
          "geo": {
           "bgcolor": "white",
           "lakecolor": "white",
           "landcolor": "#E5ECF6",
           "showlakes": true,
           "showland": true,
           "subunitcolor": "white"
          },
          "hoverlabel": {
           "align": "left"
          },
          "hovermode": "closest",
          "mapbox": {
           "style": "light"
          },
          "paper_bgcolor": "white",
          "plot_bgcolor": "#E5ECF6",
          "polar": {
           "angularaxis": {
            "gridcolor": "white",
            "linecolor": "white",
            "ticks": ""
           },
           "bgcolor": "#E5ECF6",
           "radialaxis": {
            "gridcolor": "white",
            "linecolor": "white",
            "ticks": ""
           }
          },
          "scene": {
           "xaxis": {
            "backgroundcolor": "#E5ECF6",
            "gridcolor": "white",
            "gridwidth": 2,
            "linecolor": "white",
            "showbackground": true,
            "ticks": "",
            "zerolinecolor": "white"
           },
           "yaxis": {
            "backgroundcolor": "#E5ECF6",
            "gridcolor": "white",
            "gridwidth": 2,
            "linecolor": "white",
            "showbackground": true,
            "ticks": "",
            "zerolinecolor": "white"
           },
           "zaxis": {
            "backgroundcolor": "#E5ECF6",
            "gridcolor": "white",
            "gridwidth": 2,
            "linecolor": "white",
            "showbackground": true,
            "ticks": "",
            "zerolinecolor": "white"
           }
          },
          "shapedefaults": {
           "line": {
            "color": "#2a3f5f"
           }
          },
          "ternary": {
           "aaxis": {
            "gridcolor": "white",
            "linecolor": "white",
            "ticks": ""
           },
           "baxis": {
            "gridcolor": "white",
            "linecolor": "white",
            "ticks": ""
           },
           "bgcolor": "#E5ECF6",
           "caxis": {
            "gridcolor": "white",
            "linecolor": "white",
            "ticks": ""
           }
          },
          "title": {
           "x": 0.05
          },
          "xaxis": {
           "automargin": true,
           "gridcolor": "white",
           "linecolor": "white",
           "ticks": "",
           "title": {
            "standoff": 15
           },
           "zerolinecolor": "white",
           "zerolinewidth": 2
          },
          "yaxis": {
           "automargin": true,
           "gridcolor": "white",
           "linecolor": "white",
           "ticks": "",
           "title": {
            "standoff": 15
           },
           "zerolinecolor": "white",
           "zerolinewidth": 2
          }
         }
        }
       }
      },
      "text/html": [
       "<div>\n",
       "        \n",
       "        \n",
       "            <div id=\"896aca8a-5985-4eb8-9cbc-7db3d6ec53db\" class=\"plotly-graph-div\" style=\"height:525px; width:100%;\"></div>\n",
       "            <script type=\"text/javascript\">\n",
       "                require([\"plotly\"], function(Plotly) {\n",
       "                    window.PLOTLYENV=window.PLOTLYENV || {};\n",
       "                    \n",
       "                if (document.getElementById(\"896aca8a-5985-4eb8-9cbc-7db3d6ec53db\")) {\n",
       "                    Plotly.newPlot(\n",
       "                        '896aca8a-5985-4eb8-9cbc-7db3d6ec53db',\n",
       "                        [{\"hoverinfo\": \"none\", \"line\": {\"color\": \"#888\", \"width\": 0.5}, \"mode\": \"lines\", \"type\": \"scatter\", \"x\": [0.03970393477676441, -0.07017572638560163, null, 0.03970393477676441, -0.05755534206523859, null, 0.03970393477676441, 0.15685004777978037, null, 0.03970393477676441, 0.10658306501399341, null, 0.461830252406296, 0.3081581187124272, null, -0.4588101745532051, -0.38730157092188183, null, -0.4588101745532051, -0.4113652316265896, null, -0.4588101745532051, -0.2816729860607197, null, -0.4588101745532051, -0.6103414377580062, null, -0.5872946644274041, -0.4897464704025812, null, -0.5872946644274041, -0.619689244665705, null, -0.5872946644274041, -0.5781865180158555, null, -0.5872946644274041, -0.6103414377580062, null, 0.32794842072479835, 0.32029652451266827, null, 0.32794842072479835, 0.2641541588777771, null, 0.32794842072479835, 0.2568257213580419, null, 0.32794842072479835, 0.3100449339570695, null, 0.32794842072479835, 0.29157212809469263, null, 0.32794842072479835, 0.3182715878082984, null, 0.32794842072479835, 0.2148551030956815, null, 0.32794842072479835, 0.29084926515696374, null, 0.32794842072479835, 0.2451781973858942, null, 0.32794842072479835, 0.3388539216662281, null, -0.724604166105126, -0.7507701429535424, null, -0.724604166105126, -0.6103414377580062, null, 0.3388539216662281, 0.32029652451266827, null, 0.3388539216662281, 0.2641541588777771, null, 0.3388539216662281, 0.2568257213580419, null, 0.3388539216662281, 0.3100449339570695, null, 0.3388539216662281, 0.29157212809469263, null, 0.3388539216662281, 0.3182715878082984, null, 0.3388539216662281, 0.2148551030956815, null, 0.3388539216662281, 0.29084926515696374, null, 0.3388539216662281, 0.2451781973858942, null, 0.2568257213580419, 0.32029652451266827, null, 0.2568257213580419, 0.2641541588777771, null, 0.2568257213580419, 0.3100449339570695, null, 0.2568257213580419, 0.29157212809469263, null, 0.2568257213580419, 0.3182715878082984, null, 0.2568257213580419, 0.2148551030956815, null, 0.2568257213580419, 0.29084926515696374, null, 0.2568257213580419, 0.2451781973858942, null, 0.07588946707203738, 0.04371854395218038, null, 0.07588946707203738, 0.03815956838786409, null, 0.07588946707203738, -0.010416995467059318, null, 0.07588946707203738, -0.010107758223643817, null, 0.07588946707203738, 0.017952736132688954, null, -0.38730157092188183, -0.4113652316265896, null, -0.38730157092188183, -0.2816729860607197, null, 0.03815956838786409, 0.04371854395218038, null, 0.03815956838786409, -0.010416995467059318, null, 0.03815956838786409, -0.010107758223643817, null, 0.03815956838786409, 0.017952736132688954, null, 0.2148551030956815, 0.32029652451266827, null, 0.2148551030956815, 0.2641541588777771, null, 0.2148551030956815, 0.3100449339570695, null, 0.2148551030956815, 0.29157212809469263, null, 0.2148551030956815, 0.3182715878082984, null, 0.2148551030956815, 0.29084926515696374, null, 0.2148551030956815, 0.2451781973858942, null, 0.2148551030956815, -0.03762896784721526, null, 0.008726601429290376, 0.05685955965222203, null, 0.008726601429290376, -0.03762896784721526, null, 0.008726601429290376, 0.0007350025900287895, null, 0.3100449339570695, 0.32029652451266827, null, 0.3100449339570695, 0.2641541588777771, null, 0.3100449339570695, 0.29157212809469263, null, 0.3100449339570695, 0.3182715878082984, null, 0.3100449339570695, 0.29084926515696374, null, 0.3100449339570695, 0.2451781973858942, null, -0.014813992104382017, -0.07953397666104847, null, -0.014813992104382017, 0.023248035038065308, null, -0.014813992104382017, 0.10658306501399341, null, 0.21019208991310448, 0.2588155302386696, null, 0.21019208991310448, 0.21044022679955715, null, 0.21019208991310448, 0.15685004777978037, null, 0.017952736132688954, 0.04371854395218038, null, 0.017952736132688954, -0.010416995467059318, null, 0.017952736132688954, -0.010107758223643817, null, 0.017952736132688954, 0.0007350025900287895, null, 0.0007350025900287895, 0.05685955965222203, null, 0.0007350025900287895, -0.03762896784721526, null, 0.04371854395218038, -0.010416995467059318, null, 0.04371854395218038, -0.010107758223643817, null, -0.2958567323658599, -0.4897464704025812, null, -0.2958567323658599, -0.07953397666104847, null, -0.07953397666104847, 0.023248035038065308, null, -0.07953397666104847, 0.10658306501399341, null, -0.5781865180158555, -0.4897464704025812, null, -0.5781865180158555, -0.619689244665705, null, 0.3947396723890611, 0.4125173314519993, null, 0.3947396723890611, 0.47190235223652377, null, 0.3947396723890611, 0.3182715878082984, null, -0.7507701429535424, -0.6103414377580062, null, 0.10658306501399341, 0.023248035038065308, null, 0.10658306501399341, 0.3081581187124272, null, 0.10658306501399341, 0.21044022679955715, null, 0.10658306501399341, 0.15685004777978037, null, -0.03762896784721526, 0.05685955965222203, null, -0.03762896784721526, -0.2816729860607197, null, 0.32029652451266827, 0.2641541588777771, null, 0.32029652451266827, 0.29157212809469263, null, 0.32029652451266827, 0.3182715878082984, null, 0.32029652451266827, 0.29084926515696374, null, 0.32029652451266827, 0.2451781973858942, null, 0.15685004777978037, 0.2588155302386696, null, 0.15685004777978037, 0.21044022679955715, null, 0.2588155302386696, 0.21044022679955715, null, 0.3182715878082984, 0.2641541588777771, null, 0.3182715878082984, 0.29157212809469263, null, 0.3182715878082984, 0.29084926515696374, null, 0.3182715878082984, 0.2451781973858942, null, 0.4125173314519993, 0.47190235223652377, null, 0.2641541588777771, 0.29157212809469263, null, 0.2641541588777771, 0.29084926515696374, null, 0.2641541588777771, 0.2451781973858942, null, -0.2816729860607197, -0.4113652316265896, null, -0.010416995467059318, -0.010107758223643817, null, -0.619689244665705, -0.4897464704025812, null, 0.29157212809469263, 0.29084926515696374, null, 0.29157212809469263, 0.2451781973858942, null, -0.05755534206523859, -0.07017572638560163, null, 0.29084926515696374, 0.2451781973858942, null], \"y\": [-0.8602654822507524, -0.8426236919960295, null, -0.8602654822507524, -0.9182536150494791, null, -0.8602654822507524, -0.8955623912044216, null, -0.8602654822507524, -0.7316929174115477, null, -0.592994777867211, -0.6733551692895308, null, 0.49269050409050646, 0.6135737887397122, null, 0.49269050409050646, 0.5772157360436955, null, 0.49269050409050646, 0.5376692684869693, null, 0.49269050409050646, 0.31325073552815524, null, 0.05195572368174611, -0.14856128103621694, null, 0.05195572368174611, -0.0804571923682617, null, 0.05195572368174611, -0.06055290254672955, null, 0.05195572368174611, 0.31325073552815524, null, 0.32214441299038876, 0.2935893149042198, null, 0.32214441299038876, 0.3022844336789918, null, 0.32214441299038876, 0.35487607279678735, null, 0.32214441299038876, 0.37953693758805634, null, 0.32214441299038876, 0.3487704109980528, null, 0.32214441299038876, 0.4194392857985345, null, 0.32214441299038876, 0.38106458302926993, null, 0.32214441299038876, 0.29500279718331895, null, 0.32214441299038876, 0.32559521116674195, null, 0.32214441299038876, 0.3517870005737115, null, 0.4001373762800309, 0.34542220552939984, null, 0.4001373762800309, 0.31325073552815524, null, 0.3517870005737115, 0.2935893149042198, null, 0.3517870005737115, 0.3022844336789918, null, 0.3517870005737115, 0.35487607279678735, null, 0.3517870005737115, 0.37953693758805634, null, 0.3517870005737115, 0.3487704109980528, null, 0.3517870005737115, 0.4194392857985345, null, 0.3517870005737115, 0.38106458302926993, null, 0.3517870005737115, 0.29500279718331895, null, 0.3517870005737115, 0.32559521116674195, null, 0.35487607279678735, 0.2935893149042198, null, 0.35487607279678735, 0.3022844336789918, null, 0.35487607279678735, 0.37953693758805634, null, 0.35487607279678735, 0.3487704109980528, null, 0.35487607279678735, 0.4194392857985345, null, 0.35487607279678735, 0.38106458302926993, null, 0.35487607279678735, 0.29500279718331895, null, 0.35487607279678735, 0.32559521116674195, null, -0.03536198422588476, -0.007838296524700944, null, -0.03536198422588476, -0.06748077001540177, null, -0.03536198422588476, -0.010496536722097915, null, -0.03536198422588476, -0.05345205128049029, null, -0.03536198422588476, 0.07674659061554044, null, 0.6135737887397122, 0.5772157360436955, null, 0.6135737887397122, 0.5376692684869693, null, -0.06748077001540177, -0.007838296524700944, null, -0.06748077001540177, -0.010496536722097915, null, -0.06748077001540177, -0.05345205128049029, null, -0.06748077001540177, 0.07674659061554044, null, 0.38106458302926993, 0.2935893149042198, null, 0.38106458302926993, 0.3022844336789918, null, 0.38106458302926993, 0.37953693758805634, null, 0.38106458302926993, 0.3487704109980528, null, 0.38106458302926993, 0.4194392857985345, null, 0.38106458302926993, 0.29500279718331895, null, 0.38106458302926993, 0.32559521116674195, null, 0.38106458302926993, 0.4535049290736528, null, 0.48140604418425104, 0.4686078118556119, null, 0.48140604418425104, 0.4535049290736528, null, 0.48140604418425104, 0.3274372850944795, null, 0.37953693758805634, 0.2935893149042198, null, 0.37953693758805634, 0.3022844336789918, null, 0.37953693758805634, 0.3487704109980528, null, 0.37953693758805634, 0.4194392857985345, null, 0.37953693758805634, 0.29500279718331895, null, 0.37953693758805634, 0.32559521116674195, null, -0.6789145361949942, -0.5662922565302089, null, -0.6789145361949942, -0.6436732270618265, null, -0.6789145361949942, -0.7316929174115477, null, -1.0, -0.9710112109380339, null, -1.0, -0.884669478115824, null, -1.0, -0.8955623912044216, null, 0.07674659061554044, -0.007838296524700944, null, 0.07674659061554044, -0.010496536722097915, null, 0.07674659061554044, -0.05345205128049029, null, 0.07674659061554044, 0.3274372850944795, null, 0.3274372850944795, 0.4686078118556119, null, 0.3274372850944795, 0.4535049290736528, null, -0.007838296524700944, -0.010496536722097915, null, -0.007838296524700944, -0.05345205128049029, null, -0.3655892713422555, -0.14856128103621694, null, -0.3655892713422555, -0.5662922565302089, null, -0.5662922565302089, -0.6436732270618265, null, -0.5662922565302089, -0.7316929174115477, null, -0.06055290254672955, -0.14856128103621694, null, -0.06055290254672955, -0.0804571923682617, null, 0.6373994050364913, 0.7791027383622806, null, 0.6373994050364913, 0.7588884366613022, null, 0.6373994050364913, 0.4194392857985345, null, 0.34542220552939984, 0.31325073552815524, null, -0.7316929174115477, -0.6436732270618265, null, -0.7316929174115477, -0.6733551692895308, null, -0.7316929174115477, -0.884669478115824, null, -0.7316929174115477, -0.8955623912044216, null, 0.4535049290736528, 0.4686078118556119, null, 0.4535049290736528, 0.5376692684869693, null, 0.2935893149042198, 0.3022844336789918, null, 0.2935893149042198, 0.3487704109980528, null, 0.2935893149042198, 0.4194392857985345, null, 0.2935893149042198, 0.29500279718331895, null, 0.2935893149042198, 0.32559521116674195, null, -0.8955623912044216, -0.9710112109380339, null, -0.8955623912044216, -0.884669478115824, null, -0.9710112109380339, -0.884669478115824, null, 0.4194392857985345, 0.3022844336789918, null, 0.4194392857985345, 0.3487704109980528, null, 0.4194392857985345, 0.29500279718331895, null, 0.4194392857985345, 0.32559521116674195, null, 0.7791027383622806, 0.7588884366613022, null, 0.3022844336789918, 0.3487704109980528, null, 0.3022844336789918, 0.29500279718331895, null, 0.3022844336789918, 0.32559521116674195, null, 0.5376692684869693, 0.5772157360436955, null, -0.010496536722097915, -0.05345205128049029, null, -0.0804571923682617, -0.14856128103621694, null, 0.3487704109980528, 0.29500279718331895, null, 0.3487704109980528, 0.32559521116674195, null, -0.9182536150494791, -0.8426236919960295, null, 0.29500279718331895, 0.32559521116674195, null]}, {\"hoverinfo\": \"text\", \"marker\": {\"color\": [], \"colorbar\": {\"thickness\": 15, \"title\": {\"side\": \"right\", \"text\": \"Node Connections\"}, \"xanchor\": \"left\"}, \"colorscale\": [[0.0, \"rgb(255,255,217)\"], [0.125, \"rgb(237,248,177)\"], [0.25, \"rgb(199,233,180)\"], [0.375, \"rgb(127,205,187)\"], [0.5, \"rgb(65,182,196)\"], [0.625, \"rgb(29,145,192)\"], [0.75, \"rgb(34,94,168)\"], [0.875, \"rgb(37,52,148)\"], [1.0, \"rgb(8,29,88)\"]], \"line\": {\"width\": 2}, \"reversescale\": true, \"showscale\": true, \"size\": 10}, \"mode\": \"markers\", \"text\": [\"{'work': 69.0, 'school': 23.0, 'home': 20.0, 'age': 27.0, 'private_healthcare': True}\", \"{'work': 27.0, 'school': nan, 'home': 20.0, 'age': 27.0, 'private_healthcare': False}\", \"{'work': nan, 'school': 18.0, 'home': 20.0, 'age': 5.0, 'private_healthcare': True}\", \"{'work': nan, 'school': 18.0, 'home': 20.0, 'age': 5.0, 'private_healthcare': True}\", \"{'work': nan, 'school': nan, 'home': 20.0, 'age': 18.0, 'private_healthcare': True}\", \"{'work': nan, 'school': nan, 'home': 20.0, 'age': 44.0, 'private_healthcare': False}\", \"{'work': nan, 'school': nan, 'home': 20.0, 'age': 37.0, 'private_healthcare': True}\", \"{'work': nan, 'school': 22.0, 'home': 20.0, 'age': 3.0, 'private_healthcare': True}\", \"{'work': 8.0, 'school': nan, 'home': 20.0, 'age': 21.0, 'private_healthcare': True}\", \"{'work': 3.0, 'school': nan, 'home': 20.0, 'age': 39.0, 'private_healthcare': True}\", \"{'work': 20.0, 'school': nan, 'home': 20.0, 'age': 29.0, 'private_healthcare': True}\", \"{'work': nan, 'school': 20.0, 'home': 20.0, 'age': 13.0, 'private_healthcare': True}\", \"{'work': nan, 'school': nan, 'home': 20.0, 'age': 42.0, 'private_healthcare': False}\", \"{'work': nan, 'school': 22.0, 'home': 20.0, 'age': 4.0, 'private_healthcare': True}\", \"{'work': 242.0, 'school': nan, 'home': 20.0, 'age': 56.0, 'private_healthcare': True}\", \"{'work': 167.0, 'school': nan, 'home': 20.0, 'age': 46.0, 'private_healthcare': True}\", \"{'work': nan, 'school': 20.0, 'home': 20.0, 'age': 3.0, 'private_healthcare': True}\", \"{'work': nan, 'school': 20.0, 'home': 20.0, 'age': 12.0, 'private_healthcare': False}\", \"{'work': nan, 'school': nan, 'home': 20.0, 'age': 47.0, 'private_healthcare': True}\", \"{'work': 20.0, 'school': nan, 'home': 20.0, 'age': 39.0, 'private_healthcare': False}\", \"{'work': 20.0, 'school': nan, 'home': 20.0, 'age': 65.0, 'private_healthcare': True}\", \"{'work': nan, 'school': 18.0, 'home': 20.0, 'age': 7.0, 'private_healthcare': True}\", \"{'work': nan, 'school': 19.0, 'home': 20.0, 'age': 11.0, 'private_healthcare': False}\", \"{'work': nan, 'school': nan, 'home': 20.0, 'age': 71.0, 'private_healthcare': False}\", \"{'work': 20.0, 'school': 23.0, 'home': 20.0, 'age': 35.0, 'private_healthcare': True}\", \"{'work': nan, 'school': 20.0, 'home': 20.0, 'age': 5.0, 'private_healthcare': False}\", \"{'work': 223.0, 'school': 169.0, 'home': 20.0, 'age': 43.0, 'private_healthcare': False}\", \"{'work': nan, 'school': nan, 'home': 20.0, 'age': 71.0, 'private_healthcare': True}\", \"{'work': nan, 'school': 23.0, 'home': 20.0, 'age': 12.0, 'private_healthcare': True}\", \"{'work': nan, 'school': 18.0, 'home': 20.0, 'age': 16.0, 'private_healthcare': False}\", \"{'work': 23.0, 'school': nan, 'home': 20.0, 'age': 49.0, 'private_healthcare': True}\", \"{'work': nan, 'school': 19.0, 'home': 20.0, 'age': 5.0, 'private_healthcare': True}\", \"{'work': 83.0, 'school': nan, 'home': 20.0, 'age': 57.0, 'private_healthcare': False}\", \"{'work': nan, 'school': nan, 'home': 20.0, 'age': 42.0, 'private_healthcare': True}\", \"{'work': nan, 'school': 20.0, 'home': 20.0, 'age': 3.0, 'private_healthcare': True}\", \"{'work': 19.0, 'school': nan, 'home': 20.0, 'age': 25.0, 'private_healthcare': True}\", \"{'work': 2.0, 'school': nan, 'home': 20.0, 'age': 36.0, 'private_healthcare': True}\", \"{'work': 2.0, 'school': nan, 'home': 20.0, 'age': 24.0, 'private_healthcare': True}\", \"{'work': nan, 'school': 23.0, 'home': 20.0, 'age': 7.0, 'private_healthcare': True}\", \"{'work': 49.0, 'school': nan, 'home': 20.0, 'age': 41.0, 'private_healthcare': True}\", \"{'work': nan, 'school': nan, 'home': 20.0, 'age': 26.0, 'private_healthcare': True}\", \"{'work': 1.0, 'school': nan, 'home': 20.0, 'age': 42.0, 'private_healthcare': True}\", \"{'work': 1.0, 'school': nan, 'home': 20.0, 'age': 57.0, 'private_healthcare': True}\", \"{'work': 20.0, 'school': nan, 'home': 20.0, 'age': 39.0, 'private_healthcare': True}\", \"{'work': nan, 'school': 341.0, 'home': 20.0, 'age': 18.0, 'private_healthcare': True}\", \"{'work': nan, 'school': 24.0, 'home': 20.0, 'age': 9.0, 'private_healthcare': True}\", \"{'work': nan, 'school': 247.0, 'home': 20.0, 'age': 13.0, 'private_healthcare': False}\", \"{'work': 20.0, 'school': nan, 'home': 20.0, 'age': 31.0, 'private_healthcare': False}\", \"{'work': 21.0, 'school': nan, 'home': 20.0, 'age': 23.0, 'private_healthcare': True}\"], \"type\": \"scatter\", \"x\": [0.03970393477676441, 0.461830252406296, -0.4588101745532051, -0.5872946644274041, 0.32794842072479835, -0.724604166105126, 0.3388539216662281, 0.2568257213580419, 0.07588946707203738, -0.38730157092188183, 0.03815956838786409, 0.2148551030956815, 0.008726601429290376, 0.3100449339570695, -0.014813992104382017, 0.21019208991310448, 0.017952736132688954, 0.0007350025900287895, 0.04371854395218038, -0.2958567323658599, -0.07953397666104847, -0.5781865180158555, 0.3947396723890611, -0.7507701429535424, 0.10658306501399341, -0.03762896784721526, 0.05685955965222203, 0.32029652451266827, 0.15685004777978037, -0.6103414377580062, 0.2588155302386696, 0.3182715878082984, 0.4125173314519993, 0.2641541588777771, -0.2816729860607197, -0.010416995467059318, -0.619689244665705, 0.29157212809469263, 0.21044022679955715, 0.023248035038065308, -0.05755534206523859, -0.4113652316265896, -0.07017572638560163, -0.4897464704025812, 0.29084926515696374, 0.2451781973858942, 0.47190235223652377, 0.3081581187124272, -0.010107758223643817], \"y\": [-0.8602654822507524, -0.592994777867211, 0.49269050409050646, 0.05195572368174611, 0.32214441299038876, 0.4001373762800309, 0.3517870005737115, 0.35487607279678735, -0.03536198422588476, 0.6135737887397122, -0.06748077001540177, 0.38106458302926993, 0.48140604418425104, 0.37953693758805634, -0.6789145361949942, -1.0, 0.07674659061554044, 0.3274372850944795, -0.007838296524700944, -0.3655892713422555, -0.5662922565302089, -0.06055290254672955, 0.6373994050364913, 0.34542220552939984, -0.7316929174115477, 0.4535049290736528, 0.4686078118556119, 0.2935893149042198, -0.8955623912044216, 0.31325073552815524, -0.9710112109380339, 0.4194392857985345, 0.7791027383622806, 0.3022844336789918, 0.5376692684869693, -0.010496536722097915, -0.0804571923682617, 0.3487704109980528, -0.884669478115824, -0.6436732270618265, -0.9182536150494791, 0.5772157360436955, -0.8426236919960295, -0.14856128103621694, 0.29500279718331895, 0.32559521116674195, 0.7588884366613022, -0.6733551692895308, -0.05345205128049029]}],\n",
       "                        {\"hovermode\": \"closest\", \"margin\": {\"b\": 20, \"l\": 5, \"r\": 5, \"t\": 40}, \"showlegend\": false, \"template\": {\"data\": {\"bar\": [{\"error_x\": {\"color\": \"#2a3f5f\"}, \"error_y\": {\"color\": \"#2a3f5f\"}, \"marker\": {\"line\": {\"color\": \"#E5ECF6\", \"width\": 0.5}}, \"type\": \"bar\"}], \"barpolar\": [{\"marker\": {\"line\": {\"color\": \"#E5ECF6\", \"width\": 0.5}}, \"type\": \"barpolar\"}], \"carpet\": [{\"aaxis\": {\"endlinecolor\": \"#2a3f5f\", \"gridcolor\": \"white\", \"linecolor\": \"white\", \"minorgridcolor\": \"white\", \"startlinecolor\": \"#2a3f5f\"}, \"baxis\": {\"endlinecolor\": \"#2a3f5f\", \"gridcolor\": \"white\", \"linecolor\": \"white\", \"minorgridcolor\": \"white\", \"startlinecolor\": \"#2a3f5f\"}, \"type\": \"carpet\"}], \"choropleth\": [{\"colorbar\": {\"outlinewidth\": 0, \"ticks\": \"\"}, \"type\": \"choropleth\"}], \"contour\": [{\"colorbar\": {\"outlinewidth\": 0, \"ticks\": \"\"}, \"colorscale\": [[0.0, \"#0d0887\"], [0.1111111111111111, \"#46039f\"], [0.2222222222222222, \"#7201a8\"], [0.3333333333333333, \"#9c179e\"], [0.4444444444444444, \"#bd3786\"], [0.5555555555555556, \"#d8576b\"], [0.6666666666666666, \"#ed7953\"], [0.7777777777777778, \"#fb9f3a\"], [0.8888888888888888, \"#fdca26\"], [1.0, \"#f0f921\"]], \"type\": \"contour\"}], \"contourcarpet\": [{\"colorbar\": {\"outlinewidth\": 0, \"ticks\": \"\"}, \"type\": \"contourcarpet\"}], \"heatmap\": [{\"colorbar\": {\"outlinewidth\": 0, \"ticks\": \"\"}, \"colorscale\": [[0.0, \"#0d0887\"], [0.1111111111111111, \"#46039f\"], [0.2222222222222222, \"#7201a8\"], [0.3333333333333333, \"#9c179e\"], [0.4444444444444444, \"#bd3786\"], [0.5555555555555556, \"#d8576b\"], [0.6666666666666666, \"#ed7953\"], [0.7777777777777778, \"#fb9f3a\"], [0.8888888888888888, \"#fdca26\"], [1.0, \"#f0f921\"]], \"type\": \"heatmap\"}], \"heatmapgl\": [{\"colorbar\": {\"outlinewidth\": 0, \"ticks\": \"\"}, \"colorscale\": [[0.0, \"#0d0887\"], [0.1111111111111111, \"#46039f\"], [0.2222222222222222, \"#7201a8\"], [0.3333333333333333, \"#9c179e\"], [0.4444444444444444, \"#bd3786\"], [0.5555555555555556, \"#d8576b\"], [0.6666666666666666, \"#ed7953\"], [0.7777777777777778, \"#fb9f3a\"], [0.8888888888888888, \"#fdca26\"], [1.0, \"#f0f921\"]], \"type\": \"heatmapgl\"}], \"histogram\": [{\"marker\": {\"colorbar\": {\"outlinewidth\": 0, \"ticks\": \"\"}}, \"type\": \"histogram\"}], \"histogram2d\": [{\"colorbar\": {\"outlinewidth\": 0, \"ticks\": \"\"}, \"colorscale\": [[0.0, \"#0d0887\"], [0.1111111111111111, \"#46039f\"], [0.2222222222222222, \"#7201a8\"], [0.3333333333333333, \"#9c179e\"], [0.4444444444444444, \"#bd3786\"], [0.5555555555555556, \"#d8576b\"], [0.6666666666666666, \"#ed7953\"], [0.7777777777777778, \"#fb9f3a\"], [0.8888888888888888, \"#fdca26\"], [1.0, \"#f0f921\"]], \"type\": \"histogram2d\"}], \"histogram2dcontour\": [{\"colorbar\": {\"outlinewidth\": 0, \"ticks\": \"\"}, \"colorscale\": [[0.0, \"#0d0887\"], [0.1111111111111111, \"#46039f\"], [0.2222222222222222, \"#7201a8\"], [0.3333333333333333, \"#9c179e\"], [0.4444444444444444, \"#bd3786\"], [0.5555555555555556, \"#d8576b\"], [0.6666666666666666, \"#ed7953\"], [0.7777777777777778, \"#fb9f3a\"], [0.8888888888888888, \"#fdca26\"], [1.0, \"#f0f921\"]], \"type\": \"histogram2dcontour\"}], \"mesh3d\": [{\"colorbar\": {\"outlinewidth\": 0, \"ticks\": \"\"}, \"type\": \"mesh3d\"}], \"parcoords\": [{\"line\": {\"colorbar\": {\"outlinewidth\": 0, \"ticks\": \"\"}}, \"type\": \"parcoords\"}], \"pie\": [{\"automargin\": true, \"type\": \"pie\"}], \"scatter\": [{\"marker\": {\"colorbar\": {\"outlinewidth\": 0, \"ticks\": \"\"}}, \"type\": \"scatter\"}], \"scatter3d\": [{\"line\": {\"colorbar\": {\"outlinewidth\": 0, \"ticks\": \"\"}}, \"marker\": {\"colorbar\": {\"outlinewidth\": 0, \"ticks\": \"\"}}, \"type\": \"scatter3d\"}], \"scattercarpet\": [{\"marker\": {\"colorbar\": {\"outlinewidth\": 0, \"ticks\": \"\"}}, \"type\": \"scattercarpet\"}], \"scattergeo\": [{\"marker\": {\"colorbar\": {\"outlinewidth\": 0, \"ticks\": \"\"}}, \"type\": \"scattergeo\"}], \"scattergl\": [{\"marker\": {\"colorbar\": {\"outlinewidth\": 0, \"ticks\": \"\"}}, \"type\": \"scattergl\"}], \"scattermapbox\": [{\"marker\": {\"colorbar\": {\"outlinewidth\": 0, \"ticks\": \"\"}}, \"type\": \"scattermapbox\"}], \"scatterpolar\": [{\"marker\": {\"colorbar\": {\"outlinewidth\": 0, \"ticks\": \"\"}}, \"type\": \"scatterpolar\"}], \"scatterpolargl\": [{\"marker\": {\"colorbar\": {\"outlinewidth\": 0, \"ticks\": \"\"}}, \"type\": \"scatterpolargl\"}], \"scatterternary\": [{\"marker\": {\"colorbar\": {\"outlinewidth\": 0, \"ticks\": \"\"}}, \"type\": \"scatterternary\"}], \"surface\": [{\"colorbar\": {\"outlinewidth\": 0, \"ticks\": \"\"}, \"colorscale\": [[0.0, \"#0d0887\"], [0.1111111111111111, \"#46039f\"], [0.2222222222222222, \"#7201a8\"], [0.3333333333333333, \"#9c179e\"], [0.4444444444444444, \"#bd3786\"], [0.5555555555555556, \"#d8576b\"], [0.6666666666666666, \"#ed7953\"], [0.7777777777777778, \"#fb9f3a\"], [0.8888888888888888, \"#fdca26\"], [1.0, \"#f0f921\"]], \"type\": \"surface\"}], \"table\": [{\"cells\": {\"fill\": {\"color\": \"#EBF0F8\"}, \"line\": {\"color\": \"white\"}}, \"header\": {\"fill\": {\"color\": \"#C8D4E3\"}, \"line\": {\"color\": \"white\"}}, \"type\": \"table\"}]}, \"layout\": {\"annotationdefaults\": {\"arrowcolor\": \"#2a3f5f\", \"arrowhead\": 0, \"arrowwidth\": 1}, \"coloraxis\": {\"colorbar\": {\"outlinewidth\": 0, \"ticks\": \"\"}}, \"colorscale\": {\"diverging\": [[0, \"#8e0152\"], [0.1, \"#c51b7d\"], [0.2, \"#de77ae\"], [0.3, \"#f1b6da\"], [0.4, \"#fde0ef\"], [0.5, \"#f7f7f7\"], [0.6, \"#e6f5d0\"], [0.7, \"#b8e186\"], [0.8, \"#7fbc41\"], [0.9, \"#4d9221\"], [1, \"#276419\"]], \"sequential\": [[0.0, \"#0d0887\"], [0.1111111111111111, \"#46039f\"], [0.2222222222222222, \"#7201a8\"], [0.3333333333333333, \"#9c179e\"], [0.4444444444444444, \"#bd3786\"], [0.5555555555555556, \"#d8576b\"], [0.6666666666666666, \"#ed7953\"], [0.7777777777777778, \"#fb9f3a\"], [0.8888888888888888, \"#fdca26\"], [1.0, \"#f0f921\"]], \"sequentialminus\": [[0.0, \"#0d0887\"], [0.1111111111111111, \"#46039f\"], [0.2222222222222222, \"#7201a8\"], [0.3333333333333333, \"#9c179e\"], [0.4444444444444444, \"#bd3786\"], [0.5555555555555556, \"#d8576b\"], [0.6666666666666666, \"#ed7953\"], [0.7777777777777778, \"#fb9f3a\"], [0.8888888888888888, \"#fdca26\"], [1.0, \"#f0f921\"]]}, \"colorway\": [\"#636efa\", \"#EF553B\", \"#00cc96\", \"#ab63fa\", \"#FFA15A\", \"#19d3f3\", \"#FF6692\", \"#B6E880\", \"#FF97FF\", \"#FECB52\"], \"font\": {\"color\": \"#2a3f5f\"}, \"geo\": {\"bgcolor\": \"white\", \"lakecolor\": \"white\", \"landcolor\": \"#E5ECF6\", \"showlakes\": true, \"showland\": true, \"subunitcolor\": \"white\"}, \"hoverlabel\": {\"align\": \"left\"}, \"hovermode\": \"closest\", \"mapbox\": {\"style\": \"light\"}, \"paper_bgcolor\": \"white\", \"plot_bgcolor\": \"#E5ECF6\", \"polar\": {\"angularaxis\": {\"gridcolor\": \"white\", \"linecolor\": \"white\", \"ticks\": \"\"}, \"bgcolor\": \"#E5ECF6\", \"radialaxis\": {\"gridcolor\": \"white\", \"linecolor\": \"white\", \"ticks\": \"\"}}, \"scene\": {\"xaxis\": {\"backgroundcolor\": \"#E5ECF6\", \"gridcolor\": \"white\", \"gridwidth\": 2, \"linecolor\": \"white\", \"showbackground\": true, \"ticks\": \"\", \"zerolinecolor\": \"white\"}, \"yaxis\": {\"backgroundcolor\": \"#E5ECF6\", \"gridcolor\": \"white\", \"gridwidth\": 2, \"linecolor\": \"white\", \"showbackground\": true, \"ticks\": \"\", \"zerolinecolor\": \"white\"}, \"zaxis\": {\"backgroundcolor\": \"#E5ECF6\", \"gridcolor\": \"white\", \"gridwidth\": 2, \"linecolor\": \"white\", \"showbackground\": true, \"ticks\": \"\", \"zerolinecolor\": \"white\"}}, \"shapedefaults\": {\"line\": {\"color\": \"#2a3f5f\"}}, \"ternary\": {\"aaxis\": {\"gridcolor\": \"white\", \"linecolor\": \"white\", \"ticks\": \"\"}, \"baxis\": {\"gridcolor\": \"white\", \"linecolor\": \"white\", \"ticks\": \"\"}, \"bgcolor\": \"#E5ECF6\", \"caxis\": {\"gridcolor\": \"white\", \"linecolor\": \"white\", \"ticks\": \"\"}}, \"title\": {\"x\": 0.05}, \"xaxis\": {\"automargin\": true, \"gridcolor\": \"white\", \"linecolor\": \"white\", \"ticks\": \"\", \"title\": {\"standoff\": 15}, \"zerolinecolor\": \"white\", \"zerolinewidth\": 2}, \"yaxis\": {\"automargin\": true, \"gridcolor\": \"white\", \"linecolor\": \"white\", \"ticks\": \"\", \"title\": {\"standoff\": 15}, \"zerolinecolor\": \"white\", \"zerolinewidth\": 2}}}},\n",
       "                        {\"responsive\": true}\n",
       "                    ).then(function(){\n",
       "                            \n",
       "var gd = document.getElementById('896aca8a-5985-4eb8-9cbc-7db3d6ec53db');\n",
       "var x = new MutationObserver(function (mutations, observer) {{\n",
       "        var display = window.getComputedStyle(gd).display;\n",
       "        if (!display || display === 'none') {{\n",
       "            console.log([gd, 'removed!']);\n",
       "            Plotly.purge(gd);\n",
       "            observer.disconnect();\n",
       "        }}\n",
       "}});\n",
       "\n",
       "// Listen for the removal of the full notebook cells\n",
       "var notebookContainer = gd.closest('#notebook-container');\n",
       "if (notebookContainer) {{\n",
       "    x.observe(notebookContainer, {childList: true});\n",
       "}}\n",
       "\n",
       "// Listen for the clearing of the current output cell\n",
       "var outputEl = gd.closest('.output');\n",
       "if (outputEl) {{\n",
       "    x.observe(outputEl, {childList: true});\n",
       "}}\n",
       "\n",
       "                        })\n",
       "                };\n",
       "                });\n",
       "            </script>\n",
       "        </div>"
      ]
     },
     "metadata": {},
     "output_type": "display_data"
    }
   ],
   "source": [
    "plot_graph(G.subgraph(sorted(nx.connected_components(sub_G), key = len, reverse=True)[0]))"
   ]
  },
  {
   "cell_type": "code",
   "execution_count": 31,
   "metadata": {},
   "outputs": [],
   "source": [
    "G = nx.read_gpickle('graph_SP_05_20.gpickle')\n"
   ]
  },
  {
   "cell_type": "code",
   "execution_count": 32,
   "metadata": {},
   "outputs": [
    {
     "data": {
      "application/vnd.plotly.v1+json": {
       "config": {
        "plotlyServerURL": "https://plot.ly"
       },
       "data": [
        {
         "hoverinfo": "none",
         "line": {
          "color": "#888",
          "width": 0.5
         },
         "mode": "lines",
         "type": "scatter",
         "x": [
          -0.6575609805575393,
          -0.6500881349190928,
          null,
          -0.6575609805575393,
          -0.603806697315183,
          null,
          0.023800807617678443,
          0.024221713760633312,
          null,
          0.8690857510366315,
          0.8218374207304474,
          null,
          0.8690857510366315,
          0.8540137092385363,
          null,
          0.8690857510366315,
          0.795380314980834,
          null,
          0.48769447581884656,
          0.5180208989034057,
          null,
          0.48769447581884656,
          0.5556613558209075,
          null,
          0.48769447581884656,
          0.5247315978214059,
          null,
          -0.028918544770110407,
          0.0034879885291239482,
          null,
          -0.028918544770110407,
          -0.04930199079353067,
          null,
          -0.028918544770110407,
          0.024202775546770236,
          null,
          -0.028918544770110407,
          -0.03259218869203899,
          null,
          -0.028918544770110407,
          -0.004245071952597695,
          null,
          -0.028918544770110407,
          -0.006542587987357001,
          null,
          -0.028918544770110407,
          -0.007374721488471361,
          null,
          -0.028918544770110407,
          -0.031138123055741394,
          null,
          -0.028918544770110407,
          -0.053341846260000665,
          null,
          -0.028918544770110407,
          0.017142505495337426,
          null,
          0.8922080631114788,
          0.9154908631955345,
          null,
          0.8922080631114788,
          0.838541575667944,
          null,
          0.017142505495337426,
          0.0034879885291239482,
          null,
          0.017142505495337426,
          -0.04930199079353067,
          null,
          0.017142505495337426,
          0.024202775546770236,
          null,
          0.017142505495337426,
          -0.03259218869203899,
          null,
          0.017142505495337426,
          -0.004245071952597695,
          null,
          0.017142505495337426,
          -0.006542587987357001,
          null,
          0.017142505495337426,
          -0.007374721488471361,
          null,
          0.017142505495337426,
          -0.031138123055741394,
          null,
          0.017142505495337426,
          -0.053341846260000665,
          null,
          0.024202775546770236,
          0.0034879885291239482,
          null,
          0.024202775546770236,
          -0.04930199079353067,
          null,
          0.024202775546770236,
          -0.03259218869203899,
          null,
          0.024202775546770236,
          -0.004245071952597695,
          null,
          0.024202775546770236,
          -0.006542587987357001,
          null,
          0.024202775546770236,
          -0.007374721488471361,
          null,
          0.024202775546770236,
          -0.031138123055741394,
          null,
          0.024202775546770236,
          -0.053341846260000665,
          null,
          -0.4025950804702494,
          -0.4370585988803818,
          null,
          -0.4025950804702494,
          -0.43468558694811954,
          null,
          -0.4025950804702494,
          -0.4438990106465253,
          null,
          -0.4025950804702494,
          -0.4686895072375826,
          null,
          -0.4025950804702494,
          -0.40178306312732615,
          null,
          0.8218374207304474,
          0.8540137092385363,
          null,
          0.8218374207304474,
          0.795380314980834,
          null,
          -0.43468558694811954,
          -0.4370585988803818,
          null,
          -0.43468558694811954,
          -0.4438990106465253,
          null,
          -0.43468558694811954,
          -0.4686895072375826,
          null,
          -0.43468558694811954,
          -0.40178306312732615,
          null,
          -0.007374721488471361,
          0.0034879885291239482,
          null,
          -0.007374721488471361,
          -0.04930199079353067,
          null,
          -0.007374721488471361,
          -0.03259218869203899,
          null,
          -0.007374721488471361,
          -0.004245071952597695,
          null,
          -0.007374721488471361,
          -0.006542587987357001,
          null,
          -0.007374721488471361,
          -0.031138123055741394,
          null,
          -0.007374721488471361,
          -0.053341846260000665,
          null,
          -0.6080252651588097,
          -0.5616413224217249,
          null,
          -0.6080252651588097,
          -0.5813693705984929,
          null,
          -0.6080252651588097,
          -0.5406958533324866,
          null,
          -0.03259218869203899,
          0.0034879885291239482,
          null,
          -0.03259218869203899,
          -0.04930199079353067,
          null,
          -0.03259218869203899,
          -0.004245071952597695,
          null,
          -0.03259218869203899,
          -0.006542587987357001,
          null,
          -0.03259218869203899,
          -0.031138123055741394,
          null,
          -0.03259218869203899,
          -0.053341846260000665,
          null,
          0.3055121188307561,
          0.3304840869416293,
          null,
          0.3055121188307561,
          0.2940535876414831,
          null,
          0.3055121188307561,
          0.3488443947523099,
          null,
          -0.9215272021704879,
          -0.9999999999999999,
          null,
          -0.9215272021704879,
          -0.9513255923333972,
          null,
          -0.9215272021704879,
          -0.958328519671442,
          null,
          -0.40178306312732615,
          -0.4370585988803818,
          null,
          -0.40178306312732615,
          -0.4438990106465253,
          null,
          -0.40178306312732615,
          -0.4686895072375826,
          null,
          -0.5406958533324866,
          -0.5616413224217249,
          null,
          -0.5406958533324866,
          -0.5813693705984929,
          null,
          -0.4370585988803818,
          -0.4438990106465253,
          null,
          -0.4370585988803818,
          -0.4686895072375826,
          null,
          0.3304840869416293,
          0.2940535876414831,
          null,
          0.3304840869416293,
          0.3488443947523099,
          null,
          0.5247315978214059,
          0.5180208989034057,
          null,
          0.5247315978214059,
          0.5556613558209075,
          null,
          0.598890670781476,
          0.6296466229877649,
          null,
          0.598890670781476,
          0.5780449711732337,
          null,
          0.9154908631955345,
          0.838541575667944,
          null,
          0.3488443947523099,
          0.2940535876414831,
          null,
          -0.5813693705984929,
          -0.5616413224217249,
          null,
          0.0034879885291239482,
          -0.04930199079353067,
          null,
          0.0034879885291239482,
          -0.004245071952597695,
          null,
          0.0034879885291239482,
          -0.006542587987357001,
          null,
          0.0034879885291239482,
          -0.031138123055741394,
          null,
          0.0034879885291239482,
          -0.053341846260000665,
          null,
          -0.958328519671442,
          -0.9999999999999999,
          null,
          -0.958328519671442,
          -0.9513255923333972,
          null,
          -0.9999999999999999,
          -0.9513255923333972,
          null,
          -0.006542587987357001,
          -0.04930199079353067,
          null,
          -0.006542587987357001,
          -0.004245071952597695,
          null,
          -0.006542587987357001,
          -0.031138123055741394,
          null,
          -0.006542587987357001,
          -0.053341846260000665,
          null,
          0.6296466229877649,
          0.5780449711732337,
          null,
          -0.04930199079353067,
          -0.004245071952597695,
          null,
          -0.04930199079353067,
          -0.031138123055741394,
          null,
          -0.04930199079353067,
          -0.053341846260000665,
          null,
          0.795380314980834,
          0.8540137092385363,
          null,
          -0.4438990106465253,
          -0.4686895072375826,
          null,
          0.5556613558209075,
          0.5180208989034057,
          null,
          -0.004245071952597695,
          -0.031138123055741394,
          null,
          -0.004245071952597695,
          -0.053341846260000665,
          null,
          -0.603806697315183,
          -0.6500881349190928,
          null,
          -0.031138123055741394,
          -0.053341846260000665,
          null
         ],
         "y": [
          -0.690789493533861,
          -0.7443462406529833,
          null,
          -0.690789493533861,
          -0.6908403752640009,
          null,
          -0.8759942295184077,
          -0.8058184720812538,
          null,
          0.47388304103413775,
          0.47700518241151657,
          null,
          0.47388304103413775,
          0.4302566980203041,
          null,
          0.47388304103413775,
          0.4294523603126354,
          null,
          -0.77583087908729,
          -0.7409165422788422,
          null,
          -0.77583087908729,
          -0.7552672548075022,
          null,
          -0.77583087908729,
          -0.7882547173120458,
          null,
          0.24222186705844323,
          0.2510429540728798,
          null,
          0.24222186705844323,
          0.22029498583165624,
          null,
          0.24222186705844323,
          0.2423404433079024,
          null,
          0.24222186705844323,
          0.2022588196603473,
          null,
          0.24222186705844323,
          0.27164748566676566,
          null,
          0.24222186705844323,
          0.22393223580677465,
          null,
          0.24222186705844323,
          0.19689717740011703,
          null,
          0.24222186705844323,
          0.26932612039460657,
          null,
          0.24222186705844323,
          0.246007623463075,
          null,
          0.24222186705844323,
          0.21229531342218233,
          null,
          -0.16805050894528545,
          -0.12555650494403517,
          null,
          -0.16805050894528545,
          -0.13229491629641163,
          null,
          0.21229531342218233,
          0.2510429540728798,
          null,
          0.21229531342218233,
          0.22029498583165624,
          null,
          0.21229531342218233,
          0.2423404433079024,
          null,
          0.21229531342218233,
          0.2022588196603473,
          null,
          0.21229531342218233,
          0.27164748566676566,
          null,
          0.21229531342218233,
          0.22393223580677465,
          null,
          0.21229531342218233,
          0.19689717740011703,
          null,
          0.21229531342218233,
          0.26932612039460657,
          null,
          0.21229531342218233,
          0.246007623463075,
          null,
          0.2423404433079024,
          0.2510429540728798,
          null,
          0.2423404433079024,
          0.22029498583165624,
          null,
          0.2423404433079024,
          0.2022588196603473,
          null,
          0.2423404433079024,
          0.27164748566676566,
          null,
          0.2423404433079024,
          0.22393223580677465,
          null,
          0.2423404433079024,
          0.19689717740011703,
          null,
          0.2423404433079024,
          0.26932612039460657,
          null,
          0.2423404433079024,
          0.246007623463075,
          null,
          -0.2169695963887118,
          -0.15713729071472496,
          null,
          -0.2169695963887118,
          -0.19353899310308403,
          null,
          -0.2169695963887118,
          -0.22840234415098729,
          null,
          -0.2169695963887118,
          -0.19057061375708406,
          null,
          -0.2169695963887118,
          -0.1782054503146047,
          null,
          0.47700518241151657,
          0.4302566980203041,
          null,
          0.47700518241151657,
          0.4294523603126354,
          null,
          -0.19353899310308403,
          -0.15713729071472496,
          null,
          -0.19353899310308403,
          -0.22840234415098729,
          null,
          -0.19353899310308403,
          -0.19057061375708406,
          null,
          -0.19353899310308403,
          -0.1782054503146047,
          null,
          0.19689717740011703,
          0.2510429540728798,
          null,
          0.19689717740011703,
          0.22029498583165624,
          null,
          0.19689717740011703,
          0.2022588196603473,
          null,
          0.19689717740011703,
          0.27164748566676566,
          null,
          0.19689717740011703,
          0.22393223580677465,
          null,
          0.19689717740011703,
          0.26932612039460657,
          null,
          0.19689717740011703,
          0.246007623463075,
          null,
          0.6930250800398912,
          0.740199330030216,
          null,
          0.6930250800398912,
          0.7136987677976007,
          null,
          0.6930250800398912,
          0.6659940710833648,
          null,
          0.2022588196603473,
          0.2510429540728798,
          null,
          0.2022588196603473,
          0.22029498583165624,
          null,
          0.2022588196603473,
          0.27164748566676566,
          null,
          0.2022588196603473,
          0.22393223580677465,
          null,
          0.2022588196603473,
          0.26932612039460657,
          null,
          0.2022588196603473,
          0.246007623463075,
          null,
          0.864428814326442,
          0.9487600689894216,
          null,
          0.864428814326442,
          0.9248303411247044,
          null,
          0.864428814326442,
          0.9091655593723869,
          null,
          -0.08401790963725718,
          -0.09047168975082906,
          null,
          -0.08401790963725718,
          -0.11752077156894811,
          null,
          -0.08401790963725718,
          -0.057947459292776435,
          null,
          -0.1782054503146047,
          -0.15713729071472496,
          null,
          -0.1782054503146047,
          -0.22840234415098729,
          null,
          -0.1782054503146047,
          -0.19057061375708406,
          null,
          0.6659940710833648,
          0.740199330030216,
          null,
          0.6659940710833648,
          0.7136987677976007,
          null,
          -0.15713729071472496,
          -0.22840234415098729,
          null,
          -0.15713729071472496,
          -0.19057061375708406,
          null,
          0.9487600689894216,
          0.9248303411247044,
          null,
          0.9487600689894216,
          0.9091655593723869,
          null,
          -0.7882547173120458,
          -0.7409165422788422,
          null,
          -0.7882547173120458,
          -0.7552672548075022,
          null,
          -0.39230249529973765,
          -0.34788011772693733,
          null,
          -0.39230249529973765,
          -0.3451207966222955,
          null,
          -0.12555650494403517,
          -0.13229491629641163,
          null,
          0.9091655593723869,
          0.9248303411247044,
          null,
          0.7136987677976007,
          0.740199330030216,
          null,
          0.2510429540728798,
          0.22029498583165624,
          null,
          0.2510429540728798,
          0.27164748566676566,
          null,
          0.2510429540728798,
          0.22393223580677465,
          null,
          0.2510429540728798,
          0.26932612039460657,
          null,
          0.2510429540728798,
          0.246007623463075,
          null,
          -0.057947459292776435,
          -0.09047168975082906,
          null,
          -0.057947459292776435,
          -0.11752077156894811,
          null,
          -0.09047168975082906,
          -0.11752077156894811,
          null,
          0.22393223580677465,
          0.22029498583165624,
          null,
          0.22393223580677465,
          0.27164748566676566,
          null,
          0.22393223580677465,
          0.26932612039460657,
          null,
          0.22393223580677465,
          0.246007623463075,
          null,
          -0.34788011772693733,
          -0.3451207966222955,
          null,
          0.22029498583165624,
          0.27164748566676566,
          null,
          0.22029498583165624,
          0.26932612039460657,
          null,
          0.22029498583165624,
          0.246007623463075,
          null,
          0.4294523603126354,
          0.4302566980203041,
          null,
          -0.22840234415098729,
          -0.19057061375708406,
          null,
          -0.7552672548075022,
          -0.7409165422788422,
          null,
          0.27164748566676566,
          0.26932612039460657,
          null,
          0.27164748566676566,
          0.246007623463075,
          null,
          -0.6908403752640009,
          -0.7443462406529833,
          null,
          0.26932612039460657,
          0.246007623463075,
          null
         ]
        },
        {
         "hoverinfo": "text",
         "marker": {
          "color": [],
          "colorbar": {
           "thickness": 15,
           "title": {
            "side": "right",
            "text": "Node Connections"
           },
           "xanchor": "left"
          },
          "colorscale": [
           [
            0,
            "rgb(255,255,217)"
           ],
           [
            0.125,
            "rgb(237,248,177)"
           ],
           [
            0.25,
            "rgb(199,233,180)"
           ],
           [
            0.375,
            "rgb(127,205,187)"
           ],
           [
            0.5,
            "rgb(65,182,196)"
           ],
           [
            0.625,
            "rgb(29,145,192)"
           ],
           [
            0.75,
            "rgb(34,94,168)"
           ],
           [
            0.875,
            "rgb(37,52,148)"
           ],
           [
            1,
            "rgb(8,29,88)"
           ]
          ],
          "line": {
           "width": 2
          },
          "reversescale": true,
          "showscale": true,
          "size": 10
         },
         "mode": "markers",
         "text": [
          "{'work': 69.0, 'school': 23.0, 'home': 20.0, 'age': 27.0, 'private_healthcare': True, 'home_id': '00200826'}",
          "{'work': 27.0, 'school': nan, 'home': 20.0, 'age': 27.0, 'private_healthcare': False, 'home_id': '00201025'}",
          "{'work': nan, 'school': 18.0, 'home': 20.0, 'age': 5.0, 'private_healthcare': True, 'home_id': '00200936'}",
          "{'work': nan, 'school': 18.0, 'home': 20.0, 'age': 5.0, 'private_healthcare': True, 'home_id': '00200050'}",
          "{'work': nan, 'school': nan, 'home': 20.0, 'age': 18.0, 'private_healthcare': True, 'home_id': '00201800'}",
          "{'work': nan, 'school': nan, 'home': 20.0, 'age': 44.0, 'private_healthcare': False, 'home_id': '00201814'}",
          "{'work': nan, 'school': nan, 'home': 20.0, 'age': 37.0, 'private_healthcare': True, 'home_id': '00201800'}",
          "{'work': nan, 'school': 22.0, 'home': 20.0, 'age': 3.0, 'private_healthcare': True, 'home_id': '00201800'}",
          "{'work': 8.0, 'school': nan, 'home': 20.0, 'age': 21.0, 'private_healthcare': True, 'home_id': '00200642'}",
          "{'work': 3.0, 'school': nan, 'home': 20.0, 'age': 39.0, 'private_healthcare': True, 'home_id': '00200936'}",
          "{'work': 20.0, 'school': nan, 'home': 20.0, 'age': 29.0, 'private_healthcare': True, 'home_id': '00200642'}",
          "{'work': nan, 'school': 20.0, 'home': 20.0, 'age': 13.0, 'private_healthcare': True, 'home_id': '00201800'}",
          "{'work': nan, 'school': nan, 'home': 20.0, 'age': 42.0, 'private_healthcare': False, 'home_id': '00200332'}",
          "{'work': nan, 'school': 22.0, 'home': 20.0, 'age': 4.0, 'private_healthcare': True, 'home_id': '00201800'}",
          "{'work': 242.0, 'school': nan, 'home': 20.0, 'age': 56.0, 'private_healthcare': True, 'home_id': '00200014'}",
          "{'work': 167.0, 'school': nan, 'home': 20.0, 'age': 46.0, 'private_healthcare': True, 'home_id': '00201779'}",
          "{'work': nan, 'school': 20.0, 'home': 20.0, 'age': 3.0, 'private_healthcare': True, 'home_id': '00200642'}",
          "{'work': nan, 'school': 20.0, 'home': 20.0, 'age': 12.0, 'private_healthcare': False, 'home_id': '00200332'}",
          "{'work': nan, 'school': nan, 'home': 20.0, 'age': 47.0, 'private_healthcare': True, 'home_id': '00200642'}",
          "{'work': 20.0, 'school': nan, 'home': 20.0, 'age': 39.0, 'private_healthcare': False, 'home_id': '00200314'}",
          "{'work': 20.0, 'school': nan, 'home': 20.0, 'age': 65.0, 'private_healthcare': True, 'home_id': '00200014'}",
          "{'work': nan, 'school': 18.0, 'home': 20.0, 'age': 7.0, 'private_healthcare': True, 'home_id': '00200050'}",
          "{'work': nan, 'school': 19.0, 'home': 20.0, 'age': 11.0, 'private_healthcare': False, 'home_id': '00200910'}",
          "{'work': nan, 'school': nan, 'home': 20.0, 'age': 71.0, 'private_healthcare': False, 'home_id': '00201814'}",
          "{'work': 20.0, 'school': 23.0, 'home': 20.0, 'age': 35.0, 'private_healthcare': True, 'home_id': '00200014'}",
          "{'work': nan, 'school': 20.0, 'home': 20.0, 'age': 5.0, 'private_healthcare': False, 'home_id': '00200332'}",
          "{'work': 223.0, 'school': 169.0, 'home': 20.0, 'age': 43.0, 'private_healthcare': False, 'home_id': '00200332'}",
          "{'work': nan, 'school': nan, 'home': 20.0, 'age': 71.0, 'private_healthcare': True, 'home_id': '00201800'}",
          "{'work': nan, 'school': 23.0, 'home': 20.0, 'age': 12.0, 'private_healthcare': True, 'home_id': '00201779'}",
          "{'work': nan, 'school': 18.0, 'home': 20.0, 'age': 16.0, 'private_healthcare': False, 'home_id': '00201814'}",
          "{'work': 23.0, 'school': nan, 'home': 20.0, 'age': 49.0, 'private_healthcare': True, 'home_id': '00201779'}",
          "{'work': nan, 'school': 19.0, 'home': 20.0, 'age': 5.0, 'private_healthcare': True, 'home_id': '00201800'}",
          "{'work': 83.0, 'school': nan, 'home': 20.0, 'age': 57.0, 'private_healthcare': False, 'home_id': '00200910'}",
          "{'work': nan, 'school': nan, 'home': 20.0, 'age': 42.0, 'private_healthcare': True, 'home_id': '00201800'}",
          "{'work': nan, 'school': 20.0, 'home': 20.0, 'age': 3.0, 'private_healthcare': True, 'home_id': '00200936'}",
          "{'work': 19.0, 'school': nan, 'home': 20.0, 'age': 25.0, 'private_healthcare': True, 'home_id': '00200642'}",
          "{'work': 2.0, 'school': nan, 'home': 20.0, 'age': 36.0, 'private_healthcare': True, 'home_id': '00200050'}",
          "{'work': 2.0, 'school': nan, 'home': 20.0, 'age': 24.0, 'private_healthcare': True, 'home_id': '00201800'}",
          "{'work': nan, 'school': 23.0, 'home': 20.0, 'age': 7.0, 'private_healthcare': True, 'home_id': '00201779'}",
          "{'work': 49.0, 'school': nan, 'home': 20.0, 'age': 41.0, 'private_healthcare': True, 'home_id': '00200014'}",
          "{'work': nan, 'school': nan, 'home': 20.0, 'age': 26.0, 'private_healthcare': True, 'home_id': '00200826'}",
          "{'work': 1.0, 'school': nan, 'home': 20.0, 'age': 42.0, 'private_healthcare': True, 'home_id': '00200936'}",
          "{'work': 1.0, 'school': nan, 'home': 20.0, 'age': 57.0, 'private_healthcare': True, 'home_id': '00200826'}",
          "{'work': 20.0, 'school': nan, 'home': 20.0, 'age': 39.0, 'private_healthcare': True, 'home_id': '00200050'}",
          "{'work': nan, 'school': 341.0, 'home': 20.0, 'age': 18.0, 'private_healthcare': True, 'home_id': '00201800'}",
          "{'work': nan, 'school': 24.0, 'home': 20.0, 'age': 9.0, 'private_healthcare': True, 'home_id': '00201800'}",
          "{'work': nan, 'school': 247.0, 'home': 20.0, 'age': 13.0, 'private_healthcare': False, 'home_id': '00200910'}",
          "{'work': 20.0, 'school': nan, 'home': 20.0, 'age': 31.0, 'private_healthcare': False, 'home_id': '00201025'}",
          "{'work': 21.0, 'school': nan, 'home': 20.0, 'age': 23.0, 'private_healthcare': True, 'home_id': '00200642'}"
         ],
         "type": "scatter",
         "x": [
          -0.6575609805575393,
          0.023800807617678443,
          0.8690857510366315,
          0.48769447581884656,
          -0.028918544770110407,
          0.8922080631114788,
          0.017142505495337426,
          0.024202775546770236,
          -0.4025950804702494,
          0.8218374207304474,
          -0.43468558694811954,
          -0.007374721488471361,
          -0.6080252651588097,
          -0.03259218869203899,
          0.3055121188307561,
          -0.9215272021704879,
          -0.40178306312732615,
          -0.5406958533324866,
          -0.4370585988803818,
          -0.41446340959547845,
          0.3304840869416293,
          0.5247315978214059,
          0.598890670781476,
          0.9154908631955345,
          0.3488443947523099,
          -0.5813693705984929,
          -0.5616413224217249,
          0.0034879885291239482,
          -0.958328519671442,
          0.838541575667944,
          -0.9999999999999999,
          -0.006542587987357001,
          0.6296466229877649,
          -0.04930199079353067,
          0.795380314980834,
          -0.4438990106465253,
          0.5556613558209075,
          -0.004245071952597695,
          -0.9513255923333972,
          0.2940535876414831,
          -0.603806697315183,
          0.8540137092385363,
          -0.6500881349190928,
          0.5180208989034057,
          -0.031138123055741394,
          -0.053341846260000665,
          0.5780449711732337,
          0.024221713760633312,
          -0.4686895072375826
         ],
         "y": [
          -0.690789493533861,
          -0.8759942295184077,
          0.47388304103413775,
          -0.77583087908729,
          0.24222186705844323,
          -0.16805050894528545,
          0.21229531342218233,
          0.2423404433079024,
          -0.2169695963887118,
          0.47700518241151657,
          -0.19353899310308403,
          0.19689717740011703,
          0.6930250800398912,
          0.2022588196603473,
          0.864428814326442,
          -0.08401790963725718,
          -0.1782054503146047,
          0.6659940710833648,
          -0.15713729071472496,
          -0.9549186775774732,
          0.9487600689894216,
          -0.7882547173120458,
          -0.39230249529973765,
          -0.12555650494403517,
          0.9091655593723869,
          0.7136987677976007,
          0.740199330030216,
          0.2510429540728798,
          -0.057947459292776435,
          -0.13229491629641163,
          -0.09047168975082906,
          0.22393223580677465,
          -0.34788011772693733,
          0.22029498583165624,
          0.4294523603126354,
          -0.22840234415098729,
          -0.7552672548075022,
          0.27164748566676566,
          -0.11752077156894811,
          0.9248303411247044,
          -0.6908403752640009,
          0.4302566980203041,
          -0.7443462406529833,
          -0.7409165422788422,
          0.26932612039460657,
          0.246007623463075,
          -0.3451207966222955,
          -0.8058184720812538,
          -0.19057061375708406
         ]
        }
       ],
       "layout": {
        "hovermode": "closest",
        "margin": {
         "b": 20,
         "l": 5,
         "r": 5,
         "t": 40
        },
        "showlegend": false,
        "template": {
         "data": {
          "bar": [
           {
            "error_x": {
             "color": "#2a3f5f"
            },
            "error_y": {
             "color": "#2a3f5f"
            },
            "marker": {
             "line": {
              "color": "#E5ECF6",
              "width": 0.5
             }
            },
            "type": "bar"
           }
          ],
          "barpolar": [
           {
            "marker": {
             "line": {
              "color": "#E5ECF6",
              "width": 0.5
             }
            },
            "type": "barpolar"
           }
          ],
          "carpet": [
           {
            "aaxis": {
             "endlinecolor": "#2a3f5f",
             "gridcolor": "white",
             "linecolor": "white",
             "minorgridcolor": "white",
             "startlinecolor": "#2a3f5f"
            },
            "baxis": {
             "endlinecolor": "#2a3f5f",
             "gridcolor": "white",
             "linecolor": "white",
             "minorgridcolor": "white",
             "startlinecolor": "#2a3f5f"
            },
            "type": "carpet"
           }
          ],
          "choropleth": [
           {
            "colorbar": {
             "outlinewidth": 0,
             "ticks": ""
            },
            "type": "choropleth"
           }
          ],
          "contour": [
           {
            "colorbar": {
             "outlinewidth": 0,
             "ticks": ""
            },
            "colorscale": [
             [
              0,
              "#0d0887"
             ],
             [
              0.1111111111111111,
              "#46039f"
             ],
             [
              0.2222222222222222,
              "#7201a8"
             ],
             [
              0.3333333333333333,
              "#9c179e"
             ],
             [
              0.4444444444444444,
              "#bd3786"
             ],
             [
              0.5555555555555556,
              "#d8576b"
             ],
             [
              0.6666666666666666,
              "#ed7953"
             ],
             [
              0.7777777777777778,
              "#fb9f3a"
             ],
             [
              0.8888888888888888,
              "#fdca26"
             ],
             [
              1,
              "#f0f921"
             ]
            ],
            "type": "contour"
           }
          ],
          "contourcarpet": [
           {
            "colorbar": {
             "outlinewidth": 0,
             "ticks": ""
            },
            "type": "contourcarpet"
           }
          ],
          "heatmap": [
           {
            "colorbar": {
             "outlinewidth": 0,
             "ticks": ""
            },
            "colorscale": [
             [
              0,
              "#0d0887"
             ],
             [
              0.1111111111111111,
              "#46039f"
             ],
             [
              0.2222222222222222,
              "#7201a8"
             ],
             [
              0.3333333333333333,
              "#9c179e"
             ],
             [
              0.4444444444444444,
              "#bd3786"
             ],
             [
              0.5555555555555556,
              "#d8576b"
             ],
             [
              0.6666666666666666,
              "#ed7953"
             ],
             [
              0.7777777777777778,
              "#fb9f3a"
             ],
             [
              0.8888888888888888,
              "#fdca26"
             ],
             [
              1,
              "#f0f921"
             ]
            ],
            "type": "heatmap"
           }
          ],
          "heatmapgl": [
           {
            "colorbar": {
             "outlinewidth": 0,
             "ticks": ""
            },
            "colorscale": [
             [
              0,
              "#0d0887"
             ],
             [
              0.1111111111111111,
              "#46039f"
             ],
             [
              0.2222222222222222,
              "#7201a8"
             ],
             [
              0.3333333333333333,
              "#9c179e"
             ],
             [
              0.4444444444444444,
              "#bd3786"
             ],
             [
              0.5555555555555556,
              "#d8576b"
             ],
             [
              0.6666666666666666,
              "#ed7953"
             ],
             [
              0.7777777777777778,
              "#fb9f3a"
             ],
             [
              0.8888888888888888,
              "#fdca26"
             ],
             [
              1,
              "#f0f921"
             ]
            ],
            "type": "heatmapgl"
           }
          ],
          "histogram": [
           {
            "marker": {
             "colorbar": {
              "outlinewidth": 0,
              "ticks": ""
             }
            },
            "type": "histogram"
           }
          ],
          "histogram2d": [
           {
            "colorbar": {
             "outlinewidth": 0,
             "ticks": ""
            },
            "colorscale": [
             [
              0,
              "#0d0887"
             ],
             [
              0.1111111111111111,
              "#46039f"
             ],
             [
              0.2222222222222222,
              "#7201a8"
             ],
             [
              0.3333333333333333,
              "#9c179e"
             ],
             [
              0.4444444444444444,
              "#bd3786"
             ],
             [
              0.5555555555555556,
              "#d8576b"
             ],
             [
              0.6666666666666666,
              "#ed7953"
             ],
             [
              0.7777777777777778,
              "#fb9f3a"
             ],
             [
              0.8888888888888888,
              "#fdca26"
             ],
             [
              1,
              "#f0f921"
             ]
            ],
            "type": "histogram2d"
           }
          ],
          "histogram2dcontour": [
           {
            "colorbar": {
             "outlinewidth": 0,
             "ticks": ""
            },
            "colorscale": [
             [
              0,
              "#0d0887"
             ],
             [
              0.1111111111111111,
              "#46039f"
             ],
             [
              0.2222222222222222,
              "#7201a8"
             ],
             [
              0.3333333333333333,
              "#9c179e"
             ],
             [
              0.4444444444444444,
              "#bd3786"
             ],
             [
              0.5555555555555556,
              "#d8576b"
             ],
             [
              0.6666666666666666,
              "#ed7953"
             ],
             [
              0.7777777777777778,
              "#fb9f3a"
             ],
             [
              0.8888888888888888,
              "#fdca26"
             ],
             [
              1,
              "#f0f921"
             ]
            ],
            "type": "histogram2dcontour"
           }
          ],
          "mesh3d": [
           {
            "colorbar": {
             "outlinewidth": 0,
             "ticks": ""
            },
            "type": "mesh3d"
           }
          ],
          "parcoords": [
           {
            "line": {
             "colorbar": {
              "outlinewidth": 0,
              "ticks": ""
             }
            },
            "type": "parcoords"
           }
          ],
          "pie": [
           {
            "automargin": true,
            "type": "pie"
           }
          ],
          "scatter": [
           {
            "marker": {
             "colorbar": {
              "outlinewidth": 0,
              "ticks": ""
             }
            },
            "type": "scatter"
           }
          ],
          "scatter3d": [
           {
            "line": {
             "colorbar": {
              "outlinewidth": 0,
              "ticks": ""
             }
            },
            "marker": {
             "colorbar": {
              "outlinewidth": 0,
              "ticks": ""
             }
            },
            "type": "scatter3d"
           }
          ],
          "scattercarpet": [
           {
            "marker": {
             "colorbar": {
              "outlinewidth": 0,
              "ticks": ""
             }
            },
            "type": "scattercarpet"
           }
          ],
          "scattergeo": [
           {
            "marker": {
             "colorbar": {
              "outlinewidth": 0,
              "ticks": ""
             }
            },
            "type": "scattergeo"
           }
          ],
          "scattergl": [
           {
            "marker": {
             "colorbar": {
              "outlinewidth": 0,
              "ticks": ""
             }
            },
            "type": "scattergl"
           }
          ],
          "scattermapbox": [
           {
            "marker": {
             "colorbar": {
              "outlinewidth": 0,
              "ticks": ""
             }
            },
            "type": "scattermapbox"
           }
          ],
          "scatterpolar": [
           {
            "marker": {
             "colorbar": {
              "outlinewidth": 0,
              "ticks": ""
             }
            },
            "type": "scatterpolar"
           }
          ],
          "scatterpolargl": [
           {
            "marker": {
             "colorbar": {
              "outlinewidth": 0,
              "ticks": ""
             }
            },
            "type": "scatterpolargl"
           }
          ],
          "scatterternary": [
           {
            "marker": {
             "colorbar": {
              "outlinewidth": 0,
              "ticks": ""
             }
            },
            "type": "scatterternary"
           }
          ],
          "surface": [
           {
            "colorbar": {
             "outlinewidth": 0,
             "ticks": ""
            },
            "colorscale": [
             [
              0,
              "#0d0887"
             ],
             [
              0.1111111111111111,
              "#46039f"
             ],
             [
              0.2222222222222222,
              "#7201a8"
             ],
             [
              0.3333333333333333,
              "#9c179e"
             ],
             [
              0.4444444444444444,
              "#bd3786"
             ],
             [
              0.5555555555555556,
              "#d8576b"
             ],
             [
              0.6666666666666666,
              "#ed7953"
             ],
             [
              0.7777777777777778,
              "#fb9f3a"
             ],
             [
              0.8888888888888888,
              "#fdca26"
             ],
             [
              1,
              "#f0f921"
             ]
            ],
            "type": "surface"
           }
          ],
          "table": [
           {
            "cells": {
             "fill": {
              "color": "#EBF0F8"
             },
             "line": {
              "color": "white"
             }
            },
            "header": {
             "fill": {
              "color": "#C8D4E3"
             },
             "line": {
              "color": "white"
             }
            },
            "type": "table"
           }
          ]
         },
         "layout": {
          "annotationdefaults": {
           "arrowcolor": "#2a3f5f",
           "arrowhead": 0,
           "arrowwidth": 1
          },
          "coloraxis": {
           "colorbar": {
            "outlinewidth": 0,
            "ticks": ""
           }
          },
          "colorscale": {
           "diverging": [
            [
             0,
             "#8e0152"
            ],
            [
             0.1,
             "#c51b7d"
            ],
            [
             0.2,
             "#de77ae"
            ],
            [
             0.3,
             "#f1b6da"
            ],
            [
             0.4,
             "#fde0ef"
            ],
            [
             0.5,
             "#f7f7f7"
            ],
            [
             0.6,
             "#e6f5d0"
            ],
            [
             0.7,
             "#b8e186"
            ],
            [
             0.8,
             "#7fbc41"
            ],
            [
             0.9,
             "#4d9221"
            ],
            [
             1,
             "#276419"
            ]
           ],
           "sequential": [
            [
             0,
             "#0d0887"
            ],
            [
             0.1111111111111111,
             "#46039f"
            ],
            [
             0.2222222222222222,
             "#7201a8"
            ],
            [
             0.3333333333333333,
             "#9c179e"
            ],
            [
             0.4444444444444444,
             "#bd3786"
            ],
            [
             0.5555555555555556,
             "#d8576b"
            ],
            [
             0.6666666666666666,
             "#ed7953"
            ],
            [
             0.7777777777777778,
             "#fb9f3a"
            ],
            [
             0.8888888888888888,
             "#fdca26"
            ],
            [
             1,
             "#f0f921"
            ]
           ],
           "sequentialminus": [
            [
             0,
             "#0d0887"
            ],
            [
             0.1111111111111111,
             "#46039f"
            ],
            [
             0.2222222222222222,
             "#7201a8"
            ],
            [
             0.3333333333333333,
             "#9c179e"
            ],
            [
             0.4444444444444444,
             "#bd3786"
            ],
            [
             0.5555555555555556,
             "#d8576b"
            ],
            [
             0.6666666666666666,
             "#ed7953"
            ],
            [
             0.7777777777777778,
             "#fb9f3a"
            ],
            [
             0.8888888888888888,
             "#fdca26"
            ],
            [
             1,
             "#f0f921"
            ]
           ]
          },
          "colorway": [
           "#636efa",
           "#EF553B",
           "#00cc96",
           "#ab63fa",
           "#FFA15A",
           "#19d3f3",
           "#FF6692",
           "#B6E880",
           "#FF97FF",
           "#FECB52"
          ],
          "font": {
           "color": "#2a3f5f"
          },
          "geo": {
           "bgcolor": "white",
           "lakecolor": "white",
           "landcolor": "#E5ECF6",
           "showlakes": true,
           "showland": true,
           "subunitcolor": "white"
          },
          "hoverlabel": {
           "align": "left"
          },
          "hovermode": "closest",
          "mapbox": {
           "style": "light"
          },
          "paper_bgcolor": "white",
          "plot_bgcolor": "#E5ECF6",
          "polar": {
           "angularaxis": {
            "gridcolor": "white",
            "linecolor": "white",
            "ticks": ""
           },
           "bgcolor": "#E5ECF6",
           "radialaxis": {
            "gridcolor": "white",
            "linecolor": "white",
            "ticks": ""
           }
          },
          "scene": {
           "xaxis": {
            "backgroundcolor": "#E5ECF6",
            "gridcolor": "white",
            "gridwidth": 2,
            "linecolor": "white",
            "showbackground": true,
            "ticks": "",
            "zerolinecolor": "white"
           },
           "yaxis": {
            "backgroundcolor": "#E5ECF6",
            "gridcolor": "white",
            "gridwidth": 2,
            "linecolor": "white",
            "showbackground": true,
            "ticks": "",
            "zerolinecolor": "white"
           },
           "zaxis": {
            "backgroundcolor": "#E5ECF6",
            "gridcolor": "white",
            "gridwidth": 2,
            "linecolor": "white",
            "showbackground": true,
            "ticks": "",
            "zerolinecolor": "white"
           }
          },
          "shapedefaults": {
           "line": {
            "color": "#2a3f5f"
           }
          },
          "ternary": {
           "aaxis": {
            "gridcolor": "white",
            "linecolor": "white",
            "ticks": ""
           },
           "baxis": {
            "gridcolor": "white",
            "linecolor": "white",
            "ticks": ""
           },
           "bgcolor": "#E5ECF6",
           "caxis": {
            "gridcolor": "white",
            "linecolor": "white",
            "ticks": ""
           }
          },
          "title": {
           "x": 0.05
          },
          "xaxis": {
           "automargin": true,
           "gridcolor": "white",
           "linecolor": "white",
           "ticks": "",
           "title": {
            "standoff": 15
           },
           "zerolinecolor": "white",
           "zerolinewidth": 2
          },
          "yaxis": {
           "automargin": true,
           "gridcolor": "white",
           "linecolor": "white",
           "ticks": "",
           "title": {
            "standoff": 15
           },
           "zerolinecolor": "white",
           "zerolinewidth": 2
          }
         }
        }
       }
      },
      "text/html": [
       "<div>\n",
       "        \n",
       "        \n",
       "            <div id=\"d21f6f94-70ab-4824-aecc-dec031b950c5\" class=\"plotly-graph-div\" style=\"height:525px; width:100%;\"></div>\n",
       "            <script type=\"text/javascript\">\n",
       "                require([\"plotly\"], function(Plotly) {\n",
       "                    window.PLOTLYENV=window.PLOTLYENV || {};\n",
       "                    \n",
       "                if (document.getElementById(\"d21f6f94-70ab-4824-aecc-dec031b950c5\")) {\n",
       "                    Plotly.newPlot(\n",
       "                        'd21f6f94-70ab-4824-aecc-dec031b950c5',\n",
       "                        [{\"hoverinfo\": \"none\", \"line\": {\"color\": \"#888\", \"width\": 0.5}, \"mode\": \"lines\", \"type\": \"scatter\", \"x\": [-0.6575609805575393, -0.6500881349190928, null, -0.6575609805575393, -0.603806697315183, null, 0.023800807617678443, 0.024221713760633312, null, 0.8690857510366315, 0.8218374207304474, null, 0.8690857510366315, 0.8540137092385363, null, 0.8690857510366315, 0.795380314980834, null, 0.48769447581884656, 0.5180208989034057, null, 0.48769447581884656, 0.5556613558209075, null, 0.48769447581884656, 0.5247315978214059, null, -0.028918544770110407, 0.0034879885291239482, null, -0.028918544770110407, -0.04930199079353067, null, -0.028918544770110407, 0.024202775546770236, null, -0.028918544770110407, -0.03259218869203899, null, -0.028918544770110407, -0.004245071952597695, null, -0.028918544770110407, -0.006542587987357001, null, -0.028918544770110407, -0.007374721488471361, null, -0.028918544770110407, -0.031138123055741394, null, -0.028918544770110407, -0.053341846260000665, null, -0.028918544770110407, 0.017142505495337426, null, 0.8922080631114788, 0.9154908631955345, null, 0.8922080631114788, 0.838541575667944, null, 0.017142505495337426, 0.0034879885291239482, null, 0.017142505495337426, -0.04930199079353067, null, 0.017142505495337426, 0.024202775546770236, null, 0.017142505495337426, -0.03259218869203899, null, 0.017142505495337426, -0.004245071952597695, null, 0.017142505495337426, -0.006542587987357001, null, 0.017142505495337426, -0.007374721488471361, null, 0.017142505495337426, -0.031138123055741394, null, 0.017142505495337426, -0.053341846260000665, null, 0.024202775546770236, 0.0034879885291239482, null, 0.024202775546770236, -0.04930199079353067, null, 0.024202775546770236, -0.03259218869203899, null, 0.024202775546770236, -0.004245071952597695, null, 0.024202775546770236, -0.006542587987357001, null, 0.024202775546770236, -0.007374721488471361, null, 0.024202775546770236, -0.031138123055741394, null, 0.024202775546770236, -0.053341846260000665, null, -0.4025950804702494, -0.4370585988803818, null, -0.4025950804702494, -0.43468558694811954, null, -0.4025950804702494, -0.4438990106465253, null, -0.4025950804702494, -0.4686895072375826, null, -0.4025950804702494, -0.40178306312732615, null, 0.8218374207304474, 0.8540137092385363, null, 0.8218374207304474, 0.795380314980834, null, -0.43468558694811954, -0.4370585988803818, null, -0.43468558694811954, -0.4438990106465253, null, -0.43468558694811954, -0.4686895072375826, null, -0.43468558694811954, -0.40178306312732615, null, -0.007374721488471361, 0.0034879885291239482, null, -0.007374721488471361, -0.04930199079353067, null, -0.007374721488471361, -0.03259218869203899, null, -0.007374721488471361, -0.004245071952597695, null, -0.007374721488471361, -0.006542587987357001, null, -0.007374721488471361, -0.031138123055741394, null, -0.007374721488471361, -0.053341846260000665, null, -0.6080252651588097, -0.5616413224217249, null, -0.6080252651588097, -0.5813693705984929, null, -0.6080252651588097, -0.5406958533324866, null, -0.03259218869203899, 0.0034879885291239482, null, -0.03259218869203899, -0.04930199079353067, null, -0.03259218869203899, -0.004245071952597695, null, -0.03259218869203899, -0.006542587987357001, null, -0.03259218869203899, -0.031138123055741394, null, -0.03259218869203899, -0.053341846260000665, null, 0.3055121188307561, 0.3304840869416293, null, 0.3055121188307561, 0.2940535876414831, null, 0.3055121188307561, 0.3488443947523099, null, -0.9215272021704879, -0.9999999999999999, null, -0.9215272021704879, -0.9513255923333972, null, -0.9215272021704879, -0.958328519671442, null, -0.40178306312732615, -0.4370585988803818, null, -0.40178306312732615, -0.4438990106465253, null, -0.40178306312732615, -0.4686895072375826, null, -0.5406958533324866, -0.5616413224217249, null, -0.5406958533324866, -0.5813693705984929, null, -0.4370585988803818, -0.4438990106465253, null, -0.4370585988803818, -0.4686895072375826, null, 0.3304840869416293, 0.2940535876414831, null, 0.3304840869416293, 0.3488443947523099, null, 0.5247315978214059, 0.5180208989034057, null, 0.5247315978214059, 0.5556613558209075, null, 0.598890670781476, 0.6296466229877649, null, 0.598890670781476, 0.5780449711732337, null, 0.9154908631955345, 0.838541575667944, null, 0.3488443947523099, 0.2940535876414831, null, -0.5813693705984929, -0.5616413224217249, null, 0.0034879885291239482, -0.04930199079353067, null, 0.0034879885291239482, -0.004245071952597695, null, 0.0034879885291239482, -0.006542587987357001, null, 0.0034879885291239482, -0.031138123055741394, null, 0.0034879885291239482, -0.053341846260000665, null, -0.958328519671442, -0.9999999999999999, null, -0.958328519671442, -0.9513255923333972, null, -0.9999999999999999, -0.9513255923333972, null, -0.006542587987357001, -0.04930199079353067, null, -0.006542587987357001, -0.004245071952597695, null, -0.006542587987357001, -0.031138123055741394, null, -0.006542587987357001, -0.053341846260000665, null, 0.6296466229877649, 0.5780449711732337, null, -0.04930199079353067, -0.004245071952597695, null, -0.04930199079353067, -0.031138123055741394, null, -0.04930199079353067, -0.053341846260000665, null, 0.795380314980834, 0.8540137092385363, null, -0.4438990106465253, -0.4686895072375826, null, 0.5556613558209075, 0.5180208989034057, null, -0.004245071952597695, -0.031138123055741394, null, -0.004245071952597695, -0.053341846260000665, null, -0.603806697315183, -0.6500881349190928, null, -0.031138123055741394, -0.053341846260000665, null], \"y\": [-0.690789493533861, -0.7443462406529833, null, -0.690789493533861, -0.6908403752640009, null, -0.8759942295184077, -0.8058184720812538, null, 0.47388304103413775, 0.47700518241151657, null, 0.47388304103413775, 0.4302566980203041, null, 0.47388304103413775, 0.4294523603126354, null, -0.77583087908729, -0.7409165422788422, null, -0.77583087908729, -0.7552672548075022, null, -0.77583087908729, -0.7882547173120458, null, 0.24222186705844323, 0.2510429540728798, null, 0.24222186705844323, 0.22029498583165624, null, 0.24222186705844323, 0.2423404433079024, null, 0.24222186705844323, 0.2022588196603473, null, 0.24222186705844323, 0.27164748566676566, null, 0.24222186705844323, 0.22393223580677465, null, 0.24222186705844323, 0.19689717740011703, null, 0.24222186705844323, 0.26932612039460657, null, 0.24222186705844323, 0.246007623463075, null, 0.24222186705844323, 0.21229531342218233, null, -0.16805050894528545, -0.12555650494403517, null, -0.16805050894528545, -0.13229491629641163, null, 0.21229531342218233, 0.2510429540728798, null, 0.21229531342218233, 0.22029498583165624, null, 0.21229531342218233, 0.2423404433079024, null, 0.21229531342218233, 0.2022588196603473, null, 0.21229531342218233, 0.27164748566676566, null, 0.21229531342218233, 0.22393223580677465, null, 0.21229531342218233, 0.19689717740011703, null, 0.21229531342218233, 0.26932612039460657, null, 0.21229531342218233, 0.246007623463075, null, 0.2423404433079024, 0.2510429540728798, null, 0.2423404433079024, 0.22029498583165624, null, 0.2423404433079024, 0.2022588196603473, null, 0.2423404433079024, 0.27164748566676566, null, 0.2423404433079024, 0.22393223580677465, null, 0.2423404433079024, 0.19689717740011703, null, 0.2423404433079024, 0.26932612039460657, null, 0.2423404433079024, 0.246007623463075, null, -0.2169695963887118, -0.15713729071472496, null, -0.2169695963887118, -0.19353899310308403, null, -0.2169695963887118, -0.22840234415098729, null, -0.2169695963887118, -0.19057061375708406, null, -0.2169695963887118, -0.1782054503146047, null, 0.47700518241151657, 0.4302566980203041, null, 0.47700518241151657, 0.4294523603126354, null, -0.19353899310308403, -0.15713729071472496, null, -0.19353899310308403, -0.22840234415098729, null, -0.19353899310308403, -0.19057061375708406, null, -0.19353899310308403, -0.1782054503146047, null, 0.19689717740011703, 0.2510429540728798, null, 0.19689717740011703, 0.22029498583165624, null, 0.19689717740011703, 0.2022588196603473, null, 0.19689717740011703, 0.27164748566676566, null, 0.19689717740011703, 0.22393223580677465, null, 0.19689717740011703, 0.26932612039460657, null, 0.19689717740011703, 0.246007623463075, null, 0.6930250800398912, 0.740199330030216, null, 0.6930250800398912, 0.7136987677976007, null, 0.6930250800398912, 0.6659940710833648, null, 0.2022588196603473, 0.2510429540728798, null, 0.2022588196603473, 0.22029498583165624, null, 0.2022588196603473, 0.27164748566676566, null, 0.2022588196603473, 0.22393223580677465, null, 0.2022588196603473, 0.26932612039460657, null, 0.2022588196603473, 0.246007623463075, null, 0.864428814326442, 0.9487600689894216, null, 0.864428814326442, 0.9248303411247044, null, 0.864428814326442, 0.9091655593723869, null, -0.08401790963725718, -0.09047168975082906, null, -0.08401790963725718, -0.11752077156894811, null, -0.08401790963725718, -0.057947459292776435, null, -0.1782054503146047, -0.15713729071472496, null, -0.1782054503146047, -0.22840234415098729, null, -0.1782054503146047, -0.19057061375708406, null, 0.6659940710833648, 0.740199330030216, null, 0.6659940710833648, 0.7136987677976007, null, -0.15713729071472496, -0.22840234415098729, null, -0.15713729071472496, -0.19057061375708406, null, 0.9487600689894216, 0.9248303411247044, null, 0.9487600689894216, 0.9091655593723869, null, -0.7882547173120458, -0.7409165422788422, null, -0.7882547173120458, -0.7552672548075022, null, -0.39230249529973765, -0.34788011772693733, null, -0.39230249529973765, -0.3451207966222955, null, -0.12555650494403517, -0.13229491629641163, null, 0.9091655593723869, 0.9248303411247044, null, 0.7136987677976007, 0.740199330030216, null, 0.2510429540728798, 0.22029498583165624, null, 0.2510429540728798, 0.27164748566676566, null, 0.2510429540728798, 0.22393223580677465, null, 0.2510429540728798, 0.26932612039460657, null, 0.2510429540728798, 0.246007623463075, null, -0.057947459292776435, -0.09047168975082906, null, -0.057947459292776435, -0.11752077156894811, null, -0.09047168975082906, -0.11752077156894811, null, 0.22393223580677465, 0.22029498583165624, null, 0.22393223580677465, 0.27164748566676566, null, 0.22393223580677465, 0.26932612039460657, null, 0.22393223580677465, 0.246007623463075, null, -0.34788011772693733, -0.3451207966222955, null, 0.22029498583165624, 0.27164748566676566, null, 0.22029498583165624, 0.26932612039460657, null, 0.22029498583165624, 0.246007623463075, null, 0.4294523603126354, 0.4302566980203041, null, -0.22840234415098729, -0.19057061375708406, null, -0.7552672548075022, -0.7409165422788422, null, 0.27164748566676566, 0.26932612039460657, null, 0.27164748566676566, 0.246007623463075, null, -0.6908403752640009, -0.7443462406529833, null, 0.26932612039460657, 0.246007623463075, null]}, {\"hoverinfo\": \"text\", \"marker\": {\"color\": [], \"colorbar\": {\"thickness\": 15, \"title\": {\"side\": \"right\", \"text\": \"Node Connections\"}, \"xanchor\": \"left\"}, \"colorscale\": [[0.0, \"rgb(255,255,217)\"], [0.125, \"rgb(237,248,177)\"], [0.25, \"rgb(199,233,180)\"], [0.375, \"rgb(127,205,187)\"], [0.5, \"rgb(65,182,196)\"], [0.625, \"rgb(29,145,192)\"], [0.75, \"rgb(34,94,168)\"], [0.875, \"rgb(37,52,148)\"], [1.0, \"rgb(8,29,88)\"]], \"line\": {\"width\": 2}, \"reversescale\": true, \"showscale\": true, \"size\": 10}, \"mode\": \"markers\", \"text\": [\"{'work': 69.0, 'school': 23.0, 'home': 20.0, 'age': 27.0, 'private_healthcare': True, 'home_id': '00200826'}\", \"{'work': 27.0, 'school': nan, 'home': 20.0, 'age': 27.0, 'private_healthcare': False, 'home_id': '00201025'}\", \"{'work': nan, 'school': 18.0, 'home': 20.0, 'age': 5.0, 'private_healthcare': True, 'home_id': '00200936'}\", \"{'work': nan, 'school': 18.0, 'home': 20.0, 'age': 5.0, 'private_healthcare': True, 'home_id': '00200050'}\", \"{'work': nan, 'school': nan, 'home': 20.0, 'age': 18.0, 'private_healthcare': True, 'home_id': '00201800'}\", \"{'work': nan, 'school': nan, 'home': 20.0, 'age': 44.0, 'private_healthcare': False, 'home_id': '00201814'}\", \"{'work': nan, 'school': nan, 'home': 20.0, 'age': 37.0, 'private_healthcare': True, 'home_id': '00201800'}\", \"{'work': nan, 'school': 22.0, 'home': 20.0, 'age': 3.0, 'private_healthcare': True, 'home_id': '00201800'}\", \"{'work': 8.0, 'school': nan, 'home': 20.0, 'age': 21.0, 'private_healthcare': True, 'home_id': '00200642'}\", \"{'work': 3.0, 'school': nan, 'home': 20.0, 'age': 39.0, 'private_healthcare': True, 'home_id': '00200936'}\", \"{'work': 20.0, 'school': nan, 'home': 20.0, 'age': 29.0, 'private_healthcare': True, 'home_id': '00200642'}\", \"{'work': nan, 'school': 20.0, 'home': 20.0, 'age': 13.0, 'private_healthcare': True, 'home_id': '00201800'}\", \"{'work': nan, 'school': nan, 'home': 20.0, 'age': 42.0, 'private_healthcare': False, 'home_id': '00200332'}\", \"{'work': nan, 'school': 22.0, 'home': 20.0, 'age': 4.0, 'private_healthcare': True, 'home_id': '00201800'}\", \"{'work': 242.0, 'school': nan, 'home': 20.0, 'age': 56.0, 'private_healthcare': True, 'home_id': '00200014'}\", \"{'work': 167.0, 'school': nan, 'home': 20.0, 'age': 46.0, 'private_healthcare': True, 'home_id': '00201779'}\", \"{'work': nan, 'school': 20.0, 'home': 20.0, 'age': 3.0, 'private_healthcare': True, 'home_id': '00200642'}\", \"{'work': nan, 'school': 20.0, 'home': 20.0, 'age': 12.0, 'private_healthcare': False, 'home_id': '00200332'}\", \"{'work': nan, 'school': nan, 'home': 20.0, 'age': 47.0, 'private_healthcare': True, 'home_id': '00200642'}\", \"{'work': 20.0, 'school': nan, 'home': 20.0, 'age': 39.0, 'private_healthcare': False, 'home_id': '00200314'}\", \"{'work': 20.0, 'school': nan, 'home': 20.0, 'age': 65.0, 'private_healthcare': True, 'home_id': '00200014'}\", \"{'work': nan, 'school': 18.0, 'home': 20.0, 'age': 7.0, 'private_healthcare': True, 'home_id': '00200050'}\", \"{'work': nan, 'school': 19.0, 'home': 20.0, 'age': 11.0, 'private_healthcare': False, 'home_id': '00200910'}\", \"{'work': nan, 'school': nan, 'home': 20.0, 'age': 71.0, 'private_healthcare': False, 'home_id': '00201814'}\", \"{'work': 20.0, 'school': 23.0, 'home': 20.0, 'age': 35.0, 'private_healthcare': True, 'home_id': '00200014'}\", \"{'work': nan, 'school': 20.0, 'home': 20.0, 'age': 5.0, 'private_healthcare': False, 'home_id': '00200332'}\", \"{'work': 223.0, 'school': 169.0, 'home': 20.0, 'age': 43.0, 'private_healthcare': False, 'home_id': '00200332'}\", \"{'work': nan, 'school': nan, 'home': 20.0, 'age': 71.0, 'private_healthcare': True, 'home_id': '00201800'}\", \"{'work': nan, 'school': 23.0, 'home': 20.0, 'age': 12.0, 'private_healthcare': True, 'home_id': '00201779'}\", \"{'work': nan, 'school': 18.0, 'home': 20.0, 'age': 16.0, 'private_healthcare': False, 'home_id': '00201814'}\", \"{'work': 23.0, 'school': nan, 'home': 20.0, 'age': 49.0, 'private_healthcare': True, 'home_id': '00201779'}\", \"{'work': nan, 'school': 19.0, 'home': 20.0, 'age': 5.0, 'private_healthcare': True, 'home_id': '00201800'}\", \"{'work': 83.0, 'school': nan, 'home': 20.0, 'age': 57.0, 'private_healthcare': False, 'home_id': '00200910'}\", \"{'work': nan, 'school': nan, 'home': 20.0, 'age': 42.0, 'private_healthcare': True, 'home_id': '00201800'}\", \"{'work': nan, 'school': 20.0, 'home': 20.0, 'age': 3.0, 'private_healthcare': True, 'home_id': '00200936'}\", \"{'work': 19.0, 'school': nan, 'home': 20.0, 'age': 25.0, 'private_healthcare': True, 'home_id': '00200642'}\", \"{'work': 2.0, 'school': nan, 'home': 20.0, 'age': 36.0, 'private_healthcare': True, 'home_id': '00200050'}\", \"{'work': 2.0, 'school': nan, 'home': 20.0, 'age': 24.0, 'private_healthcare': True, 'home_id': '00201800'}\", \"{'work': nan, 'school': 23.0, 'home': 20.0, 'age': 7.0, 'private_healthcare': True, 'home_id': '00201779'}\", \"{'work': 49.0, 'school': nan, 'home': 20.0, 'age': 41.0, 'private_healthcare': True, 'home_id': '00200014'}\", \"{'work': nan, 'school': nan, 'home': 20.0, 'age': 26.0, 'private_healthcare': True, 'home_id': '00200826'}\", \"{'work': 1.0, 'school': nan, 'home': 20.0, 'age': 42.0, 'private_healthcare': True, 'home_id': '00200936'}\", \"{'work': 1.0, 'school': nan, 'home': 20.0, 'age': 57.0, 'private_healthcare': True, 'home_id': '00200826'}\", \"{'work': 20.0, 'school': nan, 'home': 20.0, 'age': 39.0, 'private_healthcare': True, 'home_id': '00200050'}\", \"{'work': nan, 'school': 341.0, 'home': 20.0, 'age': 18.0, 'private_healthcare': True, 'home_id': '00201800'}\", \"{'work': nan, 'school': 24.0, 'home': 20.0, 'age': 9.0, 'private_healthcare': True, 'home_id': '00201800'}\", \"{'work': nan, 'school': 247.0, 'home': 20.0, 'age': 13.0, 'private_healthcare': False, 'home_id': '00200910'}\", \"{'work': 20.0, 'school': nan, 'home': 20.0, 'age': 31.0, 'private_healthcare': False, 'home_id': '00201025'}\", \"{'work': 21.0, 'school': nan, 'home': 20.0, 'age': 23.0, 'private_healthcare': True, 'home_id': '00200642'}\"], \"type\": \"scatter\", \"x\": [-0.6575609805575393, 0.023800807617678443, 0.8690857510366315, 0.48769447581884656, -0.028918544770110407, 0.8922080631114788, 0.017142505495337426, 0.024202775546770236, -0.4025950804702494, 0.8218374207304474, -0.43468558694811954, -0.007374721488471361, -0.6080252651588097, -0.03259218869203899, 0.3055121188307561, -0.9215272021704879, -0.40178306312732615, -0.5406958533324866, -0.4370585988803818, -0.41446340959547845, 0.3304840869416293, 0.5247315978214059, 0.598890670781476, 0.9154908631955345, 0.3488443947523099, -0.5813693705984929, -0.5616413224217249, 0.0034879885291239482, -0.958328519671442, 0.838541575667944, -0.9999999999999999, -0.006542587987357001, 0.6296466229877649, -0.04930199079353067, 0.795380314980834, -0.4438990106465253, 0.5556613558209075, -0.004245071952597695, -0.9513255923333972, 0.2940535876414831, -0.603806697315183, 0.8540137092385363, -0.6500881349190928, 0.5180208989034057, -0.031138123055741394, -0.053341846260000665, 0.5780449711732337, 0.024221713760633312, -0.4686895072375826], \"y\": [-0.690789493533861, -0.8759942295184077, 0.47388304103413775, -0.77583087908729, 0.24222186705844323, -0.16805050894528545, 0.21229531342218233, 0.2423404433079024, -0.2169695963887118, 0.47700518241151657, -0.19353899310308403, 0.19689717740011703, 0.6930250800398912, 0.2022588196603473, 0.864428814326442, -0.08401790963725718, -0.1782054503146047, 0.6659940710833648, -0.15713729071472496, -0.9549186775774732, 0.9487600689894216, -0.7882547173120458, -0.39230249529973765, -0.12555650494403517, 0.9091655593723869, 0.7136987677976007, 0.740199330030216, 0.2510429540728798, -0.057947459292776435, -0.13229491629641163, -0.09047168975082906, 0.22393223580677465, -0.34788011772693733, 0.22029498583165624, 0.4294523603126354, -0.22840234415098729, -0.7552672548075022, 0.27164748566676566, -0.11752077156894811, 0.9248303411247044, -0.6908403752640009, 0.4302566980203041, -0.7443462406529833, -0.7409165422788422, 0.26932612039460657, 0.246007623463075, -0.3451207966222955, -0.8058184720812538, -0.19057061375708406]}],\n",
       "                        {\"hovermode\": \"closest\", \"margin\": {\"b\": 20, \"l\": 5, \"r\": 5, \"t\": 40}, \"showlegend\": false, \"template\": {\"data\": {\"bar\": [{\"error_x\": {\"color\": \"#2a3f5f\"}, \"error_y\": {\"color\": \"#2a3f5f\"}, \"marker\": {\"line\": {\"color\": \"#E5ECF6\", \"width\": 0.5}}, \"type\": \"bar\"}], \"barpolar\": [{\"marker\": {\"line\": {\"color\": \"#E5ECF6\", \"width\": 0.5}}, \"type\": \"barpolar\"}], \"carpet\": [{\"aaxis\": {\"endlinecolor\": \"#2a3f5f\", \"gridcolor\": \"white\", \"linecolor\": \"white\", \"minorgridcolor\": \"white\", \"startlinecolor\": \"#2a3f5f\"}, \"baxis\": {\"endlinecolor\": \"#2a3f5f\", \"gridcolor\": \"white\", \"linecolor\": \"white\", \"minorgridcolor\": \"white\", \"startlinecolor\": \"#2a3f5f\"}, \"type\": \"carpet\"}], \"choropleth\": [{\"colorbar\": {\"outlinewidth\": 0, \"ticks\": \"\"}, \"type\": \"choropleth\"}], \"contour\": [{\"colorbar\": {\"outlinewidth\": 0, \"ticks\": \"\"}, \"colorscale\": [[0.0, \"#0d0887\"], [0.1111111111111111, \"#46039f\"], [0.2222222222222222, \"#7201a8\"], [0.3333333333333333, \"#9c179e\"], [0.4444444444444444, \"#bd3786\"], [0.5555555555555556, \"#d8576b\"], [0.6666666666666666, \"#ed7953\"], [0.7777777777777778, \"#fb9f3a\"], [0.8888888888888888, \"#fdca26\"], [1.0, \"#f0f921\"]], \"type\": \"contour\"}], \"contourcarpet\": [{\"colorbar\": {\"outlinewidth\": 0, \"ticks\": \"\"}, \"type\": \"contourcarpet\"}], \"heatmap\": [{\"colorbar\": {\"outlinewidth\": 0, \"ticks\": \"\"}, \"colorscale\": [[0.0, \"#0d0887\"], [0.1111111111111111, \"#46039f\"], [0.2222222222222222, \"#7201a8\"], [0.3333333333333333, \"#9c179e\"], [0.4444444444444444, \"#bd3786\"], [0.5555555555555556, \"#d8576b\"], [0.6666666666666666, \"#ed7953\"], [0.7777777777777778, \"#fb9f3a\"], [0.8888888888888888, \"#fdca26\"], [1.0, \"#f0f921\"]], \"type\": \"heatmap\"}], \"heatmapgl\": [{\"colorbar\": {\"outlinewidth\": 0, \"ticks\": \"\"}, \"colorscale\": [[0.0, \"#0d0887\"], [0.1111111111111111, \"#46039f\"], [0.2222222222222222, \"#7201a8\"], [0.3333333333333333, \"#9c179e\"], [0.4444444444444444, \"#bd3786\"], [0.5555555555555556, \"#d8576b\"], [0.6666666666666666, \"#ed7953\"], [0.7777777777777778, \"#fb9f3a\"], [0.8888888888888888, \"#fdca26\"], [1.0, \"#f0f921\"]], \"type\": \"heatmapgl\"}], \"histogram\": [{\"marker\": {\"colorbar\": {\"outlinewidth\": 0, \"ticks\": \"\"}}, \"type\": \"histogram\"}], \"histogram2d\": [{\"colorbar\": {\"outlinewidth\": 0, \"ticks\": \"\"}, \"colorscale\": [[0.0, \"#0d0887\"], [0.1111111111111111, \"#46039f\"], [0.2222222222222222, \"#7201a8\"], [0.3333333333333333, \"#9c179e\"], [0.4444444444444444, \"#bd3786\"], [0.5555555555555556, \"#d8576b\"], [0.6666666666666666, \"#ed7953\"], [0.7777777777777778, \"#fb9f3a\"], [0.8888888888888888, \"#fdca26\"], [1.0, \"#f0f921\"]], \"type\": \"histogram2d\"}], \"histogram2dcontour\": [{\"colorbar\": {\"outlinewidth\": 0, \"ticks\": \"\"}, \"colorscale\": [[0.0, \"#0d0887\"], [0.1111111111111111, \"#46039f\"], [0.2222222222222222, \"#7201a8\"], [0.3333333333333333, \"#9c179e\"], [0.4444444444444444, \"#bd3786\"], [0.5555555555555556, \"#d8576b\"], [0.6666666666666666, \"#ed7953\"], [0.7777777777777778, \"#fb9f3a\"], [0.8888888888888888, \"#fdca26\"], [1.0, \"#f0f921\"]], \"type\": \"histogram2dcontour\"}], \"mesh3d\": [{\"colorbar\": {\"outlinewidth\": 0, \"ticks\": \"\"}, \"type\": \"mesh3d\"}], \"parcoords\": [{\"line\": {\"colorbar\": {\"outlinewidth\": 0, \"ticks\": \"\"}}, \"type\": \"parcoords\"}], \"pie\": [{\"automargin\": true, \"type\": \"pie\"}], \"scatter\": [{\"marker\": {\"colorbar\": {\"outlinewidth\": 0, \"ticks\": \"\"}}, \"type\": \"scatter\"}], \"scatter3d\": [{\"line\": {\"colorbar\": {\"outlinewidth\": 0, \"ticks\": \"\"}}, \"marker\": {\"colorbar\": {\"outlinewidth\": 0, \"ticks\": \"\"}}, \"type\": \"scatter3d\"}], \"scattercarpet\": [{\"marker\": {\"colorbar\": {\"outlinewidth\": 0, \"ticks\": \"\"}}, \"type\": \"scattercarpet\"}], \"scattergeo\": [{\"marker\": {\"colorbar\": {\"outlinewidth\": 0, \"ticks\": \"\"}}, \"type\": \"scattergeo\"}], \"scattergl\": [{\"marker\": {\"colorbar\": {\"outlinewidth\": 0, \"ticks\": \"\"}}, \"type\": \"scattergl\"}], \"scattermapbox\": [{\"marker\": {\"colorbar\": {\"outlinewidth\": 0, \"ticks\": \"\"}}, \"type\": \"scattermapbox\"}], \"scatterpolar\": [{\"marker\": {\"colorbar\": {\"outlinewidth\": 0, \"ticks\": \"\"}}, \"type\": \"scatterpolar\"}], \"scatterpolargl\": [{\"marker\": {\"colorbar\": {\"outlinewidth\": 0, \"ticks\": \"\"}}, \"type\": \"scatterpolargl\"}], \"scatterternary\": [{\"marker\": {\"colorbar\": {\"outlinewidth\": 0, \"ticks\": \"\"}}, \"type\": \"scatterternary\"}], \"surface\": [{\"colorbar\": {\"outlinewidth\": 0, \"ticks\": \"\"}, \"colorscale\": [[0.0, \"#0d0887\"], [0.1111111111111111, \"#46039f\"], [0.2222222222222222, \"#7201a8\"], [0.3333333333333333, \"#9c179e\"], [0.4444444444444444, \"#bd3786\"], [0.5555555555555556, \"#d8576b\"], [0.6666666666666666, \"#ed7953\"], [0.7777777777777778, \"#fb9f3a\"], [0.8888888888888888, \"#fdca26\"], [1.0, \"#f0f921\"]], \"type\": \"surface\"}], \"table\": [{\"cells\": {\"fill\": {\"color\": \"#EBF0F8\"}, \"line\": {\"color\": \"white\"}}, \"header\": {\"fill\": {\"color\": \"#C8D4E3\"}, \"line\": {\"color\": \"white\"}}, \"type\": \"table\"}]}, \"layout\": {\"annotationdefaults\": {\"arrowcolor\": \"#2a3f5f\", \"arrowhead\": 0, \"arrowwidth\": 1}, \"coloraxis\": {\"colorbar\": {\"outlinewidth\": 0, \"ticks\": \"\"}}, \"colorscale\": {\"diverging\": [[0, \"#8e0152\"], [0.1, \"#c51b7d\"], [0.2, \"#de77ae\"], [0.3, \"#f1b6da\"], [0.4, \"#fde0ef\"], [0.5, \"#f7f7f7\"], [0.6, \"#e6f5d0\"], [0.7, \"#b8e186\"], [0.8, \"#7fbc41\"], [0.9, \"#4d9221\"], [1, \"#276419\"]], \"sequential\": [[0.0, \"#0d0887\"], [0.1111111111111111, \"#46039f\"], [0.2222222222222222, \"#7201a8\"], [0.3333333333333333, \"#9c179e\"], [0.4444444444444444, \"#bd3786\"], [0.5555555555555556, \"#d8576b\"], [0.6666666666666666, \"#ed7953\"], [0.7777777777777778, \"#fb9f3a\"], [0.8888888888888888, \"#fdca26\"], [1.0, \"#f0f921\"]], \"sequentialminus\": [[0.0, \"#0d0887\"], [0.1111111111111111, \"#46039f\"], [0.2222222222222222, \"#7201a8\"], [0.3333333333333333, \"#9c179e\"], [0.4444444444444444, \"#bd3786\"], [0.5555555555555556, \"#d8576b\"], [0.6666666666666666, \"#ed7953\"], [0.7777777777777778, \"#fb9f3a\"], [0.8888888888888888, \"#fdca26\"], [1.0, \"#f0f921\"]]}, \"colorway\": [\"#636efa\", \"#EF553B\", \"#00cc96\", \"#ab63fa\", \"#FFA15A\", \"#19d3f3\", \"#FF6692\", \"#B6E880\", \"#FF97FF\", \"#FECB52\"], \"font\": {\"color\": \"#2a3f5f\"}, \"geo\": {\"bgcolor\": \"white\", \"lakecolor\": \"white\", \"landcolor\": \"#E5ECF6\", \"showlakes\": true, \"showland\": true, \"subunitcolor\": \"white\"}, \"hoverlabel\": {\"align\": \"left\"}, \"hovermode\": \"closest\", \"mapbox\": {\"style\": \"light\"}, \"paper_bgcolor\": \"white\", \"plot_bgcolor\": \"#E5ECF6\", \"polar\": {\"angularaxis\": {\"gridcolor\": \"white\", \"linecolor\": \"white\", \"ticks\": \"\"}, \"bgcolor\": \"#E5ECF6\", \"radialaxis\": {\"gridcolor\": \"white\", \"linecolor\": \"white\", \"ticks\": \"\"}}, \"scene\": {\"xaxis\": {\"backgroundcolor\": \"#E5ECF6\", \"gridcolor\": \"white\", \"gridwidth\": 2, \"linecolor\": \"white\", \"showbackground\": true, \"ticks\": \"\", \"zerolinecolor\": \"white\"}, \"yaxis\": {\"backgroundcolor\": \"#E5ECF6\", \"gridcolor\": \"white\", \"gridwidth\": 2, \"linecolor\": \"white\", \"showbackground\": true, \"ticks\": \"\", \"zerolinecolor\": \"white\"}, \"zaxis\": {\"backgroundcolor\": \"#E5ECF6\", \"gridcolor\": \"white\", \"gridwidth\": 2, \"linecolor\": \"white\", \"showbackground\": true, \"ticks\": \"\", \"zerolinecolor\": \"white\"}}, \"shapedefaults\": {\"line\": {\"color\": \"#2a3f5f\"}}, \"ternary\": {\"aaxis\": {\"gridcolor\": \"white\", \"linecolor\": \"white\", \"ticks\": \"\"}, \"baxis\": {\"gridcolor\": \"white\", \"linecolor\": \"white\", \"ticks\": \"\"}, \"bgcolor\": \"#E5ECF6\", \"caxis\": {\"gridcolor\": \"white\", \"linecolor\": \"white\", \"ticks\": \"\"}}, \"title\": {\"x\": 0.05}, \"xaxis\": {\"automargin\": true, \"gridcolor\": \"white\", \"linecolor\": \"white\", \"ticks\": \"\", \"title\": {\"standoff\": 15}, \"zerolinecolor\": \"white\", \"zerolinewidth\": 2}, \"yaxis\": {\"automargin\": true, \"gridcolor\": \"white\", \"linecolor\": \"white\", \"ticks\": \"\", \"title\": {\"standoff\": 15}, \"zerolinecolor\": \"white\", \"zerolinewidth\": 2}}}},\n",
       "                        {\"responsive\": true}\n",
       "                    ).then(function(){\n",
       "                            \n",
       "var gd = document.getElementById('d21f6f94-70ab-4824-aecc-dec031b950c5');\n",
       "var x = new MutationObserver(function (mutations, observer) {{\n",
       "        var display = window.getComputedStyle(gd).display;\n",
       "        if (!display || display === 'none') {{\n",
       "            console.log([gd, 'removed!']);\n",
       "            Plotly.purge(gd);\n",
       "            observer.disconnect();\n",
       "        }}\n",
       "}});\n",
       "\n",
       "// Listen for the removal of the full notebook cells\n",
       "var notebookContainer = gd.closest('#notebook-container');\n",
       "if (notebookContainer) {{\n",
       "    x.observe(notebookContainer, {childList: true});\n",
       "}}\n",
       "\n",
       "// Listen for the clearing of the current output cell\n",
       "var outputEl = gd.closest('.output');\n",
       "if (outputEl) {{\n",
       "    x.observe(outputEl, {childList: true});\n",
       "}}\n",
       "\n",
       "                        })\n",
       "                };\n",
       "                });\n",
       "            </script>\n",
       "        </div>"
      ]
     },
     "metadata": {},
     "output_type": "display_data"
    }
   ],
   "source": [
    "plot_graph(G.subgraph(sorted(nx.connected_components(sub_G), key = len, reverse=True)[0]))"
   ]
  },
  {
   "cell_type": "code",
   "execution_count": null,
   "metadata": {},
   "outputs": [],
   "source": []
  }
 ],
 "metadata": {
  "kernelspec": {
   "display_name": "Python 3",
   "language": "python",
   "name": "python3"
  },
  "language_info": {
   "codemirror_mode": {
    "name": "ipython",
    "version": 3
   },
   "file_extension": ".py",
   "mimetype": "text/x-python",
   "name": "python",
   "nbconvert_exporter": "python",
   "pygments_lexer": "ipython3",
   "version": "3.7.7"
  }
 },
 "nbformat": 4,
 "nbformat_minor": 4
}
