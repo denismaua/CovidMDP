{
 "cells": [
  {
   "cell_type": "code",
   "execution_count": 1,
   "metadata": {},
   "outputs": [],
   "source": [
    "import pyreadstat\n",
    "import pandas as pd\n",
    "import numpy as np\n",
    "import networkx as nx\n",
    "import warnings\n",
    "import itertools\n",
    "from tqdm import tqdm\n",
    "import seaborn as sns\n",
    "import numpy as np"
   ]
  },
  {
   "cell_type": "code",
   "execution_count": 2,
   "metadata": {},
   "outputs": [
    {
     "name": "stdout",
     "output_type": "stream",
     "text": [
      "OD_2017.dbf  Shape\t\t\t      work_school_home_sp.feather\r\n",
      "OD_2017.sav  work_school_home_sp_esc.feather\r\n"
     ]
    }
   ],
   "source": [
    "!dir ../../data/raw"
   ]
  },
  {
   "cell_type": "code",
   "execution_count": 3,
   "metadata": {},
   "outputs": [],
   "source": [
    "df, meta = pyreadstat.read_sav(\"../../data/raw/OD_2017.sav\")\n",
    "df.drop_duplicates(subset=['zona', 'zona_esc', 'zonatra1', 'id_pess'], inplace=True)"
   ]
  },
  {
   "cell_type": "code",
   "execution_count": 4,
   "metadata": {},
   "outputs": [],
   "source": [
    "df = df[df['muni_dom'] == 36].copy()\n",
    "max_zona = int(df.zona.max())"
   ]
  },
  {
   "cell_type": "code",
   "execution_count": 5,
   "metadata": {},
   "outputs": [],
   "source": [
    "\"\"\"\n",
    "1 - Agrícola\n",
    "2 - Construção Civil\n",
    "3 - Indústria\n",
    "4 -Comércio\n",
    "5 - Serviço de Transporte de Carga\n",
    "6 - Serviço de Transporte de Passageiros\n",
    "7 - Serviço Creditício-financeiro\n",
    "8 - Serviço Pessoal\n",
    "9 - Serviço de Alimentação\n",
    "10 - Serviço de Saúde\n",
    "11 - Serviço de Educação\n",
    "12 - Serviço Especializado\n",
    "13 - Serviço de Administração Pública\n",
    "14 - Outros Serviços\n",
    "\"\"\"\n",
    "\n",
    "job_sector = {\n",
    "    'essential' : [10],\n",
    "    'high_impact': [1, 2, 3, 5, 6, 9],\n",
    "    'regular': [4, 7, 8, 12, 13, 14],\n",
    "    'education': [11]\n",
    "}"
   ]
  },
  {
   "cell_type": "code",
   "execution_count": 6,
   "metadata": {},
   "outputs": [],
   "source": [
    "def job_criticity(row):\n",
    "    if row.setor1 in job_sector['essential'] or row.ocup1==10:\n",
    "        return 4\n",
    "    if row.setor1 in job_sector['high_impact']:\n",
    "        return 3\n",
    "    if row.setor1 in job_sector['regular']:\n",
    "        return 2\n",
    "    if row.setor1 in job_sector['education']:\n",
    "        return -1\n",
    "    return np.nan"
   ]
  },
  {
   "cell_type": "code",
   "execution_count": 7,
   "metadata": {},
   "outputs": [],
   "source": [
    "df['job_level'] = df.apply(job_criticity, axis=1)"
   ]
  },
  {
   "cell_type": "code",
   "execution_count": 8,
   "metadata": {},
   "outputs": [
    {
     "data": {
      "text/html": [
       "<div>\n",
       "<style scoped>\n",
       "    .dataframe tbody tr th:only-of-type {\n",
       "        vertical-align: middle;\n",
       "    }\n",
       "\n",
       "    .dataframe tbody tr th {\n",
       "        vertical-align: top;\n",
       "    }\n",
       "\n",
       "    .dataframe thead th {\n",
       "        text-align: right;\n",
       "    }\n",
       "</style>\n",
       "<table border=\"1\" class=\"dataframe\">\n",
       "  <thead>\n",
       "    <tr style=\"text-align: right;\">\n",
       "      <th></th>\n",
       "      <th>zona</th>\n",
       "      <th>muni_dom</th>\n",
       "      <th>co_dom_x</th>\n",
       "      <th>co_dom_y</th>\n",
       "      <th>id_dom</th>\n",
       "      <th>f_dom</th>\n",
       "      <th>fe_dom</th>\n",
       "      <th>dom</th>\n",
       "      <th>cd_entre</th>\n",
       "      <th>data</th>\n",
       "      <th>...</th>\n",
       "      <th>modoprin</th>\n",
       "      <th>tipvg</th>\n",
       "      <th>pag_viag</th>\n",
       "      <th>tp_esauto</th>\n",
       "      <th>vl_est</th>\n",
       "      <th>pe_bici</th>\n",
       "      <th>via_bici</th>\n",
       "      <th>tp_estbici</th>\n",
       "      <th>id_ordem</th>\n",
       "      <th>job_level</th>\n",
       "    </tr>\n",
       "  </thead>\n",
       "  <tbody>\n",
       "    <tr>\n",
       "      <th>23</th>\n",
       "      <td>1.0</td>\n",
       "      <td>36.0</td>\n",
       "      <td>333818.0</td>\n",
       "      <td>7394428.0</td>\n",
       "      <td>00010008</td>\n",
       "      <td>1.0</td>\n",
       "      <td>15.416667</td>\n",
       "      <td>8.0</td>\n",
       "      <td>1.0</td>\n",
       "      <td>06092017</td>\n",
       "      <td>...</td>\n",
       "      <td>1.0</td>\n",
       "      <td>1.0</td>\n",
       "      <td>1.0</td>\n",
       "      <td>NaN</td>\n",
       "      <td>NaN</td>\n",
       "      <td>NaN</td>\n",
       "      <td>NaN</td>\n",
       "      <td>NaN</td>\n",
       "      <td>24.0</td>\n",
       "      <td>-1.0</td>\n",
       "    </tr>\n",
       "    <tr>\n",
       "      <th>130</th>\n",
       "      <td>1.0</td>\n",
       "      <td>36.0</td>\n",
       "      <td>333458.0</td>\n",
       "      <td>7394389.0</td>\n",
       "      <td>00010040</td>\n",
       "      <td>0.0</td>\n",
       "      <td>30.038462</td>\n",
       "      <td>40.0</td>\n",
       "      <td>1.0</td>\n",
       "      <td>13092017</td>\n",
       "      <td>...</td>\n",
       "      <td>1.0</td>\n",
       "      <td>1.0</td>\n",
       "      <td>2.0</td>\n",
       "      <td>NaN</td>\n",
       "      <td>NaN</td>\n",
       "      <td>NaN</td>\n",
       "      <td>NaN</td>\n",
       "      <td>NaN</td>\n",
       "      <td>131.0</td>\n",
       "      <td>-1.0</td>\n",
       "    </tr>\n",
       "    <tr>\n",
       "      <th>137</th>\n",
       "      <td>1.0</td>\n",
       "      <td>36.0</td>\n",
       "      <td>333067.0</td>\n",
       "      <td>7394620.0</td>\n",
       "      <td>00010043</td>\n",
       "      <td>1.0</td>\n",
       "      <td>30.038462</td>\n",
       "      <td>43.0</td>\n",
       "      <td>1.0</td>\n",
       "      <td>06092017</td>\n",
       "      <td>...</td>\n",
       "      <td>4.0</td>\n",
       "      <td>1.0</td>\n",
       "      <td>2.0</td>\n",
       "      <td>NaN</td>\n",
       "      <td>NaN</td>\n",
       "      <td>NaN</td>\n",
       "      <td>NaN</td>\n",
       "      <td>NaN</td>\n",
       "      <td>138.0</td>\n",
       "      <td>-1.0</td>\n",
       "    </tr>\n",
       "    <tr>\n",
       "      <th>277</th>\n",
       "      <td>2.0</td>\n",
       "      <td>36.0</td>\n",
       "      <td>333381.0</td>\n",
       "      <td>7396181.0</td>\n",
       "      <td>00020312</td>\n",
       "      <td>1.0</td>\n",
       "      <td>34.678571</td>\n",
       "      <td>312.0</td>\n",
       "      <td>1.0</td>\n",
       "      <td>15062018</td>\n",
       "      <td>...</td>\n",
       "      <td>4.0</td>\n",
       "      <td>1.0</td>\n",
       "      <td>1.0</td>\n",
       "      <td>NaN</td>\n",
       "      <td>NaN</td>\n",
       "      <td>NaN</td>\n",
       "      <td>NaN</td>\n",
       "      <td>NaN</td>\n",
       "      <td>278.0</td>\n",
       "      <td>-1.0</td>\n",
       "    </tr>\n",
       "    <tr>\n",
       "      <th>380</th>\n",
       "      <td>2.0</td>\n",
       "      <td>36.0</td>\n",
       "      <td>333339.0</td>\n",
       "      <td>7396185.0</td>\n",
       "      <td>00020640</td>\n",
       "      <td>1.0</td>\n",
       "      <td>34.678571</td>\n",
       "      <td>640.0</td>\n",
       "      <td>1.0</td>\n",
       "      <td>11092018</td>\n",
       "      <td>...</td>\n",
       "      <td>16.0</td>\n",
       "      <td>3.0</td>\n",
       "      <td>NaN</td>\n",
       "      <td>NaN</td>\n",
       "      <td>NaN</td>\n",
       "      <td>1.0</td>\n",
       "      <td>NaN</td>\n",
       "      <td>NaN</td>\n",
       "      <td>381.0</td>\n",
       "      <td>-1.0</td>\n",
       "    </tr>\n",
       "    <tr>\n",
       "      <th>...</th>\n",
       "      <td>...</td>\n",
       "      <td>...</td>\n",
       "      <td>...</td>\n",
       "      <td>...</td>\n",
       "      <td>...</td>\n",
       "      <td>...</td>\n",
       "      <td>...</td>\n",
       "      <td>...</td>\n",
       "      <td>...</td>\n",
       "      <td>...</td>\n",
       "      <td>...</td>\n",
       "      <td>...</td>\n",
       "      <td>...</td>\n",
       "      <td>...</td>\n",
       "      <td>...</td>\n",
       "      <td>...</td>\n",
       "      <td>...</td>\n",
       "      <td>...</td>\n",
       "      <td>...</td>\n",
       "      <td>...</td>\n",
       "      <td>...</td>\n",
       "    </tr>\n",
       "    <tr>\n",
       "      <th>125890</th>\n",
       "      <td>342.0</td>\n",
       "      <td>36.0</td>\n",
       "      <td>322633.0</td>\n",
       "      <td>7391675.0</td>\n",
       "      <td>03420484</td>\n",
       "      <td>1.0</td>\n",
       "      <td>276.505586</td>\n",
       "      <td>484.0</td>\n",
       "      <td>1.0</td>\n",
       "      <td>24022018</td>\n",
       "      <td>...</td>\n",
       "      <td>16.0</td>\n",
       "      <td>3.0</td>\n",
       "      <td>NaN</td>\n",
       "      <td>NaN</td>\n",
       "      <td>NaN</td>\n",
       "      <td>1.0</td>\n",
       "      <td>NaN</td>\n",
       "      <td>NaN</td>\n",
       "      <td>125891.0</td>\n",
       "      <td>-1.0</td>\n",
       "    </tr>\n",
       "    <tr>\n",
       "      <th>125907</th>\n",
       "      <td>342.0</td>\n",
       "      <td>36.0</td>\n",
       "      <td>322891.0</td>\n",
       "      <td>7391254.0</td>\n",
       "      <td>03420515</td>\n",
       "      <td>1.0</td>\n",
       "      <td>276.505586</td>\n",
       "      <td>515.0</td>\n",
       "      <td>1.0</td>\n",
       "      <td>28022018</td>\n",
       "      <td>...</td>\n",
       "      <td>9.0</td>\n",
       "      <td>2.0</td>\n",
       "      <td>NaN</td>\n",
       "      <td>1.0</td>\n",
       "      <td>NaN</td>\n",
       "      <td>NaN</td>\n",
       "      <td>NaN</td>\n",
       "      <td>NaN</td>\n",
       "      <td>125908.0</td>\n",
       "      <td>-1.0</td>\n",
       "    </tr>\n",
       "    <tr>\n",
       "      <th>125920</th>\n",
       "      <td>342.0</td>\n",
       "      <td>36.0</td>\n",
       "      <td>323101.0</td>\n",
       "      <td>7392005.0</td>\n",
       "      <td>03420519</td>\n",
       "      <td>1.0</td>\n",
       "      <td>276.505586</td>\n",
       "      <td>519.0</td>\n",
       "      <td>1.0</td>\n",
       "      <td>08042018</td>\n",
       "      <td>...</td>\n",
       "      <td>4.0</td>\n",
       "      <td>1.0</td>\n",
       "      <td>3.0</td>\n",
       "      <td>NaN</td>\n",
       "      <td>NaN</td>\n",
       "      <td>NaN</td>\n",
       "      <td>NaN</td>\n",
       "      <td>NaN</td>\n",
       "      <td>125921.0</td>\n",
       "      <td>-1.0</td>\n",
       "    </tr>\n",
       "    <tr>\n",
       "      <th>125966</th>\n",
       "      <td>342.0</td>\n",
       "      <td>36.0</td>\n",
       "      <td>321930.0</td>\n",
       "      <td>7391013.0</td>\n",
       "      <td>03420932</td>\n",
       "      <td>1.0</td>\n",
       "      <td>276.505586</td>\n",
       "      <td>932.0</td>\n",
       "      <td>1.0</td>\n",
       "      <td>18082018</td>\n",
       "      <td>...</td>\n",
       "      <td>9.0</td>\n",
       "      <td>2.0</td>\n",
       "      <td>NaN</td>\n",
       "      <td>3.0</td>\n",
       "      <td>NaN</td>\n",
       "      <td>NaN</td>\n",
       "      <td>NaN</td>\n",
       "      <td>NaN</td>\n",
       "      <td>125967.0</td>\n",
       "      <td>-1.0</td>\n",
       "    </tr>\n",
       "    <tr>\n",
       "      <th>125972</th>\n",
       "      <td>342.0</td>\n",
       "      <td>36.0</td>\n",
       "      <td>323085.0</td>\n",
       "      <td>7390602.0</td>\n",
       "      <td>03421607</td>\n",
       "      <td>0.0</td>\n",
       "      <td>276.505586</td>\n",
       "      <td>1607.0</td>\n",
       "      <td>1.0</td>\n",
       "      <td>18082018</td>\n",
       "      <td>...</td>\n",
       "      <td>1.0</td>\n",
       "      <td>1.0</td>\n",
       "      <td>1.0</td>\n",
       "      <td>NaN</td>\n",
       "      <td>NaN</td>\n",
       "      <td>NaN</td>\n",
       "      <td>NaN</td>\n",
       "      <td>NaN</td>\n",
       "      <td>125973.0</td>\n",
       "      <td>-1.0</td>\n",
       "    </tr>\n",
       "  </tbody>\n",
       "</table>\n",
       "<p>2121 rows × 127 columns</p>\n",
       "</div>"
      ],
      "text/plain": [
       "         zona  muni_dom  co_dom_x   co_dom_y    id_dom  f_dom      fe_dom  \\\n",
       "23        1.0      36.0  333818.0  7394428.0  00010008    1.0   15.416667   \n",
       "130       1.0      36.0  333458.0  7394389.0  00010040    0.0   30.038462   \n",
       "137       1.0      36.0  333067.0  7394620.0  00010043    1.0   30.038462   \n",
       "277       2.0      36.0  333381.0  7396181.0  00020312    1.0   34.678571   \n",
       "380       2.0      36.0  333339.0  7396185.0  00020640    1.0   34.678571   \n",
       "...       ...       ...       ...        ...       ...    ...         ...   \n",
       "125890  342.0      36.0  322633.0  7391675.0  03420484    1.0  276.505586   \n",
       "125907  342.0      36.0  322891.0  7391254.0  03420515    1.0  276.505586   \n",
       "125920  342.0      36.0  323101.0  7392005.0  03420519    1.0  276.505586   \n",
       "125966  342.0      36.0  321930.0  7391013.0  03420932    1.0  276.505586   \n",
       "125972  342.0      36.0  323085.0  7390602.0  03421607    0.0  276.505586   \n",
       "\n",
       "           dom  cd_entre      data  ...  modoprin  tipvg  pag_viag  tp_esauto  \\\n",
       "23         8.0       1.0  06092017  ...       1.0    1.0       1.0        NaN   \n",
       "130       40.0       1.0  13092017  ...       1.0    1.0       2.0        NaN   \n",
       "137       43.0       1.0  06092017  ...       4.0    1.0       2.0        NaN   \n",
       "277      312.0       1.0  15062018  ...       4.0    1.0       1.0        NaN   \n",
       "380      640.0       1.0  11092018  ...      16.0    3.0       NaN        NaN   \n",
       "...        ...       ...       ...  ...       ...    ...       ...        ...   \n",
       "125890   484.0       1.0  24022018  ...      16.0    3.0       NaN        NaN   \n",
       "125907   515.0       1.0  28022018  ...       9.0    2.0       NaN        1.0   \n",
       "125920   519.0       1.0  08042018  ...       4.0    1.0       3.0        NaN   \n",
       "125966   932.0       1.0  18082018  ...       9.0    2.0       NaN        3.0   \n",
       "125972  1607.0       1.0  18082018  ...       1.0    1.0       1.0        NaN   \n",
       "\n",
       "        vl_est pe_bici  via_bici  tp_estbici  id_ordem  job_level  \n",
       "23         NaN     NaN       NaN         NaN      24.0       -1.0  \n",
       "130        NaN     NaN       NaN         NaN     131.0       -1.0  \n",
       "137        NaN     NaN       NaN         NaN     138.0       -1.0  \n",
       "277        NaN     NaN       NaN         NaN     278.0       -1.0  \n",
       "380        NaN     1.0       NaN         NaN     381.0       -1.0  \n",
       "...        ...     ...       ...         ...       ...        ...  \n",
       "125890     NaN     1.0       NaN         NaN  125891.0       -1.0  \n",
       "125907     NaN     NaN       NaN         NaN  125908.0       -1.0  \n",
       "125920     NaN     NaN       NaN         NaN  125921.0       -1.0  \n",
       "125966     NaN     NaN       NaN         NaN  125967.0       -1.0  \n",
       "125972     NaN     NaN       NaN         NaN  125973.0       -1.0  \n",
       "\n",
       "[2121 rows x 127 columns]"
      ]
     },
     "execution_count": 8,
     "metadata": {},
     "output_type": "execute_result"
    }
   ],
   "source": [
    "df[df['job_level'] == -1]"
   ]
  },
  {
   "cell_type": "code",
   "execution_count": 9,
   "metadata": {},
   "outputs": [],
   "source": [
    "mask = df['job_level'] == -1\n",
    "df.loc[mask, 'co_esc_x'] = df.loc[mask, 'co_tr1_x']\n",
    "df.loc[mask, 'co_esc_y'] = df.loc[mask, 'co_tr1_y']\n",
    "df.loc[mask, 'zona_esc'] = df.loc[mask, 'zonatra1']\n",
    "df.loc[mask, 'zonatra1'] = np.nan\n",
    "df.loc[mask, 'co_tr1_x'] = np.nan\n",
    "df.loc[mask, 'co_tr1_y'] = np.nan"
   ]
  },
  {
   "cell_type": "code",
   "execution_count": 10,
   "metadata": {},
   "outputs": [],
   "source": [
    "trab_esc = df[['zona', 'zona_esc', 'zonatra1', 'id_pess', 'co_tr1_x', 'co_tr1_y', \n",
    "               'co_esc_x', 'co_esc_y', 'co_dom_x', 'co_dom_y', 'id_dom', 'idade',\n",
    "               'criteriobr', 'renda_fa', 'grau_ins', 'job_level', 'estuda']].copy()\n",
    "\n",
    "trab_esc.rename(columns={'zona':'home', 'co_dom_x' : 'home_x', 'co_dom_y' : 'home_y',\n",
    "                         'zona_esc':'school', 'co_esc_x' : 'school_x', \n",
    "                         'co_esc_y' : 'school_y', 'zonatra1':'work', 'estuda': 'studies',\n",
    "                         'co_tr1_x': 'work_x', 'co_tr1_y': 'work_y', 'id_pess': 'id',\n",
    "                         'id_dom': 'home_id', 'grau_ins': 'education'}, inplace=True)\n",
    "\n",
    "trab_esc = trab_esc[~(trab_esc['work'] > max_zona) & \n",
    "        ~(trab_esc['school'] > max_zona) & ~(trab_esc['home'] > max_zona)].reset_index(drop=True)"
   ]
  },
  {
   "cell_type": "code",
   "execution_count": 11,
   "metadata": {},
   "outputs": [
    {
     "data": {
      "text/plain": [
       "array([0.12610324, 0.14255148, 0.33799144, 0.13994384, 0.21503076,\n",
       "       0.03837925])"
      ]
     },
     "execution_count": 11,
     "metadata": {},
     "output_type": "execute_result"
    }
   ],
   "source": [
    "p = df[df['co_esc_x'].notna()]['estuda'].value_counts().sort_index().values\n",
    "p / np.sum(p)"
   ]
  },
  {
   "cell_type": "code",
   "execution_count": 12,
   "metadata": {},
   "outputs": [
    {
     "name": "stdout",
     "output_type": "stream",
     "text": [
      "Tem plano de saude aqueles com renda familiar superior a:\n",
      "4000.0\n",
      "Será???\n"
     ]
    }
   ],
   "source": [
    "# Beneficiarios do Sistema de Saude Privado\n",
    "\n",
    "\n",
    "#https://portal.cfm.org.br/images/PDF/leitosdeuticapitais2018.pdf\n",
    "quantile = 1 - 5730524/12038175\n",
    "print('Tem plano de saude aqueles com renda familiar superior a:')\n",
    "print(np.quantile(trab_esc['renda_fa'], quantile))\n",
    "print('Será???')"
   ]
  },
  {
   "cell_type": "code",
   "execution_count": 13,
   "metadata": {},
   "outputs": [
    {
     "data": {
      "text/plain": [
       "criteriobr\n",
       "1.0    11742.852070\n",
       "2.0     6483.397776\n",
       "3.0     4209.082629\n",
       "4.0     2850.000000\n",
       "5.0     2037.000000\n",
       "6.0     1592.403836\n",
       "Name: renda_fa, dtype: float64"
      ]
     },
     "execution_count": 13,
     "metadata": {},
     "output_type": "execute_result"
    }
   ],
   "source": [
    "trab_esc.groupby(by='criteriobr')['renda_fa'].median()"
   ]
  },
  {
   "cell_type": "code",
   "execution_count": 14,
   "metadata": {},
   "outputs": [
    {
     "data": {
      "text/plain": [
       "<matplotlib.axes._subplots.AxesSubplot at 0x7f97ba8a62d0>"
      ]
     },
     "execution_count": 14,
     "metadata": {},
     "output_type": "execute_result"
    },
    {
     "data": {
      "image/png": "[encoded data removed]",
      "text/plain": [
       "<Figure size 432x288 with 1 Axes>"
      ]
     },
     "metadata": {
      "needs_background": "light"
     },
     "output_type": "display_data"
    }
   ],
   "source": [
    "sns.distplot(trab_esc['renda_fa'])"
   ]
  },
  {
   "cell_type": "code",
   "execution_count": 15,
   "metadata": {},
   "outputs": [],
   "source": [
    "def has_private_healthcare(family_income):\n",
    "    return family_income >= 4000\n",
    "\n",
    "trab_esc['private_healthcare'] = trab_esc['renda_fa'].apply(has_private_healthcare)"
   ]
  },
  {
   "cell_type": "code",
   "execution_count": 16,
   "metadata": {},
   "outputs": [
    {
     "data": {
      "text/plain": [
       "<matplotlib.axes._subplots.AxesSubplot at 0x7f97bab69fd0>"
      ]
     },
     "execution_count": 16,
     "metadata": {},
     "output_type": "execute_result"
    },
    {
     "data": {
      "image/png": "[encoded data removed]",
      "text/plain": [
       "<Figure size 432x288 with 1 Axes>"
      ]
     },
     "metadata": {
      "needs_background": "light"
     },
     "output_type": "display_data"
    }
   ],
   "source": [
    "sns.distplot(trab_esc['education'])"
   ]
  },
  {
   "cell_type": "code",
   "execution_count": 17,
   "metadata": {},
   "outputs": [],
   "source": [
    "trab_esc.to_feather(\"../../data/interim/work_school_home_sp_esc.feather\")"
   ]
  }
 ],
 "metadata": {
  "kernelspec": {
   "display_name": "Python 3",
   "language": "python",
   "name": "python3"
  },
  "language_info": {
   "codemirror_mode": {
    "name": "ipython",
    "version": 3
   },
   "file_extension": ".py",
   "mimetype": "text/x-python",
   "name": "python",
   "nbconvert_exporter": "python",
   "pygments_lexer": "ipython3",
   "version": "3.7.7"
  }
 },
 "nbformat": 4,
 "nbformat_minor": 4
}
