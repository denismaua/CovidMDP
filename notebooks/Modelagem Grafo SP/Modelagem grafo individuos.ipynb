{
 "cells": [
  {
   "cell_type": "code",
   "execution_count": 1,
   "metadata": {},
   "outputs": [],
   "source": [
    "import pyreadstat\n",
    "import pandas as pd\n",
    "import numpy as np\n",
    "import networkx as nx\n",
    "import warnings\n",
    "import itertools\n",
    "from tqdm import tqdm\n",
    "import seaborn as sns\n",
    "import numpy as np"
   ]
  },
  {
   "cell_type": "code",
   "execution_count": 2,
   "metadata": {},
   "outputs": [
    {
     "name": "stdout",
     "output_type": "stream",
     "text": [
      "OD_2017.dbf  Shape\t\t\t      work_school_home_sp.feather\r\n",
      "OD_2017.sav  work_school_home_sp_esc.feather\r\n"
     ]
    }
   ],
   "source": [
    "!dir ../../data/raw"
   ]
  },
  {
   "cell_type": "code",
   "execution_count": 3,
   "metadata": {},
   "outputs": [],
   "source": [
    "df, meta = pyreadstat.read_sav(\"../../data/raw/OD_2017.sav\")\n",
    "df.drop_duplicates(subset=['zona', 'zona_esc', 'zonatra1', 'id_pess'], inplace=True)"
   ]
  },
  {
   "cell_type": "code",
   "execution_count": 4,
   "metadata": {},
   "outputs": [],
   "source": [
    "df = df[df['muni_dom'] == 36].copy()\n",
    "max_zona = int(df.zona.max())"
   ]
  },
  {
   "cell_type": "code",
   "execution_count": 5,
   "metadata": {},
   "outputs": [],
   "source": [
    "\"\"\"\n",
    "1 - Agrícola\n",
    "2 - Construção Civil\n",
    "3 - Indústria\n",
    "4 -Comércio\n",
    "5 - Serviço de Transporte de Carga\n",
    "6 - Serviço de Transporte de Passageiros\n",
    "7 - Serviço Creditício-financeiro\n",
    "8 - Serviço Pessoal\n",
    "9 - Serviço de Alimentação\n",
    "10 - Serviço de Saúde\n",
    "11 - Serviço de Educação\n",
    "12 - Serviço Especializado\n",
    "13 - Serviço de Administração Pública\n",
    "14 - Outros Serviços\n",
    "\"\"\"\n",
    "\n",
    "job_sector = {\n",
    "    'essential' : [10],\n",
    "    'high_impact': [1, 2, 3, 5, 6, 9],\n",
    "    'regular': [4, 7, 8, 12, 13, 14, 11],\n",
    "}"
   ]
  },
  {
   "cell_type": "code",
   "execution_count": 6,
   "metadata": {},
   "outputs": [],
   "source": [
    "def job_criticity(row):\n",
    "    if row.setor1 in job_sector['essential'] or row.ocup1==10:\n",
    "        return 'essential'\n",
    "    if row.setor1 in job_sector['high_impact']:\n",
    "        return 'high_impact'\n",
    "    if row.setor1 in job_sector['regular']:\n",
    "        return 'regular'\n",
    "    return np.nan"
   ]
  },
  {
   "cell_type": "code",
   "execution_count": 7,
   "metadata": {},
   "outputs": [],
   "source": [
    "df['job_level'] = df.apply(job_criticity, axis=1)"
   ]
  },
  {
   "cell_type": "code",
   "execution_count": 8,
   "metadata": {},
   "outputs": [],
   "source": [
    "studies_map = {1: np.nan, 2: 'nursery', 3: 'elementary school', 4: 'high school', 5: 'university', 6: 'others'}\n",
    "df.estuda = df.estuda.replace(studies_map)"
   ]
  },
  {
   "cell_type": "code",
   "execution_count": 9,
   "metadata": {},
   "outputs": [
    {
     "data": {
      "text/plain": [
       "elementary school    5055\n",
       "university           3216\n",
       "nursery              2132\n",
       "high school          2093\n",
       "others                574\n",
       "Name: estuda, dtype: int64"
      ]
     },
     "execution_count": 9,
     "metadata": {},
     "output_type": "execute_result"
    }
   ],
   "source": [
    "df['estuda'].value_counts()"
   ]
  },
  {
   "cell_type": "code",
   "execution_count": 10,
   "metadata": {},
   "outputs": [],
   "source": [
    "trab_esc = df[['zona', 'zona_esc', 'zonatra1', 'id_pess', 'co_tr1_x', 'co_tr1_y', \n",
    "               'co_esc_x', 'co_esc_y', 'co_dom_x', 'co_dom_y', 'id_dom', 'idade',\n",
    "               'criteriobr', 'renda_fa', 'grau_ins', 'job_level', 'estuda']].copy()\n",
    "\n",
    "trab_esc.rename(columns={'zona':'home', 'co_dom_x' : 'home_x', 'co_dom_y' : 'home_y',\n",
    "                         'zona_esc':'school', 'co_esc_x' : 'school_x', \n",
    "                         'co_esc_y' : 'school_y', 'zonatra1':'work', 'estuda': 'studies',\n",
    "                         'co_tr1_x': 'work_x', 'co_tr1_y': 'work_y', 'id_pess': 'id',\n",
    "                         'id_dom': 'home_id', 'grau_ins': 'education'}, inplace=True)\n",
    "\n",
    "trab_esc = trab_esc[~(trab_esc['work'] > max_zona) & \n",
    "        ~(trab_esc['school'] > max_zona) & ~(trab_esc['home'] > max_zona)].reset_index(drop=True)"
   ]
  },
  {
   "cell_type": "code",
   "execution_count": 11,
   "metadata": {},
   "outputs": [
    {
     "data": {
      "text/plain": [
       "array([0.38676358, 0.16013772, 0.16312165, 0.04391737, 0.24605968])"
      ]
     },
     "execution_count": 11,
     "metadata": {},
     "output_type": "execute_result"
    }
   ],
   "source": [
    "p = df[df['co_esc_x'].notna()]['estuda'].value_counts().sort_index().values\n",
    "p / np.sum(p)"
   ]
  },
  {
   "cell_type": "code",
   "execution_count": 12,
   "metadata": {},
   "outputs": [
    {
     "name": "stdout",
     "output_type": "stream",
     "text": [
      "Tem plano de saude aqueles com renda familiar superior a:\n",
      "4000.0\n",
      "Será???\n"
     ]
    }
   ],
   "source": [
    "# Beneficiarios do Sistema de Saude Privado\n",
    "\n",
    "\n",
    "#https://portal.cfm.org.br/images/PDF/leitosdeuticapitais2018.pdf\n",
    "quantile = 1 - 5730524/12038175\n",
    "print('Tem plano de saude aqueles com renda familiar superior a:')\n",
    "print(np.quantile(trab_esc['renda_fa'], quantile))\n",
    "print('Será???')"
   ]
  },
  {
   "cell_type": "code",
   "execution_count": 13,
   "metadata": {},
   "outputs": [
    {
     "data": {
      "text/plain": [
       "criteriobr\n",
       "1.0    11742.852070\n",
       "2.0     6483.397776\n",
       "3.0     4209.082629\n",
       "4.0     2850.000000\n",
       "5.0     2037.000000\n",
       "6.0     1592.403836\n",
       "Name: renda_fa, dtype: float64"
      ]
     },
     "execution_count": 13,
     "metadata": {},
     "output_type": "execute_result"
    }
   ],
   "source": [
    "trab_esc.groupby(by='criteriobr')['renda_fa'].median()"
   ]
  },
  {
   "cell_type": "code",
   "execution_count": 14,
   "metadata": {},
   "outputs": [
    {
     "data": {
      "text/plain": [
       "<matplotlib.axes._subplots.AxesSubplot at 0x7f88c21ade10>"
      ]
     },
     "execution_count": 14,
     "metadata": {},
     "output_type": "execute_result"
    },
    {
     "data": {
      "image/png": "[encoded data removed]",
      "text/plain": [
       "<Figure size 432x288 with 1 Axes>"
      ]
     },
     "metadata": {
      "needs_background": "light"
     },
     "output_type": "display_data"
    }
   ],
   "source": [
    "sns.distplot(trab_esc['renda_fa'])"
   ]
  },
  {
   "cell_type": "code",
   "execution_count": 15,
   "metadata": {},
   "outputs": [],
   "source": [
    "def has_private_healthcare(family_income):\n",
    "    return family_income >= 4000\n",
    "\n",
    "trab_esc['private_healthcare'] = trab_esc['renda_fa'].apply(has_private_healthcare)"
   ]
  },
  {
   "cell_type": "code",
   "execution_count": 22,
   "metadata": {},
   "outputs": [
    {
     "data": {
      "text/plain": [
       "elementary school    4952\n",
       "university           2970\n",
       "nursery              2113\n",
       "high school          2027\n",
       "others                543\n",
       "Name: studies, dtype: int64"
      ]
     },
     "execution_count": 22,
     "metadata": {},
     "output_type": "execute_result"
    }
   ],
   "source": [
    "trab_esc['studies'].value_counts()"
   ]
  },
  {
   "cell_type": "code",
   "execution_count": null,
   "metadata": {},
   "outputs": [],
   "source": []
  },
  {
   "cell_type": "code",
   "execution_count": 23,
   "metadata": {},
   "outputs": [],
   "source": [
    "trab_esc.to_feather(\"../../data/interim/sp_data_job_education_levels.feather\")"
   ]
  },
  {
   "cell_type": "code",
   "execution_count": null,
   "metadata": {},
   "outputs": [],
   "source": []
  }
 ],
 "metadata": {
  "kernelspec": {
   "display_name": "Python 3",
   "language": "python",
   "name": "python3"
  },
  "language_info": {
   "codemirror_mode": {
    "name": "ipython",
    "version": 3
   },
   "file_extension": ".py",
   "mimetype": "text/x-python",
   "name": "python",
   "nbconvert_exporter": "python",
   "pygments_lexer": "ipython3",
   "version": "3.7.7"
  }
 },
 "nbformat": 4,
 "nbformat_minor": 4
}
