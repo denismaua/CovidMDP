{
 "cells": [
  {
   "cell_type": "code",
   "execution_count": 119,
   "metadata": {},
   "outputs": [],
   "source": [
    "import pandas as pd\n",
    "import numpy as np\n",
    "import plotly.express as px\n",
    "import matplotlib.pyplot as plt\n",
    "import seaborn as sns\n",
    "from sklearn.cluster import KMeans\n",
    "import networkx as nx\n",
    "import pandas as pd\n",
    "import numpy as np\n",
    "from tqdm import tqdm\n",
    "import itertools\n",
    "\n",
    "df=pd.read_feather(\"../../data/raw/work_school_home_sp.feather\")"
   ]
  },
  {
   "cell_type": "code",
   "execution_count": 120,
   "metadata": {},
   "outputs": [],
   "source": [
    "def clusterize_relation(df, relation_name='home', x_coord='home_x', y_coord='home_y',\n",
    "                            new_col_name = 'Neighbourhood', n_participants = 10, seed=13):\n",
    "    data = []\n",
    "    means = []\n",
    "    for zone in df[relation_name].unique():\n",
    "        if pd.notna(zone):\n",
    "            tmp = df[df[relation_name] == zone][['id', x_coord, y_coord, relation_name]].copy()\n",
    "            n_clusters = int(np.sum(len(tmp)) / n_participants)\n",
    "\n",
    "            if n_clusters < 2:\n",
    "                tmp[new_col_name] = tmp[relation_name].astype(int).astype(str) + '_'  + '0'\n",
    "\n",
    "            else: \n",
    "                X = tmp[[x_coord, y_coord]]\n",
    "                kmeans = KMeans(n_clusters=n_clusters, random_state=seed).fit(X)\n",
    "                tmp[new_col_name] = kmeans.labels_\n",
    "                tmp[new_col_name] = (tmp[relation_name].astype(int).astype(str) + '_' +\n",
    "                                     tmp[new_col_name].astype(int).astype(str))\n",
    "                    \n",
    "            data.append(tmp)\n",
    "                \n",
    "    df = pd.concat(data)\n",
    "\n",
    "    return df"
   ]
  },
  {
   "cell_type": "code",
   "execution_count": 121,
   "metadata": {},
   "outputs": [],
   "source": [
    "def make_clusters(df, home_cluster_n=10, work_cluster_n=20, school_cluster_n=30):\n",
    "    home_clusters = clusterize_relation(df,'home','home_x','home_y','home_cluster',home_cluster_n)\n",
    "    work_clusters = clusterize_relation(df,'work','work_x','work_y','work_cluster',work_cluster_n)\n",
    "    school_clusters = clusterize_relation(df,'school','school_x','school_y','school_cluster',school_cluster_n)\n",
    "\n",
    "    return merge_cluster_dataframes(df, home_clusters, work_clusters, school_clusters)\n",
    "\n",
    "def merge_cluster_dataframes(df, home_clusters, work_clusters, school_clusters):\n",
    "    merged = pd.merge(df, home_clusters.drop(['home_x', 'home_y'], axis=1), \n",
    "                                                                   on=['id', 'home'], how='left')\n",
    "    \n",
    "    merged = pd.merge(merged, work_clusters.drop(['work_x', 'work_y'], axis=1),\n",
    "                                                                       on=['id', 'work'], how='left')\n",
    "    \n",
    "    merged = pd.merge(merged, school_clusters.drop(['school_x', 'school_y'], axis=1), \n",
    "                                                                             on=['id', 'school'], how='left')\n",
    "    \n",
    "    merged.drop(['home_x', 'home_y', 'work_x', 'work_y', 'school_x', 'school_y'], axis=1, inplace=True)\n",
    "    \n",
    "    assert merged[merged['home'].notna()]['home_cluster'].isna().sum() == 0\n",
    "    assert merged[merged['work'].notna()]['work_cluster'].isna().sum() == 0\n",
    "    assert merged[merged['school'].notna()]['school_cluster'].isna().sum() == 0\n",
    "    \n",
    "    return merged"
   ]
  },
  {
   "cell_type": "code",
   "execution_count": 122,
   "metadata": {},
   "outputs": [],
   "source": [
    "df = make_clusters(df, 10, 20, 30)"
   ]
  },
  {
   "cell_type": "code",
   "execution_count": 123,
   "metadata": {},
   "outputs": [],
   "source": [
    "def add_person_to_graph(G, person):\n",
    "    G.add_node(person['id'],\n",
    "               work = person['work'],\n",
    "               school = person['school'],\n",
    "               home = person['home'],\n",
    "               age = person['idade'],\n",
    "               private_healthcare = person['private_healthcare'],\n",
    "               home_id = person['home_id']\n",
    "    )    \n",
    "\n",
    "def add_people_to_graph(G, df):\n",
    "    print('Adding People Nodes')\n",
    "    df.apply(lambda x: add_person_to_graph(G, x), axis=1)\n",
    "    print(25*'*')\n",
    "\n",
    "def add_edge(G, person1, person2, edge_type, relation_cluster, edge_zone):\n",
    "    G.add_edge(person1, person2, edge_type=edge_type, cluster=relation_cluster, zone=edge_zone)\n",
    "\n",
    "def add_edges(G, df, relation, cluster, edge_type):\n",
    "    print(f'Adding {edge_type} Edges')\n",
    "    total_edges = 0\n",
    "    for c in tqdm(df[cluster].unique()):\n",
    "        if pd.notna(c):\n",
    "            tmp = df[df[cluster] == c]\n",
    "            assert len(np.unique(tmp[relation])) == 1\n",
    "            zone = tmp[relation].iloc[0]\n",
    "            if len(tmp) > 1:\n",
    "                combinations = list(itertools.combinations(tmp['id'].values, 2))\n",
    "                total_edges += len(combinations)\n",
    "                for p1, p2 in combinations:\n",
    "                    add_edge(G,p1, p2, edge_type, c, zone)\n",
    "   \n",
    "    print(len([True for x,y,v in G.edges.data(data=True) if v['edge_type'] == edge_type]))\n",
    "    print(25*'*')\n",
    "    return total_edges"
   ]
  },
  {
   "cell_type": "code",
   "execution_count": 124,
   "metadata": {},
   "outputs": [
    {
     "name": "stdout",
     "output_type": "stream",
     "text": [
      "Adding People Nodes\n"
     ]
    },
    {
     "name": "stderr",
     "output_type": "stream",
     "text": [
      "  0%|          | 70/21708 [00:00<01:02, 344.43it/s]"
     ]
    },
    {
     "name": "stdout",
     "output_type": "stream",
     "text": [
      "*************************\n",
      "Adding home Edges\n"
     ]
    },
    {
     "name": "stderr",
     "output_type": "stream",
     "text": [
      "100%|██████████| 21708/21708 [01:04<00:00, 334.96it/s]\n",
      "  1%|          | 35/5401 [00:00<00:15, 344.87it/s]"
     ]
    },
    {
     "name": "stdout",
     "output_type": "stream",
     "text": [
      "61634\n",
      "*************************\n",
      "Adding neighbor Edges\n"
     ]
    },
    {
     "name": "stderr",
     "output_type": "stream",
     "text": [
      "100%|██████████| 5401/5401 [00:16<00:00, 326.28it/s]\n",
      "  3%|▎         | 34/1201 [00:00<00:03, 331.97it/s]"
     ]
    },
    {
     "name": "stdout",
     "output_type": "stream",
     "text": [
      "348835\n",
      "*************************\n",
      "Adding work Edges\n"
     ]
    },
    {
     "name": "stderr",
     "output_type": "stream",
     "text": [
      "100%|██████████| 1201/1201 [00:04<00:00, 287.18it/s]\n",
      "  7%|▋         | 30/423 [00:00<00:01, 298.25it/s]"
     ]
    },
    {
     "name": "stdout",
     "output_type": "stream",
     "text": [
      "342525\n",
      "*************************\n",
      "Adding school Edges\n"
     ]
    },
    {
     "name": "stderr",
     "output_type": "stream",
     "text": [
      "100%|██████████| 423/423 [00:01<00:00, 344.63it/s]\n"
     ]
    },
    {
     "name": "stdout",
     "output_type": "stream",
     "text": [
      "251454\n",
      "*************************\n"
     ]
    }
   ],
   "source": [
    "G = nx.MultiGraph()\n",
    "add_people_to_graph(G, df)\n",
    "houses = add_edges(G, df, 'home', 'home_id', 'home')\n",
    "neighbors = add_edges(G, df, 'home', 'home_cluster', 'neighbor')\n",
    "works = add_edges(G, df, 'work',   'work_cluster', 'work')\n",
    "schools = add_edges(G, df, 'school', 'school_cluster', 'school')\n",
    "assert len(G.nodes()) == len(df)\n",
    "assert houses == len([True for x,y,v in G.edges.data(data=True) if v['edge_type'] == 'home'])\n",
    "assert neighbors == len([True for x,y,v in G.edges.data(data=True) if v['edge_type'] == 'neighbor'])\n",
    "assert works == len([True for x,y,v in G.edges.data(data=True) if v['edge_type'] == 'work'])\n",
    "assert schools == len([True for x,y,v in G.edges.data(data=True) if v['edge_type'] == 'school'])\n"
   ]
  },
  {
   "cell_type": "code",
   "execution_count": 125,
   "metadata": {},
   "outputs": [],
   "source": [
    "nx.write_gpickle(G, 'SP_multiGraph.gpickle')"
   ]
  }
 ],
 "metadata": {
  "kernelspec": {
   "display_name": "Python 3",
   "language": "python",
   "name": "python3"
  },
  "language_info": {
   "codemirror_mode": {
    "name": "ipython",
    "version": 3
   },
   "file_extension": ".py",
   "mimetype": "text/x-python",
   "name": "python",
   "nbconvert_exporter": "python",
   "pygments_lexer": "ipython3",
   "version": "3.7.7"
  }
 },
 "nbformat": 4,
 "nbformat_minor": 4
}
