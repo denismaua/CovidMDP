{
 "cells": [
  {
   "cell_type": "code",
   "execution_count": 1,
   "metadata": {},
   "outputs": [],
   "source": [
    "import pandas as pd\n",
    "import numpy as np\n",
    "import plotly.express as px\n",
    "import matplotlib.pyplot as plt\n",
    "import seaborn as sns\n",
    "from sklearn.cluster import KMeans\n",
    "import networkx as nx\n",
    "import pandas as pd\n",
    "import numpy as np\n",
    "from tqdm import tqdm\n",
    "import itertools\n",
    "\n",
    "df=pd.read_feather(\"../../data/raw/work_school_home_sp.feather\")"
   ]
  },
  {
   "cell_type": "code",
   "execution_count": 2,
   "metadata": {},
   "outputs": [],
   "source": [
    "def clusterize_relation(df, relation_name='home', x_coord='home_x', y_coord='home_y',\n",
    "                            new_col_name = 'Neighbourhood', n_participants = 10, seed=13):\n",
    "    data = []\n",
    "    means = []\n",
    "    for zone in df[relation_name].unique():\n",
    "        if pd.notna(zone):\n",
    "            tmp = df[df[relation_name] == zone][['id', x_coord, y_coord, relation_name]].copy()\n",
    "            n_clusters = int(np.sum(len(tmp)) / n_participants)\n",
    "\n",
    "            if n_clusters < 2:\n",
    "                tmp[new_col_name] = tmp[relation_name].astype(int).astype(str) + '_'  + '0'\n",
    "\n",
    "            else: \n",
    "                X = tmp[[x_coord, y_coord]]\n",
    "                kmeans = KMeans(n_clusters=n_clusters, random_state=seed).fit(X)\n",
    "                tmp[new_col_name] = kmeans.labels_\n",
    "                tmp[new_col_name] = (tmp[relation_name].astype(int).astype(str) + '_' +\n",
    "                                     tmp[new_col_name].astype(int).astype(str))\n",
    "                    \n",
    "            data.append(tmp)\n",
    "                \n",
    "    df = pd.concat(data)\n",
    "\n",
    "    return df"
   ]
  },
  {
   "cell_type": "code",
   "execution_count": 3,
   "metadata": {},
   "outputs": [],
   "source": [
    "def make_clusters(df, home_cluster_n=10, work_cluster_n=20, school_cluster_n=30):\n",
    "    home_clusters = clusterize_relation(df,'home','home_x','home_y','home_cluster',home_cluster_n)\n",
    "    work_clusters = clusterize_relation(df,'work','work_x','work_y','work_cluster',work_cluster_n)\n",
    "    school_clusters = clusterize_relation(df,'school','school_x','school_y','school_cluster',school_cluster_n)\n",
    "\n",
    "    return merge_cluster_dataframes(df, home_clusters, work_clusters, school_clusters)\n",
    "\n",
    "def merge_cluster_dataframes(df, home_clusters, work_clusters, school_clusters):\n",
    "    merged = pd.merge(df, home_clusters.drop(['home_x', 'home_y'], axis=1), \n",
    "                                                                   on=['id', 'home'], how='left')\n",
    "    \n",
    "    merged = pd.merge(merged, work_clusters.drop(['work_x', 'work_y'], axis=1),\n",
    "                                                                       on=['id', 'work'], how='left')\n",
    "    \n",
    "    merged = pd.merge(merged, school_clusters.drop(['school_x', 'school_y'], axis=1), \n",
    "                                                                             on=['id', 'school'], how='left')\n",
    "    \n",
    "    merged.drop(['home_x', 'home_y', 'work_x', 'work_y', 'school_x', 'school_y'], axis=1, inplace=True)\n",
    "    \n",
    "    assert merged[merged['home'].notna()]['home_cluster'].isna().sum() == 0\n",
    "    assert merged[merged['work'].notna()]['work_cluster'].isna().sum() == 0\n",
    "    assert merged[merged['school'].notna()]['school_cluster'].isna().sum() == 0\n",
    "    \n",
    "    return merged"
   ]
  },
  {
   "cell_type": "code",
   "execution_count": 4,
   "metadata": {},
   "outputs": [],
   "source": [
    "df = make_clusters(df, 10, 20, 30)"
   ]
  },
  {
   "cell_type": "code",
   "execution_count": 5,
   "metadata": {},
   "outputs": [],
   "source": [
    "def add_person_to_graph(G, person):\n",
    "    G.add_node(person['id'],\n",
    "               work = person['work'],\n",
    "               school = person['school'],\n",
    "               home = person['home'],\n",
    "               age = person['idade'],\n",
    "               private_healthcare = person['private_healthcare'],\n",
    "               home_id = person['home_id']\n",
    "    )    \n",
    "\n",
    "def add_people_to_graph(G, df):\n",
    "    print('Adding People Nodes')\n",
    "    df.apply(lambda x: add_person_to_graph(G, x), axis=1)\n",
    "    print(25*'*')\n",
    "\n",
    "def add_edge(G, person1, person2, edge_type, relation_cluster, edge_zone):\n",
    "    G.add_edge(person1, person2, edge_type=edge_type, cluster=relation_cluster, zone=edge_zone)\n",
    "\n",
    "def add_edges(G, df, relation, cluster, edge_type):\n",
    "    print(f'Adding {edge_type} Edges')\n",
    "    total_edges = 0\n",
    "    for c in tqdm(df[cluster].unique()):\n",
    "        if pd.notna(c):\n",
    "            tmp = df[df[cluster] == c]\n",
    "            assert len(np.unique(tmp[relation])) == 1\n",
    "            zone = tmp[relation].iloc[0]\n",
    "            if len(tmp) > 1:\n",
    "                combinations = list(itertools.combinations(tmp['id'].values, 2))\n",
    "                total_edges += len(combinations)\n",
    "                for p1, p2 in combinations:\n",
    "                    add_edge(G,p1, p2, edge_type, c, zone)\n",
    "   \n",
    "    print(len([True for x,y,v in G.edges.data(data=True) if v['edge_type'] == edge_type]))\n",
    "    print(25*'*')\n",
    "    return total_edges"
   ]
  },
  {
   "cell_type": "code",
   "execution_count": 6,
   "metadata": {},
   "outputs": [
    {
     "name": "stdout",
     "output_type": "stream",
     "text": [
      "Adding People Nodes\n"
     ]
    },
    {
     "name": "stderr",
     "output_type": "stream",
     "text": [
      "  0%|          | 69/21708 [00:00<01:03, 339.79it/s]"
     ]
    },
    {
     "name": "stdout",
     "output_type": "stream",
     "text": [
      "*************************\n",
      "Adding home Edges\n"
     ]
    },
    {
     "name": "stderr",
     "output_type": "stream",
     "text": [
      "100%|██████████| 21708/21708 [01:03<00:00, 340.28it/s]\n",
      "  1%|▏         | 69/5401 [00:00<00:15, 339.09it/s]"
     ]
    },
    {
     "name": "stdout",
     "output_type": "stream",
     "text": [
      "61634\n",
      "*************************\n",
      "Adding neighbor Edges\n"
     ]
    },
    {
     "name": "stderr",
     "output_type": "stream",
     "text": [
      "100%|██████████| 5401/5401 [00:16<00:00, 322.67it/s]\n",
      "  0%|          | 1/1201 [00:00<02:07,  9.40it/s]"
     ]
    },
    {
     "name": "stdout",
     "output_type": "stream",
     "text": [
      "348835\n",
      "*************************\n",
      "Adding work Edges\n"
     ]
    },
    {
     "name": "stderr",
     "output_type": "stream",
     "text": [
      "100%|██████████| 1201/1201 [00:03<00:00, 313.23it/s]\n",
      "  1%|          | 3/423 [00:00<00:24, 16.84it/s]"
     ]
    },
    {
     "name": "stdout",
     "output_type": "stream",
     "text": [
      "342525\n",
      "*************************\n",
      "Adding school Edges\n"
     ]
    },
    {
     "name": "stderr",
     "output_type": "stream",
     "text": [
      "100%|██████████| 423/423 [00:01<00:00, 265.05it/s]\n"
     ]
    },
    {
     "name": "stdout",
     "output_type": "stream",
     "text": [
      "251454\n",
      "*************************\n"
     ]
    }
   ],
   "source": [
    "G = nx.MultiGraph()\n",
    "add_people_to_graph(G, df)\n",
    "houses = add_edges(G, df, 'home', 'home_id', 'home')\n",
    "neighbors = add_edges(G, df, 'home', 'home_cluster', 'neighbor')\n",
    "works = add_edges(G, df, 'work',   'work_cluster', 'work')\n",
    "schools = add_edges(G, df, 'school', 'school_cluster', 'school')\n",
    "assert len(G.nodes()) == len(df)\n",
    "assert houses == len([True for x,y,v in G.edges.data(data=True) if v['edge_type'] == 'home'])\n",
    "assert neighbors == len([True for x,y,v in G.edges.data(data=True) if v['edge_type'] == 'neighbor'])\n",
    "assert works == len([True for x,y,v in G.edges.data(data=True) if v['edge_type'] == 'work'])\n",
    "assert schools == len([True for x,y,v in G.edges.data(data=True) if v['edge_type'] == 'school'])\n"
   ]
  },
  {
   "cell_type": "code",
   "execution_count": 14,
   "metadata": {},
   "outputs": [
    {
     "data": {
      "text/html": [
       "<div>\n",
       "<style scoped>\n",
       "    .dataframe tbody tr th:only-of-type {\n",
       "        vertical-align: middle;\n",
       "    }\n",
       "\n",
       "    .dataframe tbody tr th {\n",
       "        vertical-align: top;\n",
       "    }\n",
       "\n",
       "    .dataframe thead th {\n",
       "        text-align: right;\n",
       "    }\n",
       "</style>\n",
       "<table border=\"1\" class=\"dataframe\">\n",
       "  <thead>\n",
       "    <tr style=\"text-align: right;\">\n",
       "      <th></th>\n",
       "      <th>id</th>\n",
       "      <th>school_x</th>\n",
       "      <th>school_y</th>\n",
       "    </tr>\n",
       "  </thead>\n",
       "  <tbody>\n",
       "    <tr>\n",
       "      <th>0</th>\n",
       "      <td>00010001101</td>\n",
       "      <td>NaN</td>\n",
       "      <td>NaN</td>\n",
       "    </tr>\n",
       "    <tr>\n",
       "      <th>1</th>\n",
       "      <td>00010001102</td>\n",
       "      <td>329431.0</td>\n",
       "      <td>7395939.0</td>\n",
       "    </tr>\n",
       "    <tr>\n",
       "      <th>2</th>\n",
       "      <td>00010002101</td>\n",
       "      <td>NaN</td>\n",
       "      <td>NaN</td>\n",
       "    </tr>\n",
       "    <tr>\n",
       "      <th>3</th>\n",
       "      <td>00010002102</td>\n",
       "      <td>NaN</td>\n",
       "      <td>NaN</td>\n",
       "    </tr>\n",
       "    <tr>\n",
       "      <th>4</th>\n",
       "      <td>00010002103</td>\n",
       "      <td>NaN</td>\n",
       "      <td>NaN</td>\n",
       "    </tr>\n",
       "    <tr>\n",
       "      <th>...</th>\n",
       "      <td>...</td>\n",
       "      <td>...</td>\n",
       "      <td>...</td>\n",
       "    </tr>\n",
       "    <tr>\n",
       "      <th>55487</th>\n",
       "      <td>03421904103</td>\n",
       "      <td>NaN</td>\n",
       "      <td>NaN</td>\n",
       "    </tr>\n",
       "    <tr>\n",
       "      <th>55488</th>\n",
       "      <td>03422006101</td>\n",
       "      <td>NaN</td>\n",
       "      <td>NaN</td>\n",
       "    </tr>\n",
       "    <tr>\n",
       "      <th>55489</th>\n",
       "      <td>03422006102</td>\n",
       "      <td>NaN</td>\n",
       "      <td>NaN</td>\n",
       "    </tr>\n",
       "    <tr>\n",
       "      <th>55490</th>\n",
       "      <td>03422109101</td>\n",
       "      <td>NaN</td>\n",
       "      <td>NaN</td>\n",
       "    </tr>\n",
       "    <tr>\n",
       "      <th>55491</th>\n",
       "      <td>03422109102</td>\n",
       "      <td>331482.0</td>\n",
       "      <td>7392910.0</td>\n",
       "    </tr>\n",
       "  </tbody>\n",
       "</table>\n",
       "<p>55492 rows × 3 columns</p>\n",
       "</div>"
      ],
      "text/plain": [
       "                id  school_x   school_y\n",
       "0      00010001101       NaN        NaN\n",
       "1      00010001102  329431.0  7395939.0\n",
       "2      00010002101       NaN        NaN\n",
       "3      00010002102       NaN        NaN\n",
       "4      00010002103       NaN        NaN\n",
       "...            ...       ...        ...\n",
       "55487  03421904103       NaN        NaN\n",
       "55488  03422006101       NaN        NaN\n",
       "55489  03422006102       NaN        NaN\n",
       "55490  03422109101       NaN        NaN\n",
       "55491  03422109102  331482.0  7392910.0\n",
       "\n",
       "[55492 rows x 3 columns]"
      ]
     },
     "execution_count": 14,
     "metadata": {},
     "output_type": "execute_result"
    }
   ],
   "source": [
    "pd.read_feather(\"../../data/raw/work_school_home_sp.feather\")[['id','school_x','school_y']]"
   ]
  },
  {
   "cell_type": "code",
   "execution_count": 16,
   "metadata": {},
   "outputs": [],
   "source": [
    "df = pd.merge(df, \n",
    "              pd.read_feather(\"../../data/raw/work_school_home_sp.feather\")[['id','school_x','school_y']], on='id')"
   ]
  },
  {
   "cell_type": "code",
   "execution_count": 37,
   "metadata": {},
   "outputs": [
    {
     "data": {
      "text/html": [
       "<div>\n",
       "<style scoped>\n",
       "    .dataframe tbody tr th:only-of-type {\n",
       "        vertical-align: middle;\n",
       "    }\n",
       "\n",
       "    .dataframe tbody tr th {\n",
       "        vertical-align: top;\n",
       "    }\n",
       "\n",
       "    .dataframe thead th {\n",
       "        text-align: right;\n",
       "    }\n",
       "</style>\n",
       "<table border=\"1\" class=\"dataframe\">\n",
       "  <thead>\n",
       "    <tr style=\"text-align: right;\">\n",
       "      <th></th>\n",
       "      <th>school_cluster</th>\n",
       "      <th>school_x</th>\n",
       "      <th>school_y</th>\n",
       "    </tr>\n",
       "  </thead>\n",
       "  <tbody>\n",
       "    <tr>\n",
       "      <th>498</th>\n",
       "      <td>31_1</td>\n",
       "      <td>331494.0</td>\n",
       "      <td>7394808.0</td>\n",
       "    </tr>\n",
       "    <tr>\n",
       "      <th>577</th>\n",
       "      <td>31_1</td>\n",
       "      <td>331434.0</td>\n",
       "      <td>7394817.0</td>\n",
       "    </tr>\n",
       "    <tr>\n",
       "      <th>2313</th>\n",
       "      <td>31_1</td>\n",
       "      <td>331496.0</td>\n",
       "      <td>7394807.0</td>\n",
       "    </tr>\n",
       "    <tr>\n",
       "      <th>2380</th>\n",
       "      <td>31_1</td>\n",
       "      <td>331434.0</td>\n",
       "      <td>7394817.0</td>\n",
       "    </tr>\n",
       "    <tr>\n",
       "      <th>2951</th>\n",
       "      <td>31_1</td>\n",
       "      <td>331434.0</td>\n",
       "      <td>7394817.0</td>\n",
       "    </tr>\n",
       "    <tr>\n",
       "      <th>...</th>\n",
       "      <td>...</td>\n",
       "      <td>...</td>\n",
       "      <td>...</td>\n",
       "    </tr>\n",
       "    <tr>\n",
       "      <th>54619</th>\n",
       "      <td>31_1</td>\n",
       "      <td>331434.0</td>\n",
       "      <td>7394817.0</td>\n",
       "    </tr>\n",
       "    <tr>\n",
       "      <th>54703</th>\n",
       "      <td>31_1</td>\n",
       "      <td>331434.0</td>\n",
       "      <td>7394817.0</td>\n",
       "    </tr>\n",
       "    <tr>\n",
       "      <th>55123</th>\n",
       "      <td>31_1</td>\n",
       "      <td>331434.0</td>\n",
       "      <td>7394817.0</td>\n",
       "    </tr>\n",
       "    <tr>\n",
       "      <th>55137</th>\n",
       "      <td>31_1</td>\n",
       "      <td>331434.0</td>\n",
       "      <td>7394817.0</td>\n",
       "    </tr>\n",
       "    <tr>\n",
       "      <th>55199</th>\n",
       "      <td>31_1</td>\n",
       "      <td>331434.0</td>\n",
       "      <td>7394817.0</td>\n",
       "    </tr>\n",
       "  </tbody>\n",
       "</table>\n",
       "<p>145 rows × 3 columns</p>\n",
       "</div>"
      ],
      "text/plain": [
       "      school_cluster  school_x   school_y\n",
       "498             31_1  331494.0  7394808.0\n",
       "577             31_1  331434.0  7394817.0\n",
       "2313            31_1  331496.0  7394807.0\n",
       "2380            31_1  331434.0  7394817.0\n",
       "2951            31_1  331434.0  7394817.0\n",
       "...              ...       ...        ...\n",
       "54619           31_1  331434.0  7394817.0\n",
       "54703           31_1  331434.0  7394817.0\n",
       "55123           31_1  331434.0  7394817.0\n",
       "55137           31_1  331434.0  7394817.0\n",
       "55199           31_1  331434.0  7394817.0\n",
       "\n",
       "[145 rows x 3 columns]"
      ]
     },
     "execution_count": 37,
     "metadata": {},
     "output_type": "execute_result"
    }
   ],
   "source": [
    "df[(df['school_y'] > 7394800.0) & (df['school_y'] < 7394830.0) &\n",
    "   (df['school_x'] > 331300.0) & (df['school_x'] < 331500.0)][['school_cluster', 'school_x', 'school_y']]"
   ]
  },
  {
   "cell_type": "code",
   "execution_count": 28,
   "metadata": {},
   "outputs": [
    {
     "data": {
      "text/plain": [
       "7394817.0    105\n",
       "7394807.0     39\n",
       "7394973.0     37\n",
       "7395524.0     11\n",
       "7394681.0     10\n",
       "7394642.0      9\n",
       "7395035.0      7\n",
       "7394710.0      7\n",
       "7395447.0      5\n",
       "7394729.0      4\n",
       "7395123.0      4\n",
       "7394798.0      3\n",
       "7394831.0      3\n",
       "7395238.0      3\n",
       "7394602.0      2\n",
       "7394643.0      2\n",
       "7394656.0      2\n",
       "7394814.0      2\n",
       "7394802.0      2\n",
       "7394773.0      1\n",
       "7394723.0      1\n",
       "7394663.0      1\n",
       "7394542.0      1\n",
       "7394485.0      1\n",
       "7394406.0      1\n",
       "7394259.0      1\n",
       "7394752.0      1\n",
       "7394720.0      1\n",
       "7394778.0      1\n",
       "7394808.0      1\n",
       "7394857.0      1\n",
       "7394873.0      1\n",
       "7394959.0      1\n",
       "7394965.0      1\n",
       "7394998.0      1\n",
       "7395029.0      1\n",
       "7395059.0      1\n",
       "7395220.0      1\n",
       "7395428.0      1\n",
       "7395529.0      1\n",
       "7394780.0      1\n",
       "7395033.0      1\n",
       "Name: school_y, dtype: int64"
      ]
     },
     "execution_count": 28,
     "metadata": {},
     "output_type": "execute_result"
    }
   ],
   "source": [
    "df.school_y.value_counts()"
   ]
  },
  {
   "cell_type": "code",
   "execution_count": 27,
   "metadata": {},
   "outputs": [
    {
     "data": {
      "text/plain": [
       "331434.0    105\n",
       "331496.0     39\n",
       "331356.0     37\n",
       "331723.0     11\n",
       "331907.0     10\n",
       "331265.0      9\n",
       "331607.0      7\n",
       "331306.0      7\n",
       "331703.0      5\n",
       "331895.0      4\n",
       "331646.0      4\n",
       "331396.0      4\n",
       "331566.0      3\n",
       "331147.0      2\n",
       "331214.0      2\n",
       "331248.0      2\n",
       "331617.0      2\n",
       "331280.0      2\n",
       "331467.0      2\n",
       "331585.0      2\n",
       "331815.0      1\n",
       "331587.0      1\n",
       "331301.0      1\n",
       "330778.0      1\n",
       "331800.0      1\n",
       "331569.0      1\n",
       "331577.0      1\n",
       "331275.0      1\n",
       "331761.0      1\n",
       "331082.0      1\n",
       "331360.0      1\n",
       "331111.0      1\n",
       "331760.0      1\n",
       "331887.0      1\n",
       "331401.0      1\n",
       "331699.0      1\n",
       "331469.0      1\n",
       "331494.0      1\n",
       "330986.0      1\n",
       "331502.0      1\n",
       "331624.0      1\n",
       "Name: school_x, dtype: int64"
      ]
     },
     "execution_count": 27,
     "metadata": {},
     "output_type": "execute_result"
    }
   ],
   "source": [
    "df.school_x.value_counts()"
   ]
  },
  {
   "cell_type": "code",
   "execution_count": 29,
   "metadata": {},
   "outputs": [
    {
     "data": {
      "application/vnd.plotly.v1+json": {
       "config": {
        "plotlyServerURL": "https://plot.ly"
       },
       "data": [
        {
         "hovertemplate": "school_cluster=31_3<br>school_x=%{x}<br>school_y=%{y}<extra></extra>",
         "legendgroup": "31_3",
         "marker": {
          "color": "#636efa",
          "symbol": "circle"
         },
         "mode": "markers",
         "name": "31_3",
         "showlegend": true,
         "type": "scatter",
         "x": [
          331907,
          331895,
          331887,
          331907,
          331907,
          331895,
          331907,
          331907,
          331895,
          331895,
          331907,
          331815,
          331907,
          331907,
          331907,
          331907
         ],
         "xaxis": "x",
         "y": [
          7394681,
          7394729,
          7394752,
          7394681,
          7394681,
          7394729,
          7394681,
          7394681,
          7394729,
          7394729,
          7394681,
          7394778,
          7394681,
          7394681,
          7394681,
          7394681
         ],
         "yaxis": "y"
        },
        {
         "hovertemplate": "school_cluster=31_1<br>school_x=%{x}<br>school_y=%{y}<extra></extra>",
         "legendgroup": "31_1",
         "marker": {
          "color": "#EF553B",
          "symbol": "circle"
         },
         "mode": "markers",
         "name": "31_1",
         "showlegend": true,
         "type": "scatter",
         "x": [
          331494,
          331434,
          331496,
          331434,
          331434,
          331401,
          331496,
          331496,
          331434,
          331434,
          331434,
          331467,
          331434,
          331496,
          331496,
          331496,
          331434,
          331434,
          331434,
          331434,
          331496,
          331496,
          331434,
          331434,
          331434,
          331434,
          331496,
          331496,
          331434,
          331434,
          331467,
          331434,
          331434,
          331434,
          331434,
          331434,
          331496,
          331434,
          331496,
          331434,
          331434,
          331496,
          331434,
          331496,
          331434,
          331496,
          331496,
          331434,
          331434,
          331434,
          331434,
          331496,
          331496,
          331434,
          331434,
          331434,
          331434,
          331434,
          331434,
          331434,
          331434,
          331434,
          331434,
          331434,
          331434,
          331434,
          331434,
          331434,
          331434,
          331434,
          331434,
          331496,
          331496,
          331434,
          331434,
          331434,
          331434,
          331496,
          331496,
          331434,
          331434,
          331434,
          331496,
          331434,
          331434,
          331434,
          331496,
          331434,
          331496,
          331496,
          331434,
          331496,
          331434,
          331434,
          331496,
          331360,
          331434,
          331434,
          331496,
          331434,
          331434,
          331434,
          331434,
          331434,
          331496,
          331434,
          331434,
          331496,
          331434,
          331434,
          331434,
          331434,
          331434,
          331434,
          331434,
          331434,
          331434,
          331434,
          331434,
          331496,
          331434,
          331434,
          331434,
          331434,
          331434,
          331434,
          331496,
          331496,
          331434,
          331496,
          331434,
          331496,
          331434,
          331434,
          331496,
          331434,
          331434,
          331496,
          331434,
          331434,
          331434,
          331434,
          331434,
          331496,
          331434,
          331434,
          331434,
          331434,
          331434
         ],
         "xaxis": "x",
         "y": [
          7394808,
          7394817,
          7394807,
          7394817,
          7394817,
          7394773,
          7394807,
          7394807,
          7394817,
          7394817,
          7394817,
          7394798,
          7394817,
          7394807,
          7394807,
          7394807,
          7394817,
          7394817,
          7394817,
          7394817,
          7394807,
          7394807,
          7394817,
          7394817,
          7394817,
          7394817,
          7394807,
          7394807,
          7394817,
          7394817,
          7394798,
          7394817,
          7394817,
          7394817,
          7394817,
          7394817,
          7394807,
          7394817,
          7394807,
          7394817,
          7394817,
          7394807,
          7394817,
          7394807,
          7394817,
          7394807,
          7394807,
          7394817,
          7394817,
          7394817,
          7394817,
          7394807,
          7394807,
          7394817,
          7394817,
          7394817,
          7394817,
          7394817,
          7394817,
          7394817,
          7394817,
          7394817,
          7394817,
          7394817,
          7394817,
          7394817,
          7394817,
          7394817,
          7394817,
          7394817,
          7394817,
          7394807,
          7394807,
          7394817,
          7394817,
          7394817,
          7394817,
          7394807,
          7394807,
          7394817,
          7394817,
          7394817,
          7394807,
          7394817,
          7394817,
          7394817,
          7394807,
          7394817,
          7394807,
          7394807,
          7394817,
          7394807,
          7394817,
          7394817,
          7394807,
          7394780,
          7394817,
          7394817,
          7394807,
          7394817,
          7394817,
          7394817,
          7394817,
          7394817,
          7394807,
          7394817,
          7394817,
          7394807,
          7394817,
          7394817,
          7394817,
          7394817,
          7394817,
          7394817,
          7394817,
          7394817,
          7394817,
          7394817,
          7394817,
          7394807,
          7394817,
          7394817,
          7394817,
          7394817,
          7394817,
          7394817,
          7394807,
          7394807,
          7394817,
          7394807,
          7394817,
          7394807,
          7394817,
          7394817,
          7394807,
          7394817,
          7394817,
          7394807,
          7394817,
          7394817,
          7394817,
          7394817,
          7394817,
          7394807,
          7394817,
          7394817,
          7394817,
          7394817,
          7394817
         ],
         "yaxis": "y"
        },
        {
         "hovertemplate": "school_cluster=31_5<br>school_x=%{x}<br>school_y=%{y}<extra></extra>",
         "legendgroup": "31_5",
         "marker": {
          "color": "#00cc96",
          "symbol": "circle"
         },
         "mode": "markers",
         "name": "31_5",
         "showlegend": true,
         "type": "scatter",
         "x": [
          331147,
          331248,
          331265,
          331280,
          331265,
          331265,
          331265,
          331214,
          331214,
          331265,
          331265,
          331248,
          331147,
          331265,
          331265,
          331265
         ],
         "xaxis": "x",
         "y": [
          7394602,
          7394643,
          7394642,
          7394663,
          7394642,
          7394642,
          7394642,
          7394656,
          7394656,
          7394642,
          7394642,
          7394643,
          7394602,
          7394642,
          7394642,
          7394642
         ],
         "yaxis": "y"
        },
        {
         "hovertemplate": "school_cluster=31_0<br>school_x=%{x}<br>school_y=%{y}<extra></extra>",
         "legendgroup": "31_0",
         "marker": {
          "color": "#ab63fa",
          "symbol": "circle"
         },
         "mode": "markers",
         "name": "31_0",
         "showlegend": true,
         "type": "scatter",
         "x": [
          331356,
          331306,
          331280,
          331396,
          331396,
          331356,
          331356,
          331301,
          331356,
          331356,
          331356,
          331356,
          331356,
          331356,
          331356,
          331356,
          331356,
          331356,
          331396,
          331396,
          331356,
          331306,
          331356,
          331306,
          331356,
          331356,
          331356,
          331356,
          331356,
          331306,
          331306,
          331356,
          331356,
          331356,
          331306,
          331356,
          331356,
          331356,
          331356,
          331356,
          331356,
          331356,
          331469,
          331356,
          331356,
          331356,
          331306,
          331356,
          331356,
          331356,
          331356,
          331275
         ],
         "xaxis": "x",
         "y": [
          7394973,
          7395035,
          7394857,
          7395123,
          7395123,
          7394973,
          7394973,
          7395029,
          7394973,
          7394973,
          7394973,
          7394973,
          7394973,
          7394973,
          7394973,
          7394973,
          7394973,
          7394973,
          7395123,
          7395123,
          7394973,
          7395035,
          7394973,
          7395035,
          7394973,
          7394973,
          7394973,
          7394973,
          7394973,
          7395035,
          7395035,
          7394973,
          7394973,
          7394973,
          7395035,
          7394973,
          7394973,
          7394973,
          7394973,
          7394973,
          7394973,
          7394973,
          7395059,
          7394973,
          7394973,
          7394973,
          7395035,
          7394973,
          7394973,
          7394973,
          7394973,
          7394998
         ],
         "yaxis": "y"
        },
        {
         "hovertemplate": "school_cluster=31_6<br>school_x=%{x}<br>school_y=%{y}<extra></extra>",
         "legendgroup": "31_6",
         "marker": {
          "color": "#FFA15A",
          "symbol": "circle"
         },
         "mode": "markers",
         "name": "31_6",
         "showlegend": true,
         "type": "scatter",
         "x": [
          331566,
          331607,
          331587,
          331585,
          331585,
          331607,
          331607,
          331617,
          331569,
          331624,
          331617,
          331566,
          331607,
          331566,
          331607,
          331607,
          331607
         ],
         "xaxis": "x",
         "y": [
          7394831,
          7394710,
          7394720,
          7394802,
          7394802,
          7394710,
          7394710,
          7394814,
          7394723,
          7394798,
          7394814,
          7394831,
          7394710,
          7394831,
          7394710,
          7394710,
          7394710
         ],
         "yaxis": "y"
        },
        {
         "hovertemplate": "school_cluster=31_2<br>school_x=%{x}<br>school_y=%{y}<extra></extra>",
         "legendgroup": "31_2",
         "marker": {
          "color": "#19d3f3",
          "symbol": "circle"
         },
         "mode": "markers",
         "name": "31_2",
         "showlegend": true,
         "type": "scatter",
         "x": [
          331723,
          331703,
          331703,
          331703,
          331723,
          331502,
          331723,
          331723,
          331761,
          331723,
          331703,
          331703,
          331723,
          331723,
          331723,
          331723,
          331723,
          331723
         ],
         "xaxis": "x",
         "y": [
          7395524,
          7395447,
          7395447,
          7395447,
          7395524,
          7395529,
          7395524,
          7395524,
          7395428,
          7395524,
          7395447,
          7395447,
          7395524,
          7395524,
          7395524,
          7395524,
          7395524,
          7395524
         ],
         "yaxis": "y"
        },
        {
         "hovertemplate": "school_cluster=31_4<br>school_x=%{x}<br>school_y=%{y}<extra></extra>",
         "legendgroup": "31_4",
         "marker": {
          "color": "#FF6692",
          "symbol": "circle"
         },
         "mode": "markers",
         "name": "31_4",
         "showlegend": true,
         "type": "scatter",
         "x": [
          331082,
          330778,
          331111,
          330986
         ],
         "xaxis": "x",
         "y": [
          7394542,
          7394406,
          7394259,
          7394485
         ],
         "yaxis": "y"
        },
        {
         "hovertemplate": "school_cluster=31_7<br>school_x=%{x}<br>school_y=%{y}<extra></extra>",
         "legendgroup": "31_7",
         "marker": {
          "color": "#B6E880",
          "symbol": "circle"
         },
         "mode": "markers",
         "name": "31_7",
         "showlegend": true,
         "type": "scatter",
         "x": [
          331646,
          331646,
          331646,
          331646
         ],
         "xaxis": "x",
         "y": [
          7395238,
          7395238,
          7395238,
          7395220
         ],
         "yaxis": "y"
        },
        {
         "hovertemplate": "school_cluster=31_8<br>school_x=%{x}<br>school_y=%{y}<extra></extra>",
         "legendgroup": "31_8",
         "marker": {
          "color": "#FF97FF",
          "symbol": "circle"
         },
         "mode": "markers",
         "name": "31_8",
         "showlegend": true,
         "type": "scatter",
         "x": [
          331577,
          331800,
          331760,
          331699
         ],
         "xaxis": "x",
         "y": [
          7394965,
          7395033,
          7394959,
          7394873
         ],
         "yaxis": "y"
        }
       ],
       "layout": {
        "legend": {
         "title": {
          "text": "school_cluster"
         },
         "tracegroupgap": 0
        },
        "margin": {
         "t": 60
        },
        "template": {
         "data": {
          "bar": [
           {
            "error_x": {
             "color": "#2a3f5f"
            },
            "error_y": {
             "color": "#2a3f5f"
            },
            "marker": {
             "line": {
              "color": "#E5ECF6",
              "width": 0.5
             }
            },
            "type": "bar"
           }
          ],
          "barpolar": [
           {
            "marker": {
             "line": {
              "color": "#E5ECF6",
              "width": 0.5
             }
            },
            "type": "barpolar"
           }
          ],
          "carpet": [
           {
            "aaxis": {
             "endlinecolor": "#2a3f5f",
             "gridcolor": "white",
             "linecolor": "white",
             "minorgridcolor": "white",
             "startlinecolor": "#2a3f5f"
            },
            "baxis": {
             "endlinecolor": "#2a3f5f",
             "gridcolor": "white",
             "linecolor": "white",
             "minorgridcolor": "white",
             "startlinecolor": "#2a3f5f"
            },
            "type": "carpet"
           }
          ],
          "choropleth": [
           {
            "colorbar": {
             "outlinewidth": 0,
             "ticks": ""
            },
            "type": "choropleth"
           }
          ],
          "contour": [
           {
            "colorbar": {
             "outlinewidth": 0,
             "ticks": ""
            },
            "colorscale": [
             [
              0,
              "#0d0887"
             ],
             [
              0.1111111111111111,
              "#46039f"
             ],
             [
              0.2222222222222222,
              "#7201a8"
             ],
             [
              0.3333333333333333,
              "#9c179e"
             ],
             [
              0.4444444444444444,
              "#bd3786"
             ],
             [
              0.5555555555555556,
              "#d8576b"
             ],
             [
              0.6666666666666666,
              "#ed7953"
             ],
             [
              0.7777777777777778,
              "#fb9f3a"
             ],
             [
              0.8888888888888888,
              "#fdca26"
             ],
             [
              1,
              "#f0f921"
             ]
            ],
            "type": "contour"
           }
          ],
          "contourcarpet": [
           {
            "colorbar": {
             "outlinewidth": 0,
             "ticks": ""
            },
            "type": "contourcarpet"
           }
          ],
          "heatmap": [
           {
            "colorbar": {
             "outlinewidth": 0,
             "ticks": ""
            },
            "colorscale": [
             [
              0,
              "#0d0887"
             ],
             [
              0.1111111111111111,
              "#46039f"
             ],
             [
              0.2222222222222222,
              "#7201a8"
             ],
             [
              0.3333333333333333,
              "#9c179e"
             ],
             [
              0.4444444444444444,
              "#bd3786"
             ],
             [
              0.5555555555555556,
              "#d8576b"
             ],
             [
              0.6666666666666666,
              "#ed7953"
             ],
             [
              0.7777777777777778,
              "#fb9f3a"
             ],
             [
              0.8888888888888888,
              "#fdca26"
             ],
             [
              1,
              "#f0f921"
             ]
            ],
            "type": "heatmap"
           }
          ],
          "heatmapgl": [
           {
            "colorbar": {
             "outlinewidth": 0,
             "ticks": ""
            },
            "colorscale": [
             [
              0,
              "#0d0887"
             ],
             [
              0.1111111111111111,
              "#46039f"
             ],
             [
              0.2222222222222222,
              "#7201a8"
             ],
             [
              0.3333333333333333,
              "#9c179e"
             ],
             [
              0.4444444444444444,
              "#bd3786"
             ],
             [
              0.5555555555555556,
              "#d8576b"
             ],
             [
              0.6666666666666666,
              "#ed7953"
             ],
             [
              0.7777777777777778,
              "#fb9f3a"
             ],
             [
              0.8888888888888888,
              "#fdca26"
             ],
             [
              1,
              "#f0f921"
             ]
            ],
            "type": "heatmapgl"
           }
          ],
          "histogram": [
           {
            "marker": {
             "colorbar": {
              "outlinewidth": 0,
              "ticks": ""
             }
            },
            "type": "histogram"
           }
          ],
          "histogram2d": [
           {
            "colorbar": {
             "outlinewidth": 0,
             "ticks": ""
            },
            "colorscale": [
             [
              0,
              "#0d0887"
             ],
             [
              0.1111111111111111,
              "#46039f"
             ],
             [
              0.2222222222222222,
              "#7201a8"
             ],
             [
              0.3333333333333333,
              "#9c179e"
             ],
             [
              0.4444444444444444,
              "#bd3786"
             ],
             [
              0.5555555555555556,
              "#d8576b"
             ],
             [
              0.6666666666666666,
              "#ed7953"
             ],
             [
              0.7777777777777778,
              "#fb9f3a"
             ],
             [
              0.8888888888888888,
              "#fdca26"
             ],
             [
              1,
              "#f0f921"
             ]
            ],
            "type": "histogram2d"
           }
          ],
          "histogram2dcontour": [
           {
            "colorbar": {
             "outlinewidth": 0,
             "ticks": ""
            },
            "colorscale": [
             [
              0,
              "#0d0887"
             ],
             [
              0.1111111111111111,
              "#46039f"
             ],
             [
              0.2222222222222222,
              "#7201a8"
             ],
             [
              0.3333333333333333,
              "#9c179e"
             ],
             [
              0.4444444444444444,
              "#bd3786"
             ],
             [
              0.5555555555555556,
              "#d8576b"
             ],
             [
              0.6666666666666666,
              "#ed7953"
             ],
             [
              0.7777777777777778,
              "#fb9f3a"
             ],
             [
              0.8888888888888888,
              "#fdca26"
             ],
             [
              1,
              "#f0f921"
             ]
            ],
            "type": "histogram2dcontour"
           }
          ],
          "mesh3d": [
           {
            "colorbar": {
             "outlinewidth": 0,
             "ticks": ""
            },
            "type": "mesh3d"
           }
          ],
          "parcoords": [
           {
            "line": {
             "colorbar": {
              "outlinewidth": 0,
              "ticks": ""
             }
            },
            "type": "parcoords"
           }
          ],
          "pie": [
           {
            "automargin": true,
            "type": "pie"
           }
          ],
          "scatter": [
           {
            "marker": {
             "colorbar": {
              "outlinewidth": 0,
              "ticks": ""
             }
            },
            "type": "scatter"
           }
          ],
          "scatter3d": [
           {
            "line": {
             "colorbar": {
              "outlinewidth": 0,
              "ticks": ""
             }
            },
            "marker": {
             "colorbar": {
              "outlinewidth": 0,
              "ticks": ""
             }
            },
            "type": "scatter3d"
           }
          ],
          "scattercarpet": [
           {
            "marker": {
             "colorbar": {
              "outlinewidth": 0,
              "ticks": ""
             }
            },
            "type": "scattercarpet"
           }
          ],
          "scattergeo": [
           {
            "marker": {
             "colorbar": {
              "outlinewidth": 0,
              "ticks": ""
             }
            },
            "type": "scattergeo"
           }
          ],
          "scattergl": [
           {
            "marker": {
             "colorbar": {
              "outlinewidth": 0,
              "ticks": ""
             }
            },
            "type": "scattergl"
           }
          ],
          "scattermapbox": [
           {
            "marker": {
             "colorbar": {
              "outlinewidth": 0,
              "ticks": ""
             }
            },
            "type": "scattermapbox"
           }
          ],
          "scatterpolar": [
           {
            "marker": {
             "colorbar": {
              "outlinewidth": 0,
              "ticks": ""
             }
            },
            "type": "scatterpolar"
           }
          ],
          "scatterpolargl": [
           {
            "marker": {
             "colorbar": {
              "outlinewidth": 0,
              "ticks": ""
             }
            },
            "type": "scatterpolargl"
           }
          ],
          "scatterternary": [
           {
            "marker": {
             "colorbar": {
              "outlinewidth": 0,
              "ticks": ""
             }
            },
            "type": "scatterternary"
           }
          ],
          "surface": [
           {
            "colorbar": {
             "outlinewidth": 0,
             "ticks": ""
            },
            "colorscale": [
             [
              0,
              "#0d0887"
             ],
             [
              0.1111111111111111,
              "#46039f"
             ],
             [
              0.2222222222222222,
              "#7201a8"
             ],
             [
              0.3333333333333333,
              "#9c179e"
             ],
             [
              0.4444444444444444,
              "#bd3786"
             ],
             [
              0.5555555555555556,
              "#d8576b"
             ],
             [
              0.6666666666666666,
              "#ed7953"
             ],
             [
              0.7777777777777778,
              "#fb9f3a"
             ],
             [
              0.8888888888888888,
              "#fdca26"
             ],
             [
              1,
              "#f0f921"
             ]
            ],
            "type": "surface"
           }
          ],
          "table": [
           {
            "cells": {
             "fill": {
              "color": "#EBF0F8"
             },
             "line": {
              "color": "white"
             }
            },
            "header": {
             "fill": {
              "color": "#C8D4E3"
             },
             "line": {
              "color": "white"
             }
            },
            "type": "table"
           }
          ]
         },
         "layout": {
          "annotationdefaults": {
           "arrowcolor": "#2a3f5f",
           "arrowhead": 0,
           "arrowwidth": 1
          },
          "coloraxis": {
           "colorbar": {
            "outlinewidth": 0,
            "ticks": ""
           }
          },
          "colorscale": {
           "diverging": [
            [
             0,
             "#8e0152"
            ],
            [
             0.1,
             "#c51b7d"
            ],
            [
             0.2,
             "#de77ae"
            ],
            [
             0.3,
             "#f1b6da"
            ],
            [
             0.4,
             "#fde0ef"
            ],
            [
             0.5,
             "#f7f7f7"
            ],
            [
             0.6,
             "#e6f5d0"
            ],
            [
             0.7,
             "#b8e186"
            ],
            [
             0.8,
             "#7fbc41"
            ],
            [
             0.9,
             "#4d9221"
            ],
            [
             1,
             "#276419"
            ]
           ],
           "sequential": [
            [
             0,
             "#0d0887"
            ],
            [
             0.1111111111111111,
             "#46039f"
            ],
            [
             0.2222222222222222,
             "#7201a8"
            ],
            [
             0.3333333333333333,
             "#9c179e"
            ],
            [
             0.4444444444444444,
             "#bd3786"
            ],
            [
             0.5555555555555556,
             "#d8576b"
            ],
            [
             0.6666666666666666,
             "#ed7953"
            ],
            [
             0.7777777777777778,
             "#fb9f3a"
            ],
            [
             0.8888888888888888,
             "#fdca26"
            ],
            [
             1,
             "#f0f921"
            ]
           ],
           "sequentialminus": [
            [
             0,
             "#0d0887"
            ],
            [
             0.1111111111111111,
             "#46039f"
            ],
            [
             0.2222222222222222,
             "#7201a8"
            ],
            [
             0.3333333333333333,
             "#9c179e"
            ],
            [
             0.4444444444444444,
             "#bd3786"
            ],
            [
             0.5555555555555556,
             "#d8576b"
            ],
            [
             0.6666666666666666,
             "#ed7953"
            ],
            [
             0.7777777777777778,
             "#fb9f3a"
            ],
            [
             0.8888888888888888,
             "#fdca26"
            ],
            [
             1,
             "#f0f921"
            ]
           ]
          },
          "colorway": [
           "#636efa",
           "#EF553B",
           "#00cc96",
           "#ab63fa",
           "#FFA15A",
           "#19d3f3",
           "#FF6692",
           "#B6E880",
           "#FF97FF",
           "#FECB52"
          ],
          "font": {
           "color": "#2a3f5f"
          },
          "geo": {
           "bgcolor": "white",
           "lakecolor": "white",
           "landcolor": "#E5ECF6",
           "showlakes": true,
           "showland": true,
           "subunitcolor": "white"
          },
          "hoverlabel": {
           "align": "left"
          },
          "hovermode": "closest",
          "mapbox": {
           "style": "light"
          },
          "paper_bgcolor": "white",
          "plot_bgcolor": "#E5ECF6",
          "polar": {
           "angularaxis": {
            "gridcolor": "white",
            "linecolor": "white",
            "ticks": ""
           },
           "bgcolor": "#E5ECF6",
           "radialaxis": {
            "gridcolor": "white",
            "linecolor": "white",
            "ticks": ""
           }
          },
          "scene": {
           "xaxis": {
            "backgroundcolor": "#E5ECF6",
            "gridcolor": "white",
            "gridwidth": 2,
            "linecolor": "white",
            "showbackground": true,
            "ticks": "",
            "zerolinecolor": "white"
           },
           "yaxis": {
            "backgroundcolor": "#E5ECF6",
            "gridcolor": "white",
            "gridwidth": 2,
            "linecolor": "white",
            "showbackground": true,
            "ticks": "",
            "zerolinecolor": "white"
           },
           "zaxis": {
            "backgroundcolor": "#E5ECF6",
            "gridcolor": "white",
            "gridwidth": 2,
            "linecolor": "white",
            "showbackground": true,
            "ticks": "",
            "zerolinecolor": "white"
           }
          },
          "shapedefaults": {
           "line": {
            "color": "#2a3f5f"
           }
          },
          "ternary": {
           "aaxis": {
            "gridcolor": "white",
            "linecolor": "white",
            "ticks": ""
           },
           "baxis": {
            "gridcolor": "white",
            "linecolor": "white",
            "ticks": ""
           },
           "bgcolor": "#E5ECF6",
           "caxis": {
            "gridcolor": "white",
            "linecolor": "white",
            "ticks": ""
           }
          },
          "title": {
           "x": 0.05
          },
          "xaxis": {
           "automargin": true,
           "gridcolor": "white",
           "linecolor": "white",
           "ticks": "",
           "title": {
            "standoff": 15
           },
           "zerolinecolor": "white",
           "zerolinewidth": 2
          },
          "yaxis": {
           "automargin": true,
           "gridcolor": "white",
           "linecolor": "white",
           "ticks": "",
           "title": {
            "standoff": 15
           },
           "zerolinecolor": "white",
           "zerolinewidth": 2
          }
         }
        },
        "xaxis": {
         "anchor": "y",
         "domain": [
          0,
          1
         ],
         "title": {
          "text": "school_x"
         }
        },
        "yaxis": {
         "anchor": "x",
         "domain": [
          0,
          1
         ],
         "title": {
          "text": "school_y"
         }
        }
       }
      },
      "text/html": [
       "<div>\n",
       "        \n",
       "        \n",
       "            <div id=\"f30ea39e-679c-42ec-9dbc-ae8966f08738\" class=\"plotly-graph-div\" style=\"height:525px; width:100%;\"></div>\n",
       "            <script type=\"text/javascript\">\n",
       "                require([\"plotly\"], function(Plotly) {\n",
       "                    window.PLOTLYENV=window.PLOTLYENV || {};\n",
       "                    \n",
       "                if (document.getElementById(\"f30ea39e-679c-42ec-9dbc-ae8966f08738\")) {\n",
       "                    Plotly.newPlot(\n",
       "                        'f30ea39e-679c-42ec-9dbc-ae8966f08738',\n",
       "                        [{\"hovertemplate\": \"school_cluster=31_3<br>school_x=%{x}<br>school_y=%{y}<extra></extra>\", \"legendgroup\": \"31_3\", \"marker\": {\"color\": \"#636efa\", \"symbol\": \"circle\"}, \"mode\": \"markers\", \"name\": \"31_3\", \"showlegend\": true, \"type\": \"scatter\", \"x\": [331907.0, 331895.0, 331887.0, 331907.0, 331907.0, 331895.0, 331907.0, 331907.0, 331895.0, 331895.0, 331907.0, 331815.0, 331907.0, 331907.0, 331907.0, 331907.0], \"xaxis\": \"x\", \"y\": [7394681.0, 7394729.0, 7394752.0, 7394681.0, 7394681.0, 7394729.0, 7394681.0, 7394681.0, 7394729.0, 7394729.0, 7394681.0, 7394778.0, 7394681.0, 7394681.0, 7394681.0, 7394681.0], \"yaxis\": \"y\"}, {\"hovertemplate\": \"school_cluster=31_1<br>school_x=%{x}<br>school_y=%{y}<extra></extra>\", \"legendgroup\": \"31_1\", \"marker\": {\"color\": \"#EF553B\", \"symbol\": \"circle\"}, \"mode\": \"markers\", \"name\": \"31_1\", \"showlegend\": true, \"type\": \"scatter\", \"x\": [331494.0, 331434.0, 331496.0, 331434.0, 331434.0, 331401.0, 331496.0, 331496.0, 331434.0, 331434.0, 331434.0, 331467.0, 331434.0, 331496.0, 331496.0, 331496.0, 331434.0, 331434.0, 331434.0, 331434.0, 331496.0, 331496.0, 331434.0, 331434.0, 331434.0, 331434.0, 331496.0, 331496.0, 331434.0, 331434.0, 331467.0, 331434.0, 331434.0, 331434.0, 331434.0, 331434.0, 331496.0, 331434.0, 331496.0, 331434.0, 331434.0, 331496.0, 331434.0, 331496.0, 331434.0, 331496.0, 331496.0, 331434.0, 331434.0, 331434.0, 331434.0, 331496.0, 331496.0, 331434.0, 331434.0, 331434.0, 331434.0, 331434.0, 331434.0, 331434.0, 331434.0, 331434.0, 331434.0, 331434.0, 331434.0, 331434.0, 331434.0, 331434.0, 331434.0, 331434.0, 331434.0, 331496.0, 331496.0, 331434.0, 331434.0, 331434.0, 331434.0, 331496.0, 331496.0, 331434.0, 331434.0, 331434.0, 331496.0, 331434.0, 331434.0, 331434.0, 331496.0, 331434.0, 331496.0, 331496.0, 331434.0, 331496.0, 331434.0, 331434.0, 331496.0, 331360.0, 331434.0, 331434.0, 331496.0, 331434.0, 331434.0, 331434.0, 331434.0, 331434.0, 331496.0, 331434.0, 331434.0, 331496.0, 331434.0, 331434.0, 331434.0, 331434.0, 331434.0, 331434.0, 331434.0, 331434.0, 331434.0, 331434.0, 331434.0, 331496.0, 331434.0, 331434.0, 331434.0, 331434.0, 331434.0, 331434.0, 331496.0, 331496.0, 331434.0, 331496.0, 331434.0, 331496.0, 331434.0, 331434.0, 331496.0, 331434.0, 331434.0, 331496.0, 331434.0, 331434.0, 331434.0, 331434.0, 331434.0, 331496.0, 331434.0, 331434.0, 331434.0, 331434.0, 331434.0], \"xaxis\": \"x\", \"y\": [7394808.0, 7394817.0, 7394807.0, 7394817.0, 7394817.0, 7394773.0, 7394807.0, 7394807.0, 7394817.0, 7394817.0, 7394817.0, 7394798.0, 7394817.0, 7394807.0, 7394807.0, 7394807.0, 7394817.0, 7394817.0, 7394817.0, 7394817.0, 7394807.0, 7394807.0, 7394817.0, 7394817.0, 7394817.0, 7394817.0, 7394807.0, 7394807.0, 7394817.0, 7394817.0, 7394798.0, 7394817.0, 7394817.0, 7394817.0, 7394817.0, 7394817.0, 7394807.0, 7394817.0, 7394807.0, 7394817.0, 7394817.0, 7394807.0, 7394817.0, 7394807.0, 7394817.0, 7394807.0, 7394807.0, 7394817.0, 7394817.0, 7394817.0, 7394817.0, 7394807.0, 7394807.0, 7394817.0, 7394817.0, 7394817.0, 7394817.0, 7394817.0, 7394817.0, 7394817.0, 7394817.0, 7394817.0, 7394817.0, 7394817.0, 7394817.0, 7394817.0, 7394817.0, 7394817.0, 7394817.0, 7394817.0, 7394817.0, 7394807.0, 7394807.0, 7394817.0, 7394817.0, 7394817.0, 7394817.0, 7394807.0, 7394807.0, 7394817.0, 7394817.0, 7394817.0, 7394807.0, 7394817.0, 7394817.0, 7394817.0, 7394807.0, 7394817.0, 7394807.0, 7394807.0, 7394817.0, 7394807.0, 7394817.0, 7394817.0, 7394807.0, 7394780.0, 7394817.0, 7394817.0, 7394807.0, 7394817.0, 7394817.0, 7394817.0, 7394817.0, 7394817.0, 7394807.0, 7394817.0, 7394817.0, 7394807.0, 7394817.0, 7394817.0, 7394817.0, 7394817.0, 7394817.0, 7394817.0, 7394817.0, 7394817.0, 7394817.0, 7394817.0, 7394817.0, 7394807.0, 7394817.0, 7394817.0, 7394817.0, 7394817.0, 7394817.0, 7394817.0, 7394807.0, 7394807.0, 7394817.0, 7394807.0, 7394817.0, 7394807.0, 7394817.0, 7394817.0, 7394807.0, 7394817.0, 7394817.0, 7394807.0, 7394817.0, 7394817.0, 7394817.0, 7394817.0, 7394817.0, 7394807.0, 7394817.0, 7394817.0, 7394817.0, 7394817.0, 7394817.0], \"yaxis\": \"y\"}, {\"hovertemplate\": \"school_cluster=31_5<br>school_x=%{x}<br>school_y=%{y}<extra></extra>\", \"legendgroup\": \"31_5\", \"marker\": {\"color\": \"#00cc96\", \"symbol\": \"circle\"}, \"mode\": \"markers\", \"name\": \"31_5\", \"showlegend\": true, \"type\": \"scatter\", \"x\": [331147.0, 331248.0, 331265.0, 331280.0, 331265.0, 331265.0, 331265.0, 331214.0, 331214.0, 331265.0, 331265.0, 331248.0, 331147.0, 331265.0, 331265.0, 331265.0], \"xaxis\": \"x\", \"y\": [7394602.0, 7394643.0, 7394642.0, 7394663.0, 7394642.0, 7394642.0, 7394642.0, 7394656.0, 7394656.0, 7394642.0, 7394642.0, 7394643.0, 7394602.0, 7394642.0, 7394642.0, 7394642.0], \"yaxis\": \"y\"}, {\"hovertemplate\": \"school_cluster=31_0<br>school_x=%{x}<br>school_y=%{y}<extra></extra>\", \"legendgroup\": \"31_0\", \"marker\": {\"color\": \"#ab63fa\", \"symbol\": \"circle\"}, \"mode\": \"markers\", \"name\": \"31_0\", \"showlegend\": true, \"type\": \"scatter\", \"x\": [331356.0, 331306.0, 331280.0, 331396.0, 331396.0, 331356.0, 331356.0, 331301.0, 331356.0, 331356.0, 331356.0, 331356.0, 331356.0, 331356.0, 331356.0, 331356.0, 331356.0, 331356.0, 331396.0, 331396.0, 331356.0, 331306.0, 331356.0, 331306.0, 331356.0, 331356.0, 331356.0, 331356.0, 331356.0, 331306.0, 331306.0, 331356.0, 331356.0, 331356.0, 331306.0, 331356.0, 331356.0, 331356.0, 331356.0, 331356.0, 331356.0, 331356.0, 331469.0, 331356.0, 331356.0, 331356.0, 331306.0, 331356.0, 331356.0, 331356.0, 331356.0, 331275.0], \"xaxis\": \"x\", \"y\": [7394973.0, 7395035.0, 7394857.0, 7395123.0, 7395123.0, 7394973.0, 7394973.0, 7395029.0, 7394973.0, 7394973.0, 7394973.0, 7394973.0, 7394973.0, 7394973.0, 7394973.0, 7394973.0, 7394973.0, 7394973.0, 7395123.0, 7395123.0, 7394973.0, 7395035.0, 7394973.0, 7395035.0, 7394973.0, 7394973.0, 7394973.0, 7394973.0, 7394973.0, 7395035.0, 7395035.0, 7394973.0, 7394973.0, 7394973.0, 7395035.0, 7394973.0, 7394973.0, 7394973.0, 7394973.0, 7394973.0, 7394973.0, 7394973.0, 7395059.0, 7394973.0, 7394973.0, 7394973.0, 7395035.0, 7394973.0, 7394973.0, 7394973.0, 7394973.0, 7394998.0], \"yaxis\": \"y\"}, {\"hovertemplate\": \"school_cluster=31_6<br>school_x=%{x}<br>school_y=%{y}<extra></extra>\", \"legendgroup\": \"31_6\", \"marker\": {\"color\": \"#FFA15A\", \"symbol\": \"circle\"}, \"mode\": \"markers\", \"name\": \"31_6\", \"showlegend\": true, \"type\": \"scatter\", \"x\": [331566.0, 331607.0, 331587.0, 331585.0, 331585.0, 331607.0, 331607.0, 331617.0, 331569.0, 331624.0, 331617.0, 331566.0, 331607.0, 331566.0, 331607.0, 331607.0, 331607.0], \"xaxis\": \"x\", \"y\": [7394831.0, 7394710.0, 7394720.0, 7394802.0, 7394802.0, 7394710.0, 7394710.0, 7394814.0, 7394723.0, 7394798.0, 7394814.0, 7394831.0, 7394710.0, 7394831.0, 7394710.0, 7394710.0, 7394710.0], \"yaxis\": \"y\"}, {\"hovertemplate\": \"school_cluster=31_2<br>school_x=%{x}<br>school_y=%{y}<extra></extra>\", \"legendgroup\": \"31_2\", \"marker\": {\"color\": \"#19d3f3\", \"symbol\": \"circle\"}, \"mode\": \"markers\", \"name\": \"31_2\", \"showlegend\": true, \"type\": \"scatter\", \"x\": [331723.0, 331703.0, 331703.0, 331703.0, 331723.0, 331502.0, 331723.0, 331723.0, 331761.0, 331723.0, 331703.0, 331703.0, 331723.0, 331723.0, 331723.0, 331723.0, 331723.0, 331723.0], \"xaxis\": \"x\", \"y\": [7395524.0, 7395447.0, 7395447.0, 7395447.0, 7395524.0, 7395529.0, 7395524.0, 7395524.0, 7395428.0, 7395524.0, 7395447.0, 7395447.0, 7395524.0, 7395524.0, 7395524.0, 7395524.0, 7395524.0, 7395524.0], \"yaxis\": \"y\"}, {\"hovertemplate\": \"school_cluster=31_4<br>school_x=%{x}<br>school_y=%{y}<extra></extra>\", \"legendgroup\": \"31_4\", \"marker\": {\"color\": \"#FF6692\", \"symbol\": \"circle\"}, \"mode\": \"markers\", \"name\": \"31_4\", \"showlegend\": true, \"type\": \"scatter\", \"x\": [331082.0, 330778.0, 331111.0, 330986.0], \"xaxis\": \"x\", \"y\": [7394542.0, 7394406.0, 7394259.0, 7394485.0], \"yaxis\": \"y\"}, {\"hovertemplate\": \"school_cluster=31_7<br>school_x=%{x}<br>school_y=%{y}<extra></extra>\", \"legendgroup\": \"31_7\", \"marker\": {\"color\": \"#B6E880\", \"symbol\": \"circle\"}, \"mode\": \"markers\", \"name\": \"31_7\", \"showlegend\": true, \"type\": \"scatter\", \"x\": [331646.0, 331646.0, 331646.0, 331646.0], \"xaxis\": \"x\", \"y\": [7395238.0, 7395238.0, 7395238.0, 7395220.0], \"yaxis\": \"y\"}, {\"hovertemplate\": \"school_cluster=31_8<br>school_x=%{x}<br>school_y=%{y}<extra></extra>\", \"legendgroup\": \"31_8\", \"marker\": {\"color\": \"#FF97FF\", \"symbol\": \"circle\"}, \"mode\": \"markers\", \"name\": \"31_8\", \"showlegend\": true, \"type\": \"scatter\", \"x\": [331577.0, 331800.0, 331760.0, 331699.0], \"xaxis\": \"x\", \"y\": [7394965.0, 7395033.0, 7394959.0, 7394873.0], \"yaxis\": \"y\"}],\n",
       "                        {\"legend\": {\"title\": {\"text\": \"school_cluster\"}, \"tracegroupgap\": 0}, \"margin\": {\"t\": 60}, \"template\": {\"data\": {\"bar\": [{\"error_x\": {\"color\": \"#2a3f5f\"}, \"error_y\": {\"color\": \"#2a3f5f\"}, \"marker\": {\"line\": {\"color\": \"#E5ECF6\", \"width\": 0.5}}, \"type\": \"bar\"}], \"barpolar\": [{\"marker\": {\"line\": {\"color\": \"#E5ECF6\", \"width\": 0.5}}, \"type\": \"barpolar\"}], \"carpet\": [{\"aaxis\": {\"endlinecolor\": \"#2a3f5f\", \"gridcolor\": \"white\", \"linecolor\": \"white\", \"minorgridcolor\": \"white\", \"startlinecolor\": \"#2a3f5f\"}, \"baxis\": {\"endlinecolor\": \"#2a3f5f\", \"gridcolor\": \"white\", \"linecolor\": \"white\", \"minorgridcolor\": \"white\", \"startlinecolor\": \"#2a3f5f\"}, \"type\": \"carpet\"}], \"choropleth\": [{\"colorbar\": {\"outlinewidth\": 0, \"ticks\": \"\"}, \"type\": \"choropleth\"}], \"contour\": [{\"colorbar\": {\"outlinewidth\": 0, \"ticks\": \"\"}, \"colorscale\": [[0.0, \"#0d0887\"], [0.1111111111111111, \"#46039f\"], [0.2222222222222222, \"#7201a8\"], [0.3333333333333333, \"#9c179e\"], [0.4444444444444444, \"#bd3786\"], [0.5555555555555556, \"#d8576b\"], [0.6666666666666666, \"#ed7953\"], [0.7777777777777778, \"#fb9f3a\"], [0.8888888888888888, \"#fdca26\"], [1.0, \"#f0f921\"]], \"type\": \"contour\"}], \"contourcarpet\": [{\"colorbar\": {\"outlinewidth\": 0, \"ticks\": \"\"}, \"type\": \"contourcarpet\"}], \"heatmap\": [{\"colorbar\": {\"outlinewidth\": 0, \"ticks\": \"\"}, \"colorscale\": [[0.0, \"#0d0887\"], [0.1111111111111111, \"#46039f\"], [0.2222222222222222, \"#7201a8\"], [0.3333333333333333, \"#9c179e\"], [0.4444444444444444, \"#bd3786\"], [0.5555555555555556, \"#d8576b\"], [0.6666666666666666, \"#ed7953\"], [0.7777777777777778, \"#fb9f3a\"], [0.8888888888888888, \"#fdca26\"], [1.0, \"#f0f921\"]], \"type\": \"heatmap\"}], \"heatmapgl\": [{\"colorbar\": {\"outlinewidth\": 0, \"ticks\": \"\"}, \"colorscale\": [[0.0, \"#0d0887\"], [0.1111111111111111, \"#46039f\"], [0.2222222222222222, \"#7201a8\"], [0.3333333333333333, \"#9c179e\"], [0.4444444444444444, \"#bd3786\"], [0.5555555555555556, \"#d8576b\"], [0.6666666666666666, \"#ed7953\"], [0.7777777777777778, \"#fb9f3a\"], [0.8888888888888888, \"#fdca26\"], [1.0, \"#f0f921\"]], \"type\": \"heatmapgl\"}], \"histogram\": [{\"marker\": {\"colorbar\": {\"outlinewidth\": 0, \"ticks\": \"\"}}, \"type\": \"histogram\"}], \"histogram2d\": [{\"colorbar\": {\"outlinewidth\": 0, \"ticks\": \"\"}, \"colorscale\": [[0.0, \"#0d0887\"], [0.1111111111111111, \"#46039f\"], [0.2222222222222222, \"#7201a8\"], [0.3333333333333333, \"#9c179e\"], [0.4444444444444444, \"#bd3786\"], [0.5555555555555556, \"#d8576b\"], [0.6666666666666666, \"#ed7953\"], [0.7777777777777778, \"#fb9f3a\"], [0.8888888888888888, \"#fdca26\"], [1.0, \"#f0f921\"]], \"type\": \"histogram2d\"}], \"histogram2dcontour\": [{\"colorbar\": {\"outlinewidth\": 0, \"ticks\": \"\"}, \"colorscale\": [[0.0, \"#0d0887\"], [0.1111111111111111, \"#46039f\"], [0.2222222222222222, \"#7201a8\"], [0.3333333333333333, \"#9c179e\"], [0.4444444444444444, \"#bd3786\"], [0.5555555555555556, \"#d8576b\"], [0.6666666666666666, \"#ed7953\"], [0.7777777777777778, \"#fb9f3a\"], [0.8888888888888888, \"#fdca26\"], [1.0, \"#f0f921\"]], \"type\": \"histogram2dcontour\"}], \"mesh3d\": [{\"colorbar\": {\"outlinewidth\": 0, \"ticks\": \"\"}, \"type\": \"mesh3d\"}], \"parcoords\": [{\"line\": {\"colorbar\": {\"outlinewidth\": 0, \"ticks\": \"\"}}, \"type\": \"parcoords\"}], \"pie\": [{\"automargin\": true, \"type\": \"pie\"}], \"scatter\": [{\"marker\": {\"colorbar\": {\"outlinewidth\": 0, \"ticks\": \"\"}}, \"type\": \"scatter\"}], \"scatter3d\": [{\"line\": {\"colorbar\": {\"outlinewidth\": 0, \"ticks\": \"\"}}, \"marker\": {\"colorbar\": {\"outlinewidth\": 0, \"ticks\": \"\"}}, \"type\": \"scatter3d\"}], \"scattercarpet\": [{\"marker\": {\"colorbar\": {\"outlinewidth\": 0, \"ticks\": \"\"}}, \"type\": \"scattercarpet\"}], \"scattergeo\": [{\"marker\": {\"colorbar\": {\"outlinewidth\": 0, \"ticks\": \"\"}}, \"type\": \"scattergeo\"}], \"scattergl\": [{\"marker\": {\"colorbar\": {\"outlinewidth\": 0, \"ticks\": \"\"}}, \"type\": \"scattergl\"}], \"scattermapbox\": [{\"marker\": {\"colorbar\": {\"outlinewidth\": 0, \"ticks\": \"\"}}, \"type\": \"scattermapbox\"}], \"scatterpolar\": [{\"marker\": {\"colorbar\": {\"outlinewidth\": 0, \"ticks\": \"\"}}, \"type\": \"scatterpolar\"}], \"scatterpolargl\": [{\"marker\": {\"colorbar\": {\"outlinewidth\": 0, \"ticks\": \"\"}}, \"type\": \"scatterpolargl\"}], \"scatterternary\": [{\"marker\": {\"colorbar\": {\"outlinewidth\": 0, \"ticks\": \"\"}}, \"type\": \"scatterternary\"}], \"surface\": [{\"colorbar\": {\"outlinewidth\": 0, \"ticks\": \"\"}, \"colorscale\": [[0.0, \"#0d0887\"], [0.1111111111111111, \"#46039f\"], [0.2222222222222222, \"#7201a8\"], [0.3333333333333333, \"#9c179e\"], [0.4444444444444444, \"#bd3786\"], [0.5555555555555556, \"#d8576b\"], [0.6666666666666666, \"#ed7953\"], [0.7777777777777778, \"#fb9f3a\"], [0.8888888888888888, \"#fdca26\"], [1.0, \"#f0f921\"]], \"type\": \"surface\"}], \"table\": [{\"cells\": {\"fill\": {\"color\": \"#EBF0F8\"}, \"line\": {\"color\": \"white\"}}, \"header\": {\"fill\": {\"color\": \"#C8D4E3\"}, \"line\": {\"color\": \"white\"}}, \"type\": \"table\"}]}, \"layout\": {\"annotationdefaults\": {\"arrowcolor\": \"#2a3f5f\", \"arrowhead\": 0, \"arrowwidth\": 1}, \"coloraxis\": {\"colorbar\": {\"outlinewidth\": 0, \"ticks\": \"\"}}, \"colorscale\": {\"diverging\": [[0, \"#8e0152\"], [0.1, \"#c51b7d\"], [0.2, \"#de77ae\"], [0.3, \"#f1b6da\"], [0.4, \"#fde0ef\"], [0.5, \"#f7f7f7\"], [0.6, \"#e6f5d0\"], [0.7, \"#b8e186\"], [0.8, \"#7fbc41\"], [0.9, \"#4d9221\"], [1, \"#276419\"]], \"sequential\": [[0.0, \"#0d0887\"], [0.1111111111111111, \"#46039f\"], [0.2222222222222222, \"#7201a8\"], [0.3333333333333333, \"#9c179e\"], [0.4444444444444444, \"#bd3786\"], [0.5555555555555556, \"#d8576b\"], [0.6666666666666666, \"#ed7953\"], [0.7777777777777778, \"#fb9f3a\"], [0.8888888888888888, \"#fdca26\"], [1.0, \"#f0f921\"]], \"sequentialminus\": [[0.0, \"#0d0887\"], [0.1111111111111111, \"#46039f\"], [0.2222222222222222, \"#7201a8\"], [0.3333333333333333, \"#9c179e\"], [0.4444444444444444, \"#bd3786\"], [0.5555555555555556, \"#d8576b\"], [0.6666666666666666, \"#ed7953\"], [0.7777777777777778, \"#fb9f3a\"], [0.8888888888888888, \"#fdca26\"], [1.0, \"#f0f921\"]]}, \"colorway\": [\"#636efa\", \"#EF553B\", \"#00cc96\", \"#ab63fa\", \"#FFA15A\", \"#19d3f3\", \"#FF6692\", \"#B6E880\", \"#FF97FF\", \"#FECB52\"], \"font\": {\"color\": \"#2a3f5f\"}, \"geo\": {\"bgcolor\": \"white\", \"lakecolor\": \"white\", \"landcolor\": \"#E5ECF6\", \"showlakes\": true, \"showland\": true, \"subunitcolor\": \"white\"}, \"hoverlabel\": {\"align\": \"left\"}, \"hovermode\": \"closest\", \"mapbox\": {\"style\": \"light\"}, \"paper_bgcolor\": \"white\", \"plot_bgcolor\": \"#E5ECF6\", \"polar\": {\"angularaxis\": {\"gridcolor\": \"white\", \"linecolor\": \"white\", \"ticks\": \"\"}, \"bgcolor\": \"#E5ECF6\", \"radialaxis\": {\"gridcolor\": \"white\", \"linecolor\": \"white\", \"ticks\": \"\"}}, \"scene\": {\"xaxis\": {\"backgroundcolor\": \"#E5ECF6\", \"gridcolor\": \"white\", \"gridwidth\": 2, \"linecolor\": \"white\", \"showbackground\": true, \"ticks\": \"\", \"zerolinecolor\": \"white\"}, \"yaxis\": {\"backgroundcolor\": \"#E5ECF6\", \"gridcolor\": \"white\", \"gridwidth\": 2, \"linecolor\": \"white\", \"showbackground\": true, \"ticks\": \"\", \"zerolinecolor\": \"white\"}, \"zaxis\": {\"backgroundcolor\": \"#E5ECF6\", \"gridcolor\": \"white\", \"gridwidth\": 2, \"linecolor\": \"white\", \"showbackground\": true, \"ticks\": \"\", \"zerolinecolor\": \"white\"}}, \"shapedefaults\": {\"line\": {\"color\": \"#2a3f5f\"}}, \"ternary\": {\"aaxis\": {\"gridcolor\": \"white\", \"linecolor\": \"white\", \"ticks\": \"\"}, \"baxis\": {\"gridcolor\": \"white\", \"linecolor\": \"white\", \"ticks\": \"\"}, \"bgcolor\": \"#E5ECF6\", \"caxis\": {\"gridcolor\": \"white\", \"linecolor\": \"white\", \"ticks\": \"\"}}, \"title\": {\"x\": 0.05}, \"xaxis\": {\"automargin\": true, \"gridcolor\": \"white\", \"linecolor\": \"white\", \"ticks\": \"\", \"title\": {\"standoff\": 15}, \"zerolinecolor\": \"white\", \"zerolinewidth\": 2}, \"yaxis\": {\"automargin\": true, \"gridcolor\": \"white\", \"linecolor\": \"white\", \"ticks\": \"\", \"title\": {\"standoff\": 15}, \"zerolinecolor\": \"white\", \"zerolinewidth\": 2}}}, \"xaxis\": {\"anchor\": \"y\", \"domain\": [0.0, 1.0], \"title\": {\"text\": \"school_x\"}}, \"yaxis\": {\"anchor\": \"x\", \"domain\": [0.0, 1.0], \"title\": {\"text\": \"school_y\"}}},\n",
       "                        {\"responsive\": true}\n",
       "                    ).then(function(){\n",
       "                            \n",
       "var gd = document.getElementById('f30ea39e-679c-42ec-9dbc-ae8966f08738');\n",
       "var x = new MutationObserver(function (mutations, observer) {{\n",
       "        var display = window.getComputedStyle(gd).display;\n",
       "        if (!display || display === 'none') {{\n",
       "            console.log([gd, 'removed!']);\n",
       "            Plotly.purge(gd);\n",
       "            observer.disconnect();\n",
       "        }}\n",
       "}});\n",
       "\n",
       "// Listen for the removal of the full notebook cells\n",
       "var notebookContainer = gd.closest('#notebook-container');\n",
       "if (notebookContainer) {{\n",
       "    x.observe(notebookContainer, {childList: true});\n",
       "}}\n",
       "\n",
       "// Listen for the clearing of the current output cell\n",
       "var outputEl = gd.closest('.output');\n",
       "if (outputEl) {{\n",
       "    x.observe(outputEl, {childList: true});\n",
       "}}\n",
       "\n",
       "                        })\n",
       "                };\n",
       "                });\n",
       "            </script>\n",
       "        </div>"
      ]
     },
     "metadata": {},
     "output_type": "display_data"
    }
   ],
   "source": [
    "df=df[df['school']==31].copy()\n",
    "df=df.dropna(subset=['school'])\n",
    "px.scatter(df, x='school_x', y='school_y', color='school_cluster')"
   ]
  },
  {
   "cell_type": "code",
   "execution_count": 7,
   "metadata": {},
   "outputs": [],
   "source": [
    "nx.write_gpickle(G, 'SP_multiGraph.gpickle')"
   ]
  }
 ],
 "metadata": {
  "kernelspec": {
   "display_name": "Python 3",
   "language": "python",
   "name": "python3"
  },
  "language_info": {
   "codemirror_mode": {
    "name": "ipython",
    "version": 3
   },
   "file_extension": ".py",
   "mimetype": "text/x-python",
   "name": "python",
   "nbconvert_exporter": "python",
   "pygments_lexer": "ipython3",
   "version": "3.7.7"
  }
 },
 "nbformat": 4,
 "nbformat_minor": 4
}
