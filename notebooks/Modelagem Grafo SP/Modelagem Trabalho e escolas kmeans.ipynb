{
 "cells": [
  {
   "cell_type": "code",
   "execution_count": 13,
   "metadata": {},
   "outputs": [],
   "source": [
    "import pandas as pd\n",
    "import numpy as np\n",
    "import plotly.express as px\n",
    "import matplotlib.pyplot as plt\n",
    "import seaborn as sns\n",
    "\n",
    "df=pd.read_feather(\"../../data/raw/work_school_home_sp.feather\")"
   ]
  },
  {
   "cell_type": "code",
   "execution_count": 12,
   "metadata": {},
   "outputs": [
    {
     "data": {
      "text/plain": [
       "<matplotlib.axes._subplots.AxesSubplot at 0x7f1bb8e9e190>"
      ]
     },
     "execution_count": 12,
     "metadata": {},
     "output_type": "execute_result"
    },
    {
     "data": {
      "image/png": "[encoded data removed]",
      "text/plain": [
       "<Figure size 432x288 with 1 Axes>"
      ]
     },
     "metadata": {
      "needs_background": "light"
     },
     "output_type": "display_data"
    }
   ],
   "source": [
    "\n",
    "\n",
    "sns.distplot(df['home'])"
   ]
  },
  {
   "cell_type": "code",
   "execution_count": 27,
   "metadata": {},
   "outputs": [
    {
     "data": {
      "text/html": [
       "<div>\n",
       "<style scoped>\n",
       "    .dataframe tbody tr th:only-of-type {\n",
       "        vertical-align: middle;\n",
       "    }\n",
       "\n",
       "    .dataframe tbody tr th {\n",
       "        vertical-align: top;\n",
       "    }\n",
       "\n",
       "    .dataframe thead th {\n",
       "        text-align: right;\n",
       "    }\n",
       "</style>\n",
       "<table border=\"1\" class=\"dataframe\">\n",
       "  <thead>\n",
       "    <tr style=\"text-align: right;\">\n",
       "      <th></th>\n",
       "      <th>home</th>\n",
       "      <th>school</th>\n",
       "      <th>work</th>\n",
       "      <th>id</th>\n",
       "      <th>work_x</th>\n",
       "      <th>work_y</th>\n",
       "      <th>school_x</th>\n",
       "      <th>school_y</th>\n",
       "      <th>home_x</th>\n",
       "      <th>home_y</th>\n",
       "      <th>home_id</th>\n",
       "      <th>idade</th>\n",
       "      <th>criteriobr</th>\n",
       "      <th>renda_fa</th>\n",
       "      <th>private_healthcare</th>\n",
       "      <th>neighb</th>\n",
       "    </tr>\n",
       "  </thead>\n",
       "  <tbody>\n",
       "    <tr>\n",
       "      <th>55365</th>\n",
       "      <td>342.0</td>\n",
       "      <td>NaN</td>\n",
       "      <td>32.0</td>\n",
       "      <td>03420007101</td>\n",
       "      <td>330709.0</td>\n",
       "      <td>7393610.0</td>\n",
       "      <td>NaN</td>\n",
       "      <td>NaN</td>\n",
       "      <td>322410.0</td>\n",
       "      <td>7390806.0</td>\n",
       "      <td>03420007</td>\n",
       "      <td>68.0</td>\n",
       "      <td>NaN</td>\n",
       "      <td>5889.162122</td>\n",
       "      <td>True</td>\n",
       "      <td>9</td>\n",
       "    </tr>\n",
       "    <tr>\n",
       "      <th>55366</th>\n",
       "      <td>342.0</td>\n",
       "      <td>NaN</td>\n",
       "      <td>NaN</td>\n",
       "      <td>03420013101</td>\n",
       "      <td>NaN</td>\n",
       "      <td>NaN</td>\n",
       "      <td>NaN</td>\n",
       "      <td>NaN</td>\n",
       "      <td>322897.0</td>\n",
       "      <td>7390509.0</td>\n",
       "      <td>03420013</td>\n",
       "      <td>74.0</td>\n",
       "      <td>3.0</td>\n",
       "      <td>2000.000000</td>\n",
       "      <td>False</td>\n",
       "      <td>4</td>\n",
       "    </tr>\n",
       "    <tr>\n",
       "      <th>55367</th>\n",
       "      <td>342.0</td>\n",
       "      <td>NaN</td>\n",
       "      <td>NaN</td>\n",
       "      <td>03420013102</td>\n",
       "      <td>NaN</td>\n",
       "      <td>NaN</td>\n",
       "      <td>NaN</td>\n",
       "      <td>NaN</td>\n",
       "      <td>322897.0</td>\n",
       "      <td>7390509.0</td>\n",
       "      <td>03420013</td>\n",
       "      <td>72.0</td>\n",
       "      <td>3.0</td>\n",
       "      <td>2000.000000</td>\n",
       "      <td>False</td>\n",
       "      <td>4</td>\n",
       "    </tr>\n",
       "    <tr>\n",
       "      <th>55368</th>\n",
       "      <td>342.0</td>\n",
       "      <td>NaN</td>\n",
       "      <td>32.0</td>\n",
       "      <td>03420014101</td>\n",
       "      <td>330526.0</td>\n",
       "      <td>7393790.0</td>\n",
       "      <td>NaN</td>\n",
       "      <td>NaN</td>\n",
       "      <td>323644.0</td>\n",
       "      <td>7392120.0</td>\n",
       "      <td>03420014</td>\n",
       "      <td>53.0</td>\n",
       "      <td>2.0</td>\n",
       "      <td>2000.000000</td>\n",
       "      <td>False</td>\n",
       "      <td>2</td>\n",
       "    </tr>\n",
       "    <tr>\n",
       "      <th>55369</th>\n",
       "      <td>342.0</td>\n",
       "      <td>NaN</td>\n",
       "      <td>NaN</td>\n",
       "      <td>03420014102</td>\n",
       "      <td>NaN</td>\n",
       "      <td>NaN</td>\n",
       "      <td>NaN</td>\n",
       "      <td>NaN</td>\n",
       "      <td>323644.0</td>\n",
       "      <td>7392120.0</td>\n",
       "      <td>03420014</td>\n",
       "      <td>36.0</td>\n",
       "      <td>2.0</td>\n",
       "      <td>2000.000000</td>\n",
       "      <td>False</td>\n",
       "      <td>2</td>\n",
       "    </tr>\n",
       "    <tr>\n",
       "      <th>...</th>\n",
       "      <td>...</td>\n",
       "      <td>...</td>\n",
       "      <td>...</td>\n",
       "      <td>...</td>\n",
       "      <td>...</td>\n",
       "      <td>...</td>\n",
       "      <td>...</td>\n",
       "      <td>...</td>\n",
       "      <td>...</td>\n",
       "      <td>...</td>\n",
       "      <td>...</td>\n",
       "      <td>...</td>\n",
       "      <td>...</td>\n",
       "      <td>...</td>\n",
       "      <td>...</td>\n",
       "      <td>...</td>\n",
       "    </tr>\n",
       "    <tr>\n",
       "      <th>55487</th>\n",
       "      <td>342.0</td>\n",
       "      <td>NaN</td>\n",
       "      <td>90.0</td>\n",
       "      <td>03421904103</td>\n",
       "      <td>327737.0</td>\n",
       "      <td>7396374.0</td>\n",
       "      <td>NaN</td>\n",
       "      <td>NaN</td>\n",
       "      <td>323322.0</td>\n",
       "      <td>7392038.0</td>\n",
       "      <td>03421904</td>\n",
       "      <td>27.0</td>\n",
       "      <td>1.0</td>\n",
       "      <td>9461.630458</td>\n",
       "      <td>True</td>\n",
       "      <td>10</td>\n",
       "    </tr>\n",
       "    <tr>\n",
       "      <th>55488</th>\n",
       "      <td>342.0</td>\n",
       "      <td>NaN</td>\n",
       "      <td>341.0</td>\n",
       "      <td>03422006101</td>\n",
       "      <td>323653.0</td>\n",
       "      <td>7391801.0</td>\n",
       "      <td>NaN</td>\n",
       "      <td>NaN</td>\n",
       "      <td>322857.0</td>\n",
       "      <td>7390956.0</td>\n",
       "      <td>03422006</td>\n",
       "      <td>52.0</td>\n",
       "      <td>1.0</td>\n",
       "      <td>9461.630458</td>\n",
       "      <td>True</td>\n",
       "      <td>1</td>\n",
       "    </tr>\n",
       "    <tr>\n",
       "      <th>55489</th>\n",
       "      <td>342.0</td>\n",
       "      <td>NaN</td>\n",
       "      <td>341.0</td>\n",
       "      <td>03422006102</td>\n",
       "      <td>323653.0</td>\n",
       "      <td>7391801.0</td>\n",
       "      <td>NaN</td>\n",
       "      <td>NaN</td>\n",
       "      <td>322857.0</td>\n",
       "      <td>7390956.0</td>\n",
       "      <td>03422006</td>\n",
       "      <td>26.0</td>\n",
       "      <td>1.0</td>\n",
       "      <td>9461.630458</td>\n",
       "      <td>True</td>\n",
       "      <td>1</td>\n",
       "    </tr>\n",
       "    <tr>\n",
       "      <th>55490</th>\n",
       "      <td>342.0</td>\n",
       "      <td>NaN</td>\n",
       "      <td>342.0</td>\n",
       "      <td>03422109101</td>\n",
       "      <td>323034.0</td>\n",
       "      <td>7390476.0</td>\n",
       "      <td>NaN</td>\n",
       "      <td>NaN</td>\n",
       "      <td>323034.0</td>\n",
       "      <td>7390476.0</td>\n",
       "      <td>03422109</td>\n",
       "      <td>28.0</td>\n",
       "      <td>3.0</td>\n",
       "      <td>3000.000000</td>\n",
       "      <td>False</td>\n",
       "      <td>4</td>\n",
       "    </tr>\n",
       "    <tr>\n",
       "      <th>55491</th>\n",
       "      <td>342.0</td>\n",
       "      <td>28.0</td>\n",
       "      <td>73.0</td>\n",
       "      <td>03422109102</td>\n",
       "      <td>326770.0</td>\n",
       "      <td>7387716.0</td>\n",
       "      <td>331482.0</td>\n",
       "      <td>7392910.0</td>\n",
       "      <td>323034.0</td>\n",
       "      <td>7390476.0</td>\n",
       "      <td>03422109</td>\n",
       "      <td>24.0</td>\n",
       "      <td>3.0</td>\n",
       "      <td>3000.000000</td>\n",
       "      <td>False</td>\n",
       "      <td>4</td>\n",
       "    </tr>\n",
       "  </tbody>\n",
       "</table>\n",
       "<p>127 rows × 16 columns</p>\n",
       "</div>"
      ],
      "text/plain": [
       "        home  school   work           id    work_x     work_y  school_x  \\\n",
       "55365  342.0     NaN   32.0  03420007101  330709.0  7393610.0       NaN   \n",
       "55366  342.0     NaN    NaN  03420013101       NaN        NaN       NaN   \n",
       "55367  342.0     NaN    NaN  03420013102       NaN        NaN       NaN   \n",
       "55368  342.0     NaN   32.0  03420014101  330526.0  7393790.0       NaN   \n",
       "55369  342.0     NaN    NaN  03420014102       NaN        NaN       NaN   \n",
       "...      ...     ...    ...          ...       ...        ...       ...   \n",
       "55487  342.0     NaN   90.0  03421904103  327737.0  7396374.0       NaN   \n",
       "55488  342.0     NaN  341.0  03422006101  323653.0  7391801.0       NaN   \n",
       "55489  342.0     NaN  341.0  03422006102  323653.0  7391801.0       NaN   \n",
       "55490  342.0     NaN  342.0  03422109101  323034.0  7390476.0       NaN   \n",
       "55491  342.0    28.0   73.0  03422109102  326770.0  7387716.0  331482.0   \n",
       "\n",
       "        school_y    home_x     home_y   home_id  idade  criteriobr  \\\n",
       "55365        NaN  322410.0  7390806.0  03420007   68.0         NaN   \n",
       "55366        NaN  322897.0  7390509.0  03420013   74.0         3.0   \n",
       "55367        NaN  322897.0  7390509.0  03420013   72.0         3.0   \n",
       "55368        NaN  323644.0  7392120.0  03420014   53.0         2.0   \n",
       "55369        NaN  323644.0  7392120.0  03420014   36.0         2.0   \n",
       "...          ...       ...        ...       ...    ...         ...   \n",
       "55487        NaN  323322.0  7392038.0  03421904   27.0         1.0   \n",
       "55488        NaN  322857.0  7390956.0  03422006   52.0         1.0   \n",
       "55489        NaN  322857.0  7390956.0  03422006   26.0         1.0   \n",
       "55490        NaN  323034.0  7390476.0  03422109   28.0         3.0   \n",
       "55491  7392910.0  323034.0  7390476.0  03422109   24.0         3.0   \n",
       "\n",
       "          renda_fa  private_healthcare  neighb  \n",
       "55365  5889.162122                True       9  \n",
       "55366  2000.000000               False       4  \n",
       "55367  2000.000000               False       4  \n",
       "55368  2000.000000               False       2  \n",
       "55369  2000.000000               False       2  \n",
       "...            ...                 ...     ...  \n",
       "55487  9461.630458                True      10  \n",
       "55488  9461.630458                True       1  \n",
       "55489  9461.630458                True       1  \n",
       "55490  3000.000000               False       4  \n",
       "55491  3000.000000               False       4  \n",
       "\n",
       "[127 rows x 16 columns]"
      ]
     },
     "execution_count": 27,
     "metadata": {},
     "output_type": "execute_result"
    }
   ],
   "source": [
    "df"
   ]
  },
  {
   "cell_type": "code",
   "execution_count": 59,
   "metadata": {},
   "outputs": [],
   "source": [
    "from sklearn.cluster import KMeans\n",
    "\n",
    "data = []\n",
    "means = []\n",
    "\n",
    "for zone in df['home'].unique():\n",
    "    if pd.notna(zone):\n",
    "        tmp = df[df['home'] == zone].copy()\n",
    "        X = tmp[['home_x', 'home_y']]\n",
    "        n_clusters = int(np.sum(df['home'] == zone) / 10)\n",
    "        kmeans = KMeans(n_clusters=n_clusters, random_state=52).fit(X)\n",
    "        tmp['Neighbourhood'] = kmeans.labels_\n",
    "        \n",
    "        data.append(tmp)\n",
    "\n",
    "df = pd.concat(data)"
   ]
  },
  {
   "cell_type": "code",
   "execution_count": 57,
   "metadata": {},
   "outputs": [
    {
     "data": {
      "application/vnd.plotly.v1+json": {
       "config": {
        "plotlyServerURL": "https://plot.ly"
       },
       "data": [
        {
         "hovertemplate": "Neighbourhood=0<br>home_x=%{x}<br>home_y=%{y}<extra></extra>",
         "legendgroup": "0",
         "marker": {
          "color": "#636efa",
          "symbol": "circle"
         },
         "mode": "markers",
         "name": "0",
         "showlegend": true,
         "type": "scatter",
         "x": [
          326966,
          326966,
          326820,
          326915,
          326915,
          326915,
          326845,
          326917,
          326917,
          326917,
          326915,
          326753,
          326812,
          326812,
          326966,
          326943,
          326753,
          326753,
          326753
         ],
         "xaxis": "x",
         "y": [
          7397130,
          7397130,
          7397371,
          7397171,
          7397171,
          7397171,
          7397364,
          7397081,
          7397081,
          7397081,
          7397171,
          7397125,
          7397027,
          7397027,
          7397130,
          7397243,
          7397125,
          7397125,
          7397125
         ],
         "yaxis": "y"
        },
        {
         "hovertemplate": "Neighbourhood=1<br>home_x=%{x}<br>home_y=%{y}<extra></extra>",
         "legendgroup": "1",
         "marker": {
          "color": "#EF553B",
          "symbol": "circle"
         },
         "mode": "markers",
         "name": "1",
         "showlegend": true,
         "type": "scatter",
         "x": [
          325658,
          325602,
          325602,
          325658,
          325602,
          325658,
          325658,
          325602
         ],
         "xaxis": "x",
         "y": [
          7397606,
          7397736,
          7397736,
          7397606,
          7397736,
          7397606,
          7397606,
          7397736
         ],
         "yaxis": "y"
        },
        {
         "hovertemplate": "Neighbourhood=2<br>home_x=%{x}<br>home_y=%{y}<extra></extra>",
         "legendgroup": "2",
         "marker": {
          "color": "#00cc96",
          "symbol": "circle"
         },
         "mode": "markers",
         "name": "2",
         "showlegend": true,
         "type": "scatter",
         "x": [
          327156,
          327156,
          327412,
          327412,
          327412,
          327362,
          327393,
          327315,
          327315,
          327156,
          327393
         ],
         "xaxis": "x",
         "y": [
          7397396,
          7397396,
          7397422,
          7397422,
          7397422,
          7397349,
          7397489,
          7397229,
          7397229,
          7397396,
          7397489
         ],
         "yaxis": "y"
        },
        {
         "hovertemplate": "Neighbourhood=3<br>home_x=%{x}<br>home_y=%{y}<extra></extra>",
         "legendgroup": "3",
         "marker": {
          "color": "#ab63fa",
          "symbol": "circle"
         },
         "mode": "markers",
         "name": "3",
         "showlegend": true,
         "type": "scatter",
         "x": [
          326550,
          326528,
          326528,
          326528,
          326472,
          326472,
          326520,
          326520,
          326597,
          326461,
          326597,
          326597,
          326461,
          326357
         ],
         "xaxis": "x",
         "y": [
          7397067,
          7397043,
          7397043,
          7397043,
          7397363,
          7397363,
          7397226,
          7397226,
          7397123,
          7397155,
          7397123,
          7397123,
          7397155,
          7397125
         ],
         "yaxis": "y"
        },
        {
         "hovertemplate": "Neighbourhood=4<br>home_x=%{x}<br>home_y=%{y}<extra></extra>",
         "legendgroup": "4",
         "marker": {
          "color": "#FFA15A",
          "symbol": "circle"
         },
         "mode": "markers",
         "name": "4",
         "showlegend": true,
         "type": "scatter",
         "x": [
          325516,
          325516,
          325516,
          325313,
          325399,
          325537,
          325537
         ],
         "xaxis": "x",
         "y": [
          7397370,
          7397370,
          7397370,
          7397605,
          7397524,
          7397366,
          7397366
         ],
         "yaxis": "y"
        },
        {
         "hovertemplate": "Neighbourhood=5<br>home_x=%{x}<br>home_y=%{y}<extra></extra>",
         "legendgroup": "5",
         "marker": {
          "color": "#19d3f3",
          "symbol": "circle"
         },
         "mode": "markers",
         "name": "5",
         "showlegend": true,
         "type": "scatter",
         "x": [
          327226,
          327226,
          327072,
          327176,
          327234,
          327072,
          327234,
          327072,
          327176,
          327226,
          327234,
          327176,
          327176,
          327226,
          327226,
          327095,
          327095,
          327095,
          327095,
          327226,
          327072,
          327234
         ],
         "xaxis": "x",
         "y": [
          7397131,
          7397131,
          7397110,
          7397061,
          7397013,
          7397110,
          7397013,
          7397110,
          7397061,
          7397131,
          7397013,
          7397061,
          7397061,
          7397131,
          7397131,
          7397130,
          7397130,
          7397130,
          7397130,
          7397131,
          7397110,
          7397013
         ],
         "yaxis": "y"
        },
        {
         "hovertemplate": "Neighbourhood=6<br>home_x=%{x}<br>home_y=%{y}<extra></extra>",
         "legendgroup": "6",
         "marker": {
          "color": "#FF6692",
          "symbol": "circle"
         },
         "mode": "markers",
         "name": "6",
         "showlegend": true,
         "type": "scatter",
         "x": [
          326059,
          326263,
          326263,
          326263,
          326263,
          326087,
          326168,
          326336,
          326168
         ],
         "xaxis": "x",
         "y": [
          7397472,
          7397254,
          7397254,
          7397254,
          7397254,
          7397154,
          7397267,
          7397345,
          7397267
         ],
         "yaxis": "y"
        },
        {
         "hovertemplate": "Neighbourhood=7<br>home_x=%{x}<br>home_y=%{y}<extra></extra>",
         "legendgroup": "7",
         "marker": {
          "color": "#B6E880",
          "symbol": "circle"
         },
         "mode": "markers",
         "name": "7",
         "showlegend": true,
         "type": "scatter",
         "x": [
          327951,
          327490,
          327732,
          327632,
          327632,
          327632,
          327632,
          327523,
          327523
         ],
         "xaxis": "x",
         "y": [
          7397287,
          7397119,
          7397485,
          7397396,
          7397396,
          7397396,
          7397396,
          7397248,
          7397248
         ],
         "yaxis": "y"
        },
        {
         "hovertemplate": "Neighbourhood=8<br>home_x=%{x}<br>home_y=%{y}<extra></extra>",
         "legendgroup": "8",
         "marker": {
          "color": "#FF97FF",
          "symbol": "circle"
         },
         "mode": "markers",
         "name": "8",
         "showlegend": true,
         "type": "scatter",
         "x": [
          326492,
          326406,
          326492,
          326863,
          326863
         ],
         "xaxis": "x",
         "y": [
          7397602,
          7397549,
          7397602,
          7397572,
          7397572
         ],
         "yaxis": "y"
        },
        {
         "hovertemplate": "Neighbourhood=9<br>home_x=%{x}<br>home_y=%{y}<extra></extra>",
         "legendgroup": "9",
         "marker": {
          "color": "#FECB52",
          "symbol": "circle"
         },
         "mode": "markers",
         "name": "9",
         "showlegend": true,
         "type": "scatter",
         "x": [
          325881,
          325881,
          325881,
          325981,
          325981,
          325805,
          325805,
          325881,
          325881
         ],
         "xaxis": "x",
         "y": [
          7397794,
          7397794,
          7397794,
          7398060,
          7398060,
          7397959,
          7397959,
          7397794,
          7397794
         ],
         "yaxis": "y"
        },
        {
         "hovertemplate": "Neighbourhood=10<br>home_x=%{x}<br>home_y=%{y}<extra></extra>",
         "legendgroup": "10",
         "marker": {
          "color": "#636efa",
          "symbol": "circle"
         },
         "mode": "markers",
         "name": "10",
         "showlegend": true,
         "type": "scatter",
         "x": [
          325805,
          325805,
          325805,
          325805,
          325895,
          325895
         ],
         "xaxis": "x",
         "y": [
          7397149,
          7397149,
          7397149,
          7397149,
          7397227,
          7397227
         ],
         "yaxis": "y"
        }
       ],
       "layout": {
        "legend": {
         "title": {
          "text": "Neighbourhood"
         },
         "tracegroupgap": 0
        },
        "margin": {
         "t": 60
        },
        "template": {
         "data": {
          "bar": [
           {
            "error_x": {
             "color": "#2a3f5f"
            },
            "error_y": {
             "color": "#2a3f5f"
            },
            "marker": {
             "line": {
              "color": "#E5ECF6",
              "width": 0.5
             }
            },
            "type": "bar"
           }
          ],
          "barpolar": [
           {
            "marker": {
             "line": {
              "color": "#E5ECF6",
              "width": 0.5
             }
            },
            "type": "barpolar"
           }
          ],
          "carpet": [
           {
            "aaxis": {
             "endlinecolor": "#2a3f5f",
             "gridcolor": "white",
             "linecolor": "white",
             "minorgridcolor": "white",
             "startlinecolor": "#2a3f5f"
            },
            "baxis": {
             "endlinecolor": "#2a3f5f",
             "gridcolor": "white",
             "linecolor": "white",
             "minorgridcolor": "white",
             "startlinecolor": "#2a3f5f"
            },
            "type": "carpet"
           }
          ],
          "choropleth": [
           {
            "colorbar": {
             "outlinewidth": 0,
             "ticks": ""
            },
            "type": "choropleth"
           }
          ],
          "contour": [
           {
            "colorbar": {
             "outlinewidth": 0,
             "ticks": ""
            },
            "colorscale": [
             [
              0,
              "#0d0887"
             ],
             [
              0.1111111111111111,
              "#46039f"
             ],
             [
              0.2222222222222222,
              "#7201a8"
             ],
             [
              0.3333333333333333,
              "#9c179e"
             ],
             [
              0.4444444444444444,
              "#bd3786"
             ],
             [
              0.5555555555555556,
              "#d8576b"
             ],
             [
              0.6666666666666666,
              "#ed7953"
             ],
             [
              0.7777777777777778,
              "#fb9f3a"
             ],
             [
              0.8888888888888888,
              "#fdca26"
             ],
             [
              1,
              "#f0f921"
             ]
            ],
            "type": "contour"
           }
          ],
          "contourcarpet": [
           {
            "colorbar": {
             "outlinewidth": 0,
             "ticks": ""
            },
            "type": "contourcarpet"
           }
          ],
          "heatmap": [
           {
            "colorbar": {
             "outlinewidth": 0,
             "ticks": ""
            },
            "colorscale": [
             [
              0,
              "#0d0887"
             ],
             [
              0.1111111111111111,
              "#46039f"
             ],
             [
              0.2222222222222222,
              "#7201a8"
             ],
             [
              0.3333333333333333,
              "#9c179e"
             ],
             [
              0.4444444444444444,
              "#bd3786"
             ],
             [
              0.5555555555555556,
              "#d8576b"
             ],
             [
              0.6666666666666666,
              "#ed7953"
             ],
             [
              0.7777777777777778,
              "#fb9f3a"
             ],
             [
              0.8888888888888888,
              "#fdca26"
             ],
             [
              1,
              "#f0f921"
             ]
            ],
            "type": "heatmap"
           }
          ],
          "heatmapgl": [
           {
            "colorbar": {
             "outlinewidth": 0,
             "ticks": ""
            },
            "colorscale": [
             [
              0,
              "#0d0887"
             ],
             [
              0.1111111111111111,
              "#46039f"
             ],
             [
              0.2222222222222222,
              "#7201a8"
             ],
             [
              0.3333333333333333,
              "#9c179e"
             ],
             [
              0.4444444444444444,
              "#bd3786"
             ],
             [
              0.5555555555555556,
              "#d8576b"
             ],
             [
              0.6666666666666666,
              "#ed7953"
             ],
             [
              0.7777777777777778,
              "#fb9f3a"
             ],
             [
              0.8888888888888888,
              "#fdca26"
             ],
             [
              1,
              "#f0f921"
             ]
            ],
            "type": "heatmapgl"
           }
          ],
          "histogram": [
           {
            "marker": {
             "colorbar": {
              "outlinewidth": 0,
              "ticks": ""
             }
            },
            "type": "histogram"
           }
          ],
          "histogram2d": [
           {
            "colorbar": {
             "outlinewidth": 0,
             "ticks": ""
            },
            "colorscale": [
             [
              0,
              "#0d0887"
             ],
             [
              0.1111111111111111,
              "#46039f"
             ],
             [
              0.2222222222222222,
              "#7201a8"
             ],
             [
              0.3333333333333333,
              "#9c179e"
             ],
             [
              0.4444444444444444,
              "#bd3786"
             ],
             [
              0.5555555555555556,
              "#d8576b"
             ],
             [
              0.6666666666666666,
              "#ed7953"
             ],
             [
              0.7777777777777778,
              "#fb9f3a"
             ],
             [
              0.8888888888888888,
              "#fdca26"
             ],
             [
              1,
              "#f0f921"
             ]
            ],
            "type": "histogram2d"
           }
          ],
          "histogram2dcontour": [
           {
            "colorbar": {
             "outlinewidth": 0,
             "ticks": ""
            },
            "colorscale": [
             [
              0,
              "#0d0887"
             ],
             [
              0.1111111111111111,
              "#46039f"
             ],
             [
              0.2222222222222222,
              "#7201a8"
             ],
             [
              0.3333333333333333,
              "#9c179e"
             ],
             [
              0.4444444444444444,
              "#bd3786"
             ],
             [
              0.5555555555555556,
              "#d8576b"
             ],
             [
              0.6666666666666666,
              "#ed7953"
             ],
             [
              0.7777777777777778,
              "#fb9f3a"
             ],
             [
              0.8888888888888888,
              "#fdca26"
             ],
             [
              1,
              "#f0f921"
             ]
            ],
            "type": "histogram2dcontour"
           }
          ],
          "mesh3d": [
           {
            "colorbar": {
             "outlinewidth": 0,
             "ticks": ""
            },
            "type": "mesh3d"
           }
          ],
          "parcoords": [
           {
            "line": {
             "colorbar": {
              "outlinewidth": 0,
              "ticks": ""
             }
            },
            "type": "parcoords"
           }
          ],
          "pie": [
           {
            "automargin": true,
            "type": "pie"
           }
          ],
          "scatter": [
           {
            "marker": {
             "colorbar": {
              "outlinewidth": 0,
              "ticks": ""
             }
            },
            "type": "scatter"
           }
          ],
          "scatter3d": [
           {
            "line": {
             "colorbar": {
              "outlinewidth": 0,
              "ticks": ""
             }
            },
            "marker": {
             "colorbar": {
              "outlinewidth": 0,
              "ticks": ""
             }
            },
            "type": "scatter3d"
           }
          ],
          "scattercarpet": [
           {
            "marker": {
             "colorbar": {
              "outlinewidth": 0,
              "ticks": ""
             }
            },
            "type": "scattercarpet"
           }
          ],
          "scattergeo": [
           {
            "marker": {
             "colorbar": {
              "outlinewidth": 0,
              "ticks": ""
             }
            },
            "type": "scattergeo"
           }
          ],
          "scattergl": [
           {
            "marker": {
             "colorbar": {
              "outlinewidth": 0,
              "ticks": ""
             }
            },
            "type": "scattergl"
           }
          ],
          "scattermapbox": [
           {
            "marker": {
             "colorbar": {
              "outlinewidth": 0,
              "ticks": ""
             }
            },
            "type": "scattermapbox"
           }
          ],
          "scatterpolar": [
           {
            "marker": {
             "colorbar": {
              "outlinewidth": 0,
              "ticks": ""
             }
            },
            "type": "scatterpolar"
           }
          ],
          "scatterpolargl": [
           {
            "marker": {
             "colorbar": {
              "outlinewidth": 0,
              "ticks": ""
             }
            },
            "type": "scatterpolargl"
           }
          ],
          "scatterternary": [
           {
            "marker": {
             "colorbar": {
              "outlinewidth": 0,
              "ticks": ""
             }
            },
            "type": "scatterternary"
           }
          ],
          "surface": [
           {
            "colorbar": {
             "outlinewidth": 0,
             "ticks": ""
            },
            "colorscale": [
             [
              0,
              "#0d0887"
             ],
             [
              0.1111111111111111,
              "#46039f"
             ],
             [
              0.2222222222222222,
              "#7201a8"
             ],
             [
              0.3333333333333333,
              "#9c179e"
             ],
             [
              0.4444444444444444,
              "#bd3786"
             ],
             [
              0.5555555555555556,
              "#d8576b"
             ],
             [
              0.6666666666666666,
              "#ed7953"
             ],
             [
              0.7777777777777778,
              "#fb9f3a"
             ],
             [
              0.8888888888888888,
              "#fdca26"
             ],
             [
              1,
              "#f0f921"
             ]
            ],
            "type": "surface"
           }
          ],
          "table": [
           {
            "cells": {
             "fill": {
              "color": "#EBF0F8"
             },
             "line": {
              "color": "white"
             }
            },
            "header": {
             "fill": {
              "color": "#C8D4E3"
             },
             "line": {
              "color": "white"
             }
            },
            "type": "table"
           }
          ]
         },
         "layout": {
          "annotationdefaults": {
           "arrowcolor": "#2a3f5f",
           "arrowhead": 0,
           "arrowwidth": 1
          },
          "coloraxis": {
           "colorbar": {
            "outlinewidth": 0,
            "ticks": ""
           }
          },
          "colorscale": {
           "diverging": [
            [
             0,
             "#8e0152"
            ],
            [
             0.1,
             "#c51b7d"
            ],
            [
             0.2,
             "#de77ae"
            ],
            [
             0.3,
             "#f1b6da"
            ],
            [
             0.4,
             "#fde0ef"
            ],
            [
             0.5,
             "#f7f7f7"
            ],
            [
             0.6,
             "#e6f5d0"
            ],
            [
             0.7,
             "#b8e186"
            ],
            [
             0.8,
             "#7fbc41"
            ],
            [
             0.9,
             "#4d9221"
            ],
            [
             1,
             "#276419"
            ]
           ],
           "sequential": [
            [
             0,
             "#0d0887"
            ],
            [
             0.1111111111111111,
             "#46039f"
            ],
            [
             0.2222222222222222,
             "#7201a8"
            ],
            [
             0.3333333333333333,
             "#9c179e"
            ],
            [
             0.4444444444444444,
             "#bd3786"
            ],
            [
             0.5555555555555556,
             "#d8576b"
            ],
            [
             0.6666666666666666,
             "#ed7953"
            ],
            [
             0.7777777777777778,
             "#fb9f3a"
            ],
            [
             0.8888888888888888,
             "#fdca26"
            ],
            [
             1,
             "#f0f921"
            ]
           ],
           "sequentialminus": [
            [
             0,
             "#0d0887"
            ],
            [
             0.1111111111111111,
             "#46039f"
            ],
            [
             0.2222222222222222,
             "#7201a8"
            ],
            [
             0.3333333333333333,
             "#9c179e"
            ],
            [
             0.4444444444444444,
             "#bd3786"
            ],
            [
             0.5555555555555556,
             "#d8576b"
            ],
            [
             0.6666666666666666,
             "#ed7953"
            ],
            [
             0.7777777777777778,
             "#fb9f3a"
            ],
            [
             0.8888888888888888,
             "#fdca26"
            ],
            [
             1,
             "#f0f921"
            ]
           ]
          },
          "colorway": [
           "#636efa",
           "#EF553B",
           "#00cc96",
           "#ab63fa",
           "#FFA15A",
           "#19d3f3",
           "#FF6692",
           "#B6E880",
           "#FF97FF",
           "#FECB52"
          ],
          "font": {
           "color": "#2a3f5f"
          },
          "geo": {
           "bgcolor": "white",
           "lakecolor": "white",
           "landcolor": "#E5ECF6",
           "showlakes": true,
           "showland": true,
           "subunitcolor": "white"
          },
          "hoverlabel": {
           "align": "left"
          },
          "hovermode": "closest",
          "mapbox": {
           "style": "light"
          },
          "paper_bgcolor": "white",
          "plot_bgcolor": "#E5ECF6",
          "polar": {
           "angularaxis": {
            "gridcolor": "white",
            "linecolor": "white",
            "ticks": ""
           },
           "bgcolor": "#E5ECF6",
           "radialaxis": {
            "gridcolor": "white",
            "linecolor": "white",
            "ticks": ""
           }
          },
          "scene": {
           "xaxis": {
            "backgroundcolor": "#E5ECF6",
            "gridcolor": "white",
            "gridwidth": 2,
            "linecolor": "white",
            "showbackground": true,
            "ticks": "",
            "zerolinecolor": "white"
           },
           "yaxis": {
            "backgroundcolor": "#E5ECF6",
            "gridcolor": "white",
            "gridwidth": 2,
            "linecolor": "white",
            "showbackground": true,
            "ticks": "",
            "zerolinecolor": "white"
           },
           "zaxis": {
            "backgroundcolor": "#E5ECF6",
            "gridcolor": "white",
            "gridwidth": 2,
            "linecolor": "white",
            "showbackground": true,
            "ticks": "",
            "zerolinecolor": "white"
           }
          },
          "shapedefaults": {
           "line": {
            "color": "#2a3f5f"
           }
          },
          "ternary": {
           "aaxis": {
            "gridcolor": "white",
            "linecolor": "white",
            "ticks": ""
           },
           "baxis": {
            "gridcolor": "white",
            "linecolor": "white",
            "ticks": ""
           },
           "bgcolor": "#E5ECF6",
           "caxis": {
            "gridcolor": "white",
            "linecolor": "white",
            "ticks": ""
           }
          },
          "title": {
           "x": 0.05
          },
          "xaxis": {
           "automargin": true,
           "gridcolor": "white",
           "linecolor": "white",
           "ticks": "",
           "title": {
            "standoff": 15
           },
           "zerolinecolor": "white",
           "zerolinewidth": 2
          },
          "yaxis": {
           "automargin": true,
           "gridcolor": "white",
           "linecolor": "white",
           "ticks": "",
           "title": {
            "standoff": 15
           },
           "zerolinecolor": "white",
           "zerolinewidth": 2
          }
         }
        },
        "title": {
         "text": "Neighbourhoods - Zone 100"
        },
        "xaxis": {
         "anchor": "y",
         "domain": [
          0,
          1
         ],
         "title": {
          "text": "home_x"
         }
        },
        "yaxis": {
         "anchor": "x",
         "domain": [
          0,
          1
         ],
         "title": {
          "text": "home_y"
         }
        }
       }
      },
      "text/html": [
       "<div>\n",
       "        \n",
       "        \n",
       "            <div id=\"4292a378-c806-4527-9c55-1f5e6a1dff83\" class=\"plotly-graph-div\" style=\"height:525px; width:100%;\"></div>\n",
       "            <script type=\"text/javascript\">\n",
       "                require([\"plotly\"], function(Plotly) {\n",
       "                    window.PLOTLYENV=window.PLOTLYENV || {};\n",
       "                    \n",
       "                if (document.getElementById(\"4292a378-c806-4527-9c55-1f5e6a1dff83\")) {\n",
       "                    Plotly.newPlot(\n",
       "                        '4292a378-c806-4527-9c55-1f5e6a1dff83',\n",
       "                        [{\"hovertemplate\": \"Neighbourhood=0<br>home_x=%{x}<br>home_y=%{y}<extra></extra>\", \"legendgroup\": \"0\", \"marker\": {\"color\": \"#636efa\", \"symbol\": \"circle\"}, \"mode\": \"markers\", \"name\": \"0\", \"showlegend\": true, \"type\": \"scatter\", \"x\": [326966.0, 326966.0, 326820.0, 326915.0, 326915.0, 326915.0, 326845.0, 326917.0, 326917.0, 326917.0, 326915.0, 326753.0, 326812.0, 326812.0, 326966.0, 326943.0, 326753.0, 326753.0, 326753.0], \"xaxis\": \"x\", \"y\": [7397130.0, 7397130.0, 7397371.0, 7397171.0, 7397171.0, 7397171.0, 7397364.0, 7397081.0, 7397081.0, 7397081.0, 7397171.0, 7397125.0, 7397027.0, 7397027.0, 7397130.0, 7397243.0, 7397125.0, 7397125.0, 7397125.0], \"yaxis\": \"y\"}, {\"hovertemplate\": \"Neighbourhood=1<br>home_x=%{x}<br>home_y=%{y}<extra></extra>\", \"legendgroup\": \"1\", \"marker\": {\"color\": \"#EF553B\", \"symbol\": \"circle\"}, \"mode\": \"markers\", \"name\": \"1\", \"showlegend\": true, \"type\": \"scatter\", \"x\": [325658.0, 325602.0, 325602.0, 325658.0, 325602.0, 325658.0, 325658.0, 325602.0], \"xaxis\": \"x\", \"y\": [7397606.0, 7397736.0, 7397736.0, 7397606.0, 7397736.0, 7397606.0, 7397606.0, 7397736.0], \"yaxis\": \"y\"}, {\"hovertemplate\": \"Neighbourhood=2<br>home_x=%{x}<br>home_y=%{y}<extra></extra>\", \"legendgroup\": \"2\", \"marker\": {\"color\": \"#00cc96\", \"symbol\": \"circle\"}, \"mode\": \"markers\", \"name\": \"2\", \"showlegend\": true, \"type\": \"scatter\", \"x\": [327156.0, 327156.0, 327412.0, 327412.0, 327412.0, 327362.0, 327393.0, 327315.0, 327315.0, 327156.0, 327393.0], \"xaxis\": \"x\", \"y\": [7397396.0, 7397396.0, 7397422.0, 7397422.0, 7397422.0, 7397349.0, 7397489.0, 7397229.0, 7397229.0, 7397396.0, 7397489.0], \"yaxis\": \"y\"}, {\"hovertemplate\": \"Neighbourhood=3<br>home_x=%{x}<br>home_y=%{y}<extra></extra>\", \"legendgroup\": \"3\", \"marker\": {\"color\": \"#ab63fa\", \"symbol\": \"circle\"}, \"mode\": \"markers\", \"name\": \"3\", \"showlegend\": true, \"type\": \"scatter\", \"x\": [326550.0, 326528.0, 326528.0, 326528.0, 326472.0, 326472.0, 326520.0, 326520.0, 326597.0, 326461.0, 326597.0, 326597.0, 326461.0, 326357.0], \"xaxis\": \"x\", \"y\": [7397067.0, 7397043.0, 7397043.0, 7397043.0, 7397363.0, 7397363.0, 7397226.0, 7397226.0, 7397123.0, 7397155.0, 7397123.0, 7397123.0, 7397155.0, 7397125.0], \"yaxis\": \"y\"}, {\"hovertemplate\": \"Neighbourhood=4<br>home_x=%{x}<br>home_y=%{y}<extra></extra>\", \"legendgroup\": \"4\", \"marker\": {\"color\": \"#FFA15A\", \"symbol\": \"circle\"}, \"mode\": \"markers\", \"name\": \"4\", \"showlegend\": true, \"type\": \"scatter\", \"x\": [325516.0, 325516.0, 325516.0, 325313.0, 325399.0, 325537.0, 325537.0], \"xaxis\": \"x\", \"y\": [7397370.0, 7397370.0, 7397370.0, 7397605.0, 7397524.0, 7397366.0, 7397366.0], \"yaxis\": \"y\"}, {\"hovertemplate\": \"Neighbourhood=5<br>home_x=%{x}<br>home_y=%{y}<extra></extra>\", \"legendgroup\": \"5\", \"marker\": {\"color\": \"#19d3f3\", \"symbol\": \"circle\"}, \"mode\": \"markers\", \"name\": \"5\", \"showlegend\": true, \"type\": \"scatter\", \"x\": [327226.0, 327226.0, 327072.0, 327176.0, 327234.0, 327072.0, 327234.0, 327072.0, 327176.0, 327226.0, 327234.0, 327176.0, 327176.0, 327226.0, 327226.0, 327095.0, 327095.0, 327095.0, 327095.0, 327226.0, 327072.0, 327234.0], \"xaxis\": \"x\", \"y\": [7397131.0, 7397131.0, 7397110.0, 7397061.0, 7397013.0, 7397110.0, 7397013.0, 7397110.0, 7397061.0, 7397131.0, 7397013.0, 7397061.0, 7397061.0, 7397131.0, 7397131.0, 7397130.0, 7397130.0, 7397130.0, 7397130.0, 7397131.0, 7397110.0, 7397013.0], \"yaxis\": \"y\"}, {\"hovertemplate\": \"Neighbourhood=6<br>home_x=%{x}<br>home_y=%{y}<extra></extra>\", \"legendgroup\": \"6\", \"marker\": {\"color\": \"#FF6692\", \"symbol\": \"circle\"}, \"mode\": \"markers\", \"name\": \"6\", \"showlegend\": true, \"type\": \"scatter\", \"x\": [326059.0, 326263.0, 326263.0, 326263.0, 326263.0, 326087.0, 326168.0, 326336.0, 326168.0], \"xaxis\": \"x\", \"y\": [7397472.0, 7397254.0, 7397254.0, 7397254.0, 7397254.0, 7397154.0, 7397267.0, 7397345.0, 7397267.0], \"yaxis\": \"y\"}, {\"hovertemplate\": \"Neighbourhood=7<br>home_x=%{x}<br>home_y=%{y}<extra></extra>\", \"legendgroup\": \"7\", \"marker\": {\"color\": \"#B6E880\", \"symbol\": \"circle\"}, \"mode\": \"markers\", \"name\": \"7\", \"showlegend\": true, \"type\": \"scatter\", \"x\": [327951.0, 327490.0, 327732.0, 327632.0, 327632.0, 327632.0, 327632.0, 327523.0, 327523.0], \"xaxis\": \"x\", \"y\": [7397287.0, 7397119.0, 7397485.0, 7397396.0, 7397396.0, 7397396.0, 7397396.0, 7397248.0, 7397248.0], \"yaxis\": \"y\"}, {\"hovertemplate\": \"Neighbourhood=8<br>home_x=%{x}<br>home_y=%{y}<extra></extra>\", \"legendgroup\": \"8\", \"marker\": {\"color\": \"#FF97FF\", \"symbol\": \"circle\"}, \"mode\": \"markers\", \"name\": \"8\", \"showlegend\": true, \"type\": \"scatter\", \"x\": [326492.0, 326406.0, 326492.0, 326863.0, 326863.0], \"xaxis\": \"x\", \"y\": [7397602.0, 7397549.0, 7397602.0, 7397572.0, 7397572.0], \"yaxis\": \"y\"}, {\"hovertemplate\": \"Neighbourhood=9<br>home_x=%{x}<br>home_y=%{y}<extra></extra>\", \"legendgroup\": \"9\", \"marker\": {\"color\": \"#FECB52\", \"symbol\": \"circle\"}, \"mode\": \"markers\", \"name\": \"9\", \"showlegend\": true, \"type\": \"scatter\", \"x\": [325881.0, 325881.0, 325881.0, 325981.0, 325981.0, 325805.0, 325805.0, 325881.0, 325881.0], \"xaxis\": \"x\", \"y\": [7397794.0, 7397794.0, 7397794.0, 7398060.0, 7398060.0, 7397959.0, 7397959.0, 7397794.0, 7397794.0], \"yaxis\": \"y\"}, {\"hovertemplate\": \"Neighbourhood=10<br>home_x=%{x}<br>home_y=%{y}<extra></extra>\", \"legendgroup\": \"10\", \"marker\": {\"color\": \"#636efa\", \"symbol\": \"circle\"}, \"mode\": \"markers\", \"name\": \"10\", \"showlegend\": true, \"type\": \"scatter\", \"x\": [325805.0, 325805.0, 325805.0, 325805.0, 325895.0, 325895.0], \"xaxis\": \"x\", \"y\": [7397149.0, 7397149.0, 7397149.0, 7397149.0, 7397227.0, 7397227.0], \"yaxis\": \"y\"}],\n",
       "                        {\"legend\": {\"title\": {\"text\": \"Neighbourhood\"}, \"tracegroupgap\": 0}, \"margin\": {\"t\": 60}, \"template\": {\"data\": {\"bar\": [{\"error_x\": {\"color\": \"#2a3f5f\"}, \"error_y\": {\"color\": \"#2a3f5f\"}, \"marker\": {\"line\": {\"color\": \"#E5ECF6\", \"width\": 0.5}}, \"type\": \"bar\"}], \"barpolar\": [{\"marker\": {\"line\": {\"color\": \"#E5ECF6\", \"width\": 0.5}}, \"type\": \"barpolar\"}], \"carpet\": [{\"aaxis\": {\"endlinecolor\": \"#2a3f5f\", \"gridcolor\": \"white\", \"linecolor\": \"white\", \"minorgridcolor\": \"white\", \"startlinecolor\": \"#2a3f5f\"}, \"baxis\": {\"endlinecolor\": \"#2a3f5f\", \"gridcolor\": \"white\", \"linecolor\": \"white\", \"minorgridcolor\": \"white\", \"startlinecolor\": \"#2a3f5f\"}, \"type\": \"carpet\"}], \"choropleth\": [{\"colorbar\": {\"outlinewidth\": 0, \"ticks\": \"\"}, \"type\": \"choropleth\"}], \"contour\": [{\"colorbar\": {\"outlinewidth\": 0, \"ticks\": \"\"}, \"colorscale\": [[0.0, \"#0d0887\"], [0.1111111111111111, \"#46039f\"], [0.2222222222222222, \"#7201a8\"], [0.3333333333333333, \"#9c179e\"], [0.4444444444444444, \"#bd3786\"], [0.5555555555555556, \"#d8576b\"], [0.6666666666666666, \"#ed7953\"], [0.7777777777777778, \"#fb9f3a\"], [0.8888888888888888, \"#fdca26\"], [1.0, \"#f0f921\"]], \"type\": \"contour\"}], \"contourcarpet\": [{\"colorbar\": {\"outlinewidth\": 0, \"ticks\": \"\"}, \"type\": \"contourcarpet\"}], \"heatmap\": [{\"colorbar\": {\"outlinewidth\": 0, \"ticks\": \"\"}, \"colorscale\": [[0.0, \"#0d0887\"], [0.1111111111111111, \"#46039f\"], [0.2222222222222222, \"#7201a8\"], [0.3333333333333333, \"#9c179e\"], [0.4444444444444444, \"#bd3786\"], [0.5555555555555556, \"#d8576b\"], [0.6666666666666666, \"#ed7953\"], [0.7777777777777778, \"#fb9f3a\"], [0.8888888888888888, \"#fdca26\"], [1.0, \"#f0f921\"]], \"type\": \"heatmap\"}], \"heatmapgl\": [{\"colorbar\": {\"outlinewidth\": 0, \"ticks\": \"\"}, \"colorscale\": [[0.0, \"#0d0887\"], [0.1111111111111111, \"#46039f\"], [0.2222222222222222, \"#7201a8\"], [0.3333333333333333, \"#9c179e\"], [0.4444444444444444, \"#bd3786\"], [0.5555555555555556, \"#d8576b\"], [0.6666666666666666, \"#ed7953\"], [0.7777777777777778, \"#fb9f3a\"], [0.8888888888888888, \"#fdca26\"], [1.0, \"#f0f921\"]], \"type\": \"heatmapgl\"}], \"histogram\": [{\"marker\": {\"colorbar\": {\"outlinewidth\": 0, \"ticks\": \"\"}}, \"type\": \"histogram\"}], \"histogram2d\": [{\"colorbar\": {\"outlinewidth\": 0, \"ticks\": \"\"}, \"colorscale\": [[0.0, \"#0d0887\"], [0.1111111111111111, \"#46039f\"], [0.2222222222222222, \"#7201a8\"], [0.3333333333333333, \"#9c179e\"], [0.4444444444444444, \"#bd3786\"], [0.5555555555555556, \"#d8576b\"], [0.6666666666666666, \"#ed7953\"], [0.7777777777777778, \"#fb9f3a\"], [0.8888888888888888, \"#fdca26\"], [1.0, \"#f0f921\"]], \"type\": \"histogram2d\"}], \"histogram2dcontour\": [{\"colorbar\": {\"outlinewidth\": 0, \"ticks\": \"\"}, \"colorscale\": [[0.0, \"#0d0887\"], [0.1111111111111111, \"#46039f\"], [0.2222222222222222, \"#7201a8\"], [0.3333333333333333, \"#9c179e\"], [0.4444444444444444, \"#bd3786\"], [0.5555555555555556, \"#d8576b\"], [0.6666666666666666, \"#ed7953\"], [0.7777777777777778, \"#fb9f3a\"], [0.8888888888888888, \"#fdca26\"], [1.0, \"#f0f921\"]], \"type\": \"histogram2dcontour\"}], \"mesh3d\": [{\"colorbar\": {\"outlinewidth\": 0, \"ticks\": \"\"}, \"type\": \"mesh3d\"}], \"parcoords\": [{\"line\": {\"colorbar\": {\"outlinewidth\": 0, \"ticks\": \"\"}}, \"type\": \"parcoords\"}], \"pie\": [{\"automargin\": true, \"type\": \"pie\"}], \"scatter\": [{\"marker\": {\"colorbar\": {\"outlinewidth\": 0, \"ticks\": \"\"}}, \"type\": \"scatter\"}], \"scatter3d\": [{\"line\": {\"colorbar\": {\"outlinewidth\": 0, \"ticks\": \"\"}}, \"marker\": {\"colorbar\": {\"outlinewidth\": 0, \"ticks\": \"\"}}, \"type\": \"scatter3d\"}], \"scattercarpet\": [{\"marker\": {\"colorbar\": {\"outlinewidth\": 0, \"ticks\": \"\"}}, \"type\": \"scattercarpet\"}], \"scattergeo\": [{\"marker\": {\"colorbar\": {\"outlinewidth\": 0, \"ticks\": \"\"}}, \"type\": \"scattergeo\"}], \"scattergl\": [{\"marker\": {\"colorbar\": {\"outlinewidth\": 0, \"ticks\": \"\"}}, \"type\": \"scattergl\"}], \"scattermapbox\": [{\"marker\": {\"colorbar\": {\"outlinewidth\": 0, \"ticks\": \"\"}}, \"type\": \"scattermapbox\"}], \"scatterpolar\": [{\"marker\": {\"colorbar\": {\"outlinewidth\": 0, \"ticks\": \"\"}}, \"type\": \"scatterpolar\"}], \"scatterpolargl\": [{\"marker\": {\"colorbar\": {\"outlinewidth\": 0, \"ticks\": \"\"}}, \"type\": \"scatterpolargl\"}], \"scatterternary\": [{\"marker\": {\"colorbar\": {\"outlinewidth\": 0, \"ticks\": \"\"}}, \"type\": \"scatterternary\"}], \"surface\": [{\"colorbar\": {\"outlinewidth\": 0, \"ticks\": \"\"}, \"colorscale\": [[0.0, \"#0d0887\"], [0.1111111111111111, \"#46039f\"], [0.2222222222222222, \"#7201a8\"], [0.3333333333333333, \"#9c179e\"], [0.4444444444444444, \"#bd3786\"], [0.5555555555555556, \"#d8576b\"], [0.6666666666666666, \"#ed7953\"], [0.7777777777777778, \"#fb9f3a\"], [0.8888888888888888, \"#fdca26\"], [1.0, \"#f0f921\"]], \"type\": \"surface\"}], \"table\": [{\"cells\": {\"fill\": {\"color\": \"#EBF0F8\"}, \"line\": {\"color\": \"white\"}}, \"header\": {\"fill\": {\"color\": \"#C8D4E3\"}, \"line\": {\"color\": \"white\"}}, \"type\": \"table\"}]}, \"layout\": {\"annotationdefaults\": {\"arrowcolor\": \"#2a3f5f\", \"arrowhead\": 0, \"arrowwidth\": 1}, \"coloraxis\": {\"colorbar\": {\"outlinewidth\": 0, \"ticks\": \"\"}}, \"colorscale\": {\"diverging\": [[0, \"#8e0152\"], [0.1, \"#c51b7d\"], [0.2, \"#de77ae\"], [0.3, \"#f1b6da\"], [0.4, \"#fde0ef\"], [0.5, \"#f7f7f7\"], [0.6, \"#e6f5d0\"], [0.7, \"#b8e186\"], [0.8, \"#7fbc41\"], [0.9, \"#4d9221\"], [1, \"#276419\"]], \"sequential\": [[0.0, \"#0d0887\"], [0.1111111111111111, \"#46039f\"], [0.2222222222222222, \"#7201a8\"], [0.3333333333333333, \"#9c179e\"], [0.4444444444444444, \"#bd3786\"], [0.5555555555555556, \"#d8576b\"], [0.6666666666666666, \"#ed7953\"], [0.7777777777777778, \"#fb9f3a\"], [0.8888888888888888, \"#fdca26\"], [1.0, \"#f0f921\"]], \"sequentialminus\": [[0.0, \"#0d0887\"], [0.1111111111111111, \"#46039f\"], [0.2222222222222222, \"#7201a8\"], [0.3333333333333333, \"#9c179e\"], [0.4444444444444444, \"#bd3786\"], [0.5555555555555556, \"#d8576b\"], [0.6666666666666666, \"#ed7953\"], [0.7777777777777778, \"#fb9f3a\"], [0.8888888888888888, \"#fdca26\"], [1.0, \"#f0f921\"]]}, \"colorway\": [\"#636efa\", \"#EF553B\", \"#00cc96\", \"#ab63fa\", \"#FFA15A\", \"#19d3f3\", \"#FF6692\", \"#B6E880\", \"#FF97FF\", \"#FECB52\"], \"font\": {\"color\": \"#2a3f5f\"}, \"geo\": {\"bgcolor\": \"white\", \"lakecolor\": \"white\", \"landcolor\": \"#E5ECF6\", \"showlakes\": true, \"showland\": true, \"subunitcolor\": \"white\"}, \"hoverlabel\": {\"align\": \"left\"}, \"hovermode\": \"closest\", \"mapbox\": {\"style\": \"light\"}, \"paper_bgcolor\": \"white\", \"plot_bgcolor\": \"#E5ECF6\", \"polar\": {\"angularaxis\": {\"gridcolor\": \"white\", \"linecolor\": \"white\", \"ticks\": \"\"}, \"bgcolor\": \"#E5ECF6\", \"radialaxis\": {\"gridcolor\": \"white\", \"linecolor\": \"white\", \"ticks\": \"\"}}, \"scene\": {\"xaxis\": {\"backgroundcolor\": \"#E5ECF6\", \"gridcolor\": \"white\", \"gridwidth\": 2, \"linecolor\": \"white\", \"showbackground\": true, \"ticks\": \"\", \"zerolinecolor\": \"white\"}, \"yaxis\": {\"backgroundcolor\": \"#E5ECF6\", \"gridcolor\": \"white\", \"gridwidth\": 2, \"linecolor\": \"white\", \"showbackground\": true, \"ticks\": \"\", \"zerolinecolor\": \"white\"}, \"zaxis\": {\"backgroundcolor\": \"#E5ECF6\", \"gridcolor\": \"white\", \"gridwidth\": 2, \"linecolor\": \"white\", \"showbackground\": true, \"ticks\": \"\", \"zerolinecolor\": \"white\"}}, \"shapedefaults\": {\"line\": {\"color\": \"#2a3f5f\"}}, \"ternary\": {\"aaxis\": {\"gridcolor\": \"white\", \"linecolor\": \"white\", \"ticks\": \"\"}, \"baxis\": {\"gridcolor\": \"white\", \"linecolor\": \"white\", \"ticks\": \"\"}, \"bgcolor\": \"#E5ECF6\", \"caxis\": {\"gridcolor\": \"white\", \"linecolor\": \"white\", \"ticks\": \"\"}}, \"title\": {\"x\": 0.05}, \"xaxis\": {\"automargin\": true, \"gridcolor\": \"white\", \"linecolor\": \"white\", \"ticks\": \"\", \"title\": {\"standoff\": 15}, \"zerolinecolor\": \"white\", \"zerolinewidth\": 2}, \"yaxis\": {\"automargin\": true, \"gridcolor\": \"white\", \"linecolor\": \"white\", \"ticks\": \"\", \"title\": {\"standoff\": 15}, \"zerolinecolor\": \"white\", \"zerolinewidth\": 2}}}, \"title\": {\"text\": \"Neighbourhoods - Zone 100\"}, \"xaxis\": {\"anchor\": \"y\", \"domain\": [0.0, 1.0], \"title\": {\"text\": \"home_x\"}}, \"yaxis\": {\"anchor\": \"x\", \"domain\": [0.0, 1.0], \"title\": {\"text\": \"home_y\"}}},\n",
       "                        {\"responsive\": true}\n",
       "                    ).then(function(){\n",
       "                            \n",
       "var gd = document.getElementById('4292a378-c806-4527-9c55-1f5e6a1dff83');\n",
       "var x = new MutationObserver(function (mutations, observer) {{\n",
       "        var display = window.getComputedStyle(gd).display;\n",
       "        if (!display || display === 'none') {{\n",
       "            console.log([gd, 'removed!']);\n",
       "            Plotly.purge(gd);\n",
       "            observer.disconnect();\n",
       "        }}\n",
       "}});\n",
       "\n",
       "// Listen for the removal of the full notebook cells\n",
       "var notebookContainer = gd.closest('#notebook-container');\n",
       "if (notebookContainer) {{\n",
       "    x.observe(notebookContainer, {childList: true});\n",
       "}}\n",
       "\n",
       "// Listen for the clearing of the current output cell\n",
       "var outputEl = gd.closest('.output');\n",
       "if (outputEl) {{\n",
       "    x.observe(outputEl, {childList: true});\n",
       "}}\n",
       "\n",
       "                        })\n",
       "                };\n",
       "                });\n",
       "            </script>\n",
       "        </div>"
      ]
     },
     "metadata": {},
     "output_type": "display_data"
    }
   ],
   "source": [
    "zone = 100\n",
    "zone_df = df[df['home'] == zone].sort_values(by='Neighbourhood')\n",
    "zone_df['Neighbourhood'] = zone_df['Neighbourhood'].astype(str)\n",
    "\n",
    "fig = px.scatter(zone_df, x='home_x', y='home_y', color='Neighbourhood')\n",
    "fig.update_layout(title=f'Neighbourhoods - Zone {zone}')"
   ]
  },
  {
   "cell_type": "code",
   "execution_count": 58,
   "metadata": {},
   "outputs": [
    {
     "data": {
      "application/vnd.plotly.v1+json": {
       "config": {
        "plotlyServerURL": "https://plot.ly"
       },
       "data": [
        {
         "hovertemplate": "Neighbourhood=0<br>home_x=%{x}<br>home_y=%{y}<extra></extra>",
         "legendgroup": "0",
         "marker": {
          "color": "#636efa",
          "symbol": "circle"
         },
         "mode": "markers",
         "name": "0",
         "showlegend": true,
         "type": "scatter",
         "x": [
          334514,
          334577,
          334577,
          334577,
          334577,
          334514
         ],
         "xaxis": "x",
         "y": [
          7390645,
          7390494,
          7390494,
          7390494,
          7390494,
          7390645
         ],
         "yaxis": "y"
        },
        {
         "hovertemplate": "Neighbourhood=1<br>home_x=%{x}<br>home_y=%{y}<extra></extra>",
         "legendgroup": "1",
         "marker": {
          "color": "#EF553B",
          "symbol": "circle"
         },
         "mode": "markers",
         "name": "1",
         "showlegend": true,
         "type": "scatter",
         "x": [
          334563,
          334563,
          334563,
          334579,
          334579,
          334579,
          334569,
          334569,
          334579
         ],
         "xaxis": "x",
         "y": [
          7391430,
          7391430,
          7391430,
          7391448,
          7391448,
          7391448,
          7391506,
          7391506,
          7391448
         ],
         "yaxis": "y"
        },
        {
         "hovertemplate": "Neighbourhood=2<br>home_x=%{x}<br>home_y=%{y}<extra></extra>",
         "legendgroup": "2",
         "marker": {
          "color": "#00cc96",
          "symbol": "circle"
         },
         "mode": "markers",
         "name": "2",
         "showlegend": true,
         "type": "scatter",
         "x": [
          334318,
          334281,
          334270,
          334345,
          334345,
          334345,
          334318,
          334270,
          334335,
          334335,
          334318,
          334296,
          334296,
          334318,
          334335,
          334318
         ],
         "xaxis": "x",
         "y": [
          7391035,
          7390996,
          7391032,
          7391068,
          7391068,
          7391068,
          7391035,
          7391032,
          7391018,
          7391018,
          7391035,
          7391101,
          7391101,
          7391035,
          7391018,
          7391035
         ],
         "yaxis": "y"
        },
        {
         "hovertemplate": "Neighbourhood=3<br>home_x=%{x}<br>home_y=%{y}<extra></extra>",
         "legendgroup": "3",
         "marker": {
          "color": "#ab63fa",
          "symbol": "circle"
         },
         "mode": "markers",
         "name": "3",
         "showlegend": true,
         "type": "scatter",
         "x": [
          335008,
          334945,
          334945,
          334927,
          334927,
          334943,
          334873,
          334927,
          334945,
          334945,
          334927,
          334945,
          335008,
          335008,
          335008
         ],
         "xaxis": "x",
         "y": [
          7391146,
          7391071,
          7391071,
          7391182,
          7391182,
          7391168,
          7391091,
          7391182,
          7391071,
          7391071,
          7391182,
          7391071,
          7391146,
          7391146,
          7391146
         ],
         "yaxis": "y"
        },
        {
         "hovertemplate": "Neighbourhood=4<br>home_x=%{x}<br>home_y=%{y}<extra></extra>",
         "legendgroup": "4",
         "marker": {
          "color": "#FFA15A",
          "symbol": "circle"
         },
         "mode": "markers",
         "name": "4",
         "showlegend": true,
         "type": "scatter",
         "x": [
          334044,
          334044,
          334102,
          333950,
          333950,
          334044,
          334044,
          334002,
          334060,
          334005,
          334005,
          334002,
          334002,
          334040,
          334040,
          334040,
          334060,
          334060,
          334005,
          334102,
          334102
         ],
         "xaxis": "x",
         "y": [
          7390871,
          7390871,
          7390921,
          7390895,
          7390895,
          7390871,
          7390871,
          7390935,
          7391037,
          7390948,
          7390948,
          7390935,
          7390935,
          7390975,
          7390975,
          7390975,
          7391037,
          7391037,
          7390948,
          7390921,
          7390921
         ],
         "yaxis": "y"
        },
        {
         "hovertemplate": "Neighbourhood=5<br>home_x=%{x}<br>home_y=%{y}<extra></extra>",
         "legendgroup": "5",
         "marker": {
          "color": "#19d3f3",
          "symbol": "circle"
         },
         "mode": "markers",
         "name": "5",
         "showlegend": true,
         "type": "scatter",
         "x": [
          334240,
          334358,
          334340,
          334340,
          334240,
          334358
         ],
         "xaxis": "x",
         "y": [
          7391526,
          7391376,
          7391449,
          7391449,
          7391526,
          7391376
         ],
         "yaxis": "y"
        },
        {
         "hovertemplate": "Neighbourhood=6<br>home_x=%{x}<br>home_y=%{y}<extra></extra>",
         "legendgroup": "6",
         "marker": {
          "color": "#FF6692",
          "symbol": "circle"
         },
         "mode": "markers",
         "name": "6",
         "showlegend": true,
         "type": "scatter",
         "x": [
          334789,
          334789,
          334789,
          334820,
          334820,
          334864,
          334864,
          334864,
          334864,
          334864,
          334864,
          334868,
          334864,
          334864
         ],
         "xaxis": "x",
         "y": [
          7391443,
          7391443,
          7391443,
          7391412,
          7391412,
          7391483,
          7391483,
          7391483,
          7391483,
          7391483,
          7391483,
          7391383,
          7391483,
          7391483
         ],
         "yaxis": "y"
        },
        {
         "hovertemplate": "Neighbourhood=7<br>home_x=%{x}<br>home_y=%{y}<extra></extra>",
         "legendgroup": "7",
         "marker": {
          "color": "#B6E880",
          "symbol": "circle"
         },
         "mode": "markers",
         "name": "7",
         "showlegend": true,
         "type": "scatter",
         "x": [
          334154,
          334153,
          334153,
          334153,
          334153,
          334154,
          334165,
          334165,
          334165,
          334165,
          334126,
          334126,
          334126,
          334154,
          334165,
          334154
         ],
         "xaxis": "x",
         "y": [
          7391269,
          7391389,
          7391389,
          7391389,
          7391389,
          7391269,
          7391337,
          7391337,
          7391337,
          7391337,
          7391169,
          7391169,
          7391169,
          7391269,
          7391337,
          7391269
         ],
         "yaxis": "y"
        },
        {
         "hovertemplate": "Neighbourhood=8<br>home_x=%{x}<br>home_y=%{y}<extra></extra>",
         "legendgroup": "8",
         "marker": {
          "color": "#FF97FF",
          "symbol": "circle"
         },
         "mode": "markers",
         "name": "8",
         "showlegend": true,
         "type": "scatter",
         "x": [
          334775,
          334780,
          334808,
          334808,
          334775
         ],
         "xaxis": "x",
         "y": [
          7390804,
          7390905,
          7390810,
          7390810,
          7390804
         ],
         "yaxis": "y"
        },
        {
         "hovertemplate": "Neighbourhood=9<br>home_x=%{x}<br>home_y=%{y}<extra></extra>",
         "legendgroup": "9",
         "marker": {
          "color": "#FECB52",
          "symbol": "circle"
         },
         "mode": "markers",
         "name": "9",
         "showlegend": true,
         "type": "scatter",
         "x": [
          334784,
          334784,
          334784,
          334707,
          334707,
          334568,
          334568,
          334784
         ],
         "xaxis": "x",
         "y": [
          7391009,
          7391009,
          7391009,
          7391093,
          7391093,
          7391015,
          7391015,
          7391009
         ],
         "yaxis": "y"
        },
        {
         "hovertemplate": "Neighbourhood=10<br>home_x=%{x}<br>home_y=%{y}<extra></extra>",
         "legendgroup": "10",
         "marker": {
          "color": "#636efa",
          "symbol": "circle"
         },
         "mode": "markers",
         "name": "10",
         "showlegend": true,
         "type": "scatter",
         "x": [
          334954,
          334954,
          334951,
          334951,
          334951,
          334951,
          334954,
          334954
         ],
         "xaxis": "x",
         "y": [
          7391322,
          7391322,
          7391317,
          7391317,
          7391317,
          7391317,
          7391322,
          7391322
         ],
         "yaxis": "y"
        },
        {
         "hovertemplate": "Neighbourhood=11<br>home_x=%{x}<br>home_y=%{y}<extra></extra>",
         "legendgroup": "11",
         "marker": {
          "color": "#EF553B",
          "symbol": "circle"
         },
         "mode": "markers",
         "name": "11",
         "showlegend": true,
         "type": "scatter",
         "x": [
          334374,
          334374,
          334374,
          334299,
          334469,
          334368,
          334368,
          334469,
          334469,
          334469,
          334368
         ],
         "xaxis": "x",
         "y": [
          7391238,
          7391238,
          7391238,
          7391237,
          7391185,
          7391173,
          7391173,
          7391185,
          7391185,
          7391185,
          7391173
         ],
         "yaxis": "y"
        },
        {
         "hovertemplate": "Neighbourhood=12<br>home_x=%{x}<br>home_y=%{y}<extra></extra>",
         "legendgroup": "12",
         "marker": {
          "color": "#00cc96",
          "symbol": "circle"
         },
         "mode": "markers",
         "name": "12",
         "showlegend": true,
         "type": "scatter",
         "x": [
          335121,
          335068,
          335068,
          335068,
          335068,
          335121,
          335068,
          335121,
          335068
         ],
         "xaxis": "x",
         "y": [
          7391269,
          7391258,
          7391258,
          7391258,
          7391258,
          7391269,
          7391258,
          7391269,
          7391258
         ],
         "yaxis": "y"
        },
        {
         "hovertemplate": "Neighbourhood=13<br>home_x=%{x}<br>home_y=%{y}<extra></extra>",
         "legendgroup": "13",
         "marker": {
          "color": "#ab63fa",
          "symbol": "circle"
         },
         "mode": "markers",
         "name": "13",
         "showlegend": true,
         "type": "scatter",
         "x": [
          334604,
          334695,
          334695,
          334604,
          334604,
          334604,
          334776,
          334695,
          334776
         ],
         "xaxis": "x",
         "y": [
          7391195,
          7391323,
          7391323,
          7391195,
          7391195,
          7391195,
          7391213,
          7391323,
          7391213
         ],
         "yaxis": "y"
        },
        {
         "hovertemplate": "Neighbourhood=14<br>home_x=%{x}<br>home_y=%{y}<extra></extra>",
         "legendgroup": "14",
         "marker": {
          "color": "#FFA15A",
          "symbol": "circle"
         },
         "mode": "markers",
         "name": "14",
         "showlegend": true,
         "type": "scatter",
         "x": [
          334275,
          334275,
          334275,
          334177
         ],
         "xaxis": "x",
         "y": [
          7390901,
          7390901,
          7390901,
          7390852
         ],
         "yaxis": "y"
        },
        {
         "hovertemplate": "Neighbourhood=15<br>home_x=%{x}<br>home_y=%{y}<extra></extra>",
         "legendgroup": "15",
         "marker": {
          "color": "#19d3f3",
          "symbol": "circle"
         },
         "mode": "markers",
         "name": "15",
         "showlegend": true,
         "type": "scatter",
         "x": [
          334466,
          334634,
          334634,
          334634,
          334634,
          334466,
          334634
         ],
         "xaxis": "x",
         "y": [
          7390782,
          7390762,
          7390762,
          7390762,
          7390762,
          7390782,
          7390762
         ],
         "yaxis": "y"
        }
       ],
       "layout": {
        "legend": {
         "title": {
          "text": "Neighbourhood"
         },
         "tracegroupgap": 0
        },
        "margin": {
         "t": 60
        },
        "template": {
         "data": {
          "bar": [
           {
            "error_x": {
             "color": "#2a3f5f"
            },
            "error_y": {
             "color": "#2a3f5f"
            },
            "marker": {
             "line": {
              "color": "#E5ECF6",
              "width": 0.5
             }
            },
            "type": "bar"
           }
          ],
          "barpolar": [
           {
            "marker": {
             "line": {
              "color": "#E5ECF6",
              "width": 0.5
             }
            },
            "type": "barpolar"
           }
          ],
          "carpet": [
           {
            "aaxis": {
             "endlinecolor": "#2a3f5f",
             "gridcolor": "white",
             "linecolor": "white",
             "minorgridcolor": "white",
             "startlinecolor": "#2a3f5f"
            },
            "baxis": {
             "endlinecolor": "#2a3f5f",
             "gridcolor": "white",
             "linecolor": "white",
             "minorgridcolor": "white",
             "startlinecolor": "#2a3f5f"
            },
            "type": "carpet"
           }
          ],
          "choropleth": [
           {
            "colorbar": {
             "outlinewidth": 0,
             "ticks": ""
            },
            "type": "choropleth"
           }
          ],
          "contour": [
           {
            "colorbar": {
             "outlinewidth": 0,
             "ticks": ""
            },
            "colorscale": [
             [
              0,
              "#0d0887"
             ],
             [
              0.1111111111111111,
              "#46039f"
             ],
             [
              0.2222222222222222,
              "#7201a8"
             ],
             [
              0.3333333333333333,
              "#9c179e"
             ],
             [
              0.4444444444444444,
              "#bd3786"
             ],
             [
              0.5555555555555556,
              "#d8576b"
             ],
             [
              0.6666666666666666,
              "#ed7953"
             ],
             [
              0.7777777777777778,
              "#fb9f3a"
             ],
             [
              0.8888888888888888,
              "#fdca26"
             ],
             [
              1,
              "#f0f921"
             ]
            ],
            "type": "contour"
           }
          ],
          "contourcarpet": [
           {
            "colorbar": {
             "outlinewidth": 0,
             "ticks": ""
            },
            "type": "contourcarpet"
           }
          ],
          "heatmap": [
           {
            "colorbar": {
             "outlinewidth": 0,
             "ticks": ""
            },
            "colorscale": [
             [
              0,
              "#0d0887"
             ],
             [
              0.1111111111111111,
              "#46039f"
             ],
             [
              0.2222222222222222,
              "#7201a8"
             ],
             [
              0.3333333333333333,
              "#9c179e"
             ],
             [
              0.4444444444444444,
              "#bd3786"
             ],
             [
              0.5555555555555556,
              "#d8576b"
             ],
             [
              0.6666666666666666,
              "#ed7953"
             ],
             [
              0.7777777777777778,
              "#fb9f3a"
             ],
             [
              0.8888888888888888,
              "#fdca26"
             ],
             [
              1,
              "#f0f921"
             ]
            ],
            "type": "heatmap"
           }
          ],
          "heatmapgl": [
           {
            "colorbar": {
             "outlinewidth": 0,
             "ticks": ""
            },
            "colorscale": [
             [
              0,
              "#0d0887"
             ],
             [
              0.1111111111111111,
              "#46039f"
             ],
             [
              0.2222222222222222,
              "#7201a8"
             ],
             [
              0.3333333333333333,
              "#9c179e"
             ],
             [
              0.4444444444444444,
              "#bd3786"
             ],
             [
              0.5555555555555556,
              "#d8576b"
             ],
             [
              0.6666666666666666,
              "#ed7953"
             ],
             [
              0.7777777777777778,
              "#fb9f3a"
             ],
             [
              0.8888888888888888,
              "#fdca26"
             ],
             [
              1,
              "#f0f921"
             ]
            ],
            "type": "heatmapgl"
           }
          ],
          "histogram": [
           {
            "marker": {
             "colorbar": {
              "outlinewidth": 0,
              "ticks": ""
             }
            },
            "type": "histogram"
           }
          ],
          "histogram2d": [
           {
            "colorbar": {
             "outlinewidth": 0,
             "ticks": ""
            },
            "colorscale": [
             [
              0,
              "#0d0887"
             ],
             [
              0.1111111111111111,
              "#46039f"
             ],
             [
              0.2222222222222222,
              "#7201a8"
             ],
             [
              0.3333333333333333,
              "#9c179e"
             ],
             [
              0.4444444444444444,
              "#bd3786"
             ],
             [
              0.5555555555555556,
              "#d8576b"
             ],
             [
              0.6666666666666666,
              "#ed7953"
             ],
             [
              0.7777777777777778,
              "#fb9f3a"
             ],
             [
              0.8888888888888888,
              "#fdca26"
             ],
             [
              1,
              "#f0f921"
             ]
            ],
            "type": "histogram2d"
           }
          ],
          "histogram2dcontour": [
           {
            "colorbar": {
             "outlinewidth": 0,
             "ticks": ""
            },
            "colorscale": [
             [
              0,
              "#0d0887"
             ],
             [
              0.1111111111111111,
              "#46039f"
             ],
             [
              0.2222222222222222,
              "#7201a8"
             ],
             [
              0.3333333333333333,
              "#9c179e"
             ],
             [
              0.4444444444444444,
              "#bd3786"
             ],
             [
              0.5555555555555556,
              "#d8576b"
             ],
             [
              0.6666666666666666,
              "#ed7953"
             ],
             [
              0.7777777777777778,
              "#fb9f3a"
             ],
             [
              0.8888888888888888,
              "#fdca26"
             ],
             [
              1,
              "#f0f921"
             ]
            ],
            "type": "histogram2dcontour"
           }
          ],
          "mesh3d": [
           {
            "colorbar": {
             "outlinewidth": 0,
             "ticks": ""
            },
            "type": "mesh3d"
           }
          ],
          "parcoords": [
           {
            "line": {
             "colorbar": {
              "outlinewidth": 0,
              "ticks": ""
             }
            },
            "type": "parcoords"
           }
          ],
          "pie": [
           {
            "automargin": true,
            "type": "pie"
           }
          ],
          "scatter": [
           {
            "marker": {
             "colorbar": {
              "outlinewidth": 0,
              "ticks": ""
             }
            },
            "type": "scatter"
           }
          ],
          "scatter3d": [
           {
            "line": {
             "colorbar": {
              "outlinewidth": 0,
              "ticks": ""
             }
            },
            "marker": {
             "colorbar": {
              "outlinewidth": 0,
              "ticks": ""
             }
            },
            "type": "scatter3d"
           }
          ],
          "scattercarpet": [
           {
            "marker": {
             "colorbar": {
              "outlinewidth": 0,
              "ticks": ""
             }
            },
            "type": "scattercarpet"
           }
          ],
          "scattergeo": [
           {
            "marker": {
             "colorbar": {
              "outlinewidth": 0,
              "ticks": ""
             }
            },
            "type": "scattergeo"
           }
          ],
          "scattergl": [
           {
            "marker": {
             "colorbar": {
              "outlinewidth": 0,
              "ticks": ""
             }
            },
            "type": "scattergl"
           }
          ],
          "scattermapbox": [
           {
            "marker": {
             "colorbar": {
              "outlinewidth": 0,
              "ticks": ""
             }
            },
            "type": "scattermapbox"
           }
          ],
          "scatterpolar": [
           {
            "marker": {
             "colorbar": {
              "outlinewidth": 0,
              "ticks": ""
             }
            },
            "type": "scatterpolar"
           }
          ],
          "scatterpolargl": [
           {
            "marker": {
             "colorbar": {
              "outlinewidth": 0,
              "ticks": ""
             }
            },
            "type": "scatterpolargl"
           }
          ],
          "scatterternary": [
           {
            "marker": {
             "colorbar": {
              "outlinewidth": 0,
              "ticks": ""
             }
            },
            "type": "scatterternary"
           }
          ],
          "surface": [
           {
            "colorbar": {
             "outlinewidth": 0,
             "ticks": ""
            },
            "colorscale": [
             [
              0,
              "#0d0887"
             ],
             [
              0.1111111111111111,
              "#46039f"
             ],
             [
              0.2222222222222222,
              "#7201a8"
             ],
             [
              0.3333333333333333,
              "#9c179e"
             ],
             [
              0.4444444444444444,
              "#bd3786"
             ],
             [
              0.5555555555555556,
              "#d8576b"
             ],
             [
              0.6666666666666666,
              "#ed7953"
             ],
             [
              0.7777777777777778,
              "#fb9f3a"
             ],
             [
              0.8888888888888888,
              "#fdca26"
             ],
             [
              1,
              "#f0f921"
             ]
            ],
            "type": "surface"
           }
          ],
          "table": [
           {
            "cells": {
             "fill": {
              "color": "#EBF0F8"
             },
             "line": {
              "color": "white"
             }
            },
            "header": {
             "fill": {
              "color": "#C8D4E3"
             },
             "line": {
              "color": "white"
             }
            },
            "type": "table"
           }
          ]
         },
         "layout": {
          "annotationdefaults": {
           "arrowcolor": "#2a3f5f",
           "arrowhead": 0,
           "arrowwidth": 1
          },
          "coloraxis": {
           "colorbar": {
            "outlinewidth": 0,
            "ticks": ""
           }
          },
          "colorscale": {
           "diverging": [
            [
             0,
             "#8e0152"
            ],
            [
             0.1,
             "#c51b7d"
            ],
            [
             0.2,
             "#de77ae"
            ],
            [
             0.3,
             "#f1b6da"
            ],
            [
             0.4,
             "#fde0ef"
            ],
            [
             0.5,
             "#f7f7f7"
            ],
            [
             0.6,
             "#e6f5d0"
            ],
            [
             0.7,
             "#b8e186"
            ],
            [
             0.8,
             "#7fbc41"
            ],
            [
             0.9,
             "#4d9221"
            ],
            [
             1,
             "#276419"
            ]
           ],
           "sequential": [
            [
             0,
             "#0d0887"
            ],
            [
             0.1111111111111111,
             "#46039f"
            ],
            [
             0.2222222222222222,
             "#7201a8"
            ],
            [
             0.3333333333333333,
             "#9c179e"
            ],
            [
             0.4444444444444444,
             "#bd3786"
            ],
            [
             0.5555555555555556,
             "#d8576b"
            ],
            [
             0.6666666666666666,
             "#ed7953"
            ],
            [
             0.7777777777777778,
             "#fb9f3a"
            ],
            [
             0.8888888888888888,
             "#fdca26"
            ],
            [
             1,
             "#f0f921"
            ]
           ],
           "sequentialminus": [
            [
             0,
             "#0d0887"
            ],
            [
             0.1111111111111111,
             "#46039f"
            ],
            [
             0.2222222222222222,
             "#7201a8"
            ],
            [
             0.3333333333333333,
             "#9c179e"
            ],
            [
             0.4444444444444444,
             "#bd3786"
            ],
            [
             0.5555555555555556,
             "#d8576b"
            ],
            [
             0.6666666666666666,
             "#ed7953"
            ],
            [
             0.7777777777777778,
             "#fb9f3a"
            ],
            [
             0.8888888888888888,
             "#fdca26"
            ],
            [
             1,
             "#f0f921"
            ]
           ]
          },
          "colorway": [
           "#636efa",
           "#EF553B",
           "#00cc96",
           "#ab63fa",
           "#FFA15A",
           "#19d3f3",
           "#FF6692",
           "#B6E880",
           "#FF97FF",
           "#FECB52"
          ],
          "font": {
           "color": "#2a3f5f"
          },
          "geo": {
           "bgcolor": "white",
           "lakecolor": "white",
           "landcolor": "#E5ECF6",
           "showlakes": true,
           "showland": true,
           "subunitcolor": "white"
          },
          "hoverlabel": {
           "align": "left"
          },
          "hovermode": "closest",
          "mapbox": {
           "style": "light"
          },
          "paper_bgcolor": "white",
          "plot_bgcolor": "#E5ECF6",
          "polar": {
           "angularaxis": {
            "gridcolor": "white",
            "linecolor": "white",
            "ticks": ""
           },
           "bgcolor": "#E5ECF6",
           "radialaxis": {
            "gridcolor": "white",
            "linecolor": "white",
            "ticks": ""
           }
          },
          "scene": {
           "xaxis": {
            "backgroundcolor": "#E5ECF6",
            "gridcolor": "white",
            "gridwidth": 2,
            "linecolor": "white",
            "showbackground": true,
            "ticks": "",
            "zerolinecolor": "white"
           },
           "yaxis": {
            "backgroundcolor": "#E5ECF6",
            "gridcolor": "white",
            "gridwidth": 2,
            "linecolor": "white",
            "showbackground": true,
            "ticks": "",
            "zerolinecolor": "white"
           },
           "zaxis": {
            "backgroundcolor": "#E5ECF6",
            "gridcolor": "white",
            "gridwidth": 2,
            "linecolor": "white",
            "showbackground": true,
            "ticks": "",
            "zerolinecolor": "white"
           }
          },
          "shapedefaults": {
           "line": {
            "color": "#2a3f5f"
           }
          },
          "ternary": {
           "aaxis": {
            "gridcolor": "white",
            "linecolor": "white",
            "ticks": ""
           },
           "baxis": {
            "gridcolor": "white",
            "linecolor": "white",
            "ticks": ""
           },
           "bgcolor": "#E5ECF6",
           "caxis": {
            "gridcolor": "white",
            "linecolor": "white",
            "ticks": ""
           }
          },
          "title": {
           "x": 0.05
          },
          "xaxis": {
           "automargin": true,
           "gridcolor": "white",
           "linecolor": "white",
           "ticks": "",
           "title": {
            "standoff": 15
           },
           "zerolinecolor": "white",
           "zerolinewidth": 2
          },
          "yaxis": {
           "automargin": true,
           "gridcolor": "white",
           "linecolor": "white",
           "ticks": "",
           "title": {
            "standoff": 15
           },
           "zerolinecolor": "white",
           "zerolinewidth": 2
          }
         }
        },
        "title": {
         "text": "Neighbourhoods - Zone 50"
        },
        "xaxis": {
         "anchor": "y",
         "domain": [
          0,
          1
         ],
         "title": {
          "text": "home_x"
         }
        },
        "yaxis": {
         "anchor": "x",
         "domain": [
          0,
          1
         ],
         "title": {
          "text": "home_y"
         }
        }
       }
      },
      "text/html": [
       "<div>\n",
       "        \n",
       "        \n",
       "            <div id=\"accb6ed4-6645-4ff0-9107-1fff4aa47c71\" class=\"plotly-graph-div\" style=\"height:525px; width:100%;\"></div>\n",
       "            <script type=\"text/javascript\">\n",
       "                require([\"plotly\"], function(Plotly) {\n",
       "                    window.PLOTLYENV=window.PLOTLYENV || {};\n",
       "                    \n",
       "                if (document.getElementById(\"accb6ed4-6645-4ff0-9107-1fff4aa47c71\")) {\n",
       "                    Plotly.newPlot(\n",
       "                        'accb6ed4-6645-4ff0-9107-1fff4aa47c71',\n",
       "                        [{\"hovertemplate\": \"Neighbourhood=0<br>home_x=%{x}<br>home_y=%{y}<extra></extra>\", \"legendgroup\": \"0\", \"marker\": {\"color\": \"#636efa\", \"symbol\": \"circle\"}, \"mode\": \"markers\", \"name\": \"0\", \"showlegend\": true, \"type\": \"scatter\", \"x\": [334514.0, 334577.0, 334577.0, 334577.0, 334577.0, 334514.0], \"xaxis\": \"x\", \"y\": [7390645.0, 7390494.0, 7390494.0, 7390494.0, 7390494.0, 7390645.0], \"yaxis\": \"y\"}, {\"hovertemplate\": \"Neighbourhood=1<br>home_x=%{x}<br>home_y=%{y}<extra></extra>\", \"legendgroup\": \"1\", \"marker\": {\"color\": \"#EF553B\", \"symbol\": \"circle\"}, \"mode\": \"markers\", \"name\": \"1\", \"showlegend\": true, \"type\": \"scatter\", \"x\": [334563.0, 334563.0, 334563.0, 334579.0, 334579.0, 334579.0, 334569.0, 334569.0, 334579.0], \"xaxis\": \"x\", \"y\": [7391430.0, 7391430.0, 7391430.0, 7391448.0, 7391448.0, 7391448.0, 7391506.0, 7391506.0, 7391448.0], \"yaxis\": \"y\"}, {\"hovertemplate\": \"Neighbourhood=2<br>home_x=%{x}<br>home_y=%{y}<extra></extra>\", \"legendgroup\": \"2\", \"marker\": {\"color\": \"#00cc96\", \"symbol\": \"circle\"}, \"mode\": \"markers\", \"name\": \"2\", \"showlegend\": true, \"type\": \"scatter\", \"x\": [334318.0, 334281.0, 334270.0, 334345.0, 334345.0, 334345.0, 334318.0, 334270.0, 334335.0, 334335.0, 334318.0, 334296.0, 334296.0, 334318.0, 334335.0, 334318.0], \"xaxis\": \"x\", \"y\": [7391035.0, 7390996.0, 7391032.0, 7391068.0, 7391068.0, 7391068.0, 7391035.0, 7391032.0, 7391018.0, 7391018.0, 7391035.0, 7391101.0, 7391101.0, 7391035.0, 7391018.0, 7391035.0], \"yaxis\": \"y\"}, {\"hovertemplate\": \"Neighbourhood=3<br>home_x=%{x}<br>home_y=%{y}<extra></extra>\", \"legendgroup\": \"3\", \"marker\": {\"color\": \"#ab63fa\", \"symbol\": \"circle\"}, \"mode\": \"markers\", \"name\": \"3\", \"showlegend\": true, \"type\": \"scatter\", \"x\": [335008.0, 334945.0, 334945.0, 334927.0, 334927.0, 334943.0, 334873.0, 334927.0, 334945.0, 334945.0, 334927.0, 334945.0, 335008.0, 335008.0, 335008.0], \"xaxis\": \"x\", \"y\": [7391146.0, 7391071.0, 7391071.0, 7391182.0, 7391182.0, 7391168.0, 7391091.0, 7391182.0, 7391071.0, 7391071.0, 7391182.0, 7391071.0, 7391146.0, 7391146.0, 7391146.0], \"yaxis\": \"y\"}, {\"hovertemplate\": \"Neighbourhood=4<br>home_x=%{x}<br>home_y=%{y}<extra></extra>\", \"legendgroup\": \"4\", \"marker\": {\"color\": \"#FFA15A\", \"symbol\": \"circle\"}, \"mode\": \"markers\", \"name\": \"4\", \"showlegend\": true, \"type\": \"scatter\", \"x\": [334044.0, 334044.0, 334102.0, 333950.0, 333950.0, 334044.0, 334044.0, 334002.0, 334060.0, 334005.0, 334005.0, 334002.0, 334002.0, 334040.0, 334040.0, 334040.0, 334060.0, 334060.0, 334005.0, 334102.0, 334102.0], \"xaxis\": \"x\", \"y\": [7390871.0, 7390871.0, 7390921.0, 7390895.0, 7390895.0, 7390871.0, 7390871.0, 7390935.0, 7391037.0, 7390948.0, 7390948.0, 7390935.0, 7390935.0, 7390975.0, 7390975.0, 7390975.0, 7391037.0, 7391037.0, 7390948.0, 7390921.0, 7390921.0], \"yaxis\": \"y\"}, {\"hovertemplate\": \"Neighbourhood=5<br>home_x=%{x}<br>home_y=%{y}<extra></extra>\", \"legendgroup\": \"5\", \"marker\": {\"color\": \"#19d3f3\", \"symbol\": \"circle\"}, \"mode\": \"markers\", \"name\": \"5\", \"showlegend\": true, \"type\": \"scatter\", \"x\": [334240.0, 334358.0, 334340.0, 334340.0, 334240.0, 334358.0], \"xaxis\": \"x\", \"y\": [7391526.0, 7391376.0, 7391449.0, 7391449.0, 7391526.0, 7391376.0], \"yaxis\": \"y\"}, {\"hovertemplate\": \"Neighbourhood=6<br>home_x=%{x}<br>home_y=%{y}<extra></extra>\", \"legendgroup\": \"6\", \"marker\": {\"color\": \"#FF6692\", \"symbol\": \"circle\"}, \"mode\": \"markers\", \"name\": \"6\", \"showlegend\": true, \"type\": \"scatter\", \"x\": [334789.0, 334789.0, 334789.0, 334820.0, 334820.0, 334864.0, 334864.0, 334864.0, 334864.0, 334864.0, 334864.0, 334868.0, 334864.0, 334864.0], \"xaxis\": \"x\", \"y\": [7391443.0, 7391443.0, 7391443.0, 7391412.0, 7391412.0, 7391483.0, 7391483.0, 7391483.0, 7391483.0, 7391483.0, 7391483.0, 7391383.0, 7391483.0, 7391483.0], \"yaxis\": \"y\"}, {\"hovertemplate\": \"Neighbourhood=7<br>home_x=%{x}<br>home_y=%{y}<extra></extra>\", \"legendgroup\": \"7\", \"marker\": {\"color\": \"#B6E880\", \"symbol\": \"circle\"}, \"mode\": \"markers\", \"name\": \"7\", \"showlegend\": true, \"type\": \"scatter\", \"x\": [334154.0, 334153.0, 334153.0, 334153.0, 334153.0, 334154.0, 334165.0, 334165.0, 334165.0, 334165.0, 334126.0, 334126.0, 334126.0, 334154.0, 334165.0, 334154.0], \"xaxis\": \"x\", \"y\": [7391269.0, 7391389.0, 7391389.0, 7391389.0, 7391389.0, 7391269.0, 7391337.0, 7391337.0, 7391337.0, 7391337.0, 7391169.0, 7391169.0, 7391169.0, 7391269.0, 7391337.0, 7391269.0], \"yaxis\": \"y\"}, {\"hovertemplate\": \"Neighbourhood=8<br>home_x=%{x}<br>home_y=%{y}<extra></extra>\", \"legendgroup\": \"8\", \"marker\": {\"color\": \"#FF97FF\", \"symbol\": \"circle\"}, \"mode\": \"markers\", \"name\": \"8\", \"showlegend\": true, \"type\": \"scatter\", \"x\": [334775.0, 334780.0, 334808.0, 334808.0, 334775.0], \"xaxis\": \"x\", \"y\": [7390804.0, 7390905.0, 7390810.0, 7390810.0, 7390804.0], \"yaxis\": \"y\"}, {\"hovertemplate\": \"Neighbourhood=9<br>home_x=%{x}<br>home_y=%{y}<extra></extra>\", \"legendgroup\": \"9\", \"marker\": {\"color\": \"#FECB52\", \"symbol\": \"circle\"}, \"mode\": \"markers\", \"name\": \"9\", \"showlegend\": true, \"type\": \"scatter\", \"x\": [334784.0, 334784.0, 334784.0, 334707.0, 334707.0, 334568.0, 334568.0, 334784.0], \"xaxis\": \"x\", \"y\": [7391009.0, 7391009.0, 7391009.0, 7391093.0, 7391093.0, 7391015.0, 7391015.0, 7391009.0], \"yaxis\": \"y\"}, {\"hovertemplate\": \"Neighbourhood=10<br>home_x=%{x}<br>home_y=%{y}<extra></extra>\", \"legendgroup\": \"10\", \"marker\": {\"color\": \"#636efa\", \"symbol\": \"circle\"}, \"mode\": \"markers\", \"name\": \"10\", \"showlegend\": true, \"type\": \"scatter\", \"x\": [334954.0, 334954.0, 334951.0, 334951.0, 334951.0, 334951.0, 334954.0, 334954.0], \"xaxis\": \"x\", \"y\": [7391322.0, 7391322.0, 7391317.0, 7391317.0, 7391317.0, 7391317.0, 7391322.0, 7391322.0], \"yaxis\": \"y\"}, {\"hovertemplate\": \"Neighbourhood=11<br>home_x=%{x}<br>home_y=%{y}<extra></extra>\", \"legendgroup\": \"11\", \"marker\": {\"color\": \"#EF553B\", \"symbol\": \"circle\"}, \"mode\": \"markers\", \"name\": \"11\", \"showlegend\": true, \"type\": \"scatter\", \"x\": [334374.0, 334374.0, 334374.0, 334299.0, 334469.0, 334368.0, 334368.0, 334469.0, 334469.0, 334469.0, 334368.0], \"xaxis\": \"x\", \"y\": [7391238.0, 7391238.0, 7391238.0, 7391237.0, 7391185.0, 7391173.0, 7391173.0, 7391185.0, 7391185.0, 7391185.0, 7391173.0], \"yaxis\": \"y\"}, {\"hovertemplate\": \"Neighbourhood=12<br>home_x=%{x}<br>home_y=%{y}<extra></extra>\", \"legendgroup\": \"12\", \"marker\": {\"color\": \"#00cc96\", \"symbol\": \"circle\"}, \"mode\": \"markers\", \"name\": \"12\", \"showlegend\": true, \"type\": \"scatter\", \"x\": [335121.0, 335068.0, 335068.0, 335068.0, 335068.0, 335121.0, 335068.0, 335121.0, 335068.0], \"xaxis\": \"x\", \"y\": [7391269.0, 7391258.0, 7391258.0, 7391258.0, 7391258.0, 7391269.0, 7391258.0, 7391269.0, 7391258.0], \"yaxis\": \"y\"}, {\"hovertemplate\": \"Neighbourhood=13<br>home_x=%{x}<br>home_y=%{y}<extra></extra>\", \"legendgroup\": \"13\", \"marker\": {\"color\": \"#ab63fa\", \"symbol\": \"circle\"}, \"mode\": \"markers\", \"name\": \"13\", \"showlegend\": true, \"type\": \"scatter\", \"x\": [334604.0, 334695.0, 334695.0, 334604.0, 334604.0, 334604.0, 334776.0, 334695.0, 334776.0], \"xaxis\": \"x\", \"y\": [7391195.0, 7391323.0, 7391323.0, 7391195.0, 7391195.0, 7391195.0, 7391213.0, 7391323.0, 7391213.0], \"yaxis\": \"y\"}, {\"hovertemplate\": \"Neighbourhood=14<br>home_x=%{x}<br>home_y=%{y}<extra></extra>\", \"legendgroup\": \"14\", \"marker\": {\"color\": \"#FFA15A\", \"symbol\": \"circle\"}, \"mode\": \"markers\", \"name\": \"14\", \"showlegend\": true, \"type\": \"scatter\", \"x\": [334275.0, 334275.0, 334275.0, 334177.0], \"xaxis\": \"x\", \"y\": [7390901.0, 7390901.0, 7390901.0, 7390852.0], \"yaxis\": \"y\"}, {\"hovertemplate\": \"Neighbourhood=15<br>home_x=%{x}<br>home_y=%{y}<extra></extra>\", \"legendgroup\": \"15\", \"marker\": {\"color\": \"#19d3f3\", \"symbol\": \"circle\"}, \"mode\": \"markers\", \"name\": \"15\", \"showlegend\": true, \"type\": \"scatter\", \"x\": [334466.0, 334634.0, 334634.0, 334634.0, 334634.0, 334466.0, 334634.0], \"xaxis\": \"x\", \"y\": [7390782.0, 7390762.0, 7390762.0, 7390762.0, 7390762.0, 7390782.0, 7390762.0], \"yaxis\": \"y\"}],\n",
       "                        {\"legend\": {\"title\": {\"text\": \"Neighbourhood\"}, \"tracegroupgap\": 0}, \"margin\": {\"t\": 60}, \"template\": {\"data\": {\"bar\": [{\"error_x\": {\"color\": \"#2a3f5f\"}, \"error_y\": {\"color\": \"#2a3f5f\"}, \"marker\": {\"line\": {\"color\": \"#E5ECF6\", \"width\": 0.5}}, \"type\": \"bar\"}], \"barpolar\": [{\"marker\": {\"line\": {\"color\": \"#E5ECF6\", \"width\": 0.5}}, \"type\": \"barpolar\"}], \"carpet\": [{\"aaxis\": {\"endlinecolor\": \"#2a3f5f\", \"gridcolor\": \"white\", \"linecolor\": \"white\", \"minorgridcolor\": \"white\", \"startlinecolor\": \"#2a3f5f\"}, \"baxis\": {\"endlinecolor\": \"#2a3f5f\", \"gridcolor\": \"white\", \"linecolor\": \"white\", \"minorgridcolor\": \"white\", \"startlinecolor\": \"#2a3f5f\"}, \"type\": \"carpet\"}], \"choropleth\": [{\"colorbar\": {\"outlinewidth\": 0, \"ticks\": \"\"}, \"type\": \"choropleth\"}], \"contour\": [{\"colorbar\": {\"outlinewidth\": 0, \"ticks\": \"\"}, \"colorscale\": [[0.0, \"#0d0887\"], [0.1111111111111111, \"#46039f\"], [0.2222222222222222, \"#7201a8\"], [0.3333333333333333, \"#9c179e\"], [0.4444444444444444, \"#bd3786\"], [0.5555555555555556, \"#d8576b\"], [0.6666666666666666, \"#ed7953\"], [0.7777777777777778, \"#fb9f3a\"], [0.8888888888888888, \"#fdca26\"], [1.0, \"#f0f921\"]], \"type\": \"contour\"}], \"contourcarpet\": [{\"colorbar\": {\"outlinewidth\": 0, \"ticks\": \"\"}, \"type\": \"contourcarpet\"}], \"heatmap\": [{\"colorbar\": {\"outlinewidth\": 0, \"ticks\": \"\"}, \"colorscale\": [[0.0, \"#0d0887\"], [0.1111111111111111, \"#46039f\"], [0.2222222222222222, \"#7201a8\"], [0.3333333333333333, \"#9c179e\"], [0.4444444444444444, \"#bd3786\"], [0.5555555555555556, \"#d8576b\"], [0.6666666666666666, \"#ed7953\"], [0.7777777777777778, \"#fb9f3a\"], [0.8888888888888888, \"#fdca26\"], [1.0, \"#f0f921\"]], \"type\": \"heatmap\"}], \"heatmapgl\": [{\"colorbar\": {\"outlinewidth\": 0, \"ticks\": \"\"}, \"colorscale\": [[0.0, \"#0d0887\"], [0.1111111111111111, \"#46039f\"], [0.2222222222222222, \"#7201a8\"], [0.3333333333333333, \"#9c179e\"], [0.4444444444444444, \"#bd3786\"], [0.5555555555555556, \"#d8576b\"], [0.6666666666666666, \"#ed7953\"], [0.7777777777777778, \"#fb9f3a\"], [0.8888888888888888, \"#fdca26\"], [1.0, \"#f0f921\"]], \"type\": \"heatmapgl\"}], \"histogram\": [{\"marker\": {\"colorbar\": {\"outlinewidth\": 0, \"ticks\": \"\"}}, \"type\": \"histogram\"}], \"histogram2d\": [{\"colorbar\": {\"outlinewidth\": 0, \"ticks\": \"\"}, \"colorscale\": [[0.0, \"#0d0887\"], [0.1111111111111111, \"#46039f\"], [0.2222222222222222, \"#7201a8\"], [0.3333333333333333, \"#9c179e\"], [0.4444444444444444, \"#bd3786\"], [0.5555555555555556, \"#d8576b\"], [0.6666666666666666, \"#ed7953\"], [0.7777777777777778, \"#fb9f3a\"], [0.8888888888888888, \"#fdca26\"], [1.0, \"#f0f921\"]], \"type\": \"histogram2d\"}], \"histogram2dcontour\": [{\"colorbar\": {\"outlinewidth\": 0, \"ticks\": \"\"}, \"colorscale\": [[0.0, \"#0d0887\"], [0.1111111111111111, \"#46039f\"], [0.2222222222222222, \"#7201a8\"], [0.3333333333333333, \"#9c179e\"], [0.4444444444444444, \"#bd3786\"], [0.5555555555555556, \"#d8576b\"], [0.6666666666666666, \"#ed7953\"], [0.7777777777777778, \"#fb9f3a\"], [0.8888888888888888, \"#fdca26\"], [1.0, \"#f0f921\"]], \"type\": \"histogram2dcontour\"}], \"mesh3d\": [{\"colorbar\": {\"outlinewidth\": 0, \"ticks\": \"\"}, \"type\": \"mesh3d\"}], \"parcoords\": [{\"line\": {\"colorbar\": {\"outlinewidth\": 0, \"ticks\": \"\"}}, \"type\": \"parcoords\"}], \"pie\": [{\"automargin\": true, \"type\": \"pie\"}], \"scatter\": [{\"marker\": {\"colorbar\": {\"outlinewidth\": 0, \"ticks\": \"\"}}, \"type\": \"scatter\"}], \"scatter3d\": [{\"line\": {\"colorbar\": {\"outlinewidth\": 0, \"ticks\": \"\"}}, \"marker\": {\"colorbar\": {\"outlinewidth\": 0, \"ticks\": \"\"}}, \"type\": \"scatter3d\"}], \"scattercarpet\": [{\"marker\": {\"colorbar\": {\"outlinewidth\": 0, \"ticks\": \"\"}}, \"type\": \"scattercarpet\"}], \"scattergeo\": [{\"marker\": {\"colorbar\": {\"outlinewidth\": 0, \"ticks\": \"\"}}, \"type\": \"scattergeo\"}], \"scattergl\": [{\"marker\": {\"colorbar\": {\"outlinewidth\": 0, \"ticks\": \"\"}}, \"type\": \"scattergl\"}], \"scattermapbox\": [{\"marker\": {\"colorbar\": {\"outlinewidth\": 0, \"ticks\": \"\"}}, \"type\": \"scattermapbox\"}], \"scatterpolar\": [{\"marker\": {\"colorbar\": {\"outlinewidth\": 0, \"ticks\": \"\"}}, \"type\": \"scatterpolar\"}], \"scatterpolargl\": [{\"marker\": {\"colorbar\": {\"outlinewidth\": 0, \"ticks\": \"\"}}, \"type\": \"scatterpolargl\"}], \"scatterternary\": [{\"marker\": {\"colorbar\": {\"outlinewidth\": 0, \"ticks\": \"\"}}, \"type\": \"scatterternary\"}], \"surface\": [{\"colorbar\": {\"outlinewidth\": 0, \"ticks\": \"\"}, \"colorscale\": [[0.0, \"#0d0887\"], [0.1111111111111111, \"#46039f\"], [0.2222222222222222, \"#7201a8\"], [0.3333333333333333, \"#9c179e\"], [0.4444444444444444, \"#bd3786\"], [0.5555555555555556, \"#d8576b\"], [0.6666666666666666, \"#ed7953\"], [0.7777777777777778, \"#fb9f3a\"], [0.8888888888888888, \"#fdca26\"], [1.0, \"#f0f921\"]], \"type\": \"surface\"}], \"table\": [{\"cells\": {\"fill\": {\"color\": \"#EBF0F8\"}, \"line\": {\"color\": \"white\"}}, \"header\": {\"fill\": {\"color\": \"#C8D4E3\"}, \"line\": {\"color\": \"white\"}}, \"type\": \"table\"}]}, \"layout\": {\"annotationdefaults\": {\"arrowcolor\": \"#2a3f5f\", \"arrowhead\": 0, \"arrowwidth\": 1}, \"coloraxis\": {\"colorbar\": {\"outlinewidth\": 0, \"ticks\": \"\"}}, \"colorscale\": {\"diverging\": [[0, \"#8e0152\"], [0.1, \"#c51b7d\"], [0.2, \"#de77ae\"], [0.3, \"#f1b6da\"], [0.4, \"#fde0ef\"], [0.5, \"#f7f7f7\"], [0.6, \"#e6f5d0\"], [0.7, \"#b8e186\"], [0.8, \"#7fbc41\"], [0.9, \"#4d9221\"], [1, \"#276419\"]], \"sequential\": [[0.0, \"#0d0887\"], [0.1111111111111111, \"#46039f\"], [0.2222222222222222, \"#7201a8\"], [0.3333333333333333, \"#9c179e\"], [0.4444444444444444, \"#bd3786\"], [0.5555555555555556, \"#d8576b\"], [0.6666666666666666, \"#ed7953\"], [0.7777777777777778, \"#fb9f3a\"], [0.8888888888888888, \"#fdca26\"], [1.0, \"#f0f921\"]], \"sequentialminus\": [[0.0, \"#0d0887\"], [0.1111111111111111, \"#46039f\"], [0.2222222222222222, \"#7201a8\"], [0.3333333333333333, \"#9c179e\"], [0.4444444444444444, \"#bd3786\"], [0.5555555555555556, \"#d8576b\"], [0.6666666666666666, \"#ed7953\"], [0.7777777777777778, \"#fb9f3a\"], [0.8888888888888888, \"#fdca26\"], [1.0, \"#f0f921\"]]}, \"colorway\": [\"#636efa\", \"#EF553B\", \"#00cc96\", \"#ab63fa\", \"#FFA15A\", \"#19d3f3\", \"#FF6692\", \"#B6E880\", \"#FF97FF\", \"#FECB52\"], \"font\": {\"color\": \"#2a3f5f\"}, \"geo\": {\"bgcolor\": \"white\", \"lakecolor\": \"white\", \"landcolor\": \"#E5ECF6\", \"showlakes\": true, \"showland\": true, \"subunitcolor\": \"white\"}, \"hoverlabel\": {\"align\": \"left\"}, \"hovermode\": \"closest\", \"mapbox\": {\"style\": \"light\"}, \"paper_bgcolor\": \"white\", \"plot_bgcolor\": \"#E5ECF6\", \"polar\": {\"angularaxis\": {\"gridcolor\": \"white\", \"linecolor\": \"white\", \"ticks\": \"\"}, \"bgcolor\": \"#E5ECF6\", \"radialaxis\": {\"gridcolor\": \"white\", \"linecolor\": \"white\", \"ticks\": \"\"}}, \"scene\": {\"xaxis\": {\"backgroundcolor\": \"#E5ECF6\", \"gridcolor\": \"white\", \"gridwidth\": 2, \"linecolor\": \"white\", \"showbackground\": true, \"ticks\": \"\", \"zerolinecolor\": \"white\"}, \"yaxis\": {\"backgroundcolor\": \"#E5ECF6\", \"gridcolor\": \"white\", \"gridwidth\": 2, \"linecolor\": \"white\", \"showbackground\": true, \"ticks\": \"\", \"zerolinecolor\": \"white\"}, \"zaxis\": {\"backgroundcolor\": \"#E5ECF6\", \"gridcolor\": \"white\", \"gridwidth\": 2, \"linecolor\": \"white\", \"showbackground\": true, \"ticks\": \"\", \"zerolinecolor\": \"white\"}}, \"shapedefaults\": {\"line\": {\"color\": \"#2a3f5f\"}}, \"ternary\": {\"aaxis\": {\"gridcolor\": \"white\", \"linecolor\": \"white\", \"ticks\": \"\"}, \"baxis\": {\"gridcolor\": \"white\", \"linecolor\": \"white\", \"ticks\": \"\"}, \"bgcolor\": \"#E5ECF6\", \"caxis\": {\"gridcolor\": \"white\", \"linecolor\": \"white\", \"ticks\": \"\"}}, \"title\": {\"x\": 0.05}, \"xaxis\": {\"automargin\": true, \"gridcolor\": \"white\", \"linecolor\": \"white\", \"ticks\": \"\", \"title\": {\"standoff\": 15}, \"zerolinecolor\": \"white\", \"zerolinewidth\": 2}, \"yaxis\": {\"automargin\": true, \"gridcolor\": \"white\", \"linecolor\": \"white\", \"ticks\": \"\", \"title\": {\"standoff\": 15}, \"zerolinecolor\": \"white\", \"zerolinewidth\": 2}}}, \"title\": {\"text\": \"Neighbourhoods - Zone 50\"}, \"xaxis\": {\"anchor\": \"y\", \"domain\": [0.0, 1.0], \"title\": {\"text\": \"home_x\"}}, \"yaxis\": {\"anchor\": \"x\", \"domain\": [0.0, 1.0], \"title\": {\"text\": \"home_y\"}}},\n",
       "                        {\"responsive\": true}\n",
       "                    ).then(function(){\n",
       "                            \n",
       "var gd = document.getElementById('accb6ed4-6645-4ff0-9107-1fff4aa47c71');\n",
       "var x = new MutationObserver(function (mutations, observer) {{\n",
       "        var display = window.getComputedStyle(gd).display;\n",
       "        if (!display || display === 'none') {{\n",
       "            console.log([gd, 'removed!']);\n",
       "            Plotly.purge(gd);\n",
       "            observer.disconnect();\n",
       "        }}\n",
       "}});\n",
       "\n",
       "// Listen for the removal of the full notebook cells\n",
       "var notebookContainer = gd.closest('#notebook-container');\n",
       "if (notebookContainer) {{\n",
       "    x.observe(notebookContainer, {childList: true});\n",
       "}}\n",
       "\n",
       "// Listen for the clearing of the current output cell\n",
       "var outputEl = gd.closest('.output');\n",
       "if (outputEl) {{\n",
       "    x.observe(outputEl, {childList: true});\n",
       "}}\n",
       "\n",
       "                        })\n",
       "                };\n",
       "                });\n",
       "            </script>\n",
       "        </div>"
      ]
     },
     "metadata": {},
     "output_type": "display_data"
    }
   ],
   "source": [
    "zone = 50\n",
    "zone_df = df[df['home'] == zone].sort_values(by='Neighbourhood')\n",
    "zone_df['Neighbourhood'] = zone_df['Neighbourhood'].astype(str)\n",
    "\n",
    "fig = px.scatter(zone_df, x='home_x', y='home_y', color='Neighbourhood')\n",
    "fig.update_layout(title=f'Neighbourhoods - Zone {zone}')"
   ]
  }
 ],
 "metadata": {
  "kernelspec": {
   "display_name": "Python 3",
   "language": "python",
   "name": "python3"
  },
  "language_info": {
   "codemirror_mode": {
    "name": "ipython",
    "version": 3
   },
   "file_extension": ".py",
   "mimetype": "text/x-python",
   "name": "python",
   "nbconvert_exporter": "python",
   "pygments_lexer": "ipython3",
   "version": "3.7.7"
  }
 },
 "nbformat": 4,
 "nbformat_minor": 4
}
