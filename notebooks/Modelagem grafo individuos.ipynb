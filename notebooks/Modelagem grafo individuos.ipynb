{
 "cells": [
  {
   "cell_type": "code",
   "execution_count": 10,
   "metadata": {},
   "outputs": [],
   "source": [
    "import pyreadstat\n",
    "import pandas as pd\n",
    "import numpy as np\n",
    "import networkx as nx\n",
    "import warnings\n",
    "import itertools\n",
    "from tqdm import tqdm"
   ]
  },
  {
   "cell_type": "code",
   "execution_count": 21,
   "metadata": {},
   "outputs": [],
   "source": [
    "df, meta = pyreadstat.read_sav(\"../data/raw/OD_2017.sav\")\n",
    "df.drop_duplicates(subset=['zona', 'zona_esc', 'zonatra1', 'id_pess'], inplace=True)"
   ]
  },
  {
   "cell_type": "code",
   "execution_count": 22,
   "metadata": {},
   "outputs": [],
   "source": [
    "df = df[df['muni_dom'] == 36]\n",
    "max_zona = int(df.zona.max())"
   ]
  },
  {
   "cell_type": "code",
   "execution_count": 30,
   "metadata": {},
   "outputs": [],
   "source": [
    "trab_esc = df[['zona', 'zona_esc', 'zonatra1', 'id_pess', 'id_dom']].copy()\n",
    "trab_esc.rename(columns={'zona':'home_zone',\n",
    "                        'zona_esc':'school',\n",
    "                        'zonatra1':'work',\n",
    "                        'id_pess': 'id', 'id_dom': 'house_id'}, inplace=True)\n",
    "\n",
    "trab_esc = trab_esc[~(trab_esc['work'] > max_zona) & \n",
    "        ~(trab_esc['school'] > max_zona) & ~(trab_esc['home_zone'] > max_zona)].reset_index(drop=True)"
   ]
  },
  {
   "cell_type": "code",
   "execution_count": 40,
   "metadata": {},
   "outputs": [],
   "source": [
    "def add_person_to_graph(G, person):\n",
    "    G.add_node(person['id'],\n",
    "               work = person['work'],\n",
    "               school = person['school'],\n",
    "               home = person['home_zone']\n",
    "    )    \n",
    "\n",
    "def add_people_to_graph(G, df):\n",
    "    df.apply(lambda x: add_person_to_graph(G, x), axis=1)\n",
    "    print('Adicionando Pessoas')\n",
    "    print(len(G.nodes))\n",
    "    print(len(G.edges))\n",
    "    print(50*'*')"
   ]
  },
  {
   "cell_type": "code",
   "execution_count": 32,
   "metadata": {},
   "outputs": [],
   "source": [
    "\n",
    "\n",
    "def add_houses_to_graph(G, trab_esc):\n",
    "    for h in tqdm(trab_esc['house_id'].unique()):\n",
    "        tmp = trab_esc[trab_esc['house_id'] == h]\n",
    "        zone = tmp['home_zone'].value_counts().index[0]\n",
    "        if len(tmp) > 1:\n",
    "            for p1, p2 in list(itertools.combinations(tmp['id'].values, 2)):\n",
    "                add_edge(G,p1, p2, 'house', zone)\n",
    "\n",
    "    print('Adicionando Vertices de Casas')\n",
    "    print(len(G.nodes))\n",
    "    print(len(G.edges))\n",
    "    print(50*'*')"
   ]
  },
  {
   "cell_type": "code",
   "execution_count": 33,
   "metadata": {},
   "outputs": [],
   "source": [
    "def add_work_to_graph(G, trab_esc):\n",
    "    for w in tqdm(trab_esc['work'].unique()):\n",
    "        if pd.notna(w):\n",
    "            tmp = trab_esc[trab_esc['work'] == w]\n",
    "            zone = tmp['work'].value_counts().index[0]\n",
    "\n",
    "            if len(tmp) > 1:\n",
    "                possible_combinations = np.array(list(itertools.combinations(tmp['id'].values, 2)))\n",
    "                size_comb = int(len(possible_combinations))\n",
    "                index_combs = np.random.choice(size_comb, size=int(size_comb*.05))\n",
    "                real_combs = possible_combinations[index_combs]        \n",
    "                for p1, p2 in real_combs:\n",
    "                    add_edge(G, p1, p2, 'work', zone)\n",
    "\n",
    "    print(len(G.nodes))\n",
    "    print(len(G.edges))\n",
    "    print(50*'*')"
   ]
  },
  {
   "cell_type": "code",
   "execution_count": 34,
   "metadata": {},
   "outputs": [],
   "source": [
    "def add_schools_to_graph(G, trab_esc):\n",
    "    for s in tqdm(trab_esc['school'].unique()):\n",
    "        if pd.notna(s):\n",
    "            tmp = trab_esc[trab_esc['school'] == s]\n",
    "            zone = tmp['school'].value_counts().index[0]\n",
    "\n",
    "            if len(tmp) > 1:\n",
    "                possible_combinations = np.array(list(itertools.combinations(tmp['id'].values, 2)))\n",
    "                size_comb = int(len(possible_combinations))\n",
    "                index_combs = np.random.choice(size_comb, size=int(size_comb*.25))\n",
    "                real_combs = possible_combinations[index_combs]        \n",
    "                for p1, p2 in real_combs:\n",
    "                    add_edge(G, p1, p2, 'school', zone)\n",
    "\n",
    "    print(len(G.nodes))\n",
    "    print(len(G.edges))\n",
    "    print(50*'*')"
   ]
  },
  {
   "cell_type": "code",
   "execution_count": 37,
   "metadata": {},
   "outputs": [
    {
     "name": "stderr",
     "output_type": "stream",
     "text": [
      "  0%|          | 22/21708 [00:00<01:38, 219.73it/s]"
     ]
    },
    {
     "name": "stdout",
     "output_type": "stream",
     "text": [
      "Adicionando Pessoas\n",
      "55492\n",
      "0\n",
      "**************************************************\n"
     ]
    },
    {
     "name": "stderr",
     "output_type": "stream",
     "text": [
      "100%|██████████| 21708/21708 [01:44<00:00, 208.10it/s]\n",
      "  1%|          | 3/339 [00:00<00:13, 25.38it/s]"
     ]
    },
    {
     "name": "stdout",
     "output_type": "stream",
     "text": [
      "Adicionando Vertices de Casas\n",
      "55492\n",
      "61634\n",
      "**************************************************\n"
     ]
    },
    {
     "name": "stderr",
     "output_type": "stream",
     "text": [
      "100%|██████████| 339/339 [00:01<00:00, 273.92it/s]\n",
      "  5%|▌         | 17/336 [00:00<00:01, 167.87it/s]"
     ]
    },
    {
     "name": "stdout",
     "output_type": "stream",
     "text": [
      "55492\n",
      "155840\n",
      "**************************************************\n"
     ]
    },
    {
     "name": "stderr",
     "output_type": "stream",
     "text": [
      "100%|██████████| 336/336 [00:00<00:00, 464.03it/s]\n"
     ]
    },
    {
     "name": "stdout",
     "output_type": "stream",
     "text": [
      "55492\n",
      "253546\n",
      "**************************************************\n"
     ]
    },
    {
     "name": "stderr",
     "output_type": "stream",
     "text": [
      "  0%|          | 21/21708 [00:00<01:43, 209.40it/s]"
     ]
    },
    {
     "name": "stdout",
     "output_type": "stream",
     "text": [
      "Adicionando Pessoas\n",
      "55492\n",
      "0\n",
      "**************************************************\n"
     ]
    },
    {
     "name": "stderr",
     "output_type": "stream",
     "text": [
      "100%|██████████| 21708/21708 [01:43<00:00, 209.50it/s]\n",
      "  2%|▏         | 8/339 [00:00<00:04, 77.56it/s]"
     ]
    },
    {
     "name": "stdout",
     "output_type": "stream",
     "text": [
      "Adicionando Vertices de Casas\n",
      "55492\n",
      "61634\n",
      "**************************************************\n"
     ]
    },
    {
     "name": "stderr",
     "output_type": "stream",
     "text": [
      "100%|██████████| 339/339 [00:01<00:00, 286.76it/s]\n",
      "  5%|▍         | 16/336 [00:00<00:02, 158.30it/s]"
     ]
    },
    {
     "name": "stdout",
     "output_type": "stream",
     "text": [
      "55492\n",
      "155695\n",
      "**************************************************\n"
     ]
    },
    {
     "name": "stderr",
     "output_type": "stream",
     "text": [
      "100%|██████████| 336/336 [00:00<00:00, 458.57it/s]\n"
     ]
    },
    {
     "name": "stdout",
     "output_type": "stream",
     "text": [
      "55492\n",
      "253574\n",
      "**************************************************\n"
     ]
    },
    {
     "name": "stderr",
     "output_type": "stream",
     "text": [
      "  0%|          | 23/21708 [00:00<01:35, 226.54it/s]"
     ]
    },
    {
     "name": "stdout",
     "output_type": "stream",
     "text": [
      "Adicionando Pessoas\n",
      "55492\n",
      "0\n",
      "**************************************************\n"
     ]
    },
    {
     "name": "stderr",
     "output_type": "stream",
     "text": [
      "100%|██████████| 21708/21708 [01:43<00:00, 208.99it/s]\n",
      "  2%|▏         | 8/339 [00:00<00:04, 79.47it/s]"
     ]
    },
    {
     "name": "stdout",
     "output_type": "stream",
     "text": [
      "Adicionando Vertices de Casas\n",
      "55492\n",
      "61634\n",
      "**************************************************\n"
     ]
    },
    {
     "name": "stderr",
     "output_type": "stream",
     "text": [
      "100%|██████████| 339/339 [00:01<00:00, 263.76it/s]\n",
      "  5%|▌         | 17/336 [00:00<00:01, 167.74it/s]"
     ]
    },
    {
     "name": "stdout",
     "output_type": "stream",
     "text": [
      "55492\n",
      "155818\n",
      "**************************************************\n"
     ]
    },
    {
     "name": "stderr",
     "output_type": "stream",
     "text": [
      "100%|██████████| 336/336 [00:00<00:00, 464.48it/s]"
     ]
    },
    {
     "name": "stdout",
     "output_type": "stream",
     "text": [
      "55492\n",
      "253324\n",
      "**************************************************\n"
     ]
    },
    {
     "name": "stderr",
     "output_type": "stream",
     "text": [
      "\n"
     ]
    }
   ],
   "source": [
    "def create_graph(trab_esc):\n",
    "    G = nx.Graph()\n",
    "    add_people_to_graph(G, trab_esc)\n",
    "    add_houses_to_graph(G, trab_esc)\n",
    "    add_work_to_graph(G, trab_esc)\n",
    "    add_schools_to_graph(G, trab_esc)\n",
    "    \n",
    "    return G\n",
    " \n",
    "    \n",
    "gs = [create_graph(trab_esc) for i in range(3)]\n",
    "#nx.write_gpickle(G, 'Grafo_Zonas_SP.gpickle')"
   ]
  },
  {
   "cell_type": "code",
   "execution_count": 38,
   "metadata": {},
   "outputs": [
    {
     "data": {
      "text/plain": [
       "<networkx.classes.graph.Graph at 0x7fd63c7c28d0>"
      ]
     },
     "execution_count": 38,
     "metadata": {},
     "output_type": "execute_result"
    }
   ],
   "source": [
    "gs[0].edges(data=True)"
   ]
  },
  {
   "cell_type": "code",
   "execution_count": null,
   "metadata": {},
   "outputs": [],
   "source": []
  },
  {
   "cell_type": "code",
   "execution_count": 45,
   "metadata": {},
   "outputs": [],
   "source": [
    "def add_edge(G, person1, person2, edge_type, edge_zone):\n",
    "        G.add_edge(person1, person2, edge_type=edge_type, zone=edge_zone)\n",
    "\n",
    "def add_relation_to_graph(G, df, relation, rewire_chance=1):\n",
    "    for rel in tqdm(df[relation].unique()):\n",
    "        if pd.notna(rel):\n",
    "            tmp = df[df[relation] == rel]\n",
    "            zone = tmp[relation].value_counts().index[0]\n",
    "\n",
    "            if len(tmp) > 1:\n",
    "                combinations = np.array(list(itertools.combinations(tmp['id'].values, 2)))\n",
    "                if rewire_chance < 1:\n",
    "                    size_combinations = int(len(combinations))\n",
    "                    size_sample = int(size_combinations*rewire_chance)\n",
    "                    index_combs = np.random.choice(size_combinations, size= size_sample)\n",
    "                    final_combs = combinations[index_combs]        \n",
    "                for p1, p2 in final_combs:\n",
    "                    add_edge(G, p1, p2, relation, zone)\n",
    "\n",
    "    print(len(G.nodes))\n",
    "    print(len(G.edges))\n",
    "    print(50*'*')\n",
    "    \n",
    "def add_houses_to_graph(G, df):\n",
    "    for h in tqdm(df['house_id'].unique()):\n",
    "        tmp = df[df['house_id'] == h]\n",
    "        zone = tmp['home_zone'].value_counts().index[0]\n",
    "        if len(tmp) > 1:\n",
    "            for p1, p2 in list(itertools.combinations(tmp['id'].values, 2)):\n",
    "                add_edge(G,p1, p2, 'house', zone)\n",
    "\n",
    "    print('Adicionando Vertices de Casas')\n",
    "    print(len(G.nodes))\n",
    "    print(len(G.edges))\n",
    "    print(50*'*')\n",
    "    \n",
    "def add_work_to_graph(G, df, rewire_chance=0.05):\n",
    "    return add_relation_to_graph(G, df, 'work', rewire_chance)\n",
    "\n",
    "\n",
    "def add_school_to_graph(G, df, rewire_chance=0.25):\n",
    "    return add_relation_to_graph(G, df, 'work', rewire_chance)\n",
    "\n",
    "def create_graph(df, seed=None):\n",
    "    np.random.seed(seed)\n",
    "\n",
    "    G = nx.Graph()\n",
    "    add_people_to_graph(G, df)\n",
    "    add_houses_to_graph(G, df)\n",
    "    add_work_to_graph(G, df)\n",
    "    add_schools_to_graph(G, df)\n",
    "    \n",
    "    return G"
   ]
  },
  {
   "cell_type": "code",
   "execution_count": 46,
   "metadata": {},
   "outputs": [
    {
     "name": "stderr",
     "output_type": "stream",
     "text": [
      "  0%|          | 23/21708 [00:00<01:37, 222.34it/s]"
     ]
    },
    {
     "name": "stdout",
     "output_type": "stream",
     "text": [
      "Adicionando Pessoas\n",
      "55492\n",
      "0\n",
      "**************************************************\n"
     ]
    },
    {
     "name": "stderr",
     "output_type": "stream",
     "text": [
      "100%|██████████| 21708/21708 [01:42<00:00, 210.77it/s]\n",
      "  2%|▏         | 7/339 [00:00<00:04, 67.79it/s]"
     ]
    },
    {
     "name": "stdout",
     "output_type": "stream",
     "text": [
      "Adicionando Vertices de Casas\n",
      "55492\n",
      "61634\n",
      "**************************************************\n"
     ]
    },
    {
     "name": "stderr",
     "output_type": "stream",
     "text": [
      "100%|██████████| 339/339 [00:01<00:00, 272.50it/s]\n",
      "  4%|▍         | 13/336 [00:00<00:02, 128.93it/s]"
     ]
    },
    {
     "name": "stdout",
     "output_type": "stream",
     "text": [
      "55492\n",
      "155885\n",
      "**************************************************\n"
     ]
    },
    {
     "name": "stderr",
     "output_type": "stream",
     "text": [
      "100%|██████████| 336/336 [00:00<00:00, 450.15it/s]\n"
     ]
    },
    {
     "name": "stdout",
     "output_type": "stream",
     "text": [
      "55492\n",
      "253670\n",
      "**************************************************\n"
     ]
    },
    {
     "name": "stderr",
     "output_type": "stream",
     "text": [
      "  0%|          | 45/21708 [00:00<01:39, 217.73it/s]"
     ]
    },
    {
     "name": "stdout",
     "output_type": "stream",
     "text": [
      "Adicionando Pessoas\n",
      "55492\n",
      "0\n",
      "**************************************************\n"
     ]
    },
    {
     "name": "stderr",
     "output_type": "stream",
     "text": [
      "100%|██████████| 21708/21708 [01:42<00:00, 211.46it/s]\n",
      "  2%|▏         | 7/339 [00:00<00:04, 67.60it/s]"
     ]
    },
    {
     "name": "stdout",
     "output_type": "stream",
     "text": [
      "Adicionando Vertices de Casas\n",
      "55492\n",
      "61634\n",
      "**************************************************\n"
     ]
    },
    {
     "name": "stderr",
     "output_type": "stream",
     "text": [
      "100%|██████████| 339/339 [00:01<00:00, 241.91it/s]\n",
      "  4%|▍         | 14/336 [00:00<00:02, 139.52it/s]"
     ]
    },
    {
     "name": "stdout",
     "output_type": "stream",
     "text": [
      "55492\n",
      "155803\n",
      "**************************************************\n"
     ]
    },
    {
     "name": "stderr",
     "output_type": "stream",
     "text": [
      "100%|██████████| 336/336 [00:00<00:00, 453.03it/s]\n"
     ]
    },
    {
     "name": "stdout",
     "output_type": "stream",
     "text": [
      "55492\n",
      "253545\n",
      "**************************************************\n"
     ]
    },
    {
     "name": "stderr",
     "output_type": "stream",
     "text": [
      "  0%|          | 20/21708 [00:00<01:51, 193.81it/s]"
     ]
    },
    {
     "name": "stdout",
     "output_type": "stream",
     "text": [
      "Adicionando Pessoas\n",
      "55492\n",
      "0\n",
      "**************************************************\n"
     ]
    },
    {
     "name": "stderr",
     "output_type": "stream",
     "text": [
      "100%|██████████| 21708/21708 [01:42<00:00, 211.56it/s]\n",
      "  2%|▏         | 7/339 [00:00<00:04, 68.48it/s]"
     ]
    },
    {
     "name": "stdout",
     "output_type": "stream",
     "text": [
      "Adicionando Vertices de Casas\n",
      "55492\n",
      "61634\n",
      "**************************************************\n"
     ]
    },
    {
     "name": "stderr",
     "output_type": "stream",
     "text": [
      "100%|██████████| 339/339 [00:01<00:00, 277.72it/s]\n",
      "  4%|▍         | 14/336 [00:00<00:02, 138.16it/s]"
     ]
    },
    {
     "name": "stdout",
     "output_type": "stream",
     "text": [
      "55492\n",
      "155725\n",
      "**************************************************\n"
     ]
    },
    {
     "name": "stderr",
     "output_type": "stream",
     "text": [
      "100%|██████████| 336/336 [00:00<00:00, 450.10it/s]"
     ]
    },
    {
     "name": "stdout",
     "output_type": "stream",
     "text": [
      "55492\n",
      "253536\n",
      "**************************************************\n"
     ]
    },
    {
     "name": "stderr",
     "output_type": "stream",
     "text": [
      "\n"
     ]
    }
   ],
   "source": [
    "GS = [create_graph(trab_esc) for i in range(3)]"
   ]
  },
  {
   "cell_type": "code",
   "execution_count": 56,
   "metadata": {},
   "outputs": [
    {
     "name": "stdout",
     "output_type": "stream",
     "text": [
      "('00010009102', '00020046103', {'edge_type': 'school', 'zone': 23.0})\n",
      "('00010009102', '01801479101', {'edge_type': 'school', 'zone': 23.0})\n",
      "False\n"
     ]
    }
   ],
   "source": [
    "# WITH NO SEED, different graphs have different edges\n",
    "print(list(GS[0].edges(data=True))[170])\n",
    "print(list(GS[1].edges(data=True))[170])\n",
    "print(list(GS[0].edges(data=True))[170] == list(GS[1].edges(data=True))[170])"
   ]
  },
  {
   "cell_type": "code",
   "execution_count": 60,
   "metadata": {
    "scrolled": false
   },
   "outputs": [
    {
     "name": "stderr",
     "output_type": "stream",
     "text": [
      "  0%|          | 45/21708 [00:00<01:39, 216.92it/s]"
     ]
    },
    {
     "name": "stdout",
     "output_type": "stream",
     "text": [
      "Adicionando Pessoas\n",
      "55492\n",
      "0\n",
      "**************************************************\n"
     ]
    },
    {
     "name": "stderr",
     "output_type": "stream",
     "text": [
      "100%|██████████| 21708/21708 [01:41<00:00, 213.64it/s]\n",
      "  2%|▏         | 7/339 [00:00<00:04, 69.06it/s]"
     ]
    },
    {
     "name": "stdout",
     "output_type": "stream",
     "text": [
      "Adicionando Vertices de Casas\n",
      "55492\n",
      "61634\n",
      "**************************************************\n"
     ]
    },
    {
     "name": "stderr",
     "output_type": "stream",
     "text": [
      "100%|██████████| 339/339 [00:01<00:00, 285.01it/s]\n",
      "  5%|▍         | 16/336 [00:00<00:02, 156.94it/s]"
     ]
    },
    {
     "name": "stdout",
     "output_type": "stream",
     "text": [
      "55492\n",
      "155855\n",
      "**************************************************\n"
     ]
    },
    {
     "name": "stderr",
     "output_type": "stream",
     "text": [
      "100%|██████████| 336/336 [00:00<00:00, 458.85it/s]\n"
     ]
    },
    {
     "name": "stdout",
     "output_type": "stream",
     "text": [
      "55492\n",
      "253580\n",
      "**************************************************\n"
     ]
    },
    {
     "name": "stderr",
     "output_type": "stream",
     "text": [
      "  0%|          | 46/21708 [00:00<01:37, 223.10it/s]"
     ]
    },
    {
     "name": "stdout",
     "output_type": "stream",
     "text": [
      "Adicionando Pessoas\n",
      "55492\n",
      "0\n",
      "**************************************************\n"
     ]
    },
    {
     "name": "stderr",
     "output_type": "stream",
     "text": [
      "100%|██████████| 21708/21708 [01:41<00:00, 213.51it/s]\n",
      "  2%|▏         | 7/339 [00:00<00:04, 66.75it/s]"
     ]
    },
    {
     "name": "stdout",
     "output_type": "stream",
     "text": [
      "Adicionando Vertices de Casas\n",
      "55492\n",
      "61634\n",
      "**************************************************\n"
     ]
    },
    {
     "name": "stderr",
     "output_type": "stream",
     "text": [
      "100%|██████████| 339/339 [00:01<00:00, 277.82it/s]\n",
      "  4%|▍         | 13/336 [00:00<00:02, 130.00it/s]"
     ]
    },
    {
     "name": "stdout",
     "output_type": "stream",
     "text": [
      "55492\n",
      "155855\n",
      "**************************************************\n"
     ]
    },
    {
     "name": "stderr",
     "output_type": "stream",
     "text": [
      "100%|██████████| 336/336 [00:00<00:00, 448.34it/s]\n"
     ]
    },
    {
     "name": "stdout",
     "output_type": "stream",
     "text": [
      "55492\n",
      "253580\n",
      "**************************************************\n"
     ]
    },
    {
     "name": "stderr",
     "output_type": "stream",
     "text": [
      "  0%|          | 23/21708 [00:00<01:35, 227.65it/s]"
     ]
    },
    {
     "name": "stdout",
     "output_type": "stream",
     "text": [
      "Adicionando Pessoas\n",
      "55492\n",
      "0\n",
      "**************************************************\n"
     ]
    },
    {
     "name": "stderr",
     "output_type": "stream",
     "text": [
      "100%|██████████| 21708/21708 [01:42<00:00, 211.09it/s]\n",
      "  2%|▏         | 7/339 [00:00<00:04, 66.84it/s]"
     ]
    },
    {
     "name": "stdout",
     "output_type": "stream",
     "text": [
      "Adicionando Vertices de Casas\n",
      "55492\n",
      "61634\n",
      "**************************************************\n"
     ]
    },
    {
     "name": "stderr",
     "output_type": "stream",
     "text": [
      "100%|██████████| 339/339 [00:01<00:00, 276.63it/s]\n",
      "  4%|▍         | 13/336 [00:00<00:02, 129.73it/s]"
     ]
    },
    {
     "name": "stdout",
     "output_type": "stream",
     "text": [
      "55492\n",
      "155855\n",
      "**************************************************\n"
     ]
    },
    {
     "name": "stderr",
     "output_type": "stream",
     "text": [
      "100%|██████████| 336/336 [00:00<00:00, 448.27it/s]"
     ]
    },
    {
     "name": "stdout",
     "output_type": "stream",
     "text": [
      "55492\n",
      "253580\n",
      "**************************************************\n"
     ]
    },
    {
     "name": "stderr",
     "output_type": "stream",
     "text": [
      "\n"
     ]
    }
   ],
   "source": [
    "GS_seeded = [create_graph(trab_esc, seed=420) for i in range(3)]"
   ]
  },
  {
   "cell_type": "code",
   "execution_count": 61,
   "metadata": {},
   "outputs": [
    {
     "name": "stdout",
     "output_type": "stream",
     "text": [
      "('00010013101', '02540498103', {'edge_type': 'work', 'zone': 3.0})\n",
      "('00010013101', '02540498103', {'edge_type': 'work', 'zone': 3.0})\n",
      "True\n"
     ]
    }
   ],
   "source": [
    "# WITH NO SEED, different graphs have different edges\n",
    "print(list(GS_seeded[0].edges(data=True))[170])\n",
    "print(list(GS_seeded[1].edges(data=True))[170])\n",
    "print(list(GS_seeded[0].edges(data=True))[170] == list(GS_seeded[1].edges(data=True))[170])"
   ]
  }
 ],
 "metadata": {
  "kernelspec": {
   "display_name": "Python 3",
   "language": "python",
   "name": "python3"
  },
  "language_info": {
   "codemirror_mode": {
    "name": "ipython",
    "version": 3
   },
   "file_extension": ".py",
   "mimetype": "text/x-python",
   "name": "python",
   "nbconvert_exporter": "python",
   "pygments_lexer": "ipython3",
   "version": "3.7.7"
  }
 },
 "nbformat": 4,
 "nbformat_minor": 4
}
