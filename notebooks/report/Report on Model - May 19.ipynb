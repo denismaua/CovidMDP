{
 "cells": [
  {
   "cell_type": "markdown",
   "metadata": {},
   "source": [
    "# Covid Model for the City of São Paulo\n",
    "\n",
    "\n",
    "# Disease Progression \n",
    "\n",
    "![disease_progression.png](disease_progression.png)\n",
    "\n",
    "\n",
    "# Spread Model\n",
    "\n",
    "![infection_graph.png](infection_graph.png)\n",
    "\n",
    "\n",
    "# Graph Model Based on Demographic Survey\n",
    "\n",
    "![node_diagram.png](node_diagram.png)\n",
    "\n"
   ]
  },
  {
   "cell_type": "markdown",
   "metadata": {},
   "source": [
    "# Policies\n",
    "\n",
    "# No Restriction Policy\n",
    "\n",
    "![SPnetwork-NoRestrictions.png](SPnetwork-NoRestrictions.png)\n",
    "![HospitalBeds-NoRestrictions.png](HospitalBeds-NoRestrictions.png)\n",
    "\n",
    "\n",
    "\n",
    "# Lockdown\n",
    "\n",
    "![SPnetwork-fully_restricted.png](SPnetwork-fully_restricted.png)\n",
    "![HospitalBeds-fully_restricted.png](HospitalBeds-fully_restricted.png)\n",
    "\n",
    "\n",
    "# Model\n",
    "\n",
    "![SPnetwork-policy.png](SPnetwork-policy.png)\n",
    "![HospitalBeds-fully_policy.png](HospitalBeds-policy.png)"
   ]
  }
 ],
 "metadata": {
  "kernelspec": {
   "display_name": "Python 3",
   "language": "python",
   "name": "python3"
  },
  "language_info": {
   "codemirror_mode": {
    "name": "ipython",
    "version": 3
   },
   "file_extension": ".py",
   "mimetype": "text/x-python",
   "name": "python",
   "nbconvert_exporter": "python",
   "pygments_lexer": "ipython3",
   "version": "3.7.7"
  }
 },
 "nbformat": 4,
 "nbformat_minor": 4
}
