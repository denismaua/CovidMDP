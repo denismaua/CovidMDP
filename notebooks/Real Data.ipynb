{
 "cells": [
  {
   "cell_type": "code",
   "execution_count": 81,
   "metadata": {},
   "outputs": [],
   "source": [
    "import pandas as pd\n",
    "import matplotlib.pyplot as plt\n",
    "from datetime import datetime"
   ]
  },
  {
   "cell_type": "code",
   "execution_count": 7,
   "metadata": {},
   "outputs": [],
   "source": [
    "# data from https://data.humdata.org/dataset/novel-coronavirus-2019-ncov-cases\n",
    "\n",
    "confirmed = pd.read_csv('..\\\\data\\\\raw\\\\humdata\\\\time_series_covid19_confirmed_global.csv')\n",
    "deaths = pd.read_csv('..\\\\data\\\\raw\\\\humdata\\\\time_series_covid19_deaths_global.csv')\n",
    "recovered = pd.read_csv('..\\\\data\\\\raw\\\\humdata\\\\time_series_covid19_recovered_global.csv')"
   ]
  },
  {
   "cell_type": "code",
   "execution_count": 49,
   "metadata": {},
   "outputs": [
    {
     "data": {
      "text/plain": [
       "array(['Afghanistan', 'Albania', 'Algeria', 'Andorra', 'Angola',\n",
       "       'Antigua and Barbuda', 'Argentina', 'Armenia', 'Australia',\n",
       "       'Austria', 'Azerbaijan', 'Bahamas', 'Bahrain', 'Bangladesh',\n",
       "       'Barbados', 'Belarus', 'Belgium', 'Benin', 'Bhutan', 'Bolivia',\n",
       "       'Bosnia and Herzegovina', 'Brazil', 'Brunei', 'Bulgaria',\n",
       "       'Burkina Faso', 'Cabo Verde', 'Cambodia', 'Cameroon', 'Canada',\n",
       "       'Central African Republic', 'Chad', 'Chile', 'China', 'Colombia',\n",
       "       'Congo (Brazzaville)', 'Congo (Kinshasa)', 'Costa Rica',\n",
       "       \"Cote d'Ivoire\", 'Croatia', 'Diamond Princess', 'Cuba', 'Cyprus',\n",
       "       'Czechia', 'Denmark', 'Djibouti', 'Dominican Republic', 'Ecuador',\n",
       "       'Egypt', 'El Salvador', 'Equatorial Guinea', 'Eritrea', 'Estonia',\n",
       "       'Eswatini', 'Ethiopia', 'Fiji', 'Finland', 'France', 'Gabon',\n",
       "       'Gambia', 'Georgia', 'Germany', 'Ghana', 'Greece', 'Guatemala',\n",
       "       'Guinea', 'Guyana', 'Haiti', 'Holy See', 'Honduras', 'Hungary',\n",
       "       'Iceland', 'India', 'Indonesia', 'Iran', 'Iraq', 'Ireland',\n",
       "       'Israel', 'Italy', 'Jamaica', 'Japan', 'Jordan', 'Kazakhstan',\n",
       "       'Kenya', 'Korea, South', 'Kuwait', 'Kyrgyzstan', 'Latvia',\n",
       "       'Lebanon', 'Liberia', 'Liechtenstein', 'Lithuania', 'Luxembourg',\n",
       "       'Madagascar', 'Malaysia', 'Maldives', 'Malta', 'Mauritania',\n",
       "       'Mauritius', 'Mexico', 'Moldova', 'Monaco', 'Mongolia',\n",
       "       'Montenegro', 'Morocco', 'Namibia', 'Nepal', 'Netherlands',\n",
       "       'New Zealand', 'Nicaragua', 'Niger', 'Nigeria', 'North Macedonia',\n",
       "       'Norway', 'Oman', 'Pakistan', 'Panama', 'Papua New Guinea',\n",
       "       'Paraguay', 'Peru', 'Philippines', 'Poland', 'Portugal', 'Qatar',\n",
       "       'Romania', 'Russia', 'Rwanda', 'Saint Lucia',\n",
       "       'Saint Vincent and the Grenadines', 'San Marino', 'Saudi Arabia',\n",
       "       'Senegal', 'Serbia', 'Seychelles', 'Singapore', 'Slovakia',\n",
       "       'Slovenia', 'Somalia', 'South Africa', 'Spain', 'Sri Lanka',\n",
       "       'Sudan', 'Suriname', 'Sweden', 'Switzerland', 'Taiwan*',\n",
       "       'Tanzania', 'Thailand', 'Togo', 'Trinidad and Tobago', 'Tunisia',\n",
       "       'Turkey', 'Uganda', 'Ukraine', 'United Arab Emirates',\n",
       "       'United Kingdom', 'Uruguay', 'US', 'Uzbekistan', 'Venezuela',\n",
       "       'Vietnam', 'Zambia', 'Zimbabwe', 'Dominica', 'Grenada',\n",
       "       'Mozambique', 'Syria', 'Timor-Leste', 'Belize', 'Laos', 'Libya',\n",
       "       'West Bank and Gaza', 'Guinea-Bissau', 'Mali',\n",
       "       'Saint Kitts and Nevis', 'Kosovo', 'Burma', 'MS Zaandam',\n",
       "       'Botswana', 'Burundi', 'Sierra Leone', 'Malawi', 'South Sudan',\n",
       "       'Western Sahara', 'Sao Tome and Principe', 'Yemen'], dtype=object)"
      ]
     },
     "execution_count": 49,
     "metadata": {},
     "output_type": "execute_result"
    }
   ],
   "source": [
    "confirmed['Country/Region'].unique()"
   ]
  },
  {
   "cell_type": "code",
   "execution_count": 43,
   "metadata": {},
   "outputs": [],
   "source": [
    "def get_beta_and_gamma(time_series):\n",
    "    \"\"\"\n",
    "    \n",
    "    \"\"\"\n",
    "    def gamma_t(current_t, next_t): \n",
    "        return (next_t['recovered'] - current_t['recovered'])/current_t['infected']\n",
    "    \n",
    "    def beta_t(current_t, next_t):\n",
    "        return (next_t['infected']-current_t['infected']+next_t['recovered']-current_t['recovered'])/current_t['infected']\n",
    "    \n",
    "    tmp = pd.concat([time_series, time_series.shift(-1)], axis=1)\n",
    "    \n",
    "    time_series['gamma'] = tmp.apply(lambda x: gamma_t(x[:int(len(x)/2)], x[int(len(x)/2):]), axis=1)\n",
    "    time_series['beta'] = tmp.apply(lambda x: beta_t(x[:int(len(x)/2)], x[int(len(x)/2):]), axis=1)\n",
    "    \n",
    "    return time_series"
   ]
  },
  {
   "cell_type": "code",
   "execution_count": 82,
   "metadata": {},
   "outputs": [],
   "source": [
    "def make_dataframe(country):\n",
    "\n",
    "    df = confirmed[confirmed['Country/Region'] == country]\n",
    "    df = df.drop(columns = ['Province/State', 'Country/Region', 'Lat', 'Long']).T\n",
    "    df.columns = ['confirmed']\n",
    "\n",
    "    tmp = deaths[deaths['Country/Region'] == country]\n",
    "    tmp = tmp.drop(columns = ['Province/State', 'Country/Region', 'Lat', 'Long']).T\n",
    "    tmp.columns = ['dead']\n",
    "\n",
    "    df['dead'] = tmp['dead']\n",
    "\n",
    "    tmp = recovered[recovered['Country/Region'] == country]\n",
    "    tmp = tmp.drop(columns = ['Province/State', 'Country/Region', 'Lat', 'Long']).T\n",
    "    tmp.columns = ['recovered']\n",
    "\n",
    "    df['recovered'] = tmp['recovered']\n",
    "\n",
    "\n",
    "    df = df[df['confirmed'] >= 100]\n",
    "    \n",
    "    df.index = pd.to_datetime(df.index.to_series()).values\n",
    "    df = df.reset_index().rename(columns={'index':'date', 'confirmed':'infected'})\n",
    "    \n",
    "    df = df[df.date >= datetime(2020, 4,1)]\n",
    "    df['recovered'] = df['recovered'] + df['dead']\n",
    "    \n",
    "    df = get_beta_and_gamma(df)\n",
    "    \n",
    "    df['R0_t'] = df['beta'] / df['gamma']\n",
    "    \n",
    "    return  df.drop(columns=['dead'])"
   ]
  },
  {
   "cell_type": "code",
   "execution_count": 83,
   "metadata": {
    "scrolled": true
   },
   "outputs": [
    {
     "data": {
      "text/plain": [
       "[<matplotlib.lines.Line2D at 0x1f32c6647c8>]"
      ]
     },
     "execution_count": 83,
     "metadata": {},
     "output_type": "execute_result"
    },
    {
     "data": {
      "image/png": "[encoded data removed]",
      "text/plain": [
       "<Figure size 432x288 with 1 Axes>"
      ]
     },
     "metadata": {
      "needs_background": "light"
     },
     "output_type": "display_data"
    }
   ],
   "source": [
    "df = make_dataframe('Korea, South')\n",
    "plt.plot(df['date'], df['infected'])"
   ]
  },
  {
   "cell_type": "code",
   "execution_count": 84,
   "metadata": {
    "scrolled": true
   },
   "outputs": [
    {
     "data": {
      "text/html": [
       "<div>\n",
       "<style scoped>\n",
       "    .dataframe tbody tr th:only-of-type {\n",
       "        vertical-align: middle;\n",
       "    }\n",
       "\n",
       "    .dataframe tbody tr th {\n",
       "        vertical-align: top;\n",
       "    }\n",
       "\n",
       "    .dataframe thead th {\n",
       "        text-align: right;\n",
       "    }\n",
       "</style>\n",
       "<table border=\"1\" class=\"dataframe\">\n",
       "  <thead>\n",
       "    <tr style=\"text-align: right;\">\n",
       "      <th></th>\n",
       "      <th>infected</th>\n",
       "      <th>recovered</th>\n",
       "      <th>gamma</th>\n",
       "      <th>beta</th>\n",
       "      <th>R0_t</th>\n",
       "    </tr>\n",
       "  </thead>\n",
       "  <tbody>\n",
       "    <tr>\n",
       "      <th>count</th>\n",
       "      <td>23.00000</td>\n",
       "      <td>23.000000</td>\n",
       "      <td>22.000000</td>\n",
       "      <td>22.000000</td>\n",
       "      <td>22.000000</td>\n",
       "    </tr>\n",
       "    <tr>\n",
       "      <th>mean</th>\n",
       "      <td>10443.26087</td>\n",
       "      <td>7437.521739</td>\n",
       "      <td>0.013210</td>\n",
       "      <td>0.016846</td>\n",
       "      <td>1.272387</td>\n",
       "    </tr>\n",
       "    <tr>\n",
       "      <th>std</th>\n",
       "      <td>242.33996</td>\n",
       "      <td>853.704541</td>\n",
       "      <td>0.006557</td>\n",
       "      <td>0.008716</td>\n",
       "      <td>0.144680</td>\n",
       "    </tr>\n",
       "    <tr>\n",
       "      <th>min</th>\n",
       "      <td>9887.00000</td>\n",
       "      <td>5732.000000</td>\n",
       "      <td>0.006084</td>\n",
       "      <td>0.007114</td>\n",
       "      <td>1.061947</td>\n",
       "    </tr>\n",
       "    <tr>\n",
       "      <th>25%</th>\n",
       "      <td>10307.50000</td>\n",
       "      <td>6835.000000</td>\n",
       "      <td>0.008717</td>\n",
       "      <td>0.010650</td>\n",
       "      <td>1.170842</td>\n",
       "    </tr>\n",
       "    <tr>\n",
       "      <th>50%</th>\n",
       "      <td>10512.00000</td>\n",
       "      <td>7582.000000</td>\n",
       "      <td>0.011278</td>\n",
       "      <td>0.014852</td>\n",
       "      <td>1.271739</td>\n",
       "    </tr>\n",
       "    <tr>\n",
       "      <th>75%</th>\n",
       "      <td>10644.00000</td>\n",
       "      <td>8114.000000</td>\n",
       "      <td>0.014194</td>\n",
       "      <td>0.021134</td>\n",
       "      <td>1.331299</td>\n",
       "    </tr>\n",
       "    <tr>\n",
       "      <th>max</th>\n",
       "      <td>10708.00000</td>\n",
       "      <td>8741.000000</td>\n",
       "      <td>0.030511</td>\n",
       "      <td>0.039853</td>\n",
       "      <td>1.588889</td>\n",
       "    </tr>\n",
       "  </tbody>\n",
       "</table>\n",
       "</div>"
      ],
      "text/plain": [
       "          infected    recovered      gamma       beta       R0_t\n",
       "count     23.00000    23.000000  22.000000  22.000000  22.000000\n",
       "mean   10443.26087  7437.521739   0.013210   0.016846   1.272387\n",
       "std      242.33996   853.704541   0.006557   0.008716   0.144680\n",
       "min     9887.00000  5732.000000   0.006084   0.007114   1.061947\n",
       "25%    10307.50000  6835.000000   0.008717   0.010650   1.170842\n",
       "50%    10512.00000  7582.000000   0.011278   0.014852   1.271739\n",
       "75%    10644.00000  8114.000000   0.014194   0.021134   1.331299\n",
       "max    10708.00000  8741.000000   0.030511   0.039853   1.588889"
      ]
     },
     "execution_count": 84,
     "metadata": {},
     "output_type": "execute_result"
    }
   ],
   "source": [
    "df.describe()"
   ]
  },
  {
   "cell_type": "code",
   "execution_count": 85,
   "metadata": {
    "scrolled": true
   },
   "outputs": [
    {
     "data": {
      "text/plain": [
       "[<matplotlib.lines.Line2D at 0x1f32b274c88>]"
      ]
     },
     "execution_count": 85,
     "metadata": {},
     "output_type": "execute_result"
    },
    {
     "data": {
      "image/png": "[encoded data removed]",
      "text/plain": [
       "<Figure size 432x288 with 1 Axes>"
      ]
     },
     "metadata": {
      "needs_background": "light"
     },
     "output_type": "display_data"
    }
   ],
   "source": [
    "plt.plot(df['date'], df['R0_t'])"
   ]
  },
  {
   "cell_type": "code",
   "execution_count": 86,
   "metadata": {},
   "outputs": [
    {
     "data": {
      "text/plain": [
       "[<matplotlib.lines.Line2D at 0x1f32c6ce2c8>]"
      ]
     },
     "execution_count": 86,
     "metadata": {},
     "output_type": "execute_result"
    },
    {
     "data": {
      "image/png": "[encoded data removed]",
      "text/plain": [
       "<Figure size 432x288 with 1 Axes>"
      ]
     },
     "metadata": {
      "needs_background": "light"
     },
     "output_type": "display_data"
    }
   ],
   "source": [
    "df = make_dataframe('Brazil')\n",
    "plt.plot(df['date'], df['infected'])"
   ]
  },
  {
   "cell_type": "code",
   "execution_count": 87,
   "metadata": {},
   "outputs": [
    {
     "data": {
      "text/html": [
       "<div>\n",
       "<style scoped>\n",
       "    .dataframe tbody tr th:only-of-type {\n",
       "        vertical-align: middle;\n",
       "    }\n",
       "\n",
       "    .dataframe tbody tr th {\n",
       "        vertical-align: top;\n",
       "    }\n",
       "\n",
       "    .dataframe thead th {\n",
       "        text-align: right;\n",
       "    }\n",
       "</style>\n",
       "<table border=\"1\" class=\"dataframe\">\n",
       "  <thead>\n",
       "    <tr style=\"text-align: right;\">\n",
       "      <th></th>\n",
       "      <th>infected</th>\n",
       "      <th>recovered</th>\n",
       "      <th>gamma</th>\n",
       "      <th>beta</th>\n",
       "      <th>R0_t</th>\n",
       "    </tr>\n",
       "  </thead>\n",
       "  <tbody>\n",
       "    <tr>\n",
       "      <th>count</th>\n",
       "      <td>23.000000</td>\n",
       "      <td>23.000000</td>\n",
       "      <td>22.000000</td>\n",
       "      <td>22.000000</td>\n",
       "      <td>22.000000</td>\n",
       "    </tr>\n",
       "    <tr>\n",
       "      <th>mean</th>\n",
       "      <td>24542.869565</td>\n",
       "      <td>9282.260870</td>\n",
       "      <td>0.046694</td>\n",
       "      <td>0.141985</td>\n",
       "      <td>12.542886</td>\n",
       "    </tr>\n",
       "    <tr>\n",
       "      <th>std</th>\n",
       "      <td>13163.786559</td>\n",
       "      <td>10980.216732</td>\n",
       "      <td>0.102737</td>\n",
       "      <td>0.108908</td>\n",
       "      <td>7.400109</td>\n",
       "    </tr>\n",
       "    <tr>\n",
       "      <th>min</th>\n",
       "      <td>6836.000000</td>\n",
       "      <td>367.000000</td>\n",
       "      <td>0.003234</td>\n",
       "      <td>0.057277</td>\n",
       "      <td>1.243059</td>\n",
       "    </tr>\n",
       "    <tr>\n",
       "      <th>25%</th>\n",
       "      <td>13097.500000</td>\n",
       "      <td>752.000000</td>\n",
       "      <td>0.005061</td>\n",
       "      <td>0.081287</td>\n",
       "      <td>5.624957</td>\n",
       "    </tr>\n",
       "    <tr>\n",
       "      <th>50%</th>\n",
       "      <td>22192.000000</td>\n",
       "      <td>1396.000000</td>\n",
       "      <td>0.008305</td>\n",
       "      <td>0.117097</td>\n",
       "      <td>15.176392</td>\n",
       "    </tr>\n",
       "    <tr>\n",
       "      <th>75%</th>\n",
       "      <td>35170.000000</td>\n",
       "      <td>16273.500000</td>\n",
       "      <td>0.021756</td>\n",
       "      <td>0.159631</td>\n",
       "      <td>16.305042</td>\n",
       "    </tr>\n",
       "    <tr>\n",
       "      <th>max</th>\n",
       "      <td>50036.000000</td>\n",
       "      <td>29904.000000</td>\n",
       "      <td>0.442720</td>\n",
       "      <td>0.563772</td>\n",
       "      <td>29.914286</td>\n",
       "    </tr>\n",
       "  </tbody>\n",
       "</table>\n",
       "</div>"
      ],
      "text/plain": [
       "           infected     recovered      gamma       beta       R0_t\n",
       "count     23.000000     23.000000  22.000000  22.000000  22.000000\n",
       "mean   24542.869565   9282.260870   0.046694   0.141985  12.542886\n",
       "std    13163.786559  10980.216732   0.102737   0.108908   7.400109\n",
       "min     6836.000000    367.000000   0.003234   0.057277   1.243059\n",
       "25%    13097.500000    752.000000   0.005061   0.081287   5.624957\n",
       "50%    22192.000000   1396.000000   0.008305   0.117097  15.176392\n",
       "75%    35170.000000  16273.500000   0.021756   0.159631  16.305042\n",
       "max    50036.000000  29904.000000   0.442720   0.563772  29.914286"
      ]
     },
     "execution_count": 87,
     "metadata": {},
     "output_type": "execute_result"
    }
   ],
   "source": [
    "df.describe()"
   ]
  },
  {
   "cell_type": "code",
   "execution_count": 88,
   "metadata": {},
   "outputs": [
    {
     "data": {
      "text/plain": [
       "[<matplotlib.lines.Line2D at 0x1f32c768f08>]"
      ]
     },
     "execution_count": 88,
     "metadata": {},
     "output_type": "execute_result"
    },
    {
     "data": {
      "image/png": "[encoded data removed]",
      "text/plain": [
       "<Figure size 432x288 with 1 Axes>"
      ]
     },
     "metadata": {
      "needs_background": "light"
     },
     "output_type": "display_data"
    }
   ],
   "source": [
    "plt.plot(df['date'], df['R0_t'])"
   ]
  },
  {
   "cell_type": "code",
   "execution_count": 89,
   "metadata": {
    "scrolled": true
   },
   "outputs": [
    {
     "data": {
      "text/plain": [
       "[<matplotlib.lines.Line2D at 0x1f32c7caf08>]"
      ]
     },
     "execution_count": 89,
     "metadata": {},
     "output_type": "execute_result"
    },
    {
     "data": {
      "image/png": "[encoded data removed]",
      "text/plain": [
       "<Figure size 432x288 with 1 Axes>"
      ]
     },
     "metadata": {
      "needs_background": "light"
     },
     "output_type": "display_data"
    }
   ],
   "source": [
    "df = make_dataframe('Germany')\n",
    "plt.plot(df['date'], df['infected'])"
   ]
  },
  {
   "cell_type": "code",
   "execution_count": 90,
   "metadata": {
    "scrolled": true
   },
   "outputs": [
    {
     "data": {
      "text/html": [
       "<div>\n",
       "<style scoped>\n",
       "    .dataframe tbody tr th:only-of-type {\n",
       "        vertical-align: middle;\n",
       "    }\n",
       "\n",
       "    .dataframe tbody tr th {\n",
       "        vertical-align: top;\n",
       "    }\n",
       "\n",
       "    .dataframe thead th {\n",
       "        text-align: right;\n",
       "    }\n",
       "</style>\n",
       "<table border=\"1\" class=\"dataframe\">\n",
       "  <thead>\n",
       "    <tr style=\"text-align: right;\">\n",
       "      <th></th>\n",
       "      <th>infected</th>\n",
       "      <th>recovered</th>\n",
       "      <th>gamma</th>\n",
       "      <th>beta</th>\n",
       "      <th>R0_t</th>\n",
       "    </tr>\n",
       "  </thead>\n",
       "  <tbody>\n",
       "    <tr>\n",
       "      <th>count</th>\n",
       "      <td>23.000000</td>\n",
       "      <td>23.000000</td>\n",
       "      <td>22.000000</td>\n",
       "      <td>22.000000</td>\n",
       "      <td>22.000000</td>\n",
       "    </tr>\n",
       "    <tr>\n",
       "      <th>mean</th>\n",
       "      <td>123061.956522</td>\n",
       "      <td>63306.826087</td>\n",
       "      <td>0.034115</td>\n",
       "      <td>0.065535</td>\n",
       "      <td>2.599776</td>\n",
       "    </tr>\n",
       "    <tr>\n",
       "      <th>std</th>\n",
       "      <td>22494.878616</td>\n",
       "      <td>28802.240869</td>\n",
       "      <td>0.020773</td>\n",
       "      <td>0.034694</td>\n",
       "      <td>2.946535</td>\n",
       "    </tr>\n",
       "    <tr>\n",
       "      <th>min</th>\n",
       "      <td>77872.000000</td>\n",
       "      <td>19620.000000</td>\n",
       "      <td>0.002257</td>\n",
       "      <td>0.030680</td>\n",
       "      <td>1.316714</td>\n",
       "    </tr>\n",
       "    <tr>\n",
       "      <th>25%</th>\n",
       "      <td>105518.500000</td>\n",
       "      <td>34303.500000</td>\n",
       "      <td>0.025421</td>\n",
       "      <td>0.041566</td>\n",
       "      <td>1.541702</td>\n",
       "    </tr>\n",
       "    <tr>\n",
       "      <th>50%</th>\n",
       "      <td>127854.000000</td>\n",
       "      <td>63322.000000</td>\n",
       "      <td>0.028071</td>\n",
       "      <td>0.050335</td>\n",
       "      <td>1.683355</td>\n",
       "    </tr>\n",
       "    <tr>\n",
       "      <th>75%</th>\n",
       "      <td>142369.500000</td>\n",
       "      <td>88662.500000</td>\n",
       "      <td>0.036657</td>\n",
       "      <td>0.075352</td>\n",
       "      <td>2.470204</td>\n",
       "    </tr>\n",
       "    <tr>\n",
       "      <th>max</th>\n",
       "      <td>153129.000000</td>\n",
       "      <td>108875.000000</td>\n",
       "      <td>0.098010</td>\n",
       "      <td>0.150330</td>\n",
       "      <td>15.384956</td>\n",
       "    </tr>\n",
       "  </tbody>\n",
       "</table>\n",
       "</div>"
      ],
      "text/plain": [
       "            infected      recovered      gamma       beta       R0_t\n",
       "count      23.000000      23.000000  22.000000  22.000000  22.000000\n",
       "mean   123061.956522   63306.826087   0.034115   0.065535   2.599776\n",
       "std     22494.878616   28802.240869   0.020773   0.034694   2.946535\n",
       "min     77872.000000   19620.000000   0.002257   0.030680   1.316714\n",
       "25%    105518.500000   34303.500000   0.025421   0.041566   1.541702\n",
       "50%    127854.000000   63322.000000   0.028071   0.050335   1.683355\n",
       "75%    142369.500000   88662.500000   0.036657   0.075352   2.470204\n",
       "max    153129.000000  108875.000000   0.098010   0.150330  15.384956"
      ]
     },
     "execution_count": 90,
     "metadata": {},
     "output_type": "execute_result"
    }
   ],
   "source": [
    "df.describe()"
   ]
  },
  {
   "cell_type": "code",
   "execution_count": 91,
   "metadata": {
    "scrolled": true
   },
   "outputs": [
    {
     "data": {
      "text/plain": [
       "[<matplotlib.lines.Line2D at 0x1f32c833288>]"
      ]
     },
     "execution_count": 91,
     "metadata": {},
     "output_type": "execute_result"
    },
    {
     "data": {
      "image/png": "[encoded data removed]",
      "text/plain": [
       "<Figure size 432x288 with 1 Axes>"
      ]
     },
     "metadata": {
      "needs_background": "light"
     },
     "output_type": "display_data"
    }
   ],
   "source": [
    "plt.plot(df['date'], df['R0_t'])"
   ]
  },
  {
   "cell_type": "code",
   "execution_count": 96,
   "metadata": {},
   "outputs": [
    {
     "data": {
      "text/plain": [
       "[<matplotlib.lines.Line2D at 0x1f32c8e9fc8>]"
      ]
     },
     "execution_count": 96,
     "metadata": {},
     "output_type": "execute_result"
    },
    {
     "data": {
      "image/png": "[encoded data removed]",
      "text/plain": [
       "<Figure size 432x288 with 1 Axes>"
      ]
     },
     "metadata": {
      "needs_background": "light"
     },
     "output_type": "display_data"
    }
   ],
   "source": [
    "df = make_dataframe('US')\n",
    "plt.plot(df['date'], df['infected'])"
   ]
  },
  {
   "cell_type": "code",
   "execution_count": 97,
   "metadata": {},
   "outputs": [
    {
     "data": {
      "text/html": [
       "<div>\n",
       "<style scoped>\n",
       "    .dataframe tbody tr th:only-of-type {\n",
       "        vertical-align: middle;\n",
       "    }\n",
       "\n",
       "    .dataframe tbody tr th {\n",
       "        vertical-align: top;\n",
       "    }\n",
       "\n",
       "    .dataframe thead th {\n",
       "        text-align: right;\n",
       "    }\n",
       "</style>\n",
       "<table border=\"1\" class=\"dataframe\">\n",
       "  <thead>\n",
       "    <tr style=\"text-align: right;\">\n",
       "      <th></th>\n",
       "      <th>infected</th>\n",
       "      <th>recovered</th>\n",
       "      <th>gamma</th>\n",
       "      <th>beta</th>\n",
       "      <th>R0_t</th>\n",
       "    </tr>\n",
       "  </thead>\n",
       "  <tbody>\n",
       "    <tr>\n",
       "      <th>count</th>\n",
       "      <td>23.000000</td>\n",
       "      <td>23.000000</td>\n",
       "      <td>22.000000</td>\n",
       "      <td>22.000000</td>\n",
       "      <td>22.000000</td>\n",
       "    </tr>\n",
       "    <tr>\n",
       "      <th>mean</th>\n",
       "      <td>547802.347826</td>\n",
       "      <td>65265.739130</td>\n",
       "      <td>0.010458</td>\n",
       "      <td>0.076870</td>\n",
       "      <td>7.982552</td>\n",
       "    </tr>\n",
       "    <tr>\n",
       "      <th>std</th>\n",
       "      <td>202662.714304</td>\n",
       "      <td>38826.966339</td>\n",
       "      <td>0.004444</td>\n",
       "      <td>0.033584</td>\n",
       "      <td>3.917427</td>\n",
       "    </tr>\n",
       "    <tr>\n",
       "      <th>min</th>\n",
       "      <td>213242.000000</td>\n",
       "      <td>13234.000000</td>\n",
       "      <td>0.004514</td>\n",
       "      <td>0.038141</td>\n",
       "      <td>3.108306</td>\n",
       "    </tr>\n",
       "    <tr>\n",
       "      <th>25%</th>\n",
       "      <td>381719.000000</td>\n",
       "      <td>32460.500000</td>\n",
       "      <td>0.007736</td>\n",
       "      <td>0.057978</td>\n",
       "      <td>5.235206</td>\n",
       "    </tr>\n",
       "    <tr>\n",
       "      <th>50%</th>\n",
       "      <td>555313.000000</td>\n",
       "      <td>55017.000000</td>\n",
       "      <td>0.010012</td>\n",
       "      <td>0.064171</td>\n",
       "      <td>7.389420</td>\n",
       "    </tr>\n",
       "    <tr>\n",
       "      <th>75%</th>\n",
       "      <td>715951.500000</td>\n",
       "      <td>99418.000000</td>\n",
       "      <td>0.011511</td>\n",
       "      <td>0.093837</td>\n",
       "      <td>9.244031</td>\n",
       "    </tr>\n",
       "    <tr>\n",
       "      <th>max</th>\n",
       "      <td>869170.000000</td>\n",
       "      <td>130157.000000</td>\n",
       "      <td>0.022744</td>\n",
       "      <td>0.150421</td>\n",
       "      <td>18.912736</td>\n",
       "    </tr>\n",
       "  </tbody>\n",
       "</table>\n",
       "</div>"
      ],
      "text/plain": [
       "            infected      recovered      gamma       beta       R0_t\n",
       "count      23.000000      23.000000  22.000000  22.000000  22.000000\n",
       "mean   547802.347826   65265.739130   0.010458   0.076870   7.982552\n",
       "std    202662.714304   38826.966339   0.004444   0.033584   3.917427\n",
       "min    213242.000000   13234.000000   0.004514   0.038141   3.108306\n",
       "25%    381719.000000   32460.500000   0.007736   0.057978   5.235206\n",
       "50%    555313.000000   55017.000000   0.010012   0.064171   7.389420\n",
       "75%    715951.500000   99418.000000   0.011511   0.093837   9.244031\n",
       "max    869170.000000  130157.000000   0.022744   0.150421  18.912736"
      ]
     },
     "execution_count": 97,
     "metadata": {},
     "output_type": "execute_result"
    }
   ],
   "source": [
    "df.describe()"
   ]
  },
  {
   "cell_type": "code",
   "execution_count": 98,
   "metadata": {},
   "outputs": [
    {
     "data": {
      "text/plain": [
       "[<matplotlib.lines.Line2D at 0x1f32c8d0688>]"
      ]
     },
     "execution_count": 98,
     "metadata": {},
     "output_type": "execute_result"
    },
    {
     "data": {
      "image/png": "[encoded data removed]",
      "text/plain": [
       "<Figure size 432x288 with 1 Axes>"
      ]
     },
     "metadata": {
      "needs_background": "light"
     },
     "output_type": "display_data"
    }
   ],
   "source": [
    "plt.plot(df['date'], df['R0_t'])"
   ]
  },
  {
   "cell_type": "code",
   "execution_count": null,
   "metadata": {},
   "outputs": [],
   "source": []
  }
 ],
 "metadata": {
  "kernelspec": {
   "display_name": "Python 3",
   "language": "python",
   "name": "python3"
  },
  "language_info": {
   "codemirror_mode": {
    "name": "ipython",
    "version": 3
   },
   "file_extension": ".py",
   "mimetype": "text/x-python",
   "name": "python",
   "nbconvert_exporter": "python",
   "pygments_lexer": "ipython3",
   "version": "3.7.7"
  }
 },
 "nbformat": 4,
 "nbformat_minor": 4
}
