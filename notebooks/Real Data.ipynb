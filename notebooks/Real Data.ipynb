{
 "cells": [
  {
   "cell_type": "code",
   "execution_count": 6,
   "metadata": {},
   "outputs": [],
   "source": [
    "import pandas as pd\n",
    "import matplotlib.pyplot as plt\n",
    "from datetime import datetime"
   ]
  },
  {
   "cell_type": "code",
   "execution_count": 7,
   "metadata": {},
   "outputs": [],
   "source": [
    "# data from https://data.humdata.org/dataset/novel-coronavirus-2019-ncov-cases\n",
    "\n",
    "confirmed = pd.read_csv('..\\\\data\\\\raw\\\\humdata\\\\time_series_covid19_confirmed_global.csv')\n",
    "deaths = pd.read_csv('..\\\\data\\\\raw\\\\humdata\\\\time_series_covid19_deaths_global.csv')\n",
    "recovered = pd.read_csv('..\\\\data\\\\raw\\\\humdata\\\\time_series_covid19_recovered_global.csv')"
   ]
  },
  {
   "cell_type": "code",
   "execution_count": 8,
   "metadata": {},
   "outputs": [
    {
     "data": {
      "text/plain": [
       "array(['Afghanistan', 'Albania', 'Algeria', 'Andorra', 'Angola',\n",
       "       'Antigua and Barbuda', 'Argentina', 'Armenia', 'Australia',\n",
       "       'Austria', 'Azerbaijan', 'Bahamas', 'Bahrain', 'Bangladesh',\n",
       "       'Barbados', 'Belarus', 'Belgium', 'Benin', 'Bhutan', 'Bolivia',\n",
       "       'Bosnia and Herzegovina', 'Brazil', 'Brunei', 'Bulgaria',\n",
       "       'Burkina Faso', 'Cabo Verde', 'Cambodia', 'Cameroon', 'Canada',\n",
       "       'Central African Republic', 'Chad', 'Chile', 'China', 'Colombia',\n",
       "       'Congo (Brazzaville)', 'Congo (Kinshasa)', 'Costa Rica',\n",
       "       \"Cote d'Ivoire\", 'Croatia', 'Diamond Princess', 'Cuba', 'Cyprus',\n",
       "       'Czechia', 'Denmark', 'Djibouti', 'Dominican Republic', 'Ecuador',\n",
       "       'Egypt', 'El Salvador', 'Equatorial Guinea', 'Eritrea', 'Estonia',\n",
       "       'Eswatini', 'Ethiopia', 'Fiji', 'Finland', 'France', 'Gabon',\n",
       "       'Gambia', 'Georgia', 'Germany', 'Ghana', 'Greece', 'Guatemala',\n",
       "       'Guinea', 'Guyana', 'Haiti', 'Holy See', 'Honduras', 'Hungary',\n",
       "       'Iceland', 'India', 'Indonesia', 'Iran', 'Iraq', 'Ireland',\n",
       "       'Israel', 'Italy', 'Jamaica', 'Japan', 'Jordan', 'Kazakhstan',\n",
       "       'Kenya', 'Korea, South', 'Kuwait', 'Kyrgyzstan', 'Latvia',\n",
       "       'Lebanon', 'Liberia', 'Liechtenstein', 'Lithuania', 'Luxembourg',\n",
       "       'Madagascar', 'Malaysia', 'Maldives', 'Malta', 'Mauritania',\n",
       "       'Mauritius', 'Mexico', 'Moldova', 'Monaco', 'Mongolia',\n",
       "       'Montenegro', 'Morocco', 'Namibia', 'Nepal', 'Netherlands',\n",
       "       'New Zealand', 'Nicaragua', 'Niger', 'Nigeria', 'North Macedonia',\n",
       "       'Norway', 'Oman', 'Pakistan', 'Panama', 'Papua New Guinea',\n",
       "       'Paraguay', 'Peru', 'Philippines', 'Poland', 'Portugal', 'Qatar',\n",
       "       'Romania', 'Russia', 'Rwanda', 'Saint Lucia',\n",
       "       'Saint Vincent and the Grenadines', 'San Marino', 'Saudi Arabia',\n",
       "       'Senegal', 'Serbia', 'Seychelles', 'Singapore', 'Slovakia',\n",
       "       'Slovenia', 'Somalia', 'South Africa', 'Spain', 'Sri Lanka',\n",
       "       'Sudan', 'Suriname', 'Sweden', 'Switzerland', 'Taiwan*',\n",
       "       'Tanzania', 'Thailand', 'Togo', 'Trinidad and Tobago', 'Tunisia',\n",
       "       'Turkey', 'Uganda', 'Ukraine', 'United Arab Emirates',\n",
       "       'United Kingdom', 'Uruguay', 'US', 'Uzbekistan', 'Venezuela',\n",
       "       'Vietnam', 'Zambia', 'Zimbabwe', 'Dominica', 'Grenada',\n",
       "       'Mozambique', 'Syria', 'Timor-Leste', 'Belize', 'Laos', 'Libya',\n",
       "       'West Bank and Gaza', 'Guinea-Bissau', 'Mali',\n",
       "       'Saint Kitts and Nevis', 'Kosovo', 'Burma', 'MS Zaandam',\n",
       "       'Botswana', 'Burundi', 'Sierra Leone', 'Malawi', 'South Sudan',\n",
       "       'Western Sahara', 'Sao Tome and Principe', 'Yemen'], dtype=object)"
      ]
     },
     "execution_count": 8,
     "metadata": {},
     "output_type": "execute_result"
    }
   ],
   "source": [
    "confirmed['Country/Region'].unique()"
   ]
  },
  {
   "cell_type": "code",
   "execution_count": 9,
   "metadata": {},
   "outputs": [],
   "source": [
    "def get_beta_and_gamma(time_series):\n",
    "    \"\"\"\n",
    "    \n",
    "    \"\"\"\n",
    "    def gamma_t(current_t, next_t): \n",
    "        return (next_t['recovered'] - current_t['recovered'])/current_t['infected']\n",
    "    \n",
    "    def beta_t(current_t, next_t):\n",
    "        return (next_t['infected']-current_t['infected']+next_t['recovered']-current_t['recovered'])/current_t['infected']\n",
    "    \n",
    "    tmp = pd.concat([time_series, time_series.shift(-1)], axis=1)\n",
    "    \n",
    "    time_series['gamma'] = tmp.apply(lambda x: gamma_t(x[:int(len(x)/2)], x[int(len(x)/2):]), axis=1)\n",
    "    time_series['beta'] = tmp.apply(lambda x: beta_t(x[:int(len(x)/2)], x[int(len(x)/2):]), axis=1)\n",
    "    \n",
    "    return time_series"
   ]
  },
  {
   "cell_type": "code",
   "execution_count": 10,
   "metadata": {},
   "outputs": [],
   "source": [
    "def make_dataframe(country):\n",
    "\n",
    "    df = confirmed[confirmed['Country/Region'] == country]\n",
    "    df = df.drop(columns = ['Province/State', 'Country/Region', 'Lat', 'Long']).T\n",
    "    df.columns = ['confirmed']\n",
    "\n",
    "    tmp = deaths[deaths['Country/Region'] == country]\n",
    "    tmp = tmp.drop(columns = ['Province/State', 'Country/Region', 'Lat', 'Long']).T\n",
    "    tmp.columns = ['dead']\n",
    "\n",
    "    df['dead'] = tmp['dead']\n",
    "\n",
    "    tmp = recovered[recovered['Country/Region'] == country]\n",
    "    tmp = tmp.drop(columns = ['Province/State', 'Country/Region', 'Lat', 'Long']).T\n",
    "    tmp.columns = ['recovered']\n",
    "\n",
    "    df['recovered'] = tmp['recovered']\n",
    "\n",
    "\n",
    "    df = df[df['confirmed'] >= 100]\n",
    "    \n",
    "    df.index = pd.to_datetime(df.index.to_series()).values\n",
    "    df = df.reset_index().rename(columns={'index':'date', 'confirmed':'infected'})\n",
    "    \n",
    "    #df = df[df.date >= datetime(2020, 4,1)]\n",
    "    df['recovered'] = df['recovered'] + df['dead']\n",
    "    \n",
    "    df = get_beta_and_gamma(df)\n",
    "    \n",
    "    df['R0_t'] = df['beta'] / df['gamma']\n",
    "    \n",
    "    return  df.drop(columns=['dead'])"
   ]
  },
  {
   "cell_type": "code",
   "execution_count": 11,
   "metadata": {
    "scrolled": true
   },
   "outputs": [
    {
     "data": {
      "text/plain": [
       "[<matplotlib.lines.Line2D at 0x230fb2c87c8>]"
      ]
     },
     "execution_count": 11,
     "metadata": {},
     "output_type": "execute_result"
    },
    {
     "data": {
      "image/png": "[encoded data removed]",
      "text/plain": [
       "<Figure size 432x288 with 1 Axes>"
      ]
     },
     "metadata": {
      "needs_background": "light"
     },
     "output_type": "display_data"
    }
   ],
   "source": [
    "df = make_dataframe('Korea, South')\n",
    "plt.plot(df['date'], df['infected'])"
   ]
  },
  {
   "cell_type": "code",
   "execution_count": 12,
   "metadata": {
    "scrolled": true
   },
   "outputs": [
    {
     "data": {
      "text/html": [
       "<div>\n",
       "<style scoped>\n",
       "    .dataframe tbody tr th:only-of-type {\n",
       "        vertical-align: middle;\n",
       "    }\n",
       "\n",
       "    .dataframe tbody tr th {\n",
       "        vertical-align: top;\n",
       "    }\n",
       "\n",
       "    .dataframe thead th {\n",
       "        text-align: right;\n",
       "    }\n",
       "</style>\n",
       "<table border=\"1\" class=\"dataframe\">\n",
       "  <thead>\n",
       "    <tr style=\"text-align: right;\">\n",
       "      <th></th>\n",
       "      <th>infected</th>\n",
       "      <th>recovered</th>\n",
       "      <th>gamma</th>\n",
       "      <th>beta</th>\n",
       "      <th>R0_t</th>\n",
       "    </tr>\n",
       "  </thead>\n",
       "  <tbody>\n",
       "    <tr>\n",
       "      <th>count</th>\n",
       "      <td>64.000000</td>\n",
       "      <td>64.000000</td>\n",
       "      <td>63.000000</td>\n",
       "      <td>63.000000</td>\n",
       "      <td>62.000000</td>\n",
       "    </tr>\n",
       "    <tr>\n",
       "      <th>mean</th>\n",
       "      <td>7762.187500</td>\n",
       "      <td>3561.531250</td>\n",
       "      <td>0.015660</td>\n",
       "      <td>0.105762</td>\n",
       "      <td>inf</td>\n",
       "    </tr>\n",
       "    <tr>\n",
       "      <th>std</th>\n",
       "      <td>3293.480756</td>\n",
       "      <td>3309.874634</td>\n",
       "      <td>0.023561</td>\n",
       "      <td>0.201710</td>\n",
       "      <td>NaN</td>\n",
       "    </tr>\n",
       "    <tr>\n",
       "      <th>min</th>\n",
       "      <td>104.000000</td>\n",
       "      <td>17.000000</td>\n",
       "      <td>-0.001562</td>\n",
       "      <td>0.000000</td>\n",
       "      <td>-23.818182</td>\n",
       "    </tr>\n",
       "    <tr>\n",
       "      <th>25%</th>\n",
       "      <td>6929.000000</td>\n",
       "      <td>170.250000</td>\n",
       "      <td>0.002496</td>\n",
       "      <td>0.015241</td>\n",
       "      <td>1.248658</td>\n",
       "    </tr>\n",
       "    <tr>\n",
       "      <th>50%</th>\n",
       "      <td>8961.000000</td>\n",
       "      <td>3020.000000</td>\n",
       "      <td>0.009615</td>\n",
       "      <td>0.029114</td>\n",
       "      <td>1.483864</td>\n",
       "    </tr>\n",
       "    <tr>\n",
       "      <th>75%</th>\n",
       "      <td>10344.250000</td>\n",
       "      <td>6908.500000</td>\n",
       "      <td>0.019201</td>\n",
       "      <td>0.084484</td>\n",
       "      <td>26.041667</td>\n",
       "    </tr>\n",
       "    <tr>\n",
       "      <th>max</th>\n",
       "      <td>10708.000000</td>\n",
       "      <td>8741.000000</td>\n",
       "      <td>0.156609</td>\n",
       "      <td>1.122549</td>\n",
       "      <td>inf</td>\n",
       "    </tr>\n",
       "  </tbody>\n",
       "</table>\n",
       "</div>"
      ],
      "text/plain": [
       "           infected    recovered      gamma       beta       R0_t\n",
       "count     64.000000    64.000000  63.000000  63.000000  62.000000\n",
       "mean    7762.187500  3561.531250   0.015660   0.105762        inf\n",
       "std     3293.480756  3309.874634   0.023561   0.201710        NaN\n",
       "min      104.000000    17.000000  -0.001562   0.000000 -23.818182\n",
       "25%     6929.000000   170.250000   0.002496   0.015241   1.248658\n",
       "50%     8961.000000  3020.000000   0.009615   0.029114   1.483864\n",
       "75%    10344.250000  6908.500000   0.019201   0.084484  26.041667\n",
       "max    10708.000000  8741.000000   0.156609   1.122549        inf"
      ]
     },
     "execution_count": 12,
     "metadata": {},
     "output_type": "execute_result"
    }
   ],
   "source": [
    "df.describe()"
   ]
  },
  {
   "cell_type": "code",
   "execution_count": 13,
   "metadata": {
    "scrolled": true
   },
   "outputs": [
    {
     "data": {
      "text/plain": [
       "[<matplotlib.lines.Line2D at 0x230fda91fc8>]"
      ]
     },
     "execution_count": 13,
     "metadata": {},
     "output_type": "execute_result"
    },
    {
     "data": {
      "image/png": "[encoded data removed]",
      "text/plain": [
       "<Figure size 432x288 with 1 Axes>"
      ]
     },
     "metadata": {
      "needs_background": "light"
     },
     "output_type": "display_data"
    }
   ],
   "source": [
    "plt.plot(df['date'], df['R0_t'])"
   ]
  },
  {
   "cell_type": "code",
   "execution_count": 14,
   "metadata": {},
   "outputs": [
    {
     "data": {
      "text/plain": [
       "[<matplotlib.lines.Line2D at 0x230fdb07f48>]"
      ]
     },
     "execution_count": 14,
     "metadata": {},
     "output_type": "execute_result"
    },
    {
     "data": {
      "image/png": "[encoded data removed]",
      "text/plain": [
       "<Figure size 432x288 with 1 Axes>"
      ]
     },
     "metadata": {
      "needs_background": "light"
     },
     "output_type": "display_data"
    }
   ],
   "source": [
    "df = make_dataframe('Brazil')\n",
    "plt.plot(df['date'], df['infected'])"
   ]
  },
  {
   "cell_type": "code",
   "execution_count": 15,
   "metadata": {},
   "outputs": [
    {
     "data": {
      "text/html": [
       "<div>\n",
       "<style scoped>\n",
       "    .dataframe tbody tr th:only-of-type {\n",
       "        vertical-align: middle;\n",
       "    }\n",
       "\n",
       "    .dataframe tbody tr th {\n",
       "        vertical-align: top;\n",
       "    }\n",
       "\n",
       "    .dataframe thead th {\n",
       "        text-align: right;\n",
       "    }\n",
       "</style>\n",
       "<table border=\"1\" class=\"dataframe\">\n",
       "  <thead>\n",
       "    <tr style=\"text-align: right;\">\n",
       "      <th></th>\n",
       "      <th>infected</th>\n",
       "      <th>recovered</th>\n",
       "      <th>gamma</th>\n",
       "      <th>beta</th>\n",
       "      <th>R0_t</th>\n",
       "    </tr>\n",
       "  </thead>\n",
       "  <tbody>\n",
       "    <tr>\n",
       "      <th>count</th>\n",
       "      <td>42.000000</td>\n",
       "      <td>42.000000</td>\n",
       "      <td>41.000000</td>\n",
       "      <td>41.000000</td>\n",
       "      <td>40.000000</td>\n",
       "    </tr>\n",
       "    <tr>\n",
       "      <th>mean</th>\n",
       "      <td>14319.214286</td>\n",
       "      <td>5113.285714</td>\n",
       "      <td>0.028629</td>\n",
       "      <td>0.187923</td>\n",
       "      <td>inf</td>\n",
       "    </tr>\n",
       "    <tr>\n",
       "      <th>std</th>\n",
       "      <td>14965.303663</td>\n",
       "      <td>9287.084279</td>\n",
       "      <td>0.077123</td>\n",
       "      <td>0.152646</td>\n",
       "      <td>NaN</td>\n",
       "    </tr>\n",
       "    <tr>\n",
       "      <th>min</th>\n",
       "      <td>151.000000</td>\n",
       "      <td>0.000000</td>\n",
       "      <td>0.000000</td>\n",
       "      <td>0.000000</td>\n",
       "      <td>1.243059</td>\n",
       "    </tr>\n",
       "    <tr>\n",
       "      <th>25%</th>\n",
       "      <td>2004.750000</td>\n",
       "      <td>39.000000</td>\n",
       "      <td>0.005560</td>\n",
       "      <td>0.094680</td>\n",
       "      <td>13.861081</td>\n",
       "    </tr>\n",
       "    <tr>\n",
       "      <th>50%</th>\n",
       "      <td>8550.000000</td>\n",
       "      <td>468.500000</td>\n",
       "      <td>0.006822</td>\n",
       "      <td>0.148083</td>\n",
       "      <td>17.156941</td>\n",
       "    </tr>\n",
       "    <tr>\n",
       "      <th>75%</th>\n",
       "      <td>23120.500000</td>\n",
       "      <td>1474.750000</td>\n",
       "      <td>0.010032</td>\n",
       "      <td>0.209518</td>\n",
       "      <td>29.719231</td>\n",
       "    </tr>\n",
       "    <tr>\n",
       "      <th>max</th>\n",
       "      <td>50036.000000</td>\n",
       "      <td>29904.000000</td>\n",
       "      <td>0.442720</td>\n",
       "      <td>0.677419</td>\n",
       "      <td>inf</td>\n",
       "    </tr>\n",
       "  </tbody>\n",
       "</table>\n",
       "</div>"
      ],
      "text/plain": [
       "           infected     recovered      gamma       beta       R0_t\n",
       "count     42.000000     42.000000  41.000000  41.000000  40.000000\n",
       "mean   14319.214286   5113.285714   0.028629   0.187923        inf\n",
       "std    14965.303663   9287.084279   0.077123   0.152646        NaN\n",
       "min      151.000000      0.000000   0.000000   0.000000   1.243059\n",
       "25%     2004.750000     39.000000   0.005560   0.094680  13.861081\n",
       "50%     8550.000000    468.500000   0.006822   0.148083  17.156941\n",
       "75%    23120.500000   1474.750000   0.010032   0.209518  29.719231\n",
       "max    50036.000000  29904.000000   0.442720   0.677419        inf"
      ]
     },
     "execution_count": 15,
     "metadata": {},
     "output_type": "execute_result"
    }
   ],
   "source": [
    "df.describe()"
   ]
  },
  {
   "cell_type": "code",
   "execution_count": 16,
   "metadata": {},
   "outputs": [
    {
     "data": {
      "text/plain": [
       "[<matplotlib.lines.Line2D at 0x230fdb6cf08>]"
      ]
     },
     "execution_count": 16,
     "metadata": {},
     "output_type": "execute_result"
    },
    {
     "data": {
      "image/png": "[encoded data removed]",
      "text/plain": [
       "<Figure size 432x288 with 1 Axes>"
      ]
     },
     "metadata": {
      "needs_background": "light"
     },
     "output_type": "display_data"
    }
   ],
   "source": [
    "plt.plot(df['date'], df['R0_t'])"
   ]
  },
  {
   "cell_type": "code",
   "execution_count": 17,
   "metadata": {
    "scrolled": true
   },
   "outputs": [
    {
     "data": {
      "text/plain": [
       "[<matplotlib.lines.Line2D at 0x230fdbae808>]"
      ]
     },
     "execution_count": 17,
     "metadata": {},
     "output_type": "execute_result"
    },
    {
     "data": {
      "image/png": "[encoded data removed]",
      "text/plain": [
       "<Figure size 432x288 with 1 Axes>"
      ]
     },
     "metadata": {
      "needs_background": "light"
     },
     "output_type": "display_data"
    }
   ],
   "source": [
    "df = make_dataframe('Germany')\n",
    "plt.plot(df['date'], df['infected'])"
   ]
  },
  {
   "cell_type": "code",
   "execution_count": 90,
   "metadata": {
    "scrolled": true
   },
   "outputs": [
    {
     "data": {
      "text/html": [
       "<div>\n",
       "<style scoped>\n",
       "    .dataframe tbody tr th:only-of-type {\n",
       "        vertical-align: middle;\n",
       "    }\n",
       "\n",
       "    .dataframe tbody tr th {\n",
       "        vertical-align: top;\n",
       "    }\n",
       "\n",
       "    .dataframe thead th {\n",
       "        text-align: right;\n",
       "    }\n",
       "</style>\n",
       "<table border=\"1\" class=\"dataframe\">\n",
       "  <thead>\n",
       "    <tr style=\"text-align: right;\">\n",
       "      <th></th>\n",
       "      <th>infected</th>\n",
       "      <th>recovered</th>\n",
       "      <th>gamma</th>\n",
       "      <th>beta</th>\n",
       "      <th>R0_t</th>\n",
       "    </tr>\n",
       "  </thead>\n",
       "  <tbody>\n",
       "    <tr>\n",
       "      <th>count</th>\n",
       "      <td>23.000000</td>\n",
       "      <td>23.000000</td>\n",
       "      <td>22.000000</td>\n",
       "      <td>22.000000</td>\n",
       "      <td>22.000000</td>\n",
       "    </tr>\n",
       "    <tr>\n",
       "      <th>mean</th>\n",
       "      <td>123061.956522</td>\n",
       "      <td>63306.826087</td>\n",
       "      <td>0.034115</td>\n",
       "      <td>0.065535</td>\n",
       "      <td>2.599776</td>\n",
       "    </tr>\n",
       "    <tr>\n",
       "      <th>std</th>\n",
       "      <td>22494.878616</td>\n",
       "      <td>28802.240869</td>\n",
       "      <td>0.020773</td>\n",
       "      <td>0.034694</td>\n",
       "      <td>2.946535</td>\n",
       "    </tr>\n",
       "    <tr>\n",
       "      <th>min</th>\n",
       "      <td>77872.000000</td>\n",
       "      <td>19620.000000</td>\n",
       "      <td>0.002257</td>\n",
       "      <td>0.030680</td>\n",
       "      <td>1.316714</td>\n",
       "    </tr>\n",
       "    <tr>\n",
       "      <th>25%</th>\n",
       "      <td>105518.500000</td>\n",
       "      <td>34303.500000</td>\n",
       "      <td>0.025421</td>\n",
       "      <td>0.041566</td>\n",
       "      <td>1.541702</td>\n",
       "    </tr>\n",
       "    <tr>\n",
       "      <th>50%</th>\n",
       "      <td>127854.000000</td>\n",
       "      <td>63322.000000</td>\n",
       "      <td>0.028071</td>\n",
       "      <td>0.050335</td>\n",
       "      <td>1.683355</td>\n",
       "    </tr>\n",
       "    <tr>\n",
       "      <th>75%</th>\n",
       "      <td>142369.500000</td>\n",
       "      <td>88662.500000</td>\n",
       "      <td>0.036657</td>\n",
       "      <td>0.075352</td>\n",
       "      <td>2.470204</td>\n",
       "    </tr>\n",
       "    <tr>\n",
       "      <th>max</th>\n",
       "      <td>153129.000000</td>\n",
       "      <td>108875.000000</td>\n",
       "      <td>0.098010</td>\n",
       "      <td>0.150330</td>\n",
       "      <td>15.384956</td>\n",
       "    </tr>\n",
       "  </tbody>\n",
       "</table>\n",
       "</div>"
      ],
      "text/plain": [
       "            infected      recovered      gamma       beta       R0_t\n",
       "count      23.000000      23.000000  22.000000  22.000000  22.000000\n",
       "mean   123061.956522   63306.826087   0.034115   0.065535   2.599776\n",
       "std     22494.878616   28802.240869   0.020773   0.034694   2.946535\n",
       "min     77872.000000   19620.000000   0.002257   0.030680   1.316714\n",
       "25%    105518.500000   34303.500000   0.025421   0.041566   1.541702\n",
       "50%    127854.000000   63322.000000   0.028071   0.050335   1.683355\n",
       "75%    142369.500000   88662.500000   0.036657   0.075352   2.470204\n",
       "max    153129.000000  108875.000000   0.098010   0.150330  15.384956"
      ]
     },
     "execution_count": 90,
     "metadata": {},
     "output_type": "execute_result"
    }
   ],
   "source": [
    "df.describe()"
   ]
  },
  {
   "cell_type": "code",
   "execution_count": 91,
   "metadata": {
    "scrolled": true
   },
   "outputs": [
    {
     "data": {
      "text/plain": [
       "[<matplotlib.lines.Line2D at 0x1f32c833288>]"
      ]
     },
     "execution_count": 91,
     "metadata": {},
     "output_type": "execute_result"
    },
    {
     "data": {
      "image/png": "[encoded data removed]",
      "text/plain": [
       "<Figure size 432x288 with 1 Axes>"
      ]
     },
     "metadata": {
      "needs_background": "light"
     },
     "output_type": "display_data"
    }
   ],
   "source": [
    "plt.plot(df['date'], df['R0_t'])"
   ]
  },
  {
   "cell_type": "code",
   "execution_count": 96,
   "metadata": {},
   "outputs": [
    {
     "data": {
      "text/plain": [
       "[<matplotlib.lines.Line2D at 0x1f32c8e9fc8>]"
      ]
     },
     "execution_count": 96,
     "metadata": {},
     "output_type": "execute_result"
    },
    {
     "data": {
      "image/png": "[encoded data removed]",
      "text/plain": [
       "<Figure size 432x288 with 1 Axes>"
      ]
     },
     "metadata": {
      "needs_background": "light"
     },
     "output_type": "display_data"
    }
   ],
   "source": [
    "df = make_dataframe('US')\n",
    "plt.plot(df['date'], df['infected'])"
   ]
  },
  {
   "cell_type": "code",
   "execution_count": 97,
   "metadata": {},
   "outputs": [
    {
     "data": {
      "text/html": [
       "<div>\n",
       "<style scoped>\n",
       "    .dataframe tbody tr th:only-of-type {\n",
       "        vertical-align: middle;\n",
       "    }\n",
       "\n",
       "    .dataframe tbody tr th {\n",
       "        vertical-align: top;\n",
       "    }\n",
       "\n",
       "    .dataframe thead th {\n",
       "        text-align: right;\n",
       "    }\n",
       "</style>\n",
       "<table border=\"1\" class=\"dataframe\">\n",
       "  <thead>\n",
       "    <tr style=\"text-align: right;\">\n",
       "      <th></th>\n",
       "      <th>infected</th>\n",
       "      <th>recovered</th>\n",
       "      <th>gamma</th>\n",
       "      <th>beta</th>\n",
       "      <th>R0_t</th>\n",
       "    </tr>\n",
       "  </thead>\n",
       "  <tbody>\n",
       "    <tr>\n",
       "      <th>count</th>\n",
       "      <td>23.000000</td>\n",
       "      <td>23.000000</td>\n",
       "      <td>22.000000</td>\n",
       "      <td>22.000000</td>\n",
       "      <td>22.000000</td>\n",
       "    </tr>\n",
       "    <tr>\n",
       "      <th>mean</th>\n",
       "      <td>547802.347826</td>\n",
       "      <td>65265.739130</td>\n",
       "      <td>0.010458</td>\n",
       "      <td>0.076870</td>\n",
       "      <td>7.982552</td>\n",
       "    </tr>\n",
       "    <tr>\n",
       "      <th>std</th>\n",
       "      <td>202662.714304</td>\n",
       "      <td>38826.966339</td>\n",
       "      <td>0.004444</td>\n",
       "      <td>0.033584</td>\n",
       "      <td>3.917427</td>\n",
       "    </tr>\n",
       "    <tr>\n",
       "      <th>min</th>\n",
       "      <td>213242.000000</td>\n",
       "      <td>13234.000000</td>\n",
       "      <td>0.004514</td>\n",
       "      <td>0.038141</td>\n",
       "      <td>3.108306</td>\n",
       "    </tr>\n",
       "    <tr>\n",
       "      <th>25%</th>\n",
       "      <td>381719.000000</td>\n",
       "      <td>32460.500000</td>\n",
       "      <td>0.007736</td>\n",
       "      <td>0.057978</td>\n",
       "      <td>5.235206</td>\n",
       "    </tr>\n",
       "    <tr>\n",
       "      <th>50%</th>\n",
       "      <td>555313.000000</td>\n",
       "      <td>55017.000000</td>\n",
       "      <td>0.010012</td>\n",
       "      <td>0.064171</td>\n",
       "      <td>7.389420</td>\n",
       "    </tr>\n",
       "    <tr>\n",
       "      <th>75%</th>\n",
       "      <td>715951.500000</td>\n",
       "      <td>99418.000000</td>\n",
       "      <td>0.011511</td>\n",
       "      <td>0.093837</td>\n",
       "      <td>9.244031</td>\n",
       "    </tr>\n",
       "    <tr>\n",
       "      <th>max</th>\n",
       "      <td>869170.000000</td>\n",
       "      <td>130157.000000</td>\n",
       "      <td>0.022744</td>\n",
       "      <td>0.150421</td>\n",
       "      <td>18.912736</td>\n",
       "    </tr>\n",
       "  </tbody>\n",
       "</table>\n",
       "</div>"
      ],
      "text/plain": [
       "            infected      recovered      gamma       beta       R0_t\n",
       "count      23.000000      23.000000  22.000000  22.000000  22.000000\n",
       "mean   547802.347826   65265.739130   0.010458   0.076870   7.982552\n",
       "std    202662.714304   38826.966339   0.004444   0.033584   3.917427\n",
       "min    213242.000000   13234.000000   0.004514   0.038141   3.108306\n",
       "25%    381719.000000   32460.500000   0.007736   0.057978   5.235206\n",
       "50%    555313.000000   55017.000000   0.010012   0.064171   7.389420\n",
       "75%    715951.500000   99418.000000   0.011511   0.093837   9.244031\n",
       "max    869170.000000  130157.000000   0.022744   0.150421  18.912736"
      ]
     },
     "execution_count": 97,
     "metadata": {},
     "output_type": "execute_result"
    }
   ],
   "source": [
    "df.describe()"
   ]
  },
  {
   "cell_type": "code",
   "execution_count": 98,
   "metadata": {},
   "outputs": [
    {
     "data": {
      "text/plain": [
       "[<matplotlib.lines.Line2D at 0x1f32c8d0688>]"
      ]
     },
     "execution_count": 98,
     "metadata": {},
     "output_type": "execute_result"
    },
    {
     "data": {
      "image/png": "[encoded data removed]",
      "text/plain": [
       "<Figure size 432x288 with 1 Axes>"
      ]
     },
     "metadata": {
      "needs_background": "light"
     },
     "output_type": "display_data"
    }
   ],
   "source": [
    "plt.plot(df['date'], df['R0_t'])"
   ]
  },
  {
   "cell_type": "code",
   "execution_count": null,
   "metadata": {},
   "outputs": [],
   "source": []
  }
 ],
 "metadata": {
  "kernelspec": {
   "display_name": "Python 3",
   "language": "python",
   "name": "python3"
  },
  "language_info": {
   "codemirror_mode": {
    "name": "ipython",
    "version": 3
   },
   "file_extension": ".py",
   "mimetype": "text/x-python",
   "name": "python",
   "nbconvert_exporter": "python",
   "pygments_lexer": "ipython3",
   "version": "3.7.7"
  }
 },
 "nbformat": 4,
 "nbformat_minor": 4
}
