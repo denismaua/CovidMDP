{
 "cells": [
  {
   "cell_type": "code",
   "execution_count": 148,
   "metadata": {},
   "outputs": [],
   "source": [
    "import pandas as pd\n",
    "import plotly.express as px\n",
    "import plotly.graph_objects as go\n",
    "from sklearn.preprocessing import MinMaxScaler\n",
    "import numpy as np"
   ]
  },
  {
   "cell_type": "code",
   "execution_count": 153,
   "metadata": {},
   "outputs": [],
   "source": [
    "od = pd.read_excel('..\\\\data\\\\raw\\\\OD 2017\\\\Tabelas Gerais\\\\Tab30_OD2017.xlsx', skiprows=7)\n",
    "od.dropna(inplace=True)\n",
    "od.rename(columns={'Unnamed: 0' : 'Origem'}, inplace=True)\n",
    "od = od[od['Origem'] != 'Total']\n",
    "od = od.drop(columns='Total').astype(int)\n",
    "od['Total'] = od.drop(columns=['Origem']).sum(axis=1)"
   ]
  },
  {
   "cell_type": "code",
   "execution_count": 154,
   "metadata": {},
   "outputs": [
    {
     "data": {
      "text/html": [
       "<div>\n",
       "<style scoped>\n",
       "    .dataframe tbody tr th:only-of-type {\n",
       "        vertical-align: middle;\n",
       "    }\n",
       "\n",
       "    .dataframe tbody tr th {\n",
       "        vertical-align: top;\n",
       "    }\n",
       "\n",
       "    .dataframe thead th {\n",
       "        text-align: right;\n",
       "    }\n",
       "</style>\n",
       "<table border=\"1\" class=\"dataframe\">\n",
       "  <thead>\n",
       "    <tr style=\"text-align: right;\">\n",
       "      <th></th>\n",
       "      <th>Origem</th>\n",
       "      <th>1</th>\n",
       "      <th>2</th>\n",
       "      <th>3</th>\n",
       "      <th>4</th>\n",
       "      <th>5</th>\n",
       "      <th>6</th>\n",
       "      <th>7</th>\n",
       "      <th>8</th>\n",
       "      <th>9</th>\n",
       "      <th>...</th>\n",
       "      <th>509</th>\n",
       "      <th>510</th>\n",
       "      <th>511</th>\n",
       "      <th>512</th>\n",
       "      <th>513</th>\n",
       "      <th>514</th>\n",
       "      <th>515</th>\n",
       "      <th>516</th>\n",
       "      <th>517</th>\n",
       "      <th>Total</th>\n",
       "    </tr>\n",
       "  </thead>\n",
       "  <tbody>\n",
       "    <tr>\n",
       "      <th>0</th>\n",
       "      <td>1</td>\n",
       "      <td>25512</td>\n",
       "      <td>4929</td>\n",
       "      <td>3914</td>\n",
       "      <td>1673</td>\n",
       "      <td>3717</td>\n",
       "      <td>3060</td>\n",
       "      <td>253</td>\n",
       "      <td>90</td>\n",
       "      <td>100</td>\n",
       "      <td>...</td>\n",
       "      <td>0</td>\n",
       "      <td>0</td>\n",
       "      <td>0</td>\n",
       "      <td>256</td>\n",
       "      <td>0</td>\n",
       "      <td>0</td>\n",
       "      <td>0</td>\n",
       "      <td>0</td>\n",
       "      <td>0</td>\n",
       "      <td>160370</td>\n",
       "    </tr>\n",
       "    <tr>\n",
       "      <th>1</th>\n",
       "      <td>2</td>\n",
       "      <td>5226</td>\n",
       "      <td>12436</td>\n",
       "      <td>2135</td>\n",
       "      <td>567</td>\n",
       "      <td>1579</td>\n",
       "      <td>3450</td>\n",
       "      <td>2317</td>\n",
       "      <td>0</td>\n",
       "      <td>250</td>\n",
       "      <td>...</td>\n",
       "      <td>0</td>\n",
       "      <td>0</td>\n",
       "      <td>0</td>\n",
       "      <td>543</td>\n",
       "      <td>0</td>\n",
       "      <td>631</td>\n",
       "      <td>405</td>\n",
       "      <td>0</td>\n",
       "      <td>0</td>\n",
       "      <td>137106</td>\n",
       "    </tr>\n",
       "    <tr>\n",
       "      <th>2</th>\n",
       "      <td>3</td>\n",
       "      <td>4150</td>\n",
       "      <td>2135</td>\n",
       "      <td>12003</td>\n",
       "      <td>197</td>\n",
       "      <td>351</td>\n",
       "      <td>156</td>\n",
       "      <td>78</td>\n",
       "      <td>156</td>\n",
       "      <td>0</td>\n",
       "      <td>...</td>\n",
       "      <td>0</td>\n",
       "      <td>0</td>\n",
       "      <td>0</td>\n",
       "      <td>0</td>\n",
       "      <td>0</td>\n",
       "      <td>0</td>\n",
       "      <td>0</td>\n",
       "      <td>706</td>\n",
       "      <td>0</td>\n",
       "      <td>62904</td>\n",
       "    </tr>\n",
       "    <tr>\n",
       "      <th>3</th>\n",
       "      <td>4</td>\n",
       "      <td>1046</td>\n",
       "      <td>642</td>\n",
       "      <td>197</td>\n",
       "      <td>12182</td>\n",
       "      <td>2931</td>\n",
       "      <td>0</td>\n",
       "      <td>0</td>\n",
       "      <td>409</td>\n",
       "      <td>0</td>\n",
       "      <td>...</td>\n",
       "      <td>0</td>\n",
       "      <td>0</td>\n",
       "      <td>136</td>\n",
       "      <td>0</td>\n",
       "      <td>0</td>\n",
       "      <td>0</td>\n",
       "      <td>0</td>\n",
       "      <td>0</td>\n",
       "      <td>0</td>\n",
       "      <td>78115</td>\n",
       "    </tr>\n",
       "    <tr>\n",
       "      <th>4</th>\n",
       "      <td>5</td>\n",
       "      <td>2628</td>\n",
       "      <td>1738</td>\n",
       "      <td>468</td>\n",
       "      <td>3585</td>\n",
       "      <td>35187</td>\n",
       "      <td>5422</td>\n",
       "      <td>210</td>\n",
       "      <td>208</td>\n",
       "      <td>329</td>\n",
       "      <td>...</td>\n",
       "      <td>0</td>\n",
       "      <td>0</td>\n",
       "      <td>300</td>\n",
       "      <td>0</td>\n",
       "      <td>63</td>\n",
       "      <td>0</td>\n",
       "      <td>1174</td>\n",
       "      <td>301</td>\n",
       "      <td>0</td>\n",
       "      <td>186080</td>\n",
       "    </tr>\n",
       "    <tr>\n",
       "      <th>...</th>\n",
       "      <td>...</td>\n",
       "      <td>...</td>\n",
       "      <td>...</td>\n",
       "      <td>...</td>\n",
       "      <td>...</td>\n",
       "      <td>...</td>\n",
       "      <td>...</td>\n",
       "      <td>...</td>\n",
       "      <td>...</td>\n",
       "      <td>...</td>\n",
       "      <td>...</td>\n",
       "      <td>...</td>\n",
       "      <td>...</td>\n",
       "      <td>...</td>\n",
       "      <td>...</td>\n",
       "      <td>...</td>\n",
       "      <td>...</td>\n",
       "      <td>...</td>\n",
       "      <td>...</td>\n",
       "      <td>...</td>\n",
       "      <td>...</td>\n",
       "    </tr>\n",
       "    <tr>\n",
       "      <th>512</th>\n",
       "      <td>513</td>\n",
       "      <td>0</td>\n",
       "      <td>0</td>\n",
       "      <td>0</td>\n",
       "      <td>0</td>\n",
       "      <td>63</td>\n",
       "      <td>0</td>\n",
       "      <td>0</td>\n",
       "      <td>0</td>\n",
       "      <td>0</td>\n",
       "      <td>...</td>\n",
       "      <td>0</td>\n",
       "      <td>0</td>\n",
       "      <td>44</td>\n",
       "      <td>313</td>\n",
       "      <td>361</td>\n",
       "      <td>91</td>\n",
       "      <td>652</td>\n",
       "      <td>0</td>\n",
       "      <td>0</td>\n",
       "      <td>2953</td>\n",
       "    </tr>\n",
       "    <tr>\n",
       "      <th>513</th>\n",
       "      <td>514</td>\n",
       "      <td>0</td>\n",
       "      <td>631</td>\n",
       "      <td>0</td>\n",
       "      <td>0</td>\n",
       "      <td>0</td>\n",
       "      <td>1524</td>\n",
       "      <td>0</td>\n",
       "      <td>0</td>\n",
       "      <td>0</td>\n",
       "      <td>...</td>\n",
       "      <td>0</td>\n",
       "      <td>0</td>\n",
       "      <td>0</td>\n",
       "      <td>736</td>\n",
       "      <td>111</td>\n",
       "      <td>84091</td>\n",
       "      <td>26308</td>\n",
       "      <td>1384</td>\n",
       "      <td>58</td>\n",
       "      <td>156858</td>\n",
       "    </tr>\n",
       "    <tr>\n",
       "      <th>514</th>\n",
       "      <td>515</td>\n",
       "      <td>0</td>\n",
       "      <td>405</td>\n",
       "      <td>0</td>\n",
       "      <td>0</td>\n",
       "      <td>1174</td>\n",
       "      <td>498</td>\n",
       "      <td>0</td>\n",
       "      <td>0</td>\n",
       "      <td>0</td>\n",
       "      <td>...</td>\n",
       "      <td>0</td>\n",
       "      <td>0</td>\n",
       "      <td>294</td>\n",
       "      <td>0</td>\n",
       "      <td>633</td>\n",
       "      <td>25963</td>\n",
       "      <td>75177</td>\n",
       "      <td>1108</td>\n",
       "      <td>0</td>\n",
       "      <td>154921</td>\n",
       "    </tr>\n",
       "    <tr>\n",
       "      <th>515</th>\n",
       "      <td>516</td>\n",
       "      <td>0</td>\n",
       "      <td>0</td>\n",
       "      <td>706</td>\n",
       "      <td>0</td>\n",
       "      <td>301</td>\n",
       "      <td>301</td>\n",
       "      <td>926</td>\n",
       "      <td>0</td>\n",
       "      <td>0</td>\n",
       "      <td>...</td>\n",
       "      <td>0</td>\n",
       "      <td>0</td>\n",
       "      <td>541</td>\n",
       "      <td>0</td>\n",
       "      <td>0</td>\n",
       "      <td>1384</td>\n",
       "      <td>1667</td>\n",
       "      <td>128438</td>\n",
       "      <td>2313</td>\n",
       "      <td>213561</td>\n",
       "    </tr>\n",
       "    <tr>\n",
       "      <th>516</th>\n",
       "      <td>517</td>\n",
       "      <td>0</td>\n",
       "      <td>0</td>\n",
       "      <td>0</td>\n",
       "      <td>0</td>\n",
       "      <td>0</td>\n",
       "      <td>0</td>\n",
       "      <td>0</td>\n",
       "      <td>0</td>\n",
       "      <td>0</td>\n",
       "      <td>...</td>\n",
       "      <td>0</td>\n",
       "      <td>0</td>\n",
       "      <td>0</td>\n",
       "      <td>0</td>\n",
       "      <td>0</td>\n",
       "      <td>58</td>\n",
       "      <td>0</td>\n",
       "      <td>2313</td>\n",
       "      <td>17511</td>\n",
       "      <td>22913</td>\n",
       "    </tr>\n",
       "  </tbody>\n",
       "</table>\n",
       "<p>517 rows × 519 columns</p>\n",
       "</div>"
      ],
      "text/plain": [
       "     Origem      1      2      3      4      5     6     7    8    9  ...  \\\n",
       "0         1  25512   4929   3914   1673   3717  3060   253   90  100  ...   \n",
       "1         2   5226  12436   2135    567   1579  3450  2317    0  250  ...   \n",
       "2         3   4150   2135  12003    197    351   156    78  156    0  ...   \n",
       "3         4   1046    642    197  12182   2931     0     0  409    0  ...   \n",
       "4         5   2628   1738    468   3585  35187  5422   210  208  329  ...   \n",
       "..      ...    ...    ...    ...    ...    ...   ...   ...  ...  ...  ...   \n",
       "512     513      0      0      0      0     63     0     0    0    0  ...   \n",
       "513     514      0    631      0      0      0  1524     0    0    0  ...   \n",
       "514     515      0    405      0      0   1174   498     0    0    0  ...   \n",
       "515     516      0      0    706      0    301   301   926    0    0  ...   \n",
       "516     517      0      0      0      0      0     0     0    0    0  ...   \n",
       "\n",
       "     509  510  511  512  513    514    515     516    517   Total  \n",
       "0      0    0    0  256    0      0      0       0      0  160370  \n",
       "1      0    0    0  543    0    631    405       0      0  137106  \n",
       "2      0    0    0    0    0      0      0     706      0   62904  \n",
       "3      0    0  136    0    0      0      0       0      0   78115  \n",
       "4      0    0  300    0   63      0   1174     301      0  186080  \n",
       "..   ...  ...  ...  ...  ...    ...    ...     ...    ...     ...  \n",
       "512    0    0   44  313  361     91    652       0      0    2953  \n",
       "513    0    0    0  736  111  84091  26308    1384     58  156858  \n",
       "514    0    0  294    0  633  25963  75177    1108      0  154921  \n",
       "515    0    0  541    0    0   1384   1667  128438   2313  213561  \n",
       "516    0    0    0    0    0     58      0    2313  17511   22913  \n",
       "\n",
       "[517 rows x 519 columns]"
      ]
     },
     "execution_count": 154,
     "metadata": {},
     "output_type": "execute_result"
    }
   ],
   "source": [
    "od"
   ]
  },
  {
   "cell_type": "code",
   "execution_count": 171,
   "metadata": {},
   "outputs": [],
   "source": [
    "dg = pd.read_excel('..\\\\data\\\\raw\\\\OD 2017\\\\Tabelas Gerais\\\\Dados Gerais OD2017.xlsx', skiprows=6)\n",
    "dg.columns = dg.columns.str.strip()\n",
    "dg = dg.dropna()"
   ]
  },
  {
   "cell_type": "code",
   "execution_count": 124,
   "metadata": {},
   "outputs": [],
   "source": [
    "scaler = MinMaxScaler()"
   ]
  },
  {
   "cell_type": "code",
   "execution_count": 194,
   "metadata": {},
   "outputs": [],
   "source": [
    "dg_bairros = dg[dg['Nome'].isin(['Pinheiros', 'Moema', 'Butantã'])].copy()\n",
    "dg_bairros['Zona'] = dg_bairros['Zona'].astype(int)"
   ]
  },
  {
   "cell_type": "code",
   "execution_count": 187,
   "metadata": {},
   "outputs": [],
   "source": []
  },
  {
   "cell_type": "code",
   "execution_count": 191,
   "metadata": {},
   "outputs": [
    {
     "data": {
      "text/plain": [
       "Index(['Zona', 'Nome', 'Domicílios', 'Famílias', 'População', 'Matrículas',\n",
       "       'Empregos', 'Automóveis', 'Produzidas', 'Atraidas', 'Área(ha)'],\n",
       "      dtype='object')"
      ]
     },
     "execution_count": 191,
     "metadata": {},
     "output_type": "execute_result"
    }
   ],
   "source": [
    "dg_bairros.columns"
   ]
  },
  {
   "cell_type": "code",
   "execution_count": 189,
   "metadata": {},
   "outputs": [],
   "source": [
    "od_bairros = od[od['Origem'].isin(dg_bairros['Zona'])]"
   ]
  },
  {
   "cell_type": "code",
   "execution_count": 199,
   "metadata": {},
   "outputs": [],
   "source": [
    "df = pd.merge(left=od_bairros, right=dg_bairros, left_on=['Origem'], right_on=['Zona'], how='inner')\n",
    "df = df.drop(columns=['Domicílios', 'Famílias', 'Matrículas', 'Empregos', \n",
    "                      'Automóveis', 'Produzidas', 'Atraidas', 'Área(ha)'])"
   ]
  },
  {
   "cell_type": "code",
   "execution_count": 212,
   "metadata": {},
   "outputs": [
    {
     "data": {
      "text/html": [
       "<div>\n",
       "<style scoped>\n",
       "    .dataframe tbody tr th:only-of-type {\n",
       "        vertical-align: middle;\n",
       "    }\n",
       "\n",
       "    .dataframe tbody tr th {\n",
       "        vertical-align: top;\n",
       "    }\n",
       "\n",
       "    .dataframe thead th {\n",
       "        text-align: right;\n",
       "    }\n",
       "</style>\n",
       "<table border=\"1\" class=\"dataframe\">\n",
       "  <thead>\n",
       "    <tr style=\"text-align: right;\">\n",
       "      <th></th>\n",
       "      <th>Zona</th>\n",
       "      <th>Nome</th>\n",
       "      <th>Domicílios</th>\n",
       "      <th>Famílias</th>\n",
       "      <th>População</th>\n",
       "      <th>Matrículas</th>\n",
       "      <th>Empregos</th>\n",
       "      <th>Automóveis</th>\n",
       "      <th>Produzidas</th>\n",
       "      <th>Atraidas</th>\n",
       "      <th>Área(ha)</th>\n",
       "    </tr>\n",
       "  </thead>\n",
       "  <tbody>\n",
       "    <tr>\n",
       "      <th>64</th>\n",
       "      <td>64</td>\n",
       "      <td>Moema</td>\n",
       "      <td>14875.0</td>\n",
       "      <td>14875.000000</td>\n",
       "      <td>33385.987328</td>\n",
       "      <td>3989.673588</td>\n",
       "      <td>41271.791858</td>\n",
       "      <td>15218.5</td>\n",
       "      <td>104605.778721</td>\n",
       "      <td>106168.388724</td>\n",
       "      <td>175.13</td>\n",
       "    </tr>\n",
       "    <tr>\n",
       "      <th>82</th>\n",
       "      <td>82</td>\n",
       "      <td>Pinheiros</td>\n",
       "      <td>4937.0</td>\n",
       "      <td>4937.000000</td>\n",
       "      <td>11261.998490</td>\n",
       "      <td>12715.096486</td>\n",
       "      <td>75073.819918</td>\n",
       "      <td>3252.4</td>\n",
       "      <td>163842.163465</td>\n",
       "      <td>164357.023291</td>\n",
       "      <td>202.58</td>\n",
       "    </tr>\n",
       "    <tr>\n",
       "      <th>340</th>\n",
       "      <td>340</td>\n",
       "      <td>Butantã</td>\n",
       "      <td>2847.0</td>\n",
       "      <td>3065.839024</td>\n",
       "      <td>7737.997408</td>\n",
       "      <td>1835.700677</td>\n",
       "      <td>13603.161639</td>\n",
       "      <td>3095.91</td>\n",
       "      <td>39505.940371</td>\n",
       "      <td>39510.392852</td>\n",
       "      <td>207.11</td>\n",
       "    </tr>\n",
       "  </tbody>\n",
       "</table>\n",
       "</div>"
      ],
      "text/plain": [
       "     Zona       Nome  Domicílios      Famílias     População    Matrículas  \\\n",
       "64     64      Moema     14875.0  14875.000000  33385.987328   3989.673588   \n",
       "82     82  Pinheiros      4937.0   4937.000000  11261.998490  12715.096486   \n",
       "340   340    Butantã      2847.0   3065.839024   7737.997408   1835.700677   \n",
       "\n",
       "         Empregos Automóveis     Produzidas       Atraidas Área(ha)  \n",
       "64   41271.791858    15218.5  104605.778721  106168.388724   175.13  \n",
       "82   75073.819918     3252.4  163842.163465  164357.023291   202.58  \n",
       "340  13603.161639    3095.91   39505.940371   39510.392852   207.11  "
      ]
     },
     "execution_count": 212,
     "metadata": {},
     "output_type": "execute_result"
    }
   ],
   "source": [
    "dg_bairros"
   ]
  },
  {
   "cell_type": "code",
   "execution_count": 210,
   "metadata": {},
   "outputs": [
    {
     "data": {
      "text/html": [
       "<div>\n",
       "<style scoped>\n",
       "    .dataframe tbody tr th:only-of-type {\n",
       "        vertical-align: middle;\n",
       "    }\n",
       "\n",
       "    .dataframe tbody tr th {\n",
       "        vertical-align: top;\n",
       "    }\n",
       "\n",
       "    .dataframe thead th {\n",
       "        text-align: right;\n",
       "    }\n",
       "</style>\n",
       "<table border=\"1\" class=\"dataframe\">\n",
       "  <thead>\n",
       "    <tr style=\"text-align: right;\">\n",
       "      <th></th>\n",
       "      <th>Origem</th>\n",
       "      <th>1</th>\n",
       "      <th>2</th>\n",
       "      <th>3</th>\n",
       "      <th>4</th>\n",
       "      <th>5</th>\n",
       "      <th>6</th>\n",
       "      <th>7</th>\n",
       "      <th>8</th>\n",
       "      <th>9</th>\n",
       "      <th>...</th>\n",
       "      <th>509</th>\n",
       "      <th>510</th>\n",
       "      <th>511</th>\n",
       "      <th>512</th>\n",
       "      <th>513</th>\n",
       "      <th>514</th>\n",
       "      <th>515</th>\n",
       "      <th>516</th>\n",
       "      <th>517</th>\n",
       "      <th>Total</th>\n",
       "    </tr>\n",
       "  </thead>\n",
       "  <tbody>\n",
       "    <tr>\n",
       "      <th>63</th>\n",
       "      <td>64</td>\n",
       "      <td>94</td>\n",
       "      <td>273</td>\n",
       "      <td>189</td>\n",
       "      <td>193</td>\n",
       "      <td>120</td>\n",
       "      <td>240</td>\n",
       "      <td>120</td>\n",
       "      <td>167</td>\n",
       "      <td>0</td>\n",
       "      <td>...</td>\n",
       "      <td>0</td>\n",
       "      <td>0</td>\n",
       "      <td>0</td>\n",
       "      <td>0</td>\n",
       "      <td>0</td>\n",
       "      <td>0</td>\n",
       "      <td>0</td>\n",
       "      <td>648</td>\n",
       "      <td>0</td>\n",
       "      <td>104535</td>\n",
       "    </tr>\n",
       "    <tr>\n",
       "      <th>81</th>\n",
       "      <td>82</td>\n",
       "      <td>70</td>\n",
       "      <td>259</td>\n",
       "      <td>473</td>\n",
       "      <td>30</td>\n",
       "      <td>259</td>\n",
       "      <td>256</td>\n",
       "      <td>17</td>\n",
       "      <td>0</td>\n",
       "      <td>26</td>\n",
       "      <td>...</td>\n",
       "      <td>59</td>\n",
       "      <td>0</td>\n",
       "      <td>70</td>\n",
       "      <td>262</td>\n",
       "      <td>63</td>\n",
       "      <td>631</td>\n",
       "      <td>0</td>\n",
       "      <td>1018</td>\n",
       "      <td>82</td>\n",
       "      <td>163712</td>\n",
       "    </tr>\n",
       "    <tr>\n",
       "      <th>339</th>\n",
       "      <td>340</td>\n",
       "      <td>518</td>\n",
       "      <td>168</td>\n",
       "      <td>127</td>\n",
       "      <td>0</td>\n",
       "      <td>424</td>\n",
       "      <td>269</td>\n",
       "      <td>0</td>\n",
       "      <td>0</td>\n",
       "      <td>73</td>\n",
       "      <td>...</td>\n",
       "      <td>0</td>\n",
       "      <td>0</td>\n",
       "      <td>0</td>\n",
       "      <td>0</td>\n",
       "      <td>0</td>\n",
       "      <td>0</td>\n",
       "      <td>0</td>\n",
       "      <td>301</td>\n",
       "      <td>0</td>\n",
       "      <td>39442</td>\n",
       "    </tr>\n",
       "  </tbody>\n",
       "</table>\n",
       "<p>3 rows × 519 columns</p>\n",
       "</div>"
      ],
      "text/plain": [
       "     Origem    1    2    3    4    5    6    7    8   9  ...  509  510  511  \\\n",
       "63       64   94  273  189  193  120  240  120  167   0  ...    0    0    0   \n",
       "81       82   70  259  473   30  259  256   17    0  26  ...   59    0   70   \n",
       "339     340  518  168  127    0  424  269    0    0  73  ...    0    0    0   \n",
       "\n",
       "     512  513  514  515   516  517   Total  \n",
       "63     0    0    0    0   648    0  104535  \n",
       "81   262   63  631    0  1018   82  163712  \n",
       "339    0    0    0    0   301    0   39442  \n",
       "\n",
       "[3 rows x 519 columns]"
      ]
     },
     "execution_count": 210,
     "metadata": {},
     "output_type": "execute_result"
    }
   ],
   "source": [
    "od_bairros"
   ]
  },
  {
   "cell_type": "code",
   "execution_count": 209,
   "metadata": {},
   "outputs": [
    {
     "data": {
      "text/plain": [
       "106095"
      ]
     },
     "execution_count": 209,
     "metadata": {},
     "output_type": "execute_result"
    }
   ],
   "source": [
    "od[64].sum()"
   ]
  },
  {
   "cell_type": "code",
   "execution_count": 211,
   "metadata": {},
   "outputs": [
    {
     "data": {
      "application/vnd.plotly.v1+json": {
       "config": {
        "plotlyServerURL": "https://plot.ly"
       },
       "data": [
        {
         "marker": {
          "color": "lightsalmon"
         },
         "name": "Viagens Produzidas",
         "type": "bar",
         "x": [
          "Moema",
          "Pinheiros",
          "Butantã"
         ],
         "y": [
          104599,
          163794,
          39782
         ]
        },
        {
         "marker": {
          "color": "indianred"
         },
         "name": "População",
         "type": "bar",
         "x": [
          "Moema",
          "Pinheiros",
          "Butantã"
         ],
         "y": [
          33385.98732780712,
          11261.998490300522,
          7737.99740805715
         ]
        }
       ],
       "layout": {
        "template": {
         "data": {
          "bar": [
           {
            "error_x": {
             "color": "#2a3f5f"
            },
            "error_y": {
             "color": "#2a3f5f"
            },
            "marker": {
             "line": {
              "color": "#E5ECF6",
              "width": 0.5
             }
            },
            "type": "bar"
           }
          ],
          "barpolar": [
           {
            "marker": {
             "line": {
              "color": "#E5ECF6",
              "width": 0.5
             }
            },
            "type": "barpolar"
           }
          ],
          "carpet": [
           {
            "aaxis": {
             "endlinecolor": "#2a3f5f",
             "gridcolor": "white",
             "linecolor": "white",
             "minorgridcolor": "white",
             "startlinecolor": "#2a3f5f"
            },
            "baxis": {
             "endlinecolor": "#2a3f5f",
             "gridcolor": "white",
             "linecolor": "white",
             "minorgridcolor": "white",
             "startlinecolor": "#2a3f5f"
            },
            "type": "carpet"
           }
          ],
          "choropleth": [
           {
            "colorbar": {
             "outlinewidth": 0,
             "ticks": ""
            },
            "type": "choropleth"
           }
          ],
          "contour": [
           {
            "colorbar": {
             "outlinewidth": 0,
             "ticks": ""
            },
            "colorscale": [
             [
              0,
              "#0d0887"
             ],
             [
              0.1111111111111111,
              "#46039f"
             ],
             [
              0.2222222222222222,
              "#7201a8"
             ],
             [
              0.3333333333333333,
              "#9c179e"
             ],
             [
              0.4444444444444444,
              "#bd3786"
             ],
             [
              0.5555555555555556,
              "#d8576b"
             ],
             [
              0.6666666666666666,
              "#ed7953"
             ],
             [
              0.7777777777777778,
              "#fb9f3a"
             ],
             [
              0.8888888888888888,
              "#fdca26"
             ],
             [
              1,
              "#f0f921"
             ]
            ],
            "type": "contour"
           }
          ],
          "contourcarpet": [
           {
            "colorbar": {
             "outlinewidth": 0,
             "ticks": ""
            },
            "type": "contourcarpet"
           }
          ],
          "heatmap": [
           {
            "colorbar": {
             "outlinewidth": 0,
             "ticks": ""
            },
            "colorscale": [
             [
              0,
              "#0d0887"
             ],
             [
              0.1111111111111111,
              "#46039f"
             ],
             [
              0.2222222222222222,
              "#7201a8"
             ],
             [
              0.3333333333333333,
              "#9c179e"
             ],
             [
              0.4444444444444444,
              "#bd3786"
             ],
             [
              0.5555555555555556,
              "#d8576b"
             ],
             [
              0.6666666666666666,
              "#ed7953"
             ],
             [
              0.7777777777777778,
              "#fb9f3a"
             ],
             [
              0.8888888888888888,
              "#fdca26"
             ],
             [
              1,
              "#f0f921"
             ]
            ],
            "type": "heatmap"
           }
          ],
          "heatmapgl": [
           {
            "colorbar": {
             "outlinewidth": 0,
             "ticks": ""
            },
            "colorscale": [
             [
              0,
              "#0d0887"
             ],
             [
              0.1111111111111111,
              "#46039f"
             ],
             [
              0.2222222222222222,
              "#7201a8"
             ],
             [
              0.3333333333333333,
              "#9c179e"
             ],
             [
              0.4444444444444444,
              "#bd3786"
             ],
             [
              0.5555555555555556,
              "#d8576b"
             ],
             [
              0.6666666666666666,
              "#ed7953"
             ],
             [
              0.7777777777777778,
              "#fb9f3a"
             ],
             [
              0.8888888888888888,
              "#fdca26"
             ],
             [
              1,
              "#f0f921"
             ]
            ],
            "type": "heatmapgl"
           }
          ],
          "histogram": [
           {
            "marker": {
             "colorbar": {
              "outlinewidth": 0,
              "ticks": ""
             }
            },
            "type": "histogram"
           }
          ],
          "histogram2d": [
           {
            "colorbar": {
             "outlinewidth": 0,
             "ticks": ""
            },
            "colorscale": [
             [
              0,
              "#0d0887"
             ],
             [
              0.1111111111111111,
              "#46039f"
             ],
             [
              0.2222222222222222,
              "#7201a8"
             ],
             [
              0.3333333333333333,
              "#9c179e"
             ],
             [
              0.4444444444444444,
              "#bd3786"
             ],
             [
              0.5555555555555556,
              "#d8576b"
             ],
             [
              0.6666666666666666,
              "#ed7953"
             ],
             [
              0.7777777777777778,
              "#fb9f3a"
             ],
             [
              0.8888888888888888,
              "#fdca26"
             ],
             [
              1,
              "#f0f921"
             ]
            ],
            "type": "histogram2d"
           }
          ],
          "histogram2dcontour": [
           {
            "colorbar": {
             "outlinewidth": 0,
             "ticks": ""
            },
            "colorscale": [
             [
              0,
              "#0d0887"
             ],
             [
              0.1111111111111111,
              "#46039f"
             ],
             [
              0.2222222222222222,
              "#7201a8"
             ],
             [
              0.3333333333333333,
              "#9c179e"
             ],
             [
              0.4444444444444444,
              "#bd3786"
             ],
             [
              0.5555555555555556,
              "#d8576b"
             ],
             [
              0.6666666666666666,
              "#ed7953"
             ],
             [
              0.7777777777777778,
              "#fb9f3a"
             ],
             [
              0.8888888888888888,
              "#fdca26"
             ],
             [
              1,
              "#f0f921"
             ]
            ],
            "type": "histogram2dcontour"
           }
          ],
          "mesh3d": [
           {
            "colorbar": {
             "outlinewidth": 0,
             "ticks": ""
            },
            "type": "mesh3d"
           }
          ],
          "parcoords": [
           {
            "line": {
             "colorbar": {
              "outlinewidth": 0,
              "ticks": ""
             }
            },
            "type": "parcoords"
           }
          ],
          "pie": [
           {
            "automargin": true,
            "type": "pie"
           }
          ],
          "scatter": [
           {
            "marker": {
             "colorbar": {
              "outlinewidth": 0,
              "ticks": ""
             }
            },
            "type": "scatter"
           }
          ],
          "scatter3d": [
           {
            "line": {
             "colorbar": {
              "outlinewidth": 0,
              "ticks": ""
             }
            },
            "marker": {
             "colorbar": {
              "outlinewidth": 0,
              "ticks": ""
             }
            },
            "type": "scatter3d"
           }
          ],
          "scattercarpet": [
           {
            "marker": {
             "colorbar": {
              "outlinewidth": 0,
              "ticks": ""
             }
            },
            "type": "scattercarpet"
           }
          ],
          "scattergeo": [
           {
            "marker": {
             "colorbar": {
              "outlinewidth": 0,
              "ticks": ""
             }
            },
            "type": "scattergeo"
           }
          ],
          "scattergl": [
           {
            "marker": {
             "colorbar": {
              "outlinewidth": 0,
              "ticks": ""
             }
            },
            "type": "scattergl"
           }
          ],
          "scattermapbox": [
           {
            "marker": {
             "colorbar": {
              "outlinewidth": 0,
              "ticks": ""
             }
            },
            "type": "scattermapbox"
           }
          ],
          "scatterpolar": [
           {
            "marker": {
             "colorbar": {
              "outlinewidth": 0,
              "ticks": ""
             }
            },
            "type": "scatterpolar"
           }
          ],
          "scatterpolargl": [
           {
            "marker": {
             "colorbar": {
              "outlinewidth": 0,
              "ticks": ""
             }
            },
            "type": "scatterpolargl"
           }
          ],
          "scatterternary": [
           {
            "marker": {
             "colorbar": {
              "outlinewidth": 0,
              "ticks": ""
             }
            },
            "type": "scatterternary"
           }
          ],
          "surface": [
           {
            "colorbar": {
             "outlinewidth": 0,
             "ticks": ""
            },
            "colorscale": [
             [
              0,
              "#0d0887"
             ],
             [
              0.1111111111111111,
              "#46039f"
             ],
             [
              0.2222222222222222,
              "#7201a8"
             ],
             [
              0.3333333333333333,
              "#9c179e"
             ],
             [
              0.4444444444444444,
              "#bd3786"
             ],
             [
              0.5555555555555556,
              "#d8576b"
             ],
             [
              0.6666666666666666,
              "#ed7953"
             ],
             [
              0.7777777777777778,
              "#fb9f3a"
             ],
             [
              0.8888888888888888,
              "#fdca26"
             ],
             [
              1,
              "#f0f921"
             ]
            ],
            "type": "surface"
           }
          ],
          "table": [
           {
            "cells": {
             "fill": {
              "color": "#EBF0F8"
             },
             "line": {
              "color": "white"
             }
            },
            "header": {
             "fill": {
              "color": "#C8D4E3"
             },
             "line": {
              "color": "white"
             }
            },
            "type": "table"
           }
          ]
         },
         "layout": {
          "annotationdefaults": {
           "arrowcolor": "#2a3f5f",
           "arrowhead": 0,
           "arrowwidth": 1
          },
          "coloraxis": {
           "colorbar": {
            "outlinewidth": 0,
            "ticks": ""
           }
          },
          "colorscale": {
           "diverging": [
            [
             0,
             "#8e0152"
            ],
            [
             0.1,
             "#c51b7d"
            ],
            [
             0.2,
             "#de77ae"
            ],
            [
             0.3,
             "#f1b6da"
            ],
            [
             0.4,
             "#fde0ef"
            ],
            [
             0.5,
             "#f7f7f7"
            ],
            [
             0.6,
             "#e6f5d0"
            ],
            [
             0.7,
             "#b8e186"
            ],
            [
             0.8,
             "#7fbc41"
            ],
            [
             0.9,
             "#4d9221"
            ],
            [
             1,
             "#276419"
            ]
           ],
           "sequential": [
            [
             0,
             "#0d0887"
            ],
            [
             0.1111111111111111,
             "#46039f"
            ],
            [
             0.2222222222222222,
             "#7201a8"
            ],
            [
             0.3333333333333333,
             "#9c179e"
            ],
            [
             0.4444444444444444,
             "#bd3786"
            ],
            [
             0.5555555555555556,
             "#d8576b"
            ],
            [
             0.6666666666666666,
             "#ed7953"
            ],
            [
             0.7777777777777778,
             "#fb9f3a"
            ],
            [
             0.8888888888888888,
             "#fdca26"
            ],
            [
             1,
             "#f0f921"
            ]
           ],
           "sequentialminus": [
            [
             0,
             "#0d0887"
            ],
            [
             0.1111111111111111,
             "#46039f"
            ],
            [
             0.2222222222222222,
             "#7201a8"
            ],
            [
             0.3333333333333333,
             "#9c179e"
            ],
            [
             0.4444444444444444,
             "#bd3786"
            ],
            [
             0.5555555555555556,
             "#d8576b"
            ],
            [
             0.6666666666666666,
             "#ed7953"
            ],
            [
             0.7777777777777778,
             "#fb9f3a"
            ],
            [
             0.8888888888888888,
             "#fdca26"
            ],
            [
             1,
             "#f0f921"
            ]
           ]
          },
          "colorway": [
           "#636efa",
           "#EF553B",
           "#00cc96",
           "#ab63fa",
           "#FFA15A",
           "#19d3f3",
           "#FF6692",
           "#B6E880",
           "#FF97FF",
           "#FECB52"
          ],
          "font": {
           "color": "#2a3f5f"
          },
          "geo": {
           "bgcolor": "white",
           "lakecolor": "white",
           "landcolor": "#E5ECF6",
           "showlakes": true,
           "showland": true,
           "subunitcolor": "white"
          },
          "hoverlabel": {
           "align": "left"
          },
          "hovermode": "closest",
          "mapbox": {
           "style": "light"
          },
          "paper_bgcolor": "white",
          "plot_bgcolor": "#E5ECF6",
          "polar": {
           "angularaxis": {
            "gridcolor": "white",
            "linecolor": "white",
            "ticks": ""
           },
           "bgcolor": "#E5ECF6",
           "radialaxis": {
            "gridcolor": "white",
            "linecolor": "white",
            "ticks": ""
           }
          },
          "scene": {
           "xaxis": {
            "backgroundcolor": "#E5ECF6",
            "gridcolor": "white",
            "gridwidth": 2,
            "linecolor": "white",
            "showbackground": true,
            "ticks": "",
            "zerolinecolor": "white"
           },
           "yaxis": {
            "backgroundcolor": "#E5ECF6",
            "gridcolor": "white",
            "gridwidth": 2,
            "linecolor": "white",
            "showbackground": true,
            "ticks": "",
            "zerolinecolor": "white"
           },
           "zaxis": {
            "backgroundcolor": "#E5ECF6",
            "gridcolor": "white",
            "gridwidth": 2,
            "linecolor": "white",
            "showbackground": true,
            "ticks": "",
            "zerolinecolor": "white"
           }
          },
          "shapedefaults": {
           "line": {
            "color": "#2a3f5f"
           }
          },
          "ternary": {
           "aaxis": {
            "gridcolor": "white",
            "linecolor": "white",
            "ticks": ""
           },
           "baxis": {
            "gridcolor": "white",
            "linecolor": "white",
            "ticks": ""
           },
           "bgcolor": "#E5ECF6",
           "caxis": {
            "gridcolor": "white",
            "linecolor": "white",
            "ticks": ""
           }
          },
          "title": {
           "x": 0.05
          },
          "xaxis": {
           "automargin": true,
           "gridcolor": "white",
           "linecolor": "white",
           "ticks": "",
           "title": {
            "standoff": 15
           },
           "zerolinecolor": "white",
           "zerolinewidth": 2
          },
          "yaxis": {
           "automargin": true,
           "gridcolor": "white",
           "linecolor": "white",
           "ticks": "",
           "title": {
            "standoff": 15
           },
           "zerolinecolor": "white",
           "zerolinewidth": 2
          }
         }
        }
       }
      },
      "text/html": [
       "<div>\n",
       "        \n",
       "        \n",
       "            <div id=\"f2302885-ef09-4f7e-a766-eeee7fb8148c\" class=\"plotly-graph-div\" style=\"height:525px; width:100%;\"></div>\n",
       "            <script type=\"text/javascript\">\n",
       "                require([\"plotly\"], function(Plotly) {\n",
       "                    window.PLOTLYENV=window.PLOTLYENV || {};\n",
       "                    \n",
       "                if (document.getElementById(\"f2302885-ef09-4f7e-a766-eeee7fb8148c\")) {\n",
       "                    Plotly.newPlot(\n",
       "                        'f2302885-ef09-4f7e-a766-eeee7fb8148c',\n",
       "                        [{\"marker\": {\"color\": \"lightsalmon\"}, \"name\": \"Viagens Produzidas\", \"type\": \"bar\", \"x\": [\"Moema\", \"Pinheiros\", \"Butant\\u00e3\"], \"y\": [104599, 163794, 39782]}, {\"marker\": {\"color\": \"indianred\"}, \"name\": \"Popula\\u00e7\\u00e3o\", \"type\": \"bar\", \"x\": [\"Moema\", \"Pinheiros\", \"Butant\\u00e3\"], \"y\": [33385.98732780712, 11261.998490300522, 7737.99740805715]}],\n",
       "                        {\"template\": {\"data\": {\"bar\": [{\"error_x\": {\"color\": \"#2a3f5f\"}, \"error_y\": {\"color\": \"#2a3f5f\"}, \"marker\": {\"line\": {\"color\": \"#E5ECF6\", \"width\": 0.5}}, \"type\": \"bar\"}], \"barpolar\": [{\"marker\": {\"line\": {\"color\": \"#E5ECF6\", \"width\": 0.5}}, \"type\": \"barpolar\"}], \"carpet\": [{\"aaxis\": {\"endlinecolor\": \"#2a3f5f\", \"gridcolor\": \"white\", \"linecolor\": \"white\", \"minorgridcolor\": \"white\", \"startlinecolor\": \"#2a3f5f\"}, \"baxis\": {\"endlinecolor\": \"#2a3f5f\", \"gridcolor\": \"white\", \"linecolor\": \"white\", \"minorgridcolor\": \"white\", \"startlinecolor\": \"#2a3f5f\"}, \"type\": \"carpet\"}], \"choropleth\": [{\"colorbar\": {\"outlinewidth\": 0, \"ticks\": \"\"}, \"type\": \"choropleth\"}], \"contour\": [{\"colorbar\": {\"outlinewidth\": 0, \"ticks\": \"\"}, \"colorscale\": [[0.0, \"#0d0887\"], [0.1111111111111111, \"#46039f\"], [0.2222222222222222, \"#7201a8\"], [0.3333333333333333, \"#9c179e\"], [0.4444444444444444, \"#bd3786\"], [0.5555555555555556, \"#d8576b\"], [0.6666666666666666, \"#ed7953\"], [0.7777777777777778, \"#fb9f3a\"], [0.8888888888888888, \"#fdca26\"], [1.0, \"#f0f921\"]], \"type\": \"contour\"}], \"contourcarpet\": [{\"colorbar\": {\"outlinewidth\": 0, \"ticks\": \"\"}, \"type\": \"contourcarpet\"}], \"heatmap\": [{\"colorbar\": {\"outlinewidth\": 0, \"ticks\": \"\"}, \"colorscale\": [[0.0, \"#0d0887\"], [0.1111111111111111, \"#46039f\"], [0.2222222222222222, \"#7201a8\"], [0.3333333333333333, \"#9c179e\"], [0.4444444444444444, \"#bd3786\"], [0.5555555555555556, \"#d8576b\"], [0.6666666666666666, \"#ed7953\"], [0.7777777777777778, \"#fb9f3a\"], [0.8888888888888888, \"#fdca26\"], [1.0, \"#f0f921\"]], \"type\": \"heatmap\"}], \"heatmapgl\": [{\"colorbar\": {\"outlinewidth\": 0, \"ticks\": \"\"}, \"colorscale\": [[0.0, \"#0d0887\"], [0.1111111111111111, \"#46039f\"], [0.2222222222222222, \"#7201a8\"], [0.3333333333333333, \"#9c179e\"], [0.4444444444444444, \"#bd3786\"], [0.5555555555555556, \"#d8576b\"], [0.6666666666666666, \"#ed7953\"], [0.7777777777777778, \"#fb9f3a\"], [0.8888888888888888, \"#fdca26\"], [1.0, \"#f0f921\"]], \"type\": \"heatmapgl\"}], \"histogram\": [{\"marker\": {\"colorbar\": {\"outlinewidth\": 0, \"ticks\": \"\"}}, \"type\": \"histogram\"}], \"histogram2d\": [{\"colorbar\": {\"outlinewidth\": 0, \"ticks\": \"\"}, \"colorscale\": [[0.0, \"#0d0887\"], [0.1111111111111111, \"#46039f\"], [0.2222222222222222, \"#7201a8\"], [0.3333333333333333, \"#9c179e\"], [0.4444444444444444, \"#bd3786\"], [0.5555555555555556, \"#d8576b\"], [0.6666666666666666, \"#ed7953\"], [0.7777777777777778, \"#fb9f3a\"], [0.8888888888888888, \"#fdca26\"], [1.0, \"#f0f921\"]], \"type\": \"histogram2d\"}], \"histogram2dcontour\": [{\"colorbar\": {\"outlinewidth\": 0, \"ticks\": \"\"}, \"colorscale\": [[0.0, \"#0d0887\"], [0.1111111111111111, \"#46039f\"], [0.2222222222222222, \"#7201a8\"], [0.3333333333333333, \"#9c179e\"], [0.4444444444444444, \"#bd3786\"], [0.5555555555555556, \"#d8576b\"], [0.6666666666666666, \"#ed7953\"], [0.7777777777777778, \"#fb9f3a\"], [0.8888888888888888, \"#fdca26\"], [1.0, \"#f0f921\"]], \"type\": \"histogram2dcontour\"}], \"mesh3d\": [{\"colorbar\": {\"outlinewidth\": 0, \"ticks\": \"\"}, \"type\": \"mesh3d\"}], \"parcoords\": [{\"line\": {\"colorbar\": {\"outlinewidth\": 0, \"ticks\": \"\"}}, \"type\": \"parcoords\"}], \"pie\": [{\"automargin\": true, \"type\": \"pie\"}], \"scatter\": [{\"marker\": {\"colorbar\": {\"outlinewidth\": 0, \"ticks\": \"\"}}, \"type\": \"scatter\"}], \"scatter3d\": [{\"line\": {\"colorbar\": {\"outlinewidth\": 0, \"ticks\": \"\"}}, \"marker\": {\"colorbar\": {\"outlinewidth\": 0, \"ticks\": \"\"}}, \"type\": \"scatter3d\"}], \"scattercarpet\": [{\"marker\": {\"colorbar\": {\"outlinewidth\": 0, \"ticks\": \"\"}}, \"type\": \"scattercarpet\"}], \"scattergeo\": [{\"marker\": {\"colorbar\": {\"outlinewidth\": 0, \"ticks\": \"\"}}, \"type\": \"scattergeo\"}], \"scattergl\": [{\"marker\": {\"colorbar\": {\"outlinewidth\": 0, \"ticks\": \"\"}}, \"type\": \"scattergl\"}], \"scattermapbox\": [{\"marker\": {\"colorbar\": {\"outlinewidth\": 0, \"ticks\": \"\"}}, \"type\": \"scattermapbox\"}], \"scatterpolar\": [{\"marker\": {\"colorbar\": {\"outlinewidth\": 0, \"ticks\": \"\"}}, \"type\": \"scatterpolar\"}], \"scatterpolargl\": [{\"marker\": {\"colorbar\": {\"outlinewidth\": 0, \"ticks\": \"\"}}, \"type\": \"scatterpolargl\"}], \"scatterternary\": [{\"marker\": {\"colorbar\": {\"outlinewidth\": 0, \"ticks\": \"\"}}, \"type\": \"scatterternary\"}], \"surface\": [{\"colorbar\": {\"outlinewidth\": 0, \"ticks\": \"\"}, \"colorscale\": [[0.0, \"#0d0887\"], [0.1111111111111111, \"#46039f\"], [0.2222222222222222, \"#7201a8\"], [0.3333333333333333, \"#9c179e\"], [0.4444444444444444, \"#bd3786\"], [0.5555555555555556, \"#d8576b\"], [0.6666666666666666, \"#ed7953\"], [0.7777777777777778, \"#fb9f3a\"], [0.8888888888888888, \"#fdca26\"], [1.0, \"#f0f921\"]], \"type\": \"surface\"}], \"table\": [{\"cells\": {\"fill\": {\"color\": \"#EBF0F8\"}, \"line\": {\"color\": \"white\"}}, \"header\": {\"fill\": {\"color\": \"#C8D4E3\"}, \"line\": {\"color\": \"white\"}}, \"type\": \"table\"}]}, \"layout\": {\"annotationdefaults\": {\"arrowcolor\": \"#2a3f5f\", \"arrowhead\": 0, \"arrowwidth\": 1}, \"coloraxis\": {\"colorbar\": {\"outlinewidth\": 0, \"ticks\": \"\"}}, \"colorscale\": {\"diverging\": [[0, \"#8e0152\"], [0.1, \"#c51b7d\"], [0.2, \"#de77ae\"], [0.3, \"#f1b6da\"], [0.4, \"#fde0ef\"], [0.5, \"#f7f7f7\"], [0.6, \"#e6f5d0\"], [0.7, \"#b8e186\"], [0.8, \"#7fbc41\"], [0.9, \"#4d9221\"], [1, \"#276419\"]], \"sequential\": [[0.0, \"#0d0887\"], [0.1111111111111111, \"#46039f\"], [0.2222222222222222, \"#7201a8\"], [0.3333333333333333, \"#9c179e\"], [0.4444444444444444, \"#bd3786\"], [0.5555555555555556, \"#d8576b\"], [0.6666666666666666, \"#ed7953\"], [0.7777777777777778, \"#fb9f3a\"], [0.8888888888888888, \"#fdca26\"], [1.0, \"#f0f921\"]], \"sequentialminus\": [[0.0, \"#0d0887\"], [0.1111111111111111, \"#46039f\"], [0.2222222222222222, \"#7201a8\"], [0.3333333333333333, \"#9c179e\"], [0.4444444444444444, \"#bd3786\"], [0.5555555555555556, \"#d8576b\"], [0.6666666666666666, \"#ed7953\"], [0.7777777777777778, \"#fb9f3a\"], [0.8888888888888888, \"#fdca26\"], [1.0, \"#f0f921\"]]}, \"colorway\": [\"#636efa\", \"#EF553B\", \"#00cc96\", \"#ab63fa\", \"#FFA15A\", \"#19d3f3\", \"#FF6692\", \"#B6E880\", \"#FF97FF\", \"#FECB52\"], \"font\": {\"color\": \"#2a3f5f\"}, \"geo\": {\"bgcolor\": \"white\", \"lakecolor\": \"white\", \"landcolor\": \"#E5ECF6\", \"showlakes\": true, \"showland\": true, \"subunitcolor\": \"white\"}, \"hoverlabel\": {\"align\": \"left\"}, \"hovermode\": \"closest\", \"mapbox\": {\"style\": \"light\"}, \"paper_bgcolor\": \"white\", \"plot_bgcolor\": \"#E5ECF6\", \"polar\": {\"angularaxis\": {\"gridcolor\": \"white\", \"linecolor\": \"white\", \"ticks\": \"\"}, \"bgcolor\": \"#E5ECF6\", \"radialaxis\": {\"gridcolor\": \"white\", \"linecolor\": \"white\", \"ticks\": \"\"}}, \"scene\": {\"xaxis\": {\"backgroundcolor\": \"#E5ECF6\", \"gridcolor\": \"white\", \"gridwidth\": 2, \"linecolor\": \"white\", \"showbackground\": true, \"ticks\": \"\", \"zerolinecolor\": \"white\"}, \"yaxis\": {\"backgroundcolor\": \"#E5ECF6\", \"gridcolor\": \"white\", \"gridwidth\": 2, \"linecolor\": \"white\", \"showbackground\": true, \"ticks\": \"\", \"zerolinecolor\": \"white\"}, \"zaxis\": {\"backgroundcolor\": \"#E5ECF6\", \"gridcolor\": \"white\", \"gridwidth\": 2, \"linecolor\": \"white\", \"showbackground\": true, \"ticks\": \"\", \"zerolinecolor\": \"white\"}}, \"shapedefaults\": {\"line\": {\"color\": \"#2a3f5f\"}}, \"ternary\": {\"aaxis\": {\"gridcolor\": \"white\", \"linecolor\": \"white\", \"ticks\": \"\"}, \"baxis\": {\"gridcolor\": \"white\", \"linecolor\": \"white\", \"ticks\": \"\"}, \"bgcolor\": \"#E5ECF6\", \"caxis\": {\"gridcolor\": \"white\", \"linecolor\": \"white\", \"ticks\": \"\"}}, \"title\": {\"x\": 0.05}, \"xaxis\": {\"automargin\": true, \"gridcolor\": \"white\", \"linecolor\": \"white\", \"ticks\": \"\", \"title\": {\"standoff\": 15}, \"zerolinecolor\": \"white\", \"zerolinewidth\": 2}, \"yaxis\": {\"automargin\": true, \"gridcolor\": \"white\", \"linecolor\": \"white\", \"ticks\": \"\", \"title\": {\"standoff\": 15}, \"zerolinecolor\": \"white\", \"zerolinewidth\": 2}}}},\n",
       "                        {\"responsive\": true}\n",
       "                    ).then(function(){\n",
       "                            \n",
       "var gd = document.getElementById('f2302885-ef09-4f7e-a766-eeee7fb8148c');\n",
       "var x = new MutationObserver(function (mutations, observer) {{\n",
       "        var display = window.getComputedStyle(gd).display;\n",
       "        if (!display || display === 'none') {{\n",
       "            console.log([gd, 'removed!']);\n",
       "            Plotly.purge(gd);\n",
       "            observer.disconnect();\n",
       "        }}\n",
       "}});\n",
       "\n",
       "// Listen for the removal of the full notebook cells\n",
       "var notebookContainer = gd.closest('#notebook-container');\n",
       "if (notebookContainer) {{\n",
       "    x.observe(notebookContainer, {childList: true});\n",
       "}}\n",
       "\n",
       "// Listen for the clearing of the current output cell\n",
       "var outputEl = gd.closest('.output');\n",
       "if (outputEl) {{\n",
       "    x.observe(outputEl, {childList: true});\n",
       "}}\n",
       "\n",
       "                        })\n",
       "                };\n",
       "                });\n",
       "            </script>\n",
       "        </div>"
      ]
     },
     "metadata": {},
     "output_type": "display_data"
    }
   ],
   "source": [
    "fig = go.Figure()\n",
    "\n",
    "\n",
    "fig.add_trace(go.Bar(\n",
    "    x=df['Nome'],\n",
    "    y=df.drop(columns=['Origem', 'Nome', 'População', 'Total']).sum(axis=1),\n",
    "    name='Viagens Produzidas',\n",
    "    marker_color='lightsalmon'\n",
    "))\n",
    "\n",
    "fig.add_trace(go.Bar(\n",
    "    x=df['Nome'],\n",
    "    y=df['População'],\n",
    "    name='População',\n",
    "    marker_color='indianred'\n",
    "))"
   ]
  },
  {
   "cell_type": "code",
   "execution_count": 125,
   "metadata": {},
   "outputs": [
    {
     "data": {
      "application/vnd.plotly.v1+json": {
       "config": {
        "plotlyServerURL": "https://plot.ly"
       },
       "data": [
        {
         "marker": {
          "color": "lightsalmon"
         },
         "name": "Viagens Produzidas",
         "type": "bar",
         "x": [
          "Sé",
          "Parque Dom Pedro",
          "Praça João Mendes",
          "Ladeira da Memória",
          "República",
          "Santa Ifigênia",
          "Luz",
          "Bom Retiro",
          "Ponte Pequena",
          "Canindé",
          "Bom Jardim",
          "Pari",
          "João Teodoro",
          "Oriente",
          "Bresser",
          "Brás",
          "Gasômetro",
          "Independência",
          "Cambuci",
          "Glicério",
          "Aclimação",
          "Pires da Mota",
          "Centro Cultural",
          "Liberdade",
          "Treze de Maio",
          "Bexiga",
          "Bela Vista",
          "São Carlos do Pinhal",
          "Masp",
          "Higienópolis",
          "Vila Buarque",
          "Consolação",
          "Pacaembu",
          "FAAP",
          "Santa Cecília",
          "Marechal Deodoro",
          "Rudge",
          "Catumbi",
          "Belém",
          "Quarta Parada",
          "Belenzinho",
          "Celso Garcia",
          "Mooca",
          "Alto da Mooca",
          "Parque da Mooca",
          "Água Rasa",
          "Vila Bertioga",
          "Regente Feijó",
          "Ana Rosa",
          "Jardim da Glória",
          "Chácara Klabin",
          "Vila Mariana",
          "Santa Cruz",
          "Vila Clementino",
          "França Pinto",
          "Rodrigues Alves",
          "Paraíso",
          "Bosque da Saúde",
          "Saúde",
          "Planalto Paulista",
          "Mirandópolis",
          "Parque Ibirapuera",
          "Jardim Luzitânia",
          "Moema",
          "Vila Helena",
          "Bandeirantes",
          "Vila Nova Conceição",
          "Chácara Itaim",
          "Vila Olímpia",
          "Hélio Pelegrino",
          "Brooklin",
          "Vila Cordeiro",
          "Berrini",
          "Campinas",
          "Pamplona",
          "Jardins",
          "Clínicas",
          "Oscar Freire",
          "Trianon",
          "Jardim Paulistano",
          "Jardim Europa",
          "Pinheiros",
          "Vila Madalena",
          "PUC",
          "Cardoso de Almeida",
          "Zequinha de Abreu",
          "Sumaré",
          "Perdizes",
          "Vila Anglo Brasileira",
          "Pompéia",
          "Santa Marina",
          "Barra Funda",
          "Francisco Matarazzo",
          "Água Branca",
          "Vila Beatriz",
          "Alto de Pinheiros",
          "Boaçava",
          "Vila Anastácio",
          "Lapa de Baixo",
          "Lapa",
          "Vila Ipojuca",
          "Alto da Lapa",
          "Gavião Peixoto",
          "Bela Aliança",
          "Vila Hamburguesa",
          "CEASA",
          "Vila Leopoldina",
          "Emissário",
          "Vila Zatt",
          "Pirituba",
          "São Domingos",
          "Jardim Mutinga",
          "Vila Jaguara",
          "Parque do Jaraguá",
          "Nova Jaraguá",
          "Parada de Taipas",
          "Parque Morro Doce",
          "Anhanguera",
          "Perus",
          "Vista Alegre",
          "Jardim Damasceno",
          "Vila Souza",
          "Vila Terezinha",
          "Brasilândia",
          "Vila Morro Grande",
          "Itaberaba",
          "Freguesia do Ó",
          "Carandiru",
          "Santana",
          "Zaki Narchi",
          "Tietê",
          "Parque Anhembi",
          "Alfredo Pujol",
          "Santa Terezinha",
          "Jardim São Paulo",
          "Casa Verde",
          "Parque Peruche",
          "Limão",
          "Jardim Primavera",
          "Vila Santa Maria",
          "Cachoeirinha",
          "Jardim Peri",
          "Reserva da Cantareira",
          "Mandaqui",
          "Horto Florestal",
          "ETA Guaraú",
          "Parque Palmas do Tremembé",
          "Tremembé",
          "Cantareira",
          "Jardim das Pedras",
          "Jardim Guapira",
          "Parada Inglesa",
          "Tucuruvi",
          "Vila Gustavo",
          "Cohab Jova Real",
          "Jaçanã",
          "Parque Edu Chaves",
          "Vila Medeiros",
          "Jardim Brasil",
          "Jardim Japão",
          "Parque Novo Mundo",
          "Vila Maria",
          "Vila Isolina Mazzei",
          "Vila Guilherme",
          "Coroa",
          "Gomes Cardim",
          "Tatuapé",
          "Chácara do Piqueri",
          "Parque São Jorge",
          "Penha",
          "Tiquatira",
          "Vila Esperança",
          "Vila Ré",
          "Rui Barbosa",
          "Estação Eng. Goulart",
          "Cangaíba",
          "Parque Ecológico do Tietê",
          "USP Leste I",
          "USP Leste II",
          "Ermelino Matarazzo",
          "Parque Buturussu",
          "Ponte Rasa",
          "Burgo Paulista",
          "Limoeiro",
          "Laranja da China",
          "Pedro José Nunes",
          "Parque Cruzeiro do Sul",
          "Vila Jacuí",
          "Parada XV",
          "Itaquera",
          "Arena Corinthians",
          "Vila Campanela",
          "Araucárias",
          "Parque Guarani",
          "Rio Verde",
          "Saudade",
          "São Miguel Paulista",
          "Cidade Nitro-Operária",
          "Jardim Helena",
          "Jardim Romano",
          "Vila Curuçá",
          "Jardim Robru",
          "Lageado",
          "Fábrica Bandeirantes",
          "Fazenda Itaim",
          "Itaim Paulista",
          "Jardim das Oliveiras",
          "Vila Califórnia",
          "Vila Carrão",
          "Jardim Anália Franco",
          "Vila Formosa",
          "Barreira Grande",
          "Aricanduva",
          "Frei Mont'Alverne",
          "Vila Matilde",
          "Cidade Patriarca",
          "Cidade A.E.Carvalho",
          "Artur Alvim",
          "Cidade Líder",
          "Santa Marcelina",
          "Parque Savoy",
          "Vila Carmosina",
          "Fazenda Caguaçu",
          "Parque do Carmo",
          "Gleba do Pêssego",
          "José Bonifácio",
          "Guaianases",
          "Juscelino Kubitschek",
          "Cidade Tiradentes",
          "Santa Etelvina",
          "Terceira Divisão",
          "Iguatemi",
          "Sítio Carrãozinho",
          "Parque São Rafael",
          "Rodolfo Pirani",
          "Ipiranga",
          "Sacomã",
          "Alto do Ipiranga",
          "Vila São José",
          "Vila Monumento",
          "Vila Independência",
          "Vila Carioca",
          "Moinho Velho",
          "Vila Heliópolis",
          "São João Clímaco",
          "Anchieta",
          "Vila das Mercês",
          "Parque do Estado",
          "Água Funda",
          "Jardim da Saúde",
          "Vila Gumercindo",
          "Jardim Previdência",
          "Tamanduateí",
          "Orfanato",
          "Vila Zelina",
          "Linhas Corrente",
          "Vila Ema",
          "Parque São Lucas",
          "Vila Cardoso Franco",
          "Parque Santa Madalena",
          "Jardim Colorado",
          "Teotônio Vilela",
          "Fazenda da Juta",
          "São Mateus",
          "Cidade IV Centenário",
          "Rio Claro",
          "Cidade Satélite",
          "Joaquim Nabuco",
          "Vieira de Moraes",
          "Campo Belo",
          "Congonhas",
          "Jardim Aeroporto",
          "Vila Santa Catarina",
          "Jabaquara",
          "Cidade Vargas",
          "Jardim Bom Clima",
          "Cupecê",
          "Jardim Miriam",
          "Vila Missionária",
          "Jurubatuba",
          "Vila São Pedro",
          "Campo Grande",
          "Vila Sabará",
          "Mar Paulista",
          "Pedreira",
          "Vila Socorro",
          "Parque Interlagos",
          "Jardim Represa",
          "Rio Bonito",
          "SESC Interlagos",
          "Jardim Presidente",
          "Vila Natal",
          "Grajaú",
          "Cocaia",
          "Belmira Marin",
          "Bororé",
          "Jaceguava",
          "Parelheiros",
          "Marsilac",
          "Granja Julieta",
          "Chácara Flora",
          "Santo Amaro",
          "Vila Miranda",
          "Jardim São Luís",
          "Centro Empresarial",
          "Guarapiranga",
          "Jardim Capela",
          "Riviera",
          "Jardim Turquesa",
          "Morro do Índio",
          "Jardim Ângela",
          "Capão Redondo",
          "Jardim Sônia Ingá",
          "Adventista",
          "Parque Fernanda",
          "Morumbi",
          "Jóquei Clube",
          "Fazenda Morumbi",
          "Real Parque",
          "Paraisópolis",
          "Jardim Vitória Régia",
          "Vila Suzana",
          "Parque Arariba",
          "Jardim Mitsutani",
          "Pirajussara",
          "Jardim Umarizal",
          "Portal do Morumbi",
          "Jardim Jussara",
          "Vila Sônia",
          "Jardim Maria do Carmo",
          "Jardim Cambará",
          "Jardim João XXIII",
          "Raposo Tavares",
          "Rio Pequeno",
          "Jardim Ester Yolanda",
          "Jardim Adalgiza",
          "Parque Continental",
          "Jaguaré",
          "Cidade Universitária",
          "Butantã",
          "Jardim Caxingui",
          "Jardim Bonfiglioli",
          "Melhoramentos",
          "Caieiras",
          "Serpa",
          "Santa Inês",
          "Cajamar",
          "Jordanésia",
          "Cristais",
          "Baltazar Fidélis",
          "Franco da Rocha",
          "Parque do Juqueri",
          "Palmares",
          "Sete Voltas",
          "Afonso Moreno",
          "Francisco Morato",
          "Cascatas",
          "Mairiporã",
          "Paiva Castro",
          "Colinas",
          "Pirucaia",
          "Guarulhos",
          "Macedo",
          "Cumbica",
          "Várzea do Palácio",
          "Ponte Grande",
          "Gopouva",
          "Vila São Rafael",
          "Vila Rosália",
          "André Luiz",
          "Jardim Santa Clara",
          "Parque CECAP",
          "Taboão",
          "Aeroporto",
          "Jardim Presidente Dutra",
          "Baquirivu",
          "Água Chata",
          "Pimentas",
          "Cabuçu",
          "Invernada",
          "Morro dos Macacos",
          "Chácaras Bananal",
          "Estrada de Nazaré Paulista",
          "Água Azul",
          "Vasconcelândia",
          "Arujazinho",
          "Arujá",
          "Fazenda Velha",
          "Santa Isabel",
          "Jaguari",
          "Ferraz de Vasconcelos",
          "Paiol Velho",
          "Santos Dumont",
          "Jardim São José",
          "Poá",
          "Itaquaquecetuba",
          "Quinta da Boa Vista",
          "Bonsucesso",
          "Pinheirinho",
          "Miguel Badra",
          "Suzano",
          "Guaió",
          "Ouro Fino",
          "Mogi das Cruzes",
          "Estudantes",
          "Vila Oliveira",
          "Brás Cubas",
          "Jundiapeba",
          "Jardim Graziella",
          "Itapeti",
          "Sabaúna",
          "César de Souza",
          "Taiaçupeba",
          "Biritiba-Mirim",
          "Salesópolis",
          "Guararema",
          "Santa Paula",
          "Vila Gerti",
          "Estrada das Lágrimas",
          "Santo Antônio",
          "São Caetano do Sul",
          "Santo André",
          "Vila Gilda",
          "Valparaíso",
          "Sacadura Cabral",
          "Campestre",
          "Utinga",
          "Vila Lucinda",
          "Parque Oratório",
          "Parque das Nações",
          "Jardim do Estádio",
          "Carijós",
          "Parque do Pedroso",
          "Paranapiacaba",
          "Capuava",
          "Mauá",
          "Jardim Zaíra",
          "Barão de Mauá",
          "Estrada do Carneiro",
          "Ribeirão Pires",
          "Jardim Santa Luzia",
          "Ouro Fino Paulista",
          "Parque Sete Pontes",
          "Rio Grande da Serra",
          "Planalto",
          "Paulicéia",
          "Rudge Ramos",
          "Baeta Neves",
          "São Bernardo do Campo",
          "Montanhão",
          "Demarchi",
          "Riacho Grande",
          "Caminho do Mar",
          "Reservatório Billings",
          "Diadema",
          "Jardim das Nações",
          "Piraporinha",
          "Vila Conceição",
          "Eldorado",
          "Taboão da Serra",
          "Jardim Irapuã",
          "Parque Pinheiros",
          "Parque Industrial",
          "Santo Eduardo",
          "São Marcos",
          "Embu das Artes",
          "Ressaca",
          "Itapecerica da Serra",
          "Jardim Petrópolis",
          "Embu-Mirim",
          "São Lourenço da Serra",
          "Embu-Guaçu",
          "Cipó",
          "Santa Rita",
          "Juquitiba",
          "Barueri",
          "Aphaville",
          "Tamboré",
          "Antônio João",
          "Vutopoca",
          "Jardim Silveira",
          "Jardim Belval",
          "Morada dos Lagos",
          "Cidade Ariston",
          "Carapicuíba",
          "Jardim Planalto",
          "Aldeia de Carapicuíba",
          "Estrada do Jacarandá",
          "Osasco",
          "Vila Yara",
          "Bussocaba City",
          "Nova Granada",
          "Recanto das Rosas",
          "Jardim Novo Osasco",
          "Jardim Veloso",
          "Quitaúna",
          "Jardim Piratininga",
          "Presidente Altino",
          "Munhoz Junior",
          "Rochdale",
          "Mutinga",
          "Três Montanhas",
          "Ribeirão Itaqui",
          "Jandira",
          "Ribeirão das Pombas",
          "Granja Viana",
          "Fernando Nobre",
          "Cotia",
          "Capueira",
          "Caucaia",
          "Caucaia do Alto",
          "Vargem Grande Paulista",
          "Quatro Encruzilhadas",
          "Itapevi",
          "Amador Bueno",
          "Santana de Parnaíba",
          "Pirapora do Bom Jesus"
         ],
         "y": [
          0.43975299027646003,
          0.37596042579562466,
          0.1724900049906494,
          0.21420031698849956,
          0.5102527681651412,
          0.3007716311745576,
          0.25521961599420867,
          0.11020286167126428,
          0.09929198589456019,
          0.0654021860141164,
          0.031191558673035687,
          0.12641698795114648,
          0.06882708770929194,
          0.1821449920752875,
          0.0990177743897423,
          0.13324759653616028,
          0.08658502476129888,
          0.20411207572624918,
          0.158019863881409,
          0.1289973182114829,
          0.12167861314789323,
          0.1014418040923325,
          0.20270811282158155,
          0.24568253985664223,
          0.1113079340356804,
          0.14932461706363354,
          0.3227167779051338,
          0.20863382344069628,
          0.26004025424890725,
          0.17286019052215354,
          0.3260731267241048,
          0.30718818038729634,
          0.01890139902709758,
          0.08719925853209097,
          0.3133168075199763,
          0.3086661803982648,
          0.09249154057507637,
          0.03332492418051892,
          0.07419614897362634,
          0.11574193406858578,
          0.222772168629107,
          0.08039058686746262,
          0.299491063447058,
          0.16524807914840875,
          0.27050416527275817,
          0.19693047641506847,
          0.11905440904678596,
          0.13469543328159878,
          0.16483401977613374,
          0.04596059032252757,
          0.08201940320608092,
          0.11495494704975842,
          0.18015421655030958,
          0.24622547863618166,
          0.13821905111850874,
          0.21052039859384342,
          0.30306952358493155,
          0.15236836476711219,
          0.4507735506550913,
          0.18999018322812752,
          0.20847203865285371,
          0.13343406035943645,
          0.10438409353902853,
          0.28664699656138776,
          0.18720967856927406,
          0.16416494370437806,
          0.08953005632304309,
          0.4709418068344476,
          0.16629830921186128,
          0.14950285454176515,
          0.18273728892569416,
          0.16693173778799064,
          0.496797209623727,
          0.20985406463713593,
          0.11704443871647079,
          0.13886070603978262,
          0.26294689619997696,
          0.15944027947636571,
          0.34347184670480035,
          0.2214586955210293,
          0.239457938697276,
          0.44891713876747413,
          0.24702069200015356,
          0.14945898070099428,
          0.05571703566394832,
          0.028208137500616976,
          0.12186781908621759,
          0.2848289742844451,
          0.056443696151715746,
          0.12341162985834234,
          0.16837409030333278,
          0.08627242364580649,
          0.32853280392232137,
          0.14738868383961917,
          0.11645214186606413,
          0.09286995245172507,
          0.11984413818066152,
          0.043262349115119475,
          0.11947121053410917,
          0.41016831102165724,
          0.13025869113364522,
          0.08688665741659857,
          0.03137528038126368,
          0.04911402262793338,
          0.13064258724039027,
          0.08434745888198486,
          0.13770901771954744,
          0.07070543651729452,
          0.4951629090550123,
          0.2483067439577495,
          0.22865948963754723,
          0.16067423124804625,
          0.15766613104019392,
          0.0006526233814665929,
          0.19186030569098558,
          0.6587191032186946,
          0.16408268025293268,
          0.05936679079307452,
          0.3040649113474205,
          0,
          0.25950554181451235,
          0.1984276712313742,
          0.23279734124524928,
          0.353011664957415,
          0.2196598680494239,
          0.19714710350387463,
          0.3521369302570459,
          0.09831579293740848,
          0.1709132888379465,
          0.026425762719300652,
          0.08856208971103592,
          0.040100690464569134,
          0.2506677050142316,
          0.2028589291492314,
          0.22983311487816782,
          0.24731958254040506,
          0.2911605179306903,
          0.09146050531696108,
          0.17017840200503453,
          0.24903888867561327,
          0.4399915542856516,
          0.2682995047740223,
          0,
          0.4491803818120993,
          0.053476727669586104,
          0,
          0.2014385135542747,
          0.13399619394431314,
          0.0011708831255724166,
          0.1704443871647079,
          0.490852304199275,
          0.2192293559868598,
          0.11263511771899902,
          0.277074272928195,
          0.11674006394612292,
          0.24287461404730698,
          0.09375017138219051,
          0.20532683269259244,
          0.27949007628564065,
          0.15203656884628253,
          0.3359968410834645,
          0.18703144109114242,
          0.2646744286803297,
          0.07097416379201606,
          0.10178456847335488,
          0.32922655902951065,
          0.3205011489462052,
          0.2031194300788084,
          0.23568753050602992,
          0.26774559753429017,
          0.22277491074415517,
          0.14405701405608173,
          0.12483478756834722,
          0.23638951195836372,
          0.16594183425559803,
          0.16002160786657965,
          0.039272571720019085,
          0.01064489061703073,
          0,
          0.3299724143226153,
          0.21902918158834273,
          0.17522115157863563,
          0.1866941609402164,
          0.11771625690327464,
          0.08167115459496219,
          0.04850527308723765,
          0.17250371556589028,
          0.21089058412534756,
          0.2480818905237988,
          0.23195825404050652,
          0.07798026774011331,
          0.14172621626512963,
          0.10207249055341366,
          0.09300431608908584,
          0.1323838302959839,
          0.13963946671346544,
          0.137687080799162,
          0.2782561245139601,
          0.45359518703966745,
          0.14445736285311586,
          0.3831283145315645,
          0.26093966798470997,
          0.1925184133025485,
          0.4628388568670787,
          0.4021723035411674,
          0.2782095085581411,
          0.3582737837348704,
          0.2739976198441382,
          0.22230875118596477,
          0.25256250651252327,
          0.3018328296982028,
          0.14890781557631033,
          0.23634015388749652,
          0.13995480994400603,
          0.20139189759845563,
          0.1907086173707504,
          0.17546519981792358,
          0.3716306261345501,
          0.25373613175314386,
          0.17332635008034397,
          0.24540558623677616,
          0.21407143758123517,
          0.11524561124486539,
          0.03472340285509019,
          0.14368957063962576,
          0.481934946062597,
          0.25046204638561814,
          0.16281033887057766,
          0.6735292665939092,
          0.33224014346745934,
          0.1370618785681772,
          0.20550507017072409,
          0.2589132449641057,
          0.2896633231143846,
          0.277518495566,
          0.11604905095398182,
          0.13168459095869828,
          0.11943282092343467,
          0.22180145990205166,
          0.1533034259985412,
          0.08236765181719964,
          0.1441941198084907,
          0.2567798794566225,
          0.304393965153202,
          0.08987282070406546,
          0.12848454269747342,
          0.5465638556331269,
          0.016384137412869294,
          0.17743678053756423,
          0.12720123285492566,
          0.10540141822190292,
          0.12318677642439166,
          0.03615478691023961,
          0.2881962915636089,
          0.355723616740064,
          0.11876648696672717,
          0.16494370437806088,
          0.2591901985839718,
          0.13357116611184539,
          0.15615248353359915,
          0.23152774197794243,
          0.3135498872990715,
          0.318674900324118,
          0.2965213528498802,
          0.2739564881184155,
          0.06062267948514048,
          0.14979351873687213,
          0.10892229394376471,
          0.18363944477654506,
          0.0753615478691024,
          0.06240231215140862,
          0.1130820824718522,
          0.32468013227962994,
          0.37252729775530463,
          0.31020176482524503,
          0.43847242254896046,
          0.3403595461251172,
          0.5747966721691775,
          0.2796820243390132,
          0.21508876226410956,
          0.23300848410395908,
          0.23815817616443916,
          0.05256908758863887,
          0.22470261762302499,
          0.46501061198523647,
          0.139357028863503,
          0.1939031814018789,
          0.136568297859505,
          0.2599058906115465,
          0.2464009739992651,
          0.3651647188509441,
          0.2754290038992876,
          0.40053800297245273,
          0.4663268272083624,
          0.4646020368430578,
          0.02476952523020056,
          0.011207024201907416,
          0.6042908616273904,
          0.028561870341832062,
          0.7367405026845306,
          0.1379887134544617,
          0.327592258460796,
          0.3600561585161867,
          0.446693283463401,
          0.5690958149840135,
          0.276109048431236,
          0.40148677477912265,
          0.16670962646908813,
          0.21498730400732693,
          0.07873160726331434,
          0.4117943852452274,
          0.25762170877641344,
          0.12415748515144702,
          0.5107682857941988,
          0.47994965476771545,
          0.1287340751668577,
          0.05017247903653046,
          0.13103196757723168,
          0.10910327353694452,
          0.2748284807037364,
          0.2741347255965471,
          0.22870062136326993,
          0.26423569027262106,
          0.26743573853384595,
          0.24101820215968983,
          0.1807657082060535,
          0.08654663515062438,
          0.14146571533555263,
          0.24633242112306064,
          0.17386106251473887,
          0.1924059865855732,
          0.22383610926780045,
          0.09447683186995794,
          0.18687239841834805,
          0.18850121475696635,
          0.1665176784157156,
          0.1433605168338443,
          0.1957650775195924,
          0.24571818735226855,
          0.1081545017302746,
          0.08222506183469434,
          0.190917018114412,
          0.010389873917550085,
          0.29939234730532355,
          0.10602936256793591,
          0.00034002226597419123,
          0.32414541984523504,
          0.025073900000548422,
          0.0008006975940682568,
          0.1781031144942717,
          0.3211044142568046,
          0.018731387894110486,
          0.0010365194882116474,
          0.001349120603704049,
          0.24072479584953466,
          0.3608541139952068,
          0.013134731080777225,
          0.15156218294294757,
          0.0673079559726008,
          0.07458004508037139,
          0.04479519142705152,
          0.33332327891149,
          0.34943046270449324,
          0.1165234368573168,
          0.07066704690662001,
          0.2683625734201304,
          0.1378982236578718,
          0.25461360856856113,
          0.3148825552124865,
          0.44072644111856357,
          0.2897812340614563,
          0.2806472488359722,
          0.39711584339232536,
          0.1120784683642187,
          0.3508700731047872,
          0.2534564360182296,
          1,
          0.3657570157013508,
          0.24986974953521152,
          0.3761551159640454,
          0,
          0.48816228933701145,
          0.3013721543701088,
          0.13682331455898564,
          0.0023116029856148643,
          0.027478734897801373,
          0.3606210342161116,
          0.02733066068519971,
          0.20932757854788556,
          0.04491584448917139,
          0.29915652541118015,
          0.0026790464020708454,
          0.3975436133398413,
          0.09390647193993672,
          0.40502136107622533,
          0.524851788681646,
          0.3217789745586566,
          0.4147558694972606,
          0.21485568248501435,
          0.4507241925842241,
          0.8336523327172715,
          0.0808485200805085,
          0.06344980009981299,
          0.6747440235602525,
          0.21551653221162548,
          0.2536456419565539,
          0.5323624417986081,
          0.17802359315787453,
          0.06769185207934585,
          0.04557120998568616,
          0.06711600791922825,
          0.1505009844193023,
          0.0999829988867013,
          0.15141136661529772,
          0.08689762587679128,
          0.1282377523431373,
          0.30453655513570727,
          0.2525844434329087,
          0.2605064138070977,
          0.05253069797796436,
          0.21736745986914627,
          0.9199960513543306,
          0.13425121064379378,
          0.13145151117960305,
          0.10203958517283551,
          0.13801065037484714,
          0.19828782336391707,
          0.2494419795876956,
          0.2761419538118141,
          0.18587701065585907,
          0.5008198923994055,
          0.499064938768571,
          0.38410999171881255,
          0.017437109591370015,
          0.2085899495999254,
          0.720290554510505,
          0.6333764759434247,
          0.33791083738709343,
          0.07281686510439232,
          0.4836953839235279,
          0.0727016962723688,
          0.04995585194772432,
          0.039563235915126053,
          0.12964445736285313,
          0.4879511464783017,
          0.3222780394974252,
          0.2865373119594606,
          0.3804410417843491,
          0.6927432667364992,
          0.6861704169660142,
          0.45460976960749366,
          0.167381444655892,
          0.09442198956899436,
          0.6194739526491574,
          0.4898980481625087,
          0.45689395144262673,
          0.5037649239611497,
          0.252513148441656,
          0.2299702206305768,
          0.34079828453282585,
          0.21466647654669,
          0.40325818110024625,
          0.32081923429179393,
          0.3201199949545083,
          0.5122983859910827,
          0.3775481104085203,
          0.09036914352778586,
          0.7128155488891692,
          0.018235065070390095,
          0.04172676468813925,
          0.05521248649508339,
          0.19666997548549148,
          0.06990473892322627,
          0.02402915416719224,
          0.120249971207792,
          0.4792696102357671,
          0.3276032269209887,
          0.34947982077536044,
          0.04302378510592791,
          0.17003032779243285,
          0.29366955319977406,
          0.11679764836213469,
          0.03286973308252121,
          0.409153728453831,
          0.5334428351275906,
          0.31754789103931647,
          0.11607098787436726,
          0.18526277688506698,
          0.24697133392928636,
          0.20224195326339112,
          0.2009038011198798,
          0.43676682698899316,
          0.09794834952095251,
          0.23654855463115812,
          0.4078238026554642,
          0.30194799853022636,
          0.0600468353250229,
          0.12930443509687892,
          0.4381982110441426,
          0.2139644950943562,
          0.26263429508448455,
          0.126164713366714,
          0.07409194860179553,
          0.40951294552514245,
          0.02743486105703051,
          0.22310122243488847,
          0.15280161894472444,
          0.6707569882802003,
          0.01887671999166397,
          0,
          0.15834891768719048,
          0.26358580900620265,
          0.008097465737272474,
          0.4301226822272555,
          0.4248112053789329,
          0.5856088318041472,
          0.06283008209892454
         ]
        },
        {
         "marker": {
          "color": "indianred"
         },
         "name": "População",
         "type": "bar",
         "x": [
          "Sé",
          "Parque Dom Pedro",
          "Praça João Mendes",
          "Ladeira da Memória",
          "República",
          "Santa Ifigênia",
          "Luz",
          "Bom Retiro",
          "Ponte Pequena",
          "Canindé",
          "Bom Jardim",
          "Pari",
          "João Teodoro",
          "Oriente",
          "Bresser",
          "Brás",
          "Gasômetro",
          "Independência",
          "Cambuci",
          "Glicério",
          "Aclimação",
          "Pires da Mota",
          "Centro Cultural",
          "Liberdade",
          "Treze de Maio",
          "Bexiga",
          "Bela Vista",
          "São Carlos do Pinhal",
          "Masp",
          "Higienópolis",
          "Vila Buarque",
          "Consolação",
          "Pacaembu",
          "FAAP",
          "Santa Cecília",
          "Marechal Deodoro",
          "Rudge",
          "Catumbi",
          "Belém",
          "Quarta Parada",
          "Belenzinho",
          "Celso Garcia",
          "Mooca",
          "Alto da Mooca",
          "Parque da Mooca",
          "Água Rasa",
          "Vila Bertioga",
          "Regente Feijó",
          "Ana Rosa",
          "Jardim da Glória",
          "Chácara Klabin",
          "Vila Mariana",
          "Santa Cruz",
          "Vila Clementino",
          "França Pinto",
          "Rodrigues Alves",
          "Paraíso",
          "Bosque da Saúde",
          "Saúde",
          "Planalto Paulista",
          "Mirandópolis",
          "Parque Ibirapuera",
          "Jardim Luzitânia",
          "Moema",
          "Vila Helena",
          "Bandeirantes",
          "Vila Nova Conceição",
          "Chácara Itaim",
          "Vila Olímpia",
          "Hélio Pelegrino",
          "Brooklin",
          "Vila Cordeiro",
          "Berrini",
          "Campinas",
          "Pamplona",
          "Jardins",
          "Clínicas",
          "Oscar Freire",
          "Trianon",
          "Jardim Paulistano",
          "Jardim Europa",
          "Pinheiros",
          "Vila Madalena",
          "PUC",
          "Cardoso de Almeida",
          "Zequinha de Abreu",
          "Sumaré",
          "Perdizes",
          "Vila Anglo Brasileira",
          "Pompéia",
          "Santa Marina",
          "Barra Funda",
          "Francisco Matarazzo",
          "Água Branca",
          "Vila Beatriz",
          "Alto de Pinheiros",
          "Boaçava",
          "Vila Anastácio",
          "Lapa de Baixo",
          "Lapa",
          "Vila Ipojuca",
          "Alto da Lapa",
          "Gavião Peixoto",
          "Bela Aliança",
          "Vila Hamburguesa",
          "CEASA",
          "Vila Leopoldina",
          "Emissário",
          "Vila Zatt",
          "Pirituba",
          "São Domingos",
          "Jardim Mutinga",
          "Vila Jaguara",
          "Parque do Jaraguá",
          "Nova Jaraguá",
          "Parada de Taipas",
          "Parque Morro Doce",
          "Anhanguera",
          "Perus",
          "Vista Alegre",
          "Jardim Damasceno",
          "Vila Souza",
          "Vila Terezinha",
          "Brasilândia",
          "Vila Morro Grande",
          "Itaberaba",
          "Freguesia do Ó",
          "Carandiru",
          "Santana",
          "Zaki Narchi",
          "Tietê",
          "Parque Anhembi",
          "Alfredo Pujol",
          "Santa Terezinha",
          "Jardim São Paulo",
          "Casa Verde",
          "Parque Peruche",
          "Limão",
          "Jardim Primavera",
          "Vila Santa Maria",
          "Cachoeirinha",
          "Jardim Peri",
          "Reserva da Cantareira",
          "Mandaqui",
          "Horto Florestal",
          "ETA Guaraú",
          "Parque Palmas do Tremembé",
          "Tremembé",
          "Cantareira",
          "Jardim das Pedras",
          "Jardim Guapira",
          "Parada Inglesa",
          "Tucuruvi",
          "Vila Gustavo",
          "Cohab Jova Real",
          "Jaçanã",
          "Parque Edu Chaves",
          "Vila Medeiros",
          "Jardim Brasil",
          "Jardim Japão",
          "Parque Novo Mundo",
          "Vila Maria",
          "Vila Isolina Mazzei",
          "Vila Guilherme",
          "Coroa",
          "Gomes Cardim",
          "Tatuapé",
          "Chácara do Piqueri",
          "Parque São Jorge",
          "Penha",
          "Tiquatira",
          "Vila Esperança",
          "Vila Ré",
          "Rui Barbosa",
          "Estação Eng. Goulart",
          "Cangaíba",
          "Parque Ecológico do Tietê",
          "USP Leste I",
          "USP Leste II",
          "Ermelino Matarazzo",
          "Parque Buturussu",
          "Ponte Rasa",
          "Burgo Paulista",
          "Limoeiro",
          "Laranja da China",
          "Pedro José Nunes",
          "Parque Cruzeiro do Sul",
          "Vila Jacuí",
          "Parada XV",
          "Itaquera",
          "Arena Corinthians",
          "Vila Campanela",
          "Araucárias",
          "Parque Guarani",
          "Rio Verde",
          "Saudade",
          "São Miguel Paulista",
          "Cidade Nitro-Operária",
          "Jardim Helena",
          "Jardim Romano",
          "Vila Curuçá",
          "Jardim Robru",
          "Lageado",
          "Fábrica Bandeirantes",
          "Fazenda Itaim",
          "Itaim Paulista",
          "Jardim das Oliveiras",
          "Vila Califórnia",
          "Vila Carrão",
          "Jardim Anália Franco",
          "Vila Formosa",
          "Barreira Grande",
          "Aricanduva",
          "Frei Mont'Alverne",
          "Vila Matilde",
          "Cidade Patriarca",
          "Cidade A.E.Carvalho",
          "Artur Alvim",
          "Cidade Líder",
          "Santa Marcelina",
          "Parque Savoy",
          "Vila Carmosina",
          "Fazenda Caguaçu",
          "Parque do Carmo",
          "Gleba do Pêssego",
          "José Bonifácio",
          "Guaianases",
          "Juscelino Kubitschek",
          "Cidade Tiradentes",
          "Santa Etelvina",
          "Terceira Divisão",
          "Iguatemi",
          "Sítio Carrãozinho",
          "Parque São Rafael",
          "Rodolfo Pirani",
          "Ipiranga",
          "Sacomã",
          "Alto do Ipiranga",
          "Vila São José",
          "Vila Monumento",
          "Vila Independência",
          "Vila Carioca",
          "Moinho Velho",
          "Vila Heliópolis",
          "São João Clímaco",
          "Anchieta",
          "Vila das Mercês",
          "Parque do Estado",
          "Água Funda",
          "Jardim da Saúde",
          "Vila Gumercindo",
          "Jardim Previdência",
          "Tamanduateí",
          "Orfanato",
          "Vila Zelina",
          "Linhas Corrente",
          "Vila Ema",
          "Parque São Lucas",
          "Vila Cardoso Franco",
          "Parque Santa Madalena",
          "Jardim Colorado",
          "Teotônio Vilela",
          "Fazenda da Juta",
          "São Mateus",
          "Cidade IV Centenário",
          "Rio Claro",
          "Cidade Satélite",
          "Joaquim Nabuco",
          "Vieira de Moraes",
          "Campo Belo",
          "Congonhas",
          "Jardim Aeroporto",
          "Vila Santa Catarina",
          "Jabaquara",
          "Cidade Vargas",
          "Jardim Bom Clima",
          "Cupecê",
          "Jardim Miriam",
          "Vila Missionária",
          "Jurubatuba",
          "Vila São Pedro",
          "Campo Grande",
          "Vila Sabará",
          "Mar Paulista",
          "Pedreira",
          "Vila Socorro",
          "Parque Interlagos",
          "Jardim Represa",
          "Rio Bonito",
          "SESC Interlagos",
          "Jardim Presidente",
          "Vila Natal",
          "Grajaú",
          "Cocaia",
          "Belmira Marin",
          "Bororé",
          "Jaceguava",
          "Parelheiros",
          "Marsilac",
          "Granja Julieta",
          "Chácara Flora",
          "Santo Amaro",
          "Vila Miranda",
          "Jardim São Luís",
          "Centro Empresarial",
          "Guarapiranga",
          "Jardim Capela",
          "Riviera",
          "Jardim Turquesa",
          "Morro do Índio",
          "Jardim Ângela",
          "Capão Redondo",
          "Jardim Sônia Ingá",
          "Adventista",
          "Parque Fernanda",
          "Morumbi",
          "Jóquei Clube",
          "Fazenda Morumbi",
          "Real Parque",
          "Paraisópolis",
          "Jardim Vitória Régia",
          "Vila Suzana",
          "Parque Arariba",
          "Jardim Mitsutani",
          "Pirajussara",
          "Jardim Umarizal",
          "Portal do Morumbi",
          "Jardim Jussara",
          "Vila Sônia",
          "Jardim Maria do Carmo",
          "Jardim Cambará",
          "Jardim João XXIII",
          "Raposo Tavares",
          "Rio Pequeno",
          "Jardim Ester Yolanda",
          "Jardim Adalgiza",
          "Parque Continental",
          "Jaguaré",
          "Cidade Universitária",
          "Butantã",
          "Jardim Caxingui",
          "Jardim Bonfiglioli",
          "Melhoramentos",
          "Caieiras",
          "Serpa",
          "Santa Inês",
          "Cajamar",
          "Jordanésia",
          "Cristais",
          "Baltazar Fidélis",
          "Franco da Rocha",
          "Parque do Juqueri",
          "Palmares",
          "Sete Voltas",
          "Afonso Moreno",
          "Francisco Morato",
          "Cascatas",
          "Mairiporã",
          "Paiva Castro",
          "Colinas",
          "Pirucaia",
          "Guarulhos",
          "Macedo",
          "Cumbica",
          "Várzea do Palácio",
          "Ponte Grande",
          "Gopouva",
          "Vila São Rafael",
          "Vila Rosália",
          "André Luiz",
          "Jardim Santa Clara",
          "Parque CECAP",
          "Taboão",
          "Aeroporto",
          "Jardim Presidente Dutra",
          "Baquirivu",
          "Água Chata",
          "Pimentas",
          "Cabuçu",
          "Invernada",
          "Morro dos Macacos",
          "Chácaras Bananal",
          "Estrada de Nazaré Paulista",
          "Água Azul",
          "Vasconcelândia",
          "Arujazinho",
          "Arujá",
          "Fazenda Velha",
          "Santa Isabel",
          "Jaguari",
          "Ferraz de Vasconcelos",
          "Paiol Velho",
          "Santos Dumont",
          "Jardim São José",
          "Poá",
          "Itaquaquecetuba",
          "Quinta da Boa Vista",
          "Bonsucesso",
          "Pinheirinho",
          "Miguel Badra",
          "Suzano",
          "Guaió",
          "Ouro Fino",
          "Mogi das Cruzes",
          "Estudantes",
          "Vila Oliveira",
          "Brás Cubas",
          "Jundiapeba",
          "Jardim Graziella",
          "Itapeti",
          "Sabaúna",
          "César de Souza",
          "Taiaçupeba",
          "Biritiba-Mirim",
          "Salesópolis",
          "Guararema",
          "Santa Paula",
          "Vila Gerti",
          "Estrada das Lágrimas",
          "Santo Antônio",
          "São Caetano do Sul",
          "Santo André",
          "Vila Gilda",
          "Valparaíso",
          "Sacadura Cabral",
          "Campestre",
          "Utinga",
          "Vila Lucinda",
          "Parque Oratório",
          "Parque das Nações",
          "Jardim do Estádio",
          "Carijós",
          "Parque do Pedroso",
          "Paranapiacaba",
          "Capuava",
          "Mauá",
          "Jardim Zaíra",
          "Barão de Mauá",
          "Estrada do Carneiro",
          "Ribeirão Pires",
          "Jardim Santa Luzia",
          "Ouro Fino Paulista",
          "Parque Sete Pontes",
          "Rio Grande da Serra",
          "Planalto",
          "Paulicéia",
          "Rudge Ramos",
          "Baeta Neves",
          "São Bernardo do Campo",
          "Montanhão",
          "Demarchi",
          "Riacho Grande",
          "Caminho do Mar",
          "Reservatório Billings",
          "Diadema",
          "Jardim das Nações",
          "Piraporinha",
          "Vila Conceição",
          "Eldorado",
          "Taboão da Serra",
          "Jardim Irapuã",
          "Parque Pinheiros",
          "Parque Industrial",
          "Santo Eduardo",
          "São Marcos",
          "Embu das Artes",
          "Ressaca",
          "Itapecerica da Serra",
          "Jardim Petrópolis",
          "Embu-Mirim",
          "São Lourenço da Serra",
          "Embu-Guaçu",
          "Cipó",
          "Santa Rita",
          "Juquitiba",
          "Barueri",
          "Aphaville",
          "Tamboré",
          "Antônio João",
          "Vutopoca",
          "Jardim Silveira",
          "Jardim Belval",
          "Morada dos Lagos",
          "Cidade Ariston",
          "Carapicuíba",
          "Jardim Planalto",
          "Aldeia de Carapicuíba",
          "Estrada do Jacarandá",
          "Osasco",
          "Vila Yara",
          "Bussocaba City",
          "Nova Granada",
          "Recanto das Rosas",
          "Jardim Novo Osasco",
          "Jardim Veloso",
          "Quitaúna",
          "Jardim Piratininga",
          "Presidente Altino",
          "Munhoz Junior",
          "Rochdale",
          "Mutinga",
          "Três Montanhas",
          "Ribeirão Itaqui",
          "Jandira",
          "Ribeirão das Pombas",
          "Granja Viana",
          "Fernando Nobre",
          "Cotia",
          "Capueira",
          "Caucaia",
          "Caucaia do Alto",
          "Vargem Grande Paulista",
          "Quatro Encruzilhadas",
          "Itapevi",
          "Amador Bueno",
          "Santana de Parnaíba",
          "Pirapora do Bom Jesus"
         ],
         "y": [
          0.017387045250843943,
          0.030355366994825245,
          0.09130595202305071,
          0.12839864857820862,
          0.07971813948422095,
          0.11720528418758018,
          0.09706251623881408,
          0.06530532712109703,
          0.03974180690537442,
          0.008629559117483962,
          0.014460772516000744,
          0.07665328302571046,
          0.007648805470569512,
          0.017786808787794213,
          0.04491742007940565,
          0.06458575476219079,
          0.037204643194142545,
          0.10255264349326737,
          0.11050524819056008,
          0.1229299176588816,
          0.09962634655326763,
          0.07261302065605478,
          0.028420506956509533,
          0.06088664254853437,
          0.09808061348325921,
          0.07612026265705081,
          0.09347001124776999,
          0.048334064103703465,
          0.07063017941036336,
          0.10369862518953922,
          0.10678475592565227,
          0.04560499871403762,
          0.009802194730720318,
          0.04027481280817547,
          0.21337766068790706,
          0.22969875924681254,
          0.02455612896251466,
          0.02018005310196103,
          0.04987446001114809,
          0.04199113695187068,
          0.1175357284747869,
          0.028399192699566846,
          0.149021133892799,
          0.0978087560727621,
          0.1773403427950983,
          0.193325529336336,
          0.12261011044650802,
          0.12751918916426616,
          0.0713497492362676,
          0.0474172672441652,
          0.08573588953596194,
          0.05407466810704196,
          0.07085405289594296,
          0.04645249995969607,
          0.08271369381776353,
          0.11522244009131903,
          0.12970456422203216,
          0.1640575615275704,
          0.2811402685496474,
          0.11757841162310952,
          0.1497779621765469,
          0.024332253612327336,
          0.011188040030466936,
          0.17795325059727307,
          0.1431686004057433,
          0.05822153595235219,
          0.05636128979931648,
          0.14636671778834093,
          0.05341372335337293,
          0.06237907610764562,
          0.15160622736507887,
          0.05379214217831899,
          0.046681691787392794,
          0.06803972076137124,
          0.0760989580413749,
          0.05814156568171821,
          0.1119657047385389,
          0.11073975941596864,
          0.05697959787063636,
          0.10495655292757744,
          0.06742677185859029,
          0.060028455048904354,
          0.1187297260211189,
          0.08825174821738274,
          0.02682678770072578,
          0.01987623545912859,
          0.08716971524098842,
          0.24175557618172777,
          0.07458517143538156,
          0.07052892425988547,
          0.012525918011469194,
          0.0017269779764081908,
          0.0481421558143915,
          0.02128340581002586,
          0.09411493658764036,
          0.03843589890051996,
          0.08853426042874797,
          0.013069594321841698,
          0.04328103889556622,
          0.10316028090829055,
          0.1165070225462258,
          0.06738945426929582,
          0.013975725004772415,
          0.03765238174465749,
          0.07696245185975528,
          0.02089963074072782,
          0.08108797335280676,
          0.018394441348315266,
          0.6402504478785218,
          0.2689128139060268,
          0.27142864118557547,
          0.18736640059353868,
          0.1287451327769847,
          0,
          0.2616798161526683,
          0.8416724781312597,
          0.3416376679001613,
          0.08929115283501861,
          0.4650366555347737,
          0,
          0.48117106151888,
          0.2662583285471388,
          0.3894548167742808,
          0.3457473357345019,
          0.28036741359183875,
          0.18164715507435808,
          0.2875151973782766,
          0.009562337458849776,
          0.024497500491386246,
          0.01745100160277792,
          0.0065401295467609165,
          0,
          0.19424232946674194,
          0.153653059176251,
          0.20341558298205742,
          0.17360387026886162,
          0.2848393014153913,
          0.041868555528488435,
          0.1295713349961093,
          0.2526024081848131,
          0.42255524697966645,
          0.3535186369656867,
          0,
          0.5571421036993435,
          0.023879197241769647,
          0,
          0.1807037241214492,
          0.12189582433091123,
          0,
          0.27481330892297745,
          0.5843419360991541,
          0.1874570172737124,
          0.08679660351964992,
          0.24233653483857998,
          0.1718556205365596,
          0.23404816108666707,
          0.10462608401085417,
          0.32225718735304915,
          0.3420428173784915,
          0.2700908145272826,
          0.25210140764511024,
          0.08444067750763724,
          0.25328475031073655,
          0.031176199304772355,
          0.016971282575312874,
          0.17523489938749282,
          0.0929582929369701,
          0.1199396541264859,
          0.11971578580422798,
          0.18491985615706874,
          0.2167570324949996,
          0.14278483269704215,
          0.1429446885088861,
          0.26057108813274427,
          0.16945699547830928,
          0.24960157584242412,
          0.05428253577084764,
          0,
          0,
          0.3790236060176483,
          0.24838622826495838,
          0.2502305724408441,
          0.2327102285985912,
          0.13178330136868438,
          0.15526271064912356,
          0.06261359186398681,
          0.25725042995578495,
          0.16567254476729626,
          0.25971291414228204,
          0.1798828323541896,
          0,
          0.2076263880193351,
          0.13679900741396284,
          0.1377584478270665,
          0.19746706747329287,
          0.19183305709735965,
          0.12858522560154081,
          0.15716025157720562,
          0.5423454150824997,
          0.17747356629503017,
          0.39798841848350713,
          0.4137816699760319,
          0.3041240257158123,
          0.6133914768180203,
          0.5724238888612024,
          0.2447350958781148,
          0.42122269470048423,
          0.22663385082426196,
          0.22489084951410296,
          0.1714718330376922,
          0.33133445275135687,
          0.22398473563140703,
          0.2375020058525384,
          0.1387551723556381,
          0.208916289635386,
          0.21474219252593238,
          0.17632763695622425,
          0.36423234842618707,
          0.2903614477966804,
          0.18394444102789215,
          0.2367451486300236,
          0.2372568470106533,
          0.14120704370363005,
          0,
          0.1695956038014359,
          0.5451600119135186,
          0.3409661148407423,
          0.2362335653428339,
          0.8148029507793277,
          0.411074075729417,
          0.18814462818472968,
          0.22500815534983226,
          0.35851315592453986,
          0.37751514433080835,
          0.45524524495812485,
          0.06426595829246372,
          0.04357420066282409,
          0.10265924552680326,
          0.08251115741062079,
          0.10334679894598864,
          0.051553466892581654,
          0.14451175307212413,
          0.23868006029575037,
          0.3320913747086687,
          0.13107442493668858,
          0.1597614149318267,
          0.5264244038700097,
          0,
          0.2495323262247331,
          0.1022274755608654,
          0.12997107303529035,
          0.11987036251091397,
          0.027013337430413453,
          0.18162050856399597,
          0.3491319361308478,
          0.15707501908693808,
          0.23516739678863846,
          0.3697277449745695,
          0.2022482702759056,
          0.2453214431712698,
          0.3001742847964998,
          0.4540353049933813,
          0.3369311643267765,
          0.35684468983218487,
          0.2358443494094666,
          0.09998882164380606,
          0.13436846474021058,
          0.0744892361196105,
          0.1143803071207383,
          0.04953867289017637,
          0,
          0.10397046314417845,
          0.32767793558953606,
          0.19095893882381268,
          0.20382067166230106,
          0.4936010462910877,
          0.316889741811085,
          0.7400364892601669,
          0.44508055470028096,
          0.10721120920256835,
          0.2186545274567239,
          0.180106677927012,
          0.056947633928449815,
          0.2718444092765844,
          0.5664911535079022,
          0.048605902672978284,
          0.14539128460067108,
          0.11635777393868138,
          0.25344462468442136,
          0.2988363824557434,
          0.4040755339312495,
          0.34983550147965914,
          0.4585605210708243,
          0.6048526692728723,
          0.6085996540608936,
          0.022109575913492788,
          0.015494828419481733,
          0.776329821858185,
          0.044576266020930136,
          0.18604991658250053,
          0.06653662094121635,
          0.08734562798978597,
          0.055034079915397126,
          0.4191544990711461,
          0.6784837281831968,
          0.43818848878362543,
          0.5565559711569049,
          0.22322257122509132,
          0.3503632187967741,
          0.1508173632814836,
          0.47191263982218246,
          0.20418256053709694,
          0.12934212114955707,
          0.5610279550841459,
          0.6526377700436543,
          0.08293756340626586,
          0.022951750269903783,
          0.12210369095774413,
          0.04805154626948574,
          0.3936922312541476,
          0.228104984717742,
          0.2102221797691544,
          0.3342555262216513,
          0.38031345722212434,
          0.2135108813522159,
          0.2721322964256466,
          0.10512708497344889,
          0.12076585951291316,
          0.18339009554962782,
          0.22537060214324975,
          0.22481095576468854,
          0.23309940961224293,
          0.10641699657789609,
          0.19552692906817995,
          0.21522196976236085,
          0.24297611551389198,
          0.12012619998448937,
          0.16813516943067053,
          0,
          0.04124490249027746,
          0.056185407222416134,
          0.1903246324807355,
          0.019066045325606348,
          0.2808470521571278,
          0.2193154609647663,
          0,
          0.37080458966077007,
          0.02670952943329668,
          0,
          0.3834742838976194,
          0.40339324128957643,
          0,
          0,
          0,
          0.31247632415658017,
          0.5640608549546229,
          0.027834181681494208,
          0.23401609805986678,
          0.09490379230909972,
          0.09635897121805417,
          0.07945163593469762,
          0.07081141314664059,
          0.22133563994102412,
          0.07152567187624766,
          0.02509981469345953,
          0.16803382501839512,
          0.14809364767592736,
          0.2774731293263749,
          0.29839930977957396,
          0.4572546911112775,
          0.4024071240793962,
          0.35572538212507804,
          0.37673170204869305,
          0,
          0.4673979029267722,
          0.21561630686781877,
          1,
          0.5257633237542217,
          0.32042895370241614,
          0.5577925204720838,
          0,
          0.5264668191742604,
          0.4093629607111397,
          0.15395683187499126,
          0,
          0.020755710128559892,
          0.405578571525432,
          0.03408115835844379,
          0.2157495769388364,
          0.07250641255558522,
          0.4403579393975551,
          0,
          0.5586239669431851,
          0.10681142998383318,
          0.498131681413732,
          0.5683195507768343,
          0.38163006729985083,
          0.5886274793770218,
          0.3761132757511355,
          0.5967026804089619,
          0.7254798607585909,
          0.11062786656080016,
          0.0838810174795986,
          0.4671794750476976,
          0.18065040791659717,
          0.18718514447008774,
          0.607624144443242,
          0.2535086061508457,
          0.08951499251557465,
          0.05006103265824517,
          0.08189818495295083,
          0.19364536286911163,
          0.1423424102875385,
          0.167777996948378,
          0.08826243530986863,
          0.15244843536450584,
          0.23329656404808094,
          0.26911006280366523,
          0.19940727562427102,
          0.0237725985274644,
          0.07903588611850408,
          0.2972053877916342,
          0.16763941748442582,
          0.12686887724190823,
          0.14307797326835922,
          0.10469534994731249,
          0.22347309819348404,
          0.27712130362041,
          0.3182756623318838,
          0.217844347939841,
          0.5637089164191049,
          0.594005757973421,
          0.628454756525663,
          0.016198404638104836,
          0.18210017788659924,
          0.6816392537352695,
          0.8947026224843121,
          0.510423023386948,
          0.13470424909433584,
          0.43299710323973034,
          0.1216559895589025,
          0.07317267102932148,
          0.06882858672219336,
          0.18971164711293168,
          0.5089358736534624,
          0.29309576712477337,
          0.23705429218205337,
          0.24238456754878562,
          0.35821468094239967,
          0.9181763920872227,
          0.5445896140869062,
          0.2512485660380339,
          0.16320998923486796,
          0.7618368792762016,
          0.3060908165299214,
          0.530917764012291,
          0.5754192588612697,
          0.32643612985436105,
          0.3971889378211863,
          0.3151999987068504,
          0.25626961837850987,
          0.5381932900033788,
          0.35623712184796946,
          0.3874931966127306,
          0.618439358183991,
          0.29702952320937875,
          0.10445547718439038,
          0.8134812088481107,
          0.02802608232881137,
          0.04228963748269231,
          0.08104534686087428,
          0.21298324493968088,
          0.11168324047891875,
          0.03171988401386563,
          0.1598787031606049,
          0.4422287975158406,
          0.2468139133267199,
          0,
          0,
          0.22413401553405377,
          0.3453422082288666,
          0.10550554333591011,
          0.017690863557089223,
          0.7019471307266766,
          0.5899067624096151,
          0.371214906778776,
          0.18006934607186087,
          0.23265156179712482,
          0.023745942791468515,
          0.06141430168631248,
          0.19668353409187728,
          0.3212072266155553,
          0.16540073728847113,
          0.33880216704965604,
          0.6501164800451743,
          0.38408723343241513,
          0.06817299132385395,
          0.06183005172828607,
          0.6894051255929954,
          0.2655335368604224,
          0.2734488060093985,
          0.11055856459119563,
          0.03146404995622462,
          0.5666406719851107,
          0.04228430493873462,
          0.17728703461282114,
          0.1243264170607864,
          0.7401111330164628,
          0.029342623624235908,
          0,
          0.19250465395158867,
          0.26947774906267,
          0.01911935231621561,
          0.5576751716000314,
          0.6439974633529475,
          0.7014939354854366,
          0.09651354817962997
         ]
        }
       ],
       "layout": {
        "template": {
         "data": {
          "bar": [
           {
            "error_x": {
             "color": "#2a3f5f"
            },
            "error_y": {
             "color": "#2a3f5f"
            },
            "marker": {
             "line": {
              "color": "#E5ECF6",
              "width": 0.5
             }
            },
            "type": "bar"
           }
          ],
          "barpolar": [
           {
            "marker": {
             "line": {
              "color": "#E5ECF6",
              "width": 0.5
             }
            },
            "type": "barpolar"
           }
          ],
          "carpet": [
           {
            "aaxis": {
             "endlinecolor": "#2a3f5f",
             "gridcolor": "white",
             "linecolor": "white",
             "minorgridcolor": "white",
             "startlinecolor": "#2a3f5f"
            },
            "baxis": {
             "endlinecolor": "#2a3f5f",
             "gridcolor": "white",
             "linecolor": "white",
             "minorgridcolor": "white",
             "startlinecolor": "#2a3f5f"
            },
            "type": "carpet"
           }
          ],
          "choropleth": [
           {
            "colorbar": {
             "outlinewidth": 0,
             "ticks": ""
            },
            "type": "choropleth"
           }
          ],
          "contour": [
           {
            "colorbar": {
             "outlinewidth": 0,
             "ticks": ""
            },
            "colorscale": [
             [
              0,
              "#0d0887"
             ],
             [
              0.1111111111111111,
              "#46039f"
             ],
             [
              0.2222222222222222,
              "#7201a8"
             ],
             [
              0.3333333333333333,
              "#9c179e"
             ],
             [
              0.4444444444444444,
              "#bd3786"
             ],
             [
              0.5555555555555556,
              "#d8576b"
             ],
             [
              0.6666666666666666,
              "#ed7953"
             ],
             [
              0.7777777777777778,
              "#fb9f3a"
             ],
             [
              0.8888888888888888,
              "#fdca26"
             ],
             [
              1,
              "#f0f921"
             ]
            ],
            "type": "contour"
           }
          ],
          "contourcarpet": [
           {
            "colorbar": {
             "outlinewidth": 0,
             "ticks": ""
            },
            "type": "contourcarpet"
           }
          ],
          "heatmap": [
           {
            "colorbar": {
             "outlinewidth": 0,
             "ticks": ""
            },
            "colorscale": [
             [
              0,
              "#0d0887"
             ],
             [
              0.1111111111111111,
              "#46039f"
             ],
             [
              0.2222222222222222,
              "#7201a8"
             ],
             [
              0.3333333333333333,
              "#9c179e"
             ],
             [
              0.4444444444444444,
              "#bd3786"
             ],
             [
              0.5555555555555556,
              "#d8576b"
             ],
             [
              0.6666666666666666,
              "#ed7953"
             ],
             [
              0.7777777777777778,
              "#fb9f3a"
             ],
             [
              0.8888888888888888,
              "#fdca26"
             ],
             [
              1,
              "#f0f921"
             ]
            ],
            "type": "heatmap"
           }
          ],
          "heatmapgl": [
           {
            "colorbar": {
             "outlinewidth": 0,
             "ticks": ""
            },
            "colorscale": [
             [
              0,
              "#0d0887"
             ],
             [
              0.1111111111111111,
              "#46039f"
             ],
             [
              0.2222222222222222,
              "#7201a8"
             ],
             [
              0.3333333333333333,
              "#9c179e"
             ],
             [
              0.4444444444444444,
              "#bd3786"
             ],
             [
              0.5555555555555556,
              "#d8576b"
             ],
             [
              0.6666666666666666,
              "#ed7953"
             ],
             [
              0.7777777777777778,
              "#fb9f3a"
             ],
             [
              0.8888888888888888,
              "#fdca26"
             ],
             [
              1,
              "#f0f921"
             ]
            ],
            "type": "heatmapgl"
           }
          ],
          "histogram": [
           {
            "marker": {
             "colorbar": {
              "outlinewidth": 0,
              "ticks": ""
             }
            },
            "type": "histogram"
           }
          ],
          "histogram2d": [
           {
            "colorbar": {
             "outlinewidth": 0,
             "ticks": ""
            },
            "colorscale": [
             [
              0,
              "#0d0887"
             ],
             [
              0.1111111111111111,
              "#46039f"
             ],
             [
              0.2222222222222222,
              "#7201a8"
             ],
             [
              0.3333333333333333,
              "#9c179e"
             ],
             [
              0.4444444444444444,
              "#bd3786"
             ],
             [
              0.5555555555555556,
              "#d8576b"
             ],
             [
              0.6666666666666666,
              "#ed7953"
             ],
             [
              0.7777777777777778,
              "#fb9f3a"
             ],
             [
              0.8888888888888888,
              "#fdca26"
             ],
             [
              1,
              "#f0f921"
             ]
            ],
            "type": "histogram2d"
           }
          ],
          "histogram2dcontour": [
           {
            "colorbar": {
             "outlinewidth": 0,
             "ticks": ""
            },
            "colorscale": [
             [
              0,
              "#0d0887"
             ],
             [
              0.1111111111111111,
              "#46039f"
             ],
             [
              0.2222222222222222,
              "#7201a8"
             ],
             [
              0.3333333333333333,
              "#9c179e"
             ],
             [
              0.4444444444444444,
              "#bd3786"
             ],
             [
              0.5555555555555556,
              "#d8576b"
             ],
             [
              0.6666666666666666,
              "#ed7953"
             ],
             [
              0.7777777777777778,
              "#fb9f3a"
             ],
             [
              0.8888888888888888,
              "#fdca26"
             ],
             [
              1,
              "#f0f921"
             ]
            ],
            "type": "histogram2dcontour"
           }
          ],
          "mesh3d": [
           {
            "colorbar": {
             "outlinewidth": 0,
             "ticks": ""
            },
            "type": "mesh3d"
           }
          ],
          "parcoords": [
           {
            "line": {
             "colorbar": {
              "outlinewidth": 0,
              "ticks": ""
             }
            },
            "type": "parcoords"
           }
          ],
          "pie": [
           {
            "automargin": true,
            "type": "pie"
           }
          ],
          "scatter": [
           {
            "marker": {
             "colorbar": {
              "outlinewidth": 0,
              "ticks": ""
             }
            },
            "type": "scatter"
           }
          ],
          "scatter3d": [
           {
            "line": {
             "colorbar": {
              "outlinewidth": 0,
              "ticks": ""
             }
            },
            "marker": {
             "colorbar": {
              "outlinewidth": 0,
              "ticks": ""
             }
            },
            "type": "scatter3d"
           }
          ],
          "scattercarpet": [
           {
            "marker": {
             "colorbar": {
              "outlinewidth": 0,
              "ticks": ""
             }
            },
            "type": "scattercarpet"
           }
          ],
          "scattergeo": [
           {
            "marker": {
             "colorbar": {
              "outlinewidth": 0,
              "ticks": ""
             }
            },
            "type": "scattergeo"
           }
          ],
          "scattergl": [
           {
            "marker": {
             "colorbar": {
              "outlinewidth": 0,
              "ticks": ""
             }
            },
            "type": "scattergl"
           }
          ],
          "scattermapbox": [
           {
            "marker": {
             "colorbar": {
              "outlinewidth": 0,
              "ticks": ""
             }
            },
            "type": "scattermapbox"
           }
          ],
          "scatterpolar": [
           {
            "marker": {
             "colorbar": {
              "outlinewidth": 0,
              "ticks": ""
             }
            },
            "type": "scatterpolar"
           }
          ],
          "scatterpolargl": [
           {
            "marker": {
             "colorbar": {
              "outlinewidth": 0,
              "ticks": ""
             }
            },
            "type": "scatterpolargl"
           }
          ],
          "scatterternary": [
           {
            "marker": {
             "colorbar": {
              "outlinewidth": 0,
              "ticks": ""
             }
            },
            "type": "scatterternary"
           }
          ],
          "surface": [
           {
            "colorbar": {
             "outlinewidth": 0,
             "ticks": ""
            },
            "colorscale": [
             [
              0,
              "#0d0887"
             ],
             [
              0.1111111111111111,
              "#46039f"
             ],
             [
              0.2222222222222222,
              "#7201a8"
             ],
             [
              0.3333333333333333,
              "#9c179e"
             ],
             [
              0.4444444444444444,
              "#bd3786"
             ],
             [
              0.5555555555555556,
              "#d8576b"
             ],
             [
              0.6666666666666666,
              "#ed7953"
             ],
             [
              0.7777777777777778,
              "#fb9f3a"
             ],
             [
              0.8888888888888888,
              "#fdca26"
             ],
             [
              1,
              "#f0f921"
             ]
            ],
            "type": "surface"
           }
          ],
          "table": [
           {
            "cells": {
             "fill": {
              "color": "#EBF0F8"
             },
             "line": {
              "color": "white"
             }
            },
            "header": {
             "fill": {
              "color": "#C8D4E3"
             },
             "line": {
              "color": "white"
             }
            },
            "type": "table"
           }
          ]
         },
         "layout": {
          "annotationdefaults": {
           "arrowcolor": "#2a3f5f",
           "arrowhead": 0,
           "arrowwidth": 1
          },
          "coloraxis": {
           "colorbar": {
            "outlinewidth": 0,
            "ticks": ""
           }
          },
          "colorscale": {
           "diverging": [
            [
             0,
             "#8e0152"
            ],
            [
             0.1,
             "#c51b7d"
            ],
            [
             0.2,
             "#de77ae"
            ],
            [
             0.3,
             "#f1b6da"
            ],
            [
             0.4,
             "#fde0ef"
            ],
            [
             0.5,
             "#f7f7f7"
            ],
            [
             0.6,
             "#e6f5d0"
            ],
            [
             0.7,
             "#b8e186"
            ],
            [
             0.8,
             "#7fbc41"
            ],
            [
             0.9,
             "#4d9221"
            ],
            [
             1,
             "#276419"
            ]
           ],
           "sequential": [
            [
             0,
             "#0d0887"
            ],
            [
             0.1111111111111111,
             "#46039f"
            ],
            [
             0.2222222222222222,
             "#7201a8"
            ],
            [
             0.3333333333333333,
             "#9c179e"
            ],
            [
             0.4444444444444444,
             "#bd3786"
            ],
            [
             0.5555555555555556,
             "#d8576b"
            ],
            [
             0.6666666666666666,
             "#ed7953"
            ],
            [
             0.7777777777777778,
             "#fb9f3a"
            ],
            [
             0.8888888888888888,
             "#fdca26"
            ],
            [
             1,
             "#f0f921"
            ]
           ],
           "sequentialminus": [
            [
             0,
             "#0d0887"
            ],
            [
             0.1111111111111111,
             "#46039f"
            ],
            [
             0.2222222222222222,
             "#7201a8"
            ],
            [
             0.3333333333333333,
             "#9c179e"
            ],
            [
             0.4444444444444444,
             "#bd3786"
            ],
            [
             0.5555555555555556,
             "#d8576b"
            ],
            [
             0.6666666666666666,
             "#ed7953"
            ],
            [
             0.7777777777777778,
             "#fb9f3a"
            ],
            [
             0.8888888888888888,
             "#fdca26"
            ],
            [
             1,
             "#f0f921"
            ]
           ]
          },
          "colorway": [
           "#636efa",
           "#EF553B",
           "#00cc96",
           "#ab63fa",
           "#FFA15A",
           "#19d3f3",
           "#FF6692",
           "#B6E880",
           "#FF97FF",
           "#FECB52"
          ],
          "font": {
           "color": "#2a3f5f"
          },
          "geo": {
           "bgcolor": "white",
           "lakecolor": "white",
           "landcolor": "#E5ECF6",
           "showlakes": true,
           "showland": true,
           "subunitcolor": "white"
          },
          "hoverlabel": {
           "align": "left"
          },
          "hovermode": "closest",
          "mapbox": {
           "style": "light"
          },
          "paper_bgcolor": "white",
          "plot_bgcolor": "#E5ECF6",
          "polar": {
           "angularaxis": {
            "gridcolor": "white",
            "linecolor": "white",
            "ticks": ""
           },
           "bgcolor": "#E5ECF6",
           "radialaxis": {
            "gridcolor": "white",
            "linecolor": "white",
            "ticks": ""
           }
          },
          "scene": {
           "xaxis": {
            "backgroundcolor": "#E5ECF6",
            "gridcolor": "white",
            "gridwidth": 2,
            "linecolor": "white",
            "showbackground": true,
            "ticks": "",
            "zerolinecolor": "white"
           },
           "yaxis": {
            "backgroundcolor": "#E5ECF6",
            "gridcolor": "white",
            "gridwidth": 2,
            "linecolor": "white",
            "showbackground": true,
            "ticks": "",
            "zerolinecolor": "white"
           },
           "zaxis": {
            "backgroundcolor": "#E5ECF6",
            "gridcolor": "white",
            "gridwidth": 2,
            "linecolor": "white",
            "showbackground": true,
            "ticks": "",
            "zerolinecolor": "white"
           }
          },
          "shapedefaults": {
           "line": {
            "color": "#2a3f5f"
           }
          },
          "ternary": {
           "aaxis": {
            "gridcolor": "white",
            "linecolor": "white",
            "ticks": ""
           },
           "baxis": {
            "gridcolor": "white",
            "linecolor": "white",
            "ticks": ""
           },
           "bgcolor": "#E5ECF6",
           "caxis": {
            "gridcolor": "white",
            "linecolor": "white",
            "ticks": ""
           }
          },
          "title": {
           "x": 0.05
          },
          "xaxis": {
           "automargin": true,
           "gridcolor": "white",
           "linecolor": "white",
           "ticks": "",
           "title": {
            "standoff": 15
           },
           "zerolinecolor": "white",
           "zerolinewidth": 2
          },
          "yaxis": {
           "automargin": true,
           "gridcolor": "white",
           "linecolor": "white",
           "ticks": "",
           "title": {
            "standoff": 15
           },
           "zerolinecolor": "white",
           "zerolinewidth": 2
          }
         }
        }
       }
      },
      "text/html": [
       "<div>\n",
       "        \n",
       "        \n",
       "            <div id=\"35b29a3d-2d65-4c00-a237-1f10207e16e3\" class=\"plotly-graph-div\" style=\"height:525px; width:100%;\"></div>\n",
       "            <script type=\"text/javascript\">\n",
       "                require([\"plotly\"], function(Plotly) {\n",
       "                    window.PLOTLYENV=window.PLOTLYENV || {};\n",
       "                    \n",
       "                if (document.getElementById(\"35b29a3d-2d65-4c00-a237-1f10207e16e3\")) {\n",
       "                    Plotly.newPlot(\n",
       "                        '35b29a3d-2d65-4c00-a237-1f10207e16e3',\n",
       "                        [{\"marker\": {\"color\": \"lightsalmon\"}, \"name\": \"Viagens Produzidas\", \"type\": \"bar\", \"x\": [\"S\\u00e9\", \"Parque Dom Pedro\", \"Pra\\u00e7a Jo\\u00e3o Mendes\", \"Ladeira da Mem\\u00f3ria\", \"Rep\\u00fablica\", \"Santa Ifig\\u00eania\", \"Luz\", \"Bom Retiro\", \"Ponte Pequena\", \"Canind\\u00e9\", \"Bom Jardim\", \"Pari\", \"Jo\\u00e3o Teodoro\", \"Oriente\", \"Bresser\", \"Br\\u00e1s\", \"Gas\\u00f4metro\", \"Independ\\u00eancia\", \"Cambuci\", \"Glic\\u00e9rio\", \"Aclima\\u00e7\\u00e3o\", \"Pires da Mota\", \"Centro Cultural\", \"Liberdade\", \"Treze de Maio\", \"Bexiga\", \"Bela Vista\", \"S\\u00e3o Carlos do Pinhal\", \"Masp\", \"Higien\\u00f3polis\", \"Vila Buarque\", \"Consola\\u00e7\\u00e3o\", \"Pacaembu\", \"FAAP\", \"Santa Cec\\u00edlia\", \"Marechal Deodoro\", \"Rudge\", \"Catumbi\", \"Bel\\u00e9m\", \"Quarta Parada\", \"Belenzinho\", \"Celso Garcia\", \"Mooca\", \"Alto da Mooca\", \"Parque da Mooca\", \"\\u00c1gua Rasa\", \"Vila Bertioga\", \"Regente Feij\\u00f3\", \"Ana Rosa\", \"Jardim da Gl\\u00f3ria\", \"Ch\\u00e1cara Klabin\", \"Vila Mariana\", \"Santa Cruz\", \"Vila Clementino\", \"Fran\\u00e7a Pinto\", \"Rodrigues Alves\", \"Para\\u00edso\", \"Bosque da Sa\\u00fade\", \"Sa\\u00fade\", \"Planalto Paulista\", \"Mirand\\u00f3polis\", \"Parque Ibirapuera\", \"Jardim Luzit\\u00e2nia\", \"Moema\", \"Vila Helena\", \"Bandeirantes\", \"Vila Nova Concei\\u00e7\\u00e3o\", \"Ch\\u00e1cara Itaim\", \"Vila Ol\\u00edmpia\", \"H\\u00e9lio Pelegrino\", \"Brooklin\", \"Vila Cordeiro\", \"Berrini\", \"Campinas\", \"Pamplona\", \"Jardins\", \"Cl\\u00ednicas\", \"Oscar Freire\", \"Trianon\", \"Jardim Paulistano\", \"Jardim Europa\", \"Pinheiros\", \"Vila Madalena\", \"PUC\", \"Cardoso de Almeida\", \"Zequinha de Abreu\", \"Sumar\\u00e9\", \"Perdizes\", \"Vila Anglo Brasileira\", \"Pomp\\u00e9ia\", \"Santa Marina\", \"Barra Funda\", \"Francisco Matarazzo\", \"\\u00c1gua Branca\", \"Vila Beatriz\", \"Alto de Pinheiros\", \"Boa\\u00e7ava\", \"Vila Anast\\u00e1cio\", \"Lapa de Baixo\", \"Lapa\", \"Vila Ipojuca\", \"Alto da Lapa\", \"Gavi\\u00e3o Peixoto\", \"Bela Alian\\u00e7a\", \"Vila Hamburguesa\", \"CEASA\", \"Vila Leopoldina\", \"Emiss\\u00e1rio\", \"Vila Zatt\", \"Pirituba\", \"S\\u00e3o Domingos\", \"Jardim Mutinga\", \"Vila Jaguara\", \"Parque do Jaragu\\u00e1\", \"Nova Jaragu\\u00e1\", \"Parada de Taipas\", \"Parque Morro Doce\", \"Anhanguera\", \"Perus\", \"Vista Alegre\", \"Jardim Damasceno\", \"Vila Souza\", \"Vila Terezinha\", \"Brasil\\u00e2ndia\", \"Vila Morro Grande\", \"Itaberaba\", \"Freguesia do \\u00d3\", \"Carandiru\", \"Santana\", \"Zaki Narchi\", \"Tiet\\u00ea\", \"Parque Anhembi\", \"Alfredo Pujol\", \"Santa Terezinha\", \"Jardim S\\u00e3o Paulo\", \"Casa Verde\", \"Parque Peruche\", \"Lim\\u00e3o\", \"Jardim Primavera\", \"Vila Santa Maria\", \"Cachoeirinha\", \"Jardim Peri\", \"Reserva da Cantareira\", \"Mandaqui\", \"Horto Florestal\", \"ETA Guara\\u00fa\", \"Parque Palmas do Trememb\\u00e9\", \"Trememb\\u00e9\", \"Cantareira\", \"Jardim das Pedras\", \"Jardim Guapira\", \"Parada Inglesa\", \"Tucuruvi\", \"Vila Gustavo\", \"Cohab Jova Real\", \"Ja\\u00e7an\\u00e3\", \"Parque Edu Chaves\", \"Vila Medeiros\", \"Jardim Brasil\", \"Jardim Jap\\u00e3o\", \"Parque Novo Mundo\", \"Vila Maria\", \"Vila Isolina Mazzei\", \"Vila Guilherme\", \"Coroa\", \"Gomes Cardim\", \"Tatuap\\u00e9\", \"Ch\\u00e1cara do Piqueri\", \"Parque S\\u00e3o Jorge\", \"Penha\", \"Tiquatira\", \"Vila Esperan\\u00e7a\", \"Vila R\\u00e9\", \"Rui Barbosa\", \"Esta\\u00e7\\u00e3o Eng. Goulart\", \"Canga\\u00edba\", \"Parque Ecol\\u00f3gico do Tiet\\u00ea\", \"USP Leste I\", \"USP Leste II\", \"Ermelino Matarazzo\", \"Parque Buturussu\", \"Ponte Rasa\", \"Burgo Paulista\", \"Limoeiro\", \"Laranja da China\", \"Pedro Jos\\u00e9 Nunes\", \"Parque Cruzeiro do Sul\", \"Vila Jacu\\u00ed\", \"Parada XV\", \"Itaquera\", \"Arena Corinthians\", \"Vila Campanela\", \"Arauc\\u00e1rias\", \"Parque Guarani\", \"Rio Verde\", \"Saudade\", \"S\\u00e3o Miguel Paulista\", \"Cidade Nitro-Oper\\u00e1ria\", \"Jardim Helena\", \"Jardim Romano\", \"Vila Curu\\u00e7\\u00e1\", \"Jardim Robru\", \"Lageado\", \"F\\u00e1brica Bandeirantes\", \"Fazenda Itaim\", \"Itaim Paulista\", \"Jardim das Oliveiras\", \"Vila Calif\\u00f3rnia\", \"Vila Carr\\u00e3o\", \"Jardim An\\u00e1lia Franco\", \"Vila Formosa\", \"Barreira Grande\", \"Aricanduva\", \"Frei Mont'Alverne\", \"Vila Matilde\", \"Cidade Patriarca\", \"Cidade A.E.Carvalho\", \"Artur Alvim\", \"Cidade L\\u00edder\", \"Santa Marcelina\", \"Parque Savoy\", \"Vila Carmosina\", \"Fazenda Cagua\\u00e7u\", \"Parque do Carmo\", \"Gleba do P\\u00eassego\", \"Jos\\u00e9 Bonif\\u00e1cio\", \"Guaianases\", \"Juscelino Kubitschek\", \"Cidade Tiradentes\", \"Santa Etelvina\", \"Terceira Divis\\u00e3o\", \"Iguatemi\", \"S\\u00edtio Carr\\u00e3ozinho\", \"Parque S\\u00e3o Rafael\", \"Rodolfo Pirani\", \"Ipiranga\", \"Sacom\\u00e3\", \"Alto do Ipiranga\", \"Vila S\\u00e3o Jos\\u00e9\", \"Vila Monumento\", \"Vila Independ\\u00eancia\", \"Vila Carioca\", \"Moinho Velho\", \"Vila Heli\\u00f3polis\", \"S\\u00e3o Jo\\u00e3o Cl\\u00edmaco\", \"Anchieta\", \"Vila das Merc\\u00eas\", \"Parque do Estado\", \"\\u00c1gua Funda\", \"Jardim da Sa\\u00fade\", \"Vila Gumercindo\", \"Jardim Previd\\u00eancia\", \"Tamanduate\\u00ed\", \"Orfanato\", \"Vila Zelina\", \"Linhas Corrente\", \"Vila Ema\", \"Parque S\\u00e3o Lucas\", \"Vila Cardoso Franco\", \"Parque Santa Madalena\", \"Jardim Colorado\", \"Teot\\u00f4nio Vilela\", \"Fazenda da Juta\", \"S\\u00e3o Mateus\", \"Cidade IV Centen\\u00e1rio\", \"Rio Claro\", \"Cidade Sat\\u00e9lite\", \"Joaquim Nabuco\", \"Vieira de Moraes\", \"Campo Belo\", \"Congonhas\", \"Jardim Aeroporto\", \"Vila Santa Catarina\", \"Jabaquara\", \"Cidade Vargas\", \"Jardim Bom Clima\", \"Cupec\\u00ea\", \"Jardim Miriam\", \"Vila Mission\\u00e1ria\", \"Jurubatuba\", \"Vila S\\u00e3o Pedro\", \"Campo Grande\", \"Vila Sabar\\u00e1\", \"Mar Paulista\", \"Pedreira\", \"Vila Socorro\", \"Parque Interlagos\", \"Jardim Represa\", \"Rio Bonito\", \"SESC Interlagos\", \"Jardim Presidente\", \"Vila Natal\", \"Graja\\u00fa\", \"Cocaia\", \"Belmira Marin\", \"Boror\\u00e9\", \"Jaceguava\", \"Parelheiros\", \"Marsilac\", \"Granja Julieta\", \"Ch\\u00e1cara Flora\", \"Santo Amaro\", \"Vila Miranda\", \"Jardim S\\u00e3o Lu\\u00eds\", \"Centro Empresarial\", \"Guarapiranga\", \"Jardim Capela\", \"Riviera\", \"Jardim Turquesa\", \"Morro do \\u00cdndio\", \"Jardim \\u00c2ngela\", \"Cap\\u00e3o Redondo\", \"Jardim S\\u00f4nia Ing\\u00e1\", \"Adventista\", \"Parque Fernanda\", \"Morumbi\", \"J\\u00f3quei Clube\", \"Fazenda Morumbi\", \"Real Parque\", \"Parais\\u00f3polis\", \"Jardim Vit\\u00f3ria R\\u00e9gia\", \"Vila Suzana\", \"Parque Arariba\", \"Jardim Mitsutani\", \"Pirajussara\", \"Jardim Umarizal\", \"Portal do Morumbi\", \"Jardim Jussara\", \"Vila S\\u00f4nia\", \"Jardim Maria do Carmo\", \"Jardim Cambar\\u00e1\", \"Jardim Jo\\u00e3o XXIII\", \"Raposo Tavares\", \"Rio Pequeno\", \"Jardim Ester Yolanda\", \"Jardim Adalgiza\", \"Parque Continental\", \"Jaguar\\u00e9\", \"Cidade Universit\\u00e1ria\", \"Butant\\u00e3\", \"Jardim Caxingui\", \"Jardim Bonfiglioli\", \"Melhoramentos\", \"Caieiras\", \"Serpa\", \"Santa In\\u00eas\", \"Cajamar\", \"Jordan\\u00e9sia\", \"Cristais\", \"Baltazar Fid\\u00e9lis\", \"Franco da Rocha\", \"Parque do Juqueri\", \"Palmares\", \"Sete Voltas\", \"Afonso Moreno\", \"Francisco Morato\", \"Cascatas\", \"Mairipor\\u00e3\", \"Paiva Castro\", \"Colinas\", \"Pirucaia\", \"Guarulhos\", \"Macedo\", \"Cumbica\", \"V\\u00e1rzea do Pal\\u00e1cio\", \"Ponte Grande\", \"Gopouva\", \"Vila S\\u00e3o Rafael\", \"Vila Ros\\u00e1lia\", \"Andr\\u00e9 Luiz\", \"Jardim Santa Clara\", \"Parque CECAP\", \"Tabo\\u00e3o\", \"Aeroporto\", \"Jardim Presidente Dutra\", \"Baquirivu\", \"\\u00c1gua Chata\", \"Pimentas\", \"Cabu\\u00e7u\", \"Invernada\", \"Morro dos Macacos\", \"Ch\\u00e1caras Bananal\", \"Estrada de Nazar\\u00e9 Paulista\", \"\\u00c1gua Azul\", \"Vasconcel\\u00e2ndia\", \"Arujazinho\", \"Aruj\\u00e1\", \"Fazenda Velha\", \"Santa Isabel\", \"Jaguari\", \"Ferraz de Vasconcelos\", \"Paiol Velho\", \"Santos Dumont\", \"Jardim S\\u00e3o Jos\\u00e9\", \"Po\\u00e1\", \"Itaquaquecetuba\", \"Quinta da Boa Vista\", \"Bonsucesso\", \"Pinheirinho\", \"Miguel Badra\", \"Suzano\", \"Guai\\u00f3\", \"Ouro Fino\", \"Mogi das Cruzes\", \"Estudantes\", \"Vila Oliveira\", \"Br\\u00e1s Cubas\", \"Jundiapeba\", \"Jardim Graziella\", \"Itapeti\", \"Saba\\u00fana\", \"C\\u00e9sar de Souza\", \"Taia\\u00e7upeba\", \"Biritiba-Mirim\", \"Sales\\u00f3polis\", \"Guararema\", \"Santa Paula\", \"Vila Gerti\", \"Estrada das L\\u00e1grimas\", \"Santo Ant\\u00f4nio\", \"S\\u00e3o Caetano do Sul\", \"Santo Andr\\u00e9\", \"Vila Gilda\", \"Valpara\\u00edso\", \"Sacadura Cabral\", \"Campestre\", \"Utinga\", \"Vila Lucinda\", \"Parque Orat\\u00f3rio\", \"Parque das Na\\u00e7\\u00f5es\", \"Jardim do Est\\u00e1dio\", \"Carij\\u00f3s\", \"Parque do Pedroso\", \"Paranapiacaba\", \"Capuava\", \"Mau\\u00e1\", \"Jardim Za\\u00edra\", \"Bar\\u00e3o de Mau\\u00e1\", \"Estrada do Carneiro\", \"Ribeir\\u00e3o Pires\", \"Jardim Santa Luzia\", \"Ouro Fino Paulista\", \"Parque Sete Pontes\", \"Rio Grande da Serra\", \"Planalto\", \"Paulic\\u00e9ia\", \"Rudge Ramos\", \"Baeta Neves\", \"S\\u00e3o Bernardo do Campo\", \"Montanh\\u00e3o\", \"Demarchi\", \"Riacho Grande\", \"Caminho do Mar\", \"Reservat\\u00f3rio Billings\", \"Diadema\", \"Jardim das Na\\u00e7\\u00f5es\", \"Piraporinha\", \"Vila Concei\\u00e7\\u00e3o\", \"Eldorado\", \"Tabo\\u00e3o da Serra\", \"Jardim Irapu\\u00e3\", \"Parque Pinheiros\", \"Parque Industrial\", \"Santo Eduardo\", \"S\\u00e3o Marcos\", \"Embu das Artes\", \"Ressaca\", \"Itapecerica da Serra\", \"Jardim Petr\\u00f3polis\", \"Embu-Mirim\", \"S\\u00e3o Louren\\u00e7o da Serra\", \"Embu-Gua\\u00e7u\", \"Cip\\u00f3\", \"Santa Rita\", \"Juquitiba\", \"Barueri\", \"Aphaville\", \"Tambor\\u00e9\", \"Ant\\u00f4nio Jo\\u00e3o\", \"Vutopoca\", \"Jardim Silveira\", \"Jardim Belval\", \"Morada dos Lagos\", \"Cidade Ariston\", \"Carapicu\\u00edba\", \"Jardim Planalto\", \"Aldeia de Carapicu\\u00edba\", \"Estrada do Jacarand\\u00e1\", \"Osasco\", \"Vila Yara\", \"Bussocaba City\", \"Nova Granada\", \"Recanto das Rosas\", \"Jardim Novo Osasco\", \"Jardim Veloso\", \"Quita\\u00fana\", \"Jardim Piratininga\", \"Presidente Altino\", \"Munhoz Junior\", \"Rochdale\", \"Mutinga\", \"Tr\\u00eas Montanhas\", \"Ribeir\\u00e3o Itaqui\", \"Jandira\", \"Ribeir\\u00e3o das Pombas\", \"Granja Viana\", \"Fernando Nobre\", \"Cotia\", \"Capueira\", \"Caucaia\", \"Caucaia do Alto\", \"Vargem Grande Paulista\", \"Quatro Encruzilhadas\", \"Itapevi\", \"Amador Bueno\", \"Santana de Parna\\u00edba\", \"Pirapora do Bom Jesus\"], \"y\": [0.43975299027646003, 0.37596042579562466, 0.1724900049906494, 0.21420031698849956, 0.5102527681651412, 0.3007716311745576, 0.25521961599420867, 0.11020286167126428, 0.09929198589456019, 0.0654021860141164, 0.031191558673035687, 0.12641698795114648, 0.06882708770929194, 0.1821449920752875, 0.0990177743897423, 0.13324759653616028, 0.08658502476129888, 0.20411207572624918, 0.158019863881409, 0.1289973182114829, 0.12167861314789323, 0.1014418040923325, 0.20270811282158155, 0.24568253985664223, 0.1113079340356804, 0.14932461706363354, 0.3227167779051338, 0.20863382344069628, 0.26004025424890725, 0.17286019052215354, 0.3260731267241048, 0.30718818038729634, 0.01890139902709758, 0.08719925853209097, 0.3133168075199763, 0.3086661803982648, 0.09249154057507637, 0.03332492418051892, 0.07419614897362634, 0.11574193406858578, 0.222772168629107, 0.08039058686746262, 0.299491063447058, 0.16524807914840875, 0.27050416527275817, 0.19693047641506847, 0.11905440904678596, 0.13469543328159878, 0.16483401977613374, 0.04596059032252757, 0.08201940320608092, 0.11495494704975842, 0.18015421655030958, 0.24622547863618166, 0.13821905111850874, 0.21052039859384342, 0.30306952358493155, 0.15236836476711219, 0.4507735506550913, 0.18999018322812752, 0.20847203865285371, 0.13343406035943645, 0.10438409353902853, 0.28664699656138776, 0.18720967856927406, 0.16416494370437806, 0.08953005632304309, 0.4709418068344476, 0.16629830921186128, 0.14950285454176515, 0.18273728892569416, 0.16693173778799064, 0.496797209623727, 0.20985406463713593, 0.11704443871647079, 0.13886070603978262, 0.26294689619997696, 0.15944027947636571, 0.34347184670480035, 0.2214586955210293, 0.239457938697276, 0.44891713876747413, 0.24702069200015356, 0.14945898070099428, 0.05571703566394832, 0.028208137500616976, 0.12186781908621759, 0.2848289742844451, 0.056443696151715746, 0.12341162985834234, 0.16837409030333278, 0.08627242364580649, 0.32853280392232137, 0.14738868383961917, 0.11645214186606413, 0.09286995245172507, 0.11984413818066152, 0.043262349115119475, 0.11947121053410917, 0.41016831102165724, 0.13025869113364522, 0.08688665741659857, 0.03137528038126368, 0.04911402262793338, 0.13064258724039027, 0.08434745888198486, 0.13770901771954744, 0.07070543651729452, 0.4951629090550123, 0.2483067439577495, 0.22865948963754723, 0.16067423124804625, 0.15766613104019392, 0.0006526233814665929, 0.19186030569098558, 0.6587191032186946, 0.16408268025293268, 0.05936679079307452, 0.3040649113474205, 0.0, 0.25950554181451235, 0.1984276712313742, 0.23279734124524928, 0.353011664957415, 0.2196598680494239, 0.19714710350387463, 0.3521369302570459, 0.09831579293740848, 0.1709132888379465, 0.026425762719300652, 0.08856208971103592, 0.040100690464569134, 0.2506677050142316, 0.2028589291492314, 0.22983311487816782, 0.24731958254040506, 0.2911605179306903, 0.09146050531696108, 0.17017840200503453, 0.24903888867561327, 0.4399915542856516, 0.2682995047740223, 0.0, 0.4491803818120993, 0.053476727669586104, 0.0, 0.2014385135542747, 0.13399619394431314, 0.0011708831255724166, 0.1704443871647079, 0.490852304199275, 0.2192293559868598, 0.11263511771899902, 0.277074272928195, 0.11674006394612292, 0.24287461404730698, 0.09375017138219051, 0.20532683269259244, 0.27949007628564065, 0.15203656884628253, 0.3359968410834645, 0.18703144109114242, 0.2646744286803297, 0.07097416379201606, 0.10178456847335488, 0.32922655902951065, 0.3205011489462052, 0.2031194300788084, 0.23568753050602992, 0.26774559753429017, 0.22277491074415517, 0.14405701405608173, 0.12483478756834722, 0.23638951195836372, 0.16594183425559803, 0.16002160786657965, 0.039272571720019085, 0.01064489061703073, 0.0, 0.3299724143226153, 0.21902918158834273, 0.17522115157863563, 0.1866941609402164, 0.11771625690327464, 0.08167115459496219, 0.04850527308723765, 0.17250371556589028, 0.21089058412534756, 0.2480818905237988, 0.23195825404050652, 0.07798026774011331, 0.14172621626512963, 0.10207249055341366, 0.09300431608908584, 0.1323838302959839, 0.13963946671346544, 0.137687080799162, 0.2782561245139601, 0.45359518703966745, 0.14445736285311586, 0.3831283145315645, 0.26093966798470997, 0.1925184133025485, 0.4628388568670787, 0.4021723035411674, 0.2782095085581411, 0.3582737837348704, 0.2739976198441382, 0.22230875118596477, 0.25256250651252327, 0.3018328296982028, 0.14890781557631033, 0.23634015388749652, 0.13995480994400603, 0.20139189759845563, 0.1907086173707504, 0.17546519981792358, 0.3716306261345501, 0.25373613175314386, 0.17332635008034397, 0.24540558623677616, 0.21407143758123517, 0.11524561124486539, 0.03472340285509019, 0.14368957063962576, 0.481934946062597, 0.25046204638561814, 0.16281033887057766, 0.6735292665939092, 0.33224014346745934, 0.1370618785681772, 0.20550507017072409, 0.2589132449641057, 0.2896633231143846, 0.277518495566, 0.11604905095398182, 0.13168459095869828, 0.11943282092343467, 0.22180145990205166, 0.1533034259985412, 0.08236765181719964, 0.1441941198084907, 0.2567798794566225, 0.304393965153202, 0.08987282070406546, 0.12848454269747342, 0.5465638556331269, 0.016384137412869294, 0.17743678053756423, 0.12720123285492566, 0.10540141822190292, 0.12318677642439166, 0.03615478691023961, 0.2881962915636089, 0.355723616740064, 0.11876648696672717, 0.16494370437806088, 0.2591901985839718, 0.13357116611184539, 0.15615248353359915, 0.23152774197794243, 0.3135498872990715, 0.318674900324118, 0.2965213528498802, 0.2739564881184155, 0.06062267948514048, 0.14979351873687213, 0.10892229394376471, 0.18363944477654506, 0.0753615478691024, 0.06240231215140862, 0.1130820824718522, 0.32468013227962994, 0.37252729775530463, 0.31020176482524503, 0.43847242254896046, 0.3403595461251172, 0.5747966721691775, 0.2796820243390132, 0.21508876226410956, 0.23300848410395908, 0.23815817616443916, 0.05256908758863887, 0.22470261762302499, 0.46501061198523647, 0.139357028863503, 0.1939031814018789, 0.136568297859505, 0.2599058906115465, 0.2464009739992651, 0.3651647188509441, 0.2754290038992876, 0.40053800297245273, 0.4663268272083624, 0.4646020368430578, 0.02476952523020056, 0.011207024201907416, 0.6042908616273904, 0.028561870341832062, 0.7367405026845306, 0.1379887134544617, 0.327592258460796, 0.3600561585161867, 0.446693283463401, 0.5690958149840135, 0.276109048431236, 0.40148677477912265, 0.16670962646908813, 0.21498730400732693, 0.07873160726331434, 0.4117943852452274, 0.25762170877641344, 0.12415748515144702, 0.5107682857941988, 0.47994965476771545, 0.1287340751668577, 0.05017247903653046, 0.13103196757723168, 0.10910327353694452, 0.2748284807037364, 0.2741347255965471, 0.22870062136326993, 0.26423569027262106, 0.26743573853384595, 0.24101820215968983, 0.1807657082060535, 0.08654663515062438, 0.14146571533555263, 0.24633242112306064, 0.17386106251473887, 0.1924059865855732, 0.22383610926780045, 0.09447683186995794, 0.18687239841834805, 0.18850121475696635, 0.1665176784157156, 0.1433605168338443, 0.1957650775195924, 0.24571818735226855, 0.1081545017302746, 0.08222506183469434, 0.190917018114412, 0.010389873917550085, 0.29939234730532355, 0.10602936256793591, 0.00034002226597419123, 0.32414541984523504, 0.025073900000548422, 0.0008006975940682568, 0.1781031144942717, 0.3211044142568046, 0.018731387894110486, 0.0010365194882116474, 0.001349120603704049, 0.24072479584953466, 0.3608541139952068, 0.013134731080777225, 0.15156218294294757, 0.0673079559726008, 0.07458004508037139, 0.04479519142705152, 0.33332327891149, 0.34943046270449324, 0.1165234368573168, 0.07066704690662001, 0.2683625734201304, 0.1378982236578718, 0.25461360856856113, 0.3148825552124865, 0.44072644111856357, 0.2897812340614563, 0.2806472488359722, 0.39711584339232536, 0.1120784683642187, 0.3508700731047872, 0.2534564360182296, 1.0, 0.3657570157013508, 0.24986974953521152, 0.3761551159640454, 0.0, 0.48816228933701145, 0.3013721543701088, 0.13682331455898564, 0.0023116029856148643, 0.027478734897801373, 0.3606210342161116, 0.02733066068519971, 0.20932757854788556, 0.04491584448917139, 0.29915652541118015, 0.0026790464020708454, 0.3975436133398413, 0.09390647193993672, 0.40502136107622533, 0.524851788681646, 0.3217789745586566, 0.4147558694972606, 0.21485568248501435, 0.4507241925842241, 0.8336523327172715, 0.0808485200805085, 0.06344980009981299, 0.6747440235602525, 0.21551653221162548, 0.2536456419565539, 0.5323624417986081, 0.17802359315787453, 0.06769185207934585, 0.04557120998568616, 0.06711600791922825, 0.1505009844193023, 0.0999829988867013, 0.15141136661529772, 0.08689762587679128, 0.1282377523431373, 0.30453655513570727, 0.2525844434329087, 0.2605064138070977, 0.05253069797796436, 0.21736745986914627, 0.9199960513543306, 0.13425121064379378, 0.13145151117960305, 0.10203958517283551, 0.13801065037484714, 0.19828782336391707, 0.2494419795876956, 0.2761419538118141, 0.18587701065585907, 0.5008198923994055, 0.499064938768571, 0.38410999171881255, 0.017437109591370015, 0.2085899495999254, 0.720290554510505, 0.6333764759434247, 0.33791083738709343, 0.07281686510439232, 0.4836953839235279, 0.0727016962723688, 0.04995585194772432, 0.039563235915126053, 0.12964445736285313, 0.4879511464783017, 0.3222780394974252, 0.2865373119594606, 0.3804410417843491, 0.6927432667364992, 0.6861704169660142, 0.45460976960749366, 0.167381444655892, 0.09442198956899436, 0.6194739526491574, 0.4898980481625087, 0.45689395144262673, 0.5037649239611497, 0.252513148441656, 0.2299702206305768, 0.34079828453282585, 0.21466647654669, 0.40325818110024625, 0.32081923429179393, 0.3201199949545083, 0.5122983859910827, 0.3775481104085203, 0.09036914352778586, 0.7128155488891692, 0.018235065070390095, 0.04172676468813925, 0.05521248649508339, 0.19666997548549148, 0.06990473892322627, 0.02402915416719224, 0.120249971207792, 0.4792696102357671, 0.3276032269209887, 0.34947982077536044, 0.04302378510592791, 0.17003032779243285, 0.29366955319977406, 0.11679764836213469, 0.03286973308252121, 0.409153728453831, 0.5334428351275906, 0.31754789103931647, 0.11607098787436726, 0.18526277688506698, 0.24697133392928636, 0.20224195326339112, 0.2009038011198798, 0.43676682698899316, 0.09794834952095251, 0.23654855463115812, 0.4078238026554642, 0.30194799853022636, 0.0600468353250229, 0.12930443509687892, 0.4381982110441426, 0.2139644950943562, 0.26263429508448455, 0.126164713366714, 0.07409194860179553, 0.40951294552514245, 0.02743486105703051, 0.22310122243488847, 0.15280161894472444, 0.6707569882802003, 0.01887671999166397, 0.0, 0.15834891768719048, 0.26358580900620265, 0.008097465737272474, 0.4301226822272555, 0.4248112053789329, 0.5856088318041472, 0.06283008209892454]}, {\"marker\": {\"color\": \"indianred\"}, \"name\": \"Popula\\u00e7\\u00e3o\", \"type\": \"bar\", \"x\": [\"S\\u00e9\", \"Parque Dom Pedro\", \"Pra\\u00e7a Jo\\u00e3o Mendes\", \"Ladeira da Mem\\u00f3ria\", \"Rep\\u00fablica\", \"Santa Ifig\\u00eania\", \"Luz\", \"Bom Retiro\", \"Ponte Pequena\", \"Canind\\u00e9\", \"Bom Jardim\", \"Pari\", \"Jo\\u00e3o Teodoro\", \"Oriente\", \"Bresser\", \"Br\\u00e1s\", \"Gas\\u00f4metro\", \"Independ\\u00eancia\", \"Cambuci\", \"Glic\\u00e9rio\", \"Aclima\\u00e7\\u00e3o\", \"Pires da Mota\", \"Centro Cultural\", \"Liberdade\", \"Treze de Maio\", \"Bexiga\", \"Bela Vista\", \"S\\u00e3o Carlos do Pinhal\", \"Masp\", \"Higien\\u00f3polis\", \"Vila Buarque\", \"Consola\\u00e7\\u00e3o\", \"Pacaembu\", \"FAAP\", \"Santa Cec\\u00edlia\", \"Marechal Deodoro\", \"Rudge\", \"Catumbi\", \"Bel\\u00e9m\", \"Quarta Parada\", \"Belenzinho\", \"Celso Garcia\", \"Mooca\", \"Alto da Mooca\", \"Parque da Mooca\", \"\\u00c1gua Rasa\", \"Vila Bertioga\", \"Regente Feij\\u00f3\", \"Ana Rosa\", \"Jardim da Gl\\u00f3ria\", \"Ch\\u00e1cara Klabin\", \"Vila Mariana\", \"Santa Cruz\", \"Vila Clementino\", \"Fran\\u00e7a Pinto\", \"Rodrigues Alves\", \"Para\\u00edso\", \"Bosque da Sa\\u00fade\", \"Sa\\u00fade\", \"Planalto Paulista\", \"Mirand\\u00f3polis\", \"Parque Ibirapuera\", \"Jardim Luzit\\u00e2nia\", \"Moema\", \"Vila Helena\", \"Bandeirantes\", \"Vila Nova Concei\\u00e7\\u00e3o\", \"Ch\\u00e1cara Itaim\", \"Vila Ol\\u00edmpia\", \"H\\u00e9lio Pelegrino\", \"Brooklin\", \"Vila Cordeiro\", \"Berrini\", \"Campinas\", \"Pamplona\", \"Jardins\", \"Cl\\u00ednicas\", \"Oscar Freire\", \"Trianon\", \"Jardim Paulistano\", \"Jardim Europa\", \"Pinheiros\", \"Vila Madalena\", \"PUC\", \"Cardoso de Almeida\", \"Zequinha de Abreu\", \"Sumar\\u00e9\", \"Perdizes\", \"Vila Anglo Brasileira\", \"Pomp\\u00e9ia\", \"Santa Marina\", \"Barra Funda\", \"Francisco Matarazzo\", \"\\u00c1gua Branca\", \"Vila Beatriz\", \"Alto de Pinheiros\", \"Boa\\u00e7ava\", \"Vila Anast\\u00e1cio\", \"Lapa de Baixo\", \"Lapa\", \"Vila Ipojuca\", \"Alto da Lapa\", \"Gavi\\u00e3o Peixoto\", \"Bela Alian\\u00e7a\", \"Vila Hamburguesa\", \"CEASA\", \"Vila Leopoldina\", \"Emiss\\u00e1rio\", \"Vila Zatt\", \"Pirituba\", \"S\\u00e3o Domingos\", \"Jardim Mutinga\", \"Vila Jaguara\", \"Parque do Jaragu\\u00e1\", \"Nova Jaragu\\u00e1\", \"Parada de Taipas\", \"Parque Morro Doce\", \"Anhanguera\", \"Perus\", \"Vista Alegre\", \"Jardim Damasceno\", \"Vila Souza\", \"Vila Terezinha\", \"Brasil\\u00e2ndia\", \"Vila Morro Grande\", \"Itaberaba\", \"Freguesia do \\u00d3\", \"Carandiru\", \"Santana\", \"Zaki Narchi\", \"Tiet\\u00ea\", \"Parque Anhembi\", \"Alfredo Pujol\", \"Santa Terezinha\", \"Jardim S\\u00e3o Paulo\", \"Casa Verde\", \"Parque Peruche\", \"Lim\\u00e3o\", \"Jardim Primavera\", \"Vila Santa Maria\", \"Cachoeirinha\", \"Jardim Peri\", \"Reserva da Cantareira\", \"Mandaqui\", \"Horto Florestal\", \"ETA Guara\\u00fa\", \"Parque Palmas do Trememb\\u00e9\", \"Trememb\\u00e9\", \"Cantareira\", \"Jardim das Pedras\", \"Jardim Guapira\", \"Parada Inglesa\", \"Tucuruvi\", \"Vila Gustavo\", \"Cohab Jova Real\", \"Ja\\u00e7an\\u00e3\", \"Parque Edu Chaves\", \"Vila Medeiros\", \"Jardim Brasil\", \"Jardim Jap\\u00e3o\", \"Parque Novo Mundo\", \"Vila Maria\", \"Vila Isolina Mazzei\", \"Vila Guilherme\", \"Coroa\", \"Gomes Cardim\", \"Tatuap\\u00e9\", \"Ch\\u00e1cara do Piqueri\", \"Parque S\\u00e3o Jorge\", \"Penha\", \"Tiquatira\", \"Vila Esperan\\u00e7a\", \"Vila R\\u00e9\", \"Rui Barbosa\", \"Esta\\u00e7\\u00e3o Eng. Goulart\", \"Canga\\u00edba\", \"Parque Ecol\\u00f3gico do Tiet\\u00ea\", \"USP Leste I\", \"USP Leste II\", \"Ermelino Matarazzo\", \"Parque Buturussu\", \"Ponte Rasa\", \"Burgo Paulista\", \"Limoeiro\", \"Laranja da China\", \"Pedro Jos\\u00e9 Nunes\", \"Parque Cruzeiro do Sul\", \"Vila Jacu\\u00ed\", \"Parada XV\", \"Itaquera\", \"Arena Corinthians\", \"Vila Campanela\", \"Arauc\\u00e1rias\", \"Parque Guarani\", \"Rio Verde\", \"Saudade\", \"S\\u00e3o Miguel Paulista\", \"Cidade Nitro-Oper\\u00e1ria\", \"Jardim Helena\", \"Jardim Romano\", \"Vila Curu\\u00e7\\u00e1\", \"Jardim Robru\", \"Lageado\", \"F\\u00e1brica Bandeirantes\", \"Fazenda Itaim\", \"Itaim Paulista\", \"Jardim das Oliveiras\", \"Vila Calif\\u00f3rnia\", \"Vila Carr\\u00e3o\", \"Jardim An\\u00e1lia Franco\", \"Vila Formosa\", \"Barreira Grande\", \"Aricanduva\", \"Frei Mont'Alverne\", \"Vila Matilde\", \"Cidade Patriarca\", \"Cidade A.E.Carvalho\", \"Artur Alvim\", \"Cidade L\\u00edder\", \"Santa Marcelina\", \"Parque Savoy\", \"Vila Carmosina\", \"Fazenda Cagua\\u00e7u\", \"Parque do Carmo\", \"Gleba do P\\u00eassego\", \"Jos\\u00e9 Bonif\\u00e1cio\", \"Guaianases\", \"Juscelino Kubitschek\", \"Cidade Tiradentes\", \"Santa Etelvina\", \"Terceira Divis\\u00e3o\", \"Iguatemi\", \"S\\u00edtio Carr\\u00e3ozinho\", \"Parque S\\u00e3o Rafael\", \"Rodolfo Pirani\", \"Ipiranga\", \"Sacom\\u00e3\", \"Alto do Ipiranga\", \"Vila S\\u00e3o Jos\\u00e9\", \"Vila Monumento\", \"Vila Independ\\u00eancia\", \"Vila Carioca\", \"Moinho Velho\", \"Vila Heli\\u00f3polis\", \"S\\u00e3o Jo\\u00e3o Cl\\u00edmaco\", \"Anchieta\", \"Vila das Merc\\u00eas\", \"Parque do Estado\", \"\\u00c1gua Funda\", \"Jardim da Sa\\u00fade\", \"Vila Gumercindo\", \"Jardim Previd\\u00eancia\", \"Tamanduate\\u00ed\", \"Orfanato\", \"Vila Zelina\", \"Linhas Corrente\", \"Vila Ema\", \"Parque S\\u00e3o Lucas\", \"Vila Cardoso Franco\", \"Parque Santa Madalena\", \"Jardim Colorado\", \"Teot\\u00f4nio Vilela\", \"Fazenda da Juta\", \"S\\u00e3o Mateus\", \"Cidade IV Centen\\u00e1rio\", \"Rio Claro\", \"Cidade Sat\\u00e9lite\", \"Joaquim Nabuco\", \"Vieira de Moraes\", \"Campo Belo\", \"Congonhas\", \"Jardim Aeroporto\", \"Vila Santa Catarina\", \"Jabaquara\", \"Cidade Vargas\", \"Jardim Bom Clima\", \"Cupec\\u00ea\", \"Jardim Miriam\", \"Vila Mission\\u00e1ria\", \"Jurubatuba\", \"Vila S\\u00e3o Pedro\", \"Campo Grande\", \"Vila Sabar\\u00e1\", \"Mar Paulista\", \"Pedreira\", \"Vila Socorro\", \"Parque Interlagos\", \"Jardim Represa\", \"Rio Bonito\", \"SESC Interlagos\", \"Jardim Presidente\", \"Vila Natal\", \"Graja\\u00fa\", \"Cocaia\", \"Belmira Marin\", \"Boror\\u00e9\", \"Jaceguava\", \"Parelheiros\", \"Marsilac\", \"Granja Julieta\", \"Ch\\u00e1cara Flora\", \"Santo Amaro\", \"Vila Miranda\", \"Jardim S\\u00e3o Lu\\u00eds\", \"Centro Empresarial\", \"Guarapiranga\", \"Jardim Capela\", \"Riviera\", \"Jardim Turquesa\", \"Morro do \\u00cdndio\", \"Jardim \\u00c2ngela\", \"Cap\\u00e3o Redondo\", \"Jardim S\\u00f4nia Ing\\u00e1\", \"Adventista\", \"Parque Fernanda\", \"Morumbi\", \"J\\u00f3quei Clube\", \"Fazenda Morumbi\", \"Real Parque\", \"Parais\\u00f3polis\", \"Jardim Vit\\u00f3ria R\\u00e9gia\", \"Vila Suzana\", \"Parque Arariba\", \"Jardim Mitsutani\", \"Pirajussara\", \"Jardim Umarizal\", \"Portal do Morumbi\", \"Jardim Jussara\", \"Vila S\\u00f4nia\", \"Jardim Maria do Carmo\", \"Jardim Cambar\\u00e1\", \"Jardim Jo\\u00e3o XXIII\", \"Raposo Tavares\", \"Rio Pequeno\", \"Jardim Ester Yolanda\", \"Jardim Adalgiza\", \"Parque Continental\", \"Jaguar\\u00e9\", \"Cidade Universit\\u00e1ria\", \"Butant\\u00e3\", \"Jardim Caxingui\", \"Jardim Bonfiglioli\", \"Melhoramentos\", \"Caieiras\", \"Serpa\", \"Santa In\\u00eas\", \"Cajamar\", \"Jordan\\u00e9sia\", \"Cristais\", \"Baltazar Fid\\u00e9lis\", \"Franco da Rocha\", \"Parque do Juqueri\", \"Palmares\", \"Sete Voltas\", \"Afonso Moreno\", \"Francisco Morato\", \"Cascatas\", \"Mairipor\\u00e3\", \"Paiva Castro\", \"Colinas\", \"Pirucaia\", \"Guarulhos\", \"Macedo\", \"Cumbica\", \"V\\u00e1rzea do Pal\\u00e1cio\", \"Ponte Grande\", \"Gopouva\", \"Vila S\\u00e3o Rafael\", \"Vila Ros\\u00e1lia\", \"Andr\\u00e9 Luiz\", \"Jardim Santa Clara\", \"Parque CECAP\", \"Tabo\\u00e3o\", \"Aeroporto\", \"Jardim Presidente Dutra\", \"Baquirivu\", \"\\u00c1gua Chata\", \"Pimentas\", \"Cabu\\u00e7u\", \"Invernada\", \"Morro dos Macacos\", \"Ch\\u00e1caras Bananal\", \"Estrada de Nazar\\u00e9 Paulista\", \"\\u00c1gua Azul\", \"Vasconcel\\u00e2ndia\", \"Arujazinho\", \"Aruj\\u00e1\", \"Fazenda Velha\", \"Santa Isabel\", \"Jaguari\", \"Ferraz de Vasconcelos\", \"Paiol Velho\", \"Santos Dumont\", \"Jardim S\\u00e3o Jos\\u00e9\", \"Po\\u00e1\", \"Itaquaquecetuba\", \"Quinta da Boa Vista\", \"Bonsucesso\", \"Pinheirinho\", \"Miguel Badra\", \"Suzano\", \"Guai\\u00f3\", \"Ouro Fino\", \"Mogi das Cruzes\", \"Estudantes\", \"Vila Oliveira\", \"Br\\u00e1s Cubas\", \"Jundiapeba\", \"Jardim Graziella\", \"Itapeti\", \"Saba\\u00fana\", \"C\\u00e9sar de Souza\", \"Taia\\u00e7upeba\", \"Biritiba-Mirim\", \"Sales\\u00f3polis\", \"Guararema\", \"Santa Paula\", \"Vila Gerti\", \"Estrada das L\\u00e1grimas\", \"Santo Ant\\u00f4nio\", \"S\\u00e3o Caetano do Sul\", \"Santo Andr\\u00e9\", \"Vila Gilda\", \"Valpara\\u00edso\", \"Sacadura Cabral\", \"Campestre\", \"Utinga\", \"Vila Lucinda\", \"Parque Orat\\u00f3rio\", \"Parque das Na\\u00e7\\u00f5es\", \"Jardim do Est\\u00e1dio\", \"Carij\\u00f3s\", \"Parque do Pedroso\", \"Paranapiacaba\", \"Capuava\", \"Mau\\u00e1\", \"Jardim Za\\u00edra\", \"Bar\\u00e3o de Mau\\u00e1\", \"Estrada do Carneiro\", \"Ribeir\\u00e3o Pires\", \"Jardim Santa Luzia\", \"Ouro Fino Paulista\", \"Parque Sete Pontes\", \"Rio Grande da Serra\", \"Planalto\", \"Paulic\\u00e9ia\", \"Rudge Ramos\", \"Baeta Neves\", \"S\\u00e3o Bernardo do Campo\", \"Montanh\\u00e3o\", \"Demarchi\", \"Riacho Grande\", \"Caminho do Mar\", \"Reservat\\u00f3rio Billings\", \"Diadema\", \"Jardim das Na\\u00e7\\u00f5es\", \"Piraporinha\", \"Vila Concei\\u00e7\\u00e3o\", \"Eldorado\", \"Tabo\\u00e3o da Serra\", \"Jardim Irapu\\u00e3\", \"Parque Pinheiros\", \"Parque Industrial\", \"Santo Eduardo\", \"S\\u00e3o Marcos\", \"Embu das Artes\", \"Ressaca\", \"Itapecerica da Serra\", \"Jardim Petr\\u00f3polis\", \"Embu-Mirim\", \"S\\u00e3o Louren\\u00e7o da Serra\", \"Embu-Gua\\u00e7u\", \"Cip\\u00f3\", \"Santa Rita\", \"Juquitiba\", \"Barueri\", \"Aphaville\", \"Tambor\\u00e9\", \"Ant\\u00f4nio Jo\\u00e3o\", \"Vutopoca\", \"Jardim Silveira\", \"Jardim Belval\", \"Morada dos Lagos\", \"Cidade Ariston\", \"Carapicu\\u00edba\", \"Jardim Planalto\", \"Aldeia de Carapicu\\u00edba\", \"Estrada do Jacarand\\u00e1\", \"Osasco\", \"Vila Yara\", \"Bussocaba City\", \"Nova Granada\", \"Recanto das Rosas\", \"Jardim Novo Osasco\", \"Jardim Veloso\", \"Quita\\u00fana\", \"Jardim Piratininga\", \"Presidente Altino\", \"Munhoz Junior\", \"Rochdale\", \"Mutinga\", \"Tr\\u00eas Montanhas\", \"Ribeir\\u00e3o Itaqui\", \"Jandira\", \"Ribeir\\u00e3o das Pombas\", \"Granja Viana\", \"Fernando Nobre\", \"Cotia\", \"Capueira\", \"Caucaia\", \"Caucaia do Alto\", \"Vargem Grande Paulista\", \"Quatro Encruzilhadas\", \"Itapevi\", \"Amador Bueno\", \"Santana de Parna\\u00edba\", \"Pirapora do Bom Jesus\"], \"y\": [0.017387045250843943, 0.030355366994825245, 0.09130595202305071, 0.12839864857820862, 0.07971813948422095, 0.11720528418758018, 0.09706251623881408, 0.06530532712109703, 0.03974180690537442, 0.008629559117483962, 0.014460772516000744, 0.07665328302571046, 0.007648805470569512, 0.017786808787794213, 0.04491742007940565, 0.06458575476219079, 0.037204643194142545, 0.10255264349326737, 0.11050524819056008, 0.1229299176588816, 0.09962634655326763, 0.07261302065605478, 0.028420506956509533, 0.06088664254853437, 0.09808061348325921, 0.07612026265705081, 0.09347001124776999, 0.048334064103703465, 0.07063017941036336, 0.10369862518953922, 0.10678475592565227, 0.04560499871403762, 0.009802194730720318, 0.04027481280817547, 0.21337766068790706, 0.22969875924681254, 0.02455612896251466, 0.02018005310196103, 0.04987446001114809, 0.04199113695187068, 0.1175357284747869, 0.028399192699566846, 0.149021133892799, 0.0978087560727621, 0.1773403427950983, 0.193325529336336, 0.12261011044650802, 0.12751918916426616, 0.0713497492362676, 0.0474172672441652, 0.08573588953596194, 0.05407466810704196, 0.07085405289594296, 0.04645249995969607, 0.08271369381776353, 0.11522244009131903, 0.12970456422203216, 0.1640575615275704, 0.2811402685496474, 0.11757841162310952, 0.1497779621765469, 0.024332253612327336, 0.011188040030466936, 0.17795325059727307, 0.1431686004057433, 0.05822153595235219, 0.05636128979931648, 0.14636671778834093, 0.05341372335337293, 0.06237907610764562, 0.15160622736507887, 0.05379214217831899, 0.046681691787392794, 0.06803972076137124, 0.0760989580413749, 0.05814156568171821, 0.1119657047385389, 0.11073975941596864, 0.05697959787063636, 0.10495655292757744, 0.06742677185859029, 0.060028455048904354, 0.1187297260211189, 0.08825174821738274, 0.02682678770072578, 0.01987623545912859, 0.08716971524098842, 0.24175557618172777, 0.07458517143538156, 0.07052892425988547, 0.012525918011469194, 0.0017269779764081908, 0.0481421558143915, 0.02128340581002586, 0.09411493658764036, 0.03843589890051996, 0.08853426042874797, 0.013069594321841698, 0.04328103889556622, 0.10316028090829055, 0.1165070225462258, 0.06738945426929582, 0.013975725004772415, 0.03765238174465749, 0.07696245185975528, 0.02089963074072782, 0.08108797335280676, 0.018394441348315266, 0.6402504478785218, 0.2689128139060268, 0.27142864118557547, 0.18736640059353868, 0.1287451327769847, 0.0, 0.2616798161526683, 0.8416724781312597, 0.3416376679001613, 0.08929115283501861, 0.4650366555347737, 0.0, 0.48117106151888, 0.2662583285471388, 0.3894548167742808, 0.3457473357345019, 0.28036741359183875, 0.18164715507435808, 0.2875151973782766, 0.009562337458849776, 0.024497500491386246, 0.01745100160277792, 0.0065401295467609165, 0.0, 0.19424232946674194, 0.153653059176251, 0.20341558298205742, 0.17360387026886162, 0.2848393014153913, 0.041868555528488435, 0.1295713349961093, 0.2526024081848131, 0.42255524697966645, 0.3535186369656867, 0.0, 0.5571421036993435, 0.023879197241769647, 0.0, 0.1807037241214492, 0.12189582433091123, 0.0, 0.27481330892297745, 0.5843419360991541, 0.1874570172737124, 0.08679660351964992, 0.24233653483857998, 0.1718556205365596, 0.23404816108666707, 0.10462608401085417, 0.32225718735304915, 0.3420428173784915, 0.2700908145272826, 0.25210140764511024, 0.08444067750763724, 0.25328475031073655, 0.031176199304772355, 0.016971282575312874, 0.17523489938749282, 0.0929582929369701, 0.1199396541264859, 0.11971578580422798, 0.18491985615706874, 0.2167570324949996, 0.14278483269704215, 0.1429446885088861, 0.26057108813274427, 0.16945699547830928, 0.24960157584242412, 0.05428253577084764, 0.0, 0.0, 0.3790236060176483, 0.24838622826495838, 0.2502305724408441, 0.2327102285985912, 0.13178330136868438, 0.15526271064912356, 0.06261359186398681, 0.25725042995578495, 0.16567254476729626, 0.25971291414228204, 0.1798828323541896, 0.0, 0.2076263880193351, 0.13679900741396284, 0.1377584478270665, 0.19746706747329287, 0.19183305709735965, 0.12858522560154081, 0.15716025157720562, 0.5423454150824997, 0.17747356629503017, 0.39798841848350713, 0.4137816699760319, 0.3041240257158123, 0.6133914768180203, 0.5724238888612024, 0.2447350958781148, 0.42122269470048423, 0.22663385082426196, 0.22489084951410296, 0.1714718330376922, 0.33133445275135687, 0.22398473563140703, 0.2375020058525384, 0.1387551723556381, 0.208916289635386, 0.21474219252593238, 0.17632763695622425, 0.36423234842618707, 0.2903614477966804, 0.18394444102789215, 0.2367451486300236, 0.2372568470106533, 0.14120704370363005, 0.0, 0.1695956038014359, 0.5451600119135186, 0.3409661148407423, 0.2362335653428339, 0.8148029507793277, 0.411074075729417, 0.18814462818472968, 0.22500815534983226, 0.35851315592453986, 0.37751514433080835, 0.45524524495812485, 0.06426595829246372, 0.04357420066282409, 0.10265924552680326, 0.08251115741062079, 0.10334679894598864, 0.051553466892581654, 0.14451175307212413, 0.23868006029575037, 0.3320913747086687, 0.13107442493668858, 0.1597614149318267, 0.5264244038700097, 0.0, 0.2495323262247331, 0.1022274755608654, 0.12997107303529035, 0.11987036251091397, 0.027013337430413453, 0.18162050856399597, 0.3491319361308478, 0.15707501908693808, 0.23516739678863846, 0.3697277449745695, 0.2022482702759056, 0.2453214431712698, 0.3001742847964998, 0.4540353049933813, 0.3369311643267765, 0.35684468983218487, 0.2358443494094666, 0.09998882164380606, 0.13436846474021058, 0.0744892361196105, 0.1143803071207383, 0.04953867289017637, 0.0, 0.10397046314417845, 0.32767793558953606, 0.19095893882381268, 0.20382067166230106, 0.4936010462910877, 0.316889741811085, 0.7400364892601669, 0.44508055470028096, 0.10721120920256835, 0.2186545274567239, 0.180106677927012, 0.056947633928449815, 0.2718444092765844, 0.5664911535079022, 0.048605902672978284, 0.14539128460067108, 0.11635777393868138, 0.25344462468442136, 0.2988363824557434, 0.4040755339312495, 0.34983550147965914, 0.4585605210708243, 0.6048526692728723, 0.6085996540608936, 0.022109575913492788, 0.015494828419481733, 0.776329821858185, 0.044576266020930136, 0.18604991658250053, 0.06653662094121635, 0.08734562798978597, 0.055034079915397126, 0.4191544990711461, 0.6784837281831968, 0.43818848878362543, 0.5565559711569049, 0.22322257122509132, 0.3503632187967741, 0.1508173632814836, 0.47191263982218246, 0.20418256053709694, 0.12934212114955707, 0.5610279550841459, 0.6526377700436543, 0.08293756340626586, 0.022951750269903783, 0.12210369095774413, 0.04805154626948574, 0.3936922312541476, 0.228104984717742, 0.2102221797691544, 0.3342555262216513, 0.38031345722212434, 0.2135108813522159, 0.2721322964256466, 0.10512708497344889, 0.12076585951291316, 0.18339009554962782, 0.22537060214324975, 0.22481095576468854, 0.23309940961224293, 0.10641699657789609, 0.19552692906817995, 0.21522196976236085, 0.24297611551389198, 0.12012619998448937, 0.16813516943067053, 0.0, 0.04124490249027746, 0.056185407222416134, 0.1903246324807355, 0.019066045325606348, 0.2808470521571278, 0.2193154609647663, 0.0, 0.37080458966077007, 0.02670952943329668, 0.0, 0.3834742838976194, 0.40339324128957643, 0.0, 0.0, 0.0, 0.31247632415658017, 0.5640608549546229, 0.027834181681494208, 0.23401609805986678, 0.09490379230909972, 0.09635897121805417, 0.07945163593469762, 0.07081141314664059, 0.22133563994102412, 0.07152567187624766, 0.02509981469345953, 0.16803382501839512, 0.14809364767592736, 0.2774731293263749, 0.29839930977957396, 0.4572546911112775, 0.4024071240793962, 0.35572538212507804, 0.37673170204869305, 0.0, 0.4673979029267722, 0.21561630686781877, 1.0, 0.5257633237542217, 0.32042895370241614, 0.5577925204720838, 0.0, 0.5264668191742604, 0.4093629607111397, 0.15395683187499126, 0.0, 0.020755710128559892, 0.405578571525432, 0.03408115835844379, 0.2157495769388364, 0.07250641255558522, 0.4403579393975551, 0.0, 0.5586239669431851, 0.10681142998383318, 0.498131681413732, 0.5683195507768343, 0.38163006729985083, 0.5886274793770218, 0.3761132757511355, 0.5967026804089619, 0.7254798607585909, 0.11062786656080016, 0.0838810174795986, 0.4671794750476976, 0.18065040791659717, 0.18718514447008774, 0.607624144443242, 0.2535086061508457, 0.08951499251557465, 0.05006103265824517, 0.08189818495295083, 0.19364536286911163, 0.1423424102875385, 0.167777996948378, 0.08826243530986863, 0.15244843536450584, 0.23329656404808094, 0.26911006280366523, 0.19940727562427102, 0.0237725985274644, 0.07903588611850408, 0.2972053877916342, 0.16763941748442582, 0.12686887724190823, 0.14307797326835922, 0.10469534994731249, 0.22347309819348404, 0.27712130362041, 0.3182756623318838, 0.217844347939841, 0.5637089164191049, 0.594005757973421, 0.628454756525663, 0.016198404638104836, 0.18210017788659924, 0.6816392537352695, 0.8947026224843121, 0.510423023386948, 0.13470424909433584, 0.43299710323973034, 0.1216559895589025, 0.07317267102932148, 0.06882858672219336, 0.18971164711293168, 0.5089358736534624, 0.29309576712477337, 0.23705429218205337, 0.24238456754878562, 0.35821468094239967, 0.9181763920872227, 0.5445896140869062, 0.2512485660380339, 0.16320998923486796, 0.7618368792762016, 0.3060908165299214, 0.530917764012291, 0.5754192588612697, 0.32643612985436105, 0.3971889378211863, 0.3151999987068504, 0.25626961837850987, 0.5381932900033788, 0.35623712184796946, 0.3874931966127306, 0.618439358183991, 0.29702952320937875, 0.10445547718439038, 0.8134812088481107, 0.02802608232881137, 0.04228963748269231, 0.08104534686087428, 0.21298324493968088, 0.11168324047891875, 0.03171988401386563, 0.1598787031606049, 0.4422287975158406, 0.2468139133267199, 0.0, 0.0, 0.22413401553405377, 0.3453422082288666, 0.10550554333591011, 0.017690863557089223, 0.7019471307266766, 0.5899067624096151, 0.371214906778776, 0.18006934607186087, 0.23265156179712482, 0.023745942791468515, 0.06141430168631248, 0.19668353409187728, 0.3212072266155553, 0.16540073728847113, 0.33880216704965604, 0.6501164800451743, 0.38408723343241513, 0.06817299132385395, 0.06183005172828607, 0.6894051255929954, 0.2655335368604224, 0.2734488060093985, 0.11055856459119563, 0.03146404995622462, 0.5666406719851107, 0.04228430493873462, 0.17728703461282114, 0.1243264170607864, 0.7401111330164628, 0.029342623624235908, 0.0, 0.19250465395158867, 0.26947774906267, 0.01911935231621561, 0.5576751716000314, 0.6439974633529475, 0.7014939354854366, 0.09651354817962997]}],\n",
       "                        {\"template\": {\"data\": {\"bar\": [{\"error_x\": {\"color\": \"#2a3f5f\"}, \"error_y\": {\"color\": \"#2a3f5f\"}, \"marker\": {\"line\": {\"color\": \"#E5ECF6\", \"width\": 0.5}}, \"type\": \"bar\"}], \"barpolar\": [{\"marker\": {\"line\": {\"color\": \"#E5ECF6\", \"width\": 0.5}}, \"type\": \"barpolar\"}], \"carpet\": [{\"aaxis\": {\"endlinecolor\": \"#2a3f5f\", \"gridcolor\": \"white\", \"linecolor\": \"white\", \"minorgridcolor\": \"white\", \"startlinecolor\": \"#2a3f5f\"}, \"baxis\": {\"endlinecolor\": \"#2a3f5f\", \"gridcolor\": \"white\", \"linecolor\": \"white\", \"minorgridcolor\": \"white\", \"startlinecolor\": \"#2a3f5f\"}, \"type\": \"carpet\"}], \"choropleth\": [{\"colorbar\": {\"outlinewidth\": 0, \"ticks\": \"\"}, \"type\": \"choropleth\"}], \"contour\": [{\"colorbar\": {\"outlinewidth\": 0, \"ticks\": \"\"}, \"colorscale\": [[0.0, \"#0d0887\"], [0.1111111111111111, \"#46039f\"], [0.2222222222222222, \"#7201a8\"], [0.3333333333333333, \"#9c179e\"], [0.4444444444444444, \"#bd3786\"], [0.5555555555555556, \"#d8576b\"], [0.6666666666666666, \"#ed7953\"], [0.7777777777777778, \"#fb9f3a\"], [0.8888888888888888, \"#fdca26\"], [1.0, \"#f0f921\"]], \"type\": \"contour\"}], \"contourcarpet\": [{\"colorbar\": {\"outlinewidth\": 0, \"ticks\": \"\"}, \"type\": \"contourcarpet\"}], \"heatmap\": [{\"colorbar\": {\"outlinewidth\": 0, \"ticks\": \"\"}, \"colorscale\": [[0.0, \"#0d0887\"], [0.1111111111111111, \"#46039f\"], [0.2222222222222222, \"#7201a8\"], [0.3333333333333333, \"#9c179e\"], [0.4444444444444444, \"#bd3786\"], [0.5555555555555556, \"#d8576b\"], [0.6666666666666666, \"#ed7953\"], [0.7777777777777778, \"#fb9f3a\"], [0.8888888888888888, \"#fdca26\"], [1.0, \"#f0f921\"]], \"type\": \"heatmap\"}], \"heatmapgl\": [{\"colorbar\": {\"outlinewidth\": 0, \"ticks\": \"\"}, \"colorscale\": [[0.0, \"#0d0887\"], [0.1111111111111111, \"#46039f\"], [0.2222222222222222, \"#7201a8\"], [0.3333333333333333, \"#9c179e\"], [0.4444444444444444, \"#bd3786\"], [0.5555555555555556, \"#d8576b\"], [0.6666666666666666, \"#ed7953\"], [0.7777777777777778, \"#fb9f3a\"], [0.8888888888888888, \"#fdca26\"], [1.0, \"#f0f921\"]], \"type\": \"heatmapgl\"}], \"histogram\": [{\"marker\": {\"colorbar\": {\"outlinewidth\": 0, \"ticks\": \"\"}}, \"type\": \"histogram\"}], \"histogram2d\": [{\"colorbar\": {\"outlinewidth\": 0, \"ticks\": \"\"}, \"colorscale\": [[0.0, \"#0d0887\"], [0.1111111111111111, \"#46039f\"], [0.2222222222222222, \"#7201a8\"], [0.3333333333333333, \"#9c179e\"], [0.4444444444444444, \"#bd3786\"], [0.5555555555555556, \"#d8576b\"], [0.6666666666666666, \"#ed7953\"], [0.7777777777777778, \"#fb9f3a\"], [0.8888888888888888, \"#fdca26\"], [1.0, \"#f0f921\"]], \"type\": \"histogram2d\"}], \"histogram2dcontour\": [{\"colorbar\": {\"outlinewidth\": 0, \"ticks\": \"\"}, \"colorscale\": [[0.0, \"#0d0887\"], [0.1111111111111111, \"#46039f\"], [0.2222222222222222, \"#7201a8\"], [0.3333333333333333, \"#9c179e\"], [0.4444444444444444, \"#bd3786\"], [0.5555555555555556, \"#d8576b\"], [0.6666666666666666, \"#ed7953\"], [0.7777777777777778, \"#fb9f3a\"], [0.8888888888888888, \"#fdca26\"], [1.0, \"#f0f921\"]], \"type\": \"histogram2dcontour\"}], \"mesh3d\": [{\"colorbar\": {\"outlinewidth\": 0, \"ticks\": \"\"}, \"type\": \"mesh3d\"}], \"parcoords\": [{\"line\": {\"colorbar\": {\"outlinewidth\": 0, \"ticks\": \"\"}}, \"type\": \"parcoords\"}], \"pie\": [{\"automargin\": true, \"type\": \"pie\"}], \"scatter\": [{\"marker\": {\"colorbar\": {\"outlinewidth\": 0, \"ticks\": \"\"}}, \"type\": \"scatter\"}], \"scatter3d\": [{\"line\": {\"colorbar\": {\"outlinewidth\": 0, \"ticks\": \"\"}}, \"marker\": {\"colorbar\": {\"outlinewidth\": 0, \"ticks\": \"\"}}, \"type\": \"scatter3d\"}], \"scattercarpet\": [{\"marker\": {\"colorbar\": {\"outlinewidth\": 0, \"ticks\": \"\"}}, \"type\": \"scattercarpet\"}], \"scattergeo\": [{\"marker\": {\"colorbar\": {\"outlinewidth\": 0, \"ticks\": \"\"}}, \"type\": \"scattergeo\"}], \"scattergl\": [{\"marker\": {\"colorbar\": {\"outlinewidth\": 0, \"ticks\": \"\"}}, \"type\": \"scattergl\"}], \"scattermapbox\": [{\"marker\": {\"colorbar\": {\"outlinewidth\": 0, \"ticks\": \"\"}}, \"type\": \"scattermapbox\"}], \"scatterpolar\": [{\"marker\": {\"colorbar\": {\"outlinewidth\": 0, \"ticks\": \"\"}}, \"type\": \"scatterpolar\"}], \"scatterpolargl\": [{\"marker\": {\"colorbar\": {\"outlinewidth\": 0, \"ticks\": \"\"}}, \"type\": \"scatterpolargl\"}], \"scatterternary\": [{\"marker\": {\"colorbar\": {\"outlinewidth\": 0, \"ticks\": \"\"}}, \"type\": \"scatterternary\"}], \"surface\": [{\"colorbar\": {\"outlinewidth\": 0, \"ticks\": \"\"}, \"colorscale\": [[0.0, \"#0d0887\"], [0.1111111111111111, \"#46039f\"], [0.2222222222222222, \"#7201a8\"], [0.3333333333333333, \"#9c179e\"], [0.4444444444444444, \"#bd3786\"], [0.5555555555555556, \"#d8576b\"], [0.6666666666666666, \"#ed7953\"], [0.7777777777777778, \"#fb9f3a\"], [0.8888888888888888, \"#fdca26\"], [1.0, \"#f0f921\"]], \"type\": \"surface\"}], \"table\": [{\"cells\": {\"fill\": {\"color\": \"#EBF0F8\"}, \"line\": {\"color\": \"white\"}}, \"header\": {\"fill\": {\"color\": \"#C8D4E3\"}, \"line\": {\"color\": \"white\"}}, \"type\": \"table\"}]}, \"layout\": {\"annotationdefaults\": {\"arrowcolor\": \"#2a3f5f\", \"arrowhead\": 0, \"arrowwidth\": 1}, \"coloraxis\": {\"colorbar\": {\"outlinewidth\": 0, \"ticks\": \"\"}}, \"colorscale\": {\"diverging\": [[0, \"#8e0152\"], [0.1, \"#c51b7d\"], [0.2, \"#de77ae\"], [0.3, \"#f1b6da\"], [0.4, \"#fde0ef\"], [0.5, \"#f7f7f7\"], [0.6, \"#e6f5d0\"], [0.7, \"#b8e186\"], [0.8, \"#7fbc41\"], [0.9, \"#4d9221\"], [1, \"#276419\"]], \"sequential\": [[0.0, \"#0d0887\"], [0.1111111111111111, \"#46039f\"], [0.2222222222222222, \"#7201a8\"], [0.3333333333333333, \"#9c179e\"], [0.4444444444444444, \"#bd3786\"], [0.5555555555555556, \"#d8576b\"], [0.6666666666666666, \"#ed7953\"], [0.7777777777777778, \"#fb9f3a\"], [0.8888888888888888, \"#fdca26\"], [1.0, \"#f0f921\"]], \"sequentialminus\": [[0.0, \"#0d0887\"], [0.1111111111111111, \"#46039f\"], [0.2222222222222222, \"#7201a8\"], [0.3333333333333333, \"#9c179e\"], [0.4444444444444444, \"#bd3786\"], [0.5555555555555556, \"#d8576b\"], [0.6666666666666666, \"#ed7953\"], [0.7777777777777778, \"#fb9f3a\"], [0.8888888888888888, \"#fdca26\"], [1.0, \"#f0f921\"]]}, \"colorway\": [\"#636efa\", \"#EF553B\", \"#00cc96\", \"#ab63fa\", \"#FFA15A\", \"#19d3f3\", \"#FF6692\", \"#B6E880\", \"#FF97FF\", \"#FECB52\"], \"font\": {\"color\": \"#2a3f5f\"}, \"geo\": {\"bgcolor\": \"white\", \"lakecolor\": \"white\", \"landcolor\": \"#E5ECF6\", \"showlakes\": true, \"showland\": true, \"subunitcolor\": \"white\"}, \"hoverlabel\": {\"align\": \"left\"}, \"hovermode\": \"closest\", \"mapbox\": {\"style\": \"light\"}, \"paper_bgcolor\": \"white\", \"plot_bgcolor\": \"#E5ECF6\", \"polar\": {\"angularaxis\": {\"gridcolor\": \"white\", \"linecolor\": \"white\", \"ticks\": \"\"}, \"bgcolor\": \"#E5ECF6\", \"radialaxis\": {\"gridcolor\": \"white\", \"linecolor\": \"white\", \"ticks\": \"\"}}, \"scene\": {\"xaxis\": {\"backgroundcolor\": \"#E5ECF6\", \"gridcolor\": \"white\", \"gridwidth\": 2, \"linecolor\": \"white\", \"showbackground\": true, \"ticks\": \"\", \"zerolinecolor\": \"white\"}, \"yaxis\": {\"backgroundcolor\": \"#E5ECF6\", \"gridcolor\": \"white\", \"gridwidth\": 2, \"linecolor\": \"white\", \"showbackground\": true, \"ticks\": \"\", \"zerolinecolor\": \"white\"}, \"zaxis\": {\"backgroundcolor\": \"#E5ECF6\", \"gridcolor\": \"white\", \"gridwidth\": 2, \"linecolor\": \"white\", \"showbackground\": true, \"ticks\": \"\", \"zerolinecolor\": \"white\"}}, \"shapedefaults\": {\"line\": {\"color\": \"#2a3f5f\"}}, \"ternary\": {\"aaxis\": {\"gridcolor\": \"white\", \"linecolor\": \"white\", \"ticks\": \"\"}, \"baxis\": {\"gridcolor\": \"white\", \"linecolor\": \"white\", \"ticks\": \"\"}, \"bgcolor\": \"#E5ECF6\", \"caxis\": {\"gridcolor\": \"white\", \"linecolor\": \"white\", \"ticks\": \"\"}}, \"title\": {\"x\": 0.05}, \"xaxis\": {\"automargin\": true, \"gridcolor\": \"white\", \"linecolor\": \"white\", \"ticks\": \"\", \"title\": {\"standoff\": 15}, \"zerolinecolor\": \"white\", \"zerolinewidth\": 2}, \"yaxis\": {\"automargin\": true, \"gridcolor\": \"white\", \"linecolor\": \"white\", \"ticks\": \"\", \"title\": {\"standoff\": 15}, \"zerolinecolor\": \"white\", \"zerolinewidth\": 2}}}},\n",
       "                        {\"responsive\": true}\n",
       "                    ).then(function(){\n",
       "                            \n",
       "var gd = document.getElementById('35b29a3d-2d65-4c00-a237-1f10207e16e3');\n",
       "var x = new MutationObserver(function (mutations, observer) {{\n",
       "        var display = window.getComputedStyle(gd).display;\n",
       "        if (!display || display === 'none') {{\n",
       "            console.log([gd, 'removed!']);\n",
       "            Plotly.purge(gd);\n",
       "            observer.disconnect();\n",
       "        }}\n",
       "}});\n",
       "\n",
       "// Listen for the removal of the full notebook cells\n",
       "var notebookContainer = gd.closest('#notebook-container');\n",
       "if (notebookContainer) {{\n",
       "    x.observe(notebookContainer, {childList: true});\n",
       "}}\n",
       "\n",
       "// Listen for the clearing of the current output cell\n",
       "var outputEl = gd.closest('.output');\n",
       "if (outputEl) {{\n",
       "    x.observe(outputEl, {childList: true});\n",
       "}}\n",
       "\n",
       "                        })\n",
       "                };\n",
       "                });\n",
       "            </script>\n",
       "        </div>"
      ]
     },
     "metadata": {},
     "output_type": "display_data"
    }
   ],
   "source": [
    "fig = go.Figure()\n",
    "\n",
    "\n",
    "fig.add_trace(go.Bar(\n",
    "    x=dg['Nome'],\n",
    "    y=scaler.fit_transform(od.drop(columns='Origem').sum(axis=1).values.reshape(-1, 1))[:,0],\n",
    "    name='Viagens Produzidas',\n",
    "    marker_color='lightsalmon'\n",
    "))\n",
    "\n",
    "\n",
    "fig.add_trace(go.Bar(\n",
    "    x=dg['Nome'],\n",
    "    y=scaler.fit_transform(dg['População'].values.reshape(-1, 1))[:,0],\n",
    "    name='População',\n",
    "    marker_color='indianred'\n",
    "))"
   ]
  },
  {
   "cell_type": "code",
   "execution_count": 143,
   "metadata": {},
   "outputs": [
    {
     "data": {
      "application/vnd.plotly.v1+json": {
       "config": {
        "plotlyServerURL": "https://plot.ly"
       },
       "data": [
        {
         "marker": {
          "color": "lightsalmon"
         },
         "name": "Viagens Produzidas",
         "type": "bar",
         "x": [
          "Sé",
          "Parque Dom Pedro",
          "Praça João Mendes",
          "Ladeira da Memória",
          "República",
          "Santa Ifigênia",
          "Luz",
          "Bom Retiro",
          "Ponte Pequena",
          "Canindé",
          "Bom Jardim",
          "Pari",
          "João Teodoro",
          "Oriente",
          "Bresser",
          "Brás",
          "Gasômetro",
          "Independência",
          "Cambuci",
          "Glicério",
          "Aclimação",
          "Pires da Mota",
          "Centro Cultural",
          "Liberdade",
          "Treze de Maio",
          "Bexiga",
          "Bela Vista",
          "São Carlos do Pinhal",
          "Masp",
          "Higienópolis",
          "Vila Buarque",
          "Consolação",
          "Pacaembu",
          "FAAP",
          "Santa Cecília",
          "Marechal Deodoro",
          "Rudge",
          "Catumbi",
          "Belém",
          "Quarta Parada",
          "Belenzinho",
          "Celso Garcia",
          "Mooca",
          "Alto da Mooca",
          "Parque da Mooca",
          "Água Rasa",
          "Vila Bertioga",
          "Regente Feijó",
          "Ana Rosa",
          "Jardim da Glória",
          "Chácara Klabin",
          "Vila Mariana",
          "Santa Cruz",
          "Vila Clementino",
          "França Pinto",
          "Rodrigues Alves",
          "Paraíso",
          "Bosque da Saúde",
          "Saúde",
          "Planalto Paulista",
          "Mirandópolis",
          "Parque Ibirapuera",
          "Jardim Luzitânia",
          "Moema",
          "Vila Helena",
          "Bandeirantes",
          "Vila Nova Conceição",
          "Chácara Itaim",
          "Vila Olímpia",
          "Hélio Pelegrino",
          "Brooklin",
          "Vila Cordeiro",
          "Berrini",
          "Campinas",
          "Pamplona",
          "Jardins",
          "Clínicas",
          "Oscar Freire",
          "Trianon",
          "Jardim Paulistano",
          "Jardim Europa",
          "Pinheiros",
          "Vila Madalena",
          "PUC",
          "Cardoso de Almeida",
          "Zequinha de Abreu",
          "Sumaré",
          "Perdizes",
          "Vila Anglo Brasileira",
          "Pompéia",
          "Santa Marina",
          "Barra Funda",
          "Francisco Matarazzo",
          "Água Branca",
          "Vila Beatriz",
          "Alto de Pinheiros",
          "Boaçava",
          "Vila Anastácio",
          "Lapa de Baixo",
          "Lapa",
          "Vila Ipojuca",
          "Alto da Lapa",
          "Gavião Peixoto",
          "Bela Aliança",
          "Vila Hamburguesa",
          "CEASA",
          "Vila Leopoldina",
          "Emissário",
          "Vila Zatt",
          "Pirituba",
          "São Domingos",
          "Jardim Mutinga",
          "Vila Jaguara",
          "Parque do Jaraguá",
          "Nova Jaraguá",
          "Parada de Taipas",
          "Parque Morro Doce",
          "Anhanguera",
          "Perus",
          "Vista Alegre",
          "Jardim Damasceno",
          "Vila Souza",
          "Vila Terezinha",
          "Brasilândia",
          "Vila Morro Grande",
          "Itaberaba",
          "Freguesia do Ó",
          "Carandiru",
          "Santana",
          "Zaki Narchi",
          "Tietê",
          "Parque Anhembi",
          "Alfredo Pujol",
          "Santa Terezinha",
          "Jardim São Paulo",
          "Casa Verde",
          "Parque Peruche",
          "Limão",
          "Jardim Primavera",
          "Vila Santa Maria",
          "Cachoeirinha",
          "Jardim Peri",
          "Reserva da Cantareira",
          "Mandaqui",
          "Horto Florestal",
          "ETA Guaraú",
          "Parque Palmas do Tremembé",
          "Tremembé",
          "Cantareira",
          "Jardim das Pedras",
          "Jardim Guapira",
          "Parada Inglesa",
          "Tucuruvi",
          "Vila Gustavo",
          "Cohab Jova Real",
          "Jaçanã",
          "Parque Edu Chaves",
          "Vila Medeiros",
          "Jardim Brasil",
          "Jardim Japão",
          "Parque Novo Mundo",
          "Vila Maria",
          "Vila Isolina Mazzei",
          "Vila Guilherme",
          "Coroa",
          "Gomes Cardim",
          "Tatuapé",
          "Chácara do Piqueri",
          "Parque São Jorge",
          "Penha",
          "Tiquatira",
          "Vila Esperança",
          "Vila Ré",
          "Rui Barbosa",
          "Estação Eng. Goulart",
          "Cangaíba",
          "Parque Ecológico do Tietê",
          "USP Leste I",
          "USP Leste II",
          "Ermelino Matarazzo",
          "Parque Buturussu",
          "Ponte Rasa",
          "Burgo Paulista",
          "Limoeiro",
          "Laranja da China",
          "Pedro José Nunes",
          "Parque Cruzeiro do Sul",
          "Vila Jacuí",
          "Parada XV",
          "Itaquera",
          "Arena Corinthians",
          "Vila Campanela",
          "Araucárias",
          "Parque Guarani",
          "Rio Verde",
          "Saudade",
          "São Miguel Paulista",
          "Cidade Nitro-Operária",
          "Jardim Helena",
          "Jardim Romano",
          "Vila Curuçá",
          "Jardim Robru",
          "Lageado",
          "Fábrica Bandeirantes",
          "Fazenda Itaim",
          "Itaim Paulista",
          "Jardim das Oliveiras",
          "Vila Califórnia",
          "Vila Carrão",
          "Jardim Anália Franco",
          "Vila Formosa",
          "Barreira Grande",
          "Aricanduva",
          "Frei Mont'Alverne",
          "Vila Matilde",
          "Cidade Patriarca",
          "Cidade A.E.Carvalho",
          "Artur Alvim",
          "Cidade Líder",
          "Santa Marcelina",
          "Parque Savoy",
          "Vila Carmosina",
          "Fazenda Caguaçu",
          "Parque do Carmo",
          "Gleba do Pêssego",
          "José Bonifácio",
          "Guaianases",
          "Juscelino Kubitschek",
          "Cidade Tiradentes",
          "Santa Etelvina",
          "Terceira Divisão",
          "Iguatemi",
          "Sítio Carrãozinho",
          "Parque São Rafael",
          "Rodolfo Pirani",
          "Ipiranga",
          "Sacomã",
          "Alto do Ipiranga",
          "Vila São José",
          "Vila Monumento",
          "Vila Independência",
          "Vila Carioca",
          "Moinho Velho",
          "Vila Heliópolis",
          "São João Clímaco",
          "Anchieta",
          "Vila das Mercês",
          "Parque do Estado",
          "Água Funda",
          "Jardim da Saúde",
          "Vila Gumercindo",
          "Jardim Previdência",
          "Tamanduateí",
          "Orfanato",
          "Vila Zelina",
          "Linhas Corrente",
          "Vila Ema",
          "Parque São Lucas",
          "Vila Cardoso Franco",
          "Parque Santa Madalena",
          "Jardim Colorado",
          "Teotônio Vilela",
          "Fazenda da Juta",
          "São Mateus",
          "Cidade IV Centenário",
          "Rio Claro",
          "Cidade Satélite",
          "Joaquim Nabuco",
          "Vieira de Moraes",
          "Campo Belo",
          "Congonhas",
          "Jardim Aeroporto",
          "Vila Santa Catarina",
          "Jabaquara",
          "Cidade Vargas",
          "Jardim Bom Clima",
          "Cupecê",
          "Jardim Miriam",
          "Vila Missionária",
          "Jurubatuba",
          "Vila São Pedro",
          "Campo Grande",
          "Vila Sabará",
          "Mar Paulista",
          "Pedreira",
          "Vila Socorro",
          "Parque Interlagos",
          "Jardim Represa",
          "Rio Bonito",
          "SESC Interlagos",
          "Jardim Presidente",
          "Vila Natal",
          "Grajaú",
          "Cocaia",
          "Belmira Marin",
          "Bororé",
          "Jaceguava",
          "Parelheiros",
          "Marsilac",
          "Granja Julieta",
          "Chácara Flora",
          "Santo Amaro",
          "Vila Miranda",
          "Jardim São Luís",
          "Centro Empresarial",
          "Guarapiranga",
          "Jardim Capela",
          "Riviera",
          "Jardim Turquesa",
          "Morro do Índio",
          "Jardim Ângela",
          "Capão Redondo",
          "Jardim Sônia Ingá",
          "Adventista",
          "Parque Fernanda",
          "Morumbi",
          "Jóquei Clube",
          "Fazenda Morumbi",
          "Real Parque",
          "Paraisópolis",
          "Jardim Vitória Régia",
          "Vila Suzana",
          "Parque Arariba",
          "Jardim Mitsutani",
          "Pirajussara",
          "Jardim Umarizal",
          "Portal do Morumbi",
          "Jardim Jussara",
          "Vila Sônia",
          "Jardim Maria do Carmo",
          "Jardim Cambará",
          "Jardim João XXIII",
          "Raposo Tavares",
          "Rio Pequeno",
          "Jardim Ester Yolanda",
          "Jardim Adalgiza",
          "Parque Continental",
          "Jaguaré",
          "Cidade Universitária",
          "Butantã",
          "Jardim Caxingui",
          "Jardim Bonfiglioli",
          "Melhoramentos",
          "Caieiras",
          "Serpa",
          "Santa Inês",
          "Cajamar",
          "Jordanésia",
          "Cristais",
          "Baltazar Fidélis",
          "Franco da Rocha",
          "Parque do Juqueri",
          "Palmares",
          "Sete Voltas",
          "Afonso Moreno",
          "Francisco Morato",
          "Cascatas",
          "Mairiporã",
          "Paiva Castro",
          "Colinas",
          "Pirucaia",
          "Guarulhos",
          "Macedo",
          "Cumbica",
          "Várzea do Palácio",
          "Ponte Grande",
          "Gopouva",
          "Vila São Rafael",
          "Vila Rosália",
          "André Luiz",
          "Jardim Santa Clara",
          "Parque CECAP",
          "Taboão",
          "Aeroporto",
          "Jardim Presidente Dutra",
          "Baquirivu",
          "Água Chata",
          "Pimentas",
          "Cabuçu",
          "Invernada",
          "Morro dos Macacos",
          "Chácaras Bananal",
          "Estrada de Nazaré Paulista",
          "Água Azul",
          "Vasconcelândia",
          "Arujazinho",
          "Arujá",
          "Fazenda Velha",
          "Santa Isabel",
          "Jaguari",
          "Ferraz de Vasconcelos",
          "Paiol Velho",
          "Santos Dumont",
          "Jardim São José",
          "Poá",
          "Itaquaquecetuba",
          "Quinta da Boa Vista",
          "Bonsucesso",
          "Pinheirinho",
          "Miguel Badra",
          "Suzano",
          "Guaió",
          "Ouro Fino",
          "Mogi das Cruzes",
          "Estudantes",
          "Vila Oliveira",
          "Brás Cubas",
          "Jundiapeba",
          "Jardim Graziella",
          "Itapeti",
          "Sabaúna",
          "César de Souza",
          "Taiaçupeba",
          "Biritiba-Mirim",
          "Salesópolis",
          "Guararema",
          "Santa Paula",
          "Vila Gerti",
          "Estrada das Lágrimas",
          "Santo Antônio",
          "São Caetano do Sul",
          "Santo André",
          "Vila Gilda",
          "Valparaíso",
          "Sacadura Cabral",
          "Campestre",
          "Utinga",
          "Vila Lucinda",
          "Parque Oratório",
          "Parque das Nações",
          "Jardim do Estádio",
          "Carijós",
          "Parque do Pedroso",
          "Paranapiacaba",
          "Capuava",
          "Mauá",
          "Jardim Zaíra",
          "Barão de Mauá",
          "Estrada do Carneiro",
          "Ribeirão Pires",
          "Jardim Santa Luzia",
          "Ouro Fino Paulista",
          "Parque Sete Pontes",
          "Rio Grande da Serra",
          "Planalto",
          "Paulicéia",
          "Rudge Ramos",
          "Baeta Neves",
          "São Bernardo do Campo",
          "Montanhão",
          "Demarchi",
          "Riacho Grande",
          "Caminho do Mar",
          "Reservatório Billings",
          "Diadema",
          "Jardim das Nações",
          "Piraporinha",
          "Vila Conceição",
          "Eldorado",
          "Taboão da Serra",
          "Jardim Irapuã",
          "Parque Pinheiros",
          "Parque Industrial",
          "Santo Eduardo",
          "São Marcos",
          "Embu das Artes",
          "Ressaca",
          "Itapecerica da Serra",
          "Jardim Petrópolis",
          "Embu-Mirim",
          "São Lourenço da Serra",
          "Embu-Guaçu",
          "Cipó",
          "Santa Rita",
          "Juquitiba",
          "Barueri",
          "Aphaville",
          "Tamboré",
          "Antônio João",
          "Vutopoca",
          "Jardim Silveira",
          "Jardim Belval",
          "Morada dos Lagos",
          "Cidade Ariston",
          "Carapicuíba",
          "Jardim Planalto",
          "Aldeia de Carapicuíba",
          "Estrada do Jacarandá",
          "Osasco",
          "Vila Yara",
          "Bussocaba City",
          "Nova Granada",
          "Recanto das Rosas",
          "Jardim Novo Osasco",
          "Jardim Veloso",
          "Quitaúna",
          "Jardim Piratininga",
          "Presidente Altino",
          "Munhoz Junior",
          "Rochdale",
          "Mutinga",
          "Três Montanhas",
          "Ribeirão Itaqui",
          "Jandira",
          "Ribeirão das Pombas",
          "Granja Viana",
          "Fernando Nobre",
          "Cotia",
          "Capueira",
          "Caucaia",
          "Caucaia do Alto",
          "Vargem Grande Paulista",
          "Quatro Encruzilhadas",
          "Itapevi",
          "Amador Bueno",
          "Santana de Parnaíba",
          "Pirapora do Bom Jesus"
         ],
         "y": [
          null,
          42.031256925765966,
          11.045477011256496,
          4.560128168668674,
          7.724687975890882,
          7.333912869650836,
          4.232752626150655,
          2.206974705033586,
          2.9554363929641734,
          3.198900153658508,
          7.025940997562268,
          16.992996714348735,
          1.7453585689550786,
          46.28919717312691,
          10.82109359458993,
          5.766344826813503,
          2.605925979026704,
          10.664182891317415,
          2.995165695025844,
          2.2691008918260525,
          1.92403376662124,
          1.9792415028235064,
          5.426410646500303,
          16.80345169655615,
          3.553531132093446,
          2.9594040597068756,
          8.240950315341522,
          4.3387882093007795,
          10.457871410167,
          4.757301837914246,
          6.112206782815221,
          5.591795384386891,
          0.8056335280641552,
          17.292010688176966,
          15.121894066473928,
          2.811875757011878,
          0.7827073159506688,
          2.637942310488229,
          7.146856943091105,
          4.510955655047528,
          10.312389976109909,
          1.3295091326233628,
          20.49905792056871,
          2.155482918307647,
          5.375913230736537,
          2.158546541476993,
          1.1970500382591471,
          2.135416613417953,
          2.512623031994628,
          1.2521292943864544,
          3.3622973092603767,
          2.6062797924228915,
          6.475996389735843,
          6.754983963375704,
          5.783821013031906,
          4.947351837490616,
          5.112828522729163,
          2.2834714023023635,
          5.3409461935335205,
          1.313603011543017,
          3.446483896466055,
          1.7317085987434027,
          8.33888565987045,
          49.80230151278037,
          2.0449297883467534,
          2.228890185504543,
          2.989105395250834,
          16.242106420998567,
          2.20852097784854,
          5.4406734643721135,
          5.694351458036553,
          2.14031602408662,
          17.952144586779475,
          8.738297526405104,
          3.34383077074502,
          3.546963242886953,
          8.790981282828692,
          2.7680189445700383,
          6.028976605290811,
          7.554911594300224,
          4.434817065752525,
          12.941655877842216,
          7.998935542176239,
          2.4469132893014605,
          1.2272151678685208,
          2.0439100011114366,
          11.918207311607611,
          6.351474631761813,
          0.4538318531051048,
          3.2163227662627523,
          4.640492036017286,
          13.388085071280214,
          369.7838759493849,
          5.95106420356444,
          10.635609522122618,
          1.9181064177235656,
          6.060881368121045,
          0.9498494225984225,
          17.768762641365562,
          18.42130769748701,
          2.454427584031555,
          1.4496294908556895,
          0.9050065143359197,
          6.831045664964787,
          6.744478095987618,
          2.130341057379531,
          12.807955107577573,
          1.6949324359828577,
          52.32599945740903,
          0.7538668620221728,
          1.6528512167354044,
          1.1506588639013131,
          1.6356965059372544,
          0.009853439148258149,
          null,
          4.89312219669019,
          0.37894453159385055,
          0.33777993933909267,
          6.619328051613046,
          0,
          null,
          0.80160194900437,
          1.6995378605625138,
          1.7619273867611192,
          1.2349458225211654,
          1.3668438237754434,
          3.7682438822786093,
          0.6646890280981173,
          34.74303824435333,
          2.0968230651187714,
          9.86469191669992,
          11.918498022827018,
          null,
          2.0300478748766038,
          2.907551533180527,
          2.3633623588322057,
          3.2600863956590413,
          0.6241510619049871,
          7.90082591088671,
          3.736063640576787,
          3.3858123346830666,
          1.2342194933778472,
          0,
          null,
          0.18657561149804858,
          0,
          null,
          1.4413896156910422,
          0.018671566151660844,
          null,
          3.471915141772412,
          0.729268881219414,
          1.1679604695245305,
          6.205110225215792,
          0.936390636777504,
          2.7470996423009026,
          0.7786151795442687,
          3.8147120958914607,
          1.6858534115985777,
          0.8640196390986452,
          2.4181398211645857,
          1.4421000061617029,
          6.092791328795915,
          0.5446873270701438,
          6.346215270554938,
          37.708236955865395,
          3.5552080151362,
          4.24736279645066,
          3.819705174742935,
          4.347373434729096,
          2.3417404651125113,
          1.291865324148426,
          1.699454645432233,
          3.2145205803029353,
          1.237900359106003,
          1.8355877766358382,
          0.3058426498300468,
          0.3811861434121063,
          null,
          null,
          1.1232896322156127,
          1.3712449673259104,
          1.4502617569921425,
          0.9832795355375811,
          1.2046595875965005,
          0.6072643961242236,
          5.355325404862693,
          1.5935184993741087,
          2.9107207965147235,
          1.7360903177220817,
          0.8426573903201375,
          null,
          0.9556133142525914,
          1.3215274438405475,
          1.8679821886843853,
          1.3745784599987847,
          1.3951656451653762,
          4.2063914897106045,
          5.610244021206632,
          0.5177495599753955,
          4.196300703253065,
          1.2744585066046676,
          0.9043927137816866,
          2.9582516186999555,
          1.274472446810396,
          0.9447355293382792,
          2.84560625194126,
          1.2644191282949098,
          1.9067238991765842,
          2.1829969211950626,
          3.421603755831179,
          0.8735885335259618,
          2.051044677487617,
          1.14545115939399,
          2.8212972269231407,
          1.7744102706398552,
          1.5882894147596527,
          4.096822413898836,
          1.3541283478824513,
          1.1603303920491685,
          2.5933062461986838,
          1.7576551318402829,
          0.9441949434084154,
          0.47799345211093697,
          null,
          5.52369713012018,
          0.8930462712078281,
          0.9281684210765568,
          5.5420558275950915,
          0.7926026895813973,
          0.6481158167021784,
          2.123179671071226,
          2.2367221456619117,
          1.570523505983844,
          1.4289386503523196,
          0.49550974963212047,
          3.9829971936582296,
          5.327829158131308,
          4.199739581290552,
          3.6115631285776852,
          1.5492292387289617,
          5.436829370229961,
          3.4539325351536543,
          2.4789965836783,
          0.5260497344176036,
          1.905412242555072,
          6.650051969752399,
          0.06049835930622282,
          null,
          0.9908787949884701,
          2.0041713402718897,
          1.8423554159887912,
          0.586286665484085,
          20.737966749580202,
          3.807183775414572,
          0.6612418966060098,
          2.041195733692619,
          2.1423848665659686,
          0.7022418453189416,
          1.5007906282031636,
          1.8345246623674631,
          2.030435479720945,
          1.3643137737628321,
          1.7106880408987792,
          1.4923077040426251,
          0.4996497583923122,
          2.91204177975779,
          1.5757069599119906,
          4.792128770502678,
          1.2807211477491893,
          2.448568977671023,
          null,
          6.070182730862675,
          2.2098710495430787,
          3.1576231753988906,
          4.181673153735336,
          1.3403489962001924,
          3.525835885226867,
          0.7346279528800388,
          0.9393666315003621,
          4.224619208385673,
          2.117205681324045,
          0.5673573073047864,
          7.669878357939078,
          3.3250523512049925,
          0.47818040495529485,
          7.754466978621091,
          1.82586032601747,
          4.341869316597943,
          1.8897979116025683,
          2.3752611714728684,
          1.324961152899015,
          2.2255424249779288,
          1.9767409882661828,
          1.493095329828149,
          0.07911193560073795,
          0.9852942006811668,
          75.8080428278894,
          0.07151487816180692,
          32.126757026103014,
          1.441684120913333,
          9.570374175612773,
          8.012814729469458,
          15.777338431665747,
          2.6391695329801195,
          0.7910377907559821,
          1.7810097978919261,
          0.5822478064520078,
          1.8721072987407732,
          0.4368040324982725,
          5.307440158206957,
          1.061150238401345,
          1.1819804426841976,
          7.6760885116690165,
          1.6629041258489055,
          0.3834222774588261,
          1.175899801710781,
          11.097303961570818,
          1.7368608201713203,
          11.117583466466456,
          1.35351551044549,
          1.9488957020310531,
          2.4432559866997865,
          1.555238062032076,
          1.231868014116412,
          1.6457052815084765,
          0.6181959140072893,
          2.615728154493079,
          3.964910860736561,
          1.8428181534469192,
          1.659500336661592,
          1.9353909480029456,
          0.7878439006162792,
          3.4134236342258246,
          1.8739741814556887,
          1.5039374524861102,
          1.1468906245330384,
          3.167769046735504,
          2.8407614526151628,
          null,
          3.8751628384854757,
          6.605065654886742,
          0.10611366306398366,
          30.523624574684998,
          0.7338584679991766,
          0.0030136591927216075,
          null,
          0.13144159414560103,
          0.058271784231714537,
          null,
          1.6276688794353569,
          0.09026042396603487,
          null,
          null,
          null,
          2.244763401396247,
          0.04526382524275683,
          10.584453109795582,
          0.5590835285090263,
          1.5275488365352865,
          0.9036396349327608,
          8.154903582540085,
          9.592096317646558,
          1.023335320877864,
          1.9204854720045825,
          20.782962874948236,
          1.59521045560565,
          3.3419597187515717,
          2.2058892184556838,
          2.870961188559623,
          1.2318791850185307,
          1.3556611727926449,
          2.1699932788649345,
          0.5782904879512252,
          null,
          1.0540776220701933,
          9.015180492427884,
          0.7109657742890041,
          0.9238031172740617,
          2.2818718480274396,
          0,
          null,
          1.1127257724975357,
          0.6496921079042912,
          0.029185713189814437,
          null,
          33.77298809866266,
          0.13098789357424634,
          11.939004931844588,
          0.40467432028714023,
          8.020068761514018,
          0.011825797394536063,
          null,
          0.32676233371002356,
          7.370827178626666,
          2.048087688061115,
          1.1005786812424547,
          2.1125450838596795,
          0.7095162406259948,
          2.3294223364219677,
          2.7157076159228186,
          0.21662209059201654,
          1.1148636361874906,
          15.636206089109931,
          0.896711759691521,
          2.729257343154402,
          5.528305805642818,
          0.5695063476365033,
          0.5190386737947044,
          0.9895797722807718,
          2.6060475873805236,
          3.572079310332627,
          1.003633355171134,
          2.0676650794397453,
          1.0067669155581942,
          2.8242037178943455,
          3.883045581273378,
          2.1045259518521986,
          1.8816745538552726,
          0.5120686645285377,
          17.7735386702187,
          22.626514891029604,
          0.8780465924446581,
          1.5242123257318183,
          1.5633982341381765,
          1.8749766000247987,
          3.6814989571263608,
          2.169703170562627,
          1.936950442018432,
          1.1352154104111218,
          4.468803960945552,
          1.7209101060048577,
          1.2569586148037224,
          0.05393323971284828,
          25.030940326396333,
          7.688708198053765,
          1.8061897202716966,
          0.7341409330665766,
          0.27730503263600287,
          6.979859436570136,
          0.3263740210520226,
          0.7981948169152105,
          1.0509908293506165,
          3.6613490294887523,
          4.999635893026293,
          1.2309025685148247,
          1.900324052045184,
          3.119575983795116,
          5.555502882825043,
          3.723442389134944,
          0.9624289354499143,
          0.5974395738264094,
          0.7305090231448813,
          7.3778928416619705,
          1.2499704496040964,
          2.9014904002028947,
          1.8444067280175211,
          0.8530129663439528,
          1.369397121814876,
          1.6678472945688567,
          1.3238355829190775,
          3.058736699677712,
          1.1587190532647138,
          1.7467455970985741,
          2.569892370198047,
          1.1866734052243528,
          0.591393541500904,
          13.264838791388874,
          0.043572835371051555,
          2.8940654492270985,
          2.53781156956884,
          4.7170014259295066,
          0.6379949009895188,
          0.4182216455694367,
          7.369014645032433,
          5.827003839154678,
          1.439982387119409,
          2.7523806471700856,
          null,
          null,
          2.5468723570671585,
          0.6574162975080625,
          0.6055875362235813,
          44.956605232197404,
          1.4772007257993165,
          1.0463618263231216,
          0.6077910521728529,
          1.999882182350353,
          2.063462612168908,
          16.5553308023235,
          6.35879266890016,
          4.316558903395627,
          0.5927449244565339,
          2.779962174962596,
          2.3398198417451903,
          0.9028113475457459,
          0.30388991012868133,
          3.6868638482846863,
          13.776123248665375,
          0.6032859824380319,
          1.9225962242738517,
          0.8968460570988834,
          1.3026707283821162,
          25.299331254568333,
          0.09411331053054509,
          10.256018202495179,
          1.6753556282339308,
          10.487158147770002,
          0.04957761446045698,
          0,
          null,
          2.661563430218813,
          0.05840933169774814,
          43.729569153023284,
          1.4807122977748381,
          1.7675816745084192,
          0.1741003866213469,
          null
         ]
        }
       ],
       "layout": {
        "template": {
         "data": {
          "bar": [
           {
            "error_x": {
             "color": "#2a3f5f"
            },
            "error_y": {
             "color": "#2a3f5f"
            },
            "marker": {
             "line": {
              "color": "#E5ECF6",
              "width": 0.5
             }
            },
            "type": "bar"
           }
          ],
          "barpolar": [
           {
            "marker": {
             "line": {
              "color": "#E5ECF6",
              "width": 0.5
             }
            },
            "type": "barpolar"
           }
          ],
          "carpet": [
           {
            "aaxis": {
             "endlinecolor": "#2a3f5f",
             "gridcolor": "white",
             "linecolor": "white",
             "minorgridcolor": "white",
             "startlinecolor": "#2a3f5f"
            },
            "baxis": {
             "endlinecolor": "#2a3f5f",
             "gridcolor": "white",
             "linecolor": "white",
             "minorgridcolor": "white",
             "startlinecolor": "#2a3f5f"
            },
            "type": "carpet"
           }
          ],
          "choropleth": [
           {
            "colorbar": {
             "outlinewidth": 0,
             "ticks": ""
            },
            "type": "choropleth"
           }
          ],
          "contour": [
           {
            "colorbar": {
             "outlinewidth": 0,
             "ticks": ""
            },
            "colorscale": [
             [
              0,
              "#0d0887"
             ],
             [
              0.1111111111111111,
              "#46039f"
             ],
             [
              0.2222222222222222,
              "#7201a8"
             ],
             [
              0.3333333333333333,
              "#9c179e"
             ],
             [
              0.4444444444444444,
              "#bd3786"
             ],
             [
              0.5555555555555556,
              "#d8576b"
             ],
             [
              0.6666666666666666,
              "#ed7953"
             ],
             [
              0.7777777777777778,
              "#fb9f3a"
             ],
             [
              0.8888888888888888,
              "#fdca26"
             ],
             [
              1,
              "#f0f921"
             ]
            ],
            "type": "contour"
           }
          ],
          "contourcarpet": [
           {
            "colorbar": {
             "outlinewidth": 0,
             "ticks": ""
            },
            "type": "contourcarpet"
           }
          ],
          "heatmap": [
           {
            "colorbar": {
             "outlinewidth": 0,
             "ticks": ""
            },
            "colorscale": [
             [
              0,
              "#0d0887"
             ],
             [
              0.1111111111111111,
              "#46039f"
             ],
             [
              0.2222222222222222,
              "#7201a8"
             ],
             [
              0.3333333333333333,
              "#9c179e"
             ],
             [
              0.4444444444444444,
              "#bd3786"
             ],
             [
              0.5555555555555556,
              "#d8576b"
             ],
             [
              0.6666666666666666,
              "#ed7953"
             ],
             [
              0.7777777777777778,
              "#fb9f3a"
             ],
             [
              0.8888888888888888,
              "#fdca26"
             ],
             [
              1,
              "#f0f921"
             ]
            ],
            "type": "heatmap"
           }
          ],
          "heatmapgl": [
           {
            "colorbar": {
             "outlinewidth": 0,
             "ticks": ""
            },
            "colorscale": [
             [
              0,
              "#0d0887"
             ],
             [
              0.1111111111111111,
              "#46039f"
             ],
             [
              0.2222222222222222,
              "#7201a8"
             ],
             [
              0.3333333333333333,
              "#9c179e"
             ],
             [
              0.4444444444444444,
              "#bd3786"
             ],
             [
              0.5555555555555556,
              "#d8576b"
             ],
             [
              0.6666666666666666,
              "#ed7953"
             ],
             [
              0.7777777777777778,
              "#fb9f3a"
             ],
             [
              0.8888888888888888,
              "#fdca26"
             ],
             [
              1,
              "#f0f921"
             ]
            ],
            "type": "heatmapgl"
           }
          ],
          "histogram": [
           {
            "marker": {
             "colorbar": {
              "outlinewidth": 0,
              "ticks": ""
             }
            },
            "type": "histogram"
           }
          ],
          "histogram2d": [
           {
            "colorbar": {
             "outlinewidth": 0,
             "ticks": ""
            },
            "colorscale": [
             [
              0,
              "#0d0887"
             ],
             [
              0.1111111111111111,
              "#46039f"
             ],
             [
              0.2222222222222222,
              "#7201a8"
             ],
             [
              0.3333333333333333,
              "#9c179e"
             ],
             [
              0.4444444444444444,
              "#bd3786"
             ],
             [
              0.5555555555555556,
              "#d8576b"
             ],
             [
              0.6666666666666666,
              "#ed7953"
             ],
             [
              0.7777777777777778,
              "#fb9f3a"
             ],
             [
              0.8888888888888888,
              "#fdca26"
             ],
             [
              1,
              "#f0f921"
             ]
            ],
            "type": "histogram2d"
           }
          ],
          "histogram2dcontour": [
           {
            "colorbar": {
             "outlinewidth": 0,
             "ticks": ""
            },
            "colorscale": [
             [
              0,
              "#0d0887"
             ],
             [
              0.1111111111111111,
              "#46039f"
             ],
             [
              0.2222222222222222,
              "#7201a8"
             ],
             [
              0.3333333333333333,
              "#9c179e"
             ],
             [
              0.4444444444444444,
              "#bd3786"
             ],
             [
              0.5555555555555556,
              "#d8576b"
             ],
             [
              0.6666666666666666,
              "#ed7953"
             ],
             [
              0.7777777777777778,
              "#fb9f3a"
             ],
             [
              0.8888888888888888,
              "#fdca26"
             ],
             [
              1,
              "#f0f921"
             ]
            ],
            "type": "histogram2dcontour"
           }
          ],
          "mesh3d": [
           {
            "colorbar": {
             "outlinewidth": 0,
             "ticks": ""
            },
            "type": "mesh3d"
           }
          ],
          "parcoords": [
           {
            "line": {
             "colorbar": {
              "outlinewidth": 0,
              "ticks": ""
             }
            },
            "type": "parcoords"
           }
          ],
          "pie": [
           {
            "automargin": true,
            "type": "pie"
           }
          ],
          "scatter": [
           {
            "marker": {
             "colorbar": {
              "outlinewidth": 0,
              "ticks": ""
             }
            },
            "type": "scatter"
           }
          ],
          "scatter3d": [
           {
            "line": {
             "colorbar": {
              "outlinewidth": 0,
              "ticks": ""
             }
            },
            "marker": {
             "colorbar": {
              "outlinewidth": 0,
              "ticks": ""
             }
            },
            "type": "scatter3d"
           }
          ],
          "scattercarpet": [
           {
            "marker": {
             "colorbar": {
              "outlinewidth": 0,
              "ticks": ""
             }
            },
            "type": "scattercarpet"
           }
          ],
          "scattergeo": [
           {
            "marker": {
             "colorbar": {
              "outlinewidth": 0,
              "ticks": ""
             }
            },
            "type": "scattergeo"
           }
          ],
          "scattergl": [
           {
            "marker": {
             "colorbar": {
              "outlinewidth": 0,
              "ticks": ""
             }
            },
            "type": "scattergl"
           }
          ],
          "scattermapbox": [
           {
            "marker": {
             "colorbar": {
              "outlinewidth": 0,
              "ticks": ""
             }
            },
            "type": "scattermapbox"
           }
          ],
          "scatterpolar": [
           {
            "marker": {
             "colorbar": {
              "outlinewidth": 0,
              "ticks": ""
             }
            },
            "type": "scatterpolar"
           }
          ],
          "scatterpolargl": [
           {
            "marker": {
             "colorbar": {
              "outlinewidth": 0,
              "ticks": ""
             }
            },
            "type": "scatterpolargl"
           }
          ],
          "scatterternary": [
           {
            "marker": {
             "colorbar": {
              "outlinewidth": 0,
              "ticks": ""
             }
            },
            "type": "scatterternary"
           }
          ],
          "surface": [
           {
            "colorbar": {
             "outlinewidth": 0,
             "ticks": ""
            },
            "colorscale": [
             [
              0,
              "#0d0887"
             ],
             [
              0.1111111111111111,
              "#46039f"
             ],
             [
              0.2222222222222222,
              "#7201a8"
             ],
             [
              0.3333333333333333,
              "#9c179e"
             ],
             [
              0.4444444444444444,
              "#bd3786"
             ],
             [
              0.5555555555555556,
              "#d8576b"
             ],
             [
              0.6666666666666666,
              "#ed7953"
             ],
             [
              0.7777777777777778,
              "#fb9f3a"
             ],
             [
              0.8888888888888888,
              "#fdca26"
             ],
             [
              1,
              "#f0f921"
             ]
            ],
            "type": "surface"
           }
          ],
          "table": [
           {
            "cells": {
             "fill": {
              "color": "#EBF0F8"
             },
             "line": {
              "color": "white"
             }
            },
            "header": {
             "fill": {
              "color": "#C8D4E3"
             },
             "line": {
              "color": "white"
             }
            },
            "type": "table"
           }
          ]
         },
         "layout": {
          "annotationdefaults": {
           "arrowcolor": "#2a3f5f",
           "arrowhead": 0,
           "arrowwidth": 1
          },
          "coloraxis": {
           "colorbar": {
            "outlinewidth": 0,
            "ticks": ""
           }
          },
          "colorscale": {
           "diverging": [
            [
             0,
             "#8e0152"
            ],
            [
             0.1,
             "#c51b7d"
            ],
            [
             0.2,
             "#de77ae"
            ],
            [
             0.3,
             "#f1b6da"
            ],
            [
             0.4,
             "#fde0ef"
            ],
            [
             0.5,
             "#f7f7f7"
            ],
            [
             0.6,
             "#e6f5d0"
            ],
            [
             0.7,
             "#b8e186"
            ],
            [
             0.8,
             "#7fbc41"
            ],
            [
             0.9,
             "#4d9221"
            ],
            [
             1,
             "#276419"
            ]
           ],
           "sequential": [
            [
             0,
             "#0d0887"
            ],
            [
             0.1111111111111111,
             "#46039f"
            ],
            [
             0.2222222222222222,
             "#7201a8"
            ],
            [
             0.3333333333333333,
             "#9c179e"
            ],
            [
             0.4444444444444444,
             "#bd3786"
            ],
            [
             0.5555555555555556,
             "#d8576b"
            ],
            [
             0.6666666666666666,
             "#ed7953"
            ],
            [
             0.7777777777777778,
             "#fb9f3a"
            ],
            [
             0.8888888888888888,
             "#fdca26"
            ],
            [
             1,
             "#f0f921"
            ]
           ],
           "sequentialminus": [
            [
             0,
             "#0d0887"
            ],
            [
             0.1111111111111111,
             "#46039f"
            ],
            [
             0.2222222222222222,
             "#7201a8"
            ],
            [
             0.3333333333333333,
             "#9c179e"
            ],
            [
             0.4444444444444444,
             "#bd3786"
            ],
            [
             0.5555555555555556,
             "#d8576b"
            ],
            [
             0.6666666666666666,
             "#ed7953"
            ],
            [
             0.7777777777777778,
             "#fb9f3a"
            ],
            [
             0.8888888888888888,
             "#fdca26"
            ],
            [
             1,
             "#f0f921"
            ]
           ]
          },
          "colorway": [
           "#636efa",
           "#EF553B",
           "#00cc96",
           "#ab63fa",
           "#FFA15A",
           "#19d3f3",
           "#FF6692",
           "#B6E880",
           "#FF97FF",
           "#FECB52"
          ],
          "font": {
           "color": "#2a3f5f"
          },
          "geo": {
           "bgcolor": "white",
           "lakecolor": "white",
           "landcolor": "#E5ECF6",
           "showlakes": true,
           "showland": true,
           "subunitcolor": "white"
          },
          "hoverlabel": {
           "align": "left"
          },
          "hovermode": "closest",
          "mapbox": {
           "style": "light"
          },
          "paper_bgcolor": "white",
          "plot_bgcolor": "#E5ECF6",
          "polar": {
           "angularaxis": {
            "gridcolor": "white",
            "linecolor": "white",
            "ticks": ""
           },
           "bgcolor": "#E5ECF6",
           "radialaxis": {
            "gridcolor": "white",
            "linecolor": "white",
            "ticks": ""
           }
          },
          "scene": {
           "xaxis": {
            "backgroundcolor": "#E5ECF6",
            "gridcolor": "white",
            "gridwidth": 2,
            "linecolor": "white",
            "showbackground": true,
            "ticks": "",
            "zerolinecolor": "white"
           },
           "yaxis": {
            "backgroundcolor": "#E5ECF6",
            "gridcolor": "white",
            "gridwidth": 2,
            "linecolor": "white",
            "showbackground": true,
            "ticks": "",
            "zerolinecolor": "white"
           },
           "zaxis": {
            "backgroundcolor": "#E5ECF6",
            "gridcolor": "white",
            "gridwidth": 2,
            "linecolor": "white",
            "showbackground": true,
            "ticks": "",
            "zerolinecolor": "white"
           }
          },
          "shapedefaults": {
           "line": {
            "color": "#2a3f5f"
           }
          },
          "ternary": {
           "aaxis": {
            "gridcolor": "white",
            "linecolor": "white",
            "ticks": ""
           },
           "baxis": {
            "gridcolor": "white",
            "linecolor": "white",
            "ticks": ""
           },
           "bgcolor": "#E5ECF6",
           "caxis": {
            "gridcolor": "white",
            "linecolor": "white",
            "ticks": ""
           }
          },
          "title": {
           "x": 0.05
          },
          "xaxis": {
           "automargin": true,
           "gridcolor": "white",
           "linecolor": "white",
           "ticks": "",
           "title": {
            "standoff": 15
           },
           "zerolinecolor": "white",
           "zerolinewidth": 2
          },
          "yaxis": {
           "automargin": true,
           "gridcolor": "white",
           "linecolor": "white",
           "ticks": "",
           "title": {
            "standoff": 15
           },
           "zerolinecolor": "white",
           "zerolinewidth": 2
          }
         }
        }
       }
      },
      "text/html": [
       "<div>\n",
       "        \n",
       "        \n",
       "            <div id=\"7d903de9-e1e0-41c3-9d27-ba5d5eb1004b\" class=\"plotly-graph-div\" style=\"height:525px; width:100%;\"></div>\n",
       "            <script type=\"text/javascript\">\n",
       "                require([\"plotly\"], function(Plotly) {\n",
       "                    window.PLOTLYENV=window.PLOTLYENV || {};\n",
       "                    \n",
       "                if (document.getElementById(\"7d903de9-e1e0-41c3-9d27-ba5d5eb1004b\")) {\n",
       "                    Plotly.newPlot(\n",
       "                        '7d903de9-e1e0-41c3-9d27-ba5d5eb1004b',\n",
       "                        [{\"marker\": {\"color\": \"lightsalmon\"}, \"name\": \"Viagens Produzidas\", \"type\": \"bar\", \"x\": [\"S\\u00e9\", \"Parque Dom Pedro\", \"Pra\\u00e7a Jo\\u00e3o Mendes\", \"Ladeira da Mem\\u00f3ria\", \"Rep\\u00fablica\", \"Santa Ifig\\u00eania\", \"Luz\", \"Bom Retiro\", \"Ponte Pequena\", \"Canind\\u00e9\", \"Bom Jardim\", \"Pari\", \"Jo\\u00e3o Teodoro\", \"Oriente\", \"Bresser\", \"Br\\u00e1s\", \"Gas\\u00f4metro\", \"Independ\\u00eancia\", \"Cambuci\", \"Glic\\u00e9rio\", \"Aclima\\u00e7\\u00e3o\", \"Pires da Mota\", \"Centro Cultural\", \"Liberdade\", \"Treze de Maio\", \"Bexiga\", \"Bela Vista\", \"S\\u00e3o Carlos do Pinhal\", \"Masp\", \"Higien\\u00f3polis\", \"Vila Buarque\", \"Consola\\u00e7\\u00e3o\", \"Pacaembu\", \"FAAP\", \"Santa Cec\\u00edlia\", \"Marechal Deodoro\", \"Rudge\", \"Catumbi\", \"Bel\\u00e9m\", \"Quarta Parada\", \"Belenzinho\", \"Celso Garcia\", \"Mooca\", \"Alto da Mooca\", \"Parque da Mooca\", \"\\u00c1gua Rasa\", \"Vila Bertioga\", \"Regente Feij\\u00f3\", \"Ana Rosa\", \"Jardim da Gl\\u00f3ria\", \"Ch\\u00e1cara Klabin\", \"Vila Mariana\", \"Santa Cruz\", \"Vila Clementino\", \"Fran\\u00e7a Pinto\", \"Rodrigues Alves\", \"Para\\u00edso\", \"Bosque da Sa\\u00fade\", \"Sa\\u00fade\", \"Planalto Paulista\", \"Mirand\\u00f3polis\", \"Parque Ibirapuera\", \"Jardim Luzit\\u00e2nia\", \"Moema\", \"Vila Helena\", \"Bandeirantes\", \"Vila Nova Concei\\u00e7\\u00e3o\", \"Ch\\u00e1cara Itaim\", \"Vila Ol\\u00edmpia\", \"H\\u00e9lio Pelegrino\", \"Brooklin\", \"Vila Cordeiro\", \"Berrini\", \"Campinas\", \"Pamplona\", \"Jardins\", \"Cl\\u00ednicas\", \"Oscar Freire\", \"Trianon\", \"Jardim Paulistano\", \"Jardim Europa\", \"Pinheiros\", \"Vila Madalena\", \"PUC\", \"Cardoso de Almeida\", \"Zequinha de Abreu\", \"Sumar\\u00e9\", \"Perdizes\", \"Vila Anglo Brasileira\", \"Pomp\\u00e9ia\", \"Santa Marina\", \"Barra Funda\", \"Francisco Matarazzo\", \"\\u00c1gua Branca\", \"Vila Beatriz\", \"Alto de Pinheiros\", \"Boa\\u00e7ava\", \"Vila Anast\\u00e1cio\", \"Lapa de Baixo\", \"Lapa\", \"Vila Ipojuca\", \"Alto da Lapa\", \"Gavi\\u00e3o Peixoto\", \"Bela Alian\\u00e7a\", \"Vila Hamburguesa\", \"CEASA\", \"Vila Leopoldina\", \"Emiss\\u00e1rio\", \"Vila Zatt\", \"Pirituba\", \"S\\u00e3o Domingos\", \"Jardim Mutinga\", \"Vila Jaguara\", \"Parque do Jaragu\\u00e1\", \"Nova Jaragu\\u00e1\", \"Parada de Taipas\", \"Parque Morro Doce\", \"Anhanguera\", \"Perus\", \"Vista Alegre\", \"Jardim Damasceno\", \"Vila Souza\", \"Vila Terezinha\", \"Brasil\\u00e2ndia\", \"Vila Morro Grande\", \"Itaberaba\", \"Freguesia do \\u00d3\", \"Carandiru\", \"Santana\", \"Zaki Narchi\", \"Tiet\\u00ea\", \"Parque Anhembi\", \"Alfredo Pujol\", \"Santa Terezinha\", \"Jardim S\\u00e3o Paulo\", \"Casa Verde\", \"Parque Peruche\", \"Lim\\u00e3o\", \"Jardim Primavera\", \"Vila Santa Maria\", \"Cachoeirinha\", \"Jardim Peri\", \"Reserva da Cantareira\", \"Mandaqui\", \"Horto Florestal\", \"ETA Guara\\u00fa\", \"Parque Palmas do Trememb\\u00e9\", \"Trememb\\u00e9\", \"Cantareira\", \"Jardim das Pedras\", \"Jardim Guapira\", \"Parada Inglesa\", \"Tucuruvi\", \"Vila Gustavo\", \"Cohab Jova Real\", \"Ja\\u00e7an\\u00e3\", \"Parque Edu Chaves\", \"Vila Medeiros\", \"Jardim Brasil\", \"Jardim Jap\\u00e3o\", \"Parque Novo Mundo\", \"Vila Maria\", \"Vila Isolina Mazzei\", \"Vila Guilherme\", \"Coroa\", \"Gomes Cardim\", \"Tatuap\\u00e9\", \"Ch\\u00e1cara do Piqueri\", \"Parque S\\u00e3o Jorge\", \"Penha\", \"Tiquatira\", \"Vila Esperan\\u00e7a\", \"Vila R\\u00e9\", \"Rui Barbosa\", \"Esta\\u00e7\\u00e3o Eng. Goulart\", \"Canga\\u00edba\", \"Parque Ecol\\u00f3gico do Tiet\\u00ea\", \"USP Leste I\", \"USP Leste II\", \"Ermelino Matarazzo\", \"Parque Buturussu\", \"Ponte Rasa\", \"Burgo Paulista\", \"Limoeiro\", \"Laranja da China\", \"Pedro Jos\\u00e9 Nunes\", \"Parque Cruzeiro do Sul\", \"Vila Jacu\\u00ed\", \"Parada XV\", \"Itaquera\", \"Arena Corinthians\", \"Vila Campanela\", \"Arauc\\u00e1rias\", \"Parque Guarani\", \"Rio Verde\", \"Saudade\", \"S\\u00e3o Miguel Paulista\", \"Cidade Nitro-Oper\\u00e1ria\", \"Jardim Helena\", \"Jardim Romano\", \"Vila Curu\\u00e7\\u00e1\", \"Jardim Robru\", \"Lageado\", \"F\\u00e1brica Bandeirantes\", \"Fazenda Itaim\", \"Itaim Paulista\", \"Jardim das Oliveiras\", \"Vila Calif\\u00f3rnia\", \"Vila Carr\\u00e3o\", \"Jardim An\\u00e1lia Franco\", \"Vila Formosa\", \"Barreira Grande\", \"Aricanduva\", \"Frei Mont'Alverne\", \"Vila Matilde\", \"Cidade Patriarca\", \"Cidade A.E.Carvalho\", \"Artur Alvim\", \"Cidade L\\u00edder\", \"Santa Marcelina\", \"Parque Savoy\", \"Vila Carmosina\", \"Fazenda Cagua\\u00e7u\", \"Parque do Carmo\", \"Gleba do P\\u00eassego\", \"Jos\\u00e9 Bonif\\u00e1cio\", \"Guaianases\", \"Juscelino Kubitschek\", \"Cidade Tiradentes\", \"Santa Etelvina\", \"Terceira Divis\\u00e3o\", \"Iguatemi\", \"S\\u00edtio Carr\\u00e3ozinho\", \"Parque S\\u00e3o Rafael\", \"Rodolfo Pirani\", \"Ipiranga\", \"Sacom\\u00e3\", \"Alto do Ipiranga\", \"Vila S\\u00e3o Jos\\u00e9\", \"Vila Monumento\", \"Vila Independ\\u00eancia\", \"Vila Carioca\", \"Moinho Velho\", \"Vila Heli\\u00f3polis\", \"S\\u00e3o Jo\\u00e3o Cl\\u00edmaco\", \"Anchieta\", \"Vila das Merc\\u00eas\", \"Parque do Estado\", \"\\u00c1gua Funda\", \"Jardim da Sa\\u00fade\", \"Vila Gumercindo\", \"Jardim Previd\\u00eancia\", \"Tamanduate\\u00ed\", \"Orfanato\", \"Vila Zelina\", \"Linhas Corrente\", \"Vila Ema\", \"Parque S\\u00e3o Lucas\", \"Vila Cardoso Franco\", \"Parque Santa Madalena\", \"Jardim Colorado\", \"Teot\\u00f4nio Vilela\", \"Fazenda da Juta\", \"S\\u00e3o Mateus\", \"Cidade IV Centen\\u00e1rio\", \"Rio Claro\", \"Cidade Sat\\u00e9lite\", \"Joaquim Nabuco\", \"Vieira de Moraes\", \"Campo Belo\", \"Congonhas\", \"Jardim Aeroporto\", \"Vila Santa Catarina\", \"Jabaquara\", \"Cidade Vargas\", \"Jardim Bom Clima\", \"Cupec\\u00ea\", \"Jardim Miriam\", \"Vila Mission\\u00e1ria\", \"Jurubatuba\", \"Vila S\\u00e3o Pedro\", \"Campo Grande\", \"Vila Sabar\\u00e1\", \"Mar Paulista\", \"Pedreira\", \"Vila Socorro\", \"Parque Interlagos\", \"Jardim Represa\", \"Rio Bonito\", \"SESC Interlagos\", \"Jardim Presidente\", \"Vila Natal\", \"Graja\\u00fa\", \"Cocaia\", \"Belmira Marin\", \"Boror\\u00e9\", \"Jaceguava\", \"Parelheiros\", \"Marsilac\", \"Granja Julieta\", \"Ch\\u00e1cara Flora\", \"Santo Amaro\", \"Vila Miranda\", \"Jardim S\\u00e3o Lu\\u00eds\", \"Centro Empresarial\", \"Guarapiranga\", \"Jardim Capela\", \"Riviera\", \"Jardim Turquesa\", \"Morro do \\u00cdndio\", \"Jardim \\u00c2ngela\", \"Cap\\u00e3o Redondo\", \"Jardim S\\u00f4nia Ing\\u00e1\", \"Adventista\", \"Parque Fernanda\", \"Morumbi\", \"J\\u00f3quei Clube\", \"Fazenda Morumbi\", \"Real Parque\", \"Parais\\u00f3polis\", \"Jardim Vit\\u00f3ria R\\u00e9gia\", \"Vila Suzana\", \"Parque Arariba\", \"Jardim Mitsutani\", \"Pirajussara\", \"Jardim Umarizal\", \"Portal do Morumbi\", \"Jardim Jussara\", \"Vila S\\u00f4nia\", \"Jardim Maria do Carmo\", \"Jardim Cambar\\u00e1\", \"Jardim Jo\\u00e3o XXIII\", \"Raposo Tavares\", \"Rio Pequeno\", \"Jardim Ester Yolanda\", \"Jardim Adalgiza\", \"Parque Continental\", \"Jaguar\\u00e9\", \"Cidade Universit\\u00e1ria\", \"Butant\\u00e3\", \"Jardim Caxingui\", \"Jardim Bonfiglioli\", \"Melhoramentos\", \"Caieiras\", \"Serpa\", \"Santa In\\u00eas\", \"Cajamar\", \"Jordan\\u00e9sia\", \"Cristais\", \"Baltazar Fid\\u00e9lis\", \"Franco da Rocha\", \"Parque do Juqueri\", \"Palmares\", \"Sete Voltas\", \"Afonso Moreno\", \"Francisco Morato\", \"Cascatas\", \"Mairipor\\u00e3\", \"Paiva Castro\", \"Colinas\", \"Pirucaia\", \"Guarulhos\", \"Macedo\", \"Cumbica\", \"V\\u00e1rzea do Pal\\u00e1cio\", \"Ponte Grande\", \"Gopouva\", \"Vila S\\u00e3o Rafael\", \"Vila Ros\\u00e1lia\", \"Andr\\u00e9 Luiz\", \"Jardim Santa Clara\", \"Parque CECAP\", \"Tabo\\u00e3o\", \"Aeroporto\", \"Jardim Presidente Dutra\", \"Baquirivu\", \"\\u00c1gua Chata\", \"Pimentas\", \"Cabu\\u00e7u\", \"Invernada\", \"Morro dos Macacos\", \"Ch\\u00e1caras Bananal\", \"Estrada de Nazar\\u00e9 Paulista\", \"\\u00c1gua Azul\", \"Vasconcel\\u00e2ndia\", \"Arujazinho\", \"Aruj\\u00e1\", \"Fazenda Velha\", \"Santa Isabel\", \"Jaguari\", \"Ferraz de Vasconcelos\", \"Paiol Velho\", \"Santos Dumont\", \"Jardim S\\u00e3o Jos\\u00e9\", \"Po\\u00e1\", \"Itaquaquecetuba\", \"Quinta da Boa Vista\", \"Bonsucesso\", \"Pinheirinho\", \"Miguel Badra\", \"Suzano\", \"Guai\\u00f3\", \"Ouro Fino\", \"Mogi das Cruzes\", \"Estudantes\", \"Vila Oliveira\", \"Br\\u00e1s Cubas\", \"Jundiapeba\", \"Jardim Graziella\", \"Itapeti\", \"Saba\\u00fana\", \"C\\u00e9sar de Souza\", \"Taia\\u00e7upeba\", \"Biritiba-Mirim\", \"Sales\\u00f3polis\", \"Guararema\", \"Santa Paula\", \"Vila Gerti\", \"Estrada das L\\u00e1grimas\", \"Santo Ant\\u00f4nio\", \"S\\u00e3o Caetano do Sul\", \"Santo Andr\\u00e9\", \"Vila Gilda\", \"Valpara\\u00edso\", \"Sacadura Cabral\", \"Campestre\", \"Utinga\", \"Vila Lucinda\", \"Parque Orat\\u00f3rio\", \"Parque das Na\\u00e7\\u00f5es\", \"Jardim do Est\\u00e1dio\", \"Carij\\u00f3s\", \"Parque do Pedroso\", \"Paranapiacaba\", \"Capuava\", \"Mau\\u00e1\", \"Jardim Za\\u00edra\", \"Bar\\u00e3o de Mau\\u00e1\", \"Estrada do Carneiro\", \"Ribeir\\u00e3o Pires\", \"Jardim Santa Luzia\", \"Ouro Fino Paulista\", \"Parque Sete Pontes\", \"Rio Grande da Serra\", \"Planalto\", \"Paulic\\u00e9ia\", \"Rudge Ramos\", \"Baeta Neves\", \"S\\u00e3o Bernardo do Campo\", \"Montanh\\u00e3o\", \"Demarchi\", \"Riacho Grande\", \"Caminho do Mar\", \"Reservat\\u00f3rio Billings\", \"Diadema\", \"Jardim das Na\\u00e7\\u00f5es\", \"Piraporinha\", \"Vila Concei\\u00e7\\u00e3o\", \"Eldorado\", \"Tabo\\u00e3o da Serra\", \"Jardim Irapu\\u00e3\", \"Parque Pinheiros\", \"Parque Industrial\", \"Santo Eduardo\", \"S\\u00e3o Marcos\", \"Embu das Artes\", \"Ressaca\", \"Itapecerica da Serra\", \"Jardim Petr\\u00f3polis\", \"Embu-Mirim\", \"S\\u00e3o Louren\\u00e7o da Serra\", \"Embu-Gua\\u00e7u\", \"Cip\\u00f3\", \"Santa Rita\", \"Juquitiba\", \"Barueri\", \"Aphaville\", \"Tambor\\u00e9\", \"Ant\\u00f4nio Jo\\u00e3o\", \"Vutopoca\", \"Jardim Silveira\", \"Jardim Belval\", \"Morada dos Lagos\", \"Cidade Ariston\", \"Carapicu\\u00edba\", \"Jardim Planalto\", \"Aldeia de Carapicu\\u00edba\", \"Estrada do Jacarand\\u00e1\", \"Osasco\", \"Vila Yara\", \"Bussocaba City\", \"Nova Granada\", \"Recanto das Rosas\", \"Jardim Novo Osasco\", \"Jardim Veloso\", \"Quita\\u00fana\", \"Jardim Piratininga\", \"Presidente Altino\", \"Munhoz Junior\", \"Rochdale\", \"Mutinga\", \"Tr\\u00eas Montanhas\", \"Ribeir\\u00e3o Itaqui\", \"Jandira\", \"Ribeir\\u00e3o das Pombas\", \"Granja Viana\", \"Fernando Nobre\", \"Cotia\", \"Capueira\", \"Caucaia\", \"Caucaia do Alto\", \"Vargem Grande Paulista\", \"Quatro Encruzilhadas\", \"Itapevi\", \"Amador Bueno\", \"Santana de Parna\\u00edba\", \"Pirapora do Bom Jesus\"], \"y\": [null, 42.031256925765966, 11.045477011256496, 4.560128168668674, 7.724687975890882, 7.333912869650836, 4.232752626150655, 2.206974705033586, 2.9554363929641734, 3.198900153658508, 7.025940997562268, 16.992996714348735, 1.7453585689550786, 46.28919717312691, 10.82109359458993, 5.766344826813503, 2.605925979026704, 10.664182891317415, 2.995165695025844, 2.2691008918260525, 1.92403376662124, 1.9792415028235064, 5.426410646500303, 16.80345169655615, 3.553531132093446, 2.9594040597068756, 8.240950315341522, 4.3387882093007795, 10.457871410167, 4.757301837914246, 6.112206782815221, 5.591795384386891, 0.8056335280641552, 17.292010688176966, 15.121894066473928, 2.811875757011878, 0.7827073159506688, 2.637942310488229, 7.146856943091105, 4.510955655047528, 10.312389976109909, 1.3295091326233628, 20.49905792056871, 2.155482918307647, 5.375913230736537, 2.158546541476993, 1.1970500382591471, 2.135416613417953, 2.512623031994628, 1.2521292943864544, 3.3622973092603767, 2.6062797924228915, 6.475996389735843, 6.754983963375704, 5.783821013031906, 4.947351837490616, 5.112828522729163, 2.2834714023023635, 5.3409461935335205, 1.313603011543017, 3.446483896466055, 1.7317085987434027, 8.33888565987045, 49.80230151278037, 2.0449297883467534, 2.228890185504543, 2.989105395250834, 16.242106420998567, 2.20852097784854, 5.4406734643721135, 5.694351458036553, 2.14031602408662, 17.952144586779475, 8.738297526405104, 3.34383077074502, 3.546963242886953, 8.790981282828692, 2.7680189445700383, 6.028976605290811, 7.554911594300224, 4.434817065752525, 12.941655877842216, 7.998935542176239, 2.4469132893014605, 1.2272151678685208, 2.0439100011114366, 11.918207311607611, 6.351474631761813, 0.4538318531051048, 3.2163227662627523, 4.640492036017286, 13.388085071280214, 369.7838759493849, 5.95106420356444, 10.635609522122618, 1.9181064177235656, 6.060881368121045, 0.9498494225984225, 17.768762641365562, 18.42130769748701, 2.454427584031555, 1.4496294908556895, 0.9050065143359197, 6.831045664964787, 6.744478095987618, 2.130341057379531, 12.807955107577573, 1.6949324359828577, 52.32599945740903, 0.7538668620221728, 1.6528512167354044, 1.1506588639013131, 1.6356965059372544, 0.009853439148258149, null, 4.89312219669019, 0.37894453159385055, 0.33777993933909267, 6.619328051613046, 0.0, null, 0.80160194900437, 1.6995378605625138, 1.7619273867611192, 1.2349458225211654, 1.3668438237754434, 3.7682438822786093, 0.6646890280981173, 34.74303824435333, 2.0968230651187714, 9.86469191669992, 11.918498022827018, null, 2.0300478748766038, 2.907551533180527, 2.3633623588322057, 3.2600863956590413, 0.6241510619049871, 7.90082591088671, 3.736063640576787, 3.3858123346830666, 1.2342194933778472, 0.0, null, 0.18657561149804858, 0.0, null, 1.4413896156910422, 0.018671566151660844, null, 3.471915141772412, 0.729268881219414, 1.1679604695245305, 6.205110225215792, 0.936390636777504, 2.7470996423009026, 0.7786151795442687, 3.8147120958914607, 1.6858534115985777, 0.8640196390986452, 2.4181398211645857, 1.4421000061617029, 6.092791328795915, 0.5446873270701438, 6.346215270554938, 37.708236955865395, 3.5552080151362, 4.24736279645066, 3.819705174742935, 4.347373434729096, 2.3417404651125113, 1.291865324148426, 1.699454645432233, 3.2145205803029353, 1.237900359106003, 1.8355877766358382, 0.3058426498300468, 0.3811861434121063, null, null, 1.1232896322156127, 1.3712449673259104, 1.4502617569921425, 0.9832795355375811, 1.2046595875965005, 0.6072643961242236, 5.355325404862693, 1.5935184993741087, 2.9107207965147235, 1.7360903177220817, 0.8426573903201375, null, 0.9556133142525914, 1.3215274438405475, 1.8679821886843853, 1.3745784599987847, 1.3951656451653762, 4.2063914897106045, 5.610244021206632, 0.5177495599753955, 4.196300703253065, 1.2744585066046676, 0.9043927137816866, 2.9582516186999555, 1.274472446810396, 0.9447355293382792, 2.84560625194126, 1.2644191282949098, 1.9067238991765842, 2.1829969211950626, 3.421603755831179, 0.8735885335259618, 2.051044677487617, 1.14545115939399, 2.8212972269231407, 1.7744102706398552, 1.5882894147596527, 4.096822413898836, 1.3541283478824513, 1.1603303920491685, 2.5933062461986838, 1.7576551318402829, 0.9441949434084154, 0.47799345211093697, null, 5.52369713012018, 0.8930462712078281, 0.9281684210765568, 5.5420558275950915, 0.7926026895813973, 0.6481158167021784, 2.123179671071226, 2.2367221456619117, 1.570523505983844, 1.4289386503523196, 0.49550974963212047, 3.9829971936582296, 5.327829158131308, 4.199739581290552, 3.6115631285776852, 1.5492292387289617, 5.436829370229961, 3.4539325351536543, 2.4789965836783, 0.5260497344176036, 1.905412242555072, 6.650051969752399, 0.06049835930622282, null, 0.9908787949884701, 2.0041713402718897, 1.8423554159887912, 0.586286665484085, 20.737966749580202, 3.807183775414572, 0.6612418966060098, 2.041195733692619, 2.1423848665659686, 0.7022418453189416, 1.5007906282031636, 1.8345246623674631, 2.030435479720945, 1.3643137737628321, 1.7106880408987792, 1.4923077040426251, 0.4996497583923122, 2.91204177975779, 1.5757069599119906, 4.792128770502678, 1.2807211477491893, 2.448568977671023, null, 6.070182730862675, 2.2098710495430787, 3.1576231753988906, 4.181673153735336, 1.3403489962001924, 3.525835885226867, 0.7346279528800388, 0.9393666315003621, 4.224619208385673, 2.117205681324045, 0.5673573073047864, 7.669878357939078, 3.3250523512049925, 0.47818040495529485, 7.754466978621091, 1.82586032601747, 4.341869316597943, 1.8897979116025683, 2.3752611714728684, 1.324961152899015, 2.2255424249779288, 1.9767409882661828, 1.493095329828149, 0.07911193560073795, 0.9852942006811668, 75.8080428278894, 0.07151487816180692, 32.126757026103014, 1.441684120913333, 9.570374175612773, 8.012814729469458, 15.777338431665747, 2.6391695329801195, 0.7910377907559821, 1.7810097978919261, 0.5822478064520078, 1.8721072987407732, 0.4368040324982725, 5.307440158206957, 1.061150238401345, 1.1819804426841976, 7.6760885116690165, 1.6629041258489055, 0.3834222774588261, 1.175899801710781, 11.097303961570818, 1.7368608201713203, 11.117583466466456, 1.35351551044549, 1.9488957020310531, 2.4432559866997865, 1.555238062032076, 1.231868014116412, 1.6457052815084765, 0.6181959140072893, 2.615728154493079, 3.964910860736561, 1.8428181534469192, 1.659500336661592, 1.9353909480029456, 0.7878439006162792, 3.4134236342258246, 1.8739741814556887, 1.5039374524861102, 1.1468906245330384, 3.167769046735504, 2.8407614526151628, null, 3.8751628384854757, 6.605065654886742, 0.10611366306398366, 30.523624574684998, 0.7338584679991766, 0.0030136591927216075, null, 0.13144159414560103, 0.058271784231714537, null, 1.6276688794353569, 0.09026042396603487, null, null, null, 2.244763401396247, 0.04526382524275683, 10.584453109795582, 0.5590835285090263, 1.5275488365352865, 0.9036396349327608, 8.154903582540085, 9.592096317646558, 1.023335320877864, 1.9204854720045825, 20.782962874948236, 1.59521045560565, 3.3419597187515717, 2.2058892184556838, 2.870961188559623, 1.2318791850185307, 1.3556611727926449, 2.1699932788649345, 0.5782904879512252, null, 1.0540776220701933, 9.015180492427884, 0.7109657742890041, 0.9238031172740617, 2.2818718480274396, 0.0, null, 1.1127257724975357, 0.6496921079042912, 0.029185713189814437, null, 33.77298809866266, 0.13098789357424634, 11.939004931844588, 0.40467432028714023, 8.020068761514018, 0.011825797394536063, null, 0.32676233371002356, 7.370827178626666, 2.048087688061115, 1.1005786812424547, 2.1125450838596795, 0.7095162406259948, 2.3294223364219677, 2.7157076159228186, 0.21662209059201654, 1.1148636361874906, 15.636206089109931, 0.896711759691521, 2.729257343154402, 5.528305805642818, 0.5695063476365033, 0.5190386737947044, 0.9895797722807718, 2.6060475873805236, 3.572079310332627, 1.003633355171134, 2.0676650794397453, 1.0067669155581942, 2.8242037178943455, 3.883045581273378, 2.1045259518521986, 1.8816745538552726, 0.5120686645285377, 17.7735386702187, 22.626514891029604, 0.8780465924446581, 1.5242123257318183, 1.5633982341381765, 1.8749766000247987, 3.6814989571263608, 2.169703170562627, 1.936950442018432, 1.1352154104111218, 4.468803960945552, 1.7209101060048577, 1.2569586148037224, 0.05393323971284828, 25.030940326396333, 7.688708198053765, 1.8061897202716966, 0.7341409330665766, 0.27730503263600287, 6.979859436570136, 0.3263740210520226, 0.7981948169152105, 1.0509908293506165, 3.6613490294887523, 4.999635893026293, 1.2309025685148247, 1.900324052045184, 3.119575983795116, 5.555502882825043, 3.723442389134944, 0.9624289354499143, 0.5974395738264094, 0.7305090231448813, 7.3778928416619705, 1.2499704496040964, 2.9014904002028947, 1.8444067280175211, 0.8530129663439528, 1.369397121814876, 1.6678472945688567, 1.3238355829190775, 3.058736699677712, 1.1587190532647138, 1.7467455970985741, 2.569892370198047, 1.1866734052243528, 0.591393541500904, 13.264838791388874, 0.043572835371051555, 2.8940654492270985, 2.53781156956884, 4.7170014259295066, 0.6379949009895188, 0.4182216455694367, 7.369014645032433, 5.827003839154678, 1.439982387119409, 2.7523806471700856, null, null, 2.5468723570671585, 0.6574162975080625, 0.6055875362235813, 44.956605232197404, 1.4772007257993165, 1.0463618263231216, 0.6077910521728529, 1.999882182350353, 2.063462612168908, 16.5553308023235, 6.35879266890016, 4.316558903395627, 0.5927449244565339, 2.779962174962596, 2.3398198417451903, 0.9028113475457459, 0.30388991012868133, 3.6868638482846863, 13.776123248665375, 0.6032859824380319, 1.9225962242738517, 0.8968460570988834, 1.3026707283821162, 25.299331254568333, 0.09411331053054509, 10.256018202495179, 1.6753556282339308, 10.487158147770002, 0.04957761446045698, 0.0, null, 2.661563430218813, 0.05840933169774814, 43.729569153023284, 1.4807122977748381, 1.7675816745084192, 0.1741003866213469, null]}],\n",
       "                        {\"template\": {\"data\": {\"bar\": [{\"error_x\": {\"color\": \"#2a3f5f\"}, \"error_y\": {\"color\": \"#2a3f5f\"}, \"marker\": {\"line\": {\"color\": \"#E5ECF6\", \"width\": 0.5}}, \"type\": \"bar\"}], \"barpolar\": [{\"marker\": {\"line\": {\"color\": \"#E5ECF6\", \"width\": 0.5}}, \"type\": \"barpolar\"}], \"carpet\": [{\"aaxis\": {\"endlinecolor\": \"#2a3f5f\", \"gridcolor\": \"white\", \"linecolor\": \"white\", \"minorgridcolor\": \"white\", \"startlinecolor\": \"#2a3f5f\"}, \"baxis\": {\"endlinecolor\": \"#2a3f5f\", \"gridcolor\": \"white\", \"linecolor\": \"white\", \"minorgridcolor\": \"white\", \"startlinecolor\": \"#2a3f5f\"}, \"type\": \"carpet\"}], \"choropleth\": [{\"colorbar\": {\"outlinewidth\": 0, \"ticks\": \"\"}, \"type\": \"choropleth\"}], \"contour\": [{\"colorbar\": {\"outlinewidth\": 0, \"ticks\": \"\"}, \"colorscale\": [[0.0, \"#0d0887\"], [0.1111111111111111, \"#46039f\"], [0.2222222222222222, \"#7201a8\"], [0.3333333333333333, \"#9c179e\"], [0.4444444444444444, \"#bd3786\"], [0.5555555555555556, \"#d8576b\"], [0.6666666666666666, \"#ed7953\"], [0.7777777777777778, \"#fb9f3a\"], [0.8888888888888888, \"#fdca26\"], [1.0, \"#f0f921\"]], \"type\": \"contour\"}], \"contourcarpet\": [{\"colorbar\": {\"outlinewidth\": 0, \"ticks\": \"\"}, \"type\": \"contourcarpet\"}], \"heatmap\": [{\"colorbar\": {\"outlinewidth\": 0, \"ticks\": \"\"}, \"colorscale\": [[0.0, \"#0d0887\"], [0.1111111111111111, \"#46039f\"], [0.2222222222222222, \"#7201a8\"], [0.3333333333333333, \"#9c179e\"], [0.4444444444444444, \"#bd3786\"], [0.5555555555555556, \"#d8576b\"], [0.6666666666666666, \"#ed7953\"], [0.7777777777777778, \"#fb9f3a\"], [0.8888888888888888, \"#fdca26\"], [1.0, \"#f0f921\"]], \"type\": \"heatmap\"}], \"heatmapgl\": [{\"colorbar\": {\"outlinewidth\": 0, \"ticks\": \"\"}, \"colorscale\": [[0.0, \"#0d0887\"], [0.1111111111111111, \"#46039f\"], [0.2222222222222222, \"#7201a8\"], [0.3333333333333333, \"#9c179e\"], [0.4444444444444444, \"#bd3786\"], [0.5555555555555556, \"#d8576b\"], [0.6666666666666666, \"#ed7953\"], [0.7777777777777778, \"#fb9f3a\"], [0.8888888888888888, \"#fdca26\"], [1.0, \"#f0f921\"]], \"type\": \"heatmapgl\"}], \"histogram\": [{\"marker\": {\"colorbar\": {\"outlinewidth\": 0, \"ticks\": \"\"}}, \"type\": \"histogram\"}], \"histogram2d\": [{\"colorbar\": {\"outlinewidth\": 0, \"ticks\": \"\"}, \"colorscale\": [[0.0, \"#0d0887\"], [0.1111111111111111, \"#46039f\"], [0.2222222222222222, \"#7201a8\"], [0.3333333333333333, \"#9c179e\"], [0.4444444444444444, \"#bd3786\"], [0.5555555555555556, \"#d8576b\"], [0.6666666666666666, \"#ed7953\"], [0.7777777777777778, \"#fb9f3a\"], [0.8888888888888888, \"#fdca26\"], [1.0, \"#f0f921\"]], \"type\": \"histogram2d\"}], \"histogram2dcontour\": [{\"colorbar\": {\"outlinewidth\": 0, \"ticks\": \"\"}, \"colorscale\": [[0.0, \"#0d0887\"], [0.1111111111111111, \"#46039f\"], [0.2222222222222222, \"#7201a8\"], [0.3333333333333333, \"#9c179e\"], [0.4444444444444444, \"#bd3786\"], [0.5555555555555556, \"#d8576b\"], [0.6666666666666666, \"#ed7953\"], [0.7777777777777778, \"#fb9f3a\"], [0.8888888888888888, \"#fdca26\"], [1.0, \"#f0f921\"]], \"type\": \"histogram2dcontour\"}], \"mesh3d\": [{\"colorbar\": {\"outlinewidth\": 0, \"ticks\": \"\"}, \"type\": \"mesh3d\"}], \"parcoords\": [{\"line\": {\"colorbar\": {\"outlinewidth\": 0, \"ticks\": \"\"}}, \"type\": \"parcoords\"}], \"pie\": [{\"automargin\": true, \"type\": \"pie\"}], \"scatter\": [{\"marker\": {\"colorbar\": {\"outlinewidth\": 0, \"ticks\": \"\"}}, \"type\": \"scatter\"}], \"scatter3d\": [{\"line\": {\"colorbar\": {\"outlinewidth\": 0, \"ticks\": \"\"}}, \"marker\": {\"colorbar\": {\"outlinewidth\": 0, \"ticks\": \"\"}}, \"type\": \"scatter3d\"}], \"scattercarpet\": [{\"marker\": {\"colorbar\": {\"outlinewidth\": 0, \"ticks\": \"\"}}, \"type\": \"scattercarpet\"}], \"scattergeo\": [{\"marker\": {\"colorbar\": {\"outlinewidth\": 0, \"ticks\": \"\"}}, \"type\": \"scattergeo\"}], \"scattergl\": [{\"marker\": {\"colorbar\": {\"outlinewidth\": 0, \"ticks\": \"\"}}, \"type\": \"scattergl\"}], \"scattermapbox\": [{\"marker\": {\"colorbar\": {\"outlinewidth\": 0, \"ticks\": \"\"}}, \"type\": \"scattermapbox\"}], \"scatterpolar\": [{\"marker\": {\"colorbar\": {\"outlinewidth\": 0, \"ticks\": \"\"}}, \"type\": \"scatterpolar\"}], \"scatterpolargl\": [{\"marker\": {\"colorbar\": {\"outlinewidth\": 0, \"ticks\": \"\"}}, \"type\": \"scatterpolargl\"}], \"scatterternary\": [{\"marker\": {\"colorbar\": {\"outlinewidth\": 0, \"ticks\": \"\"}}, \"type\": \"scatterternary\"}], \"surface\": [{\"colorbar\": {\"outlinewidth\": 0, \"ticks\": \"\"}, \"colorscale\": [[0.0, \"#0d0887\"], [0.1111111111111111, \"#46039f\"], [0.2222222222222222, \"#7201a8\"], [0.3333333333333333, \"#9c179e\"], [0.4444444444444444, \"#bd3786\"], [0.5555555555555556, \"#d8576b\"], [0.6666666666666666, \"#ed7953\"], [0.7777777777777778, \"#fb9f3a\"], [0.8888888888888888, \"#fdca26\"], [1.0, \"#f0f921\"]], \"type\": \"surface\"}], \"table\": [{\"cells\": {\"fill\": {\"color\": \"#EBF0F8\"}, \"line\": {\"color\": \"white\"}}, \"header\": {\"fill\": {\"color\": \"#C8D4E3\"}, \"line\": {\"color\": \"white\"}}, \"type\": \"table\"}]}, \"layout\": {\"annotationdefaults\": {\"arrowcolor\": \"#2a3f5f\", \"arrowhead\": 0, \"arrowwidth\": 1}, \"coloraxis\": {\"colorbar\": {\"outlinewidth\": 0, \"ticks\": \"\"}}, \"colorscale\": {\"diverging\": [[0, \"#8e0152\"], [0.1, \"#c51b7d\"], [0.2, \"#de77ae\"], [0.3, \"#f1b6da\"], [0.4, \"#fde0ef\"], [0.5, \"#f7f7f7\"], [0.6, \"#e6f5d0\"], [0.7, \"#b8e186\"], [0.8, \"#7fbc41\"], [0.9, \"#4d9221\"], [1, \"#276419\"]], \"sequential\": [[0.0, \"#0d0887\"], [0.1111111111111111, \"#46039f\"], [0.2222222222222222, \"#7201a8\"], [0.3333333333333333, \"#9c179e\"], [0.4444444444444444, \"#bd3786\"], [0.5555555555555556, \"#d8576b\"], [0.6666666666666666, \"#ed7953\"], [0.7777777777777778, \"#fb9f3a\"], [0.8888888888888888, \"#fdca26\"], [1.0, \"#f0f921\"]], \"sequentialminus\": [[0.0, \"#0d0887\"], [0.1111111111111111, \"#46039f\"], [0.2222222222222222, \"#7201a8\"], [0.3333333333333333, \"#9c179e\"], [0.4444444444444444, \"#bd3786\"], [0.5555555555555556, \"#d8576b\"], [0.6666666666666666, \"#ed7953\"], [0.7777777777777778, \"#fb9f3a\"], [0.8888888888888888, \"#fdca26\"], [1.0, \"#f0f921\"]]}, \"colorway\": [\"#636efa\", \"#EF553B\", \"#00cc96\", \"#ab63fa\", \"#FFA15A\", \"#19d3f3\", \"#FF6692\", \"#B6E880\", \"#FF97FF\", \"#FECB52\"], \"font\": {\"color\": \"#2a3f5f\"}, \"geo\": {\"bgcolor\": \"white\", \"lakecolor\": \"white\", \"landcolor\": \"#E5ECF6\", \"showlakes\": true, \"showland\": true, \"subunitcolor\": \"white\"}, \"hoverlabel\": {\"align\": \"left\"}, \"hovermode\": \"closest\", \"mapbox\": {\"style\": \"light\"}, \"paper_bgcolor\": \"white\", \"plot_bgcolor\": \"#E5ECF6\", \"polar\": {\"angularaxis\": {\"gridcolor\": \"white\", \"linecolor\": \"white\", \"ticks\": \"\"}, \"bgcolor\": \"#E5ECF6\", \"radialaxis\": {\"gridcolor\": \"white\", \"linecolor\": \"white\", \"ticks\": \"\"}}, \"scene\": {\"xaxis\": {\"backgroundcolor\": \"#E5ECF6\", \"gridcolor\": \"white\", \"gridwidth\": 2, \"linecolor\": \"white\", \"showbackground\": true, \"ticks\": \"\", \"zerolinecolor\": \"white\"}, \"yaxis\": {\"backgroundcolor\": \"#E5ECF6\", \"gridcolor\": \"white\", \"gridwidth\": 2, \"linecolor\": \"white\", \"showbackground\": true, \"ticks\": \"\", \"zerolinecolor\": \"white\"}, \"zaxis\": {\"backgroundcolor\": \"#E5ECF6\", \"gridcolor\": \"white\", \"gridwidth\": 2, \"linecolor\": \"white\", \"showbackground\": true, \"ticks\": \"\", \"zerolinecolor\": \"white\"}}, \"shapedefaults\": {\"line\": {\"color\": \"#2a3f5f\"}}, \"ternary\": {\"aaxis\": {\"gridcolor\": \"white\", \"linecolor\": \"white\", \"ticks\": \"\"}, \"baxis\": {\"gridcolor\": \"white\", \"linecolor\": \"white\", \"ticks\": \"\"}, \"bgcolor\": \"#E5ECF6\", \"caxis\": {\"gridcolor\": \"white\", \"linecolor\": \"white\", \"ticks\": \"\"}}, \"title\": {\"x\": 0.05}, \"xaxis\": {\"automargin\": true, \"gridcolor\": \"white\", \"linecolor\": \"white\", \"ticks\": \"\", \"title\": {\"standoff\": 15}, \"zerolinecolor\": \"white\", \"zerolinewidth\": 2}, \"yaxis\": {\"automargin\": true, \"gridcolor\": \"white\", \"linecolor\": \"white\", \"ticks\": \"\", \"title\": {\"standoff\": 15}, \"zerolinecolor\": \"white\", \"zerolinewidth\": 2}}}},\n",
       "                        {\"responsive\": true}\n",
       "                    ).then(function(){\n",
       "                            \n",
       "var gd = document.getElementById('7d903de9-e1e0-41c3-9d27-ba5d5eb1004b');\n",
       "var x = new MutationObserver(function (mutations, observer) {{\n",
       "        var display = window.getComputedStyle(gd).display;\n",
       "        if (!display || display === 'none') {{\n",
       "            console.log([gd, 'removed!']);\n",
       "            Plotly.purge(gd);\n",
       "            observer.disconnect();\n",
       "        }}\n",
       "}});\n",
       "\n",
       "// Listen for the removal of the full notebook cells\n",
       "var notebookContainer = gd.closest('#notebook-container');\n",
       "if (notebookContainer) {{\n",
       "    x.observe(notebookContainer, {childList: true});\n",
       "}}\n",
       "\n",
       "// Listen for the clearing of the current output cell\n",
       "var outputEl = gd.closest('.output');\n",
       "if (outputEl) {{\n",
       "    x.observe(outputEl, {childList: true});\n",
       "}}\n",
       "\n",
       "                        })\n",
       "                };\n",
       "                });\n",
       "            </script>\n",
       "        </div>"
      ]
     },
     "metadata": {},
     "output_type": "display_data"
    }
   ],
   "source": [
    "fig = go.Figure()\n",
    "\n",
    "\n",
    "fig.add_trace(go.Bar(\n",
    "    x=dg['Nome'],\n",
    "    y=od.drop(columns=['Origem', 'Total']).sum(axis=1) / dg['População'],\n",
    "    name='Viagens Produzidas',\n",
    "    marker_color='lightsalmon'\n",
    "))"
   ]
  },
  {
   "cell_type": "code",
   "execution_count": 139,
   "metadata": {},
   "outputs": [],
   "source": [
    "tmp = od.drop(columns=['Origem', 'Total']).copy()\n",
    "np.fill_diagonal(tmp.values, 0)"
   ]
  },
  {
   "cell_type": "code",
   "execution_count": 141,
   "metadata": {},
   "outputs": [],
   "source": [
    "tmp['Origem'] = np.array(tmp.index) + 1"
   ]
  },
  {
   "cell_type": "code",
   "execution_count": 146,
   "metadata": {},
   "outputs": [
    {
     "data": {
      "text/plain": [
       "1        3262.000949\n",
       "2        5695.000762\n",
       "3       17130.000980\n",
       "4       24088.998880\n",
       "5       14955.999880\n",
       "           ...      \n",
       "513      3587.000811\n",
       "514    104625.996713\n",
       "515    120821.008206\n",
       "516    131607.978849\n",
       "517     18107.003304\n",
       "Name: População, Length: 517, dtype: float64"
      ]
     },
     "execution_count": 146,
     "metadata": {},
     "output_type": "execute_result"
    }
   ],
   "source": [
    "dg['População']"
   ]
  },
  {
   "cell_type": "code",
   "execution_count": 147,
   "metadata": {},
   "outputs": [
    {
     "data": {
      "text/plain": [
       "Origem         1\n",
       "1          25512\n",
       "2           4929\n",
       "3           3914\n",
       "4           1673\n",
       "           ...  \n",
       "514            0\n",
       "515            0\n",
       "516            0\n",
       "517            0\n",
       "Total     160370\n",
       "Name: 0, Length: 519, dtype: int64"
      ]
     },
     "execution_count": 147,
     "metadata": {},
     "output_type": "execute_result"
    }
   ],
   "source": [
    "od.iloc[0]"
   ]
  },
  {
   "cell_type": "code",
   "execution_count": 144,
   "metadata": {},
   "outputs": [
    {
     "data": {
      "application/vnd.plotly.v1+json": {
       "config": {
        "plotlyServerURL": "https://plot.ly"
       },
       "data": [
        {
         "marker": {
          "color": "lightsalmon"
         },
         "name": "Viagens Produzidas",
         "type": "bar",
         "x": [
          "Sé",
          "Parque Dom Pedro",
          "Praça João Mendes",
          "Ladeira da Memória",
          "República",
          "Santa Ifigênia",
          "Luz",
          "Bom Retiro",
          "Ponte Pequena",
          "Canindé",
          "Bom Jardim",
          "Pari",
          "João Teodoro",
          "Oriente",
          "Bresser",
          "Brás",
          "Gasômetro",
          "Independência",
          "Cambuci",
          "Glicério",
          "Aclimação",
          "Pires da Mota",
          "Centro Cultural",
          "Liberdade",
          "Treze de Maio",
          "Bexiga",
          "Bela Vista",
          "São Carlos do Pinhal",
          "Masp",
          "Higienópolis",
          "Vila Buarque",
          "Consolação",
          "Pacaembu",
          "FAAP",
          "Santa Cecília",
          "Marechal Deodoro",
          "Rudge",
          "Catumbi",
          "Belém",
          "Quarta Parada",
          "Belenzinho",
          "Celso Garcia",
          "Mooca",
          "Alto da Mooca",
          "Parque da Mooca",
          "Água Rasa",
          "Vila Bertioga",
          "Regente Feijó",
          "Ana Rosa",
          "Jardim da Glória",
          "Chácara Klabin",
          "Vila Mariana",
          "Santa Cruz",
          "Vila Clementino",
          "França Pinto",
          "Rodrigues Alves",
          "Paraíso",
          "Bosque da Saúde",
          "Saúde",
          "Planalto Paulista",
          "Mirandópolis",
          "Parque Ibirapuera",
          "Jardim Luzitânia",
          "Moema",
          "Vila Helena",
          "Bandeirantes",
          "Vila Nova Conceição",
          "Chácara Itaim",
          "Vila Olímpia",
          "Hélio Pelegrino",
          "Brooklin",
          "Vila Cordeiro",
          "Berrini",
          "Campinas",
          "Pamplona",
          "Jardins",
          "Clínicas",
          "Oscar Freire",
          "Trianon",
          "Jardim Paulistano",
          "Jardim Europa",
          "Pinheiros",
          "Vila Madalena",
          "PUC",
          "Cardoso de Almeida",
          "Zequinha de Abreu",
          "Sumaré",
          "Perdizes",
          "Vila Anglo Brasileira",
          "Pompéia",
          "Santa Marina",
          "Barra Funda",
          "Francisco Matarazzo",
          "Água Branca",
          "Vila Beatriz",
          "Alto de Pinheiros",
          "Boaçava",
          "Vila Anastácio",
          "Lapa de Baixo",
          "Lapa",
          "Vila Ipojuca",
          "Alto da Lapa",
          "Gavião Peixoto",
          "Bela Aliança",
          "Vila Hamburguesa",
          "CEASA",
          "Vila Leopoldina",
          "Emissário",
          "Vila Zatt",
          "Pirituba",
          "São Domingos",
          "Jardim Mutinga",
          "Vila Jaguara",
          "Parque do Jaraguá",
          "Nova Jaraguá",
          "Parada de Taipas",
          "Parque Morro Doce",
          "Anhanguera",
          "Perus",
          "Vista Alegre",
          "Jardim Damasceno",
          "Vila Souza",
          "Vila Terezinha",
          "Brasilândia",
          "Vila Morro Grande",
          "Itaberaba",
          "Freguesia do Ó",
          "Carandiru",
          "Santana",
          "Zaki Narchi",
          "Tietê",
          "Parque Anhembi",
          "Alfredo Pujol",
          "Santa Terezinha",
          "Jardim São Paulo",
          "Casa Verde",
          "Parque Peruche",
          "Limão",
          "Jardim Primavera",
          "Vila Santa Maria",
          "Cachoeirinha",
          "Jardim Peri",
          "Reserva da Cantareira",
          "Mandaqui",
          "Horto Florestal",
          "ETA Guaraú",
          "Parque Palmas do Tremembé",
          "Tremembé",
          "Cantareira",
          "Jardim das Pedras",
          "Jardim Guapira",
          "Parada Inglesa",
          "Tucuruvi",
          "Vila Gustavo",
          "Cohab Jova Real",
          "Jaçanã",
          "Parque Edu Chaves",
          "Vila Medeiros",
          "Jardim Brasil",
          "Jardim Japão",
          "Parque Novo Mundo",
          "Vila Maria",
          "Vila Isolina Mazzei",
          "Vila Guilherme",
          "Coroa",
          "Gomes Cardim",
          "Tatuapé",
          "Chácara do Piqueri",
          "Parque São Jorge",
          "Penha",
          "Tiquatira",
          "Vila Esperança",
          "Vila Ré",
          "Rui Barbosa",
          "Estação Eng. Goulart",
          "Cangaíba",
          "Parque Ecológico do Tietê",
          "USP Leste I",
          "USP Leste II",
          "Ermelino Matarazzo",
          "Parque Buturussu",
          "Ponte Rasa",
          "Burgo Paulista",
          "Limoeiro",
          "Laranja da China",
          "Pedro José Nunes",
          "Parque Cruzeiro do Sul",
          "Vila Jacuí",
          "Parada XV",
          "Itaquera",
          "Arena Corinthians",
          "Vila Campanela",
          "Araucárias",
          "Parque Guarani",
          "Rio Verde",
          "Saudade",
          "São Miguel Paulista",
          "Cidade Nitro-Operária",
          "Jardim Helena",
          "Jardim Romano",
          "Vila Curuçá",
          "Jardim Robru",
          "Lageado",
          "Fábrica Bandeirantes",
          "Fazenda Itaim",
          "Itaim Paulista",
          "Jardim das Oliveiras",
          "Vila Califórnia",
          "Vila Carrão",
          "Jardim Anália Franco",
          "Vila Formosa",
          "Barreira Grande",
          "Aricanduva",
          "Frei Mont'Alverne",
          "Vila Matilde",
          "Cidade Patriarca",
          "Cidade A.E.Carvalho",
          "Artur Alvim",
          "Cidade Líder",
          "Santa Marcelina",
          "Parque Savoy",
          "Vila Carmosina",
          "Fazenda Caguaçu",
          "Parque do Carmo",
          "Gleba do Pêssego",
          "José Bonifácio",
          "Guaianases",
          "Juscelino Kubitschek",
          "Cidade Tiradentes",
          "Santa Etelvina",
          "Terceira Divisão",
          "Iguatemi",
          "Sítio Carrãozinho",
          "Parque São Rafael",
          "Rodolfo Pirani",
          "Ipiranga",
          "Sacomã",
          "Alto do Ipiranga",
          "Vila São José",
          "Vila Monumento",
          "Vila Independência",
          "Vila Carioca",
          "Moinho Velho",
          "Vila Heliópolis",
          "São João Clímaco",
          "Anchieta",
          "Vila das Mercês",
          "Parque do Estado",
          "Água Funda",
          "Jardim da Saúde",
          "Vila Gumercindo",
          "Jardim Previdência",
          "Tamanduateí",
          "Orfanato",
          "Vila Zelina",
          "Linhas Corrente",
          "Vila Ema",
          "Parque São Lucas",
          "Vila Cardoso Franco",
          "Parque Santa Madalena",
          "Jardim Colorado",
          "Teotônio Vilela",
          "Fazenda da Juta",
          "São Mateus",
          "Cidade IV Centenário",
          "Rio Claro",
          "Cidade Satélite",
          "Joaquim Nabuco",
          "Vieira de Moraes",
          "Campo Belo",
          "Congonhas",
          "Jardim Aeroporto",
          "Vila Santa Catarina",
          "Jabaquara",
          "Cidade Vargas",
          "Jardim Bom Clima",
          "Cupecê",
          "Jardim Miriam",
          "Vila Missionária",
          "Jurubatuba",
          "Vila São Pedro",
          "Campo Grande",
          "Vila Sabará",
          "Mar Paulista",
          "Pedreira",
          "Vila Socorro",
          "Parque Interlagos",
          "Jardim Represa",
          "Rio Bonito",
          "SESC Interlagos",
          "Jardim Presidente",
          "Vila Natal",
          "Grajaú",
          "Cocaia",
          "Belmira Marin",
          "Bororé",
          "Jaceguava",
          "Parelheiros",
          "Marsilac",
          "Granja Julieta",
          "Chácara Flora",
          "Santo Amaro",
          "Vila Miranda",
          "Jardim São Luís",
          "Centro Empresarial",
          "Guarapiranga",
          "Jardim Capela",
          "Riviera",
          "Jardim Turquesa",
          "Morro do Índio",
          "Jardim Ângela",
          "Capão Redondo",
          "Jardim Sônia Ingá",
          "Adventista",
          "Parque Fernanda",
          "Morumbi",
          "Jóquei Clube",
          "Fazenda Morumbi",
          "Real Parque",
          "Paraisópolis",
          "Jardim Vitória Régia",
          "Vila Suzana",
          "Parque Arariba",
          "Jardim Mitsutani",
          "Pirajussara",
          "Jardim Umarizal",
          "Portal do Morumbi",
          "Jardim Jussara",
          "Vila Sônia",
          "Jardim Maria do Carmo",
          "Jardim Cambará",
          "Jardim João XXIII",
          "Raposo Tavares",
          "Rio Pequeno",
          "Jardim Ester Yolanda",
          "Jardim Adalgiza",
          "Parque Continental",
          "Jaguaré",
          "Cidade Universitária",
          "Butantã",
          "Jardim Caxingui",
          "Jardim Bonfiglioli",
          "Melhoramentos",
          "Caieiras",
          "Serpa",
          "Santa Inês",
          "Cajamar",
          "Jordanésia",
          "Cristais",
          "Baltazar Fidélis",
          "Franco da Rocha",
          "Parque do Juqueri",
          "Palmares",
          "Sete Voltas",
          "Afonso Moreno",
          "Francisco Morato",
          "Cascatas",
          "Mairiporã",
          "Paiva Castro",
          "Colinas",
          "Pirucaia",
          "Guarulhos",
          "Macedo",
          "Cumbica",
          "Várzea do Palácio",
          "Ponte Grande",
          "Gopouva",
          "Vila São Rafael",
          "Vila Rosália",
          "André Luiz",
          "Jardim Santa Clara",
          "Parque CECAP",
          "Taboão",
          "Aeroporto",
          "Jardim Presidente Dutra",
          "Baquirivu",
          "Água Chata",
          "Pimentas",
          "Cabuçu",
          "Invernada",
          "Morro dos Macacos",
          "Chácaras Bananal",
          "Estrada de Nazaré Paulista",
          "Água Azul",
          "Vasconcelândia",
          "Arujazinho",
          "Arujá",
          "Fazenda Velha",
          "Santa Isabel",
          "Jaguari",
          "Ferraz de Vasconcelos",
          "Paiol Velho",
          "Santos Dumont",
          "Jardim São José",
          "Poá",
          "Itaquaquecetuba",
          "Quinta da Boa Vista",
          "Bonsucesso",
          "Pinheirinho",
          "Miguel Badra",
          "Suzano",
          "Guaió",
          "Ouro Fino",
          "Mogi das Cruzes",
          "Estudantes",
          "Vila Oliveira",
          "Brás Cubas",
          "Jundiapeba",
          "Jardim Graziella",
          "Itapeti",
          "Sabaúna",
          "César de Souza",
          "Taiaçupeba",
          "Biritiba-Mirim",
          "Salesópolis",
          "Guararema",
          "Santa Paula",
          "Vila Gerti",
          "Estrada das Lágrimas",
          "Santo Antônio",
          "São Caetano do Sul",
          "Santo André",
          "Vila Gilda",
          "Valparaíso",
          "Sacadura Cabral",
          "Campestre",
          "Utinga",
          "Vila Lucinda",
          "Parque Oratório",
          "Parque das Nações",
          "Jardim do Estádio",
          "Carijós",
          "Parque do Pedroso",
          "Paranapiacaba",
          "Capuava",
          "Mauá",
          "Jardim Zaíra",
          "Barão de Mauá",
          "Estrada do Carneiro",
          "Ribeirão Pires",
          "Jardim Santa Luzia",
          "Ouro Fino Paulista",
          "Parque Sete Pontes",
          "Rio Grande da Serra",
          "Planalto",
          "Paulicéia",
          "Rudge Ramos",
          "Baeta Neves",
          "São Bernardo do Campo",
          "Montanhão",
          "Demarchi",
          "Riacho Grande",
          "Caminho do Mar",
          "Reservatório Billings",
          "Diadema",
          "Jardim das Nações",
          "Piraporinha",
          "Vila Conceição",
          "Eldorado",
          "Taboão da Serra",
          "Jardim Irapuã",
          "Parque Pinheiros",
          "Parque Industrial",
          "Santo Eduardo",
          "São Marcos",
          "Embu das Artes",
          "Ressaca",
          "Itapecerica da Serra",
          "Jardim Petrópolis",
          "Embu-Mirim",
          "São Lourenço da Serra",
          "Embu-Guaçu",
          "Cipó",
          "Santa Rita",
          "Juquitiba",
          "Barueri",
          "Aphaville",
          "Tamboré",
          "Antônio João",
          "Vutopoca",
          "Jardim Silveira",
          "Jardim Belval",
          "Morada dos Lagos",
          "Cidade Ariston",
          "Carapicuíba",
          "Jardim Planalto",
          "Aldeia de Carapicuíba",
          "Estrada do Jacarandá",
          "Osasco",
          "Vila Yara",
          "Bussocaba City",
          "Nova Granada",
          "Recanto das Rosas",
          "Jardim Novo Osasco",
          "Jardim Veloso",
          "Quitaúna",
          "Jardim Piratininga",
          "Presidente Altino",
          "Munhoz Junior",
          "Rochdale",
          "Mutinga",
          "Três Montanhas",
          "Ribeirão Itaqui",
          "Jandira",
          "Ribeirão das Pombas",
          "Granja Viana",
          "Fernando Nobre",
          "Cotia",
          "Capueira",
          "Caucaia",
          "Caucaia do Alto",
          "Vargem Grande Paulista",
          "Quatro Encruzilhadas",
          "Itapevi",
          "Amador Bueno",
          "Santana de Parnaíba",
          "Pirapora do Bom Jesus"
         ],
         "y": [
          null,
          84.06251385153193,
          22.090954022512992,
          9.120256337337349,
          15.449375951781764,
          14.667825739301673,
          8.46550525230131,
          4.413949410067172,
          5.910872785928347,
          6.397800307317016,
          14.051881995124536,
          33.98599342869747,
          3.490717137910157,
          92.57839434625382,
          21.64218718917986,
          11.532689653627006,
          5.211851958053408,
          21.32836578263483,
          5.990331390051688,
          4.538201783652105,
          3.84806753324248,
          3.958483005647013,
          10.852821293000606,
          33.6069033931123,
          7.107062264186892,
          5.918808119413751,
          16.481900630683043,
          8.677576418601559,
          20.915742820334,
          9.514603675828493,
          12.224413565630442,
          11.183590768773781,
          1.6112670561283104,
          34.58402137635393,
          30.243788132947856,
          5.623751514023756,
          1.5654146319013376,
          5.275884620976458,
          14.29371388618221,
          9.021911310095057,
          20.624779952219818,
          2.6590182652467256,
          40.99811584113742,
          4.310965836615294,
          10.751826461473074,
          4.317093082953986,
          2.3941000765182943,
          4.270833226835906,
          5.025246063989256,
          2.5042585887729087,
          6.7245946185207535,
          5.212559584845783,
          12.951992779471686,
          13.509967926751408,
          11.567642026063812,
          9.894703674981232,
          10.225657045458327,
          4.566942804604727,
          10.681892387067041,
          2.627206023086034,
          6.89296779293211,
          3.4634171974868053,
          16.6777713197409,
          99.60460302556073,
          4.089859576693507,
          4.457780371009086,
          5.978210790501668,
          32.484212841997135,
          4.41704195569708,
          10.881346928744227,
          11.388702916073106,
          4.28063204817324,
          35.90428917355895,
          17.476595052810207,
          6.68766154149004,
          7.093926485773906,
          17.581962565657385,
          5.5360378891400766,
          12.057953210581623,
          15.109823188600448,
          8.86963413150505,
          25.88331175568443,
          15.997871084352479,
          4.893826578602921,
          2.4544303357370416,
          4.087820002222873,
          23.836414623215223,
          12.702949263523626,
          0.9076637062102096,
          6.4326455325255045,
          9.280984072034572,
          26.776170142560428,
          739.5677518987698,
          11.90212840712888,
          21.271219044245235,
          3.836212835447131,
          12.12176273624209,
          1.899698845196845,
          35.537525282731124,
          36.84261539497402,
          4.90885516806311,
          2.899258981711379,
          1.8100130286718394,
          13.662091329929574,
          13.488956191975236,
          4.260682114759062,
          25.615910215155147,
          3.3898648719657154,
          104.65199891481807,
          1.5077337240443456,
          3.3057024334708087,
          2.3013177278026262,
          3.2713930118745087,
          0.019706878296516298,
          null,
          9.78624439338038,
          0.7578890631877011,
          0.6755598786781853,
          13.238656103226091,
          0,
          null,
          1.60320389800874,
          3.3990757211250275,
          3.5238547735222383,
          2.4698916450423307,
          2.733687647550887,
          7.536487764557219,
          1.3293780561962345,
          69.48607648870666,
          4.193646130237543,
          19.72938383339984,
          23.836996045654036,
          null,
          4.0600957497532075,
          5.815103066361054,
          4.726724717664411,
          6.520172791318083,
          1.2483021238099743,
          15.80165182177342,
          7.472127281153574,
          6.771624669366133,
          2.4684389867556944,
          0,
          null,
          0.37315122299609715,
          0,
          null,
          2.8827792313820844,
          0.03734313230332169,
          null,
          6.943830283544824,
          1.458537762438828,
          2.335920939049061,
          12.410220450431584,
          1.872781273555008,
          5.494199284601805,
          1.5572303590885375,
          7.629424191782921,
          3.3717068231971554,
          1.7280392781972904,
          4.836279642329171,
          2.8842000123234057,
          12.18558265759183,
          1.0893746541402876,
          12.692430541109877,
          75.41647391173079,
          7.1104160302724,
          8.49472559290132,
          7.63941034948587,
          8.694746869458193,
          4.683480930225023,
          2.583730648296852,
          3.398909290864466,
          6.429041160605871,
          2.475800718212006,
          3.6711755532716763,
          0.6116852996600936,
          0.7623722868242127,
          null,
          null,
          2.2465792644312255,
          2.742489934651821,
          2.900523513984285,
          1.9665590710751621,
          2.409319175193001,
          1.2145287922484471,
          10.710650809725387,
          3.1870369987482174,
          5.821441593029447,
          3.4721806354441633,
          1.685314780640275,
          null,
          1.9112266285051829,
          2.643054887681095,
          3.7359643773687705,
          2.7491569199975694,
          2.7903312903307524,
          8.412782979421209,
          11.220488042413264,
          1.035499119950791,
          8.39260140650613,
          2.5489170132093353,
          1.8087854275633732,
          5.916503237399911,
          2.548944893620792,
          1.8894710586765584,
          5.69121250388252,
          2.5288382565898195,
          3.8134477983531685,
          4.365993842390125,
          6.843207511662358,
          1.7471770670519235,
          4.102089354975234,
          2.29090231878798,
          5.642594453846281,
          3.5488205412797105,
          3.1765788295193054,
          8.193644827797671,
          2.7082566957649026,
          2.320660784098337,
          5.1866124923973675,
          3.5153102636805658,
          1.8883898868168307,
          0.9559869042218739,
          null,
          11.04739426024036,
          1.7860925424156562,
          1.8563368421531137,
          11.084111655190183,
          1.5852053791627947,
          1.2962316334043569,
          4.246359342142452,
          4.4734442913238235,
          3.141047011967688,
          2.857877300704639,
          0.9910194992642409,
          7.965994387316459,
          10.655658316262617,
          8.399479162581104,
          7.2231262571553705,
          3.0984584774579234,
          10.873658740459922,
          6.907865070307309,
          4.9579931673566,
          1.0520994688352072,
          3.810824485110144,
          13.300103939504798,
          0.12099671861244564,
          null,
          1.9817575899769402,
          4.008342680543779,
          3.6847108319775823,
          1.17257333096817,
          41.475933499160405,
          7.614367550829144,
          1.3224837932120197,
          4.082391467385238,
          4.284769733131937,
          1.4044836906378833,
          3.001581256406327,
          3.6690493247349263,
          4.06087095944189,
          2.7286275475256643,
          3.4213760817975585,
          2.9846154080852503,
          0.9992995167846244,
          5.82408355951558,
          3.1514139198239812,
          9.584257541005355,
          2.5614422954983787,
          4.897137955342046,
          null,
          12.14036546172535,
          4.419742099086157,
          6.315246350797781,
          8.363346307470673,
          2.680697992400385,
          7.051671770453734,
          1.4692559057600776,
          1.8787332630007243,
          8.449238416771346,
          4.23441136264809,
          1.1347146146095728,
          15.339756715878156,
          6.650104702409985,
          0.9563608099105897,
          15.508933957242181,
          3.65172065203494,
          8.683738633195887,
          3.7795958232051365,
          4.750522342945737,
          2.64992230579803,
          4.4510848499558575,
          3.9534819765323657,
          2.986190659656298,
          0.1582238712014759,
          1.9705884013623336,
          151.6160856557788,
          0.14302975632361384,
          64.25351405220603,
          2.883368241826666,
          19.140748351225547,
          16.025629458938916,
          31.554676863331494,
          5.278339065960239,
          1.5820755815119643,
          3.5620195957838523,
          1.1644956129040156,
          3.7442145974815464,
          0.873608064996545,
          10.614880316413913,
          2.12230047680269,
          2.363960885368395,
          15.352177023338033,
          3.325808251697811,
          0.7668445549176522,
          2.351799603421562,
          22.194607923141636,
          3.4737216403426405,
          22.235166932932913,
          2.70703102089098,
          3.8977914040621062,
          4.886511973399573,
          3.110476124064152,
          2.463736028232824,
          3.291410563016953,
          1.2363918280145787,
          5.231456308986158,
          7.929821721473122,
          3.6856363068938385,
          3.319000673323184,
          3.8707818960058913,
          1.5756878012325584,
          6.826847268451649,
          3.7479483629113775,
          3.0078749049722204,
          2.2937812490660767,
          6.335538093471008,
          5.6815229052303255,
          null,
          7.750325676970951,
          13.210131309773484,
          0.21222732612796733,
          61.047249149369996,
          1.4677169359983533,
          0.006027318385443215,
          null,
          0.26288318829120205,
          0.11654356846342907,
          null,
          3.2553377588707137,
          0.18052084793206974,
          null,
          null,
          null,
          4.489526802792494,
          0.09052765048551366,
          21.168906219591165,
          1.1181670570180526,
          3.055097673070573,
          1.8072792698655216,
          16.30980716508017,
          19.184192635293115,
          2.046670641755728,
          3.840970944009165,
          41.56592574989647,
          3.1904209112113,
          6.683919437503143,
          4.4117784369113675,
          5.741922377119246,
          2.4637583700370613,
          2.7113223455852897,
          4.339986557729869,
          1.1565809759024503,
          null,
          2.1081552441403866,
          18.03036098485577,
          1.4219315485780082,
          1.8476062345481234,
          4.563743696054879,
          0,
          null,
          2.2254515449950714,
          1.2993842158085824,
          0.058371426379628874,
          null,
          67.54597619732532,
          0.2619757871484927,
          23.878009863689176,
          0.8093486405742805,
          16.040137523028037,
          0.023651594789072125,
          null,
          0.6535246674200471,
          14.741654357253331,
          4.09617537612223,
          2.2011573624849095,
          4.225090167719359,
          1.4190324812519897,
          4.658844672843935,
          5.431415231845637,
          0.4332441811840331,
          2.2297272723749813,
          31.272412178219863,
          1.793423519383042,
          5.458514686308804,
          11.056611611285636,
          1.1390126952730066,
          1.0380773475894087,
          1.9791595445615435,
          5.212095174761047,
          7.144158620665254,
          2.007266710342268,
          4.135330158879491,
          2.0135338311163884,
          5.648407435788691,
          7.766091162546756,
          4.209051903704397,
          3.763349107710545,
          1.0241373290570754,
          35.5470773404374,
          45.25302978205921,
          1.7560931848893162,
          3.0484246514636366,
          3.126796468276353,
          3.7499532000495974,
          7.3629979142527215,
          4.339406341125254,
          3.873900884036864,
          2.2704308208222437,
          8.937607921891104,
          3.4418202120097154,
          2.513917229607445,
          0.10786647942569656,
          50.06188065279267,
          15.37741639610753,
          3.612379440543393,
          1.4682818661331531,
          0.5546100652720057,
          13.959718873140272,
          0.6527480421040452,
          1.596389633830421,
          2.101981658701233,
          7.322698058977505,
          9.999271786052587,
          2.4618051370296494,
          3.800648104090368,
          6.239151967590232,
          11.111005765650086,
          7.446884778269888,
          1.9248578708998285,
          1.1948791476528189,
          1.4610180462897626,
          14.755785683323941,
          2.499940899208193,
          5.8029808004057895,
          3.6888134560350423,
          1.7060259326879057,
          2.738794243629752,
          3.3356945891377134,
          2.647671165838155,
          6.117473399355424,
          2.3174381065294276,
          3.4934911941971483,
          5.139784740396094,
          2.3733468104487057,
          1.182787083001808,
          26.529677582777747,
          0.08714567074210311,
          5.788130898454197,
          5.07562313913768,
          9.434002851859013,
          1.2759898019790377,
          0.8364432911388734,
          14.738029290064866,
          11.654007678309355,
          2.879964774238818,
          5.504761294340171,
          null,
          null,
          5.093744714134317,
          1.314832595016125,
          1.2111750724471626,
          89.91321046439481,
          2.954401451598633,
          2.092723652646243,
          1.2155821043457058,
          3.999764364700706,
          4.126925224337816,
          33.110661604647,
          12.71758533780032,
          8.633117806791255,
          1.1854898489130679,
          5.559924349925192,
          4.679639683490381,
          1.8056226950914918,
          0.6077798202573627,
          7.3737276965693725,
          27.55224649733075,
          1.2065719648760638,
          3.8451924485477034,
          1.7936921141977669,
          2.6053414567642323,
          50.598662509136666,
          0.18822662106109017,
          20.512036404990358,
          3.3507112564678616,
          20.974316295540003,
          0.09915522892091395,
          0,
          null,
          5.323126860437626,
          0.11681866339549628,
          87.45913830604657,
          2.9614245955496763,
          3.5351633490168384,
          0.3482007732426938,
          null
         ]
        }
       ],
       "layout": {
        "template": {
         "data": {
          "bar": [
           {
            "error_x": {
             "color": "#2a3f5f"
            },
            "error_y": {
             "color": "#2a3f5f"
            },
            "marker": {
             "line": {
              "color": "#E5ECF6",
              "width": 0.5
             }
            },
            "type": "bar"
           }
          ],
          "barpolar": [
           {
            "marker": {
             "line": {
              "color": "#E5ECF6",
              "width": 0.5
             }
            },
            "type": "barpolar"
           }
          ],
          "carpet": [
           {
            "aaxis": {
             "endlinecolor": "#2a3f5f",
             "gridcolor": "white",
             "linecolor": "white",
             "minorgridcolor": "white",
             "startlinecolor": "#2a3f5f"
            },
            "baxis": {
             "endlinecolor": "#2a3f5f",
             "gridcolor": "white",
             "linecolor": "white",
             "minorgridcolor": "white",
             "startlinecolor": "#2a3f5f"
            },
            "type": "carpet"
           }
          ],
          "choropleth": [
           {
            "colorbar": {
             "outlinewidth": 0,
             "ticks": ""
            },
            "type": "choropleth"
           }
          ],
          "contour": [
           {
            "colorbar": {
             "outlinewidth": 0,
             "ticks": ""
            },
            "colorscale": [
             [
              0,
              "#0d0887"
             ],
             [
              0.1111111111111111,
              "#46039f"
             ],
             [
              0.2222222222222222,
              "#7201a8"
             ],
             [
              0.3333333333333333,
              "#9c179e"
             ],
             [
              0.4444444444444444,
              "#bd3786"
             ],
             [
              0.5555555555555556,
              "#d8576b"
             ],
             [
              0.6666666666666666,
              "#ed7953"
             ],
             [
              0.7777777777777778,
              "#fb9f3a"
             ],
             [
              0.8888888888888888,
              "#fdca26"
             ],
             [
              1,
              "#f0f921"
             ]
            ],
            "type": "contour"
           }
          ],
          "contourcarpet": [
           {
            "colorbar": {
             "outlinewidth": 0,
             "ticks": ""
            },
            "type": "contourcarpet"
           }
          ],
          "heatmap": [
           {
            "colorbar": {
             "outlinewidth": 0,
             "ticks": ""
            },
            "colorscale": [
             [
              0,
              "#0d0887"
             ],
             [
              0.1111111111111111,
              "#46039f"
             ],
             [
              0.2222222222222222,
              "#7201a8"
             ],
             [
              0.3333333333333333,
              "#9c179e"
             ],
             [
              0.4444444444444444,
              "#bd3786"
             ],
             [
              0.5555555555555556,
              "#d8576b"
             ],
             [
              0.6666666666666666,
              "#ed7953"
             ],
             [
              0.7777777777777778,
              "#fb9f3a"
             ],
             [
              0.8888888888888888,
              "#fdca26"
             ],
             [
              1,
              "#f0f921"
             ]
            ],
            "type": "heatmap"
           }
          ],
          "heatmapgl": [
           {
            "colorbar": {
             "outlinewidth": 0,
             "ticks": ""
            },
            "colorscale": [
             [
              0,
              "#0d0887"
             ],
             [
              0.1111111111111111,
              "#46039f"
             ],
             [
              0.2222222222222222,
              "#7201a8"
             ],
             [
              0.3333333333333333,
              "#9c179e"
             ],
             [
              0.4444444444444444,
              "#bd3786"
             ],
             [
              0.5555555555555556,
              "#d8576b"
             ],
             [
              0.6666666666666666,
              "#ed7953"
             ],
             [
              0.7777777777777778,
              "#fb9f3a"
             ],
             [
              0.8888888888888888,
              "#fdca26"
             ],
             [
              1,
              "#f0f921"
             ]
            ],
            "type": "heatmapgl"
           }
          ],
          "histogram": [
           {
            "marker": {
             "colorbar": {
              "outlinewidth": 0,
              "ticks": ""
             }
            },
            "type": "histogram"
           }
          ],
          "histogram2d": [
           {
            "colorbar": {
             "outlinewidth": 0,
             "ticks": ""
            },
            "colorscale": [
             [
              0,
              "#0d0887"
             ],
             [
              0.1111111111111111,
              "#46039f"
             ],
             [
              0.2222222222222222,
              "#7201a8"
             ],
             [
              0.3333333333333333,
              "#9c179e"
             ],
             [
              0.4444444444444444,
              "#bd3786"
             ],
             [
              0.5555555555555556,
              "#d8576b"
             ],
             [
              0.6666666666666666,
              "#ed7953"
             ],
             [
              0.7777777777777778,
              "#fb9f3a"
             ],
             [
              0.8888888888888888,
              "#fdca26"
             ],
             [
              1,
              "#f0f921"
             ]
            ],
            "type": "histogram2d"
           }
          ],
          "histogram2dcontour": [
           {
            "colorbar": {
             "outlinewidth": 0,
             "ticks": ""
            },
            "colorscale": [
             [
              0,
              "#0d0887"
             ],
             [
              0.1111111111111111,
              "#46039f"
             ],
             [
              0.2222222222222222,
              "#7201a8"
             ],
             [
              0.3333333333333333,
              "#9c179e"
             ],
             [
              0.4444444444444444,
              "#bd3786"
             ],
             [
              0.5555555555555556,
              "#d8576b"
             ],
             [
              0.6666666666666666,
              "#ed7953"
             ],
             [
              0.7777777777777778,
              "#fb9f3a"
             ],
             [
              0.8888888888888888,
              "#fdca26"
             ],
             [
              1,
              "#f0f921"
             ]
            ],
            "type": "histogram2dcontour"
           }
          ],
          "mesh3d": [
           {
            "colorbar": {
             "outlinewidth": 0,
             "ticks": ""
            },
            "type": "mesh3d"
           }
          ],
          "parcoords": [
           {
            "line": {
             "colorbar": {
              "outlinewidth": 0,
              "ticks": ""
             }
            },
            "type": "parcoords"
           }
          ],
          "pie": [
           {
            "automargin": true,
            "type": "pie"
           }
          ],
          "scatter": [
           {
            "marker": {
             "colorbar": {
              "outlinewidth": 0,
              "ticks": ""
             }
            },
            "type": "scatter"
           }
          ],
          "scatter3d": [
           {
            "line": {
             "colorbar": {
              "outlinewidth": 0,
              "ticks": ""
             }
            },
            "marker": {
             "colorbar": {
              "outlinewidth": 0,
              "ticks": ""
             }
            },
            "type": "scatter3d"
           }
          ],
          "scattercarpet": [
           {
            "marker": {
             "colorbar": {
              "outlinewidth": 0,
              "ticks": ""
             }
            },
            "type": "scattercarpet"
           }
          ],
          "scattergeo": [
           {
            "marker": {
             "colorbar": {
              "outlinewidth": 0,
              "ticks": ""
             }
            },
            "type": "scattergeo"
           }
          ],
          "scattergl": [
           {
            "marker": {
             "colorbar": {
              "outlinewidth": 0,
              "ticks": ""
             }
            },
            "type": "scattergl"
           }
          ],
          "scattermapbox": [
           {
            "marker": {
             "colorbar": {
              "outlinewidth": 0,
              "ticks": ""
             }
            },
            "type": "scattermapbox"
           }
          ],
          "scatterpolar": [
           {
            "marker": {
             "colorbar": {
              "outlinewidth": 0,
              "ticks": ""
             }
            },
            "type": "scatterpolar"
           }
          ],
          "scatterpolargl": [
           {
            "marker": {
             "colorbar": {
              "outlinewidth": 0,
              "ticks": ""
             }
            },
            "type": "scatterpolargl"
           }
          ],
          "scatterternary": [
           {
            "marker": {
             "colorbar": {
              "outlinewidth": 0,
              "ticks": ""
             }
            },
            "type": "scatterternary"
           }
          ],
          "surface": [
           {
            "colorbar": {
             "outlinewidth": 0,
             "ticks": ""
            },
            "colorscale": [
             [
              0,
              "#0d0887"
             ],
             [
              0.1111111111111111,
              "#46039f"
             ],
             [
              0.2222222222222222,
              "#7201a8"
             ],
             [
              0.3333333333333333,
              "#9c179e"
             ],
             [
              0.4444444444444444,
              "#bd3786"
             ],
             [
              0.5555555555555556,
              "#d8576b"
             ],
             [
              0.6666666666666666,
              "#ed7953"
             ],
             [
              0.7777777777777778,
              "#fb9f3a"
             ],
             [
              0.8888888888888888,
              "#fdca26"
             ],
             [
              1,
              "#f0f921"
             ]
            ],
            "type": "surface"
           }
          ],
          "table": [
           {
            "cells": {
             "fill": {
              "color": "#EBF0F8"
             },
             "line": {
              "color": "white"
             }
            },
            "header": {
             "fill": {
              "color": "#C8D4E3"
             },
             "line": {
              "color": "white"
             }
            },
            "type": "table"
           }
          ]
         },
         "layout": {
          "annotationdefaults": {
           "arrowcolor": "#2a3f5f",
           "arrowhead": 0,
           "arrowwidth": 1
          },
          "coloraxis": {
           "colorbar": {
            "outlinewidth": 0,
            "ticks": ""
           }
          },
          "colorscale": {
           "diverging": [
            [
             0,
             "#8e0152"
            ],
            [
             0.1,
             "#c51b7d"
            ],
            [
             0.2,
             "#de77ae"
            ],
            [
             0.3,
             "#f1b6da"
            ],
            [
             0.4,
             "#fde0ef"
            ],
            [
             0.5,
             "#f7f7f7"
            ],
            [
             0.6,
             "#e6f5d0"
            ],
            [
             0.7,
             "#b8e186"
            ],
            [
             0.8,
             "#7fbc41"
            ],
            [
             0.9,
             "#4d9221"
            ],
            [
             1,
             "#276419"
            ]
           ],
           "sequential": [
            [
             0,
             "#0d0887"
            ],
            [
             0.1111111111111111,
             "#46039f"
            ],
            [
             0.2222222222222222,
             "#7201a8"
            ],
            [
             0.3333333333333333,
             "#9c179e"
            ],
            [
             0.4444444444444444,
             "#bd3786"
            ],
            [
             0.5555555555555556,
             "#d8576b"
            ],
            [
             0.6666666666666666,
             "#ed7953"
            ],
            [
             0.7777777777777778,
             "#fb9f3a"
            ],
            [
             0.8888888888888888,
             "#fdca26"
            ],
            [
             1,
             "#f0f921"
            ]
           ],
           "sequentialminus": [
            [
             0,
             "#0d0887"
            ],
            [
             0.1111111111111111,
             "#46039f"
            ],
            [
             0.2222222222222222,
             "#7201a8"
            ],
            [
             0.3333333333333333,
             "#9c179e"
            ],
            [
             0.4444444444444444,
             "#bd3786"
            ],
            [
             0.5555555555555556,
             "#d8576b"
            ],
            [
             0.6666666666666666,
             "#ed7953"
            ],
            [
             0.7777777777777778,
             "#fb9f3a"
            ],
            [
             0.8888888888888888,
             "#fdca26"
            ],
            [
             1,
             "#f0f921"
            ]
           ]
          },
          "colorway": [
           "#636efa",
           "#EF553B",
           "#00cc96",
           "#ab63fa",
           "#FFA15A",
           "#19d3f3",
           "#FF6692",
           "#B6E880",
           "#FF97FF",
           "#FECB52"
          ],
          "font": {
           "color": "#2a3f5f"
          },
          "geo": {
           "bgcolor": "white",
           "lakecolor": "white",
           "landcolor": "#E5ECF6",
           "showlakes": true,
           "showland": true,
           "subunitcolor": "white"
          },
          "hoverlabel": {
           "align": "left"
          },
          "hovermode": "closest",
          "mapbox": {
           "style": "light"
          },
          "paper_bgcolor": "white",
          "plot_bgcolor": "#E5ECF6",
          "polar": {
           "angularaxis": {
            "gridcolor": "white",
            "linecolor": "white",
            "ticks": ""
           },
           "bgcolor": "#E5ECF6",
           "radialaxis": {
            "gridcolor": "white",
            "linecolor": "white",
            "ticks": ""
           }
          },
          "scene": {
           "xaxis": {
            "backgroundcolor": "#E5ECF6",
            "gridcolor": "white",
            "gridwidth": 2,
            "linecolor": "white",
            "showbackground": true,
            "ticks": "",
            "zerolinecolor": "white"
           },
           "yaxis": {
            "backgroundcolor": "#E5ECF6",
            "gridcolor": "white",
            "gridwidth": 2,
            "linecolor": "white",
            "showbackground": true,
            "ticks": "",
            "zerolinecolor": "white"
           },
           "zaxis": {
            "backgroundcolor": "#E5ECF6",
            "gridcolor": "white",
            "gridwidth": 2,
            "linecolor": "white",
            "showbackground": true,
            "ticks": "",
            "zerolinecolor": "white"
           }
          },
          "shapedefaults": {
           "line": {
            "color": "#2a3f5f"
           }
          },
          "ternary": {
           "aaxis": {
            "gridcolor": "white",
            "linecolor": "white",
            "ticks": ""
           },
           "baxis": {
            "gridcolor": "white",
            "linecolor": "white",
            "ticks": ""
           },
           "bgcolor": "#E5ECF6",
           "caxis": {
            "gridcolor": "white",
            "linecolor": "white",
            "ticks": ""
           }
          },
          "title": {
           "x": 0.05
          },
          "xaxis": {
           "automargin": true,
           "gridcolor": "white",
           "linecolor": "white",
           "ticks": "",
           "title": {
            "standoff": 15
           },
           "zerolinecolor": "white",
           "zerolinewidth": 2
          },
          "yaxis": {
           "automargin": true,
           "gridcolor": "white",
           "linecolor": "white",
           "ticks": "",
           "title": {
            "standoff": 15
           },
           "zerolinecolor": "white",
           "zerolinewidth": 2
          }
         }
        }
       }
      },
      "text/html": [
       "<div>\n",
       "        \n",
       "        \n",
       "            <div id=\"d641237f-215d-4224-bd56-a38db8310c30\" class=\"plotly-graph-div\" style=\"height:525px; width:100%;\"></div>\n",
       "            <script type=\"text/javascript\">\n",
       "                require([\"plotly\"], function(Plotly) {\n",
       "                    window.PLOTLYENV=window.PLOTLYENV || {};\n",
       "                    \n",
       "                if (document.getElementById(\"d641237f-215d-4224-bd56-a38db8310c30\")) {\n",
       "                    Plotly.newPlot(\n",
       "                        'd641237f-215d-4224-bd56-a38db8310c30',\n",
       "                        [{\"marker\": {\"color\": \"lightsalmon\"}, \"name\": \"Viagens Produzidas\", \"type\": \"bar\", \"x\": [\"S\\u00e9\", \"Parque Dom Pedro\", \"Pra\\u00e7a Jo\\u00e3o Mendes\", \"Ladeira da Mem\\u00f3ria\", \"Rep\\u00fablica\", \"Santa Ifig\\u00eania\", \"Luz\", \"Bom Retiro\", \"Ponte Pequena\", \"Canind\\u00e9\", \"Bom Jardim\", \"Pari\", \"Jo\\u00e3o Teodoro\", \"Oriente\", \"Bresser\", \"Br\\u00e1s\", \"Gas\\u00f4metro\", \"Independ\\u00eancia\", \"Cambuci\", \"Glic\\u00e9rio\", \"Aclima\\u00e7\\u00e3o\", \"Pires da Mota\", \"Centro Cultural\", \"Liberdade\", \"Treze de Maio\", \"Bexiga\", \"Bela Vista\", \"S\\u00e3o Carlos do Pinhal\", \"Masp\", \"Higien\\u00f3polis\", \"Vila Buarque\", \"Consola\\u00e7\\u00e3o\", \"Pacaembu\", \"FAAP\", \"Santa Cec\\u00edlia\", \"Marechal Deodoro\", \"Rudge\", \"Catumbi\", \"Bel\\u00e9m\", \"Quarta Parada\", \"Belenzinho\", \"Celso Garcia\", \"Mooca\", \"Alto da Mooca\", \"Parque da Mooca\", \"\\u00c1gua Rasa\", \"Vila Bertioga\", \"Regente Feij\\u00f3\", \"Ana Rosa\", \"Jardim da Gl\\u00f3ria\", \"Ch\\u00e1cara Klabin\", \"Vila Mariana\", \"Santa Cruz\", \"Vila Clementino\", \"Fran\\u00e7a Pinto\", \"Rodrigues Alves\", \"Para\\u00edso\", \"Bosque da Sa\\u00fade\", \"Sa\\u00fade\", \"Planalto Paulista\", \"Mirand\\u00f3polis\", \"Parque Ibirapuera\", \"Jardim Luzit\\u00e2nia\", \"Moema\", \"Vila Helena\", \"Bandeirantes\", \"Vila Nova Concei\\u00e7\\u00e3o\", \"Ch\\u00e1cara Itaim\", \"Vila Ol\\u00edmpia\", \"H\\u00e9lio Pelegrino\", \"Brooklin\", \"Vila Cordeiro\", \"Berrini\", \"Campinas\", \"Pamplona\", \"Jardins\", \"Cl\\u00ednicas\", \"Oscar Freire\", \"Trianon\", \"Jardim Paulistano\", \"Jardim Europa\", \"Pinheiros\", \"Vila Madalena\", \"PUC\", \"Cardoso de Almeida\", \"Zequinha de Abreu\", \"Sumar\\u00e9\", \"Perdizes\", \"Vila Anglo Brasileira\", \"Pomp\\u00e9ia\", \"Santa Marina\", \"Barra Funda\", \"Francisco Matarazzo\", \"\\u00c1gua Branca\", \"Vila Beatriz\", \"Alto de Pinheiros\", \"Boa\\u00e7ava\", \"Vila Anast\\u00e1cio\", \"Lapa de Baixo\", \"Lapa\", \"Vila Ipojuca\", \"Alto da Lapa\", \"Gavi\\u00e3o Peixoto\", \"Bela Alian\\u00e7a\", \"Vila Hamburguesa\", \"CEASA\", \"Vila Leopoldina\", \"Emiss\\u00e1rio\", \"Vila Zatt\", \"Pirituba\", \"S\\u00e3o Domingos\", \"Jardim Mutinga\", \"Vila Jaguara\", \"Parque do Jaragu\\u00e1\", \"Nova Jaragu\\u00e1\", \"Parada de Taipas\", \"Parque Morro Doce\", \"Anhanguera\", \"Perus\", \"Vista Alegre\", \"Jardim Damasceno\", \"Vila Souza\", \"Vila Terezinha\", \"Brasil\\u00e2ndia\", \"Vila Morro Grande\", \"Itaberaba\", \"Freguesia do \\u00d3\", \"Carandiru\", \"Santana\", \"Zaki Narchi\", \"Tiet\\u00ea\", \"Parque Anhembi\", \"Alfredo Pujol\", \"Santa Terezinha\", \"Jardim S\\u00e3o Paulo\", \"Casa Verde\", \"Parque Peruche\", \"Lim\\u00e3o\", \"Jardim Primavera\", \"Vila Santa Maria\", \"Cachoeirinha\", \"Jardim Peri\", \"Reserva da Cantareira\", \"Mandaqui\", \"Horto Florestal\", \"ETA Guara\\u00fa\", \"Parque Palmas do Trememb\\u00e9\", \"Trememb\\u00e9\", \"Cantareira\", \"Jardim das Pedras\", \"Jardim Guapira\", \"Parada Inglesa\", \"Tucuruvi\", \"Vila Gustavo\", \"Cohab Jova Real\", \"Ja\\u00e7an\\u00e3\", \"Parque Edu Chaves\", \"Vila Medeiros\", \"Jardim Brasil\", \"Jardim Jap\\u00e3o\", \"Parque Novo Mundo\", \"Vila Maria\", \"Vila Isolina Mazzei\", \"Vila Guilherme\", \"Coroa\", \"Gomes Cardim\", \"Tatuap\\u00e9\", \"Ch\\u00e1cara do Piqueri\", \"Parque S\\u00e3o Jorge\", \"Penha\", \"Tiquatira\", \"Vila Esperan\\u00e7a\", \"Vila R\\u00e9\", \"Rui Barbosa\", \"Esta\\u00e7\\u00e3o Eng. Goulart\", \"Canga\\u00edba\", \"Parque Ecol\\u00f3gico do Tiet\\u00ea\", \"USP Leste I\", \"USP Leste II\", \"Ermelino Matarazzo\", \"Parque Buturussu\", \"Ponte Rasa\", \"Burgo Paulista\", \"Limoeiro\", \"Laranja da China\", \"Pedro Jos\\u00e9 Nunes\", \"Parque Cruzeiro do Sul\", \"Vila Jacu\\u00ed\", \"Parada XV\", \"Itaquera\", \"Arena Corinthians\", \"Vila Campanela\", \"Arauc\\u00e1rias\", \"Parque Guarani\", \"Rio Verde\", \"Saudade\", \"S\\u00e3o Miguel Paulista\", \"Cidade Nitro-Oper\\u00e1ria\", \"Jardim Helena\", \"Jardim Romano\", \"Vila Curu\\u00e7\\u00e1\", \"Jardim Robru\", \"Lageado\", \"F\\u00e1brica Bandeirantes\", \"Fazenda Itaim\", \"Itaim Paulista\", \"Jardim das Oliveiras\", \"Vila Calif\\u00f3rnia\", \"Vila Carr\\u00e3o\", \"Jardim An\\u00e1lia Franco\", \"Vila Formosa\", \"Barreira Grande\", \"Aricanduva\", \"Frei Mont'Alverne\", \"Vila Matilde\", \"Cidade Patriarca\", \"Cidade A.E.Carvalho\", \"Artur Alvim\", \"Cidade L\\u00edder\", \"Santa Marcelina\", \"Parque Savoy\", \"Vila Carmosina\", \"Fazenda Cagua\\u00e7u\", \"Parque do Carmo\", \"Gleba do P\\u00eassego\", \"Jos\\u00e9 Bonif\\u00e1cio\", \"Guaianases\", \"Juscelino Kubitschek\", \"Cidade Tiradentes\", \"Santa Etelvina\", \"Terceira Divis\\u00e3o\", \"Iguatemi\", \"S\\u00edtio Carr\\u00e3ozinho\", \"Parque S\\u00e3o Rafael\", \"Rodolfo Pirani\", \"Ipiranga\", \"Sacom\\u00e3\", \"Alto do Ipiranga\", \"Vila S\\u00e3o Jos\\u00e9\", \"Vila Monumento\", \"Vila Independ\\u00eancia\", \"Vila Carioca\", \"Moinho Velho\", \"Vila Heli\\u00f3polis\", \"S\\u00e3o Jo\\u00e3o Cl\\u00edmaco\", \"Anchieta\", \"Vila das Merc\\u00eas\", \"Parque do Estado\", \"\\u00c1gua Funda\", \"Jardim da Sa\\u00fade\", \"Vila Gumercindo\", \"Jardim Previd\\u00eancia\", \"Tamanduate\\u00ed\", \"Orfanato\", \"Vila Zelina\", \"Linhas Corrente\", \"Vila Ema\", \"Parque S\\u00e3o Lucas\", \"Vila Cardoso Franco\", \"Parque Santa Madalena\", \"Jardim Colorado\", \"Teot\\u00f4nio Vilela\", \"Fazenda da Juta\", \"S\\u00e3o Mateus\", \"Cidade IV Centen\\u00e1rio\", \"Rio Claro\", \"Cidade Sat\\u00e9lite\", \"Joaquim Nabuco\", \"Vieira de Moraes\", \"Campo Belo\", \"Congonhas\", \"Jardim Aeroporto\", \"Vila Santa Catarina\", \"Jabaquara\", \"Cidade Vargas\", \"Jardim Bom Clima\", \"Cupec\\u00ea\", \"Jardim Miriam\", \"Vila Mission\\u00e1ria\", \"Jurubatuba\", \"Vila S\\u00e3o Pedro\", \"Campo Grande\", \"Vila Sabar\\u00e1\", \"Mar Paulista\", \"Pedreira\", \"Vila Socorro\", \"Parque Interlagos\", \"Jardim Represa\", \"Rio Bonito\", \"SESC Interlagos\", \"Jardim Presidente\", \"Vila Natal\", \"Graja\\u00fa\", \"Cocaia\", \"Belmira Marin\", \"Boror\\u00e9\", \"Jaceguava\", \"Parelheiros\", \"Marsilac\", \"Granja Julieta\", \"Ch\\u00e1cara Flora\", \"Santo Amaro\", \"Vila Miranda\", \"Jardim S\\u00e3o Lu\\u00eds\", \"Centro Empresarial\", \"Guarapiranga\", \"Jardim Capela\", \"Riviera\", \"Jardim Turquesa\", \"Morro do \\u00cdndio\", \"Jardim \\u00c2ngela\", \"Cap\\u00e3o Redondo\", \"Jardim S\\u00f4nia Ing\\u00e1\", \"Adventista\", \"Parque Fernanda\", \"Morumbi\", \"J\\u00f3quei Clube\", \"Fazenda Morumbi\", \"Real Parque\", \"Parais\\u00f3polis\", \"Jardim Vit\\u00f3ria R\\u00e9gia\", \"Vila Suzana\", \"Parque Arariba\", \"Jardim Mitsutani\", \"Pirajussara\", \"Jardim Umarizal\", \"Portal do Morumbi\", \"Jardim Jussara\", \"Vila S\\u00f4nia\", \"Jardim Maria do Carmo\", \"Jardim Cambar\\u00e1\", \"Jardim Jo\\u00e3o XXIII\", \"Raposo Tavares\", \"Rio Pequeno\", \"Jardim Ester Yolanda\", \"Jardim Adalgiza\", \"Parque Continental\", \"Jaguar\\u00e9\", \"Cidade Universit\\u00e1ria\", \"Butant\\u00e3\", \"Jardim Caxingui\", \"Jardim Bonfiglioli\", \"Melhoramentos\", \"Caieiras\", \"Serpa\", \"Santa In\\u00eas\", \"Cajamar\", \"Jordan\\u00e9sia\", \"Cristais\", \"Baltazar Fid\\u00e9lis\", \"Franco da Rocha\", \"Parque do Juqueri\", \"Palmares\", \"Sete Voltas\", \"Afonso Moreno\", \"Francisco Morato\", \"Cascatas\", \"Mairipor\\u00e3\", \"Paiva Castro\", \"Colinas\", \"Pirucaia\", \"Guarulhos\", \"Macedo\", \"Cumbica\", \"V\\u00e1rzea do Pal\\u00e1cio\", \"Ponte Grande\", \"Gopouva\", \"Vila S\\u00e3o Rafael\", \"Vila Ros\\u00e1lia\", \"Andr\\u00e9 Luiz\", \"Jardim Santa Clara\", \"Parque CECAP\", \"Tabo\\u00e3o\", \"Aeroporto\", \"Jardim Presidente Dutra\", \"Baquirivu\", \"\\u00c1gua Chata\", \"Pimentas\", \"Cabu\\u00e7u\", \"Invernada\", \"Morro dos Macacos\", \"Ch\\u00e1caras Bananal\", \"Estrada de Nazar\\u00e9 Paulista\", \"\\u00c1gua Azul\", \"Vasconcel\\u00e2ndia\", \"Arujazinho\", \"Aruj\\u00e1\", \"Fazenda Velha\", \"Santa Isabel\", \"Jaguari\", \"Ferraz de Vasconcelos\", \"Paiol Velho\", \"Santos Dumont\", \"Jardim S\\u00e3o Jos\\u00e9\", \"Po\\u00e1\", \"Itaquaquecetuba\", \"Quinta da Boa Vista\", \"Bonsucesso\", \"Pinheirinho\", \"Miguel Badra\", \"Suzano\", \"Guai\\u00f3\", \"Ouro Fino\", \"Mogi das Cruzes\", \"Estudantes\", \"Vila Oliveira\", \"Br\\u00e1s Cubas\", \"Jundiapeba\", \"Jardim Graziella\", \"Itapeti\", \"Saba\\u00fana\", \"C\\u00e9sar de Souza\", \"Taia\\u00e7upeba\", \"Biritiba-Mirim\", \"Sales\\u00f3polis\", \"Guararema\", \"Santa Paula\", \"Vila Gerti\", \"Estrada das L\\u00e1grimas\", \"Santo Ant\\u00f4nio\", \"S\\u00e3o Caetano do Sul\", \"Santo Andr\\u00e9\", \"Vila Gilda\", \"Valpara\\u00edso\", \"Sacadura Cabral\", \"Campestre\", \"Utinga\", \"Vila Lucinda\", \"Parque Orat\\u00f3rio\", \"Parque das Na\\u00e7\\u00f5es\", \"Jardim do Est\\u00e1dio\", \"Carij\\u00f3s\", \"Parque do Pedroso\", \"Paranapiacaba\", \"Capuava\", \"Mau\\u00e1\", \"Jardim Za\\u00edra\", \"Bar\\u00e3o de Mau\\u00e1\", \"Estrada do Carneiro\", \"Ribeir\\u00e3o Pires\", \"Jardim Santa Luzia\", \"Ouro Fino Paulista\", \"Parque Sete Pontes\", \"Rio Grande da Serra\", \"Planalto\", \"Paulic\\u00e9ia\", \"Rudge Ramos\", \"Baeta Neves\", \"S\\u00e3o Bernardo do Campo\", \"Montanh\\u00e3o\", \"Demarchi\", \"Riacho Grande\", \"Caminho do Mar\", \"Reservat\\u00f3rio Billings\", \"Diadema\", \"Jardim das Na\\u00e7\\u00f5es\", \"Piraporinha\", \"Vila Concei\\u00e7\\u00e3o\", \"Eldorado\", \"Tabo\\u00e3o da Serra\", \"Jardim Irapu\\u00e3\", \"Parque Pinheiros\", \"Parque Industrial\", \"Santo Eduardo\", \"S\\u00e3o Marcos\", \"Embu das Artes\", \"Ressaca\", \"Itapecerica da Serra\", \"Jardim Petr\\u00f3polis\", \"Embu-Mirim\", \"S\\u00e3o Louren\\u00e7o da Serra\", \"Embu-Gua\\u00e7u\", \"Cip\\u00f3\", \"Santa Rita\", \"Juquitiba\", \"Barueri\", \"Aphaville\", \"Tambor\\u00e9\", \"Ant\\u00f4nio Jo\\u00e3o\", \"Vutopoca\", \"Jardim Silveira\", \"Jardim Belval\", \"Morada dos Lagos\", \"Cidade Ariston\", \"Carapicu\\u00edba\", \"Jardim Planalto\", \"Aldeia de Carapicu\\u00edba\", \"Estrada do Jacarand\\u00e1\", \"Osasco\", \"Vila Yara\", \"Bussocaba City\", \"Nova Granada\", \"Recanto das Rosas\", \"Jardim Novo Osasco\", \"Jardim Veloso\", \"Quita\\u00fana\", \"Jardim Piratininga\", \"Presidente Altino\", \"Munhoz Junior\", \"Rochdale\", \"Mutinga\", \"Tr\\u00eas Montanhas\", \"Ribeir\\u00e3o Itaqui\", \"Jandira\", \"Ribeir\\u00e3o das Pombas\", \"Granja Viana\", \"Fernando Nobre\", \"Cotia\", \"Capueira\", \"Caucaia\", \"Caucaia do Alto\", \"Vargem Grande Paulista\", \"Quatro Encruzilhadas\", \"Itapevi\", \"Amador Bueno\", \"Santana de Parna\\u00edba\", \"Pirapora do Bom Jesus\"], \"y\": [null, 84.06251385153193, 22.090954022512992, 9.120256337337349, 15.449375951781764, 14.667825739301673, 8.46550525230131, 4.413949410067172, 5.910872785928347, 6.397800307317016, 14.051881995124536, 33.98599342869747, 3.490717137910157, 92.57839434625382, 21.64218718917986, 11.532689653627006, 5.211851958053408, 21.32836578263483, 5.990331390051688, 4.538201783652105, 3.84806753324248, 3.958483005647013, 10.852821293000606, 33.6069033931123, 7.107062264186892, 5.918808119413751, 16.481900630683043, 8.677576418601559, 20.915742820334, 9.514603675828493, 12.224413565630442, 11.183590768773781, 1.6112670561283104, 34.58402137635393, 30.243788132947856, 5.623751514023756, 1.5654146319013376, 5.275884620976458, 14.29371388618221, 9.021911310095057, 20.624779952219818, 2.6590182652467256, 40.99811584113742, 4.310965836615294, 10.751826461473074, 4.317093082953986, 2.3941000765182943, 4.270833226835906, 5.025246063989256, 2.5042585887729087, 6.7245946185207535, 5.212559584845783, 12.951992779471686, 13.509967926751408, 11.567642026063812, 9.894703674981232, 10.225657045458327, 4.566942804604727, 10.681892387067041, 2.627206023086034, 6.89296779293211, 3.4634171974868053, 16.6777713197409, 99.60460302556073, 4.089859576693507, 4.457780371009086, 5.978210790501668, 32.484212841997135, 4.41704195569708, 10.881346928744227, 11.388702916073106, 4.28063204817324, 35.90428917355895, 17.476595052810207, 6.68766154149004, 7.093926485773906, 17.581962565657385, 5.5360378891400766, 12.057953210581623, 15.109823188600448, 8.86963413150505, 25.88331175568443, 15.997871084352479, 4.893826578602921, 2.4544303357370416, 4.087820002222873, 23.836414623215223, 12.702949263523626, 0.9076637062102096, 6.4326455325255045, 9.280984072034572, 26.776170142560428, 739.5677518987698, 11.90212840712888, 21.271219044245235, 3.836212835447131, 12.12176273624209, 1.899698845196845, 35.537525282731124, 36.84261539497402, 4.90885516806311, 2.899258981711379, 1.8100130286718394, 13.662091329929574, 13.488956191975236, 4.260682114759062, 25.615910215155147, 3.3898648719657154, 104.65199891481807, 1.5077337240443456, 3.3057024334708087, 2.3013177278026262, 3.2713930118745087, 0.019706878296516298, null, 9.78624439338038, 0.7578890631877011, 0.6755598786781853, 13.238656103226091, 0.0, null, 1.60320389800874, 3.3990757211250275, 3.5238547735222383, 2.4698916450423307, 2.733687647550887, 7.536487764557219, 1.3293780561962345, 69.48607648870666, 4.193646130237543, 19.72938383339984, 23.836996045654036, null, 4.0600957497532075, 5.815103066361054, 4.726724717664411, 6.520172791318083, 1.2483021238099743, 15.80165182177342, 7.472127281153574, 6.771624669366133, 2.4684389867556944, 0.0, null, 0.37315122299609715, 0.0, null, 2.8827792313820844, 0.03734313230332169, null, 6.943830283544824, 1.458537762438828, 2.335920939049061, 12.410220450431584, 1.872781273555008, 5.494199284601805, 1.5572303590885375, 7.629424191782921, 3.3717068231971554, 1.7280392781972904, 4.836279642329171, 2.8842000123234057, 12.18558265759183, 1.0893746541402876, 12.692430541109877, 75.41647391173079, 7.1104160302724, 8.49472559290132, 7.63941034948587, 8.694746869458193, 4.683480930225023, 2.583730648296852, 3.398909290864466, 6.429041160605871, 2.475800718212006, 3.6711755532716763, 0.6116852996600936, 0.7623722868242127, null, null, 2.2465792644312255, 2.742489934651821, 2.900523513984285, 1.9665590710751621, 2.409319175193001, 1.2145287922484471, 10.710650809725387, 3.1870369987482174, 5.821441593029447, 3.4721806354441633, 1.685314780640275, null, 1.9112266285051829, 2.643054887681095, 3.7359643773687705, 2.7491569199975694, 2.7903312903307524, 8.412782979421209, 11.220488042413264, 1.035499119950791, 8.39260140650613, 2.5489170132093353, 1.8087854275633732, 5.916503237399911, 2.548944893620792, 1.8894710586765584, 5.69121250388252, 2.5288382565898195, 3.8134477983531685, 4.365993842390125, 6.843207511662358, 1.7471770670519235, 4.102089354975234, 2.29090231878798, 5.642594453846281, 3.5488205412797105, 3.1765788295193054, 8.193644827797671, 2.7082566957649026, 2.320660784098337, 5.1866124923973675, 3.5153102636805658, 1.8883898868168307, 0.9559869042218739, null, 11.04739426024036, 1.7860925424156562, 1.8563368421531137, 11.084111655190183, 1.5852053791627947, 1.2962316334043569, 4.246359342142452, 4.4734442913238235, 3.141047011967688, 2.857877300704639, 0.9910194992642409, 7.965994387316459, 10.655658316262617, 8.399479162581104, 7.2231262571553705, 3.0984584774579234, 10.873658740459922, 6.907865070307309, 4.9579931673566, 1.0520994688352072, 3.810824485110144, 13.300103939504798, 0.12099671861244564, null, 1.9817575899769402, 4.008342680543779, 3.6847108319775823, 1.17257333096817, 41.475933499160405, 7.614367550829144, 1.3224837932120197, 4.082391467385238, 4.284769733131937, 1.4044836906378833, 3.001581256406327, 3.6690493247349263, 4.06087095944189, 2.7286275475256643, 3.4213760817975585, 2.9846154080852503, 0.9992995167846244, 5.82408355951558, 3.1514139198239812, 9.584257541005355, 2.5614422954983787, 4.897137955342046, null, 12.14036546172535, 4.419742099086157, 6.315246350797781, 8.363346307470673, 2.680697992400385, 7.051671770453734, 1.4692559057600776, 1.8787332630007243, 8.449238416771346, 4.23441136264809, 1.1347146146095728, 15.339756715878156, 6.650104702409985, 0.9563608099105897, 15.508933957242181, 3.65172065203494, 8.683738633195887, 3.7795958232051365, 4.750522342945737, 2.64992230579803, 4.4510848499558575, 3.9534819765323657, 2.986190659656298, 0.1582238712014759, 1.9705884013623336, 151.6160856557788, 0.14302975632361384, 64.25351405220603, 2.883368241826666, 19.140748351225547, 16.025629458938916, 31.554676863331494, 5.278339065960239, 1.5820755815119643, 3.5620195957838523, 1.1644956129040156, 3.7442145974815464, 0.873608064996545, 10.614880316413913, 2.12230047680269, 2.363960885368395, 15.352177023338033, 3.325808251697811, 0.7668445549176522, 2.351799603421562, 22.194607923141636, 3.4737216403426405, 22.235166932932913, 2.70703102089098, 3.8977914040621062, 4.886511973399573, 3.110476124064152, 2.463736028232824, 3.291410563016953, 1.2363918280145787, 5.231456308986158, 7.929821721473122, 3.6856363068938385, 3.319000673323184, 3.8707818960058913, 1.5756878012325584, 6.826847268451649, 3.7479483629113775, 3.0078749049722204, 2.2937812490660767, 6.335538093471008, 5.6815229052303255, null, 7.750325676970951, 13.210131309773484, 0.21222732612796733, 61.047249149369996, 1.4677169359983533, 0.006027318385443215, null, 0.26288318829120205, 0.11654356846342907, null, 3.2553377588707137, 0.18052084793206974, null, null, null, 4.489526802792494, 0.09052765048551366, 21.168906219591165, 1.1181670570180526, 3.055097673070573, 1.8072792698655216, 16.30980716508017, 19.184192635293115, 2.046670641755728, 3.840970944009165, 41.56592574989647, 3.1904209112113, 6.683919437503143, 4.4117784369113675, 5.741922377119246, 2.4637583700370613, 2.7113223455852897, 4.339986557729869, 1.1565809759024503, null, 2.1081552441403866, 18.03036098485577, 1.4219315485780082, 1.8476062345481234, 4.563743696054879, 0.0, null, 2.2254515449950714, 1.2993842158085824, 0.058371426379628874, null, 67.54597619732532, 0.2619757871484927, 23.878009863689176, 0.8093486405742805, 16.040137523028037, 0.023651594789072125, null, 0.6535246674200471, 14.741654357253331, 4.09617537612223, 2.2011573624849095, 4.225090167719359, 1.4190324812519897, 4.658844672843935, 5.431415231845637, 0.4332441811840331, 2.2297272723749813, 31.272412178219863, 1.793423519383042, 5.458514686308804, 11.056611611285636, 1.1390126952730066, 1.0380773475894087, 1.9791595445615435, 5.212095174761047, 7.144158620665254, 2.007266710342268, 4.135330158879491, 2.0135338311163884, 5.648407435788691, 7.766091162546756, 4.209051903704397, 3.763349107710545, 1.0241373290570754, 35.5470773404374, 45.25302978205921, 1.7560931848893162, 3.0484246514636366, 3.126796468276353, 3.7499532000495974, 7.3629979142527215, 4.339406341125254, 3.873900884036864, 2.2704308208222437, 8.937607921891104, 3.4418202120097154, 2.513917229607445, 0.10786647942569656, 50.06188065279267, 15.37741639610753, 3.612379440543393, 1.4682818661331531, 0.5546100652720057, 13.959718873140272, 0.6527480421040452, 1.596389633830421, 2.101981658701233, 7.322698058977505, 9.999271786052587, 2.4618051370296494, 3.800648104090368, 6.239151967590232, 11.111005765650086, 7.446884778269888, 1.9248578708998285, 1.1948791476528189, 1.4610180462897626, 14.755785683323941, 2.499940899208193, 5.8029808004057895, 3.6888134560350423, 1.7060259326879057, 2.738794243629752, 3.3356945891377134, 2.647671165838155, 6.117473399355424, 2.3174381065294276, 3.4934911941971483, 5.139784740396094, 2.3733468104487057, 1.182787083001808, 26.529677582777747, 0.08714567074210311, 5.788130898454197, 5.07562313913768, 9.434002851859013, 1.2759898019790377, 0.8364432911388734, 14.738029290064866, 11.654007678309355, 2.879964774238818, 5.504761294340171, null, null, 5.093744714134317, 1.314832595016125, 1.2111750724471626, 89.91321046439481, 2.954401451598633, 2.092723652646243, 1.2155821043457058, 3.999764364700706, 4.126925224337816, 33.110661604647, 12.71758533780032, 8.633117806791255, 1.1854898489130679, 5.559924349925192, 4.679639683490381, 1.8056226950914918, 0.6077798202573627, 7.3737276965693725, 27.55224649733075, 1.2065719648760638, 3.8451924485477034, 1.7936921141977669, 2.6053414567642323, 50.598662509136666, 0.18822662106109017, 20.512036404990358, 3.3507112564678616, 20.974316295540003, 0.09915522892091395, 0.0, null, 5.323126860437626, 0.11681866339549628, 87.45913830604657, 2.9614245955496763, 3.5351633490168384, 0.3482007732426938, null]}],\n",
       "                        {\"template\": {\"data\": {\"bar\": [{\"error_x\": {\"color\": \"#2a3f5f\"}, \"error_y\": {\"color\": \"#2a3f5f\"}, \"marker\": {\"line\": {\"color\": \"#E5ECF6\", \"width\": 0.5}}, \"type\": \"bar\"}], \"barpolar\": [{\"marker\": {\"line\": {\"color\": \"#E5ECF6\", \"width\": 0.5}}, \"type\": \"barpolar\"}], \"carpet\": [{\"aaxis\": {\"endlinecolor\": \"#2a3f5f\", \"gridcolor\": \"white\", \"linecolor\": \"white\", \"minorgridcolor\": \"white\", \"startlinecolor\": \"#2a3f5f\"}, \"baxis\": {\"endlinecolor\": \"#2a3f5f\", \"gridcolor\": \"white\", \"linecolor\": \"white\", \"minorgridcolor\": \"white\", \"startlinecolor\": \"#2a3f5f\"}, \"type\": \"carpet\"}], \"choropleth\": [{\"colorbar\": {\"outlinewidth\": 0, \"ticks\": \"\"}, \"type\": \"choropleth\"}], \"contour\": [{\"colorbar\": {\"outlinewidth\": 0, \"ticks\": \"\"}, \"colorscale\": [[0.0, \"#0d0887\"], [0.1111111111111111, \"#46039f\"], [0.2222222222222222, \"#7201a8\"], [0.3333333333333333, \"#9c179e\"], [0.4444444444444444, \"#bd3786\"], [0.5555555555555556, \"#d8576b\"], [0.6666666666666666, \"#ed7953\"], [0.7777777777777778, \"#fb9f3a\"], [0.8888888888888888, \"#fdca26\"], [1.0, \"#f0f921\"]], \"type\": \"contour\"}], \"contourcarpet\": [{\"colorbar\": {\"outlinewidth\": 0, \"ticks\": \"\"}, \"type\": \"contourcarpet\"}], \"heatmap\": [{\"colorbar\": {\"outlinewidth\": 0, \"ticks\": \"\"}, \"colorscale\": [[0.0, \"#0d0887\"], [0.1111111111111111, \"#46039f\"], [0.2222222222222222, \"#7201a8\"], [0.3333333333333333, \"#9c179e\"], [0.4444444444444444, \"#bd3786\"], [0.5555555555555556, \"#d8576b\"], [0.6666666666666666, \"#ed7953\"], [0.7777777777777778, \"#fb9f3a\"], [0.8888888888888888, \"#fdca26\"], [1.0, \"#f0f921\"]], \"type\": \"heatmap\"}], \"heatmapgl\": [{\"colorbar\": {\"outlinewidth\": 0, \"ticks\": \"\"}, \"colorscale\": [[0.0, \"#0d0887\"], [0.1111111111111111, \"#46039f\"], [0.2222222222222222, \"#7201a8\"], [0.3333333333333333, \"#9c179e\"], [0.4444444444444444, \"#bd3786\"], [0.5555555555555556, \"#d8576b\"], [0.6666666666666666, \"#ed7953\"], [0.7777777777777778, \"#fb9f3a\"], [0.8888888888888888, \"#fdca26\"], [1.0, \"#f0f921\"]], \"type\": \"heatmapgl\"}], \"histogram\": [{\"marker\": {\"colorbar\": {\"outlinewidth\": 0, \"ticks\": \"\"}}, \"type\": \"histogram\"}], \"histogram2d\": [{\"colorbar\": {\"outlinewidth\": 0, \"ticks\": \"\"}, \"colorscale\": [[0.0, \"#0d0887\"], [0.1111111111111111, \"#46039f\"], [0.2222222222222222, \"#7201a8\"], [0.3333333333333333, \"#9c179e\"], [0.4444444444444444, \"#bd3786\"], [0.5555555555555556, \"#d8576b\"], [0.6666666666666666, \"#ed7953\"], [0.7777777777777778, \"#fb9f3a\"], [0.8888888888888888, \"#fdca26\"], [1.0, \"#f0f921\"]], \"type\": \"histogram2d\"}], \"histogram2dcontour\": [{\"colorbar\": {\"outlinewidth\": 0, \"ticks\": \"\"}, \"colorscale\": [[0.0, \"#0d0887\"], [0.1111111111111111, \"#46039f\"], [0.2222222222222222, \"#7201a8\"], [0.3333333333333333, \"#9c179e\"], [0.4444444444444444, \"#bd3786\"], [0.5555555555555556, \"#d8576b\"], [0.6666666666666666, \"#ed7953\"], [0.7777777777777778, \"#fb9f3a\"], [0.8888888888888888, \"#fdca26\"], [1.0, \"#f0f921\"]], \"type\": \"histogram2dcontour\"}], \"mesh3d\": [{\"colorbar\": {\"outlinewidth\": 0, \"ticks\": \"\"}, \"type\": \"mesh3d\"}], \"parcoords\": [{\"line\": {\"colorbar\": {\"outlinewidth\": 0, \"ticks\": \"\"}}, \"type\": \"parcoords\"}], \"pie\": [{\"automargin\": true, \"type\": \"pie\"}], \"scatter\": [{\"marker\": {\"colorbar\": {\"outlinewidth\": 0, \"ticks\": \"\"}}, \"type\": \"scatter\"}], \"scatter3d\": [{\"line\": {\"colorbar\": {\"outlinewidth\": 0, \"ticks\": \"\"}}, \"marker\": {\"colorbar\": {\"outlinewidth\": 0, \"ticks\": \"\"}}, \"type\": \"scatter3d\"}], \"scattercarpet\": [{\"marker\": {\"colorbar\": {\"outlinewidth\": 0, \"ticks\": \"\"}}, \"type\": \"scattercarpet\"}], \"scattergeo\": [{\"marker\": {\"colorbar\": {\"outlinewidth\": 0, \"ticks\": \"\"}}, \"type\": \"scattergeo\"}], \"scattergl\": [{\"marker\": {\"colorbar\": {\"outlinewidth\": 0, \"ticks\": \"\"}}, \"type\": \"scattergl\"}], \"scattermapbox\": [{\"marker\": {\"colorbar\": {\"outlinewidth\": 0, \"ticks\": \"\"}}, \"type\": \"scattermapbox\"}], \"scatterpolar\": [{\"marker\": {\"colorbar\": {\"outlinewidth\": 0, \"ticks\": \"\"}}, \"type\": \"scatterpolar\"}], \"scatterpolargl\": [{\"marker\": {\"colorbar\": {\"outlinewidth\": 0, \"ticks\": \"\"}}, \"type\": \"scatterpolargl\"}], \"scatterternary\": [{\"marker\": {\"colorbar\": {\"outlinewidth\": 0, \"ticks\": \"\"}}, \"type\": \"scatterternary\"}], \"surface\": [{\"colorbar\": {\"outlinewidth\": 0, \"ticks\": \"\"}, \"colorscale\": [[0.0, \"#0d0887\"], [0.1111111111111111, \"#46039f\"], [0.2222222222222222, \"#7201a8\"], [0.3333333333333333, \"#9c179e\"], [0.4444444444444444, \"#bd3786\"], [0.5555555555555556, \"#d8576b\"], [0.6666666666666666, \"#ed7953\"], [0.7777777777777778, \"#fb9f3a\"], [0.8888888888888888, \"#fdca26\"], [1.0, \"#f0f921\"]], \"type\": \"surface\"}], \"table\": [{\"cells\": {\"fill\": {\"color\": \"#EBF0F8\"}, \"line\": {\"color\": \"white\"}}, \"header\": {\"fill\": {\"color\": \"#C8D4E3\"}, \"line\": {\"color\": \"white\"}}, \"type\": \"table\"}]}, \"layout\": {\"annotationdefaults\": {\"arrowcolor\": \"#2a3f5f\", \"arrowhead\": 0, \"arrowwidth\": 1}, \"coloraxis\": {\"colorbar\": {\"outlinewidth\": 0, \"ticks\": \"\"}}, \"colorscale\": {\"diverging\": [[0, \"#8e0152\"], [0.1, \"#c51b7d\"], [0.2, \"#de77ae\"], [0.3, \"#f1b6da\"], [0.4, \"#fde0ef\"], [0.5, \"#f7f7f7\"], [0.6, \"#e6f5d0\"], [0.7, \"#b8e186\"], [0.8, \"#7fbc41\"], [0.9, \"#4d9221\"], [1, \"#276419\"]], \"sequential\": [[0.0, \"#0d0887\"], [0.1111111111111111, \"#46039f\"], [0.2222222222222222, \"#7201a8\"], [0.3333333333333333, \"#9c179e\"], [0.4444444444444444, \"#bd3786\"], [0.5555555555555556, \"#d8576b\"], [0.6666666666666666, \"#ed7953\"], [0.7777777777777778, \"#fb9f3a\"], [0.8888888888888888, \"#fdca26\"], [1.0, \"#f0f921\"]], \"sequentialminus\": [[0.0, \"#0d0887\"], [0.1111111111111111, \"#46039f\"], [0.2222222222222222, \"#7201a8\"], [0.3333333333333333, \"#9c179e\"], [0.4444444444444444, \"#bd3786\"], [0.5555555555555556, \"#d8576b\"], [0.6666666666666666, \"#ed7953\"], [0.7777777777777778, \"#fb9f3a\"], [0.8888888888888888, \"#fdca26\"], [1.0, \"#f0f921\"]]}, \"colorway\": [\"#636efa\", \"#EF553B\", \"#00cc96\", \"#ab63fa\", \"#FFA15A\", \"#19d3f3\", \"#FF6692\", \"#B6E880\", \"#FF97FF\", \"#FECB52\"], \"font\": {\"color\": \"#2a3f5f\"}, \"geo\": {\"bgcolor\": \"white\", \"lakecolor\": \"white\", \"landcolor\": \"#E5ECF6\", \"showlakes\": true, \"showland\": true, \"subunitcolor\": \"white\"}, \"hoverlabel\": {\"align\": \"left\"}, \"hovermode\": \"closest\", \"mapbox\": {\"style\": \"light\"}, \"paper_bgcolor\": \"white\", \"plot_bgcolor\": \"#E5ECF6\", \"polar\": {\"angularaxis\": {\"gridcolor\": \"white\", \"linecolor\": \"white\", \"ticks\": \"\"}, \"bgcolor\": \"#E5ECF6\", \"radialaxis\": {\"gridcolor\": \"white\", \"linecolor\": \"white\", \"ticks\": \"\"}}, \"scene\": {\"xaxis\": {\"backgroundcolor\": \"#E5ECF6\", \"gridcolor\": \"white\", \"gridwidth\": 2, \"linecolor\": \"white\", \"showbackground\": true, \"ticks\": \"\", \"zerolinecolor\": \"white\"}, \"yaxis\": {\"backgroundcolor\": \"#E5ECF6\", \"gridcolor\": \"white\", \"gridwidth\": 2, \"linecolor\": \"white\", \"showbackground\": true, \"ticks\": \"\", \"zerolinecolor\": \"white\"}, \"zaxis\": {\"backgroundcolor\": \"#E5ECF6\", \"gridcolor\": \"white\", \"gridwidth\": 2, \"linecolor\": \"white\", \"showbackground\": true, \"ticks\": \"\", \"zerolinecolor\": \"white\"}}, \"shapedefaults\": {\"line\": {\"color\": \"#2a3f5f\"}}, \"ternary\": {\"aaxis\": {\"gridcolor\": \"white\", \"linecolor\": \"white\", \"ticks\": \"\"}, \"baxis\": {\"gridcolor\": \"white\", \"linecolor\": \"white\", \"ticks\": \"\"}, \"bgcolor\": \"#E5ECF6\", \"caxis\": {\"gridcolor\": \"white\", \"linecolor\": \"white\", \"ticks\": \"\"}}, \"title\": {\"x\": 0.05}, \"xaxis\": {\"automargin\": true, \"gridcolor\": \"white\", \"linecolor\": \"white\", \"ticks\": \"\", \"title\": {\"standoff\": 15}, \"zerolinecolor\": \"white\", \"zerolinewidth\": 2}, \"yaxis\": {\"automargin\": true, \"gridcolor\": \"white\", \"linecolor\": \"white\", \"ticks\": \"\", \"title\": {\"standoff\": 15}, \"zerolinecolor\": \"white\", \"zerolinewidth\": 2}}}},\n",
       "                        {\"responsive\": true}\n",
       "                    ).then(function(){\n",
       "                            \n",
       "var gd = document.getElementById('d641237f-215d-4224-bd56-a38db8310c30');\n",
       "var x = new MutationObserver(function (mutations, observer) {{\n",
       "        var display = window.getComputedStyle(gd).display;\n",
       "        if (!display || display === 'none') {{\n",
       "            console.log([gd, 'removed!']);\n",
       "            Plotly.purge(gd);\n",
       "            observer.disconnect();\n",
       "        }}\n",
       "}});\n",
       "\n",
       "// Listen for the removal of the full notebook cells\n",
       "var notebookContainer = gd.closest('#notebook-container');\n",
       "if (notebookContainer) {{\n",
       "    x.observe(notebookContainer, {childList: true});\n",
       "}}\n",
       "\n",
       "// Listen for the clearing of the current output cell\n",
       "var outputEl = gd.closest('.output');\n",
       "if (outputEl) {{\n",
       "    x.observe(outputEl, {childList: true});\n",
       "}}\n",
       "\n",
       "                        })\n",
       "                };\n",
       "                });\n",
       "            </script>\n",
       "        </div>"
      ]
     },
     "metadata": {},
     "output_type": "display_data"
    }
   ],
   "source": [
    "fig = go.Figure()\n",
    "\n",
    "\n",
    "fig.add_trace(go.Bar(\n",
    "    x=dg['Nome'],\n",
    "    y=od.drop(columns='Origem').sum(axis=1) / dg['População'],\n",
    "    name='Viagens Produzidas',\n",
    "    marker_color='lightsalmon'\n",
    "))"
   ]
  }
 ],
 "metadata": {
  "kernelspec": {
   "display_name": "Python 3",
   "language": "python",
   "name": "python3"
  },
  "language_info": {
   "codemirror_mode": {
    "name": "ipython",
    "version": 3
   },
   "file_extension": ".py",
   "mimetype": "text/x-python",
   "name": "python",
   "nbconvert_exporter": "python",
   "pygments_lexer": "ipython3",
   "version": "3.7.7"
  }
 },
 "nbformat": 4,
 "nbformat_minor": 4
}
