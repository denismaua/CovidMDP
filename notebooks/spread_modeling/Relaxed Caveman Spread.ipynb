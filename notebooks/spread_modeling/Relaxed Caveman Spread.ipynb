{
 "cells": [
  {
   "cell_type": "code",
   "execution_count": 2,
   "metadata": {},
   "outputs": [],
   "source": [
    "import os\n",
    "os.chdir(\"..\\\\..\\\\\")\n"
   ]
  },
  {
   "cell_type": "code",
   "execution_count": 3,
   "metadata": {},
   "outputs": [],
   "source": [
    "import networkx as nx\n",
    "import numpy as np\n",
    "from src.visualization.graph_plot_utils import plot_graph, plot_infection\n",
    "import collections, functools, operator \n",
    "import pandas as pd\n",
    "import matplotlib.pyplot as plt"
   ]
  },
  {
   "cell_type": "code",
   "execution_count": 25,
   "metadata": {},
   "outputs": [],
   "source": [
    "# Start with 1% of population infected\n",
    "def initial_infection(G, pct):\n",
    "    \"\"\"\n",
    "    Given a Graph G, infects pct% of population and set the remainder as susceptible.\n",
    "    This is considered day 0.\n",
    "    \"\"\"\n",
    "    size = int(len(G.nodes) * pct) \n",
    "    infected = np.random.choice(G.nodes, size = size)\n",
    "    \n",
    "    for node in G.nodes():\n",
    "        if node in infected: \n",
    "            G.nodes[node].update({'status' : 'infected',\n",
    "                                  'infection_day': 0, \n",
    "                                  'contacts_infected': 0})\n",
    "        else:\n",
    "            G.nodes[node].update({'status': 'susceptible', \n",
    "                                  'infection_day' : -1, \n",
    "                                  'contacts_infected': 0})\n",
    "        \n",
    "def spread_one_step(G, chance_to_infect = 0.3):\n",
    "    \"\"\"\n",
    "    Spreads the infection 1 step, to the susceptible neighbours of infected people\n",
    "    \"\"\"\n",
    "    newly_infected = []\n",
    "    for node, adjacencies in enumerate(G.adjacency()):\n",
    "        if G.nodes[node]['status'] == 'infected':\n",
    "            for contact in adjacencies[1].keys():\n",
    "                if G.nodes[contact]['status'] == 'susceptible' and np.random.random() < chance_to_infect:\n",
    "                        newly_infected.append(contact)\n",
    "     \n",
    "    for node in np.unique(newly_infected):\n",
    "        G.nodes[node].update({'status' : 'infected'})\n",
    "        \n",
    "    return len(newly_infected)\n",
    "\n",
    "\n",
    "def spread_one_step_modified(G, chance_to_infect = 0.3):\n",
    "    \"\"\"\n",
    "    Spreads the infection 1 step, to the susceptible neighbours of infected people\n",
    "    \"\"\"\n",
    "    newly_infected = []\n",
    "    for node, adjacencies in enumerate(G.adjacency()):\n",
    "        if G.nodes[node]['status'] == 'susceptible':\n",
    "            for contact in adjacencies[1].keys():\n",
    "                if G.nodes[contact]['status'] == 'infected' and np.random.random() < chance_to_infect:\n",
    "                        newly_infected.append(node)\n",
    "                        break\n",
    "     \n",
    "    for node in newly_infected:\n",
    "        G.nodes[node].update({'status' : 'infected'})\n",
    "        \n",
    "    return len(newly_infected)\n",
    "\n",
    "# The time for a single person to recover is estimated to be 12 days\n",
    "#The effective infection time window is estimated to bem around the 4 and the 6th day \n",
    "# Infection time window still not implemented\n",
    "def spread_one_step_with_recover(G, day, recover_time = 12, chance_to_infect = 0.5, infectious_window = [4,6],):\n",
    "    \"\"\"\n",
    "    Spreads the infection 1 step, to the susceptible neighbours of infected people\n",
    "    day is current day, infectious_window is at which days since infected the person in contagious\n",
    "    and recovery time is the time between someone getting infected to recovered\n",
    "\n",
    "    \"\"\"\n",
    "    \n",
    "    newly_infected = []\n",
    "    for node, adjacencies in enumerate(G.adjacency()):\n",
    "        if G.nodes[node]['status'] == 'infected':\n",
    "            if day - G.nodes[node]['infection_day'] >= recover_time: \n",
    "                G.nodes[node]['status'] = 'recovered'\n",
    "            else:\n",
    "                for contact in adjacencies[1].keys():\n",
    "                    if G.nodes[contact]['status'] == 'susceptible' and np.random.random() <= chance_to_infect:\n",
    "                            newly_infected.append(contact)\n",
    "                            G.nodes[node]['contacts_infected'] += 1\n",
    "     \n",
    "    for node in np.unique(newly_infected):\n",
    "        G.nodes[node].update({'status' : 'infected', 'infection_day': day})\n",
    "        \n",
    "    return len(newly_infected)\n",
    "\n",
    "\n",
    "# The time for a single person to recover is estimated to be 12 days\n",
    "#The effective infection time window is estimated to bem around the 4 and the 6th day \n",
    "# Infection time window still not implemented\n",
    "def spread_one_step_with_recover_modified(G, day, recover_time = 12, chance_to_infect = 0.5, infectious_window = [4,6],):\n",
    "    \"\"\"\n",
    "    Spreads the infection 1 step, to the susceptible neighbours of infected people\n",
    "    day is current day, infectious_window is at which days since infected the person in contagious\n",
    "    and recovery time is the time between someone getting infected to recovered\n",
    "\n",
    "    \"\"\"\n",
    "    \n",
    "    newly_infected = []\n",
    "    \n",
    "    # Recover patients\n",
    "    for node, adjacencies in enumerate(G.adjacency()):\n",
    "        if G.nodes[node]['status'] == 'infected':\n",
    "            if day - G.nodes[node]['infection_day'] >= recover_time: \n",
    "                G.nodes[node]['status'] = 'recovered'\n",
    "    \n",
    "    for node, adjacencies in enumerate(G.adjacency()):\n",
    "        if G.nodes[node]['status'] == 'susceptible':\n",
    "            for contact in adjacencies[1].keys():\n",
    "                if G.nodes[contact]['status'] == 'infected' and np.random.random() < chance_to_infect:\n",
    "                        newly_infected.append(node)\n",
    "                        G.nodes[contact]['contacts_infected'] += 1\n",
    "                        break  \n",
    "     \n",
    "    for node in np.unique(newly_infected):\n",
    "        G.nodes[node].update({'status' : 'infected', 'infection_day': day})\n",
    "        \n",
    "    return len(newly_infected)\n",
    "\n",
    "\n",
    "def current_status(G):\n",
    "    \"\"\"\n",
    "    Returns a dict containing the current status of susceptible, infected and recovered\n",
    "    \"\"\"\n",
    "    nodes = np.array(G.nodes(data=True))[:,1]\n",
    "    result = collections.Counter(node['status'] for node in nodes)\n",
    "    return result\n",
    "\n",
    "def simulate_pandemic(G, recover_time = 12, chance_to_infect=0.5):\n",
    "    \"\"\"\n",
    "    Runs the course of the pandemic from the start until\n",
    "    90% of the population is simultaneously infected or no one is infected\n",
    "    \"\"\"\n",
    "\n",
    "    pop = len(G.nodes)\n",
    "    i = current_status(G)['infected'] / pop\n",
    "    s = (pop - i) / pop\n",
    "    newly_infected = pop * .05\n",
    "    r = 0\n",
    "    contacts_infected = 0\n",
    "\n",
    "    status = current_status(G)\n",
    "    data = [[s,i, r, newly_infected, contacts_infected]]\n",
    "    day = 0\n",
    "    while status['infected'] < 0.9*pop and status['recovered'] + status['susceptible'] < pop:\n",
    "        day +=1\n",
    "        newly_infected = spread_one_step_with_recover(G, day, recover_time, chance_to_infect)\n",
    "       \n",
    "        status = current_status(G)\n",
    "        i = status['infected'] / pop\n",
    "        s = status['susceptible'] / pop\n",
    "        r = status['recovered'] / pop\n",
    "        \n",
    "        contacts_infected = [node['contacts_infected'] for i, node in G.nodes(data=True) if node['status'] == 'recovered']\n",
    "        if len(contacts_infected) > 0: \n",
    "            contacts_infected = np.mean(contacts_infected)\n",
    "        else:\n",
    "            contacts_infected = np.nan\n",
    "        data.append([s, i, r, newly_infected, contacts_infected])\n",
    "    columns = ['susceptible', 'infected', 'recovered', 'newly_infected', 'contacts_infected_mean']\n",
    "\n",
    "    time_series = pd.DataFrame(data, columns=columns)\n",
    "    \n",
    "    return time_series"
   ]
  },
  {
   "cell_type": "code",
   "execution_count": 16,
   "metadata": {},
   "outputs": [
    {
     "data": {
      "application/vnd.plotly.v1+json": {
       "config": {
        "plotlyServerURL": "https://plot.ly"
       },
       "data": [
        {
         "hoverinfo": "none",
         "line": {
          "color": "#888",
          "width": 0.5
         },
         "mode": "lines",
         "type": "scatter",
         "x": [
          -0.27226271666409685,
          -0.3183543942115033,
          null,
          -0.27226271666409685,
          -0.26187909015294736,
          null,
          -0.27226271666409685,
          -0.14772931770685166,
          null,
          -0.27226271666409685,
          -0.3483644152626338,
          null,
          -0.3183543942115033,
          -0.3339614074973909,
          null,
          -0.3183543942115033,
          -0.3339614074973904,
          null,
          -0.3339614074973909,
          -0.3339614074973904,
          null,
          0.4089012749516789,
          0.35424683717121147,
          null,
          0.4089012749516789,
          0.4172932906944177,
          null,
          0.4089012749516789,
          0.4518192620020418,
          null,
          0.4089012749516789,
          0.5103575445106866,
          null,
          0.4089012749516789,
          0.29168026342869124,
          null,
          -0.008823159166156076,
          -0.00841082660545125,
          null,
          -0.008823159166156076,
          -0.008823159166156022,
          null,
          -0.00841082660545125,
          -0.008823159166156022,
          null,
          -0.00841082660545125,
          -0.007193098454512092,
          null,
          0.4019383351616079,
          0.41941609588563633,
          null,
          0.4019383351616079,
          0.41941609588563655,
          null,
          0.4019383351616079,
          0.4172932906944177,
          null,
          0.4019383351616079,
          0.3328440801867987,
          null,
          0.41941609588563633,
          0.41941609588563655,
          null,
          0.41941609588563633,
          0.4172932906944177,
          null,
          0.41941609588563655,
          0.4172932906944177,
          null,
          0.35024239726644746,
          0.39599988136785985,
          null,
          0.35024239726644746,
          0.35424683717121147,
          null,
          0.35024239726644746,
          0.23051739632220133,
          null,
          0.35024239726644746,
          0.40383760167583554,
          null,
          0.40383760167583554,
          0.39599988136785985,
          null,
          0.40383760167583554,
          0.44639799000665464,
          null,
          0.39599988136785985,
          0.4154133888365574,
          null,
          -0.060386508202544244,
          -0.14772931770685166,
          null,
          -0.060386508202544244,
          -0.11622792949565457,
          null,
          -0.060386508202544244,
          0.08561976434774808,
          null,
          -0.14772931770685166,
          -0.11622792949565457,
          null,
          -0.14772931770685166,
          -0.135136284547995,
          null,
          -0.11622792949565457,
          -0.135136284547995,
          null,
          0.46439605548506385,
          0.48716261859728405,
          null,
          0.46439605548506385,
          0.48716261859728505,
          null,
          0.46439605548506385,
          0.4871626185972847,
          null,
          0.46439605548506385,
          0.37439375247762097,
          null,
          0.48716261859728405,
          0.48716261859728505,
          null,
          0.48716261859728405,
          0.4871626185972847,
          null,
          0.48716261859728505,
          0.4871626185972847,
          null,
          -0.24554430001104072,
          -0.2642132184005351,
          null,
          -0.24554430001104072,
          -0.2642132184005356,
          null,
          -0.24554430001104072,
          -0.19673144526137018,
          null,
          -0.27053466454530467,
          -0.2642132184005351,
          null,
          -0.27053466454530467,
          -0.2642132184005356,
          null,
          -0.2642132184005351,
          -0.2642132184005356,
          null,
          -0.11088522407069115,
          -0.19673144526137018,
          null,
          -0.11088522407069115,
          -0.15198406028335298,
          null,
          -0.11088522407069115,
          -0.20149442368234485,
          null,
          -0.11088522407069115,
          0.11185103040397959,
          null,
          -0.19673144526137018,
          -0.17852935762523728,
          null,
          -0.19673144526137018,
          -0.24277305175308472,
          null,
          -0.15198406028335298,
          -0.17852935762523728,
          null,
          -0.15198406028335298,
          -0.1594349304180616,
          null,
          0.2459154254325436,
          0.2616733660606841,
          null,
          0.2459154254325436,
          0.29168026342869124,
          null,
          0.2459154254325436,
          0.17290028503900107,
          null,
          -0.25836311057618994,
          -0.24277305175308472,
          null,
          -0.25836311057618994,
          -0.26187909015294736,
          null,
          -0.24277305175308472,
          -0.26187909015294736,
          null,
          0.5491604136772856,
          0.5103575445106866,
          null,
          0.5491604136772856,
          0.5491604136772859,
          null,
          0.5491604136772856,
          0.5622993777340993,
          null,
          0.5103575445106866,
          0.5491604136772859,
          null,
          0.5491604136772859,
          0.5622993777340993,
          null,
          -0.8799863468407654,
          -0.9468923727281564,
          null,
          -0.8799863468407654,
          -0.9468923727281555,
          null,
          -0.8799863468407654,
          -0.7050499067438151,
          null,
          -0.9468923727281564,
          -0.9695472920214752,
          null,
          -0.9468923727281564,
          -0.9468923727281555,
          null,
          -0.9695472920214752,
          -0.9468923727281555,
          null,
          -0.34499407459945586,
          -0.20149442368234485,
          null,
          -0.34499407459945586,
          -0.47237112276981796,
          null,
          -0.34499407459945586,
          -0.34499407459945597,
          null,
          -0.20149442368234485,
          -0.34499407459945597,
          null,
          -0.20149442368234485,
          0.004312114322451594,
          null,
          -0.47237112276981796,
          -0.34499407459945597,
          null,
          -0.47237112276981796,
          -0.7050499067438151,
          null,
          0.06357862333133248,
          -0.07641093713071428,
          null,
          0.06357862333133248,
          -0.007193098454512092,
          null,
          0.06357862333133248,
          0.06669550325217552,
          null,
          0.06357862333133248,
          0.26825180683861205,
          null,
          -0.07641093713071428,
          -0.007193098454512092,
          null,
          -0.07641093713071428,
          -0.28204742512709624,
          null,
          0.37439375247762097,
          0.26825180683861205,
          null,
          0.37439375247762097,
          0.37303685767134925,
          null,
          0.26825180683861205,
          0.35424683717121147,
          null,
          0.35424683717121147,
          0.37303685767134925,
          null,
          0.13235264167036367,
          0.13235264167036345,
          null,
          0.13235264167036367,
          0.08561976434774808,
          null,
          0.13235264167036367,
          0.17290028503900107,
          null,
          0.13235264167036345,
          0.08561976434774808,
          null,
          0.13235264167036345,
          0.17290028503900107,
          null,
          0.08561976434774808,
          0.13415901513118364,
          null,
          -0.35083950951371157,
          -0.3483644152626338,
          null,
          -0.35083950951371157,
          -0.4057109107853109,
          null,
          -0.35083950951371157,
          -0.28204742512709624,
          null,
          -0.3483644152626338,
          -0.4057109107853109,
          null,
          -0.4057109107853109,
          -0.28204742512709624,
          null,
          -0.4057109107853109,
          -0.6226322115256507,
          null,
          0.4518192620020418,
          0.44639799000665464,
          null,
          0.4518192620020418,
          0.46818732448753114,
          null,
          0.4518192620020418,
          0.4626755959866384,
          null,
          0.44639799000665464,
          0.4626755959866384,
          null,
          0.46818732448753114,
          0.4626755959866384,
          null,
          0.13415901513118364,
          0.1433371850961388,
          null,
          0.13415901513118364,
          0.07089206358169219,
          null,
          0.13415901513118364,
          0.23051739632220133,
          null,
          0.1433371850961388,
          0.004312114322451594,
          null,
          0.1433371850961388,
          0.20819943312059092,
          null,
          0.1433371850961388,
          0.21997960335851438,
          null,
          0.07089206358169219,
          0.004312114322451594,
          null,
          -0.7050499067438151,
          -0.7586553831035926,
          null,
          -0.7050499067438151,
          -0.7586553831035933,
          null,
          -0.7050499067438151,
          -0.6226322115256507,
          null,
          -0.7586553831035926,
          -0.7586553831035933,
          null,
          -0.7586553831035926,
          -0.7768066291909785,
          null,
          -0.7586553831035933,
          -0.7768066291909785,
          null,
          -0.6226322115256507,
          -0.7280383555467486,
          null,
          -0.763729724958485,
          -0.7280383555467486,
          null,
          -0.763729724958485,
          -0.763729724958485,
          null,
          -0.7280383555467486,
          -0.763729724958485,
          null,
          0.252891287793442,
          0.2634379476924268,
          null,
          0.252891287793442,
          0.263437947692427,
          null,
          0.252891287793442,
          0.21997960335851438,
          null,
          0.2616733660606841,
          0.2634379476924268,
          null,
          0.2616733660606841,
          0.263437947692427,
          null,
          0.2634379476924268,
          0.263437947692427,
          null,
          0.21997960335851438,
          0.23670481857331968,
          null,
          0.21997960335851438,
          0.23670481857331988,
          null,
          0.24236811116661547,
          0.23670481857331968,
          null,
          0.24236811116661547,
          0.23670481857331988,
          null,
          0.23670481857331968,
          0.23670481857331988,
          null,
          0.29051955407640606,
          0.3328440801867987,
          null,
          0.29051955407640606,
          0.2346181821434441,
          null,
          0.29051955407640606,
          0.290519554076406,
          null,
          0.3328440801867987,
          0.290519554076406,
          null,
          0.2346181821434441,
          0.290519554076406,
          null,
          0.2346181821434441,
          0.11185103040397959,
          null,
          0.11185103040397959,
          0.20659300066709474,
          null,
          0.29168026342869124,
          0.20659300066709474,
          null,
          0.22460668508976397,
          0.23051739632220133,
          null,
          0.22460668508976397,
          0.2246066850897637,
          null,
          0.22460668508976397,
          0.20819943312059092,
          null,
          0.23051739632220133,
          0.2246066850897637,
          null,
          0.23051739632220133,
          0.20819943312059092,
          null,
          0.2246066850897637,
          0.20819943312059092,
          null
         ],
         "y": [
          0.12348013939073799,
          0.15262506006212107,
          null,
          0.12348013939073799,
          0.2795366957678725,
          null,
          0.12348013939073799,
          0.20174695624782307,
          null,
          0.12348013939073799,
          -0.14752165893957198,
          null,
          0.15262506006212107,
          0.16254170460843684,
          null,
          0.15262506006212107,
          0.1625417046084369,
          null,
          0.16254170460843684,
          0.1625417046084369,
          null,
          -0.026141322292026058,
          -0.28707296960167333,
          null,
          -0.026141322292026058,
          0.08480892122523923,
          null,
          -0.026141322292026058,
          -0.054263737754209826,
          null,
          -0.026141322292026058,
          -0.03555698732677712,
          null,
          -0.026141322292026058,
          0.16297304007344743,
          null,
          -1,
          -0.9389901528951963,
          null,
          -1,
          -0.9999999999999993,
          null,
          -0.9389901528951963,
          -0.9999999999999993,
          null,
          -0.9389901528951963,
          -0.7596828130245481,
          null,
          0.13425062600302218,
          0.11297610093644384,
          null,
          0.13425062600302218,
          0.11297610093644236,
          null,
          0.13425062600302218,
          0.08480892122523923,
          null,
          0.13425062600302218,
          0.21805077074779103,
          null,
          0.11297610093644384,
          0.11297610093644236,
          null,
          0.11297610093644384,
          0.08480892122523923,
          null,
          0.11297610093644236,
          0.08480892122523923,
          null,
          -0.08194612126979725,
          -0.0863700350443343,
          null,
          -0.08194612126979725,
          -0.28707296960167333,
          null,
          -0.08194612126979725,
          0.1305707685401578,
          null,
          -0.08194612126979725,
          -0.07991272864383574,
          null,
          -0.07991272864383574,
          -0.0863700350443343,
          null,
          -0.07991272864383574,
          -0.06654656626108615,
          null,
          -0.0863700350443343,
          -0.09198183258687857,
          null,
          0.2312400546357539,
          0.20174695624782307,
          null,
          0.2312400546357539,
          0.22161672332493956,
          null,
          0.2312400546357539,
          0.25624856395666595,
          null,
          0.20174695624782307,
          0.22161672332493956,
          null,
          0.20174695624782307,
          0.21834235668531812,
          null,
          0.22161672332493956,
          0.21834235668531812,
          null,
          -0.861713533616357,
          -0.917702417814951,
          null,
          -0.861713533616357,
          -0.9177024178149508,
          null,
          -0.861713533616357,
          -0.9177024178149508,
          null,
          -0.861713533616357,
          -0.6411738700864933,
          null,
          -0.917702417814951,
          -0.9177024178149508,
          null,
          -0.917702417814951,
          -0.9177024178149508,
          null,
          -0.9177024178149508,
          -0.9177024178149508,
          null,
          0.628204213318646,
          0.6922166737188795,
          null,
          0.628204213318646,
          0.6922166737188784,
          null,
          0.628204213318646,
          0.4618526495130149,
          null,
          0.7139971006921282,
          0.6922166737188795,
          null,
          0.7139971006921282,
          0.6922166737188784,
          null,
          0.6922166737188795,
          0.6922166737188784,
          null,
          0.36019300484395506,
          0.4618526495130149,
          null,
          0.36019300484395506,
          0.44054514489749413,
          null,
          0.36019300484395506,
          0.2203769917658296,
          null,
          0.36019300484395506,
          0.29602191304572695,
          null,
          0.4618526495130149,
          0.46539575926319104,
          null,
          0.4618526495130149,
          0.3654400610945338,
          null,
          0.44054514489749413,
          0.46539575926319104,
          null,
          0.44054514489749413,
          0.4691690786523746,
          null,
          0.26839892417811356,
          0.3465810262861088,
          null,
          0.26839892417811356,
          0.16297304007344743,
          null,
          0.26839892417811356,
          0.27926772884758444,
          null,
          0.3326353957493602,
          0.3654400610945338,
          null,
          0.3326353957493602,
          0.2795366957678725,
          null,
          0.3654400610945338,
          0.2795366957678725,
          null,
          -0.039180156663993486,
          -0.03555698732677712,
          null,
          -0.039180156663993486,
          -0.03918015666399307,
          null,
          -0.039180156663993486,
          -0.04041295063359795,
          null,
          -0.03555698732677712,
          -0.03918015666399307,
          null,
          -0.03918015666399307,
          -0.04041295063359795,
          null,
          -0.22209207345525195,
          -0.2447227081371781,
          null,
          -0.22209207345525195,
          -0.24472270813717859,
          null,
          -0.22209207345525195,
          -0.16328100064670564,
          null,
          -0.2447227081371781,
          -0.25242284781258034,
          null,
          -0.2447227081371781,
          -0.24472270813717859,
          null,
          -0.25242284781258034,
          -0.24472270813717859,
          null,
          0.13096719081171407,
          0.2203769917658296,
          null,
          0.13096719081171407,
          0.03356710157042851,
          null,
          0.13096719081171407,
          0.13096719081171335,
          null,
          0.2203769917658296,
          0.13096719081171335,
          null,
          0.2203769917658296,
          0.2459354140228858,
          null,
          0.03356710157042851,
          0.13096719081171335,
          null,
          0.03356710157042851,
          -0.16328100064670564,
          null,
          -0.6704556722823025,
          -0.6232544816253678,
          null,
          -0.6704556722823025,
          -0.7596828130245481,
          null,
          -0.6704556722823025,
          -0.7140177883815733,
          null,
          -0.6704556722823025,
          -0.5439632080412349,
          null,
          -0.6232544816253678,
          -0.7596828130245481,
          null,
          -0.6232544816253678,
          -0.4016002989379064,
          null,
          -0.6411738700864933,
          -0.5439632080412349,
          null,
          -0.6411738700864933,
          -0.47872694882032213,
          null,
          -0.5439632080412349,
          -0.28707296960167333,
          null,
          -0.28707296960167333,
          -0.47872694882032213,
          null,
          0.2761830904631702,
          0.27618309046317085,
          null,
          0.2761830904631702,
          0.25624856395666595,
          null,
          0.2761830904631702,
          0.27926772884758444,
          null,
          0.27618309046317085,
          0.25624856395666595,
          null,
          0.27618309046317085,
          0.27926772884758444,
          null,
          0.25624856395666595,
          0.2257543345567546,
          null,
          -0.2808249722120623,
          -0.14752165893957198,
          null,
          -0.2808249722120623,
          -0.276219870140841,
          null,
          -0.2808249722120623,
          -0.4016002989379064,
          null,
          -0.14752165893957198,
          -0.276219870140841,
          null,
          -0.276219870140841,
          -0.4016002989379064,
          null,
          -0.276219870140841,
          -0.25808041842922436,
          null,
          -0.054263737754209826,
          -0.06654656626108615,
          null,
          -0.054263737754209826,
          -0.059653203567731405,
          null,
          -0.054263737754209826,
          -0.061403236552274,
          null,
          -0.06654656626108615,
          -0.061403236552274,
          null,
          -0.059653203567731405,
          -0.061403236552274,
          null,
          0.2257543345567546,
          0.25915909318360314,
          null,
          0.2257543345567546,
          0.24326567511203506,
          null,
          0.2257543345567546,
          0.1305707685401578,
          null,
          0.25915909318360314,
          0.2459354140228858,
          null,
          0.25915909318360314,
          0.18036265733196852,
          null,
          0.25915909318360314,
          0.36877271017185,
          null,
          0.24326567511203506,
          0.2459354140228858,
          null,
          -0.16328100064670564,
          -0.17991893201745152,
          null,
          -0.16328100064670564,
          -0.17991893201745127,
          null,
          -0.16328100064670564,
          -0.25808041842922436,
          null,
          -0.17991893201745152,
          -0.17991893201745127,
          null,
          -0.17991893201745152,
          -0.1855800368545507,
          null,
          -0.17991893201745127,
          -0.1855800368545507,
          null,
          -0.25808041842922436,
          -0.31899493763101283,
          null,
          -0.3397212810458703,
          -0.31899493763101283,
          null,
          -0.3397212810458703,
          -0.3397212810458696,
          null,
          -0.31899493763101283,
          -0.3397212810458696,
          null,
          0.38073350069805983,
          0.3750996496285345,
          null,
          0.38073350069805983,
          0.37509964962853587,
          null,
          0.38073350069805983,
          0.36877271017185,
          null,
          0.3465810262861088,
          0.3750996496285345,
          null,
          0.3465810262861088,
          0.37509964962853587,
          null,
          0.3750996496285345,
          0.37509964962853587,
          null,
          0.36877271017185,
          0.4063497400708631,
          null,
          0.36877271017185,
          0.40634974007086394,
          null,
          0.4191354344570789,
          0.4063497400708631,
          null,
          0.4191354344570789,
          0.40634974007086394,
          null,
          0.4063497400708631,
          0.40634974007086394,
          null,
          0.25329922102797436,
          0.21805077074779103,
          null,
          0.25329922102797436,
          0.27309392456147286,
          null,
          0.25329922102797436,
          0.2532992210279742,
          null,
          0.21805077074779103,
          0.2532992210279742,
          null,
          0.27309392456147286,
          0.2532992210279742,
          null,
          0.27309392456147286,
          0.29602191304572695,
          null,
          0.29602191304572695,
          0.23671855807716383,
          null,
          0.16297304007344743,
          0.23671855807716383,
          null,
          0.16035843472843878,
          0.1305707685401578,
          null,
          0.16035843472843878,
          0.16035843472843864,
          null,
          0.16035843472843878,
          0.18036265733196852,
          null,
          0.1305707685401578,
          0.16035843472843864,
          null,
          0.1305707685401578,
          0.18036265733196852,
          null,
          0.16035843472843864,
          0.18036265733196852,
          null
         ]
        },
        {
         "hoverinfo": "text",
         "marker": {
          "color": [
           "blue",
           "blue",
           "blue",
           "blue",
           "blue",
           "blue",
           "blue",
           "blue",
           "blue",
           "blue",
           "blue",
           "blue",
           "blue",
           "blue",
           "blue",
           "blue",
           "blue",
           "blue",
           "blue",
           "blue",
           "blue",
           "blue",
           "red",
           "blue",
           "blue",
           "blue",
           "blue",
           "blue",
           "blue",
           "blue",
           "blue",
           "blue",
           "blue",
           "blue",
           "blue",
           "blue",
           "blue",
           "blue",
           "blue",
           "blue",
           "blue",
           "blue",
           "blue",
           "red",
           "blue",
           "blue",
           "blue",
           "blue",
           "blue",
           "blue",
           "blue",
           "blue",
           "blue",
           "blue",
           "red",
           "blue",
           "blue",
           "blue",
           "blue",
           "blue",
           "blue",
           "blue",
           "blue",
           "blue",
           "blue",
           "blue",
           "blue",
           "blue",
           "blue",
           "blue",
           "blue",
           "blue",
           "blue",
           "blue",
           "blue",
           "blue",
           "blue",
           "blue",
           "blue",
           "blue",
           "blue",
           "blue",
           "blue",
           "blue",
           "blue",
           "blue",
           "blue",
           "red",
           "blue",
           "blue",
           "blue",
           "blue",
           "blue",
           "red",
           "blue",
           "blue",
           "blue",
           "blue",
           "blue",
           "blue"
          ],
          "line": {
           "width": 2
          },
          "size": 10
         },
         "mode": "markers",
         "text": [
          "Infected: True",
          "Infected: True",
          "Infected: True",
          "Infected: True",
          "Infected: True",
          "Infected: True",
          "Infected: True",
          "Infected: True",
          "Infected: True",
          "Infected: True",
          "Infected: True",
          "Infected: True",
          "Infected: True",
          "Infected: True",
          "Infected: True",
          "Infected: True",
          "Infected: True",
          "Infected: True",
          "Infected: True",
          "Infected: True",
          "Infected: True",
          "Infected: True",
          "Infected: True",
          "Infected: True",
          "Infected: True",
          "Infected: True",
          "Infected: True",
          "Infected: True",
          "Infected: True",
          "Infected: True",
          "Infected: True",
          "Infected: True",
          "Infected: True",
          "Infected: True",
          "Infected: True",
          "Infected: True",
          "Infected: True",
          "Infected: True",
          "Infected: True",
          "Infected: True",
          "Infected: True",
          "Infected: True",
          "Infected: True",
          "Infected: True",
          "Infected: True",
          "Infected: True",
          "Infected: True",
          "Infected: True",
          "Infected: True",
          "Infected: True",
          "Infected: True",
          "Infected: True",
          "Infected: True",
          "Infected: True",
          "Infected: True",
          "Infected: True",
          "Infected: True",
          "Infected: True",
          "Infected: True",
          "Infected: True",
          "Infected: True",
          "Infected: True",
          "Infected: True",
          "Infected: True",
          "Infected: True",
          "Infected: True",
          "Infected: True",
          "Infected: True",
          "Infected: True",
          "Infected: True",
          "Infected: True",
          "Infected: True",
          "Infected: True",
          "Infected: True",
          "Infected: True",
          "Infected: True",
          "Infected: True",
          "Infected: True",
          "Infected: True",
          "Infected: True",
          "Infected: True",
          "Infected: True",
          "Infected: True",
          "Infected: True",
          "Infected: True",
          "Infected: True",
          "Infected: True",
          "Infected: True",
          "Infected: True",
          "Infected: True",
          "Infected: True",
          "Infected: True",
          "Infected: True",
          "Infected: True",
          "Infected: True",
          "Infected: True",
          "Infected: True",
          "Infected: True",
          "Infected: True",
          "Infected: True"
         ],
         "type": "scatter",
         "x": [
          -0.27226271666409685,
          -0.3183543942115033,
          -0.3339614074973909,
          -0.3339614074973904,
          0.4089012749516789,
          -0.008823159166156076,
          -0.00841082660545125,
          -0.008823159166156022,
          0.4019383351616079,
          0.41941609588563633,
          0.41941609588563655,
          0.4172932906944177,
          0.35024239726644746,
          0.40383760167583554,
          0.39599988136785985,
          0.4154133888365574,
          -0.060386508202544244,
          -0.14772931770685166,
          -0.11622792949565457,
          -0.135136284547995,
          0.46439605548506385,
          0.48716261859728405,
          0.48716261859728505,
          0.4871626185972847,
          -0.24554430001104072,
          -0.27053466454530467,
          -0.2642132184005351,
          -0.2642132184005356,
          -0.11088522407069115,
          -0.19673144526137018,
          -0.15198406028335298,
          -0.17852935762523728,
          0.2459154254325436,
          -0.25836311057618994,
          -0.24277305175308472,
          -0.26187909015294736,
          0.5491604136772856,
          0.5103575445106866,
          0.5491604136772859,
          0.5622993777340993,
          -0.8799863468407654,
          -0.9468923727281564,
          -0.9695472920214752,
          -0.9468923727281555,
          -0.34499407459945586,
          -0.20149442368234485,
          -0.47237112276981796,
          -0.34499407459945597,
          0.06357862333133248,
          -0.07641093713071428,
          -0.007193098454512092,
          0.06669550325217552,
          0.37439375247762097,
          0.26825180683861205,
          0.35424683717121147,
          0.37303685767134925,
          0.13235264167036367,
          0.13235264167036345,
          0.08561976434774808,
          0.17290028503900107,
          -0.35083950951371157,
          -0.3483644152626338,
          -0.4057109107853109,
          -0.28204742512709624,
          0.4518192620020418,
          0.44639799000665464,
          0.46818732448753114,
          0.4626755959866384,
          0.13415901513118364,
          0.1433371850961388,
          0.07089206358169219,
          0.004312114322451594,
          -0.7050499067438151,
          -0.7586553831035926,
          -0.7586553831035933,
          -0.7768066291909785,
          -0.6226322115256507,
          -0.763729724958485,
          -0.7280383555467486,
          -0.763729724958485,
          0.252891287793442,
          0.2616733660606841,
          0.2634379476924268,
          0.263437947692427,
          0.21997960335851438,
          0.24236811116661547,
          0.23670481857331968,
          0.23670481857331988,
          0.29051955407640606,
          0.3328440801867987,
          0.2346181821434441,
          0.290519554076406,
          0.11185103040397959,
          0.29168026342869124,
          -0.1594349304180616,
          0.20659300066709474,
          0.22460668508976397,
          0.23051739632220133,
          0.2246066850897637,
          0.20819943312059092
         ],
         "y": [
          0.12348013939073799,
          0.15262506006212107,
          0.16254170460843684,
          0.1625417046084369,
          -0.026141322292026058,
          -1,
          -0.9389901528951963,
          -0.9999999999999993,
          0.13425062600302218,
          0.11297610093644384,
          0.11297610093644236,
          0.08480892122523923,
          -0.08194612126979725,
          -0.07991272864383574,
          -0.0863700350443343,
          -0.09198183258687857,
          0.2312400546357539,
          0.20174695624782307,
          0.22161672332493956,
          0.21834235668531812,
          -0.861713533616357,
          -0.917702417814951,
          -0.9177024178149508,
          -0.9177024178149508,
          0.628204213318646,
          0.7139971006921282,
          0.6922166737188795,
          0.6922166737188784,
          0.36019300484395506,
          0.4618526495130149,
          0.44054514489749413,
          0.46539575926319104,
          0.26839892417811356,
          0.3326353957493602,
          0.3654400610945338,
          0.2795366957678725,
          -0.039180156663993486,
          -0.03555698732677712,
          -0.03918015666399307,
          -0.04041295063359795,
          -0.22209207345525195,
          -0.2447227081371781,
          -0.25242284781258034,
          -0.24472270813717859,
          0.13096719081171407,
          0.2203769917658296,
          0.03356710157042851,
          0.13096719081171335,
          -0.6704556722823025,
          -0.6232544816253678,
          -0.7596828130245481,
          -0.7140177883815733,
          -0.6411738700864933,
          -0.5439632080412349,
          -0.28707296960167333,
          -0.47872694882032213,
          0.2761830904631702,
          0.27618309046317085,
          0.25624856395666595,
          0.27926772884758444,
          -0.2808249722120623,
          -0.14752165893957198,
          -0.276219870140841,
          -0.4016002989379064,
          -0.054263737754209826,
          -0.06654656626108615,
          -0.059653203567731405,
          -0.061403236552274,
          0.2257543345567546,
          0.25915909318360314,
          0.24326567511203506,
          0.2459354140228858,
          -0.16328100064670564,
          -0.17991893201745152,
          -0.17991893201745127,
          -0.1855800368545507,
          -0.25808041842922436,
          -0.3397212810458703,
          -0.31899493763101283,
          -0.3397212810458696,
          0.38073350069805983,
          0.3465810262861088,
          0.3750996496285345,
          0.37509964962853587,
          0.36877271017185,
          0.4191354344570789,
          0.4063497400708631,
          0.40634974007086394,
          0.25329922102797436,
          0.21805077074779103,
          0.27309392456147286,
          0.2532992210279742,
          0.29602191304572695,
          0.16297304007344743,
          0.4691690786523746,
          0.23671855807716383,
          0.16035843472843878,
          0.1305707685401578,
          0.16035843472843864,
          0.18036265733196852
         ]
        }
       ],
       "layout": {
        "annotations": [
         {
          "showarrow": false,
          "text": "Python code: <a href='https://plotly.com/ipython-notebooks/network-graphs/'> https://plotly.com/ipython-notebooks/network-graphs/</a>",
          "x": 0.005,
          "xref": "paper",
          "y": -0.002,
          "yref": "paper"
         }
        ],
        "hovermode": "closest",
        "margin": {
         "b": 20,
         "l": 5,
         "r": 5,
         "t": 40
        },
        "showlegend": false,
        "template": {
         "data": {
          "bar": [
           {
            "error_x": {
             "color": "#2a3f5f"
            },
            "error_y": {
             "color": "#2a3f5f"
            },
            "marker": {
             "line": {
              "color": "#E5ECF6",
              "width": 0.5
             }
            },
            "type": "bar"
           }
          ],
          "barpolar": [
           {
            "marker": {
             "line": {
              "color": "#E5ECF6",
              "width": 0.5
             }
            },
            "type": "barpolar"
           }
          ],
          "carpet": [
           {
            "aaxis": {
             "endlinecolor": "#2a3f5f",
             "gridcolor": "white",
             "linecolor": "white",
             "minorgridcolor": "white",
             "startlinecolor": "#2a3f5f"
            },
            "baxis": {
             "endlinecolor": "#2a3f5f",
             "gridcolor": "white",
             "linecolor": "white",
             "minorgridcolor": "white",
             "startlinecolor": "#2a3f5f"
            },
            "type": "carpet"
           }
          ],
          "choropleth": [
           {
            "colorbar": {
             "outlinewidth": 0,
             "ticks": ""
            },
            "type": "choropleth"
           }
          ],
          "contour": [
           {
            "colorbar": {
             "outlinewidth": 0,
             "ticks": ""
            },
            "colorscale": [
             [
              0,
              "#0d0887"
             ],
             [
              0.1111111111111111,
              "#46039f"
             ],
             [
              0.2222222222222222,
              "#7201a8"
             ],
             [
              0.3333333333333333,
              "#9c179e"
             ],
             [
              0.4444444444444444,
              "#bd3786"
             ],
             [
              0.5555555555555556,
              "#d8576b"
             ],
             [
              0.6666666666666666,
              "#ed7953"
             ],
             [
              0.7777777777777778,
              "#fb9f3a"
             ],
             [
              0.8888888888888888,
              "#fdca26"
             ],
             [
              1,
              "#f0f921"
             ]
            ],
            "type": "contour"
           }
          ],
          "contourcarpet": [
           {
            "colorbar": {
             "outlinewidth": 0,
             "ticks": ""
            },
            "type": "contourcarpet"
           }
          ],
          "heatmap": [
           {
            "colorbar": {
             "outlinewidth": 0,
             "ticks": ""
            },
            "colorscale": [
             [
              0,
              "#0d0887"
             ],
             [
              0.1111111111111111,
              "#46039f"
             ],
             [
              0.2222222222222222,
              "#7201a8"
             ],
             [
              0.3333333333333333,
              "#9c179e"
             ],
             [
              0.4444444444444444,
              "#bd3786"
             ],
             [
              0.5555555555555556,
              "#d8576b"
             ],
             [
              0.6666666666666666,
              "#ed7953"
             ],
             [
              0.7777777777777778,
              "#fb9f3a"
             ],
             [
              0.8888888888888888,
              "#fdca26"
             ],
             [
              1,
              "#f0f921"
             ]
            ],
            "type": "heatmap"
           }
          ],
          "heatmapgl": [
           {
            "colorbar": {
             "outlinewidth": 0,
             "ticks": ""
            },
            "colorscale": [
             [
              0,
              "#0d0887"
             ],
             [
              0.1111111111111111,
              "#46039f"
             ],
             [
              0.2222222222222222,
              "#7201a8"
             ],
             [
              0.3333333333333333,
              "#9c179e"
             ],
             [
              0.4444444444444444,
              "#bd3786"
             ],
             [
              0.5555555555555556,
              "#d8576b"
             ],
             [
              0.6666666666666666,
              "#ed7953"
             ],
             [
              0.7777777777777778,
              "#fb9f3a"
             ],
             [
              0.8888888888888888,
              "#fdca26"
             ],
             [
              1,
              "#f0f921"
             ]
            ],
            "type": "heatmapgl"
           }
          ],
          "histogram": [
           {
            "marker": {
             "colorbar": {
              "outlinewidth": 0,
              "ticks": ""
             }
            },
            "type": "histogram"
           }
          ],
          "histogram2d": [
           {
            "colorbar": {
             "outlinewidth": 0,
             "ticks": ""
            },
            "colorscale": [
             [
              0,
              "#0d0887"
             ],
             [
              0.1111111111111111,
              "#46039f"
             ],
             [
              0.2222222222222222,
              "#7201a8"
             ],
             [
              0.3333333333333333,
              "#9c179e"
             ],
             [
              0.4444444444444444,
              "#bd3786"
             ],
             [
              0.5555555555555556,
              "#d8576b"
             ],
             [
              0.6666666666666666,
              "#ed7953"
             ],
             [
              0.7777777777777778,
              "#fb9f3a"
             ],
             [
              0.8888888888888888,
              "#fdca26"
             ],
             [
              1,
              "#f0f921"
             ]
            ],
            "type": "histogram2d"
           }
          ],
          "histogram2dcontour": [
           {
            "colorbar": {
             "outlinewidth": 0,
             "ticks": ""
            },
            "colorscale": [
             [
              0,
              "#0d0887"
             ],
             [
              0.1111111111111111,
              "#46039f"
             ],
             [
              0.2222222222222222,
              "#7201a8"
             ],
             [
              0.3333333333333333,
              "#9c179e"
             ],
             [
              0.4444444444444444,
              "#bd3786"
             ],
             [
              0.5555555555555556,
              "#d8576b"
             ],
             [
              0.6666666666666666,
              "#ed7953"
             ],
             [
              0.7777777777777778,
              "#fb9f3a"
             ],
             [
              0.8888888888888888,
              "#fdca26"
             ],
             [
              1,
              "#f0f921"
             ]
            ],
            "type": "histogram2dcontour"
           }
          ],
          "mesh3d": [
           {
            "colorbar": {
             "outlinewidth": 0,
             "ticks": ""
            },
            "type": "mesh3d"
           }
          ],
          "parcoords": [
           {
            "line": {
             "colorbar": {
              "outlinewidth": 0,
              "ticks": ""
             }
            },
            "type": "parcoords"
           }
          ],
          "pie": [
           {
            "automargin": true,
            "type": "pie"
           }
          ],
          "scatter": [
           {
            "marker": {
             "colorbar": {
              "outlinewidth": 0,
              "ticks": ""
             }
            },
            "type": "scatter"
           }
          ],
          "scatter3d": [
           {
            "line": {
             "colorbar": {
              "outlinewidth": 0,
              "ticks": ""
             }
            },
            "marker": {
             "colorbar": {
              "outlinewidth": 0,
              "ticks": ""
             }
            },
            "type": "scatter3d"
           }
          ],
          "scattercarpet": [
           {
            "marker": {
             "colorbar": {
              "outlinewidth": 0,
              "ticks": ""
             }
            },
            "type": "scattercarpet"
           }
          ],
          "scattergeo": [
           {
            "marker": {
             "colorbar": {
              "outlinewidth": 0,
              "ticks": ""
             }
            },
            "type": "scattergeo"
           }
          ],
          "scattergl": [
           {
            "marker": {
             "colorbar": {
              "outlinewidth": 0,
              "ticks": ""
             }
            },
            "type": "scattergl"
           }
          ],
          "scattermapbox": [
           {
            "marker": {
             "colorbar": {
              "outlinewidth": 0,
              "ticks": ""
             }
            },
            "type": "scattermapbox"
           }
          ],
          "scatterpolar": [
           {
            "marker": {
             "colorbar": {
              "outlinewidth": 0,
              "ticks": ""
             }
            },
            "type": "scatterpolar"
           }
          ],
          "scatterpolargl": [
           {
            "marker": {
             "colorbar": {
              "outlinewidth": 0,
              "ticks": ""
             }
            },
            "type": "scatterpolargl"
           }
          ],
          "scatterternary": [
           {
            "marker": {
             "colorbar": {
              "outlinewidth": 0,
              "ticks": ""
             }
            },
            "type": "scatterternary"
           }
          ],
          "surface": [
           {
            "colorbar": {
             "outlinewidth": 0,
             "ticks": ""
            },
            "colorscale": [
             [
              0,
              "#0d0887"
             ],
             [
              0.1111111111111111,
              "#46039f"
             ],
             [
              0.2222222222222222,
              "#7201a8"
             ],
             [
              0.3333333333333333,
              "#9c179e"
             ],
             [
              0.4444444444444444,
              "#bd3786"
             ],
             [
              0.5555555555555556,
              "#d8576b"
             ],
             [
              0.6666666666666666,
              "#ed7953"
             ],
             [
              0.7777777777777778,
              "#fb9f3a"
             ],
             [
              0.8888888888888888,
              "#fdca26"
             ],
             [
              1,
              "#f0f921"
             ]
            ],
            "type": "surface"
           }
          ],
          "table": [
           {
            "cells": {
             "fill": {
              "color": "#EBF0F8"
             },
             "line": {
              "color": "white"
             }
            },
            "header": {
             "fill": {
              "color": "#C8D4E3"
             },
             "line": {
              "color": "white"
             }
            },
            "type": "table"
           }
          ]
         },
         "layout": {
          "annotationdefaults": {
           "arrowcolor": "#2a3f5f",
           "arrowhead": 0,
           "arrowwidth": 1
          },
          "coloraxis": {
           "colorbar": {
            "outlinewidth": 0,
            "ticks": ""
           }
          },
          "colorscale": {
           "diverging": [
            [
             0,
             "#8e0152"
            ],
            [
             0.1,
             "#c51b7d"
            ],
            [
             0.2,
             "#de77ae"
            ],
            [
             0.3,
             "#f1b6da"
            ],
            [
             0.4,
             "#fde0ef"
            ],
            [
             0.5,
             "#f7f7f7"
            ],
            [
             0.6,
             "#e6f5d0"
            ],
            [
             0.7,
             "#b8e186"
            ],
            [
             0.8,
             "#7fbc41"
            ],
            [
             0.9,
             "#4d9221"
            ],
            [
             1,
             "#276419"
            ]
           ],
           "sequential": [
            [
             0,
             "#0d0887"
            ],
            [
             0.1111111111111111,
             "#46039f"
            ],
            [
             0.2222222222222222,
             "#7201a8"
            ],
            [
             0.3333333333333333,
             "#9c179e"
            ],
            [
             0.4444444444444444,
             "#bd3786"
            ],
            [
             0.5555555555555556,
             "#d8576b"
            ],
            [
             0.6666666666666666,
             "#ed7953"
            ],
            [
             0.7777777777777778,
             "#fb9f3a"
            ],
            [
             0.8888888888888888,
             "#fdca26"
            ],
            [
             1,
             "#f0f921"
            ]
           ],
           "sequentialminus": [
            [
             0,
             "#0d0887"
            ],
            [
             0.1111111111111111,
             "#46039f"
            ],
            [
             0.2222222222222222,
             "#7201a8"
            ],
            [
             0.3333333333333333,
             "#9c179e"
            ],
            [
             0.4444444444444444,
             "#bd3786"
            ],
            [
             0.5555555555555556,
             "#d8576b"
            ],
            [
             0.6666666666666666,
             "#ed7953"
            ],
            [
             0.7777777777777778,
             "#fb9f3a"
            ],
            [
             0.8888888888888888,
             "#fdca26"
            ],
            [
             1,
             "#f0f921"
            ]
           ]
          },
          "colorway": [
           "#636efa",
           "#EF553B",
           "#00cc96",
           "#ab63fa",
           "#FFA15A",
           "#19d3f3",
           "#FF6692",
           "#B6E880",
           "#FF97FF",
           "#FECB52"
          ],
          "font": {
           "color": "#2a3f5f"
          },
          "geo": {
           "bgcolor": "white",
           "lakecolor": "white",
           "landcolor": "#E5ECF6",
           "showlakes": true,
           "showland": true,
           "subunitcolor": "white"
          },
          "hoverlabel": {
           "align": "left"
          },
          "hovermode": "closest",
          "mapbox": {
           "style": "light"
          },
          "paper_bgcolor": "white",
          "plot_bgcolor": "#E5ECF6",
          "polar": {
           "angularaxis": {
            "gridcolor": "white",
            "linecolor": "white",
            "ticks": ""
           },
           "bgcolor": "#E5ECF6",
           "radialaxis": {
            "gridcolor": "white",
            "linecolor": "white",
            "ticks": ""
           }
          },
          "scene": {
           "xaxis": {
            "backgroundcolor": "#E5ECF6",
            "gridcolor": "white",
            "gridwidth": 2,
            "linecolor": "white",
            "showbackground": true,
            "ticks": "",
            "zerolinecolor": "white"
           },
           "yaxis": {
            "backgroundcolor": "#E5ECF6",
            "gridcolor": "white",
            "gridwidth": 2,
            "linecolor": "white",
            "showbackground": true,
            "ticks": "",
            "zerolinecolor": "white"
           },
           "zaxis": {
            "backgroundcolor": "#E5ECF6",
            "gridcolor": "white",
            "gridwidth": 2,
            "linecolor": "white",
            "showbackground": true,
            "ticks": "",
            "zerolinecolor": "white"
           }
          },
          "shapedefaults": {
           "line": {
            "color": "#2a3f5f"
           }
          },
          "ternary": {
           "aaxis": {
            "gridcolor": "white",
            "linecolor": "white",
            "ticks": ""
           },
           "baxis": {
            "gridcolor": "white",
            "linecolor": "white",
            "ticks": ""
           },
           "bgcolor": "#E5ECF6",
           "caxis": {
            "gridcolor": "white",
            "linecolor": "white",
            "ticks": ""
           }
          },
          "title": {
           "x": 0.05
          },
          "xaxis": {
           "automargin": true,
           "gridcolor": "white",
           "linecolor": "white",
           "ticks": "",
           "title": {
            "standoff": 15
           },
           "zerolinecolor": "white",
           "zerolinewidth": 2
          },
          "yaxis": {
           "automargin": true,
           "gridcolor": "white",
           "linecolor": "white",
           "ticks": "",
           "title": {
            "standoff": 15
           },
           "zerolinecolor": "white",
           "zerolinewidth": 2
          }
         }
        },
        "title": {
         "font": {
          "size": 16
         },
         "text": "<br>Network graph made with Python"
        },
        "xaxis": {
         "showgrid": false,
         "showticklabels": false,
         "zeroline": false
        },
        "yaxis": {
         "showgrid": false,
         "showticklabels": false,
         "zeroline": false
        }
       }
      },
      "text/html": [
       "<div>\n",
       "        \n",
       "        \n",
       "            <div id=\"447d4498-dbcc-4364-8059-75d2a7045407\" class=\"plotly-graph-div\" style=\"height:525px; width:100%;\"></div>\n",
       "            <script type=\"text/javascript\">\n",
       "                require([\"plotly\"], function(Plotly) {\n",
       "                    window.PLOTLYENV=window.PLOTLYENV || {};\n",
       "                    \n",
       "                if (document.getElementById(\"447d4498-dbcc-4364-8059-75d2a7045407\")) {\n",
       "                    Plotly.newPlot(\n",
       "                        '447d4498-dbcc-4364-8059-75d2a7045407',\n",
       "                        [{\"hoverinfo\": \"none\", \"line\": {\"color\": \"#888\", \"width\": 0.5}, \"mode\": \"lines\", \"type\": \"scatter\", \"x\": [-0.27226271666409685, -0.3183543942115033, null, -0.27226271666409685, -0.26187909015294736, null, -0.27226271666409685, -0.14772931770685166, null, -0.27226271666409685, -0.3483644152626338, null, -0.3183543942115033, -0.3339614074973909, null, -0.3183543942115033, -0.3339614074973904, null, -0.3339614074973909, -0.3339614074973904, null, 0.4089012749516789, 0.35424683717121147, null, 0.4089012749516789, 0.4172932906944177, null, 0.4089012749516789, 0.4518192620020418, null, 0.4089012749516789, 0.5103575445106866, null, 0.4089012749516789, 0.29168026342869124, null, -0.008823159166156076, -0.00841082660545125, null, -0.008823159166156076, -0.008823159166156022, null, -0.00841082660545125, -0.008823159166156022, null, -0.00841082660545125, -0.007193098454512092, null, 0.4019383351616079, 0.41941609588563633, null, 0.4019383351616079, 0.41941609588563655, null, 0.4019383351616079, 0.4172932906944177, null, 0.4019383351616079, 0.3328440801867987, null, 0.41941609588563633, 0.41941609588563655, null, 0.41941609588563633, 0.4172932906944177, null, 0.41941609588563655, 0.4172932906944177, null, 0.35024239726644746, 0.39599988136785985, null, 0.35024239726644746, 0.35424683717121147, null, 0.35024239726644746, 0.23051739632220133, null, 0.35024239726644746, 0.40383760167583554, null, 0.40383760167583554, 0.39599988136785985, null, 0.40383760167583554, 0.44639799000665464, null, 0.39599988136785985, 0.4154133888365574, null, -0.060386508202544244, -0.14772931770685166, null, -0.060386508202544244, -0.11622792949565457, null, -0.060386508202544244, 0.08561976434774808, null, -0.14772931770685166, -0.11622792949565457, null, -0.14772931770685166, -0.135136284547995, null, -0.11622792949565457, -0.135136284547995, null, 0.46439605548506385, 0.48716261859728405, null, 0.46439605548506385, 0.48716261859728505, null, 0.46439605548506385, 0.4871626185972847, null, 0.46439605548506385, 0.37439375247762097, null, 0.48716261859728405, 0.48716261859728505, null, 0.48716261859728405, 0.4871626185972847, null, 0.48716261859728505, 0.4871626185972847, null, -0.24554430001104072, -0.2642132184005351, null, -0.24554430001104072, -0.2642132184005356, null, -0.24554430001104072, -0.19673144526137018, null, -0.27053466454530467, -0.2642132184005351, null, -0.27053466454530467, -0.2642132184005356, null, -0.2642132184005351, -0.2642132184005356, null, -0.11088522407069115, -0.19673144526137018, null, -0.11088522407069115, -0.15198406028335298, null, -0.11088522407069115, -0.20149442368234485, null, -0.11088522407069115, 0.11185103040397959, null, -0.19673144526137018, -0.17852935762523728, null, -0.19673144526137018, -0.24277305175308472, null, -0.15198406028335298, -0.17852935762523728, null, -0.15198406028335298, -0.1594349304180616, null, 0.2459154254325436, 0.2616733660606841, null, 0.2459154254325436, 0.29168026342869124, null, 0.2459154254325436, 0.17290028503900107, null, -0.25836311057618994, -0.24277305175308472, null, -0.25836311057618994, -0.26187909015294736, null, -0.24277305175308472, -0.26187909015294736, null, 0.5491604136772856, 0.5103575445106866, null, 0.5491604136772856, 0.5491604136772859, null, 0.5491604136772856, 0.5622993777340993, null, 0.5103575445106866, 0.5491604136772859, null, 0.5491604136772859, 0.5622993777340993, null, -0.8799863468407654, -0.9468923727281564, null, -0.8799863468407654, -0.9468923727281555, null, -0.8799863468407654, -0.7050499067438151, null, -0.9468923727281564, -0.9695472920214752, null, -0.9468923727281564, -0.9468923727281555, null, -0.9695472920214752, -0.9468923727281555, null, -0.34499407459945586, -0.20149442368234485, null, -0.34499407459945586, -0.47237112276981796, null, -0.34499407459945586, -0.34499407459945597, null, -0.20149442368234485, -0.34499407459945597, null, -0.20149442368234485, 0.004312114322451594, null, -0.47237112276981796, -0.34499407459945597, null, -0.47237112276981796, -0.7050499067438151, null, 0.06357862333133248, -0.07641093713071428, null, 0.06357862333133248, -0.007193098454512092, null, 0.06357862333133248, 0.06669550325217552, null, 0.06357862333133248, 0.26825180683861205, null, -0.07641093713071428, -0.007193098454512092, null, -0.07641093713071428, -0.28204742512709624, null, 0.37439375247762097, 0.26825180683861205, null, 0.37439375247762097, 0.37303685767134925, null, 0.26825180683861205, 0.35424683717121147, null, 0.35424683717121147, 0.37303685767134925, null, 0.13235264167036367, 0.13235264167036345, null, 0.13235264167036367, 0.08561976434774808, null, 0.13235264167036367, 0.17290028503900107, null, 0.13235264167036345, 0.08561976434774808, null, 0.13235264167036345, 0.17290028503900107, null, 0.08561976434774808, 0.13415901513118364, null, -0.35083950951371157, -0.3483644152626338, null, -0.35083950951371157, -0.4057109107853109, null, -0.35083950951371157, -0.28204742512709624, null, -0.3483644152626338, -0.4057109107853109, null, -0.4057109107853109, -0.28204742512709624, null, -0.4057109107853109, -0.6226322115256507, null, 0.4518192620020418, 0.44639799000665464, null, 0.4518192620020418, 0.46818732448753114, null, 0.4518192620020418, 0.4626755959866384, null, 0.44639799000665464, 0.4626755959866384, null, 0.46818732448753114, 0.4626755959866384, null, 0.13415901513118364, 0.1433371850961388, null, 0.13415901513118364, 0.07089206358169219, null, 0.13415901513118364, 0.23051739632220133, null, 0.1433371850961388, 0.004312114322451594, null, 0.1433371850961388, 0.20819943312059092, null, 0.1433371850961388, 0.21997960335851438, null, 0.07089206358169219, 0.004312114322451594, null, -0.7050499067438151, -0.7586553831035926, null, -0.7050499067438151, -0.7586553831035933, null, -0.7050499067438151, -0.6226322115256507, null, -0.7586553831035926, -0.7586553831035933, null, -0.7586553831035926, -0.7768066291909785, null, -0.7586553831035933, -0.7768066291909785, null, -0.6226322115256507, -0.7280383555467486, null, -0.763729724958485, -0.7280383555467486, null, -0.763729724958485, -0.763729724958485, null, -0.7280383555467486, -0.763729724958485, null, 0.252891287793442, 0.2634379476924268, null, 0.252891287793442, 0.263437947692427, null, 0.252891287793442, 0.21997960335851438, null, 0.2616733660606841, 0.2634379476924268, null, 0.2616733660606841, 0.263437947692427, null, 0.2634379476924268, 0.263437947692427, null, 0.21997960335851438, 0.23670481857331968, null, 0.21997960335851438, 0.23670481857331988, null, 0.24236811116661547, 0.23670481857331968, null, 0.24236811116661547, 0.23670481857331988, null, 0.23670481857331968, 0.23670481857331988, null, 0.29051955407640606, 0.3328440801867987, null, 0.29051955407640606, 0.2346181821434441, null, 0.29051955407640606, 0.290519554076406, null, 0.3328440801867987, 0.290519554076406, null, 0.2346181821434441, 0.290519554076406, null, 0.2346181821434441, 0.11185103040397959, null, 0.11185103040397959, 0.20659300066709474, null, 0.29168026342869124, 0.20659300066709474, null, 0.22460668508976397, 0.23051739632220133, null, 0.22460668508976397, 0.2246066850897637, null, 0.22460668508976397, 0.20819943312059092, null, 0.23051739632220133, 0.2246066850897637, null, 0.23051739632220133, 0.20819943312059092, null, 0.2246066850897637, 0.20819943312059092, null], \"y\": [0.12348013939073799, 0.15262506006212107, null, 0.12348013939073799, 0.2795366957678725, null, 0.12348013939073799, 0.20174695624782307, null, 0.12348013939073799, -0.14752165893957198, null, 0.15262506006212107, 0.16254170460843684, null, 0.15262506006212107, 0.1625417046084369, null, 0.16254170460843684, 0.1625417046084369, null, -0.026141322292026058, -0.28707296960167333, null, -0.026141322292026058, 0.08480892122523923, null, -0.026141322292026058, -0.054263737754209826, null, -0.026141322292026058, -0.03555698732677712, null, -0.026141322292026058, 0.16297304007344743, null, -1.0, -0.9389901528951963, null, -1.0, -0.9999999999999993, null, -0.9389901528951963, -0.9999999999999993, null, -0.9389901528951963, -0.7596828130245481, null, 0.13425062600302218, 0.11297610093644384, null, 0.13425062600302218, 0.11297610093644236, null, 0.13425062600302218, 0.08480892122523923, null, 0.13425062600302218, 0.21805077074779103, null, 0.11297610093644384, 0.11297610093644236, null, 0.11297610093644384, 0.08480892122523923, null, 0.11297610093644236, 0.08480892122523923, null, -0.08194612126979725, -0.0863700350443343, null, -0.08194612126979725, -0.28707296960167333, null, -0.08194612126979725, 0.1305707685401578, null, -0.08194612126979725, -0.07991272864383574, null, -0.07991272864383574, -0.0863700350443343, null, -0.07991272864383574, -0.06654656626108615, null, -0.0863700350443343, -0.09198183258687857, null, 0.2312400546357539, 0.20174695624782307, null, 0.2312400546357539, 0.22161672332493956, null, 0.2312400546357539, 0.25624856395666595, null, 0.20174695624782307, 0.22161672332493956, null, 0.20174695624782307, 0.21834235668531812, null, 0.22161672332493956, 0.21834235668531812, null, -0.861713533616357, -0.917702417814951, null, -0.861713533616357, -0.9177024178149508, null, -0.861713533616357, -0.9177024178149508, null, -0.861713533616357, -0.6411738700864933, null, -0.917702417814951, -0.9177024178149508, null, -0.917702417814951, -0.9177024178149508, null, -0.9177024178149508, -0.9177024178149508, null, 0.628204213318646, 0.6922166737188795, null, 0.628204213318646, 0.6922166737188784, null, 0.628204213318646, 0.4618526495130149, null, 0.7139971006921282, 0.6922166737188795, null, 0.7139971006921282, 0.6922166737188784, null, 0.6922166737188795, 0.6922166737188784, null, 0.36019300484395506, 0.4618526495130149, null, 0.36019300484395506, 0.44054514489749413, null, 0.36019300484395506, 0.2203769917658296, null, 0.36019300484395506, 0.29602191304572695, null, 0.4618526495130149, 0.46539575926319104, null, 0.4618526495130149, 0.3654400610945338, null, 0.44054514489749413, 0.46539575926319104, null, 0.44054514489749413, 0.4691690786523746, null, 0.26839892417811356, 0.3465810262861088, null, 0.26839892417811356, 0.16297304007344743, null, 0.26839892417811356, 0.27926772884758444, null, 0.3326353957493602, 0.3654400610945338, null, 0.3326353957493602, 0.2795366957678725, null, 0.3654400610945338, 0.2795366957678725, null, -0.039180156663993486, -0.03555698732677712, null, -0.039180156663993486, -0.03918015666399307, null, -0.039180156663993486, -0.04041295063359795, null, -0.03555698732677712, -0.03918015666399307, null, -0.03918015666399307, -0.04041295063359795, null, -0.22209207345525195, -0.2447227081371781, null, -0.22209207345525195, -0.24472270813717859, null, -0.22209207345525195, -0.16328100064670564, null, -0.2447227081371781, -0.25242284781258034, null, -0.2447227081371781, -0.24472270813717859, null, -0.25242284781258034, -0.24472270813717859, null, 0.13096719081171407, 0.2203769917658296, null, 0.13096719081171407, 0.03356710157042851, null, 0.13096719081171407, 0.13096719081171335, null, 0.2203769917658296, 0.13096719081171335, null, 0.2203769917658296, 0.2459354140228858, null, 0.03356710157042851, 0.13096719081171335, null, 0.03356710157042851, -0.16328100064670564, null, -0.6704556722823025, -0.6232544816253678, null, -0.6704556722823025, -0.7596828130245481, null, -0.6704556722823025, -0.7140177883815733, null, -0.6704556722823025, -0.5439632080412349, null, -0.6232544816253678, -0.7596828130245481, null, -0.6232544816253678, -0.4016002989379064, null, -0.6411738700864933, -0.5439632080412349, null, -0.6411738700864933, -0.47872694882032213, null, -0.5439632080412349, -0.28707296960167333, null, -0.28707296960167333, -0.47872694882032213, null, 0.2761830904631702, 0.27618309046317085, null, 0.2761830904631702, 0.25624856395666595, null, 0.2761830904631702, 0.27926772884758444, null, 0.27618309046317085, 0.25624856395666595, null, 0.27618309046317085, 0.27926772884758444, null, 0.25624856395666595, 0.2257543345567546, null, -0.2808249722120623, -0.14752165893957198, null, -0.2808249722120623, -0.276219870140841, null, -0.2808249722120623, -0.4016002989379064, null, -0.14752165893957198, -0.276219870140841, null, -0.276219870140841, -0.4016002989379064, null, -0.276219870140841, -0.25808041842922436, null, -0.054263737754209826, -0.06654656626108615, null, -0.054263737754209826, -0.059653203567731405, null, -0.054263737754209826, -0.061403236552274, null, -0.06654656626108615, -0.061403236552274, null, -0.059653203567731405, -0.061403236552274, null, 0.2257543345567546, 0.25915909318360314, null, 0.2257543345567546, 0.24326567511203506, null, 0.2257543345567546, 0.1305707685401578, null, 0.25915909318360314, 0.2459354140228858, null, 0.25915909318360314, 0.18036265733196852, null, 0.25915909318360314, 0.36877271017185, null, 0.24326567511203506, 0.2459354140228858, null, -0.16328100064670564, -0.17991893201745152, null, -0.16328100064670564, -0.17991893201745127, null, -0.16328100064670564, -0.25808041842922436, null, -0.17991893201745152, -0.17991893201745127, null, -0.17991893201745152, -0.1855800368545507, null, -0.17991893201745127, -0.1855800368545507, null, -0.25808041842922436, -0.31899493763101283, null, -0.3397212810458703, -0.31899493763101283, null, -0.3397212810458703, -0.3397212810458696, null, -0.31899493763101283, -0.3397212810458696, null, 0.38073350069805983, 0.3750996496285345, null, 0.38073350069805983, 0.37509964962853587, null, 0.38073350069805983, 0.36877271017185, null, 0.3465810262861088, 0.3750996496285345, null, 0.3465810262861088, 0.37509964962853587, null, 0.3750996496285345, 0.37509964962853587, null, 0.36877271017185, 0.4063497400708631, null, 0.36877271017185, 0.40634974007086394, null, 0.4191354344570789, 0.4063497400708631, null, 0.4191354344570789, 0.40634974007086394, null, 0.4063497400708631, 0.40634974007086394, null, 0.25329922102797436, 0.21805077074779103, null, 0.25329922102797436, 0.27309392456147286, null, 0.25329922102797436, 0.2532992210279742, null, 0.21805077074779103, 0.2532992210279742, null, 0.27309392456147286, 0.2532992210279742, null, 0.27309392456147286, 0.29602191304572695, null, 0.29602191304572695, 0.23671855807716383, null, 0.16297304007344743, 0.23671855807716383, null, 0.16035843472843878, 0.1305707685401578, null, 0.16035843472843878, 0.16035843472843864, null, 0.16035843472843878, 0.18036265733196852, null, 0.1305707685401578, 0.16035843472843864, null, 0.1305707685401578, 0.18036265733196852, null, 0.16035843472843864, 0.18036265733196852, null]}, {\"hoverinfo\": \"text\", \"marker\": {\"color\": [\"blue\", \"blue\", \"blue\", \"blue\", \"blue\", \"blue\", \"blue\", \"blue\", \"blue\", \"blue\", \"blue\", \"blue\", \"blue\", \"blue\", \"blue\", \"blue\", \"blue\", \"blue\", \"blue\", \"blue\", \"blue\", \"blue\", \"red\", \"blue\", \"blue\", \"blue\", \"blue\", \"blue\", \"blue\", \"blue\", \"blue\", \"blue\", \"blue\", \"blue\", \"blue\", \"blue\", \"blue\", \"blue\", \"blue\", \"blue\", \"blue\", \"blue\", \"blue\", \"red\", \"blue\", \"blue\", \"blue\", \"blue\", \"blue\", \"blue\", \"blue\", \"blue\", \"blue\", \"blue\", \"red\", \"blue\", \"blue\", \"blue\", \"blue\", \"blue\", \"blue\", \"blue\", \"blue\", \"blue\", \"blue\", \"blue\", \"blue\", \"blue\", \"blue\", \"blue\", \"blue\", \"blue\", \"blue\", \"blue\", \"blue\", \"blue\", \"blue\", \"blue\", \"blue\", \"blue\", \"blue\", \"blue\", \"blue\", \"blue\", \"blue\", \"blue\", \"blue\", \"red\", \"blue\", \"blue\", \"blue\", \"blue\", \"blue\", \"red\", \"blue\", \"blue\", \"blue\", \"blue\", \"blue\", \"blue\"], \"line\": {\"width\": 2}, \"size\": 10}, \"mode\": \"markers\", \"text\": [\"Infected: True\", \"Infected: True\", \"Infected: True\", \"Infected: True\", \"Infected: True\", \"Infected: True\", \"Infected: True\", \"Infected: True\", \"Infected: True\", \"Infected: True\", \"Infected: True\", \"Infected: True\", \"Infected: True\", \"Infected: True\", \"Infected: True\", \"Infected: True\", \"Infected: True\", \"Infected: True\", \"Infected: True\", \"Infected: True\", \"Infected: True\", \"Infected: True\", \"Infected: True\", \"Infected: True\", \"Infected: True\", \"Infected: True\", \"Infected: True\", \"Infected: True\", \"Infected: True\", \"Infected: True\", \"Infected: True\", \"Infected: True\", \"Infected: True\", \"Infected: True\", \"Infected: True\", \"Infected: True\", \"Infected: True\", \"Infected: True\", \"Infected: True\", \"Infected: True\", \"Infected: True\", \"Infected: True\", \"Infected: True\", \"Infected: True\", \"Infected: True\", \"Infected: True\", \"Infected: True\", \"Infected: True\", \"Infected: True\", \"Infected: True\", \"Infected: True\", \"Infected: True\", \"Infected: True\", \"Infected: True\", \"Infected: True\", \"Infected: True\", \"Infected: True\", \"Infected: True\", \"Infected: True\", \"Infected: True\", \"Infected: True\", \"Infected: True\", \"Infected: True\", \"Infected: True\", \"Infected: True\", \"Infected: True\", \"Infected: True\", \"Infected: True\", \"Infected: True\", \"Infected: True\", \"Infected: True\", \"Infected: True\", \"Infected: True\", \"Infected: True\", \"Infected: True\", \"Infected: True\", \"Infected: True\", \"Infected: True\", \"Infected: True\", \"Infected: True\", \"Infected: True\", \"Infected: True\", \"Infected: True\", \"Infected: True\", \"Infected: True\", \"Infected: True\", \"Infected: True\", \"Infected: True\", \"Infected: True\", \"Infected: True\", \"Infected: True\", \"Infected: True\", \"Infected: True\", \"Infected: True\", \"Infected: True\", \"Infected: True\", \"Infected: True\", \"Infected: True\", \"Infected: True\", \"Infected: True\"], \"type\": \"scatter\", \"x\": [-0.27226271666409685, -0.3183543942115033, -0.3339614074973909, -0.3339614074973904, 0.4089012749516789, -0.008823159166156076, -0.00841082660545125, -0.008823159166156022, 0.4019383351616079, 0.41941609588563633, 0.41941609588563655, 0.4172932906944177, 0.35024239726644746, 0.40383760167583554, 0.39599988136785985, 0.4154133888365574, -0.060386508202544244, -0.14772931770685166, -0.11622792949565457, -0.135136284547995, 0.46439605548506385, 0.48716261859728405, 0.48716261859728505, 0.4871626185972847, -0.24554430001104072, -0.27053466454530467, -0.2642132184005351, -0.2642132184005356, -0.11088522407069115, -0.19673144526137018, -0.15198406028335298, -0.17852935762523728, 0.2459154254325436, -0.25836311057618994, -0.24277305175308472, -0.26187909015294736, 0.5491604136772856, 0.5103575445106866, 0.5491604136772859, 0.5622993777340993, -0.8799863468407654, -0.9468923727281564, -0.9695472920214752, -0.9468923727281555, -0.34499407459945586, -0.20149442368234485, -0.47237112276981796, -0.34499407459945597, 0.06357862333133248, -0.07641093713071428, -0.007193098454512092, 0.06669550325217552, 0.37439375247762097, 0.26825180683861205, 0.35424683717121147, 0.37303685767134925, 0.13235264167036367, 0.13235264167036345, 0.08561976434774808, 0.17290028503900107, -0.35083950951371157, -0.3483644152626338, -0.4057109107853109, -0.28204742512709624, 0.4518192620020418, 0.44639799000665464, 0.46818732448753114, 0.4626755959866384, 0.13415901513118364, 0.1433371850961388, 0.07089206358169219, 0.004312114322451594, -0.7050499067438151, -0.7586553831035926, -0.7586553831035933, -0.7768066291909785, -0.6226322115256507, -0.763729724958485, -0.7280383555467486, -0.763729724958485, 0.252891287793442, 0.2616733660606841, 0.2634379476924268, 0.263437947692427, 0.21997960335851438, 0.24236811116661547, 0.23670481857331968, 0.23670481857331988, 0.29051955407640606, 0.3328440801867987, 0.2346181821434441, 0.290519554076406, 0.11185103040397959, 0.29168026342869124, -0.1594349304180616, 0.20659300066709474, 0.22460668508976397, 0.23051739632220133, 0.2246066850897637, 0.20819943312059092], \"y\": [0.12348013939073799, 0.15262506006212107, 0.16254170460843684, 0.1625417046084369, -0.026141322292026058, -1.0, -0.9389901528951963, -0.9999999999999993, 0.13425062600302218, 0.11297610093644384, 0.11297610093644236, 0.08480892122523923, -0.08194612126979725, -0.07991272864383574, -0.0863700350443343, -0.09198183258687857, 0.2312400546357539, 0.20174695624782307, 0.22161672332493956, 0.21834235668531812, -0.861713533616357, -0.917702417814951, -0.9177024178149508, -0.9177024178149508, 0.628204213318646, 0.7139971006921282, 0.6922166737188795, 0.6922166737188784, 0.36019300484395506, 0.4618526495130149, 0.44054514489749413, 0.46539575926319104, 0.26839892417811356, 0.3326353957493602, 0.3654400610945338, 0.2795366957678725, -0.039180156663993486, -0.03555698732677712, -0.03918015666399307, -0.04041295063359795, -0.22209207345525195, -0.2447227081371781, -0.25242284781258034, -0.24472270813717859, 0.13096719081171407, 0.2203769917658296, 0.03356710157042851, 0.13096719081171335, -0.6704556722823025, -0.6232544816253678, -0.7596828130245481, -0.7140177883815733, -0.6411738700864933, -0.5439632080412349, -0.28707296960167333, -0.47872694882032213, 0.2761830904631702, 0.27618309046317085, 0.25624856395666595, 0.27926772884758444, -0.2808249722120623, -0.14752165893957198, -0.276219870140841, -0.4016002989379064, -0.054263737754209826, -0.06654656626108615, -0.059653203567731405, -0.061403236552274, 0.2257543345567546, 0.25915909318360314, 0.24326567511203506, 0.2459354140228858, -0.16328100064670564, -0.17991893201745152, -0.17991893201745127, -0.1855800368545507, -0.25808041842922436, -0.3397212810458703, -0.31899493763101283, -0.3397212810458696, 0.38073350069805983, 0.3465810262861088, 0.3750996496285345, 0.37509964962853587, 0.36877271017185, 0.4191354344570789, 0.4063497400708631, 0.40634974007086394, 0.25329922102797436, 0.21805077074779103, 0.27309392456147286, 0.2532992210279742, 0.29602191304572695, 0.16297304007344743, 0.4691690786523746, 0.23671855807716383, 0.16035843472843878, 0.1305707685401578, 0.16035843472843864, 0.18036265733196852]}],\n",
       "                        {\"annotations\": [{\"showarrow\": false, \"text\": \"Python code: <a href='https://plotly.com/ipython-notebooks/network-graphs/'> https://plotly.com/ipython-notebooks/network-graphs/</a>\", \"x\": 0.005, \"xref\": \"paper\", \"y\": -0.002, \"yref\": \"paper\"}], \"hovermode\": \"closest\", \"margin\": {\"b\": 20, \"l\": 5, \"r\": 5, \"t\": 40}, \"showlegend\": false, \"template\": {\"data\": {\"bar\": [{\"error_x\": {\"color\": \"#2a3f5f\"}, \"error_y\": {\"color\": \"#2a3f5f\"}, \"marker\": {\"line\": {\"color\": \"#E5ECF6\", \"width\": 0.5}}, \"type\": \"bar\"}], \"barpolar\": [{\"marker\": {\"line\": {\"color\": \"#E5ECF6\", \"width\": 0.5}}, \"type\": \"barpolar\"}], \"carpet\": [{\"aaxis\": {\"endlinecolor\": \"#2a3f5f\", \"gridcolor\": \"white\", \"linecolor\": \"white\", \"minorgridcolor\": \"white\", \"startlinecolor\": \"#2a3f5f\"}, \"baxis\": {\"endlinecolor\": \"#2a3f5f\", \"gridcolor\": \"white\", \"linecolor\": \"white\", \"minorgridcolor\": \"white\", \"startlinecolor\": \"#2a3f5f\"}, \"type\": \"carpet\"}], \"choropleth\": [{\"colorbar\": {\"outlinewidth\": 0, \"ticks\": \"\"}, \"type\": \"choropleth\"}], \"contour\": [{\"colorbar\": {\"outlinewidth\": 0, \"ticks\": \"\"}, \"colorscale\": [[0.0, \"#0d0887\"], [0.1111111111111111, \"#46039f\"], [0.2222222222222222, \"#7201a8\"], [0.3333333333333333, \"#9c179e\"], [0.4444444444444444, \"#bd3786\"], [0.5555555555555556, \"#d8576b\"], [0.6666666666666666, \"#ed7953\"], [0.7777777777777778, \"#fb9f3a\"], [0.8888888888888888, \"#fdca26\"], [1.0, \"#f0f921\"]], \"type\": \"contour\"}], \"contourcarpet\": [{\"colorbar\": {\"outlinewidth\": 0, \"ticks\": \"\"}, \"type\": \"contourcarpet\"}], \"heatmap\": [{\"colorbar\": {\"outlinewidth\": 0, \"ticks\": \"\"}, \"colorscale\": [[0.0, \"#0d0887\"], [0.1111111111111111, \"#46039f\"], [0.2222222222222222, \"#7201a8\"], [0.3333333333333333, \"#9c179e\"], [0.4444444444444444, \"#bd3786\"], [0.5555555555555556, \"#d8576b\"], [0.6666666666666666, \"#ed7953\"], [0.7777777777777778, \"#fb9f3a\"], [0.8888888888888888, \"#fdca26\"], [1.0, \"#f0f921\"]], \"type\": \"heatmap\"}], \"heatmapgl\": [{\"colorbar\": {\"outlinewidth\": 0, \"ticks\": \"\"}, \"colorscale\": [[0.0, \"#0d0887\"], [0.1111111111111111, \"#46039f\"], [0.2222222222222222, \"#7201a8\"], [0.3333333333333333, \"#9c179e\"], [0.4444444444444444, \"#bd3786\"], [0.5555555555555556, \"#d8576b\"], [0.6666666666666666, \"#ed7953\"], [0.7777777777777778, \"#fb9f3a\"], [0.8888888888888888, \"#fdca26\"], [1.0, \"#f0f921\"]], \"type\": \"heatmapgl\"}], \"histogram\": [{\"marker\": {\"colorbar\": {\"outlinewidth\": 0, \"ticks\": \"\"}}, \"type\": \"histogram\"}], \"histogram2d\": [{\"colorbar\": {\"outlinewidth\": 0, \"ticks\": \"\"}, \"colorscale\": [[0.0, \"#0d0887\"], [0.1111111111111111, \"#46039f\"], [0.2222222222222222, \"#7201a8\"], [0.3333333333333333, \"#9c179e\"], [0.4444444444444444, \"#bd3786\"], [0.5555555555555556, \"#d8576b\"], [0.6666666666666666, \"#ed7953\"], [0.7777777777777778, \"#fb9f3a\"], [0.8888888888888888, \"#fdca26\"], [1.0, \"#f0f921\"]], \"type\": \"histogram2d\"}], \"histogram2dcontour\": [{\"colorbar\": {\"outlinewidth\": 0, \"ticks\": \"\"}, \"colorscale\": [[0.0, \"#0d0887\"], [0.1111111111111111, \"#46039f\"], [0.2222222222222222, \"#7201a8\"], [0.3333333333333333, \"#9c179e\"], [0.4444444444444444, \"#bd3786\"], [0.5555555555555556, \"#d8576b\"], [0.6666666666666666, \"#ed7953\"], [0.7777777777777778, \"#fb9f3a\"], [0.8888888888888888, \"#fdca26\"], [1.0, \"#f0f921\"]], \"type\": \"histogram2dcontour\"}], \"mesh3d\": [{\"colorbar\": {\"outlinewidth\": 0, \"ticks\": \"\"}, \"type\": \"mesh3d\"}], \"parcoords\": [{\"line\": {\"colorbar\": {\"outlinewidth\": 0, \"ticks\": \"\"}}, \"type\": \"parcoords\"}], \"pie\": [{\"automargin\": true, \"type\": \"pie\"}], \"scatter\": [{\"marker\": {\"colorbar\": {\"outlinewidth\": 0, \"ticks\": \"\"}}, \"type\": \"scatter\"}], \"scatter3d\": [{\"line\": {\"colorbar\": {\"outlinewidth\": 0, \"ticks\": \"\"}}, \"marker\": {\"colorbar\": {\"outlinewidth\": 0, \"ticks\": \"\"}}, \"type\": \"scatter3d\"}], \"scattercarpet\": [{\"marker\": {\"colorbar\": {\"outlinewidth\": 0, \"ticks\": \"\"}}, \"type\": \"scattercarpet\"}], \"scattergeo\": [{\"marker\": {\"colorbar\": {\"outlinewidth\": 0, \"ticks\": \"\"}}, \"type\": \"scattergeo\"}], \"scattergl\": [{\"marker\": {\"colorbar\": {\"outlinewidth\": 0, \"ticks\": \"\"}}, \"type\": \"scattergl\"}], \"scattermapbox\": [{\"marker\": {\"colorbar\": {\"outlinewidth\": 0, \"ticks\": \"\"}}, \"type\": \"scattermapbox\"}], \"scatterpolar\": [{\"marker\": {\"colorbar\": {\"outlinewidth\": 0, \"ticks\": \"\"}}, \"type\": \"scatterpolar\"}], \"scatterpolargl\": [{\"marker\": {\"colorbar\": {\"outlinewidth\": 0, \"ticks\": \"\"}}, \"type\": \"scatterpolargl\"}], \"scatterternary\": [{\"marker\": {\"colorbar\": {\"outlinewidth\": 0, \"ticks\": \"\"}}, \"type\": \"scatterternary\"}], \"surface\": [{\"colorbar\": {\"outlinewidth\": 0, \"ticks\": \"\"}, \"colorscale\": [[0.0, \"#0d0887\"], [0.1111111111111111, \"#46039f\"], [0.2222222222222222, \"#7201a8\"], [0.3333333333333333, \"#9c179e\"], [0.4444444444444444, \"#bd3786\"], [0.5555555555555556, \"#d8576b\"], [0.6666666666666666, \"#ed7953\"], [0.7777777777777778, \"#fb9f3a\"], [0.8888888888888888, \"#fdca26\"], [1.0, \"#f0f921\"]], \"type\": \"surface\"}], \"table\": [{\"cells\": {\"fill\": {\"color\": \"#EBF0F8\"}, \"line\": {\"color\": \"white\"}}, \"header\": {\"fill\": {\"color\": \"#C8D4E3\"}, \"line\": {\"color\": \"white\"}}, \"type\": \"table\"}]}, \"layout\": {\"annotationdefaults\": {\"arrowcolor\": \"#2a3f5f\", \"arrowhead\": 0, \"arrowwidth\": 1}, \"coloraxis\": {\"colorbar\": {\"outlinewidth\": 0, \"ticks\": \"\"}}, \"colorscale\": {\"diverging\": [[0, \"#8e0152\"], [0.1, \"#c51b7d\"], [0.2, \"#de77ae\"], [0.3, \"#f1b6da\"], [0.4, \"#fde0ef\"], [0.5, \"#f7f7f7\"], [0.6, \"#e6f5d0\"], [0.7, \"#b8e186\"], [0.8, \"#7fbc41\"], [0.9, \"#4d9221\"], [1, \"#276419\"]], \"sequential\": [[0.0, \"#0d0887\"], [0.1111111111111111, \"#46039f\"], [0.2222222222222222, \"#7201a8\"], [0.3333333333333333, \"#9c179e\"], [0.4444444444444444, \"#bd3786\"], [0.5555555555555556, \"#d8576b\"], [0.6666666666666666, \"#ed7953\"], [0.7777777777777778, \"#fb9f3a\"], [0.8888888888888888, \"#fdca26\"], [1.0, \"#f0f921\"]], \"sequentialminus\": [[0.0, \"#0d0887\"], [0.1111111111111111, \"#46039f\"], [0.2222222222222222, \"#7201a8\"], [0.3333333333333333, \"#9c179e\"], [0.4444444444444444, \"#bd3786\"], [0.5555555555555556, \"#d8576b\"], [0.6666666666666666, \"#ed7953\"], [0.7777777777777778, \"#fb9f3a\"], [0.8888888888888888, \"#fdca26\"], [1.0, \"#f0f921\"]]}, \"colorway\": [\"#636efa\", \"#EF553B\", \"#00cc96\", \"#ab63fa\", \"#FFA15A\", \"#19d3f3\", \"#FF6692\", \"#B6E880\", \"#FF97FF\", \"#FECB52\"], \"font\": {\"color\": \"#2a3f5f\"}, \"geo\": {\"bgcolor\": \"white\", \"lakecolor\": \"white\", \"landcolor\": \"#E5ECF6\", \"showlakes\": true, \"showland\": true, \"subunitcolor\": \"white\"}, \"hoverlabel\": {\"align\": \"left\"}, \"hovermode\": \"closest\", \"mapbox\": {\"style\": \"light\"}, \"paper_bgcolor\": \"white\", \"plot_bgcolor\": \"#E5ECF6\", \"polar\": {\"angularaxis\": {\"gridcolor\": \"white\", \"linecolor\": \"white\", \"ticks\": \"\"}, \"bgcolor\": \"#E5ECF6\", \"radialaxis\": {\"gridcolor\": \"white\", \"linecolor\": \"white\", \"ticks\": \"\"}}, \"scene\": {\"xaxis\": {\"backgroundcolor\": \"#E5ECF6\", \"gridcolor\": \"white\", \"gridwidth\": 2, \"linecolor\": \"white\", \"showbackground\": true, \"ticks\": \"\", \"zerolinecolor\": \"white\"}, \"yaxis\": {\"backgroundcolor\": \"#E5ECF6\", \"gridcolor\": \"white\", \"gridwidth\": 2, \"linecolor\": \"white\", \"showbackground\": true, \"ticks\": \"\", \"zerolinecolor\": \"white\"}, \"zaxis\": {\"backgroundcolor\": \"#E5ECF6\", \"gridcolor\": \"white\", \"gridwidth\": 2, \"linecolor\": \"white\", \"showbackground\": true, \"ticks\": \"\", \"zerolinecolor\": \"white\"}}, \"shapedefaults\": {\"line\": {\"color\": \"#2a3f5f\"}}, \"ternary\": {\"aaxis\": {\"gridcolor\": \"white\", \"linecolor\": \"white\", \"ticks\": \"\"}, \"baxis\": {\"gridcolor\": \"white\", \"linecolor\": \"white\", \"ticks\": \"\"}, \"bgcolor\": \"#E5ECF6\", \"caxis\": {\"gridcolor\": \"white\", \"linecolor\": \"white\", \"ticks\": \"\"}}, \"title\": {\"x\": 0.05}, \"xaxis\": {\"automargin\": true, \"gridcolor\": \"white\", \"linecolor\": \"white\", \"ticks\": \"\", \"title\": {\"standoff\": 15}, \"zerolinecolor\": \"white\", \"zerolinewidth\": 2}, \"yaxis\": {\"automargin\": true, \"gridcolor\": \"white\", \"linecolor\": \"white\", \"ticks\": \"\", \"title\": {\"standoff\": 15}, \"zerolinecolor\": \"white\", \"zerolinewidth\": 2}}}, \"title\": {\"font\": {\"size\": 16}, \"text\": \"<br>Network graph made with Python\"}, \"xaxis\": {\"showgrid\": false, \"showticklabels\": false, \"zeroline\": false}, \"yaxis\": {\"showgrid\": false, \"showticklabels\": false, \"zeroline\": false}},\n",
       "                        {\"responsive\": true}\n",
       "                    ).then(function(){\n",
       "                            \n",
       "var gd = document.getElementById('447d4498-dbcc-4364-8059-75d2a7045407');\n",
       "var x = new MutationObserver(function (mutations, observer) {{\n",
       "        var display = window.getComputedStyle(gd).display;\n",
       "        if (!display || display === 'none') {{\n",
       "            console.log([gd, 'removed!']);\n",
       "            Plotly.purge(gd);\n",
       "            observer.disconnect();\n",
       "        }}\n",
       "}});\n",
       "\n",
       "// Listen for the removal of the full notebook cells\n",
       "var notebookContainer = gd.closest('#notebook-container');\n",
       "if (notebookContainer) {{\n",
       "    x.observe(notebookContainer, {childList: true});\n",
       "}}\n",
       "\n",
       "// Listen for the clearing of the current output cell\n",
       "var outputEl = gd.closest('.output');\n",
       "if (outputEl) {{\n",
       "    x.observe(outputEl, {childList: true});\n",
       "}}\n",
       "\n",
       "                        })\n",
       "                };\n",
       "                });\n",
       "            </script>\n",
       "        </div>"
      ]
     },
     "metadata": {},
     "output_type": "display_data"
    }
   ],
   "source": [
    "G = nx.relaxed_caveman_graph(25, 4, 0.25, seed=42)\n",
    "initial_infection(G, .05)\n",
    "plot_infection(G)"
   ]
  },
  {
   "cell_type": "code",
   "execution_count": 17,
   "metadata": {},
   "outputs": [],
   "source": []
  },
  {
   "cell_type": "code",
   "execution_count": 26,
   "metadata": {
    "scrolled": true
   },
   "outputs": [
    {
     "data": {
      "image/png": "[encoded data removed]",
      "text/plain": [
       "<Figure size 432x288 with 1 Axes>"
      ]
     },
     "metadata": {
      "needs_background": "light"
     },
     "output_type": "display_data"
    }
   ],
   "source": [
    "G = nx.relaxed_caveman_graph(250, 4, 0.25, seed=42)\n",
    "initial_infection(G, .05)\n",
    "time_series = simulate_pandemic(G)\n",
    "\n",
    "plt.plot(time_series.index, time_series['susceptible'], label = 'susceptible')\n",
    "plt.plot(time_series.index, time_series['infected'], label = 'infected')\n",
    "plt.plot(time_series.index, time_series['recovered'], label = 'recovered')\n",
    "plt.legend()\n",
    "plt.title('Simulação original')\n",
    "plt.show()"
   ]
  },
  {
   "cell_type": "code",
   "execution_count": 24,
   "metadata": {},
   "outputs": [
    {
     "data": {
      "image/png": "[encoded data removed]",
      "text/plain": [
       "<Figure size 432x288 with 1 Axes>"
      ]
     },
     "metadata": {
      "needs_background": "light"
     },
     "output_type": "display_data"
    }
   ],
   "source": [
    "G = nx.relaxed_caveman_graph(250, 4, 0.25, seed=42)\n",
    "initial_infection(G, .05)\n",
    "time_series = simulate_pandemic(G)\n",
    "\n",
    "plt.plot(time_series.index, time_series['susceptible'], label = 'susceptible')\n",
    "plt.plot(time_series.index, time_series['infected'], label = 'infected')\n",
    "plt.plot(time_series.index, time_series['recovered'], label = 'recovered')\n",
    "plt.legend()\n",
    "plt.title('Simulação Modificada')\n",
    "plt.show()"
   ]
  },
  {
   "cell_type": "code",
   "execution_count": 174,
   "metadata": {
    "scrolled": true
   },
   "outputs": [
    {
     "data": {
      "text/plain": [
       "[<matplotlib.lines.Line2D at 0x258164170c8>]"
      ]
     },
     "execution_count": 174,
     "metadata": {},
     "output_type": "execute_result"
    },
    {
     "data": {
      "image/png": "[encoded data removed]",
      "text/plain": [
       "<Figure size 432x288 with 1 Axes>"
      ]
     },
     "metadata": {
      "needs_background": "light"
     },
     "output_type": "display_data"
    }
   ],
   "source": [
    "ni_rolling = time_series['newly_infected'].rolling(3).mean()[2:]\n",
    "plt.plot(ni_rolling.index, ni_rolling.values)"
   ]
  },
  {
   "cell_type": "code",
   "execution_count": 175,
   "metadata": {},
   "outputs": [
    {
     "data": {
      "text/html": [
       "<div>\n",
       "<style scoped>\n",
       "    .dataframe tbody tr th:only-of-type {\n",
       "        vertical-align: middle;\n",
       "    }\n",
       "\n",
       "    .dataframe tbody tr th {\n",
       "        vertical-align: top;\n",
       "    }\n",
       "\n",
       "    .dataframe thead th {\n",
       "        text-align: right;\n",
       "    }\n",
       "</style>\n",
       "<table border=\"1\" class=\"dataframe\">\n",
       "  <thead>\n",
       "    <tr style=\"text-align: right;\">\n",
       "      <th></th>\n",
       "      <th>susceptible</th>\n",
       "      <th>infected</th>\n",
       "      <th>recovered</th>\n",
       "      <th>newly_infected</th>\n",
       "      <th>contacts_infected_mean</th>\n",
       "    </tr>\n",
       "  </thead>\n",
       "  <tbody>\n",
       "    <tr>\n",
       "      <th>0</th>\n",
       "      <td>0.99995</td>\n",
       "      <td>0.050</td>\n",
       "      <td>0.000</td>\n",
       "      <td>50.0</td>\n",
       "      <td>0.000000</td>\n",
       "    </tr>\n",
       "    <tr>\n",
       "      <th>1</th>\n",
       "      <td>0.87300</td>\n",
       "      <td>0.127</td>\n",
       "      <td>0.000</td>\n",
       "      <td>77.0</td>\n",
       "      <td>NaN</td>\n",
       "    </tr>\n",
       "    <tr>\n",
       "      <th>2</th>\n",
       "      <td>0.79700</td>\n",
       "      <td>0.203</td>\n",
       "      <td>0.000</td>\n",
       "      <td>84.0</td>\n",
       "      <td>NaN</td>\n",
       "    </tr>\n",
       "    <tr>\n",
       "      <th>3</th>\n",
       "      <td>0.68400</td>\n",
       "      <td>0.316</td>\n",
       "      <td>0.000</td>\n",
       "      <td>126.0</td>\n",
       "      <td>NaN</td>\n",
       "    </tr>\n",
       "    <tr>\n",
       "      <th>4</th>\n",
       "      <td>0.58600</td>\n",
       "      <td>0.414</td>\n",
       "      <td>0.000</td>\n",
       "      <td>106.0</td>\n",
       "      <td>NaN</td>\n",
       "    </tr>\n",
       "    <tr>\n",
       "      <th>5</th>\n",
       "      <td>0.48600</td>\n",
       "      <td>0.514</td>\n",
       "      <td>0.000</td>\n",
       "      <td>113.0</td>\n",
       "      <td>NaN</td>\n",
       "    </tr>\n",
       "    <tr>\n",
       "      <th>6</th>\n",
       "      <td>0.37300</td>\n",
       "      <td>0.627</td>\n",
       "      <td>0.000</td>\n",
       "      <td>127.0</td>\n",
       "      <td>NaN</td>\n",
       "    </tr>\n",
       "    <tr>\n",
       "      <th>7</th>\n",
       "      <td>0.28100</td>\n",
       "      <td>0.719</td>\n",
       "      <td>0.000</td>\n",
       "      <td>110.0</td>\n",
       "      <td>NaN</td>\n",
       "    </tr>\n",
       "    <tr>\n",
       "      <th>8</th>\n",
       "      <td>0.21600</td>\n",
       "      <td>0.784</td>\n",
       "      <td>0.000</td>\n",
       "      <td>85.0</td>\n",
       "      <td>NaN</td>\n",
       "    </tr>\n",
       "    <tr>\n",
       "      <th>9</th>\n",
       "      <td>0.16100</td>\n",
       "      <td>0.839</td>\n",
       "      <td>0.000</td>\n",
       "      <td>71.0</td>\n",
       "      <td>NaN</td>\n",
       "    </tr>\n",
       "    <tr>\n",
       "      <th>10</th>\n",
       "      <td>0.13100</td>\n",
       "      <td>0.869</td>\n",
       "      <td>0.000</td>\n",
       "      <td>36.0</td>\n",
       "      <td>NaN</td>\n",
       "    </tr>\n",
       "    <tr>\n",
       "      <th>11</th>\n",
       "      <td>0.10700</td>\n",
       "      <td>0.893</td>\n",
       "      <td>0.000</td>\n",
       "      <td>28.0</td>\n",
       "      <td>NaN</td>\n",
       "    </tr>\n",
       "    <tr>\n",
       "      <th>12</th>\n",
       "      <td>0.09000</td>\n",
       "      <td>0.860</td>\n",
       "      <td>0.050</td>\n",
       "      <td>22.0</td>\n",
       "      <td>2.560000</td>\n",
       "    </tr>\n",
       "    <tr>\n",
       "      <th>13</th>\n",
       "      <td>0.08100</td>\n",
       "      <td>0.792</td>\n",
       "      <td>0.127</td>\n",
       "      <td>10.0</td>\n",
       "      <td>1.771654</td>\n",
       "    </tr>\n",
       "    <tr>\n",
       "      <th>14</th>\n",
       "      <td>0.07200</td>\n",
       "      <td>0.725</td>\n",
       "      <td>0.203</td>\n",
       "      <td>9.0</td>\n",
       "      <td>1.699507</td>\n",
       "    </tr>\n",
       "    <tr>\n",
       "      <th>15</th>\n",
       "      <td>0.06500</td>\n",
       "      <td>0.619</td>\n",
       "      <td>0.316</td>\n",
       "      <td>8.0</td>\n",
       "      <td>1.493671</td>\n",
       "    </tr>\n",
       "    <tr>\n",
       "      <th>16</th>\n",
       "      <td>0.06200</td>\n",
       "      <td>0.524</td>\n",
       "      <td>0.414</td>\n",
       "      <td>4.0</td>\n",
       "      <td>1.398551</td>\n",
       "    </tr>\n",
       "    <tr>\n",
       "      <th>17</th>\n",
       "      <td>0.05700</td>\n",
       "      <td>0.429</td>\n",
       "      <td>0.514</td>\n",
       "      <td>5.0</td>\n",
       "      <td>1.373541</td>\n",
       "    </tr>\n",
       "    <tr>\n",
       "      <th>18</th>\n",
       "      <td>0.05300</td>\n",
       "      <td>0.320</td>\n",
       "      <td>0.627</td>\n",
       "      <td>5.0</td>\n",
       "      <td>1.290271</td>\n",
       "    </tr>\n",
       "    <tr>\n",
       "      <th>19</th>\n",
       "      <td>0.05000</td>\n",
       "      <td>0.231</td>\n",
       "      <td>0.719</td>\n",
       "      <td>4.0</td>\n",
       "      <td>1.216968</td>\n",
       "    </tr>\n",
       "    <tr>\n",
       "      <th>20</th>\n",
       "      <td>0.04800</td>\n",
       "      <td>0.168</td>\n",
       "      <td>0.784</td>\n",
       "      <td>2.0</td>\n",
       "      <td>1.181122</td>\n",
       "    </tr>\n",
       "    <tr>\n",
       "      <th>21</th>\n",
       "      <td>0.04700</td>\n",
       "      <td>0.114</td>\n",
       "      <td>0.839</td>\n",
       "      <td>1.0</td>\n",
       "      <td>1.144219</td>\n",
       "    </tr>\n",
       "    <tr>\n",
       "      <th>22</th>\n",
       "      <td>0.04700</td>\n",
       "      <td>0.084</td>\n",
       "      <td>0.869</td>\n",
       "      <td>0.0</td>\n",
       "      <td>1.126582</td>\n",
       "    </tr>\n",
       "    <tr>\n",
       "      <th>23</th>\n",
       "      <td>0.04700</td>\n",
       "      <td>0.060</td>\n",
       "      <td>0.893</td>\n",
       "      <td>0.0</td>\n",
       "      <td>1.110862</td>\n",
       "    </tr>\n",
       "    <tr>\n",
       "      <th>24</th>\n",
       "      <td>0.04700</td>\n",
       "      <td>0.043</td>\n",
       "      <td>0.910</td>\n",
       "      <td>0.0</td>\n",
       "      <td>1.102198</td>\n",
       "    </tr>\n",
       "    <tr>\n",
       "      <th>25</th>\n",
       "      <td>0.04700</td>\n",
       "      <td>0.034</td>\n",
       "      <td>0.919</td>\n",
       "      <td>0.0</td>\n",
       "      <td>1.099021</td>\n",
       "    </tr>\n",
       "    <tr>\n",
       "      <th>26</th>\n",
       "      <td>0.04700</td>\n",
       "      <td>0.025</td>\n",
       "      <td>0.928</td>\n",
       "      <td>0.0</td>\n",
       "      <td>1.091595</td>\n",
       "    </tr>\n",
       "    <tr>\n",
       "      <th>27</th>\n",
       "      <td>0.04700</td>\n",
       "      <td>0.018</td>\n",
       "      <td>0.935</td>\n",
       "      <td>0.0</td>\n",
       "      <td>1.087701</td>\n",
       "    </tr>\n",
       "    <tr>\n",
       "      <th>28</th>\n",
       "      <td>0.04700</td>\n",
       "      <td>0.015</td>\n",
       "      <td>0.938</td>\n",
       "      <td>0.0</td>\n",
       "      <td>1.090618</td>\n",
       "    </tr>\n",
       "    <tr>\n",
       "      <th>29</th>\n",
       "      <td>0.04700</td>\n",
       "      <td>0.010</td>\n",
       "      <td>0.943</td>\n",
       "      <td>0.0</td>\n",
       "      <td>1.089077</td>\n",
       "    </tr>\n",
       "    <tr>\n",
       "      <th>30</th>\n",
       "      <td>0.04700</td>\n",
       "      <td>0.006</td>\n",
       "      <td>0.947</td>\n",
       "      <td>0.0</td>\n",
       "      <td>1.087645</td>\n",
       "    </tr>\n",
       "    <tr>\n",
       "      <th>31</th>\n",
       "      <td>0.04700</td>\n",
       "      <td>0.003</td>\n",
       "      <td>0.950</td>\n",
       "      <td>0.0</td>\n",
       "      <td>1.086316</td>\n",
       "    </tr>\n",
       "    <tr>\n",
       "      <th>32</th>\n",
       "      <td>0.04700</td>\n",
       "      <td>0.001</td>\n",
       "      <td>0.952</td>\n",
       "      <td>0.0</td>\n",
       "      <td>1.085084</td>\n",
       "    </tr>\n",
       "    <tr>\n",
       "      <th>33</th>\n",
       "      <td>0.04700</td>\n",
       "      <td>0.000</td>\n",
       "      <td>0.953</td>\n",
       "      <td>0.0</td>\n",
       "      <td>1.083945</td>\n",
       "    </tr>\n",
       "  </tbody>\n",
       "</table>\n",
       "</div>"
      ],
      "text/plain": [
       "    susceptible  infected  recovered  newly_infected  contacts_infected_mean\n",
       "0       0.99995     0.050      0.000            50.0                0.000000\n",
       "1       0.87300     0.127      0.000            77.0                     NaN\n",
       "2       0.79700     0.203      0.000            84.0                     NaN\n",
       "3       0.68400     0.316      0.000           126.0                     NaN\n",
       "4       0.58600     0.414      0.000           106.0                     NaN\n",
       "5       0.48600     0.514      0.000           113.0                     NaN\n",
       "6       0.37300     0.627      0.000           127.0                     NaN\n",
       "7       0.28100     0.719      0.000           110.0                     NaN\n",
       "8       0.21600     0.784      0.000            85.0                     NaN\n",
       "9       0.16100     0.839      0.000            71.0                     NaN\n",
       "10      0.13100     0.869      0.000            36.0                     NaN\n",
       "11      0.10700     0.893      0.000            28.0                     NaN\n",
       "12      0.09000     0.860      0.050            22.0                2.560000\n",
       "13      0.08100     0.792      0.127            10.0                1.771654\n",
       "14      0.07200     0.725      0.203             9.0                1.699507\n",
       "15      0.06500     0.619      0.316             8.0                1.493671\n",
       "16      0.06200     0.524      0.414             4.0                1.398551\n",
       "17      0.05700     0.429      0.514             5.0                1.373541\n",
       "18      0.05300     0.320      0.627             5.0                1.290271\n",
       "19      0.05000     0.231      0.719             4.0                1.216968\n",
       "20      0.04800     0.168      0.784             2.0                1.181122\n",
       "21      0.04700     0.114      0.839             1.0                1.144219\n",
       "22      0.04700     0.084      0.869             0.0                1.126582\n",
       "23      0.04700     0.060      0.893             0.0                1.110862\n",
       "24      0.04700     0.043      0.910             0.0                1.102198\n",
       "25      0.04700     0.034      0.919             0.0                1.099021\n",
       "26      0.04700     0.025      0.928             0.0                1.091595\n",
       "27      0.04700     0.018      0.935             0.0                1.087701\n",
       "28      0.04700     0.015      0.938             0.0                1.090618\n",
       "29      0.04700     0.010      0.943             0.0                1.089077\n",
       "30      0.04700     0.006      0.947             0.0                1.087645\n",
       "31      0.04700     0.003      0.950             0.0                1.086316\n",
       "32      0.04700     0.001      0.952             0.0                1.085084\n",
       "33      0.04700     0.000      0.953             0.0                1.083945"
      ]
     },
     "execution_count": 175,
     "metadata": {},
     "output_type": "execute_result"
    }
   ],
   "source": [
    "time_series"
   ]
  },
  {
   "cell_type": "code",
   "execution_count": 169,
   "metadata": {},
   "outputs": [
    {
     "data": {
      "image/png": "[encoded data removed]",
      "text/plain": [
       "<Figure size 432x288 with 1 Axes>"
      ]
     },
     "metadata": {
      "needs_background": "light"
     },
     "output_type": "display_data"
    }
   ],
   "source": [
    "# Trying to get contacts_infected near 2\n",
    "G = nx.relaxed_caveman_graph(250, 4, 0.25, seed=42)\n",
    "initial_infection(G, .05)\n",
    "time_series = simulate_pandemic(G, chance_to_infect=1, recover_time=7)\n",
    "plt.plot(time_series.index, time_series['susceptible'], label = 'susceptible')\n",
    "plt.plot(time_series.index, time_series['infected'], label = 'infected')\n",
    "plt.plot(time_series.index, time_series['recovered'], label = 'recovered')\n",
    "plt.legend()\n",
    "plt.show()"
   ]
  },
  {
   "cell_type": "code",
   "execution_count": 170,
   "metadata": {},
   "outputs": [
    {
     "data": {
      "text/plain": [
       "[<matplotlib.lines.Line2D at 0x25814c9b988>]"
      ]
     },
     "execution_count": 170,
     "metadata": {},
     "output_type": "execute_result"
    },
    {
     "data": {
      "image/png": "[encoded data removed]",
      "text/plain": [
       "<Figure size 432x288 with 1 Axes>"
      ]
     },
     "metadata": {
      "needs_background": "light"
     },
     "output_type": "display_data"
    }
   ],
   "source": [
    "ni_rolling = time_series['newly_infected'].rolling(3).mean()[2:]\n",
    "plt.plot(ni_rolling.index, ni_rolling.values)"
   ]
  },
  {
   "cell_type": "code",
   "execution_count": 171,
   "metadata": {},
   "outputs": [
    {
     "data": {
      "text/html": [
       "<div>\n",
       "<style scoped>\n",
       "    .dataframe tbody tr th:only-of-type {\n",
       "        vertical-align: middle;\n",
       "    }\n",
       "\n",
       "    .dataframe tbody tr th {\n",
       "        vertical-align: top;\n",
       "    }\n",
       "\n",
       "    .dataframe thead th {\n",
       "        text-align: right;\n",
       "    }\n",
       "</style>\n",
       "<table border=\"1\" class=\"dataframe\">\n",
       "  <thead>\n",
       "    <tr style=\"text-align: right;\">\n",
       "      <th></th>\n",
       "      <th>susceptible</th>\n",
       "      <th>infected</th>\n",
       "      <th>recovered</th>\n",
       "      <th>newly_infected</th>\n",
       "      <th>contacts_infected_mean</th>\n",
       "    </tr>\n",
       "  </thead>\n",
       "  <tbody>\n",
       "    <tr>\n",
       "      <th>0</th>\n",
       "      <td>0.999951</td>\n",
       "      <td>0.049</td>\n",
       "      <td>0.000</td>\n",
       "      <td>50.0</td>\n",
       "      <td>0.000000</td>\n",
       "    </tr>\n",
       "    <tr>\n",
       "      <th>1</th>\n",
       "      <td>0.829000</td>\n",
       "      <td>0.171</td>\n",
       "      <td>0.000</td>\n",
       "      <td>132.0</td>\n",
       "      <td>NaN</td>\n",
       "    </tr>\n",
       "    <tr>\n",
       "      <th>2</th>\n",
       "      <td>0.717000</td>\n",
       "      <td>0.283</td>\n",
       "      <td>0.000</td>\n",
       "      <td>130.0</td>\n",
       "      <td>NaN</td>\n",
       "    </tr>\n",
       "    <tr>\n",
       "      <th>3</th>\n",
       "      <td>0.558000</td>\n",
       "      <td>0.442</td>\n",
       "      <td>0.000</td>\n",
       "      <td>183.0</td>\n",
       "      <td>NaN</td>\n",
       "    </tr>\n",
       "    <tr>\n",
       "      <th>4</th>\n",
       "      <td>0.396000</td>\n",
       "      <td>0.604</td>\n",
       "      <td>0.000</td>\n",
       "      <td>195.0</td>\n",
       "      <td>NaN</td>\n",
       "    </tr>\n",
       "    <tr>\n",
       "      <th>5</th>\n",
       "      <td>0.263000</td>\n",
       "      <td>0.737</td>\n",
       "      <td>0.000</td>\n",
       "      <td>164.0</td>\n",
       "      <td>NaN</td>\n",
       "    </tr>\n",
       "    <tr>\n",
       "      <th>6</th>\n",
       "      <td>0.162000</td>\n",
       "      <td>0.838</td>\n",
       "      <td>0.000</td>\n",
       "      <td>127.0</td>\n",
       "      <td>NaN</td>\n",
       "    </tr>\n",
       "    <tr>\n",
       "      <th>7</th>\n",
       "      <td>0.100000</td>\n",
       "      <td>0.851</td>\n",
       "      <td>0.049</td>\n",
       "      <td>79.0</td>\n",
       "      <td>2.693878</td>\n",
       "    </tr>\n",
       "    <tr>\n",
       "      <th>8</th>\n",
       "      <td>0.073000</td>\n",
       "      <td>0.756</td>\n",
       "      <td>0.171</td>\n",
       "      <td>34.0</td>\n",
       "      <td>1.532164</td>\n",
       "    </tr>\n",
       "    <tr>\n",
       "      <th>9</th>\n",
       "      <td>0.060000</td>\n",
       "      <td>0.657</td>\n",
       "      <td>0.283</td>\n",
       "      <td>17.0</td>\n",
       "      <td>1.572438</td>\n",
       "    </tr>\n",
       "    <tr>\n",
       "      <th>10</th>\n",
       "      <td>0.052000</td>\n",
       "      <td>0.506</td>\n",
       "      <td>0.442</td>\n",
       "      <td>11.0</td>\n",
       "      <td>1.447964</td>\n",
       "    </tr>\n",
       "    <tr>\n",
       "      <th>11</th>\n",
       "      <td>0.048000</td>\n",
       "      <td>0.348</td>\n",
       "      <td>0.604</td>\n",
       "      <td>5.0</td>\n",
       "      <td>1.331126</td>\n",
       "    </tr>\n",
       "    <tr>\n",
       "      <th>12</th>\n",
       "      <td>0.048000</td>\n",
       "      <td>0.215</td>\n",
       "      <td>0.737</td>\n",
       "      <td>0.0</td>\n",
       "      <td>1.263229</td>\n",
       "    </tr>\n",
       "    <tr>\n",
       "      <th>13</th>\n",
       "      <td>0.048000</td>\n",
       "      <td>0.114</td>\n",
       "      <td>0.838</td>\n",
       "      <td>0.0</td>\n",
       "      <td>1.205251</td>\n",
       "    </tr>\n",
       "    <tr>\n",
       "      <th>14</th>\n",
       "      <td>0.048000</td>\n",
       "      <td>0.052</td>\n",
       "      <td>0.900</td>\n",
       "      <td>0.0</td>\n",
       "      <td>1.160000</td>\n",
       "    </tr>\n",
       "    <tr>\n",
       "      <th>15</th>\n",
       "      <td>0.048000</td>\n",
       "      <td>0.025</td>\n",
       "      <td>0.927</td>\n",
       "      <td>0.0</td>\n",
       "      <td>1.144552</td>\n",
       "    </tr>\n",
       "    <tr>\n",
       "      <th>16</th>\n",
       "      <td>0.048000</td>\n",
       "      <td>0.012</td>\n",
       "      <td>0.940</td>\n",
       "      <td>0.0</td>\n",
       "      <td>1.140426</td>\n",
       "    </tr>\n",
       "    <tr>\n",
       "      <th>17</th>\n",
       "      <td>0.048000</td>\n",
       "      <td>0.004</td>\n",
       "      <td>0.948</td>\n",
       "      <td>0.0</td>\n",
       "      <td>1.136076</td>\n",
       "    </tr>\n",
       "    <tr>\n",
       "      <th>18</th>\n",
       "      <td>0.048000</td>\n",
       "      <td>0.000</td>\n",
       "      <td>0.952</td>\n",
       "      <td>0.0</td>\n",
       "      <td>1.131303</td>\n",
       "    </tr>\n",
       "  </tbody>\n",
       "</table>\n",
       "</div>"
      ],
      "text/plain": [
       "    susceptible  infected  recovered  newly_infected  contacts_infected_mean\n",
       "0      0.999951     0.049      0.000            50.0                0.000000\n",
       "1      0.829000     0.171      0.000           132.0                     NaN\n",
       "2      0.717000     0.283      0.000           130.0                     NaN\n",
       "3      0.558000     0.442      0.000           183.0                     NaN\n",
       "4      0.396000     0.604      0.000           195.0                     NaN\n",
       "5      0.263000     0.737      0.000           164.0                     NaN\n",
       "6      0.162000     0.838      0.000           127.0                     NaN\n",
       "7      0.100000     0.851      0.049            79.0                2.693878\n",
       "8      0.073000     0.756      0.171            34.0                1.532164\n",
       "9      0.060000     0.657      0.283            17.0                1.572438\n",
       "10     0.052000     0.506      0.442            11.0                1.447964\n",
       "11     0.048000     0.348      0.604             5.0                1.331126\n",
       "12     0.048000     0.215      0.737             0.0                1.263229\n",
       "13     0.048000     0.114      0.838             0.0                1.205251\n",
       "14     0.048000     0.052      0.900             0.0                1.160000\n",
       "15     0.048000     0.025      0.927             0.0                1.144552\n",
       "16     0.048000     0.012      0.940             0.0                1.140426\n",
       "17     0.048000     0.004      0.948             0.0                1.136076\n",
       "18     0.048000     0.000      0.952             0.0                1.131303"
      ]
     },
     "execution_count": 171,
     "metadata": {},
     "output_type": "execute_result"
    }
   ],
   "source": [
    "time_series"
   ]
  },
  {
   "cell_type": "markdown",
   "metadata": {},
   "source": [
    "# SPREAD BASED ON THE PROPOSED MODEL\n",
    "\n",
    "The transition function models the disease spread by estimating the probability\n",
    "of an individual being in a certain state based on the state of the neighboring\n",
    "individuals at the network G at the previous state (including the individual),\n",
    "and on the actions taken. Consider that each relation r ∈ Σ is associated with\n",
    "a probability pr that an infected individual b infects a susceptible individual\n",
    "a that are connected through relation r. The transmission model follows a\n",
    "Noisy-Or distribution where each infected individual “fails” to infect a neighbour\n",
    "with probability 1 − pr. There is also a “leak probability” λ that models the\n",
    "probability that someone gets infected “spontaneously”, that is, when none of\n",
    "its neighbors are infected.\n",
    "\n",
    "## Parameters\n",
    "\n",
    "Given a susceptible Node a, the chance for it to become infected is equal to:\n",
    "\n",
    "* For each relation r, the chance \n"
   ]
  },
  {
   "cell_type": "code",
   "execution_count": 30,
   "metadata": {},
   "outputs": [],
   "source": [
    "def chance_to_infect(infected_neighbours, lamb =.05, p_r=.5):\n",
    "    return 1 - (1- lamb) * (1-p_r)**infected_neighbours\n",
    "    "
   ]
  },
  {
   "cell_type": "code",
   "execution_count": 32,
   "metadata": {},
   "outputs": [
    {
     "name": "stdout",
     "output_type": "stream",
     "text": [
      "Contatos infectados: 0: Chance: 0.050000000000000044\n",
      "Contatos infectados: 1: Chance: 0.525\n",
      "Contatos infectados: 2: Chance: 0.7625\n",
      "Contatos infectados: 3: Chance: 0.88125\n",
      "Contatos infectados: 4: Chance: 0.940625\n"
     ]
    }
   ],
   "source": [
    "for i in range(0,5):\n",
    "    print(f'Contatos infectados: {i}: Chance: {chance_to_infect(i)}')"
   ]
  },
  {
   "cell_type": "code",
   "execution_count": 40,
   "metadata": {},
   "outputs": [
    {
     "data": {
      "text/plain": [
       "Text(0, 0.5, 'Chance de infecção')"
      ]
     },
     "execution_count": 40,
     "metadata": {},
     "output_type": "execute_result"
    },
    {
     "data": {
      "image/png": "[encoded data removed]",
      "text/plain": [
       "<Figure size 432x288 with 1 Axes>"
      ]
     },
     "metadata": {
      "needs_background": "light"
     },
     "output_type": "display_data"
    }
   ],
   "source": [
    "plt.scatter(range(0,5), [chance_to_infect(x) for x in range(0,5)])\n",
    "plt.xticks(range(0,5))\n",
    "plt.xlabel('Numero de contatos')\n",
    "plt.ylabel('Chance de infecção')"
   ]
  },
  {
   "cell_type": "markdown",
   "metadata": {},
   "source": [
    "# Disease evolution Model\n",
    "\n",
    "## source : https://www.imperial.ac.uk/media/imperial-college/medicine/sph/ide/gida-fellowships/Imperial-College-COVID19-NPI-modelling-16-03-2020.pdf\n",
    "\n"
   ]
  }
 ],
 "metadata": {
  "kernelspec": {
   "display_name": "Python 3",
   "language": "python",
   "name": "python3"
  },
  "language_info": {
   "codemirror_mode": {
    "name": "ipython",
    "version": 3
   },
   "file_extension": ".py",
   "mimetype": "text/x-python",
   "name": "python",
   "nbconvert_exporter": "python",
   "pygments_lexer": "ipython3",
   "version": "3.7.7"
  }
 },
 "nbformat": 4,
 "nbformat_minor": 4
}
