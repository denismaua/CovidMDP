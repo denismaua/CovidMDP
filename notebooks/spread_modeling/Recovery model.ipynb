{
 "cells": [
  {
   "cell_type": "code",
   "execution_count": 5,
   "metadata": {},
   "outputs": [],
   "source": [
    "import os\n",
    "os.chdir('..\\\\..')"
   ]
  },
  {
   "cell_type": "code",
   "execution_count": 14,
   "metadata": {},
   "outputs": [],
   "source": [
    "import networkx as nx\n",
    "import numpy as np\n",
    "import pandas as pd\n",
    "import collections\n",
    "\n",
    "# Start with pct% of population infected\n",
    "def init_graph(initial_infection = .05, graph_model = 'relaxed_caveman', pop_size = 1000):\n",
    "    if graph_model == 'relaxed_caveman':\n",
    "        G = nx.relaxed_caveman_graph(int(pop_size/4), 4, 0.25, seed=42)\n",
    "    elif graph_model == 'scale_free':\n",
    "        G = nx.scale_free_graph(pop_size)\n",
    "    else:\n",
    "        raise ValueError(\"Unknown graph type\")\n",
    "        \n",
    "    init_infection(G, initial_infection)\n",
    "\n",
    "    return G\n",
    "\n",
    "def init_parameters(initial_infection, graph_model):\n",
    "    G = init_graph(initial_infection, graph_model)\n",
    "    \n",
    "    status = current_status(G)\n",
    "    \n",
    "    pop = len(G.nodes)\n",
    "    i = status['infected'] / pop\n",
    "    s = (pop - i) / pop\n",
    "    newly_infected = status['infected']\n",
    "    r, contacts_infected = 0, 0\n",
    "\n",
    "    data = [[s,i, r, newly_infected, contacts_infected]]\n",
    "\n",
    "    return G, data, status, pop\n",
    "\n",
    "def init_infection(G, pct):\n",
    "    \"\"\"\n",
    "    Given a Graph G, infects pct% of population and set the remainder as susceptible.\n",
    "    This is considered day 0.\n",
    "    \"\"\"\n",
    "    size = int(len(G.nodes) * pct) \n",
    "    infected = np.random.choice(G.nodes, size = size)\n",
    "    \n",
    "    for node in G.nodes():\n",
    "        if node in infected: \n",
    "            G.nodes[node].update({'status' : 'infected',\n",
    "                                  'infection_day': 0, \n",
    "                                  'contacts_infected': 0})\n",
    "        else:\n",
    "            G.nodes[node].update({'status': 'susceptible', \n",
    "                                  'infection_day' : -1, \n",
    "                                  'contacts_infected': 0})\n",
    "\n",
    "\n",
    "\n",
    "def recover_one_step(G, day, recover_time = 12):\n",
    "    \"\"\"\n",
    "    Recover everyone that has been infected recover_time days or more\n",
    "    \"\"\"\n",
    "\n",
    "    for node, adjacencies in enumerate(G.adjacency()):\n",
    "        if G.nodes[node]['status'] == 'infected':\n",
    "            if day - G.nodes[node]['infection_day'] >= recover_time: \n",
    "                G.nodes[node]['status'] = 'recovered'\n",
    "\n",
    "def spread_one_step(G, day, p_r = 0.5, lambda_leak = 0.05):\n",
    "    \"\"\"\n",
    "    Spreads the infection 1 step, to the susceptible neighbours of infected people\n",
    "    day is current day\n",
    "    \"\"\"\n",
    "    newly_infected = []\n",
    "       \n",
    "    for node, adjacencies in enumerate(G.adjacency()):\n",
    "        if G.nodes[node]['status'] == 'susceptible':\n",
    "            if np.random.random() < lambda_leak:\n",
    "                newly_infected.append(node)    \n",
    "            else:\n",
    "                for contact in adjacencies[1].keys():\n",
    "                    if G.nodes[contact]['status'] == 'infected' and np.random.random() < p_r:\n",
    "                            newly_infected.append(node)\n",
    "                            G.nodes[contact]['contacts_infected'] += 1\n",
    "                            break  \n",
    "        \n",
    "    for node in np.unique(newly_infected):\n",
    "        G.nodes[node].update({'status' : 'infected', 'infection_day': day})\n",
    "        \n",
    "    return len(newly_infected)\n",
    "\n",
    "\n",
    "def simulate_one_step(G, day, recover_time=12, p_r=0.5, infectious_window=[4,6]):\n",
    "    \"\"\"\n",
    "    Recover and Spread one step\n",
    "    \"\"\"\n",
    "    recover_one_step(G, day, recover_time)\n",
    "    newly_infected =  spread_one_step(G, day, p_r, infectious_window)\n",
    "    return newly_infected\n",
    "\n",
    "def current_status(G):\n",
    "    \"\"\"\n",
    "    Returns a dict containing the current status of susceptible, infected and recovered\n",
    "    \"\"\"\n",
    "    nodes = np.array(G.nodes(data=True))[:,1]\n",
    "    result = collections.Counter(node['status'] for node in nodes)\n",
    "    return result\n",
    "    \n",
    "    \n",
    "def simulate_pandemic(initial_infection=.05, recover_time=12, p_r=.5, \n",
    "                          lambda_leak=.05, graph_model = 'relaxed_caveman'):\n",
    "    \"\"\"\n",
    "    Runs the course of the pandemic from the start until\n",
    "    less than 1% of the population is simultaneously infected or no one is infected\n",
    "    \"\"\"\n",
    "    \n",
    "    G, data, status, pop = init_parameters(initial_infection, graph_model)\n",
    "\n",
    "    day = 0\n",
    "    while status['infected']>(.01*pop) and  (status['recovered']+status['susceptible'])<pop:\n",
    "        day +=1\n",
    "        \n",
    "        recover_one_step(G, day, recover_time)\n",
    "        \n",
    "        newly_infected = spread_one_step(G, day, p_r, lambda_leak)\n",
    "       \n",
    "        status = current_status(G)\n",
    "        i = status['infected'] / pop\n",
    "        s = status['susceptible'] / pop\n",
    "        r = status['recovered'] / pop\n",
    "        \n",
    "        contacts_infected = [node['contacts_infected'] for i, node in G.nodes(data=True) if node['status'] == 'recovered']\n",
    "        if len(contacts_infected) > 0: \n",
    "            contacts_infected = np.mean(contacts_infected)\n",
    "        else:\n",
    "            contacts_infected = np.nan\n",
    "        data.append([s, i, r, newly_infected, contacts_infected])\n",
    "    columns = ['susceptible', 'infected', 'recovered', 'newly_infected', 'contacts_infected_mean']\n",
    "\n",
    "    time_series = pd.DataFrame(data, columns=columns)\n",
    "    \n",
    "    return time_series\n"
   ]
  },
  {
   "cell_type": "code",
   "execution_count": 76,
   "metadata": {},
   "outputs": [],
   "source": [
    "def sample_incubation_period(log_mean=1.611195, log_sigma=0.47238, mean=None, sigma=None):\n",
    "    \"\"\"\n",
    "        We are modeling the incubation time as a lognormal distribution with mean of \n",
    "        Mean: 5.6, Standar Deviation: 2.8. If we wish to chance the mean or SD, just need\n",
    "        to input the new values, either as mean and sigma or log_mean and log_sigma\n",
    "        \n",
    "        source: https://www.ncbi.nlm.nih.gov/pmc/articles/PMC7074197/\n",
    "    \"\"\"\n",
    "    if mean and sigma: \n",
    "        log_mean = np.log(mean) - .5*np.log(((sigma/mean)**2)+1)\n",
    "        log_sd = np.sqrt(np.log((sigma/mean)**2 + 1))\n",
    "\n",
    "    return np.random.lognormal(mean = log_mean, sigma =  log_sigma)\n",
    "\n",
    "def sample_onset_to_hosp(shape = 0.617347, scale=5.3454546, mean=None, sigma=None):\n",
    "    \"\"\"\n",
    "        We are modeling the onset to hospitalization time as a gamma distribution with mean of \n",
    "        Mean: 3.3, Standard Deviation: 4.2. If we wish to chance the mean or SD, just need\n",
    "        to input the new values, either as mean and sigma or shape and scale\n",
    "        \n",
    "        source: https://www.ncbi.nlm.nih.gov/pmc/articles/PMC7074197/\n",
    "    \"\"\"\n",
    "    \n",
    "    if mean and sigma:\n",
    "        shape = (mean**2)/(sd**2)\n",
    "        scale = (sd**2)/mean\n",
    "\n",
    "    return np.random.gamma(shape, scale)"
   ]
  },
  {
   "cell_type": "code",
   "execution_count": 78,
   "metadata": {},
   "outputs": [],
   "source": [
    "from scipy.stats import gamma"
   ]
  },
  {
   "cell_type": "code",
   "execution_count": 81,
   "metadata": {},
   "outputs": [
    {
     "data": {
      "text/plain": [
       "array([0.        , 0.74134837, 0.92232604, 0.97484645, 0.99157842,\n",
       "       0.99712574, 0.99900661, 0.99965359, 0.9998784 , 0.99995709,\n",
       "       0.9999848 , 0.99999459, 0.99999807, 0.99999931, 0.99999975,\n",
       "       0.99999991, 0.99999997, 0.99999999, 1.        , 1.        ,\n",
       "       1.        , 1.        , 1.        , 1.        , 1.        ,\n",
       "       1.        , 1.        , 1.        , 1.        , 1.        ,\n",
       "       1.        , 1.        , 1.        , 1.        , 1.        ,\n",
       "       1.        , 1.        , 1.        , 1.        , 1.        ,\n",
       "       1.        , 1.        , 1.        , 1.        , 1.        ,\n",
       "       1.        , 1.        , 1.        , 1.        , 1.        ])"
      ]
     },
     "execution_count": 81,
     "metadata": {},
     "output_type": "execute_result"
    }
   ],
   "source": [
    "gamma.cdf(range(0,50), 0.617347, 1/5.3454546)"
   ]
  },
  {
   "cell_type": "code",
   "execution_count": 91,
   "metadata": {},
   "outputs": [
    {
     "data": {
      "text/plain": [
       "<matplotlib.axes._subplots.AxesSubplot at 0x26e06a76148>"
      ]
     },
     "execution_count": 91,
     "metadata": {},
     "output_type": "execute_result"
    },
    {
     "data": {
      "image/png": "[encoded data removed]",
      "text/plain": [
       "<Figure size 432x288 with 1 Axes>"
      ]
     },
     "metadata": {
      "needs_background": "light"
     },
     "output_type": "display_data"
    }
   ],
   "source": [
    "sns.distplot([sample_onset_to_hosp() for x in range(1000)],\n",
    "             hist = False, kde = True, kde_kws = {'linewidth': 3})\n"
   ]
  },
  {
   "cell_type": "code",
   "execution_count": 90,
   "metadata": {},
   "outputs": [
    {
     "data": {
      "text/plain": [
       "<matplotlib.axes._subplots.AxesSubplot at 0x26e06a1aa48>"
      ]
     },
     "execution_count": 90,
     "metadata": {},
     "output_type": "execute_result"
    },
    {
     "data": {
      "image/png": "[encoded data removed]",
      "text/plain": [
       "<Figure size 432x288 with 1 Axes>"
      ]
     },
     "metadata": {
      "needs_background": "light"
     },
     "output_type": "display_data"
    }
   ],
   "source": [
    "sns.distplot([sample_onset_to_hosp(6.5, 4) for x in range(1000)],\n",
    "             hist = False, kde = True, kde_kws = {'linewidth': 3})\n"
   ]
  }
 ],
 "metadata": {
  "kernelspec": {
   "display_name": "Python 3",
   "language": "python",
   "name": "python3"
  },
  "language_info": {
   "codemirror_mode": {
    "name": "ipython",
    "version": 3
   },
   "file_extension": ".py",
   "mimetype": "text/x-python",
   "name": "python",
   "nbconvert_exporter": "python",
   "pygments_lexer": "ipython3",
   "version": "3.7.7"
  }
 },
 "nbformat": 4,
 "nbformat_minor": 4
}
