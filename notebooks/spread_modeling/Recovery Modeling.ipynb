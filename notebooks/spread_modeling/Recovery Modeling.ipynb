{
 "cells": [
  {
   "cell_type": "markdown",
   "metadata": {},
   "source": [
    "https://dash.harvard.edu/handle/1/42638988\n",
    "https://www.medrxiv.org/content/10.1101/2020.03.09.20033357v1.full.pdf\n",
    "\n",
    "# Recovery modeling\n",
    "\n",
    "We will use the availavle data to model the recovery time.\n",
    "\n",
    "The following assumptions are made:\n",
    "\n",
    "## 1. Incubation Period:\n",
    "\n",
    "The incubation period(I_period) is a Lognormal Distribution with mean equal to 5.6 days and standard deviation of 2.8.\n",
    "\n",
    "\n",
    "Upon infection, the I_period will be sampled from this distribution.\n",
    "\n",
    "When someone is infected, it takes I_period for them to become infectious. When someone has been infected for I_incubation days, we say that the we have the onset of the simptomns.\n",
    "\n",
    "## 2. Onset to Hospitalization\n",
    "\n",
    "Once someon start showing simptons, we say that the person takes H_period to be hospitalized. Here, we will model that this is the period where the person becomes infectious.\n",
    "\n",
    "We are going to assume that in those infected, we have three groups: individuals who are\n",
    "asymptomatic or have mild symptoms (95.6%), individuals who are hospitalized but do not\n",
    "require critical care (3.08%), and individuals who are hospitalized and require critical care (1.32%). https://www.imperial.ac.uk/media/imperial-college/medicine/sph/ide/gida-fellowships/Imperial-College-COVID19-NPI-modelling-16-03-2020.pdf\n",
    "\n",
    "We are going to assume that, after the H_period, a person will either be hospitalized or cured (recovered).\n",
    "\n",
    "So in the general population, we will make the pessimistic estimation that someone infected has a 5% chance of needing hospitalization.\n",
    "\n",
    "The H_period will be modeled as a gamma function.\n",
    "\n",
    "If the person is either going to not need to be hospitalized or survive hospitalization, the H_period is equal to Gamma(mean=3.3, SD = 4.2).\n",
    "\n",
    "However, if the person is going to die afterwards (here, the same as needing critical care), we have the H_period as Gamma(mean=6.5, SD = 4.0).\n",
    "\n",
    "For both cases, we consider this to be the end of the infectiouness period.\n",
    "\n",
    "## Hospitalization to outcome\n",
    "\n",
    "\n",
    "https://careporthealth.com/wp-content/uploads/2020/04/COVID-19-Mortality-Report.pdf\n",
    "\n",
    "The Mortality rates are assumed as following:\n",
    "\n",
    "85+ -> 40%\n",
    "65-84 -> 31%\n",
    "55-64 -> 23%\n",
    "45-54 -> 9%\n",
    "20-44 -> 4%\n",
    "0-19 -> 1%\n",
    "\n",
    "With the distribution of hospitalizations among the age groups following:\n",
    "\n",
    "85+ -> 8%\n",
    "75-84 -> 15%\n",
    "65-74 -> 20%\n",
    "55-64 -> 21%\n",
    "45-54 -> 15%\n",
    "20-44 -> 19%\n",
    "0-19  ->  2%\n",
    "\n",
    "This way, we can average out the mortality rate of someone dying once it has been hospitalized as equal to: 35%\n",
    "\n",
    "We were not able to find how long it takes for one patient to be cured, only for those addmited to die. So we will model both cases as follows:\n",
    "\n",
    "Time from hospitalization to death equal to a Weibull distribution with mean equal to 8.9 days and standard deviation of 5.4"
   ]
  },
  {
   "cell_type": "code",
   "execution_count": 1,
   "metadata": {},
   "outputs": [
    {
     "data": {
      "text/plain": [
       "0.3501666666666667"
      ]
     },
     "execution_count": 1,
     "metadata": {},
     "output_type": "execute_result"
    }
   ],
   "source": [
    "import numpy as np\n",
    "\n",
    "mortality = {\n",
    "            '85+' : 40,\n",
    "            '65-84' : 31,\n",
    "            '55-64' : 23,\n",
    "            '45-54' : 9,\n",
    "            '20-44' : 4,\n",
    "            '0-19' : 1 \n",
    "            }\n",
    "\n",
    "distribution = {\n",
    "    '85+' : 8,\n",
    "    '65-84' : 35,\n",
    "    '55-64' : 21,\n",
    "    '45-54' : 15,\n",
    "    '20-44' : 19,\n",
    "    '0-19' : 2\n",
    "}\n",
    "\n",
    "np.mean(np.array(list(mortality.values())) * np.array(list(distribution.values())))/1000\n"
   ]
  },
  {
   "cell_type": "code",
   "execution_count": 2,
   "metadata": {},
   "outputs": [],
   "source": [
    "from scipy.special import gamma as gamma_func\n",
    "from scipy.stats import weibull_min"
   ]
  },
  {
   "cell_type": "code",
   "execution_count": 3,
   "metadata": {},
   "outputs": [],
   "source": [
    "\n",
    "def incubation_period(mean=None, sigma=None, log_mean=1.611195, log_sigma=0.47238):\n",
    "    if mean and sigma:\n",
    "        log_mean = np.log(mean) - .5*np.log(((sigma/mean)**2)+1)\n",
    "        log_sigma = np.sqrt(np.log((sigma/mean)**2 + 1))\n",
    "        \n",
    "    return np.ceil(np.random.lognormal(mean=log_mean, sigma=log_sigma))\n",
    "\n",
    "def needs_hospitalization(chance_of_hosp = 0.05):\n",
    "    return np.random.random() < chance_of_hosp\n",
    "    \n",
    "def onset_to_hosp(mean_living = None, sigma_living = None,\n",
    "                  mean_dead = None, sigma_dead = None,\n",
    "                  shape_living=0.61735, scale_living=5.34545,\n",
    "                  shape_dead=109.91155, scale_dead=0.05914,\n",
    "                  survival_rate=.65, living = -1):\n",
    "    \n",
    "    if living == -1:\n",
    "        living = np.random.random() < survival_rate\n",
    "    \n",
    "    if living:\n",
    "        if mean_living and sigma_living:\n",
    "            shape_living = (mean_living**2)/(sigma_living**2)\n",
    "            scale_living = (sigma_living**2)/mean_living\n",
    "        return np.ceil(np.random.gamma(shape_living, scale_living))\n",
    "    \n",
    "    else:\n",
    "        if mean_dead and sigma_dead:\n",
    "            shape_dead = (mean_dead**2)/(sigma_dead**2)\n",
    "            scale_dead = (sigma_dead**2)/mean_dead\n",
    "        return np.ceil(np.random.gamma(shape_living, scale_living))\n",
    "        \n",
    "def time_of_recovery(mean=None, sigma=None, shape=1.72051, scale=9.98274):\n",
    "    if mean and sigma:\n",
    "        shape = (sd/mean)**(-1.086)\n",
    "        scale = mean/(gamma_func(1 + 1/shape))\n",
    "        \n",
    "    return np.ceil(weibull_min.rvs(c = shape, scale=scale))\n",
    "\n",
    "    \n",
    "def infection_timeline(day):\n",
    "    timeline = {}\n",
    "    timeline['infection_day'] = day\n",
    "    timeline['end_of_incubation'] = day + incubation_period()\n",
    "    timeline['contacts_infected'] = 0\n",
    "    timeline['status'] = 'exposed'\n",
    "    if needs_hospitalization():\n",
    "        timeline['hospitalization'] = timeline['end_of_incubation'] + onset_to_hosp()\n",
    "        timeline['removed'] = timeline['hospitalization'] + time_of_recovery()\n",
    "    else:\n",
    "        timeline['hospitalization'] = -1\n",
    "        timeline['removed'] = timeline['end_of_incubation'] + onset_to_hosp(living=False)\n",
    "    return timeline"
   ]
  },
  {
   "cell_type": "code",
   "execution_count": 4,
   "metadata": {},
   "outputs": [],
   "source": [
    "def update_node_status(node, day):\n",
    "    if node['infection_day'] != -1 and node['status'] != 'removed':\n",
    "        if day >= node['end_of_incubation']:\n",
    "            if node['hospitalization'] == -1:\n",
    "                if day < node['removed']:\n",
    "                    node['status'] = 'infected'\n",
    "                else:\n",
    "                    node['status'] = 'removed'\n",
    "            elif day < node['hospitalization']:\n",
    "                node['status'] = 'infected'\n",
    "            elif day < node['removed']:\n",
    "                node['status'] = 'hospitalized'\n",
    "            else: \n",
    "                node['status'] = 'removed'"
   ]
  },
  {
   "cell_type": "code",
   "execution_count": 16,
   "metadata": {},
   "outputs": [
    {
     "name": "stdout",
     "output_type": "stream",
     "text": [
      "{'infection_day': 0, 'end_of_incubation': 3.0, 'contacts_infected': 0, 'status': 'exposed', 'hospitalization': 8.0, 'removed': 11.0}\n",
      "1: exposed\n",
      "2: exposed\n",
      "3: infected\n",
      "4: infected\n",
      "5: infected\n",
      "6: infected\n",
      "7: infected\n",
      "8: hospitalized\n",
      "9: hospitalized\n",
      "10: hospitalized\n",
      "11: removed\n"
     ]
    }
   ],
   "source": [
    "node = infection_timeline(0)\n",
    "node['status'] = 'exposed'\n",
    "print(node)\n",
    "for i in range(1, 100):\n",
    "    if node['status'] == 'removed': break\n",
    "    update_node_status(node, i)\n",
    "    print(f\"{i}: {node['status']}\")"
   ]
  },
  {
   "cell_type": "code",
   "execution_count": 6,
   "metadata": {},
   "outputs": [],
   "source": [
    "import os\n",
    "os.chdir(\"../../\")\n",
    "\n",
    "import numpy as np\n",
    "from src.visualization.graph_plot_utils import plot_graph, plot_infection\n",
    "import collections, functools, operator \n",
    "import pandas as pd\n",
    "import matplotlib.pyplot as plt\n",
    "import seaborn as sns\n",
    "import networkx as nx"
   ]
  },
  {
   "cell_type": "code",
   "execution_count": 7,
   "metadata": {},
   "outputs": [],
   "source": [
    "# Start with pct% of population infected\n",
    "def init_graph(initial_infection = .05, graph_model = 'relaxed_caveman', pop_size = 1000):\n",
    "    if graph_model == 'relaxed_caveman':\n",
    "        G = nx.relaxed_caveman_graph(int(pop_size/4), 4, 0.25, seed=42)\n",
    "    elif graph_model == 'scale_free':\n",
    "        G = nx.scale_free_graph(pop_size)\n",
    "    else:\n",
    "        raise ValueError(\"Unknown graph type\")\n",
    "        \n",
    "    init_infection(G, initial_infection)\n",
    "\n",
    "    return G\n",
    "\n",
    "def init_parameters(initial_infection, graph_model):\n",
    "    G = init_graph(initial_infection, graph_model)\n",
    "    \n",
    "    status = current_status(G)\n",
    "    \n",
    "    pop = len(G.nodes)\n",
    "    i = status['infected'] / pop\n",
    "    s = (pop - i) / pop\n",
    "    newly_infected = status['infected']\n",
    "    r, contacts_infected = 0, 0\n",
    "\n",
    "    data = [[s,i, r, newly_infected, contacts_infected]]\n",
    "\n",
    "    return G, data, status, pop\n",
    "\n",
    "def init_infection(G, pct):\n",
    "    \"\"\"\n",
    "    Given a Graph G, infects pct% of population and set the remainder as susceptible.\n",
    "    This is considered day 0.\n",
    "    \"\"\"\n",
    "    size = int(len(G.nodes) * pct) \n",
    "    infected = np.random.choice(G.nodes, size = size)\n",
    "    \n",
    "    for node in G.nodes():\n",
    "        if node in infected: \n",
    "            G.nodes[node].update(infection_timeline(0))\n",
    "        else:\n",
    "            G.nodes[node].update({'status': 'susceptible', \n",
    "                                  'infection_day' : -1, \n",
    "                                  'contacts_infected': 0})\n",
    "\n",
    "\n",
    "\n",
    "def recover_one_step(G, day):\n",
    "    \"\"\"\n",
    "    Recover everyone that has been infected recover_time days or more\n",
    "    \"\"\"\n",
    "\n",
    "    for node, adjacencies in enumerate(G.adjacency()):\n",
    "        update_node_status(G.nodes[node], day)\n",
    "\n",
    "\n",
    "def spread_one_step(G, day, p_r = 0.5, lambda_leak = 0.05):\n",
    "    \"\"\"\n",
    "    Spreads the infection 1 step, to the susceptible neighbours of infected people\n",
    "    day is current day\n",
    "    \"\"\"\n",
    "    newly_infected = []\n",
    "       \n",
    "    for node, adjacencies in enumerate(G.adjacency()):\n",
    "        if G.nodes[node]['status'] == 'susceptible':\n",
    "            if np.random.random() < lambda_leak:\n",
    "                newly_infected.append(node)    \n",
    "            else:\n",
    "                for contact in adjacencies[1].keys():\n",
    "                    if G.nodes[contact]['status'] == 'infected' and np.random.random() < p_r:\n",
    "                            newly_infected.append(node)\n",
    "                            G.nodes[contact]['contacts_infected'] += 1\n",
    "                            break  \n",
    "        \n",
    "    for node in np.unique(newly_infected):\n",
    "        G.nodes[node].update(infection_timeline(day))\n",
    "        \n",
    "    return len(newly_infected)\n",
    "\n",
    "\n",
    "def simulate_one_step(G, day, recover_time=12, p_r=0.5, infectious_window=[4,6]):\n",
    "    \"\"\"\n",
    "    Recover and Spread one step\n",
    "    \"\"\"\n",
    "    recover_one_step(G, day, recover_time)\n",
    "    newly_infected =  spread_one_step(G, day, p_r, infectious_window)\n",
    "    return newly_infected\n",
    "\n",
    "def current_status(G):\n",
    "    \"\"\"\n",
    "    Returns a dict containing the current status of susceptible, infected and recovered\n",
    "    \"\"\"\n",
    "    nodes = np.array(G.nodes(data=True))[:,1]\n",
    "    result = collections.Counter(node['status'] for node in nodes)\n",
    "    return result\n",
    "    \n",
    "    \n",
    "def simulate_pandemic(initial_infection=.05, recover_time=12, p_r=.5, \n",
    "                          lambda_leak=.05, graph_model = 'relaxed_caveman'):\n",
    "    \"\"\"\n",
    "    Runs the course of the pandemic from the start until\n",
    "    less than 1% of the population is simultaneously infected or no one is infected\n",
    "    \"\"\"\n",
    "    \n",
    "    G, data, status, pop = init_parameters(initial_infection, graph_model)\n",
    "\n",
    "    day = 0\n",
    "    while (status['removed']+status['susceptible'])<pop:\n",
    "        day +=1\n",
    "        \n",
    "        recover_one_step(G, day)\n",
    "        \n",
    "        newly_infected = spread_one_step(G, day, p_r, lambda_leak)\n",
    "       \n",
    "        status = current_status(G)\n",
    "        i = status['infected'] / pop\n",
    "        x = status['exposed'] / pop\n",
    "        s = status['susceptible'] / pop\n",
    "        r = status['removed'] / pop\n",
    "        h = status['hospitalized'] / pop\n",
    "        \n",
    "        contacts_infected = [node['contacts_infected'] for i, node in G.nodes(data=True) if node['status'] == 'recovered']\n",
    "        if len(contacts_infected) > 0: \n",
    "            contacts_infected = np.mean(contacts_infected)\n",
    "        else:\n",
    "            contacts_infected = np.nan\n",
    "        data.append([s, i, x, r, h, newly_infected, contacts_infected])\n",
    "    columns = ['susceptible', 'infected', 'exposed',\n",
    "               'removed', 'hospitalized', 'newly_infected', 'contacts_infected_mean']\n",
    "\n",
    "    time_series = pd.DataFrame(data, columns=columns)\n",
    "    \n",
    "    return time_series\n"
   ]
  },
  {
   "cell_type": "code",
   "execution_count": 8,
   "metadata": {},
   "outputs": [
    {
     "data": {
      "image/png": "[encoded data removed]",
      "text/plain": [
       "<Figure size 432x288 with 1 Axes>"
      ]
     },
     "metadata": {
      "needs_background": "light"
     },
     "output_type": "display_data"
    }
   ],
   "source": [
    "time_series = simulate_pandemic(p_r = 0.5, lambda_leak=.01)\n",
    "\n",
    "plt.plot(time_series.index, time_series['susceptible'], label = 'susceptible')\n",
    "plt.plot(time_series.index, time_series['infected'] + time_series['exposed'],\n",
    "         label = 'infected + exposed')\n",
    "plt.plot(time_series.index, time_series['removed'], label = 'recovered')\n",
    "plt.legend()\n",
    "plt.title('Relaxed Caveman')\n",
    "plt.show()"
   ]
  },
  {
   "cell_type": "code",
   "execution_count": 69,
   "metadata": {},
   "outputs": [],
   "source": [
    "exposed = np.zeros(1000)\n",
    "day = 0\n",
    "while not all(exposed):\n",
    "    day += 1\n",
    "    for x,p in enumerate(exposed):\n",
    "        if not exposed[x]:\n",
    "            if np.random.random() < 1/6 or day > 20:\n",
    "                exposed[x] = day              "
   ]
  },
  {
   "cell_type": "code",
   "execution_count": 70,
   "metadata": {},
   "outputs": [
    {
     "data": {
      "text/plain": [
       "<matplotlib.axes._subplots.AxesSubplot at 0x205b5034808>"
      ]
     },
     "execution_count": 70,
     "metadata": {},
     "output_type": "execute_result"
    },
    {
     "data": {
      "image/png": "[encoded data removed]",
      "text/plain": [
       "<Figure size 432x288 with 1 Axes>"
      ]
     },
     "metadata": {
      "needs_background": "light"
     },
     "output_type": "display_data"
    }
   ],
   "source": [
    "import seaborn as sns\n",
    "sns.distplot(exposed)"
   ]
  },
  {
   "cell_type": "code",
   "execution_count": 72,
   "metadata": {},
   "outputs": [
    {
     "data": {
      "text/plain": [
       "4.0"
      ]
     },
     "execution_count": 72,
     "metadata": {},
     "output_type": "execute_result"
    }
   ],
   "source": [
    "np.median(exposed)"
   ]
  },
  {
   "cell_type": "code",
   "execution_count": null,
   "metadata": {},
   "outputs": [],
   "source": []
  }
 ],
 "metadata": {
  "kernelspec": {
   "display_name": "Python 3",
   "language": "python",
   "name": "python3"
  },
  "language_info": {
   "codemirror_mode": {
    "name": "ipython",
    "version": 3
   },
   "file_extension": ".py",
   "mimetype": "text/x-python",
   "name": "python",
   "nbconvert_exporter": "python",
   "pygments_lexer": "ipython3",
   "version": "3.7.7"
  }
 },
 "nbformat": 4,
 "nbformat_minor": 4
}
