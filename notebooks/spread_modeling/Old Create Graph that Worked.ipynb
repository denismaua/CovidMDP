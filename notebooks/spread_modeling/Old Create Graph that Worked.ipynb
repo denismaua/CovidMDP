{
 "cells": [
  {
   "cell_type": "code",
   "execution_count": 3,
   "metadata": {},
   "outputs": [
    {
     "name": "stdout",
     "output_type": "stream",
     "text": [
      " Volume in drive C is Windows\n",
      " Volume Serial Number is E6E0-67EF\n",
      "\n",
      " Directory of C:\\Users\\GuilhermeYambanisTho\\Desktop\\IME\\CovidMDP\\notebooks\\spread_modeling\n",
      "\n",
      "05/18/2020  10:29 PM    <DIR>          .\n",
      "05/18/2020  10:29 PM    <DIR>          ..\n",
      "05/18/2020  10:27 PM    <DIR>          .ipynb_checkpoints\n",
      "05/13/2020  06:09 PM            22,179 Automated Planning Modeling.ipynb\n",
      "05/18/2020  10:29 PM             4,406 Old Create Graph that Worked.ipynb\n",
      "04/29/2020  08:15 PM            43,583 Recovery model.ipynb\n",
      "05/15/2020  12:14 PM            90,133 Recovery Modeling.ipynb\n",
      "04/27/2020  10:49 PM           229,044 Relaxed Caveman Spread.ipynb\n",
      "05/13/2020  10:53 AM           141,842 sigmoid lambda.ipynb\n",
      "05/13/2020  09:48 AM         3,598,276 Simple policy implementation.ipynb\n",
      "04/26/2020  01:46 PM           105,282 spreadRelaxedCaveman.png\n",
      "05/13/2020  10:54 AM           126,948 Testing Replicability.ipynb\n",
      "05/15/2020  10:01 PM             1,991 time series plot test.ipynb\n",
      "              10 File(s)      4,363,684 bytes\n",
      "               3 Dir(s)  372,940,996,608 bytes free\n"
     ]
    }
   ],
   "source": [
    "!dir"
   ]
  },
  {
   "cell_type": "code",
   "execution_count": 4,
   "metadata": {},
   "outputs": [
    {
     "name": "stderr",
     "output_type": "stream",
     "text": [
      "  0%|                                                                              | 16/21708 [00:00<02:16, 158.83it/s]"
     ]
    },
    {
     "name": "stdout",
     "output_type": "stream",
     "text": [
      "Adicionando Pessoas\n",
      "55492\n",
      "0\n",
      "**************************************************\n",
      "Adicionando Vertices de Casas\n"
     ]
    },
    {
     "name": "stderr",
     "output_type": "stream",
     "text": [
      "100%|███████████████████████████████████████████████████████████████████████████| 21708/21708 [02:12<00:00, 163.45it/s]\n",
      "  1%|▋                                                                                 | 3/339 [00:00<00:14, 23.86it/s]"
     ]
    },
    {
     "name": "stdout",
     "output_type": "stream",
     "text": [
      "55492\n",
      "61634\n",
      "**************************************************\n"
     ]
    },
    {
     "name": "stderr",
     "output_type": "stream",
     "text": [
      "100%|███████████████████████████████████████████████████████████████████████████████| 339/339 [00:01<00:00, 224.53it/s]\n",
      "  3%|██▋                                                                              | 11/336 [00:00<00:03, 93.72it/s]"
     ]
    },
    {
     "name": "stdout",
     "output_type": "stream",
     "text": [
      "55492\n",
      "155827\n",
      "**************************************************\n"
     ]
    },
    {
     "name": "stderr",
     "output_type": "stream",
     "text": [
      "100%|███████████████████████████████████████████████████████████████████████████████| 336/336 [00:00<00:00, 386.89it/s]\n"
     ]
    },
    {
     "name": "stdout",
     "output_type": "stream",
     "text": [
      "55492\n",
      "253611\n",
      "**************************************************\n"
     ]
    }
   ],
   "source": [
    "import pyreadstat\n",
    "import pandas as pd\n",
    "import numpy as np\n",
    "import networkx as nx\n",
    "import warnings\n",
    "import itertools\n",
    "from tqdm import tqdm\n",
    "\n",
    "\n",
    "df, meta = pyreadstat.read_sav(\"..\\\\..\\\\data\\\\raw\\\\OD 2017\\\\Banco de dados\\\\OD_2017.sav\")\n",
    "df.drop_duplicates(subset=['zona', 'zona_esc', 'zonatra1', 'id_pess'], inplace=True)\n",
    "\n",
    "df = df[df['muni_dom'] == 36]\n",
    "max_zona = int(df.zona.max())\n",
    "\n",
    "trab_esc = df[['zona', 'zona_esc', 'zonatra1', 'id_pess', 'id_dom', 'idade', 'renda_fa']].copy()\n",
    "trab_esc.rename(columns={'zona':'home_zone',\n",
    "                        'zona_esc':'school',\n",
    "                        'zonatra1':'work',\n",
    "                        'id_pess': 'id', 'id_dom': 'house_id'}, inplace=True)\n",
    "\n",
    "trab_esc = trab_esc[~(trab_esc['work'] > max_zona) & \n",
    "        ~(trab_esc['school'] > max_zona) & ~(trab_esc['home_zone'] > max_zona)].reset_index(drop=True)\n",
    "\n",
    "quantile = 1 - 5730524/12038175\n",
    "\n",
    "def has_private_healthcare(family_income):\n",
    "    return family_income >= 4000\n",
    "\n",
    "trab_esc['private_healthcare'] = trab_esc['renda_fa'].apply(has_private_healthcare)\n",
    "\n",
    "G = nx.Graph()\n",
    "\n",
    "def add_person_to_graph(person):\n",
    "    G.add_node(person['id'],\n",
    "               work = person['work'],\n",
    "               school = person['school'],\n",
    "               home = person['home_zone'],\n",
    "               age = person['idade'],\n",
    "               private_healthcare = person['private_healthcare']\n",
    "    )    \n",
    "    \n",
    "trab_esc.apply(add_person_to_graph, axis=1)\n",
    "print('Adicionando Pessoas')\n",
    "print(len(G.nodes))\n",
    "print(len(G.edges))\n",
    "print(50*'*')\n",
    "\n",
    "print('Adicionando Vertices de Casas')\n",
    "\n",
    "def add_edge(person1, person2, edge_type, edge_zone):\n",
    "        G.add_edge(person1, person2, edge_type=edge_type, zone=edge_zone)\n",
    "        \n",
    "for h in tqdm(trab_esc['house_id'].unique()):\n",
    "    tmp = trab_esc[trab_esc['house_id'] == h]\n",
    "    zone = tmp['home_zone'].value_counts().index[0]\n",
    "    if len(tmp) > 1:\n",
    "        for p1, p2 in list(itertools.combinations(tmp['id'].values, 2)):\n",
    "            add_edge(p1, p2, 'house', zone)\n",
    "\n",
    "\n",
    "print(len(G.nodes))\n",
    "print(len(G.edges))\n",
    "print(50*'*')\n",
    "\n",
    "for w in tqdm(trab_esc['work'].unique()):\n",
    "    if pd.notna(w):\n",
    "        tmp = trab_esc[trab_esc['work'] == w]\n",
    "        zone = tmp['work'].value_counts().index[0]\n",
    "\n",
    "        if len(tmp) > 1:\n",
    "            possible_combinations = np.array(list(itertools.combinations(tmp['id'].values, 2)))\n",
    "            size_comb = int(len(possible_combinations))\n",
    "            index_combs = np.random.choice(size_comb, size=int(size_comb*.05))\n",
    "            real_combs = possible_combinations[index_combs]        \n",
    "            for p1, p2 in real_combs:\n",
    "                add_edge(p1, p2, 'work', zone)\n",
    "                \n",
    "print(len(G.nodes))\n",
    "print(len(G.edges))\n",
    "print(50*'*')\n",
    "\n",
    "for s in tqdm(trab_esc['school'].unique()):\n",
    "    if pd.notna(s):\n",
    "        tmp = trab_esc[trab_esc['school'] == s]\n",
    "        zone = tmp['school'].value_counts().index[0]\n",
    "\n",
    "        if len(tmp) > 1:\n",
    "            possible_combinations = np.array(list(itertools.combinations(tmp['id'].values, 2)))\n",
    "            size_comb = int(len(possible_combinations))\n",
    "            index_combs = np.random.choice(size_comb, size=int(size_comb*.25))\n",
    "            real_combs = possible_combinations[index_combs]        \n",
    "            for p1, p2 in real_combs:\n",
    "                add_edge(p1, p2, 'school', zone)\n",
    "                \n",
    "print(len(G.nodes))\n",
    "print(len(G.edges))\n",
    "print(50*'*')\n",
    "\n",
    "nx.write_gpickle(G, 'Grafo_Zonas_SP.gpickle')"
   ]
  }
 ],
 "metadata": {
  "kernelspec": {
   "display_name": "Python 3",
   "language": "python",
   "name": "python3"
  },
  "language_info": {
   "codemirror_mode": {
    "name": "ipython",
    "version": 3
   },
   "file_extension": ".py",
   "mimetype": "text/x-python",
   "name": "python",
   "nbconvert_exporter": "python",
   "pygments_lexer": "ipython3",
   "version": "3.7.7"
  }
 },
 "nbformat": 4,
 "nbformat_minor": 4
}
