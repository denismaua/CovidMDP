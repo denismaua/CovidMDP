{
 "cells": [
  {
   "cell_type": "code",
   "execution_count": 1,
   "metadata": {},
   "outputs": [
    {
     "name": "stderr",
     "output_type": "stream",
     "text": [
      "\n",
      "Bad key \"text.kerning_factor\" on line 4 in\n",
      "C:\\Users\\GuilhermeYambanisTho\\.conda\\envs\\cmdp\\lib\\site-packages\\matplotlib\\mpl-data\\stylelib\\_classic_test_patch.mplstyle.\n",
      "You probably need to get an updated matplotlibrc file from\n",
      "https://github.com/matplotlib/matplotlib/blob/v3.1.3/matplotlibrc.template\n",
      "or from the matplotlib source distribution\n"
     ]
    }
   ],
   "source": [
    "import os\n",
    "os.chdir(\"../../\")\n",
    "\n",
    "import numpy as np\n",
    "from src.visualization.graph_plot_utils import plot_graph, plot_infection\n",
    "import collections, functools, operator \n",
    "import pandas as pd\n",
    "import matplotlib.pyplot as plt\n",
    "import seaborn as sns\n",
    "import networkx as nx\n",
    "import plotly.graph_objects as go\n"
   ]
  },
  {
   "cell_type": "code",
   "execution_count": 2,
   "metadata": {},
   "outputs": [],
   "source": [
    "# Start with pct% of population infected\n",
    "def init_graph(initial_infection = .05, graph_model = 'relaxed_caveman', pop_size = 1000):\n",
    "    if graph_model == 'relaxed_caveman':\n",
    "        G = nx.relaxed_caveman_graph(int(pop_size/4), 4, 0.25)\n",
    "    elif graph_model == 'scale_free':\n",
    "        G = nx.scale_free_graph(pop_size)\n",
    "    else:\n",
    "        raise ValueError(\"Unknown graph type\")\n",
    "        \n",
    "    init_infection(G, initial_infection)\n",
    "\n",
    "    return G\n",
    "\n",
    "def init_parameters(initial_infection, graph_model, pop_size = 1000):\n",
    "    G = init_graph(initial_infection, graph_model, pop_size)\n",
    "    \n",
    "    status = current_status(G)\n",
    "    \n",
    "    pop = len(G.nodes)\n",
    "    i = status['infected'] / pop\n",
    "    s = (pop - i) / pop\n",
    "    newly_infected = status['infected']\n",
    "    r, contacts_infected = 0, 0\n",
    "\n",
    "    data = [[s,i, r, newly_infected, contacts_infected]]\n",
    "\n",
    "    return G, data, status, pop\n",
    "\n",
    "def init_infection(G, pct):\n",
    "    \"\"\"\n",
    "    Given a Graph G, infects pct% of population and set the remainder as susceptible.\n",
    "    This is considered day 0.\n",
    "    \"\"\"\n",
    "    size = int(len(G.nodes) * pct) \n",
    "    infected = np.random.choice(G.nodes, size = size)\n",
    "    \n",
    "    for node in G.nodes():\n",
    "        if node in infected: \n",
    "            G.nodes[node].update({'status' : 'infected',\n",
    "                                  'infection_day': 0, \n",
    "                                  'contacts_infected': 0})\n",
    "        else:\n",
    "            G.nodes[node].update({'status': 'susceptible', \n",
    "                                  'infection_day' : -1, \n",
    "                                  'contacts_infected': 0})\n",
    "\n",
    "\n",
    "\n",
    "def recover_one_step(G, day, recover_time = 12):\n",
    "    \"\"\"\n",
    "    Recover everyone that has been infected recover_time days or more\n",
    "    \"\"\"\n",
    "\n",
    "    for node, adjacencies in enumerate(G.adjacency()):\n",
    "        if G.nodes[node]['status'] == 'infected':\n",
    "            if np.random.random() < 1/15:\n",
    "                G.nodes[node]['status'] = 'recovered'\n",
    "            #if day - G.nodes[node]['infection_day'] >= recover_time: \n",
    "            #    G.nodes[node]['status'] = 'recovered'\n",
    "\n",
    "def spread_one_step(G, day, p_r = 0.5, lambda_leak = 0.05):\n",
    "    \"\"\"\n",
    "    Spreads the infection 1 step, to the susceptible neighbours of infected people\n",
    "    day is current day\n",
    "    \"\"\"\n",
    "    newly_infected = []\n",
    "       \n",
    "    for node, adjacencies in enumerate(G.adjacency()):\n",
    "        if G.nodes[node]['status'] == 'susceptible':\n",
    "            if np.random.random() < lambda_leak:\n",
    "                newly_infected.append(node)    \n",
    "            else:\n",
    "                for contact in adjacencies[1].keys():\n",
    "                    if G.nodes[contact]['status'] == 'infected' and np.random.random() < p_r:\n",
    "                            newly_infected.append(node)\n",
    "                            G.nodes[contact]['contacts_infected'] += 1\n",
    "                            break  \n",
    "        \n",
    "    for node in np.unique(newly_infected):\n",
    "        G.nodes[node].update({'status' : 'infected', 'infection_day': day})\n",
    "        \n",
    "    return len(newly_infected)\n",
    "\n",
    "\n",
    "def simulate_one_step(G, day, recover_time=12, p_r=0.5, infectious_window=[4,6]):\n",
    "    \"\"\"\n",
    "    Recover and Spread one step\n",
    "    \"\"\"\n",
    "    recover_one_step(G, day, recover_time)\n",
    "    newly_infected =  spread_one_step(G, day, p_r, infectious_window)\n",
    "    return newly_infected\n",
    "\n",
    "def current_status(G):\n",
    "    \"\"\"\n",
    "    Returns a dict containing the current status of susceptible, infected and recovered\n",
    "    \"\"\"\n",
    "    nodes = np.array(G.nodes(data=True))[:,1]\n",
    "    result = collections.Counter(node['status'] for node in nodes)\n",
    "    return result\n",
    "    \n",
    "    \n",
    "def simulate_pandemic(initial_infection=.05, recover_time=12, p_r=.5, \n",
    "                          lambda_leak=.05, graph_model = 'relaxed_caveman', pop_size = 1000):\n",
    "    \"\"\"\n",
    "    Runs the course of the pandemic from the start until\n",
    "    less than 1% of the population is simultaneously infected or no one is infected\n",
    "    \"\"\"\n",
    "    \n",
    "    G, data, status, pop = init_parameters(initial_infection, graph_model, pop_size)\n",
    "\n",
    "    day = 0\n",
    "    #while status['infected']>(.00001*pop) and  (status['recovered']+status['susceptible'])<pop:\n",
    "    while (status['recovered']+status['susceptible'])<pop:\n",
    "    \n",
    "        day +=1\n",
    "        \n",
    "        recover_one_step(G, day, recover_time)\n",
    "        \n",
    "        newly_infected = spread_one_step(G, day, p_r, lambda_leak)\n",
    "       \n",
    "        status = current_status(G)\n",
    "        i = status['infected'] / pop\n",
    "        s = status['susceptible'] / pop\n",
    "        r = status['recovered'] / pop\n",
    "        \n",
    "        contacts_infected = [node['contacts_infected'] for i, node in G.nodes(data=True) if node['status'] == 'recovered']\n",
    "        if len(contacts_infected) > 0: \n",
    "            contacts_infected = np.mean(contacts_infected)\n",
    "        else:\n",
    "            contacts_infected = np.nan\n",
    "        data.append([s, i, r, newly_infected, contacts_infected])\n",
    "    columns = ['susceptible', 'infected', 'recovered', 'newly_infected', 'contacts_infected_mean']\n",
    "\n",
    "    time_series = pd.DataFrame(data, columns=columns)\n",
    "    \n",
    "    return time_series\n"
   ]
  },
  {
   "cell_type": "code",
   "execution_count": 3,
   "metadata": {
    "scrolled": false
   },
   "outputs": [
    {
     "ename": "TypeError",
     "evalue": "object of type 'int' has no len()",
     "output_type": "error",
     "traceback": [
      "\u001b[1;31m---------------------------------------------------------------------------\u001b[0m",
      "\u001b[1;31mTypeError\u001b[0m                                 Traceback (most recent call last)",
      "\u001b[1;32m<ipython-input-3-525b85887411>\u001b[0m in \u001b[0;36m<module>\u001b[1;34m\u001b[0m\n\u001b[0;32m      1\u001b[0m \u001b[0mG\u001b[0m \u001b[1;33m=\u001b[0m \u001b[0minit_graph\u001b[0m\u001b[1;33m(\u001b[0m\u001b[0minitial_infection\u001b[0m \u001b[1;33m=\u001b[0m \u001b[1;36m.05\u001b[0m\u001b[1;33m,\u001b[0m \u001b[0mgraph_model\u001b[0m \u001b[1;33m=\u001b[0m \u001b[1;34m'relaxed_caveman'\u001b[0m\u001b[1;33m,\u001b[0m \u001b[0mpop_size\u001b[0m\u001b[1;33m=\u001b[0m\u001b[1;36m100\u001b[0m\u001b[1;33m)\u001b[0m\u001b[1;33m\u001b[0m\u001b[1;33m\u001b[0m\u001b[0m\n\u001b[1;32m----> 2\u001b[1;33m \u001b[0mplot_graph\u001b[0m\u001b[1;33m(\u001b[0m\u001b[0mG\u001b[0m\u001b[1;33m)\u001b[0m\u001b[1;33m\u001b[0m\u001b[1;33m\u001b[0m\u001b[0m\n\u001b[0m",
      "\u001b[1;32m~\\Desktop\\IME\\CovidMDP\\src\\visualization\\graph_plot_utils.py\u001b[0m in \u001b[0;36mplot_graph\u001b[1;34m(G)\u001b[0m\n\u001b[0;32m     58\u001b[0m     \u001b[1;32mfor\u001b[0m \u001b[0mn\u001b[0m\u001b[1;33m,\u001b[0m \u001b[0mdeg\u001b[0m \u001b[1;32min\u001b[0m \u001b[0mG\u001b[0m\u001b[1;33m.\u001b[0m\u001b[0mdegree\u001b[0m\u001b[1;33m(\u001b[0m\u001b[1;33m)\u001b[0m\u001b[1;33m:\u001b[0m\u001b[1;33m\u001b[0m\u001b[1;33m\u001b[0m\u001b[0m\n\u001b[0;32m     59\u001b[0m         \u001b[0mnode_adjacencies\u001b[0m\u001b[1;33m.\u001b[0m\u001b[0mappend\u001b[0m\u001b[1;33m(\u001b[0m\u001b[0mdeg\u001b[0m\u001b[1;33m)\u001b[0m\u001b[1;33m\u001b[0m\u001b[1;33m\u001b[0m\u001b[0m\n\u001b[1;32m---> 60\u001b[1;33m         \u001b[0mnode_text\u001b[0m\u001b[1;33m.\u001b[0m\u001b[0mappend\u001b[0m\u001b[1;33m(\u001b[0m\u001b[1;34m'# of connections: '\u001b[0m\u001b[1;33m+\u001b[0m\u001b[0mstr\u001b[0m\u001b[1;33m(\u001b[0m\u001b[0mlen\u001b[0m\u001b[1;33m(\u001b[0m\u001b[0mdeg\u001b[0m\u001b[1;33m)\u001b[0m\u001b[1;33m)\u001b[0m\u001b[1;33m)\u001b[0m\u001b[1;33m\u001b[0m\u001b[1;33m\u001b[0m\u001b[0m\n\u001b[0m\u001b[0;32m     61\u001b[0m \u001b[1;33m\u001b[0m\u001b[0m\n\u001b[0;32m     62\u001b[0m     \u001b[0mnode_trace\u001b[0m\u001b[1;33m.\u001b[0m\u001b[0mmarker\u001b[0m\u001b[1;33m.\u001b[0m\u001b[0mcolor\u001b[0m \u001b[1;33m=\u001b[0m \u001b[0mnode_adjacencies\u001b[0m\u001b[1;33m\u001b[0m\u001b[1;33m\u001b[0m\u001b[0m\n",
      "\u001b[1;31mTypeError\u001b[0m: object of type 'int' has no len()"
     ]
    }
   ],
   "source": [
    "G = init_graph(initial_infection = .05, graph_model = 'relaxed_caveman', pop_size=100)\n",
    "plot_graph(G)"
   ]
  },
  {
   "cell_type": "code",
   "execution_count": null,
   "metadata": {},
   "outputs": [],
   "source": [
    "G = init_graph(initial_infection = .05, graph_model = 'relaxed_caveman', pop_size=100)\n",
    "\n",
    "fig = go.Figure(go.Histogram(x=[deg for n, deg in G.degree()], histnorm='probability'))\n",
    "fig.update_layout(title_text='Histogram of Connections per Node - Relaxed Caveman',\n",
    "                  xaxis_title_text='Connections', # xaxis label\n",
    "                  yaxis_title_text='Probability', # xaxis label\n",
    "\n",
    "                 )\n",
    "fig.show()\n",
    "fig.write_image('relaxed_caveman.png', format='png', scale=3)"
   ]
  },
  {
   "cell_type": "code",
   "execution_count": null,
   "metadata": {},
   "outputs": [],
   "source": [
    "#hist = sns.distplot([deg for n, deg in G.degree()], kde=False)\n",
    "#hist.set_xticks(range(1,6))\n",
    "\n",
    "\n",
    "counts = pd.Series([deg for n, deg in G.degree()]).value_counts()\n",
    "\n",
    "fig = go.Figure(go.Bar(x=counts.index.to_list(), y=counts.values))\n",
    "fig.update_layout(title_text='Average Connections per Node')\n",
    "fig.\n",
    "fig.show()\n"
   ]
  },
  {
   "cell_type": "code",
   "execution_count": null,
   "metadata": {
    "scrolled": false
   },
   "outputs": [],
   "source": [
    "G = init_graph(initial_infection = .05, graph_model = 'scale_free', pop_size=100)\n",
    "plot_graph(G)"
   ]
  },
  {
   "cell_type": "code",
   "execution_count": null,
   "metadata": {},
   "outputs": [],
   "source": [
    "!dir"
   ]
  },
  {
   "cell_type": "code",
   "execution_count": null,
   "metadata": {},
   "outputs": [],
   "source": [
    "G = init_graph(initial_infection = .05, graph_model = 'scale_free', pop_size=100)\n",
    "\n",
    "\n",
    "#counts = pd.Series([deg for n, deg in G.degree()]).value_counts()\n",
    "\n",
    "fig = go.Figure(go.Histogram(x=[deg for n, deg in G.degree()], \n",
    "                             histnorm='probability', xbins={'size':1}))\n",
    "fig.update_layout(title_text='Histogram of Connections per Node - Scale Free',\n",
    "                  xaxis_title_text='Connections', # xaxis label\n",
    "                  yaxis_title_text='Probability', # xaxis label\n",
    "\n",
    "                 )\n",
    "fig.write_image('scale_free_hist.png', format='png', scale=3)\n",
    "fig.show()\n"
   ]
  },
  {
   "cell_type": "code",
   "execution_count": null,
   "metadata": {},
   "outputs": [],
   "source": [
    "!dir"
   ]
  },
  {
   "cell_type": "code",
   "execution_count": null,
   "metadata": {},
   "outputs": [],
   "source": [
    "time_series = simulate_pandemic(p_r = 0.5, lambda_leak=.01, pop_size=5000, \n",
    "                                initial_infection = 1/5000)\n",
    "\n",
    "plt.plot(time_series.index, time_series['susceptible'], label = 'susceptible')\n",
    "plt.plot(time_series.index, time_series['infected'], label = 'infected')\n",
    "plt.plot(time_series.index, time_series['recovered'], label = 'recovered')\n",
    "plt.legend()\n",
    "plt.title('Relaxed Caveman')\n",
    "plt.savefig('relaxed_caveman_simulation.png', fromat='png', dpi = 300)\n",
    "plt.show()"
   ]
  },
  {
   "cell_type": "code",
   "execution_count": null,
   "metadata": {
    "scrolled": true
   },
   "outputs": [],
   "source": [
    "time_series = simulate_pandemic(graph_model='scale_free', p_r = .5, lambda_leak=.01, \n",
    "                                 pop_size  = 5000, initial_infection = 1/5000)\n",
    "\n",
    "plt.plot(time_series.index[:200], time_series['susceptible'][:200], label = 'susceptible')\n",
    "plt.plot(time_series.index[:200], time_series['infected'][:200], label = 'infected')\n",
    "plt.plot(time_series.index[:200], time_series['recovered'][:200], label = 'recovered')\n",
    "plt.legend()\n",
    "plt.title('Scale Free Network')\n",
    "plt.savefig('scale_free_simulation.png', format='png', dpi = 300)\n",
    "plt.show()"
   ]
  },
  {
   "cell_type": "code",
   "execution_count": null,
   "metadata": {},
   "outputs": [],
   "source": [
    "def get_beta_and_gamma(time_series):\n",
    "    \"\"\"\n",
    "    \n",
    "    \"\"\"\n",
    "    def gamma_t(current_t, next_t): \n",
    "        return (next_t['recovered'] - current_t['recovered'])/current_t['infected']\n",
    "    \n",
    "    def beta_t(current_t, next_t):\n",
    "        return (next_t['infected']-current_t['infected']+next_t['recovered']-current_t['recovered'])/current_t['infected']\n",
    "    \n",
    "    tmp = pd.concat([time_series, time_series.shift(-1)], axis=1)\n",
    "    \n",
    "    time_series['gamma'] = tmp.apply(lambda x: gamma_t(x[:int(len(x)/2)], x[int(len(x)/2):]), axis=1)\n",
    "    time_series['beta'] = tmp.apply(lambda x: beta_t(x[:int(len(x)/2)], x[int(len(x)/2):]), axis=1)\n",
    "    \n",
    "    return time_series"
   ]
  },
  {
   "cell_type": "code",
   "execution_count": null,
   "metadata": {},
   "outputs": [],
   "source": [
    "df = get_beta_and_gamma(time_series)"
   ]
  },
  {
   "cell_type": "code",
   "execution_count": null,
   "metadata": {},
   "outputs": [],
   "source": [
    "df['R0_t'] = df['beta'] / df['gamma']"
   ]
  },
  {
   "cell_type": "code",
   "execution_count": null,
   "metadata": {},
   "outputs": [],
   "source": [
    "df.describe()"
   ]
  },
  {
   "cell_type": "code",
   "execution_count": null,
   "metadata": {},
   "outputs": [],
   "source": [
    "df.describe()"
   ]
  },
  {
   "cell_type": "code",
   "execution_count": null,
   "metadata": {},
   "outputs": [],
   "source": [
    "plt.plot(df.index, df['R0_t'])"
   ]
  },
  {
   "cell_type": "markdown",
   "metadata": {},
   "source": [
    "# Incubation, Onset and Hospitalization periods\n",
    "\n",
    "## Incubation period\n",
    "\n",
    "Distribution: LogNormal\n",
    "\n",
    "Mean: 5.6, SD 2.8\n",
    "\n",
    "## Onset to Hospitalization\n",
    "\n",
    "Distribution: Gamma\n",
    "\n",
    "### Living Cases\n",
    "\n",
    "Mean: 3.3\n",
    "SD 4.2\n",
    "\n",
    "### Deceased Cases\n",
    "\n",
    "Mean: 6.5\n",
    "SD: 4.0\n",
    "\n",
    "## Hospitalization to Death\n",
    "\n",
    "Distribution: Weibull\n",
    "\n",
    "Mean: 8.9\n",
    "SD: 5.4"
   ]
  },
  {
   "cell_type": "code",
   "execution_count": null,
   "metadata": {},
   "outputs": [],
   "source": [
    "from numpy.random import lognormal, weibull\n",
    "import seaborn as sns"
   ]
  },
  {
   "cell_type": "code",
   "execution_count": null,
   "metadata": {},
   "outputs": [],
   "source": [
    "# INCUBATION PERIOD\n",
    "\n",
    "mean=5.6\n",
    "sigma=2.8\n",
    "\n",
    "log_mean = np.log(mean) - .5*np.log(((sigma/mean)**2)+1)\n",
    "log_sd = np.sqrt(np.log((sigma/mean)**2 + 1))\n",
    "\n",
    "incubation = lognormal(mean=log_mean, sigma=log_sd, size=10000)\n",
    "sns.distplot(incubation)\n",
    "plt.title('Incubation Period')\n",
    "plt.show()"
   ]
  },
  {
   "cell_type": "code",
   "execution_count": null,
   "metadata": {},
   "outputs": [],
   "source": [
    "# ONSET TO DEATH\n",
    "\n",
    "mean=14.5\n",
    "sigma=6.7\n",
    "\n",
    "log_mean = np.log(mean) - .5*np.log(((sigma/mean)**2)+1)\n",
    "log_sd = np.sqrt(np.log((sigma/mean)**2 + 1))\n",
    "\n",
    "onset_to_death = lognormal(mean=log_mean, sigma=log_sd, size=10000)\n",
    "sns.distplot(onset_to_death)\n",
    "plt.title('Onset to Death')\n",
    "plt.show()"
   ]
  },
  {
   "cell_type": "code",
   "execution_count": null,
   "metadata": {},
   "outputs": [],
   "source": [
    "from scipy import stats\n",
    "\n",
    "# Onset to Hospitalization - Living\n",
    "\n",
    "mean = 3.3\n",
    "sd = 4.2\n",
    "\n",
    "shape = (mean**2)/(sd**2)\n",
    "scale = (sd**2)/mean\n",
    "\n",
    "onset_to_hosp_living = np.random.gamma(shape, scale, 10000)\n",
    "sns.distplot(onset_to_hosp_living)\n",
    "plt.title('Onset to Hospitalization - Days (Living)')\n",
    "plt.show()"
   ]
  },
  {
   "cell_type": "code",
   "execution_count": null,
   "metadata": {},
   "outputs": [],
   "source": [
    "scale"
   ]
  },
  {
   "cell_type": "code",
   "execution_count": null,
   "metadata": {},
   "outputs": [],
   "source": [
    "from scipy import stats\n",
    "from scipy.special import gamma\n",
    "import numpy as np\n",
    "import seaborn as sns\n",
    "\n",
    "\n",
    "# Onset to Hospitalization - Decesead\n",
    "mean =  6.5\n",
    "sd = 0.62\n",
    "shape = (mean**2)/(sd**2)\n",
    "scale = (sd**2)/mean\n",
    "\n",
    "onset_to_hosp_dead = np.random.gamma(shape, scale, 10000)\n",
    "sns.distplot(onset_to_hosp_dead)\n",
    "plt.title('Onset to Hospitalization - Days (Deceased)')\n",
    "plt.show()"
   ]
  },
  {
   "cell_type": "code",
   "execution_count": null,
   "metadata": {},
   "outputs": [],
   "source": [
    "scale"
   ]
  },
  {
   "cell_type": "code",
   "execution_count": null,
   "metadata": {},
   "outputs": [],
   "source": [
    "# Hospitalization to Death\n",
    "\n",
    "mean = 8.9\n",
    "sd = 5.4\n",
    "\n",
    "shape = (sd/mean)**(-1.086)\n",
    "scale = mean/(gamma(1 + 1/shape))\n",
    "\n",
    "hosp_to_death = stats.weibull_min.rvs(c = shape, scale=scale, size=100000)\n",
    "sns.distplot(hosp_to_death)\n",
    "plt.title('Hospitalization to Death - Days')\n",
    "plt.show()"
   ]
  },
  {
   "cell_type": "code",
   "execution_count": null,
   "metadata": {},
   "outputs": [],
   "source": [
    "0 -> 6 -> 5\n",
    "0 -> 4 -> 7\n"
   ]
  },
  {
   "cell_type": "code",
   "execution_count": null,
   "metadata": {},
   "outputs": [],
   "source": [
    "np.random.random()"
   ]
  },
  {
   "cell_type": "code",
   "execution_count": null,
   "metadata": {},
   "outputs": [],
   "source": [
    "sns.distplot(np.random.gamma(6.5, 0.62, 10000))"
   ]
  },
  {
   "cell_type": "code",
   "execution_count": null,
   "metadata": {},
   "outputs": [],
   "source": [
    "from scipy.stats import gamma\n",
    "\n",
    "fig, ax = plt.subplots(1, 1)\n",
    "\n",
    "theta = 1/0.62\n",
    "a = 6.5\n",
    "\n",
    "mean, var, skew, kurt = gamma.stats(a, moments='mvsk')\n",
    "x = np.linspace(0, 20, 100)\n",
    "ax.plot(x, gamma.pdf(x, a=a, scale=theta, loc=-5),\n",
    "          'r-', lw=5, alpha=0.6, label='gamma pdf')"
   ]
  },
  {
   "cell_type": "code",
   "execution_count": null,
   "metadata": {},
   "outputs": [],
   "source": [
    "from scipy.stats import gamma\n",
    "\n",
    "fig, ax = plt.subplots(1, 1)\n",
    "\n",
    "theta = 0.62\n",
    "a = 6.5\n",
    "\n",
    "mean, var, skew, kurt = gamma.stats(a, moments='mvsk')\n",
    "x = np.linspace(0, 20, 100)\n",
    "ax.plot(x, gamma.pdf(x, a=a, scale=theta),\n",
    "          'r-', lw=5, alpha=0.6, label='gamma pdf')"
   ]
  },
  {
   "cell_type": "code",
   "execution_count": null,
   "metadata": {},
   "outputs": [],
   "source": [
    "a*k = 6.5?\n",
    "\n",
    "\n",
    "6.5 =  a * scale"
   ]
  },
  {
   "cell_type": "code",
   "execution_count": null,
   "metadata": {},
   "outputs": [],
   "source": [
    "mean = 6.5\n",
    "sd = 0.62\n",
    "\n",
    "theta = sd/mean\n",
    "k = mean/theta\n",
    "\n",
    "sns.distplot(np.random.gamma(k, theta, size = 10000))\n"
   ]
  },
  {
   "cell_type": "code",
   "execution_count": null,
   "metadata": {},
   "outputs": [],
   "source": [
    "sns.distplot(np.random.gamma(6.5*0.62, 1/0.62, size = 10000))"
   ]
  }
 ],
 "metadata": {
  "kernelspec": {
   "display_name": "Python 3",
   "language": "python",
   "name": "python3"
  },
  "language_info": {
   "codemirror_mode": {
    "name": "ipython",
    "version": 3
   },
   "file_extension": ".py",
   "mimetype": "text/x-python",
   "name": "python",
   "nbconvert_exporter": "python",
   "pygments_lexer": "ipython3",
   "version": "3.7.7"
  }
 },
 "nbformat": 4,
 "nbformat_minor": 4
}
